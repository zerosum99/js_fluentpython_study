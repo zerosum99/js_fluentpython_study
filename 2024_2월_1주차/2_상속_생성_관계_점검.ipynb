{
 "cells": [
  {
   "cell_type": "code",
   "execution_count": 1,
   "id": "fd4b1090",
   "metadata": {},
   "outputs": [
    {
     "data": {
      "text/plain": [
       "'3.11.3'"
      ]
     },
     "execution_count": 1,
     "metadata": {},
     "output_type": "execute_result"
    }
   ],
   "source": [
    "import platform\n",
    "\n",
    "platform.python_version()"
   ]
  },
  {
   "cell_type": "code",
   "execution_count": null,
   "id": "adf0695b",
   "metadata": {},
   "outputs": [],
   "source": []
  },
  {
   "cell_type": "markdown",
   "id": "3ec10dca",
   "metadata": {},
   "source": [
    "## 1. 서브클래스 관계 확인 "
   ]
  },
  {
   "cell_type": "markdown",
   "id": "d43eb5cf",
   "metadata": {},
   "source": [
    "## 1-1 issubclass() 함수 : 명목적 타이핑 처리  \n",
    "- 래스 상속 관계를 확인하는 데 사용됩니다. \n",
    "- 이 함수는 두 개의 인수를 취합니다: 첫 번째 인수는 확인하려는 클래스이고, 두 번째 인수는 기준이 되는 클래스입니다. \n",
    "- 함수는 첫 번째 클래스가 두 번째 클래스의 하위 클래스인지 여부를 결정합니다."
   ]
  },
  {
   "cell_type": "code",
   "execution_count": 2,
   "id": "bed6573e",
   "metadata": {},
   "outputs": [
    {
     "name": "stdout",
     "output_type": "stream",
     "text": [
      "True\n",
      "False\n"
     ]
    }
   ],
   "source": [
    "class Animal:\n",
    "    pass\n",
    "\n",
    "class Dog(Animal):\n",
    "    pass\n",
    "\n",
    "class Cat:\n",
    "    pass\n",
    "\n",
    "# Dog 클래스는 Animal 클래스의 하위 클래스인지 확인\n",
    "print(issubclass(Dog, Animal))  # 출력: True\n",
    "\n",
    "# Cat 클래스는 Animal 클래스의 하위 클래스인지 확인\n",
    "print(issubclass(Cat, Animal))   # 출력: False\n"
   ]
  },
  {
   "cell_type": "markdown",
   "id": "7ed0b843",
   "metadata": {},
   "source": [
    "### 부모 클래스 확인 "
   ]
  },
  {
   "cell_type": "code",
   "execution_count": 3,
   "id": "81ce0dc8",
   "metadata": {},
   "outputs": [
    {
     "data": {
      "text/plain": [
       "(__main__.Animal,)"
      ]
     },
     "execution_count": 3,
     "metadata": {},
     "output_type": "execute_result"
    }
   ],
   "source": [
    "Dog.__bases__"
   ]
  },
  {
   "cell_type": "code",
   "execution_count": 4,
   "id": "b1753a7c",
   "metadata": {},
   "outputs": [
    {
     "data": {
      "text/plain": [
       "(object,)"
      ]
     },
     "execution_count": 4,
     "metadata": {},
     "output_type": "execute_result"
    }
   ],
   "source": [
    "Cat.__bases__"
   ]
  },
  {
   "cell_type": "code",
   "execution_count": null,
   "id": "d3c4d022",
   "metadata": {},
   "outputs": [],
   "source": []
  },
  {
   "cell_type": "markdown",
   "id": "2c7172c9",
   "metadata": {},
   "source": [
    "## 1-2 스페셜 메서드 오버로딩 : 구조적 타이핑 처리 "
   ]
  },
  {
   "cell_type": "code",
   "execution_count": null,
   "id": "847d57aa",
   "metadata": {},
   "outputs": [],
   "source": []
  },
  {
   "cell_type": "code",
   "execution_count": 5,
   "id": "2157dea7",
   "metadata": {},
   "outputs": [],
   "source": [
    "from abc import ABCMeta, abstractmethod,ABC"
   ]
  },
  {
   "cell_type": "code",
   "execution_count": 6,
   "id": "41c86106",
   "metadata": {},
   "outputs": [
    {
     "name": "stdout",
     "output_type": "stream",
     "text": [
      "__abstractmethods__, __annotations__, __base__, __bases__, __basicsize__, __call__, __class__, __delattr__, __dict__, __dictoffset__, __dir__, __doc__, __eq__, __flags__, __format__, __ge__, __getattribute__, __getstate__, __gt__, __hash__, __init__, __init_subclass__, __instancecheck__, __itemsize__, __le__, __lt__, __module__, __mro__, __name__, __ne__, __new__, __or__, __prepare__, __qualname__, __reduce__, __reduce_ex__, __repr__, __ror__, __setattr__, __sizeof__, __str__, __subclasscheck__, __subclasses__, __subclasshook__, __text_signature__, __weakrefoffset__, _abc_caches_clear, _abc_registry_clear, _dump_registry, mro, register, "
     ]
    }
   ],
   "source": [
    "for i in dir(ABCMeta) :\n",
    "    print(i, end=\", \")"
   ]
  },
  {
   "cell_type": "code",
   "execution_count": 7,
   "id": "8a8e4b30",
   "metadata": {},
   "outputs": [
    {
     "name": "stdout",
     "output_type": "stream",
     "text": [
      "__abstractmethods__, __class__, __delattr__, __dir__, __doc__, __eq__, __format__, __ge__, __getattribute__, __getstate__, __gt__, __hash__, __init__, __init_subclass__, __le__, __lt__, __module__, __ne__, __new__, __reduce__, __reduce_ex__, __repr__, __setattr__, __sizeof__, __slots__, __str__, __subclasshook__, _abc_impl, "
     ]
    }
   ],
   "source": [
    "for i in dir(ABC) :\n",
    "    print(i, end=\", \")"
   ]
  },
  {
   "cell_type": "markdown",
   "id": "9c95180d",
   "metadata": {},
   "source": [
    "## 추상클래스를 사용해서 처리 "
   ]
  },
  {
   "cell_type": "code",
   "execution_count": 9,
   "id": "e2f0c101",
   "metadata": {},
   "outputs": [],
   "source": [
    "class MyClsABC(ABC):\n",
    "    @classmethod\n",
    "    def __subclasshook__(cls, subclass):\n",
    "        print('in subclasshook')\n",
    "        return True\n",
    "\n",
    "class MyClsNoABC(object):\n",
    "    @classmethod\n",
    "    def __subclasshook__(cls, subclass):\n",
    "        print('in subclasshook')\n",
    "        return True"
   ]
  },
  {
   "cell_type": "code",
   "execution_count": 10,
   "id": "5d7585c7",
   "metadata": {},
   "outputs": [
    {
     "name": "stdout",
     "output_type": "stream",
     "text": [
      "in subclasshook\n"
     ]
    },
    {
     "data": {
      "text/plain": [
       "True"
      ]
     },
     "execution_count": 10,
     "metadata": {},
     "output_type": "execute_result"
    }
   ],
   "source": [
    "issubclass(int, MyClsABC)"
   ]
  },
  {
   "cell_type": "code",
   "execution_count": 11,
   "id": "9ad0efd9",
   "metadata": {},
   "outputs": [
    {
     "data": {
      "text/plain": [
       "False"
      ]
     },
     "execution_count": 11,
     "metadata": {},
     "output_type": "execute_result"
    }
   ],
   "source": [
    "issubclass(int, MyClsNoABC)"
   ]
  },
  {
   "cell_type": "markdown",
   "id": "7855f851",
   "metadata": {},
   "source": [
    "## 메타클래스를 사용해서 처리 "
   ]
  },
  {
   "cell_type": "code",
   "execution_count": 12,
   "id": "d686af81",
   "metadata": {},
   "outputs": [],
   "source": [
    "class Sized(metaclass=ABCMeta):\n",
    "    @classmethod\n",
    "    def __subclasshook__(cls, C):\n",
    "        print(\"call subclasshook\")\n",
    "        if cls is Sized:\n",
    "            if any(\"__len__\" in B.__dict__ for B in C.__mro__):\n",
    "                return True\n",
    "        return NotImplemented\n",
    "\n",
    "class A(object):\n",
    "    pass\n",
    "\n",
    "class B(object):\n",
    "    def __len__(self):\n",
    "        return 0\n"
   ]
  },
  {
   "cell_type": "code",
   "execution_count": 13,
   "id": "b00f0aec",
   "metadata": {},
   "outputs": [
    {
     "name": "stdout",
     "output_type": "stream",
     "text": [
      "call subclasshook\n"
     ]
    },
    {
     "data": {
      "text/plain": [
       "False"
      ]
     },
     "execution_count": 13,
     "metadata": {},
     "output_type": "execute_result"
    }
   ],
   "source": [
    "issubclass(A, Sized)  # False"
   ]
  },
  {
   "cell_type": "code",
   "execution_count": 14,
   "id": "2ff1367c",
   "metadata": {},
   "outputs": [
    {
     "name": "stdout",
     "output_type": "stream",
     "text": [
      "call subclasshook\n"
     ]
    },
    {
     "data": {
      "text/plain": [
       "True"
      ]
     },
     "execution_count": 14,
     "metadata": {},
     "output_type": "execute_result"
    }
   ],
   "source": [
    "issubclass(B, Sized)  # True"
   ]
  },
  {
   "cell_type": "code",
   "execution_count": null,
   "id": "2ee8f0ae",
   "metadata": {},
   "outputs": [],
   "source": []
  },
  {
   "cell_type": "code",
   "execution_count": null,
   "id": "9e19fa44",
   "metadata": {},
   "outputs": [],
   "source": []
  },
  {
   "cell_type": "code",
   "execution_count": 15,
   "id": "0ef315a5",
   "metadata": {},
   "outputs": [],
   "source": [
    "class Animal(metaclass=ABCMeta):\n",
    "\n",
    "    @abstractmethod\n",
    "    def speak(self):\n",
    "        pass\n",
    "\n",
    "class Dog(Animal):\n",
    "\n",
    "    def speak(self):\n",
    "        print(\"멍멍\")\n",
    "\n",
    "class Cat(Animal):\n",
    "\n",
    "    def speak(self):\n",
    "        print(\"야옹\")\n",
    "\n",
    "\n",
    "def is_valid_animal(cls):\n",
    "    # 하위 클래스가 `speak` 메서드를 구현했는지 확인\n",
    "    return hasattr(cls, \"speak\")  and callable(getattr(cls, \"speak\"))\n",
    "\n",
    "\n",
    "class MyMetaClass(ABC):\n",
    "    @classmethod\n",
    "    def __subclasshook__(cls, subclass):\n",
    "        \n",
    "        print(\"__subclasshook__\")\n",
    "        # `is_valid_animal` 함수를 사용하여 하위 클래스가 유효한지 확인\n",
    "        if not is_valid_animal(Animal):\n",
    "            raise TypeError(\"Invalid animal\")\n",
    "        return True\n",
    "                                          \n",
    "\n",
    "\n",
    "class Bird(MyMetaClass):\n",
    "\n",
    "    def speak(self):\n",
    "        print(\"짹짹\")\n",
    "\n",
    "\n"
   ]
  },
  {
   "cell_type": "code",
   "execution_count": 16,
   "id": "555eb5af",
   "metadata": {},
   "outputs": [
    {
     "name": "stdout",
     "output_type": "stream",
     "text": [
      "__subclasshook__\n"
     ]
    },
    {
     "data": {
      "text/plain": [
       "True"
      ]
     },
     "execution_count": 16,
     "metadata": {},
     "output_type": "execute_result"
    }
   ],
   "source": [
    "issubclass(Dog, Bird)"
   ]
  },
  {
   "cell_type": "code",
   "execution_count": 17,
   "id": "674bb563",
   "metadata": {},
   "outputs": [
    {
     "data": {
      "text/plain": [
       "True"
      ]
     },
     "execution_count": 17,
     "metadata": {},
     "output_type": "execute_result"
    }
   ],
   "source": [
    "issubclass(Dog, Animal)"
   ]
  },
  {
   "cell_type": "code",
   "execution_count": 18,
   "id": "9b64be55",
   "metadata": {},
   "outputs": [
    {
     "name": "stdout",
     "output_type": "stream",
     "text": [
      "멍멍\n",
      "야옹\n"
     ]
    }
   ],
   "source": [
    "# 유효한 하위 클래스\n",
    "dog = Dog()\n",
    "dog.speak()\n",
    "\n",
    "cat = Cat()\n",
    "cat.speak()"
   ]
  },
  {
   "cell_type": "code",
   "execution_count": null,
   "id": "47f0cf08",
   "metadata": {},
   "outputs": [],
   "source": []
  },
  {
   "cell_type": "markdown",
   "id": "40b03ead",
   "metadata": {},
   "source": [
    "## 2. 인스턴스 생성관계 확인 "
   ]
  },
  {
   "cell_type": "code",
   "execution_count": null,
   "id": "40783a16",
   "metadata": {},
   "outputs": [],
   "source": []
  },
  {
   "cell_type": "code",
   "execution_count": 19,
   "id": "5f902f4f",
   "metadata": {},
   "outputs": [],
   "source": [
    "class PersonMeta(type):\n",
    "    def __instancecheck__(self, instance):\n",
    "        print(\"call instancecheck \")\n",
    "        return False\n",
    "    \n",
    "class Person(metaclass=PersonMeta):\n",
    "    pass\n",
    "\n",
    "class Friend(Person):\n",
    "    pass\n",
    "\n",
    "class Parent(Person):\n",
    "    pass\n",
    "\n",
    "class Child(Parent):\n",
    "    pass\n",
    "\n",
    "\n",
    "alice = Child()\n"
   ]
  },
  {
   "cell_type": "code",
   "execution_count": 20,
   "id": "181ac3a3",
   "metadata": {},
   "outputs": [
    {
     "name": "stdout",
     "output_type": "stream",
     "text": [
      "call instancecheck \n",
      "False\n"
     ]
    }
   ],
   "source": [
    "# Is alice a Person? Not anymore!\n",
    "print(isinstance(alice, Person))\n",
    "# False"
   ]
  },
  {
   "cell_type": "code",
   "execution_count": null,
   "id": "fd0b19d5",
   "metadata": {},
   "outputs": [],
   "source": []
  },
  {
   "cell_type": "code",
   "execution_count": null,
   "id": "5424e854",
   "metadata": {},
   "outputs": [],
   "source": []
  }
 ],
 "metadata": {
  "kernelspec": {
   "display_name": "Python 3 (ipykernel)",
   "language": "python",
   "name": "python3"
  },
  "language_info": {
   "codemirror_mode": {
    "name": "ipython",
    "version": 3
   },
   "file_extension": ".py",
   "mimetype": "text/x-python",
   "name": "python",
   "nbconvert_exporter": "python",
   "pygments_lexer": "ipython3",
   "version": "3.11.3"
  }
 },
 "nbformat": 4,
 "nbformat_minor": 5
}
