{
 "cells": [
  {
   "cell_type": "code",
   "execution_count": 1,
   "id": "ad1a4494",
   "metadata": {},
   "outputs": [
    {
     "data": {
      "text/plain": [
       "'3.11.3'"
      ]
     },
     "execution_count": 1,
     "metadata": {},
     "output_type": "execute_result"
    }
   ],
   "source": [
    "import platform\n",
    "\n",
    "platform.python_version()"
   ]
  },
  {
   "cell_type": "code",
   "execution_count": null,
   "id": "51f8bac9",
   "metadata": {},
   "outputs": [],
   "source": []
  },
  {
   "cell_type": "markdown",
   "id": "d3598bc8",
   "metadata": {},
   "source": [
    "## 1. 상속관계 "
   ]
  },
  {
   "cell_type": "markdown",
   "id": "b7b2d66f",
   "metadata": {},
   "source": [
    "## 1-1 단일 상속"
   ]
  },
  {
   "cell_type": "code",
   "execution_count": 3,
   "id": "7de547d1",
   "metadata": {},
   "outputs": [],
   "source": [
    "class Parent:\n",
    "    pass\n",
    "\n",
    "class Child(Parent):\n",
    "    pass\n"
   ]
  },
  {
   "cell_type": "markdown",
   "id": "a956a05b",
   "metadata": {},
   "source": [
    "## 1-2 다중상속 "
   ]
  },
  {
   "cell_type": "code",
   "execution_count": 4,
   "id": "7f998aea",
   "metadata": {},
   "outputs": [],
   "source": [
    "class Base1:\n",
    "    pass\n",
    "\n",
    "class Base2:\n",
    "    pass\n",
    "\n",
    "class Derived(Base1, Base2):\n",
    "    pass\n"
   ]
  },
  {
   "cell_type": "code",
   "execution_count": null,
   "id": "81d91387",
   "metadata": {},
   "outputs": [],
   "source": []
  },
  {
   "cell_type": "code",
   "execution_count": null,
   "id": "a07183ff",
   "metadata": {},
   "outputs": [],
   "source": []
  },
  {
   "cell_type": "markdown",
   "id": "62ee8f6f",
   "metadata": {},
   "source": [
    "## 1-3  추상 클래스의 상속관계 \n",
    "\n",
    "- 추상 클래스를 상속하는 클래스는 추상 메서드를 반드시 구현해야 하므로, 해당 클래스의 인스턴스화를 방지할 수 있습니다. \n",
    "- 추상 클래스는 abc 모듈을 통해 정의되며, ABC 클래스를 상속받아 추상 메서드를 정의할 수 있습니다."
   ]
  },
  {
   "cell_type": "markdown",
   "id": "0044452f",
   "metadata": {},
   "source": [
    "### 추상 클래스 활용 장점:\n",
    "\n",
    "- 코드의 재사용성 향상\n",
    "- 코드의 일관성 유지\n",
    "- 코드의 확장성 향상\n",
    "\n",
    "### 추상 클래스 활용 시 주의 사항:\n",
    "\n",
    "- 추상 클래스는 인스턴스를 만들 수 없다는 점을 명심해야 합니다.\n",
    "- 추상 메서드는 상속받는 클래스에서 반드시 구현해야 합니다.\n",
    "- 상속 관계가 복잡해지면 코드 관리가 어려워질 수 있습니다.\n"
   ]
  },
  {
   "cell_type": "code",
   "execution_count": 6,
   "id": "b26421c8",
   "metadata": {},
   "outputs": [],
   "source": [
    "from abc import ABC, abstractmethod\n",
    "\n",
    "# 추상 클래스 정의\n",
    "class Shape(ABC):\n",
    "    @abstractmethod\n",
    "    def area(self):\n",
    "        pass\n",
    "\n",
    "    @abstractmethod\n",
    "    def perimeter(self):\n",
    "        pass"
   ]
  },
  {
   "cell_type": "code",
   "execution_count": 7,
   "id": "ddc64e13",
   "metadata": {},
   "outputs": [],
   "source": [
    "\n",
    "\n",
    "# 추상 클래스를 상속하는 구체 클래스 정의\n",
    "class Rectangle(Shape):\n",
    "    def __init__(self, width, height):\n",
    "        self.width = width\n",
    "        self.height = height\n",
    "\n",
    "    def area(self):\n",
    "        return self.width * self.height\n",
    "\n",
    "    def perimeter(self):\n",
    "        return 2 * (self.width + self.height)\n",
    "\n",
    "# 추상 클래스를 상속하지 않고 구현된 클래스 정의\n",
    "class Circle:\n",
    "    def __init__(self, radius):\n",
    "        self.radius = radius\n",
    "\n",
    "    def area(self):\n",
    "        return 3.14 * self.radius ** 2\n",
    "\n",
    "    def perimeter(self):\n",
    "        return 2 * 3.14 * self.radius\n"
   ]
  },
  {
   "cell_type": "code",
   "execution_count": 8,
   "id": "543a0c94",
   "metadata": {},
   "outputs": [
    {
     "name": "stdout",
     "output_type": "stream",
     "text": [
      "Rectangle Area: 20\n",
      "Rectangle Perimeter: 18\n",
      "Circle Area: 28.26\n",
      "Circle Perimeter: 18.84\n"
     ]
    }
   ],
   "source": [
    "# 추상 클래스를 상속한 클래스의 사용\n",
    "rectangle = Rectangle(5, 4)\n",
    "print(\"Rectangle Area:\", rectangle.area())\n",
    "print(\"Rectangle Perimeter:\", rectangle.perimeter())\n",
    "\n",
    "# 추상 클래스를 상속하지 않은 클래스의 사용\n",
    "circle = Circle(3)\n",
    "print(\"Circle Area:\", circle.area())\n",
    "print(\"Circle Perimeter:\", circle.perimeter())"
   ]
  },
  {
   "cell_type": "code",
   "execution_count": null,
   "id": "2e96c5cf",
   "metadata": {},
   "outputs": [],
   "source": []
  },
  {
   "cell_type": "markdown",
   "id": "7294f247",
   "metadata": {},
   "source": [
    "## 1-4 추상메타클래스를 사용한 추상클래스 상속관계 \n",
    "\n",
    "- 파이썬에서는 추상 메타클래스를 사용하여 추상 클래스를 정의할 수 있습니다.\n",
    "- 이를 통해 추상 클래스의 상속 관계를 더 명확하게 정의할 수 있습니다. \n",
    "- 추상 메타클래스를 사용하면 추상 클래스의 추상 메서드가 실제로 구현되었는지 검사할 수 있습니다."
   ]
  },
  {
   "cell_type": "code",
   "execution_count": 9,
   "id": "c890ca24",
   "metadata": {},
   "outputs": [],
   "source": [
    "from abc import ABCMeta, abstractmethod\n",
    "\n",
    "# 추상 메타클래스를 사용한 추상 클래스 정의\n",
    "class Shape(metaclass=ABCMeta):\n",
    "    @abstractmethod\n",
    "    def area(self):\n",
    "        pass\n",
    "\n",
    "    @abstractmethod\n",
    "    def perimeter(self):\n",
    "        pass"
   ]
  },
  {
   "cell_type": "code",
   "execution_count": 10,
   "id": "95c11bab",
   "metadata": {},
   "outputs": [],
   "source": [
    "\n",
    "# 추상 클래스를 상속하는 구체 클래스 정의\n",
    "class Rectangle(Shape):\n",
    "    def __init__(self, width, height):\n",
    "        self.width = width\n",
    "        self.height = height\n",
    "\n",
    "    def area(self):\n",
    "        return self.width * self.height\n",
    "\n",
    "    def perimeter(self):\n",
    "        return 2 * (self.width + self.height)\n",
    "\n",
    "# 추상 클래스를 상속하지 않고 구현된 클래스 정의\n",
    "class Circle:\n",
    "    def __init__(self, radius):\n",
    "        self.radius = radius\n",
    "\n",
    "    def area(self):\n",
    "        return 3.14 * self.radius ** 2\n",
    "\n",
    "    def perimeter(self):\n",
    "        return 2 * 3.14 * self.radius\n"
   ]
  },
  {
   "cell_type": "code",
   "execution_count": 11,
   "id": "b6e7463c",
   "metadata": {},
   "outputs": [
    {
     "name": "stdout",
     "output_type": "stream",
     "text": [
      "Rectangle Area: 20\n",
      "Rectangle Perimeter: 18\n",
      "Circle Area: 28.26\n",
      "Circle Perimeter: 18.84\n"
     ]
    }
   ],
   "source": [
    "# 추상 클래스를 상속한 클래스의 사용\n",
    "rectangle = Rectangle(5, 4)\n",
    "print(\"Rectangle Area:\", rectangle.area())\n",
    "print(\"Rectangle Perimeter:\", rectangle.perimeter())\n",
    "\n",
    "# 추상 클래스를 상속하지 않은 클래스의 사용\n",
    "circle = Circle(3)\n",
    "print(\"Circle Area:\", circle.area())\n",
    "print(\"Circle Perimeter:\", circle.perimeter())"
   ]
  },
  {
   "cell_type": "markdown",
   "id": "48a27f5d",
   "metadata": {},
   "source": [
    "## 1-5 super 사용에제\n",
    "\n",
    "- super() 함수는 파이썬에서 부모 클래스의 메서드를 호출할 때 사용됩니다. \n",
    "- 이를 통해 다중 상속 시에도 메서드 호출 순서가 정확하게 결정됩니다. "
   ]
  },
  {
   "cell_type": "code",
   "execution_count": 13,
   "id": "72f0e558",
   "metadata": {},
   "outputs": [
    {
     "name": "stdout",
     "output_type": "stream",
     "text": [
      "Parent Attribute\n",
      "Parent Method\n",
      "Child Attribute\n",
      "Parent Method\n",
      "Child Method\n"
     ]
    }
   ],
   "source": [
    "class Parent:\n",
    "    def __init__(self):\n",
    "        self.parent_attribute = \"Parent Attribute\"\n",
    "\n",
    "    def parent_method(self):\n",
    "        print(\"Parent Method\")\n",
    "\n",
    "class Child(Parent):\n",
    "    def __init__(self):\n",
    "        super().__init__()  # 부모 클래스의 __init__ 메서드 호출\n",
    "        self.child_attribute = \"Child Attribute\"\n",
    "\n",
    "    def child_method(self):\n",
    "        super().parent_method()  # 부모 클래스의 메서드 호출\n",
    "        print(\"Child Method\")\n",
    "\n",
    "child_obj = Child()\n",
    "print(child_obj.parent_attribute)  # Parent Attribute\n",
    "child_obj.parent_method()          # Parent Method\n",
    "print(child_obj.child_attribute)   # Child Attribute\n",
    "child_obj.child_method()           # Parent Method\n",
    "                                    # Child Method\n"
   ]
  },
  {
   "cell_type": "markdown",
   "id": "617d3242",
   "metadata": {},
   "source": [
    "## 1-6 MRO 처리 알아보기\n",
    "\n",
    "- 다중 상속을 다룰 때는 메서드 결정 순서(Method Resolution Order, MRO)가 중요합니다. \n",
    "- 파이썬은 C3 선형화 알고리즘을 사용하여 MRO를 결정합니다. \n",
    "- 이 알고리즘은 클래스의 상속 구조를 고려하여 메서드를 검색하는 순서를 정합니다."
   ]
  },
  {
   "cell_type": "code",
   "execution_count": 15,
   "id": "34d4f498",
   "metadata": {},
   "outputs": [
    {
     "name": "stdout",
     "output_type": "stream",
     "text": [
      "Hello from B\n"
     ]
    }
   ],
   "source": [
    "class A:\n",
    "    def hello(self):\n",
    "        print(\"Hello from A\")\n",
    "\n",
    "class B(A):\n",
    "    def hello(self):\n",
    "        print(\"Hello from B\")\n",
    "\n",
    "class C(A):\n",
    "    def hello(self):\n",
    "        print(\"Hello from C\")\n",
    "\n",
    "class D(B, C):\n",
    "    pass\n",
    "\n",
    "d = D()\n",
    "d.hello()  # 출력: Hello from B\n"
   ]
  },
  {
   "cell_type": "markdown",
   "id": "0c501089",
   "metadata": {},
   "source": [
    "### mro 처리 순서 "
   ]
  },
  {
   "cell_type": "code",
   "execution_count": 16,
   "id": "2644ca72",
   "metadata": {},
   "outputs": [
    {
     "name": "stdout",
     "output_type": "stream",
     "text": [
      "(<class '__main__.D'>, <class '__main__.B'>, <class '__main__.C'>, <class '__main__.A'>, <class 'object'>)\n"
     ]
    }
   ],
   "source": [
    "print(D.__mro__)\n",
    "# 출력: (<class '__main__.D'>, <class '__main__.B'>, <class '__main__.C'>, <class '__main__.A'>, <class 'object'>)\n"
   ]
  },
  {
   "cell_type": "markdown",
   "id": "e7835438",
   "metadata": {},
   "source": [
    "## 2. 연관관계 \n",
    "\n",
    "- 연관 관계는 객체 지향 프로그래밍에서 두 개의 클래스나 객체 간의 관계를 의미합니다. "
   ]
  },
  {
   "cell_type": "code",
   "execution_count": null,
   "id": "c608fe36",
   "metadata": {},
   "outputs": [],
   "source": []
  },
  {
   "cell_type": "markdown",
   "id": "f48ee1a9",
   "metadata": {},
   "source": [
    "## 2-1 컴포지션관계 \n",
    "\n",
    "- 컴포지션(Composition)은 객체 지향 프로그래밍에서 한 클래스가 다른 클래스의 인스턴스를 포함하는 방식으로 관계를 형성하는 것을 말합니다. \n",
    "- 이를 통해 더 큰 객체를 구성하고 관리할 수 있습니다. "
   ]
  },
  {
   "cell_type": "code",
   "execution_count": 17,
   "id": "ce8e8a1a",
   "metadata": {},
   "outputs": [],
   "source": [
    "class Engine:\n",
    "    def __init__(self, horsepower):\n",
    "        self.horsepower = horsepower\n",
    "\n",
    "    def start(self):\n",
    "        print(\"Engine started\")\n",
    "\n",
    "    def stop(self):\n",
    "        print(\"Engine stopped\")\n",
    "\n",
    "class Car:\n",
    "    def __init__(self, make, model, horsepower):\n",
    "        self.make = make\n",
    "        self.model = model\n",
    "        self.engine = Engine(horsepower)\n",
    "\n",
    "    def start(self):\n",
    "        print(f\"{self.make} {self.model} starting...\")\n",
    "        self.engine.start()\n",
    "\n",
    "    def stop(self):\n",
    "        print(f\"{self.make} {self.model} stopping...\")\n",
    "        self.engine.stop()\n",
    "\n"
   ]
  },
  {
   "cell_type": "code",
   "execution_count": 18,
   "id": "1393d782",
   "metadata": {},
   "outputs": [
    {
     "name": "stdout",
     "output_type": "stream",
     "text": [
      "Toyota Camry starting...\n",
      "Engine started\n",
      "Toyota Camry stopping...\n",
      "Engine stopped\n"
     ]
    }
   ],
   "source": [
    "# Car 인스턴스를 생성하고 사용합니다.\n",
    "my_car = Car(\"Toyota\", \"Camry\", 200)\n",
    "my_car.start()\n",
    "my_car.stop()"
   ]
  },
  {
   "cell_type": "code",
   "execution_count": null,
   "id": "a721a1e5",
   "metadata": {},
   "outputs": [],
   "source": []
  },
  {
   "cell_type": "markdown",
   "id": "fc382953",
   "metadata": {},
   "source": [
    "## 2-2 어그리게이션 관계 \n",
    "\n",
    "- 어그리게이션(Aggregation)은 한 객체가 다른 객체를 포함하는 관계를 나타냅니다. \n",
    "- 컴포지션과 유사하지만, 어그리게이션은 객체 간의 생명 주기가 독립적입니다. \n",
    "- 즉, 한 객체의 소멸이 다른 객체의 소멸에 영향을 주지 않습니다."
   ]
  },
  {
   "cell_type": "code",
   "execution_count": 19,
   "id": "3355019a",
   "metadata": {},
   "outputs": [],
   "source": [
    "class Engine:\n",
    "    def __init__(self, horsepower):\n",
    "        self.horsepower = horsepower\n",
    "\n",
    "class Car:\n",
    "    def __init__(self, make, model, engine):\n",
    "        self.make = make\n",
    "        self.model = model\n",
    "        self.engine = engine\n",
    "\n",
    "# Engine 객체를 생성합니다.\n",
    "my_engine = Engine(200)\n",
    "\n",
    "# Car 객체를 생성하고 Engine 객체를 주입합니다.\n",
    "my_car = Car(\"Toyota\", \"Camry\", my_engine)\n"
   ]
  },
  {
   "cell_type": "code",
   "execution_count": null,
   "id": "12acd7d2",
   "metadata": {},
   "outputs": [],
   "source": []
  },
  {
   "cell_type": "markdown",
   "id": "ea07921d",
   "metadata": {},
   "source": [
    "## 2-3 디펜던시 관계 \n",
    "\n",
    "- 의존성 관계(Dependency)는 한 요소가 다른 요소에 의존하는 관계를 나타냅니다. \n",
    "- 보다 구체적으로 말하면, 한 요소의 변경이 다른 요소에 영향을 줄 수 있습니다."
   ]
  },
  {
   "cell_type": "code",
   "execution_count": 20,
   "id": "26d39325",
   "metadata": {},
   "outputs": [
    {
     "name": "stdout",
     "output_type": "stream",
     "text": [
      "Checking out with amount: 100\n",
      "Payment processed for amount: 100\n"
     ]
    }
   ],
   "source": [
    "class Payment:\n",
    "    def process_payment(self, amount):\n",
    "        print(f\"Payment processed for amount: {amount}\")\n",
    "\n",
    "\n",
    "class Order:\n",
    "    def __init__(self, payment):\n",
    "        self.payment = payment\n",
    "\n",
    "    def checkout(self, amount):\n",
    "        print(f\"Checking out with amount: {amount}\")\n",
    "        self.payment.process_payment(amount)\n",
    "\n",
    "\n",
    "# 주문을 생성하고 결제를 수행합니다.\n",
    "payment = Payment()\n",
    "order = Order(payment)\n",
    "order.checkout(100)\n"
   ]
  },
  {
   "cell_type": "code",
   "execution_count": null,
   "id": "457443b3",
   "metadata": {},
   "outputs": [],
   "source": []
  },
  {
   "cell_type": "code",
   "execution_count": null,
   "id": "1b472e74",
   "metadata": {},
   "outputs": [],
   "source": []
  },
  {
   "cell_type": "code",
   "execution_count": null,
   "id": "281202c5",
   "metadata": {},
   "outputs": [],
   "source": []
  },
  {
   "cell_type": "code",
   "execution_count": null,
   "id": "0dab471b",
   "metadata": {},
   "outputs": [],
   "source": []
  },
  {
   "cell_type": "code",
   "execution_count": null,
   "id": "7ab53553",
   "metadata": {},
   "outputs": [],
   "source": []
  }
 ],
 "metadata": {
  "kernelspec": {
   "display_name": "Python 3 (ipykernel)",
   "language": "python",
   "name": "python3"
  },
  "language_info": {
   "codemirror_mode": {
    "name": "ipython",
    "version": 3
   },
   "file_extension": ".py",
   "mimetype": "text/x-python",
   "name": "python",
   "nbconvert_exporter": "python",
   "pygments_lexer": "ipython3",
   "version": "3.11.3"
  }
 },
 "nbformat": 4,
 "nbformat_minor": 5
}
