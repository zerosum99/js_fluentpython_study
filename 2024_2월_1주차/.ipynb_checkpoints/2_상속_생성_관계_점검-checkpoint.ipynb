{
 "cells": [
  {
   "cell_type": "code",
   "execution_count": 1,
   "id": "45fe4f41",
   "metadata": {},
   "outputs": [
    {
     "data": {
      "text/plain": [
       "'3.11.3'"
      ]
     },
     "execution_count": 1,
     "metadata": {},
     "output_type": "execute_result"
    }
   ],
   "source": [
    "import platform\n",
    "\n",
    "platform.python_version()"
   ]
  },
  {
   "cell_type": "code",
   "execution_count": null,
   "id": "4ef048f2",
   "metadata": {},
   "outputs": [],
   "source": []
  },
  {
   "cell_type": "markdown",
   "id": "d13b552a",
   "metadata": {},
   "source": [
    "## 1. 서브클래스 관계 확인 "
   ]
  },
  {
   "cell_type": "markdown",
   "id": "7b70acf0",
   "metadata": {},
   "source": [
    "## 1-1 issubclass() 함수 : 명목적 타이핑 처리  \n",
    "- 래스 상속 관계를 확인하는 데 사용됩니다. \n",
    "- 이 함수는 두 개의 인수를 취합니다: 첫 번째 인수는 확인하려는 클래스이고, 두 번째 인수는 기준이 되는 클래스입니다. \n",
    "- 함수는 첫 번째 클래스가 두 번째 클래스의 하위 클래스인지 여부를 결정합니다."
   ]
  },
  {
   "cell_type": "code",
   "execution_count": 2,
   "id": "7e63584e",
   "metadata": {},
   "outputs": [
    {
     "name": "stdout",
     "output_type": "stream",
     "text": [
      "True\n",
      "False\n"
     ]
    }
   ],
   "source": [
    "class Animal:\n",
    "    pass\n",
    "\n",
    "class Dog(Animal):\n",
    "    pass\n",
    "\n",
    "class Cat:\n",
    "    pass\n",
    "\n",
    "# Dog 클래스는 Animal 클래스의 하위 클래스인지 확인\n",
    "print(issubclass(Dog, Animal))  # 출력: True\n",
    "\n",
    "# Cat 클래스는 Animal 클래스의 하위 클래스인지 확인\n",
    "print(issubclass(Cat, Animal))   # 출력: False\n"
   ]
  },
  {
   "cell_type": "markdown",
   "id": "63729f7e",
   "metadata": {},
   "source": [
    "### 부모 클래스 확인 "
   ]
  },
  {
   "cell_type": "code",
   "execution_count": 3,
   "id": "9282b514",
   "metadata": {},
   "outputs": [
    {
     "data": {
      "text/plain": [
       "(__main__.Animal,)"
      ]
     },
     "execution_count": 3,
     "metadata": {},
     "output_type": "execute_result"
    }
   ],
   "source": [
    "Dog.__bases__"
   ]
  },
  {
   "cell_type": "code",
   "execution_count": 4,
   "id": "2f03a2eb",
   "metadata": {},
   "outputs": [
    {
     "data": {
      "text/plain": [
       "(object,)"
      ]
     },
     "execution_count": 4,
     "metadata": {},
     "output_type": "execute_result"
    }
   ],
   "source": [
    "Cat.__bases__"
   ]
  },
  {
   "cell_type": "code",
   "execution_count": null,
   "id": "73a42d46",
   "metadata": {},
   "outputs": [],
   "source": []
  },
  {
   "cell_type": "markdown",
   "id": "c21da89a",
   "metadata": {},
   "source": [
    "## 1-2 스페셜 메서드 오버로딩 : 구조적 타이핑 처리 "
   ]
  },
  {
   "cell_type": "code",
   "execution_count": null,
   "id": "2ad1760a",
   "metadata": {},
   "outputs": [],
   "source": []
  },
  {
   "cell_type": "code",
   "execution_count": 5,
   "id": "dc8192cd",
   "metadata": {},
   "outputs": [],
   "source": [
    "from abc import ABCMeta, abstractmethod,ABC"
   ]
  },
  {
   "cell_type": "code",
   "execution_count": 6,
   "id": "820f26b3",
   "metadata": {},
   "outputs": [
    {
     "name": "stdout",
     "output_type": "stream",
     "text": [
      "__abstractmethods__, __annotations__, __base__, __bases__, __basicsize__, __call__, __class__, __delattr__, __dict__, __dictoffset__, __dir__, __doc__, __eq__, __flags__, __format__, __ge__, __getattribute__, __getstate__, __gt__, __hash__, __init__, __init_subclass__, __instancecheck__, __itemsize__, __le__, __lt__, __module__, __mro__, __name__, __ne__, __new__, __or__, __prepare__, __qualname__, __reduce__, __reduce_ex__, __repr__, __ror__, __setattr__, __sizeof__, __str__, __subclasscheck__, __subclasses__, __subclasshook__, __text_signature__, __weakrefoffset__, _abc_caches_clear, _abc_registry_clear, _dump_registry, mro, register, "
     ]
    }
   ],
   "source": [
    "for i in dir(ABCMeta) :\n",
    "    print(i, end=\", \")"
   ]
  },
  {
   "cell_type": "code",
   "execution_count": 7,
   "id": "3829afff",
   "metadata": {},
   "outputs": [
    {
     "name": "stdout",
     "output_type": "stream",
     "text": [
      "__abstractmethods__, __class__, __delattr__, __dir__, __doc__, __eq__, __format__, __ge__, __getattribute__, __getstate__, __gt__, __hash__, __init__, __init_subclass__, __le__, __lt__, __module__, __ne__, __new__, __reduce__, __reduce_ex__, __repr__, __setattr__, __sizeof__, __slots__, __str__, __subclasshook__, _abc_impl, "
     ]
    }
   ],
   "source": [
    "for i in dir(ABC) :\n",
    "    print(i, end=\", \")"
   ]
  },
  {
   "cell_type": "markdown",
   "id": "2971d8f2",
   "metadata": {},
   "source": [
    "## 1-2-1 추상클래스를 사용해서 처리 \n",
    "\n",
    "- `__subclasshook__` 는 클래스 메서드\n",
    "- 클래스가 참조하므로 먼저 추상클래스에 있는 것을 오버라이딩"
   ]
  },
  {
   "cell_type": "code",
   "execution_count": 24,
   "id": "5635bd88",
   "metadata": {},
   "outputs": [],
   "source": [
    "class MyClsABC(ABC):\n",
    "    @classmethod\n",
    "    def __subclasshook__(cls, subclass):\n",
    "        print('in subclasshook')\n",
    "        return True\n"
   ]
  },
  {
   "cell_type": "code",
   "execution_count": 22,
   "id": "41ae5f4f",
   "metadata": {},
   "outputs": [
    {
     "name": "stdout",
     "output_type": "stream",
     "text": [
      "in subclasshook\n"
     ]
    },
    {
     "data": {
      "text/plain": [
       "True"
      ]
     },
     "execution_count": 22,
     "metadata": {},
     "output_type": "execute_result"
    }
   ],
   "source": [
    "issubclass(int, MyClsABC)"
   ]
  },
  {
   "cell_type": "markdown",
   "id": "941980bc",
   "metadata": {},
   "source": [
    "### 일반상속에서 오버라이딩하면 호출하지 않음 \n",
    "\n",
    "-  클래스의 점 연산자는 type 메타클래스부터 참조하기 때문이다.\n",
    "- 클래스 내에 정의하면 객체가 참조하는 것으로 인식한다 "
   ]
  },
  {
   "cell_type": "code",
   "execution_count": 26,
   "id": "48d60da1",
   "metadata": {},
   "outputs": [],
   "source": [
    "class MyClsNoABC(object):\n",
    "    @classmethod\n",
    "    def __subclasshook__(cls, subclass):\n",
    "        print('in subclasshook')\n",
    "        return True"
   ]
  },
  {
   "cell_type": "code",
   "execution_count": 27,
   "id": "a91879c8",
   "metadata": {},
   "outputs": [
    {
     "data": {
      "text/plain": [
       "False"
      ]
     },
     "execution_count": 27,
     "metadata": {},
     "output_type": "execute_result"
    }
   ],
   "source": [
    "issubclass(int, MyClsNoABC)"
   ]
  },
  {
   "cell_type": "markdown",
   "id": "d6744211",
   "metadata": {},
   "source": [
    "## 1-2-2 추상 메타클래스를 사용해서 처리 \n",
    "\n",
    "-  추상메타 클래스에 `__subclasshook__`를 지정하면 상속관계를 처리한다 "
   ]
  },
  {
   "cell_type": "code",
   "execution_count": 28,
   "id": "90e16b27",
   "metadata": {},
   "outputs": [],
   "source": [
    "class Sized(metaclass=ABCMeta):\n",
    "    @classmethod\n",
    "    def __subclasshook__(cls, C):\n",
    "        print(\"call subclasshook\")\n",
    "        if cls is Sized:\n",
    "            if any(\"__len__\" in B.__dict__ for B in C.__mro__):\n",
    "                return True\n",
    "        return NotImplemented\n",
    "\n",
    "class A(object):\n",
    "    pass\n",
    "\n",
    "class B(object):\n",
    "    def __len__(self):\n",
    "        return 0\n"
   ]
  },
  {
   "cell_type": "code",
   "execution_count": 29,
   "id": "07cea45f",
   "metadata": {},
   "outputs": [
    {
     "name": "stdout",
     "output_type": "stream",
     "text": [
      "call subclasshook\n"
     ]
    },
    {
     "data": {
      "text/plain": [
       "False"
      ]
     },
     "execution_count": 29,
     "metadata": {},
     "output_type": "execute_result"
    }
   ],
   "source": [
    "issubclass(A, Sized)  # False"
   ]
  },
  {
   "cell_type": "code",
   "execution_count": 30,
   "id": "bd20dc8c",
   "metadata": {},
   "outputs": [
    {
     "name": "stdout",
     "output_type": "stream",
     "text": [
      "call subclasshook\n"
     ]
    },
    {
     "data": {
      "text/plain": [
       "True"
      ]
     },
     "execution_count": 30,
     "metadata": {},
     "output_type": "execute_result"
    }
   ],
   "source": [
    "issubclass(B, Sized)  # True"
   ]
  },
  {
   "cell_type": "code",
   "execution_count": null,
   "id": "a09f653c",
   "metadata": {},
   "outputs": [],
   "source": []
  },
  {
   "cell_type": "code",
   "execution_count": null,
   "id": "966a10b4",
   "metadata": {},
   "outputs": [],
   "source": []
  },
  {
   "cell_type": "markdown",
   "id": "f5d3bf0b",
   "metadata": {},
   "source": [
    "## 2. 인스턴스 생성관계 확인 "
   ]
  },
  {
   "cell_type": "code",
   "execution_count": null,
   "id": "16e6a149",
   "metadata": {},
   "outputs": [],
   "source": []
  },
  {
   "cell_type": "code",
   "execution_count": 19,
   "id": "6a796bc6",
   "metadata": {},
   "outputs": [],
   "source": [
    "class PersonMeta(type):\n",
    "    def __instancecheck__(self, instance):\n",
    "        print(\"call instancecheck \")\n",
    "        return False\n",
    "    \n",
    "class Person(metaclass=PersonMeta):\n",
    "    pass\n",
    "\n",
    "class Friend(Person):\n",
    "    pass\n",
    "\n",
    "class Parent(Person):\n",
    "    pass\n",
    "\n",
    "class Child(Parent):\n",
    "    pass\n",
    "\n",
    "\n",
    "alice = Child()\n"
   ]
  },
  {
   "cell_type": "code",
   "execution_count": 20,
   "id": "05e75d8d",
   "metadata": {},
   "outputs": [
    {
     "name": "stdout",
     "output_type": "stream",
     "text": [
      "call instancecheck \n",
      "False\n"
     ]
    }
   ],
   "source": [
    "# Is alice a Person? Not anymore!\n",
    "print(isinstance(alice, Person))\n",
    "# False"
   ]
  },
  {
   "cell_type": "code",
   "execution_count": null,
   "id": "94bf5e30",
   "metadata": {},
   "outputs": [],
   "source": []
  },
  {
   "cell_type": "code",
   "execution_count": null,
   "id": "09d62d55",
   "metadata": {},
   "outputs": [],
   "source": []
  }
 ],
 "metadata": {
  "kernelspec": {
   "display_name": "Python 3 (ipykernel)",
   "language": "python",
   "name": "python3"
  },
  "language_info": {
   "codemirror_mode": {
    "name": "ipython",
    "version": 3
   },
   "file_extension": ".py",
   "mimetype": "text/x-python",
   "name": "python",
   "nbconvert_exporter": "python",
   "pygments_lexer": "ipython3",
   "version": "3.11.3"
  }
 },
 "nbformat": 4,
 "nbformat_minor": 5
}
