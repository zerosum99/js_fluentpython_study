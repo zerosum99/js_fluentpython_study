{
 "cells": [
  {
   "cell_type": "code",
   "execution_count": null,
   "id": "70cb7acc",
   "metadata": {},
   "outputs": [],
   "source": []
  },
  {
   "cell_type": "markdown",
   "id": "9198e11d",
   "metadata": {},
   "source": [
    "## 1. 덕 타이핑과 믹스인 \n",
    ">  소프트웨어 개발에서 다형성과 코드 재사용성을 증가시키는 데 도움을 주는 두 가지 중요한 개념입니다.\n",
    "\n",
    "\n"
   ]
  },
  {
   "cell_type": "markdown",
   "id": "f66042e5",
   "metadata": {},
   "source": [
    "## 2. 덕 타이핑 (Duck Typing):\n",
    "\n",
    "- 덕 타이핑은 \"오리처럼 걷고, 꽥꽥거리면 오리다\"라는 말에서 영감을 받은 개념입니다. \n",
    "- 즉, 객체의 실제 타입보다는 해당 객체가 지원하는 메서드나 속성에 따라 객체의 타입을 결정하는 방식을 말합니다.\n",
    "- 파이썬과 같은 동적 타입 언어에서 많이 사용됩니다. 예를 들어, 리스트 객체에 append() 메서드가 있으면 해당 객체를 스택 또는 큐로 사용할 수 있습니다.\n",
    "- 덕 타이핑은 코드의 유연성을 높여주고, 인터페이스와 구현을 분리하여 코드를 보다 간결하게 만들어 줍니다."
   ]
  },
  {
   "cell_type": "code",
   "execution_count": null,
   "id": "49134cee",
   "metadata": {},
   "outputs": [],
   "source": []
  },
  {
   "cell_type": "markdown",
   "id": "68d1bb45",
   "metadata": {},
   "source": [
    "## 덕타이핑 활용 \n",
    "\n",
    "\n",
    "- 프로그래밍 언어에서 객체의 타입을 판단할 때, 객체가 어떤 클래스에 속하는지가 아니라 객체가 어떤 메서드나 속성을 지원하는지에 따라 판단하는 개념입니다. \n",
    "-  동적 타입 언어에서 활용되며, 객체의 타입을 명시적으로 선언하지 않아도 되는 이점이 있습니다. \n",
    "- 대신 객체가 필요한 메서드나 속성을 가지고 있는지를 확인하여 해당 객체를 처리합니다. 이를 통해 코드의 유연성과 확장성을 높일 수 있습니다."
   ]
  },
  {
   "cell_type": "code",
   "execution_count": 2,
   "id": "f0606aff",
   "metadata": {},
   "outputs": [
    {
     "name": "stdout",
     "output_type": "stream",
     "text": [
      "5\n",
      "3\n"
     ]
    }
   ],
   "source": [
    "def print_length(obj):\n",
    "    print(len(obj))\n",
    "\n",
    "my_list = [1, 2, 3, 4, 5]\n",
    "my_tuple = (1, 2, 3)\n",
    "\n",
    "print_length(my_list)  # 출력: 5\n",
    "print_length(my_tuple) # 출력: 3\n"
   ]
  },
  {
   "cell_type": "code",
   "execution_count": null,
   "id": "fcde85d9",
   "metadata": {},
   "outputs": [],
   "source": []
  },
  {
   "cell_type": "code",
   "execution_count": 3,
   "id": "f224eaf3",
   "metadata": {},
   "outputs": [],
   "source": [
    "class Duck:\n",
    "    def quack(self):\n",
    "        print(\"Quack, quack!\")\n",
    "\n",
    "class Person:\n",
    "    def quack(self):\n",
    "        print(\"I'm quacking like a duck!\")\n"
   ]
  },
  {
   "cell_type": "code",
   "execution_count": 4,
   "id": "53d06013",
   "metadata": {},
   "outputs": [
    {
     "name": "stdout",
     "output_type": "stream",
     "text": [
      "Quack, quack!\n",
      "I'm quacking like a duck!\n"
     ]
    }
   ],
   "source": [
    "def make_quack(obj):\n",
    "    if hasattr(obj, 'quack') and callable(obj.quack):\n",
    "        obj.quack()\n",
    "    else:\n",
    "        print(\"This object can't quack!\")\n",
    "\n",
    "# 덕 타이핑을 테스트합니다.\n",
    "duck = Duck()\n",
    "person = Person()\n",
    "\n",
    "make_quack(duck)    # 출력: Quack, quack!\n",
    "make_quack(person)  # 출력: I'm quacking like a duck!\n"
   ]
  },
  {
   "cell_type": "code",
   "execution_count": null,
   "id": "fd02870b",
   "metadata": {},
   "outputs": [],
   "source": []
  },
  {
   "cell_type": "markdown",
   "id": "dc8a2019",
   "metadata": {},
   "source": [
    "## 3. 믹스인 (Mixin):\n",
    "\n",
    "- 믹스인은 클래스의 기능을 다른 클래스에 포함시키는 방법을 말합니다. \n",
    "- 다중 상속을 통해 여러 클래스에서 공통적으로 사용되는 기능을 추상화하여 재사용할 수 있습니다.\n",
    "- 믹스인 클래스는 일반적으로 다른 클래스와 함께 다중 상속을 받아 기능을 제공하며, 자체적으로 인스턴스화되지 않습니다.\n",
    "- 믹스인을 사용하면 코드 중복을 줄이고 코드의 응집성을 높일 수 있습니다. 또한, 클래스 간의 관계를 명확하게 나타내어 코드를 이해하기 쉽게 만들어 줍니다."
   ]
  },
  {
   "cell_type": "code",
   "execution_count": null,
   "id": "63d972dd",
   "metadata": {},
   "outputs": [],
   "source": []
  },
  {
   "cell_type": "code",
   "execution_count": 5,
   "id": "b5a360f3",
   "metadata": {},
   "outputs": [
    {
     "name": "stdout",
     "output_type": "stream",
     "text": [
      "Name: John, Age: 30\n",
      "Name: Alice, Age: 25\n"
     ]
    }
   ],
   "source": [
    "# 믹스인 클래스 정의\n",
    "class PrintMixin:\n",
    "    def print_info(self):\n",
    "        print(f\"Name: {self.name}, Age: {self.age}\")\n",
    "\n",
    "# Person 클래스에 PrintMixin을 믹스인하는 예제\n",
    "class Person(PrintMixin):\n",
    "    def __init__(self, name, age):\n",
    "        self.name = name\n",
    "        self.age = age\n",
    "\n",
    "# Employee 클래스에도 PrintMixin을 믹스인하는 예제\n",
    "class Employee(PrintMixin):\n",
    "    def __init__(self, name, age, employee_id):\n",
    "        self.name = name\n",
    "        self.age = age\n",
    "        self.employee_id = employee_id\n",
    "\n",
    "# Person 객체 생성 및 정보 출력\n",
    "person = Person(\"John\", 30)\n",
    "person.print_info()  # 출력: Name: John, Age: 30\n",
    "\n",
    "# Employee 객체 생성 및 정보 출력\n",
    "employee = Employee(\"Alice\", 25, \"12345\")\n",
    "employee.print_info()  # 출력: Name: Alice, Age: 25\n"
   ]
  },
  {
   "cell_type": "code",
   "execution_count": null,
   "id": "2d67e941",
   "metadata": {},
   "outputs": [],
   "source": []
  },
  {
   "cell_type": "markdown",
   "id": "62368b8b",
   "metadata": {},
   "source": [
    "## 4. 믹스인과 덕 타이핑 같이 사용"
   ]
  },
  {
   "cell_type": "code",
   "execution_count": null,
   "id": "4213cc9a",
   "metadata": {},
   "outputs": [],
   "source": [
    "# 믹스인 클래스 정의\n",
    "class PrintableMixin:\n",
    "    def print_info(self):\n",
    "        print(f\"Info: {self.get_info()}\")"
   ]
  },
  {
   "cell_type": "code",
   "execution_count": 9,
   "id": "cf5f0447",
   "metadata": {},
   "outputs": [],
   "source": [
    "\n",
    "# Person 클래스 정의\n",
    "class Person:\n",
    "    def __init__(self, name):\n",
    "        self.name = name\n",
    "\n",
    "    def get_info(self):\n",
    "        return f\"Name: {self.name}\"\n",
    "\n",
    "# Employee 클래스 정의\n",
    "class Employee:\n",
    "    def __init__(self, name, employee_id):\n",
    "        self.name = name\n",
    "        self.employee_id = employee_id\n",
    "\n",
    "    def get_info(self):\n",
    "        return f\"Name: {self.name}, Employee ID: {self.employee_id}\"\n",
    "\n",
    "\n",
    "\n"
   ]
  },
  {
   "cell_type": "code",
   "execution_count": 10,
   "id": "f4935738",
   "metadata": {},
   "outputs": [],
   "source": [
    "# 믹스인 클래스와 덕 타이핑을 함께 사용\n",
    "class PrintablePerson(PrintableMixin, Person):\n",
    "    pass\n",
    "\n",
    "class PrintableEmployee(PrintableMixin, Employee):\n",
    "    pass\n",
    "\n",
    "# 덕 타이핑을 이용하여 객체를 확인하고 출력\n",
    "person = PrintablePerson(\"John\")\n",
    "employee = PrintableEmployee(\"Alice\", \"12345\")"
   ]
  },
  {
   "cell_type": "code",
   "execution_count": 11,
   "id": "46863bfe",
   "metadata": {},
   "outputs": [],
   "source": [
    "# 덕 타이핑을 이용하여 믹스인 클래스를 확인하는 함수\n",
    "def check_printable(obj):\n",
    "    if hasattr(obj, 'print_info') and callable(obj.print_info):\n",
    "        obj.print_info()\n",
    "    else:\n",
    "        print(\"Object is not printable\")"
   ]
  },
  {
   "cell_type": "code",
   "execution_count": 12,
   "id": "a161ce97",
   "metadata": {},
   "outputs": [
    {
     "name": "stdout",
     "output_type": "stream",
     "text": [
      "Info: Name: John\n",
      "Info: Name: Alice, Employee ID: 12345\n"
     ]
    }
   ],
   "source": [
    "check_printable(person)    # 출력: Info: Name: John\n",
    "check_printable(employee)  # 출력: Info: Name: Alice, Employee ID: 12345"
   ]
  },
  {
   "cell_type": "code",
   "execution_count": null,
   "id": "a47ae2c2",
   "metadata": {},
   "outputs": [],
   "source": []
  }
 ],
 "metadata": {
  "kernelspec": {
   "display_name": "Python 3 (ipykernel)",
   "language": "python",
   "name": "python3"
  },
  "language_info": {
   "codemirror_mode": {
    "name": "ipython",
    "version": 3
   },
   "file_extension": ".py",
   "mimetype": "text/x-python",
   "name": "python",
   "nbconvert_exporter": "python",
   "pygments_lexer": "ipython3",
   "version": "3.11.3"
  }
 },
 "nbformat": 4,
 "nbformat_minor": 5
}
