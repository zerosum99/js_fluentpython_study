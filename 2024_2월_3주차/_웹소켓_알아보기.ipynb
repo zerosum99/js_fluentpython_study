{
 "cells": [
  {
   "cell_type": "code",
   "execution_count": 3,
   "id": "5cf9f6d0",
   "metadata": {},
   "outputs": [
    {
     "ename": "SyntaxError",
     "evalue": "invalid syntax (726287268.py, line 3)",
     "output_type": "error",
     "traceback": [
      "\u001b[0;36m  Cell \u001b[0;32mIn[3], line 3\u001b[0;36m\u001b[0m\n\u001b[0;31m    - pip install websockets\u001b[0m\n\u001b[0m          ^\u001b[0m\n\u001b[0;31mSyntaxError\u001b[0m\u001b[0;31m:\u001b[0m invalid syntax\n"
     ]
    }
   ],
   "source": [
    "## 설치\n",
    "\n",
    "- pip install websockets"
   ]
  },
  {
   "cell_type": "code",
   "execution_count": null,
   "id": "ff1ff409",
   "metadata": {},
   "outputs": [],
   "source": []
  },
  {
   "cell_type": "code",
   "execution_count": 7,
   "id": "8b0b1ace",
   "metadata": {},
   "outputs": [
    {
     "data": {
      "text/plain": [
       "'3.11.3'"
      ]
     },
     "execution_count": 7,
     "metadata": {},
     "output_type": "execute_result"
    }
   ],
   "source": [
    "import platform\n",
    "\n",
    "platform.python_version()"
   ]
  },
  {
   "cell_type": "code",
   "execution_count": 12,
   "id": "fc531e75",
   "metadata": {},
   "outputs": [],
   "source": [
    "import asyncio\n",
    "import websockets"
   ]
  },
  {
   "cell_type": "code",
   "execution_count": 13,
   "id": "7000d848",
   "metadata": {},
   "outputs": [
    {
     "name": "stdout",
     "output_type": "stream",
     "text": [
      "ALL_COMPLETED, AbstractChildWatcher, AbstractEventLoop, AbstractEventLoopPolicy, AbstractServer, Barrier, BaseEventLoop, BaseProtocol, BaseTransport, BoundedSemaphore, BrokenBarrierError, BufferedProtocol, CancelledError, Condition, DatagramProtocol, DatagramTransport, DefaultEventLoopPolicy, Event, FIRST_COMPLETED, FIRST_EXCEPTION, FastChildWatcher, Future, Handle, IncompleteReadError, InvalidStateError, LifoQueue, LimitOverrunError, Lock, MultiLoopChildWatcher, PidfdChildWatcher, PriorityQueue, Protocol, Queue, QueueEmpty, QueueFull, ReadTransport, Runner, SafeChildWatcher, SelectorEventLoop, Semaphore, SendfileNotAvailableError, Server, StreamReader, StreamReaderProtocol, StreamWriter, SubprocessProtocol, SubprocessTransport, Task, TaskGroup, ThreadedChildWatcher, Timeout, TimeoutError, TimerHandle, Transport, WriteTransport, __all__, __builtins__, __cached__, __doc__, __file__, __loader__, __name__, __package__, __path__, __spec__, _enter_task, _get_running_loop, _leave_task, _register_task, _set_running_loop, _unregister_task, all_tasks, as_completed, base_events, base_futures, base_subprocess, base_tasks, constants, coroutines, create_subprocess_exec, create_subprocess_shell, create_task, current_task, ensure_future, events, exceptions, format_helpers, futures, gather, get_child_watcher, get_event_loop, get_event_loop_policy, get_running_loop, iscoroutine, iscoroutinefunction, isfuture, locks, log, mixins, new_event_loop, open_connection, open_unix_connection, protocols, queues, run, run_coroutine_threadsafe, runners, selector_events, set_child_watcher, set_event_loop, set_event_loop_policy, shield, sleep, sslproto, staggered, start_server, start_unix_server, streams, subprocess, sys, taskgroups, tasks, threads, timeout, timeout_at, timeouts, to_thread, transports, trsock, unix_events, wait, wait_for, wrap_future, "
     ]
    }
   ],
   "source": [
    "for i in dir(asyncio) :\n",
    "    print(i,end=\", \")"
   ]
  },
  {
   "cell_type": "code",
   "execution_count": 19,
   "id": "ee8cf829",
   "metadata": {},
   "outputs": [
    {
     "name": "stdout",
     "output_type": "stream",
     "text": [
      "Main function is done\n"
     ]
    }
   ],
   "source": [
    "import asyncio\n",
    "\n",
    "async def main():\n",
    "    await asyncio.sleep(1)\n",
    "    print(\"Main function is done\")\n",
    "\n",
    "await main()\n"
   ]
  },
  {
   "cell_type": "code",
   "execution_count": null,
   "id": "53270a8c",
   "metadata": {},
   "outputs": [],
   "source": []
  },
  {
   "cell_type": "code",
   "execution_count": null,
   "id": "69f99a59",
   "metadata": {},
   "outputs": [],
   "source": []
  },
  {
   "cell_type": "code",
   "execution_count": null,
   "id": "7dde47af",
   "metadata": {},
   "outputs": [],
   "source": []
  },
  {
   "cell_type": "code",
   "execution_count": 25,
   "id": "2981fada",
   "metadata": {},
   "outputs": [
    {
     "name": "stdout",
     "output_type": "stream",
     "text": [
      "Overwriting web_so.py\n"
     ]
    }
   ],
   "source": [
    "%%writefile web_so.py\n",
    "\n",
    "import asyncio\n",
    "import websockets\n",
    "\n",
    "# 클라이언트가 서버로 메시지를 보낼 때 실행될 함수\n",
    "async def receive_message(websocket, path):\n",
    "    async for message in websocket:\n",
    "        # 클라이언트로부터 메시지를 받으면 콘솔에 출력\n",
    "        print(f\"Received message from client: {message}\")\n",
    "\n",
    "# 웹소켓 서버를 실행하는 메인 함수\n",
    "async def main():\n",
    "    # 웹소켓 서버를 5678 포트에서 시작\n",
    "    async with websockets.serve(receive_message, \"localhost\", 5678):\n",
    "        # 서버가 종료될 때까지 대기\n",
    "        await asyncio.Future()\n",
    "\n",
    "\n",
    "if __name__ == \"__main__\":\n",
    "    # 현재 실행 중인 이벤트 루프 가져오기\n",
    "    asyncio.run(main())\n"
   ]
  },
  {
   "cell_type": "code",
   "execution_count": 26,
   "id": "0a4de9f0",
   "metadata": {},
   "outputs": [
    {
     "name": "stdout",
     "output_type": "stream",
     "text": [
      "^C\r\n",
      "Traceback (most recent call last):\r\n",
      "  File \"/Users/a06411/opt/anaconda3/envs/fluentPython/lib/python3.11/asyncio/runners.py\", line 118, in run\r\n",
      "    return self._loop.run_until_complete(task)\r\n",
      "           ^^^^^^^^^^^^^^^^^^^^^^^^^^^^^^^^^^^\r\n",
      "  File \"/Users/a06411/opt/anaconda3/envs/fluentPython/lib/python3.11/asyncio/base_events.py\", line 653, in run_until_complete\r\n",
      "    return future.result()\r\n",
      "           ^^^^^^^^^^^^^^^\r\n",
      "  File \"/Users/a06411/Documents/GitHub/js_fluentpython_study/2024_2월_2주차/web_so.py\", line 16, in main\r\n",
      "    await asyncio.Future()\r\n",
      "asyncio.exceptions.CancelledError\r\n",
      "\r\n",
      "During handling of the above exception, another exception occurred:\r\n",
      "\r\n",
      "Traceback (most recent call last):\r\n",
      "  File \"/Users/a06411/Documents/GitHub/js_fluentpython_study/2024_2월_2주차/web_so.py\", line 21, in <module>\r\n",
      "    asyncio.run(main())\r\n",
      "  File \"/Users/a06411/opt/anaconda3/envs/fluentPython/lib/python3.11/asyncio/runners.py\", line 190, in run\r\n",
      "    return runner.run(main)\r\n",
      "           ^^^^^^^^^^^^^^^^\r\n",
      "  File \"/Users/a06411/opt/anaconda3/envs/fluentPython/lib/python3.11/asyncio/runners.py\", line 123, in run\r\n",
      "    raise KeyboardInterrupt()\r\n",
      "KeyboardInterrupt\r\n"
     ]
    }
   ],
   "source": [
    "!python web_so.py"
   ]
  },
  {
   "cell_type": "code",
   "execution_count": 24,
   "id": "f5f36522",
   "metadata": {},
   "outputs": [
    {
     "name": "stdout",
     "output_type": "stream",
     "text": [
      "Main function is done\n"
     ]
    }
   ],
   "source": [
    "import asyncio\n",
    "\n",
    "async def main():\n",
    "    # 비동기 작업 수행\n",
    "    await asyncio.sleep(1)\n",
    "    print(\"Main function is done\")\n",
    "\n",
    "await main()\n"
   ]
  },
  {
   "cell_type": "code",
   "execution_count": null,
   "id": "180fb1e9",
   "metadata": {},
   "outputs": [],
   "source": []
  }
 ],
 "metadata": {
  "kernelspec": {
   "display_name": "Python 3 (ipykernel)",
   "language": "python",
   "name": "python3"
  },
  "language_info": {
   "codemirror_mode": {
    "name": "ipython",
    "version": 3
   },
   "file_extension": ".py",
   "mimetype": "text/x-python",
   "name": "python",
   "nbconvert_exporter": "python",
   "pygments_lexer": "ipython3",
   "version": "3.11.3"
  }
 },
 "nbformat": 4,
 "nbformat_minor": 5
}
