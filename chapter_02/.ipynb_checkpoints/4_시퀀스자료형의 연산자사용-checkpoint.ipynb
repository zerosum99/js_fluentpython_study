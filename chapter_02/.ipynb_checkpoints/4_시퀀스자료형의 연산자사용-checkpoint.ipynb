{
 "cells": [
  {
   "cell_type": "code",
   "execution_count": null,
   "id": "f9bad8d7",
   "metadata": {},
   "outputs": [],
   "source": []
  },
  {
   "cell_type": "markdown",
   "id": "9e732cce",
   "metadata": {},
   "source": [
    "## 덧셈연산자 : 결합 "
   ]
  },
  {
   "cell_type": "code",
   "execution_count": 1,
   "id": "8003a0ae",
   "metadata": {},
   "outputs": [],
   "source": [
    "list1 = [1, 2, 3]\n",
    "list2 = [4, 5, 6]\n",
    "result_list = list1 + list2\n",
    "print(result_list)  # [1, 2, 3, 4, 5, 6]\n",
    "\n",
    "string1 = \"Hello, \"\n",
    "string2 = \"World!\"\n",
    "result_string = string1 + string2\n",
    "print(result_string)  # \"Hello, World!\"\n"
   ]
  },
  {
   "cell_type": "code",
   "execution_count": null,
   "id": "ec0f7a28",
   "metadata": {},
   "outputs": [],
   "source": []
  },
  {
   "cell_type": "markdown",
   "id": "9c41f439",
   "metadata": {},
   "source": [
    "## 곱셈연산자 : 반복"
   ]
  },
  {
   "cell_type": "code",
   "execution_count": 2,
   "id": "8b934f53",
   "metadata": {},
   "outputs": [],
   "source": [
    "list1 = [1, 2]\n",
    "result_list = list1 * 3\n",
    "print(result_list)  # [1, 2, 1, 2, 1, 2]\n",
    "\n",
    "string1 = \"abc\"\n",
    "result_string = string1 * 4\n",
    "print(result_string)  # \"abcabcabcabc\"\n"
   ]
  },
  {
   "cell_type": "code",
   "execution_count": null,
   "id": "42a926c0",
   "metadata": {},
   "outputs": [],
   "source": []
  }
 ],
 "metadata": {
  "kernelspec": {
   "display_name": "Python 3 (ipykernel)",
   "language": "python",
   "name": "python3"
  },
  "language_info": {
   "codemirror_mode": {
    "name": "ipython",
    "version": 3
   },
   "file_extension": ".py",
   "mimetype": "text/x-python",
   "name": "python",
   "nbconvert_exporter": "python",
   "pygments_lexer": "ipython3",
   "version": "3.9.16"
  }
 },
 "nbformat": 4,
 "nbformat_minor": 5
}
