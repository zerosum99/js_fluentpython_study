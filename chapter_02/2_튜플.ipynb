{
 "cells": [
  {
   "cell_type": "code",
   "execution_count": null,
   "id": "9eb6bc5b",
   "metadata": {},
   "outputs": [],
   "source": []
  },
  {
   "cell_type": "markdown",
   "id": "45d5a178",
   "metadata": {},
   "source": [
    "## 1.  튜플 클래스 알아보기"
   ]
  },
  {
   "cell_type": "markdown",
   "id": "c8511151",
   "metadata": {},
   "source": [
    "## 1-1 튜플은 변경불가"
   ]
  },
  {
   "cell_type": "code",
   "execution_count": 19,
   "id": "ef0db44f",
   "metadata": {},
   "outputs": [],
   "source": [
    "import collections.abc as abc"
   ]
  },
  {
   "cell_type": "code",
   "execution_count": 20,
   "id": "a6a2b8a6",
   "metadata": {},
   "outputs": [
    {
     "data": {
      "text/plain": [
       "True"
      ]
     },
     "execution_count": 20,
     "metadata": {},
     "output_type": "execute_result"
    }
   ],
   "source": [
    "issubclass(tuple, abc.Sequence)"
   ]
  },
  {
   "cell_type": "markdown",
   "id": "b831260a",
   "metadata": {},
   "source": [
    "## 1-2 튜플을 리스트에 만들기 "
   ]
  },
  {
   "cell_type": "code",
   "execution_count": 2,
   "id": "c9a0b296",
   "metadata": {},
   "outputs": [],
   "source": [
    "# %load metro_lat_long.py\n",
    "metro_areas = [\n",
    "    ('Tokyo', 'JP', 36.933, (35.689722, 139.691667)),   # <1>\n",
    "    ('Delhi NCR', 'IN', 21.935, (28.613889, 77.208889)),\n",
    "    ('Mexico City', 'MX', 20.142, (19.433333, -99.133333)),\n",
    "    ('New York-Newark', 'US', 20.104, (40.808611, -74.020386)),\n",
    "    ('Sao Paulo', 'BR', 19.649, (-23.547778, -46.635833)),\n",
    "]\n"
   ]
  },
  {
   "cell_type": "markdown",
   "id": "b749ca35",
   "metadata": {},
   "source": [
    "## 1-3 튜플로 언패킹 처리하기 "
   ]
  },
  {
   "cell_type": "markdown",
   "id": "4e3ea1cc",
   "metadata": {},
   "source": [
    "### 정해진 개수 만큼 언패킹"
   ]
  },
  {
   "cell_type": "code",
   "execution_count": 7,
   "id": "f4391641",
   "metadata": {},
   "outputs": [],
   "source": [
    "name, cc, pop, (latitude, longitude) = metro_areas[0]"
   ]
  },
  {
   "cell_type": "code",
   "execution_count": 8,
   "id": "ac55c1fd",
   "metadata": {},
   "outputs": [
    {
     "data": {
      "text/plain": [
       "('Tokyo', 'JP', 36.933, (35.689722, 139.691667))"
      ]
     },
     "execution_count": 8,
     "metadata": {},
     "output_type": "execute_result"
    }
   ],
   "source": [
    "name, cc, pop, (latitude, longitude)"
   ]
  },
  {
   "cell_type": "markdown",
   "id": "0c8e9997",
   "metadata": {},
   "source": [
    "### 내포된 튜플 언패킹"
   ]
  },
  {
   "cell_type": "code",
   "execution_count": 3,
   "id": "108581bd",
   "metadata": {},
   "outputs": [
    {
     "name": "stdout",
     "output_type": "stream",
     "text": [
      "                |   lat.    |   long.  \n"
     ]
    }
   ],
   "source": [
    "print('{:15} | {:^9} | {:^9}'.format('', 'lat.', 'long.'))"
   ]
  },
  {
   "cell_type": "code",
   "execution_count": 4,
   "id": "f20b4f0f",
   "metadata": {},
   "outputs": [],
   "source": [
    "fmt = '{:15} | {:9.4f} | {:9.4f}'"
   ]
  },
  {
   "cell_type": "code",
   "execution_count": 5,
   "id": "6ae6fa45",
   "metadata": {},
   "outputs": [
    {
     "name": "stdout",
     "output_type": "stream",
     "text": [
      "Mexico City     |   19.4333 |  -99.1333\n",
      "New York-Newark |   40.8086 |  -74.0204\n",
      "Sao Paulo       |  -23.5478 |  -46.6358\n"
     ]
    }
   ],
   "source": [
    "for name, cc, pop, (latitude, longitude) in metro_areas:  # <2>\n",
    "    if longitude <= 0:  # <3>\n",
    "        print(fmt.format(name, latitude, longitude))"
   ]
  },
  {
   "cell_type": "code",
   "execution_count": null,
   "id": "757b215b",
   "metadata": {},
   "outputs": [],
   "source": []
  },
  {
   "cell_type": "markdown",
   "id": "e1679a7a",
   "metadata": {},
   "source": [
    "### 특정한 원소만 언패킹 처리 "
   ]
  },
  {
   "cell_type": "code",
   "execution_count": 26,
   "id": "1098a2c8",
   "metadata": {},
   "outputs": [],
   "source": [
    "a,b,*c = (1,2,3,4,5) "
   ]
  },
  {
   "cell_type": "code",
   "execution_count": 27,
   "id": "ade75dd8",
   "metadata": {},
   "outputs": [
    {
     "data": {
      "text/plain": [
       "(1, 2, [3, 4, 5])"
      ]
     },
     "execution_count": 27,
     "metadata": {},
     "output_type": "execute_result"
    }
   ],
   "source": [
    "a,b,c"
   ]
  },
  {
   "cell_type": "markdown",
   "id": "85d17509",
   "metadata": {},
   "source": [
    "### 리스트도 언패킹 가능"
   ]
  },
  {
   "cell_type": "code",
   "execution_count": 28,
   "id": "897e34e3",
   "metadata": {},
   "outputs": [],
   "source": [
    "a1,b1,*c1 = [1,2,3,4,5]"
   ]
  },
  {
   "cell_type": "code",
   "execution_count": 29,
   "id": "93400e8d",
   "metadata": {},
   "outputs": [
    {
     "data": {
      "text/plain": [
       "(1, 2, [3, 4, 5])"
      ]
     },
     "execution_count": 29,
     "metadata": {},
     "output_type": "execute_result"
    }
   ],
   "source": [
    "a1,b1,c1"
   ]
  },
  {
   "cell_type": "code",
   "execution_count": null,
   "id": "bb219814",
   "metadata": {},
   "outputs": [],
   "source": []
  },
  {
   "cell_type": "markdown",
   "id": "44db33ec",
   "metadata": {},
   "source": [
    "## 1-4 네임드 튜플로 변형해서 처리하기 "
   ]
  },
  {
   "cell_type": "code",
   "execution_count": 9,
   "id": "02536a3b",
   "metadata": {},
   "outputs": [],
   "source": [
    "from typing import NamedTuple"
   ]
  },
  {
   "cell_type": "code",
   "execution_count": 14,
   "id": "739a7af9",
   "metadata": {},
   "outputs": [],
   "source": [
    "class Metro(NamedTuple):\n",
    "    name : str\n",
    "    cc : str\n",
    "    pop : float\n",
    "    latitude : float\n",
    "    longitude : float"
   ]
  },
  {
   "cell_type": "code",
   "execution_count": 16,
   "id": "1621d68c",
   "metadata": {},
   "outputs": [],
   "source": [
    "met_ar = [Metro(name, cc, pop, latitude, longitude) for name, cc, pop, (latitude, longitude) in metro_areas]"
   ]
  },
  {
   "cell_type": "code",
   "execution_count": 17,
   "id": "0909c617",
   "metadata": {},
   "outputs": [
    {
     "data": {
      "text/plain": [
       "[Metro(name='Tokyo', cc='JP', pop=36.933, latitude=35.689722, longitude=139.691667),\n",
       " Metro(name='Delhi NCR', cc='IN', pop=21.935, latitude=28.613889, longitude=77.208889),\n",
       " Metro(name='Mexico City', cc='MX', pop=20.142, latitude=19.433333, longitude=-99.133333),\n",
       " Metro(name='New York-Newark', cc='US', pop=20.104, latitude=40.808611, longitude=-74.020386),\n",
       " Metro(name='Sao Paulo', cc='BR', pop=19.649, latitude=-23.547778, longitude=-46.635833)]"
      ]
     },
     "execution_count": 17,
     "metadata": {},
     "output_type": "execute_result"
    }
   ],
   "source": [
    "met_ar"
   ]
  },
  {
   "cell_type": "code",
   "execution_count": null,
   "id": "47f6618e",
   "metadata": {},
   "outputs": [],
   "source": []
  },
  {
   "cell_type": "markdown",
   "id": "34470493",
   "metadata": {},
   "source": [
    "## 1-5 튜플 내의 원소 변경\n",
    "\n",
    "- 튜플내의 변경가능한 객체를 원소로 넣으면 갱신이 가능해짐\n",
    "- 그래서 튜플이 완변한 변경불가는 아님 항상 주의해서 사용할 것 "
   ]
  },
  {
   "cell_type": "markdown",
   "id": "c64ae360",
   "metadata": {},
   "source": [
    "### 튜플 내에 리스트가 있을 경우 리스트는 변경가능"
   ]
  },
  {
   "cell_type": "code",
   "execution_count": 21,
   "id": "0e8d6698",
   "metadata": {},
   "outputs": [],
   "source": [
    "tl = tuple([1,2,3,[4,5]])"
   ]
  },
  {
   "cell_type": "code",
   "execution_count": 25,
   "id": "9d64b40d",
   "metadata": {},
   "outputs": [
    {
     "data": {
      "text/plain": [
       "(1, 2, 3, [999, 5])"
      ]
     },
     "execution_count": 25,
     "metadata": {},
     "output_type": "execute_result"
    }
   ],
   "source": [
    "tl"
   ]
  },
  {
   "cell_type": "markdown",
   "id": "aee02f07",
   "metadata": {},
   "source": [
    "### 리스트 원소 갱신 "
   ]
  },
  {
   "cell_type": "code",
   "execution_count": 23,
   "id": "7a45084e",
   "metadata": {},
   "outputs": [],
   "source": [
    "tl[3][0] = 999"
   ]
  },
  {
   "cell_type": "code",
   "execution_count": 24,
   "id": "35ba8c1b",
   "metadata": {},
   "outputs": [
    {
     "data": {
      "text/plain": [
       "(1, 2, 3, [999, 5])"
      ]
     },
     "execution_count": 24,
     "metadata": {},
     "output_type": "execute_result"
    }
   ],
   "source": [
    "tl"
   ]
  },
  {
   "cell_type": "code",
   "execution_count": null,
   "id": "5a55657e",
   "metadata": {},
   "outputs": [],
   "source": []
  }
 ],
 "metadata": {
  "kernelspec": {
   "display_name": "Python 3 (ipykernel)",
   "language": "python",
   "name": "python3"
  },
  "language_info": {
   "codemirror_mode": {
    "name": "ipython",
    "version": 3
   },
   "file_extension": ".py",
   "mimetype": "text/x-python",
   "name": "python",
   "nbconvert_exporter": "python",
   "pygments_lexer": "ipython3",
   "version": "3.11.3"
  }
 },
 "nbformat": 4,
 "nbformat_minor": 5
}
