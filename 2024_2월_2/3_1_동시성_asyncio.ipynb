{
 "cells": [
  {
   "cell_type": "markdown",
   "id": "f7e14c41",
   "metadata": {},
   "source": [
    "## 파이썬 버전확인 "
   ]
  },
  {
   "cell_type": "code",
   "execution_count": 2,
   "id": "0765e896",
   "metadata": {},
   "outputs": [
    {
     "data": {
      "text/plain": [
       "'3.11.3'"
      ]
     },
     "execution_count": 2,
     "metadata": {},
     "output_type": "execute_result"
    }
   ],
   "source": [
    "import platform\n",
    "platform.python_version()"
   ]
  },
  {
   "cell_type": "code",
   "execution_count": null,
   "id": "dfa360ba",
   "metadata": {},
   "outputs": [],
   "source": []
  },
  {
   "cell_type": "code",
   "execution_count": null,
   "id": "2484012e",
   "metadata": {},
   "outputs": [],
   "source": []
  },
  {
   "cell_type": "markdown",
   "id": "65c6d454",
   "metadata": {},
   "source": [
    "## 모듈 임포트 "
   ]
  },
  {
   "cell_type": "code",
   "execution_count": 3,
   "id": "10d55607",
   "metadata": {},
   "outputs": [],
   "source": [
    "from IPython.display import Image"
   ]
  },
  {
   "cell_type": "code",
   "execution_count": 8,
   "id": "c54b33c4",
   "metadata": {},
   "outputs": [],
   "source": [
    "import inspect"
   ]
  },
  {
   "cell_type": "code",
   "execution_count": 9,
   "id": "a1189290",
   "metadata": {},
   "outputs": [],
   "source": [
    "import asyncio, time , threading, multiprocessing"
   ]
  },
  {
   "cell_type": "code",
   "execution_count": null,
   "id": "f15c4742",
   "metadata": {},
   "outputs": [],
   "source": []
  },
  {
   "cell_type": "code",
   "execution_count": null,
   "id": "f54dc25b",
   "metadata": {},
   "outputs": [],
   "source": []
  },
  {
   "cell_type": "markdown",
   "id": "2c505a7a",
   "metadata": {},
   "source": [
    "## 1. asyncio 모듈을 사용한 비동기 프로그래밍(Asynchronous Programming): \n",
    "\n",
    "- asyncio 모듈을 사용하여 비동기적으로 작업을 수행할 수 있습니다. \n",
    "- 비동기 프로그래밍은 I/O-bound 작업에 특히 유용하며, 이벤트 루프를 통해 비동기 코드를 실행합니다."
   ]
  },
  {
   "cell_type": "markdown",
   "id": "9e516e90",
   "metadata": {},
   "source": [
    "## async await 처리 주피터 명령어 \n",
    "\n",
    "-   상태 확인 : %autoawait\n",
    "- on off 를 붙여서 상태를 세팅함 "
   ]
  },
  {
   "cell_type": "markdown",
   "id": "d949c19c",
   "metadata": {},
   "source": [
    "#### 상태 확인 "
   ]
  },
  {
   "cell_type": "code",
   "execution_count": 4,
   "id": "3102250c",
   "metadata": {},
   "outputs": [
    {
     "name": "stdout",
     "output_type": "stream",
     "text": [
      "IPython autoawait is `on`, and set to use `asyncio`\n"
     ]
    }
   ],
   "source": [
    "%autoawait"
   ]
  },
  {
   "cell_type": "markdown",
   "id": "dbc43b05",
   "metadata": {},
   "source": [
    "#### 상태 온 오프 "
   ]
  },
  {
   "cell_type": "code",
   "execution_count": 5,
   "id": "5855fe7e",
   "metadata": {},
   "outputs": [],
   "source": [
    "%autoawait off"
   ]
  },
  {
   "cell_type": "code",
   "execution_count": 6,
   "id": "052f55d5",
   "metadata": {},
   "outputs": [],
   "source": [
    "%autoawait on"
   ]
  },
  {
   "cell_type": "code",
   "execution_count": 7,
   "id": "473f4ec5",
   "metadata": {},
   "outputs": [
    {
     "name": "stdout",
     "output_type": "stream",
     "text": [
      "IPython autoawait is `on`, and set to use `asyncio`\n"
     ]
    }
   ],
   "source": [
    "%autoawait"
   ]
  },
  {
   "cell_type": "code",
   "execution_count": null,
   "id": "527ed3f8",
   "metadata": {},
   "outputs": [],
   "source": []
  },
  {
   "cell_type": "markdown",
   "id": "cc30e735",
   "metadata": {},
   "source": [
    "## 1-1 모듈에 대한 정보 확인 "
   ]
  },
  {
   "cell_type": "code",
   "execution_count": 10,
   "id": "68167301",
   "metadata": {},
   "outputs": [
    {
     "name": "stdout",
     "output_type": "stream",
     "text": [
      "ALL_COMPLETED, AbstractChildWatcher, AbstractEventLoop, AbstractEventLoopPolicy, AbstractServer, Barrier, BaseEventLoop, BaseProtocol, BaseTransport, BoundedSemaphore, BrokenBarrierError, BufferedProtocol, CancelledError, Condition, DatagramProtocol, DatagramTransport, DefaultEventLoopPolicy, Event, FIRST_COMPLETED, FIRST_EXCEPTION, FastChildWatcher, Future, Handle, IncompleteReadError, InvalidStateError, LifoQueue, LimitOverrunError, Lock, MultiLoopChildWatcher, PidfdChildWatcher, PriorityQueue, Protocol, Queue, QueueEmpty, QueueFull, ReadTransport, Runner, SafeChildWatcher, SelectorEventLoop, Semaphore, SendfileNotAvailableError, Server, StreamReader, StreamReaderProtocol, StreamWriter, SubprocessProtocol, SubprocessTransport, Task, TaskGroup, ThreadedChildWatcher, Timeout, TimeoutError, TimerHandle, Transport, WriteTransport, all_tasks, as_completed, base_events, base_futures, base_subprocess, base_tasks, constants, coroutines, create_subprocess_exec, create_subprocess_shell, create_task, current_task, ensure_future, events, exceptions, format_helpers, futures, gather, get_child_watcher, get_event_loop, get_event_loop_policy, get_running_loop, iscoroutine, iscoroutinefunction, isfuture, locks, log, mixins, new_event_loop, open_connection, open_unix_connection, protocols, queues, run, run_coroutine_threadsafe, runners, selector_events, set_child_watcher, set_event_loop, set_event_loop_policy, shield, sleep, sslproto, staggered, start_server, start_unix_server, streams, subprocess, sys, taskgroups, tasks, threads, timeout, timeout_at, timeouts, to_thread, transports, trsock, unix_events, wait, wait_for, wrap_future, "
     ]
    }
   ],
   "source": [
    "for i in dir(asyncio) :\n",
    "    if not i.startswith(\"_\") :\n",
    "        print(i, end=\", \")"
   ]
  },
  {
   "cell_type": "markdown",
   "id": "65e7fb5a",
   "metadata": {},
   "source": [
    "## 1-2  주요 클래스 \n",
    "\n",
    "- 이벤트, 태스크, 퓨처 등이 클래스"
   ]
  },
  {
   "cell_type": "code",
   "execution_count": 22,
   "id": "4e0ca68d",
   "metadata": {},
   "outputs": [
    {
     "data": {
      "text/plain": [
       "asyncio.locks.Event"
      ]
     },
     "execution_count": 22,
     "metadata": {},
     "output_type": "execute_result"
    }
   ],
   "source": [
    "asyncio.Event"
   ]
  },
  {
   "cell_type": "code",
   "execution_count": 53,
   "id": "277f1beb",
   "metadata": {},
   "outputs": [
    {
     "name": "stdout",
     "output_type": "stream",
     "text": [
      "clear, is_set, set, wait, "
     ]
    }
   ],
   "source": [
    "for i in dir(asyncio.Event) :\n",
    "    if not i.startswith(\"_\") :\n",
    "        print(i, end=\", \")"
   ]
  },
  {
   "cell_type": "code",
   "execution_count": 34,
   "id": "e09e864f",
   "metadata": {},
   "outputs": [
    {
     "data": {
      "text/plain": [
       "asyncio.locks.Condition"
      ]
     },
     "execution_count": 34,
     "metadata": {},
     "output_type": "execute_result"
    }
   ],
   "source": [
    "asyncio.Condition"
   ]
  },
  {
   "cell_type": "code",
   "execution_count": 54,
   "id": "0d9647ee",
   "metadata": {},
   "outputs": [
    {
     "name": "stdout",
     "output_type": "stream",
     "text": [
      "notify, notify_all, wait, wait_for, "
     ]
    }
   ],
   "source": [
    "for i in dir(asyncio.Condition) :\n",
    "    if not i.startswith(\"_\") :\n",
    "        print(i, end=\", \")"
   ]
  },
  {
   "cell_type": "code",
   "execution_count": 23,
   "id": "5f73f6f1",
   "metadata": {},
   "outputs": [
    {
     "data": {
      "text/plain": [
       "asyncio.tasks.Task"
      ]
     },
     "execution_count": 23,
     "metadata": {},
     "output_type": "execute_result"
    }
   ],
   "source": [
    "asyncio.Task"
   ]
  },
  {
   "cell_type": "code",
   "execution_count": 55,
   "id": "e8d610f5",
   "metadata": {},
   "outputs": [
    {
     "name": "stdout",
     "output_type": "stream",
     "text": [
      "add_done_callback, cancel, cancelled, cancelling, done, exception, get_coro, get_loop, get_name, get_stack, print_stack, remove_done_callback, result, set_exception, set_name, set_result, uncancel, "
     ]
    }
   ],
   "source": [
    "for i in dir(asyncio.Task) :\n",
    "    if not i.startswith(\"_\") :\n",
    "        print(i, end=\", \")"
   ]
  },
  {
   "cell_type": "code",
   "execution_count": 24,
   "id": "c375499d",
   "metadata": {},
   "outputs": [
    {
     "data": {
      "text/plain": [
       "asyncio.futures.Future"
      ]
     },
     "execution_count": 24,
     "metadata": {},
     "output_type": "execute_result"
    }
   ],
   "source": [
    "asyncio.Future"
   ]
  },
  {
   "cell_type": "code",
   "execution_count": 56,
   "id": "8c9010f4",
   "metadata": {},
   "outputs": [
    {
     "name": "stdout",
     "output_type": "stream",
     "text": [
      "add_done_callback, cancel, cancelled, done, exception, get_loop, remove_done_callback, result, set_exception, set_result, "
     ]
    }
   ],
   "source": [
    "for i in dir(asyncio.Future) :\n",
    "    if not i.startswith(\"_\") :\n",
    "        print(i, end=\", \")"
   ]
  },
  {
   "cell_type": "code",
   "execution_count": 25,
   "id": "bbb2237a",
   "metadata": {},
   "outputs": [
    {
     "data": {
      "text/plain": [
       "asyncio.events.Handle"
      ]
     },
     "execution_count": 25,
     "metadata": {},
     "output_type": "execute_result"
    }
   ],
   "source": [
    "asyncio.Handle"
   ]
  },
  {
   "cell_type": "code",
   "execution_count": 57,
   "id": "c2a9d7ae",
   "metadata": {},
   "outputs": [
    {
     "name": "stdout",
     "output_type": "stream",
     "text": [
      "cancel, cancelled, "
     ]
    }
   ],
   "source": [
    "for i in dir(asyncio.Handle) :\n",
    "    if not i.startswith(\"_\") :\n",
    "        print(i, end=\", \")"
   ]
  },
  {
   "cell_type": "code",
   "execution_count": 36,
   "id": "8818e825",
   "metadata": {},
   "outputs": [
    {
     "data": {
      "text/plain": [
       "asyncio.locks.Lock"
      ]
     },
     "execution_count": 36,
     "metadata": {},
     "output_type": "execute_result"
    }
   ],
   "source": [
    "asyncio.Lock"
   ]
  },
  {
   "cell_type": "code",
   "execution_count": 58,
   "id": "83cf2a19",
   "metadata": {},
   "outputs": [
    {
     "name": "stdout",
     "output_type": "stream",
     "text": [
      "acquire, locked, release, "
     ]
    }
   ],
   "source": [
    "for i in dir(asyncio.Lock) :\n",
    "    if not i.startswith(\"_\") :\n",
    "        print(i, end=\", \")"
   ]
  },
  {
   "cell_type": "code",
   "execution_count": 37,
   "id": "fba0c436",
   "metadata": {},
   "outputs": [
    {
     "data": {
      "text/plain": [
       "asyncio.queues.Queue"
      ]
     },
     "execution_count": 37,
     "metadata": {},
     "output_type": "execute_result"
    }
   ],
   "source": [
    "asyncio.Queue"
   ]
  },
  {
   "cell_type": "code",
   "execution_count": 59,
   "id": "554dcae8",
   "metadata": {},
   "outputs": [
    {
     "name": "stdout",
     "output_type": "stream",
     "text": [
      "empty, full, get, get_nowait, join, maxsize, put, put_nowait, qsize, task_done, "
     ]
    }
   ],
   "source": [
    "for i in dir(asyncio.Queue) :\n",
    "    if not i.startswith(\"_\") :\n",
    "        print(i, end=\", \")"
   ]
  },
  {
   "cell_type": "code",
   "execution_count": null,
   "id": "0c7cdd8a",
   "metadata": {},
   "outputs": [],
   "source": []
  },
  {
   "cell_type": "markdown",
   "id": "683099a6",
   "metadata": {},
   "source": [
    "## 1-3 주요 함수\n",
    "\n",
    "- 이벤트 루프, 태스크 생성 등이 함수 "
   ]
  },
  {
   "cell_type": "markdown",
   "id": "78180b09",
   "metadata": {},
   "source": [
    "#### 이벤트루프 조회"
   ]
  },
  {
   "cell_type": "code",
   "execution_count": 29,
   "id": "577ebb26",
   "metadata": {},
   "outputs": [
    {
     "data": {
      "text/plain": [
       "<function nest_asyncio._patch_asyncio.<locals>._get_event_loop(stacklevel=3)>"
      ]
     },
     "execution_count": 29,
     "metadata": {},
     "output_type": "execute_result"
    }
   ],
   "source": [
    "asyncio.get_event_loop"
   ]
  },
  {
   "cell_type": "code",
   "execution_count": 60,
   "id": "0128d4fc",
   "metadata": {},
   "outputs": [
    {
     "data": {
      "text/plain": [
       "<function _asyncio.get_running_loop()>"
      ]
     },
     "execution_count": 60,
     "metadata": {},
     "output_type": "execute_result"
    }
   ],
   "source": [
    "asyncio.get_running_loop"
   ]
  },
  {
   "cell_type": "markdown",
   "id": "c2f2670a",
   "metadata": {},
   "source": [
    "#### 태스크 조회 "
   ]
  },
  {
   "cell_type": "code",
   "execution_count": 40,
   "id": "090ed9ee",
   "metadata": {},
   "outputs": [
    {
     "data": {
      "text/plain": [
       "<function asyncio.tasks.create_task(coro, *, name=None, context=None)>"
      ]
     },
     "execution_count": 40,
     "metadata": {},
     "output_type": "execute_result"
    }
   ],
   "source": [
    "asyncio.create_task"
   ]
  },
  {
   "cell_type": "code",
   "execution_count": 41,
   "id": "aef97532",
   "metadata": {},
   "outputs": [
    {
     "data": {
      "text/plain": [
       "<function asyncio.tasks.all_tasks(loop=None)>"
      ]
     },
     "execution_count": 41,
     "metadata": {},
     "output_type": "execute_result"
    }
   ],
   "source": [
    "asyncio.all_tasks"
   ]
  },
  {
   "cell_type": "markdown",
   "id": "e9c0dba3",
   "metadata": {},
   "source": [
    "#### 태스크 실행"
   ]
  },
  {
   "cell_type": "code",
   "execution_count": 27,
   "id": "a540d475",
   "metadata": {},
   "outputs": [
    {
     "data": {
      "text/plain": [
       "<function asyncio.tasks.gather(*coros_or_futures, return_exceptions=False)>"
      ]
     },
     "execution_count": 27,
     "metadata": {},
     "output_type": "execute_result"
    }
   ],
   "source": [
    "asyncio.gather"
   ]
  },
  {
   "cell_type": "code",
   "execution_count": 43,
   "id": "75a263cd",
   "metadata": {},
   "outputs": [
    {
     "data": {
      "text/plain": [
       "<function nest_asyncio._patch_asyncio.<locals>.run(main, *, debug=False)>"
      ]
     },
     "execution_count": 43,
     "metadata": {},
     "output_type": "execute_result"
    }
   ],
   "source": [
    "asyncio.run"
   ]
  },
  {
   "cell_type": "markdown",
   "id": "c36f836f",
   "metadata": {},
   "source": [
    "#### sleep 처리 "
   ]
  },
  {
   "cell_type": "code",
   "execution_count": 42,
   "id": "ba0f39b3",
   "metadata": {},
   "outputs": [
    {
     "data": {
      "text/plain": [
       "<function asyncio.tasks.sleep(delay, result=None)>"
      ]
     },
     "execution_count": 42,
     "metadata": {},
     "output_type": "execute_result"
    }
   ],
   "source": [
    "asyncio.sleep"
   ]
  },
  {
   "cell_type": "markdown",
   "id": "0248387b",
   "metadata": {},
   "source": [
    "#### 코루틴이나 퓨퍼 상태 조회"
   ]
  },
  {
   "cell_type": "code",
   "execution_count": 31,
   "id": "3299d56d",
   "metadata": {},
   "outputs": [
    {
     "data": {
      "text/plain": [
       "<function asyncio.coroutines.iscoroutine(obj)>"
      ]
     },
     "execution_count": 31,
     "metadata": {},
     "output_type": "execute_result"
    }
   ],
   "source": [
    "asyncio.iscoroutine"
   ]
  },
  {
   "cell_type": "code",
   "execution_count": 32,
   "id": "173d5dd0",
   "metadata": {},
   "outputs": [
    {
     "data": {
      "text/plain": [
       "<function asyncio.coroutines.iscoroutinefunction(func)>"
      ]
     },
     "execution_count": 32,
     "metadata": {},
     "output_type": "execute_result"
    }
   ],
   "source": [
    "asyncio.iscoroutinefunction"
   ]
  },
  {
   "cell_type": "code",
   "execution_count": 33,
   "id": "d45a22c1",
   "metadata": {},
   "outputs": [
    {
     "data": {
      "text/plain": [
       "<function asyncio.base_futures.isfuture(obj)>"
      ]
     },
     "execution_count": 33,
     "metadata": {},
     "output_type": "execute_result"
    }
   ],
   "source": [
    "asyncio.isfuture"
   ]
  },
  {
   "cell_type": "code",
   "execution_count": null,
   "id": "4e27b056",
   "metadata": {},
   "outputs": [],
   "source": []
  },
  {
   "cell_type": "markdown",
   "id": "31050c46",
   "metadata": {},
   "source": [
    "## 2.  코루틴 실행을 처리\n",
    "\n",
    "\n",
    "### 코루틴이란 \n",
    "\n",
    "- 코루틴(Coroutine)은 파이썬에서 비동기 프로그래밍을 위한 중요한 개념 중 하나입니다. 코\n",
    "- 루틴은 일반적인 함수와 유사하게 생겼지만, 몇 가지 차이점이 있습니다."
   ]
  },
  {
   "cell_type": "markdown",
   "id": "e295ab7f",
   "metadata": {},
   "source": []
  },
  {
   "cell_type": "markdown",
   "id": "585997ab",
   "metadata": {},
   "source": [
    "## async와 await 키워드 \n",
    "\n",
    "### async: \n",
    "- 함수를 비동기 함수로 정의합니다. 이 키워드를 함수 앞에 붙이면 해당 함수는 비동기적으로 실행됩니다. \n",
    "- 비동기 함수는 일반적으로 await 키워드를 사용하여 다른 비동기 함수를 호출하거나 비동기 작업을 수행합니다.\n",
    "\n",
    "### await: \n",
    "- 비동기 함수 내에서 다른 비동기 함수의 실행을 기다립니다. \n",
    "- await 키워드는 비동기 함수 내에서만 사용됩니다.\n",
    "- await 뒤에는 비동기식으로 작동하는 객체가 와야하며, 해당 객체의 작업이 완료될 때까지 현재 함수의 실행이 일시 중지됩니다."
   ]
  },
  {
   "cell_type": "code",
   "execution_count": null,
   "id": "51a839b6",
   "metadata": {},
   "outputs": [],
   "source": []
  },
  {
   "cell_type": "markdown",
   "id": "b22d1047",
   "metadata": {},
   "source": [
    "## 2-1  코루틴 생성하기 \n",
    "\n",
    "- async 키워드를 사용한 함수를 정의한다.\n",
    "- 이 함수를 실행하면 코푸틴이 생성된다 \n",
    "\n",
    "\n"
   ]
  },
  {
   "cell_type": "markdown",
   "id": "2d562260",
   "metadata": {},
   "source": [
    "### 2-1-1 비동기 함수인 코루틴 함수  정의\n",
    "- async를 def 보다 앞에 작성함\n",
    "\n",
    "#### async 키워드:\n",
    "\n",
    "- 코루틴을 정의할 때는 함수 정의 앞에 async 키워드를 사용합니다.\n",
    "- 이 키워드를 사용하면 해당 함수는 비동기 코루틴이라는 것을 나타냅니다."
   ]
  },
  {
   "cell_type": "code",
   "execution_count": 6,
   "id": "9a899db8",
   "metadata": {},
   "outputs": [],
   "source": [
    "async def cor() :\n",
    "    return 123"
   ]
  },
  {
   "cell_type": "markdown",
   "id": "b55e31fd",
   "metadata": {},
   "source": [
    "### 작성된 함수를 확인 "
   ]
  },
  {
   "cell_type": "code",
   "execution_count": 7,
   "id": "64aa0cf1",
   "metadata": {},
   "outputs": [
    {
     "name": "stdout",
     "output_type": "stream",
     "text": [
      "<class 'function'>\n"
     ]
    }
   ],
   "source": [
    "print(type(cor))"
   ]
  },
  {
   "cell_type": "markdown",
   "id": "77327cd4",
   "metadata": {},
   "source": [
    "### 코루틴 함수  여부 확인 \n",
    "\n",
    "- inspect 모듈을 사용해서 코루틴 함수여부 확인 "
   ]
  },
  {
   "cell_type": "code",
   "execution_count": 10,
   "id": "3911f6b2",
   "metadata": {},
   "outputs": [
    {
     "data": {
      "text/plain": [
       "True"
      ]
     },
     "execution_count": 10,
     "metadata": {},
     "output_type": "execute_result"
    }
   ],
   "source": [
    "inspect.iscoroutinefunction(cor)"
   ]
  },
  {
   "cell_type": "markdown",
   "id": "89a7029e",
   "metadata": {},
   "source": [
    "### 2-1-2 코루틴 함수를 실행하면 코루틴 객체를 생성 \n",
    "\n",
    "- 코루틴 함수를 실행하면 코루틴 객체를 만든 "
   ]
  },
  {
   "cell_type": "code",
   "execution_count": 37,
   "id": "a053e486",
   "metadata": {},
   "outputs": [],
   "source": [
    "f = cor()"
   ]
  },
  {
   "cell_type": "code",
   "execution_count": 41,
   "id": "9a38d0e5",
   "metadata": {},
   "outputs": [
    {
     "name": "stdout",
     "output_type": "stream",
     "text": [
      "<class 'coroutine'>\n"
     ]
    }
   ],
   "source": [
    "print(type(f))"
   ]
  },
  {
   "cell_type": "markdown",
   "id": "da35447b",
   "metadata": {},
   "source": [
    "### 코루틴 객체 여부를 확인 \n",
    "\n",
    "- inspect 모듈을 사용 "
   ]
  },
  {
   "cell_type": "code",
   "execution_count": 38,
   "id": "740d8cb8",
   "metadata": {},
   "outputs": [
    {
     "data": {
      "text/plain": [
       "True"
      ]
     },
     "execution_count": 38,
     "metadata": {},
     "output_type": "execute_result"
    }
   ],
   "source": [
    "inspect.iscoroutine(f)"
   ]
  },
  {
   "cell_type": "markdown",
   "id": "dafa894c",
   "metadata": {},
   "source": [
    "### 코루틴 객체 확인하기 "
   ]
  },
  {
   "cell_type": "code",
   "execution_count": 40,
   "id": "add0a215",
   "metadata": {},
   "outputs": [
    {
     "name": "stdout",
     "output_type": "stream",
     "text": [
      "__await__, __class__, __del__, __delattr__, __dir__, __doc__, __eq__, __format__, __ge__, __getattribute__, __getstate__, __gt__, __hash__, __init__, __init_subclass__, __le__, __lt__, __name__, __ne__, __new__, __qualname__, __reduce__, __reduce_ex__, __repr__, __setattr__, __sizeof__, __str__, __subclasshook__, close, cr_await, cr_code, cr_frame, cr_origin, cr_running, cr_suspended, send, throw, "
     ]
    }
   ],
   "source": [
    "for i in dir(f) : \n",
    "    print(i, end=\", \")"
   ]
  },
  {
   "cell_type": "code",
   "execution_count": null,
   "id": "27f336ab",
   "metadata": {},
   "outputs": [],
   "source": []
  },
  {
   "cell_type": "markdown",
   "id": "32675c56",
   "metadata": {},
   "source": [
    "## 2-2.  코루틴 함수를 실행하기 \n",
    "\n",
    "\n",
    "### await 키워드:\n",
    "\n",
    "- await 키워드는 다른 코루틴이나 비동기적으로 실행되는 객체를 기다릴 때 사용됩니다.\n",
    "- await가 사용된 표현식이 완료되기를 기다리면서 다른 작업을 수행할 수 있습니다.\n",
    "\n",
    "\n",
    "#### 비동기 작업의 완료를 기다림: \n",
    "- await는 비동기 함수나 코루틴이 완료될 때까지 현재 코루틴의 실행을 일시 중단합니다. \n",
    "- 이는 비동기 작업의 완료를 기다리고, 그 후에 다음 작업을 계속 수행할 수 있도록 합니다.\n",
    "\n",
    "#### 동시성 유지: \n",
    "- 비동기 작업을 기다리는 동안 이벤트 루프는 다른 작업을 처리할 수 있습니다. \n",
    "- 이는 동시성을 유지하고, 여러 작업을 병렬로 실행하여 시스템의 활용도를 높일 수 있습니다."
   ]
  },
  {
   "cell_type": "markdown",
   "id": "2f00682c",
   "metadata": {},
   "source": [
    "### awaitabe 이란 \n",
    "\n",
    "-  일시중단함수는 ..."
   ]
  },
  {
   "cell_type": "code",
   "execution_count": 36,
   "id": "106b8e5b",
   "metadata": {},
   "outputs": [],
   "source": [
    "async def example():\n",
    "    result = await some_async_function()\n",
    "    # result를 사용한 후 다른 작업 수행\n"
   ]
  },
  {
   "cell_type": "markdown",
   "id": "188cfce5",
   "metadata": {},
   "source": [
    "### 일시중지 함수를 await 없이 실행\n",
    "\n",
    "- 코루틴이 실행되지 않음 "
   ]
  },
  {
   "cell_type": "code",
   "execution_count": 16,
   "id": "d1eae9cb",
   "metadata": {},
   "outputs": [
    {
     "name": "stdout",
     "output_type": "stream",
     "text": [
      "42\n"
     ]
    },
    {
     "name": "stderr",
     "output_type": "stream",
     "text": [
      "/var/folders/h4/44486vyn1_xbs13g1z50l5m00000gn/T/ipykernel_5802/2771563308.py:8: RuntimeWarning: coroutine 'nested' was never awaited\n",
      "  nested()\n",
      "RuntimeWarning: Enable tracemalloc to get the object allocation traceback\n"
     ]
    }
   ],
   "source": [
    "async def nested():\n",
    "    return 42\n",
    "\n",
    "async def main():\n",
    "    # 비동기 함수는 await 없이 실행하면 에러가 발생한다. \n",
    "    nested()\n",
    "\n",
    "    # Let's do it differently now and await it:\n",
    "    print(await nested())  # will print \"42\".\n",
    "\n",
    "asyncio.run(main())"
   ]
  },
  {
   "cell_type": "markdown",
   "id": "47dc4585",
   "metadata": {},
   "source": [
    "### 코루틴은 await 붙여서 실행"
   ]
  },
  {
   "cell_type": "code",
   "execution_count": 18,
   "id": "e0ef7c8d",
   "metadata": {},
   "outputs": [
    {
     "name": "stdout",
     "output_type": "stream",
     "text": [
      "42\n"
     ]
    }
   ],
   "source": [
    "async def nested():\n",
    "    return 42\n",
    "\n",
    "async def main():\n",
    "    \n",
    "    # Let's do it differently now and await it:\n",
    "    print(await nested())  # will print \"42\".\n",
    "\n",
    "await main()"
   ]
  },
  {
   "cell_type": "code",
   "execution_count": null,
   "id": "992eb5c2",
   "metadata": {},
   "outputs": [],
   "source": []
  },
  {
   "cell_type": "code",
   "execution_count": null,
   "id": "ad858732",
   "metadata": {},
   "outputs": [],
   "source": []
  },
  {
   "cell_type": "markdown",
   "id": "6f5383d6",
   "metadata": {},
   "source": [
    "## 3. 이벤트 루프를 통한 함수 호출 알아보기 \n",
    "\n",
    "- 코루틴은 이벤트 루프에 의해 관리되며, 비동기적으로 호출됩니다.\n",
    "- 이벤트 루프는 코루틴이 실행되는 순서를 관리하고, 비동기적으로 여러 코루틴을 실행할 수 있도록 합니다."
   ]
  },
  {
   "cell_type": "code",
   "execution_count": null,
   "id": "cdf13933",
   "metadata": {},
   "outputs": [],
   "source": []
  },
  {
   "cell_type": "markdown",
   "id": "ed98e6e9",
   "metadata": {},
   "source": [
    "## 3-1 이벤트 루프를 가져올 때 충돌 \n",
    "- 이미 실행 중인 이벤트 주피터 노트북이나 IPython 환경에서는 이미 이벤트 루프가 실행 중이므로 \n",
    "- loop.run_until_complete(main())과 같은 방식으로 이벤트 루프를 직접 실행할 수 없습니다."
   ]
  },
  {
   "cell_type": "markdown",
   "id": "5c4f310d",
   "metadata": {},
   "source": [
    "### 코루틴 함수를 작성 "
   ]
  },
  {
   "cell_type": "code",
   "execution_count": 12,
   "id": "f9e2b889",
   "metadata": {},
   "outputs": [],
   "source": [
    "async def main():\n",
    "    print('Hello ...')\n",
    "    await asyncio.sleep(1)\n",
    "    print('... World!')"
   ]
  },
  {
   "cell_type": "markdown",
   "id": "471dc08f",
   "metadata": {},
   "source": [
    "### 이벤트루프 확인 및 코루틴함수 실행\n",
    "\n",
    "- 주피터노트북이 이벤트루프를 사용해서 예외 발생함\n",
    "- 예외가 발생하지 않으려면 하위 이벤트루프로 처리되어야 함 "
   ]
  },
  {
   "cell_type": "code",
   "execution_count": 13,
   "id": "93f79575",
   "metadata": {},
   "outputs": [
    {
     "ename": "RuntimeError",
     "evalue": "This event loop is already running",
     "output_type": "error",
     "traceback": [
      "\u001b[0;31m---------------------------------------------------------------------------\u001b[0m",
      "\u001b[0;31mRuntimeError\u001b[0m                              Traceback (most recent call last)",
      "Cell \u001b[0;32mIn[13], line 2\u001b[0m\n\u001b[1;32m      1\u001b[0m loop \u001b[38;5;241m=\u001b[39m asyncio\u001b[38;5;241m.\u001b[39mget_event_loop()\n\u001b[0;32m----> 2\u001b[0m \u001b[43mloop\u001b[49m\u001b[38;5;241;43m.\u001b[39;49m\u001b[43mrun_until_complete\u001b[49m\u001b[43m(\u001b[49m\u001b[43mmain\u001b[49m\u001b[43m(\u001b[49m\u001b[43m)\u001b[49m\u001b[43m)\u001b[49m\n",
      "File \u001b[0;32m~/opt/anaconda3/envs/fluentPython/lib/python3.11/asyncio/base_events.py:629\u001b[0m, in \u001b[0;36mBaseEventLoop.run_until_complete\u001b[0;34m(self, future)\u001b[0m\n\u001b[1;32m    618\u001b[0m \u001b[38;5;250m\u001b[39m\u001b[38;5;124;03m\"\"\"Run until the Future is done.\u001b[39;00m\n\u001b[1;32m    619\u001b[0m \n\u001b[1;32m    620\u001b[0m \u001b[38;5;124;03mIf the argument is a coroutine, it is wrapped in a Task.\u001b[39;00m\n\u001b[0;32m   (...)\u001b[0m\n\u001b[1;32m    626\u001b[0m \u001b[38;5;124;03mReturn the Future's result, or raise its exception.\u001b[39;00m\n\u001b[1;32m    627\u001b[0m \u001b[38;5;124;03m\"\"\"\u001b[39;00m\n\u001b[1;32m    628\u001b[0m \u001b[38;5;28mself\u001b[39m\u001b[38;5;241m.\u001b[39m_check_closed()\n\u001b[0;32m--> 629\u001b[0m \u001b[38;5;28;43mself\u001b[39;49m\u001b[38;5;241;43m.\u001b[39;49m\u001b[43m_check_running\u001b[49m\u001b[43m(\u001b[49m\u001b[43m)\u001b[49m\n\u001b[1;32m    631\u001b[0m new_task \u001b[38;5;241m=\u001b[39m \u001b[38;5;129;01mnot\u001b[39;00m futures\u001b[38;5;241m.\u001b[39misfuture(future)\n\u001b[1;32m    632\u001b[0m future \u001b[38;5;241m=\u001b[39m tasks\u001b[38;5;241m.\u001b[39mensure_future(future, loop\u001b[38;5;241m=\u001b[39m\u001b[38;5;28mself\u001b[39m)\n",
      "File \u001b[0;32m~/opt/anaconda3/envs/fluentPython/lib/python3.11/asyncio/base_events.py:588\u001b[0m, in \u001b[0;36mBaseEventLoop._check_running\u001b[0;34m(self)\u001b[0m\n\u001b[1;32m    586\u001b[0m \u001b[38;5;28;01mdef\u001b[39;00m \u001b[38;5;21m_check_running\u001b[39m(\u001b[38;5;28mself\u001b[39m):\n\u001b[1;32m    587\u001b[0m     \u001b[38;5;28;01mif\u001b[39;00m \u001b[38;5;28mself\u001b[39m\u001b[38;5;241m.\u001b[39mis_running():\n\u001b[0;32m--> 588\u001b[0m         \u001b[38;5;28;01mraise\u001b[39;00m \u001b[38;5;167;01mRuntimeError\u001b[39;00m(\u001b[38;5;124m'\u001b[39m\u001b[38;5;124mThis event loop is already running\u001b[39m\u001b[38;5;124m'\u001b[39m)\n\u001b[1;32m    589\u001b[0m     \u001b[38;5;28;01mif\u001b[39;00m events\u001b[38;5;241m.\u001b[39m_get_running_loop() \u001b[38;5;129;01mis\u001b[39;00m \u001b[38;5;129;01mnot\u001b[39;00m \u001b[38;5;28;01mNone\u001b[39;00m:\n\u001b[1;32m    590\u001b[0m         \u001b[38;5;28;01mraise\u001b[39;00m \u001b[38;5;167;01mRuntimeError\u001b[39;00m(\n\u001b[1;32m    591\u001b[0m             \u001b[38;5;124m'\u001b[39m\u001b[38;5;124mCannot run the event loop while another loop is running\u001b[39m\u001b[38;5;124m'\u001b[39m)\n",
      "\u001b[0;31mRuntimeError\u001b[0m: This event loop is already running"
     ]
    }
   ],
   "source": [
    "loop = asyncio.get_event_loop()\n",
    "loop.run_until_complete(main())"
   ]
  },
  {
   "cell_type": "markdown",
   "id": "205498b2",
   "metadata": {},
   "source": [
    "### 이벤트 루프 내에서는 await로 실행"
   ]
  },
  {
   "cell_type": "code",
   "execution_count": 14,
   "id": "6776fd43",
   "metadata": {},
   "outputs": [
    {
     "name": "stdout",
     "output_type": "stream",
     "text": [
      "Hello ...\n",
      "... World!\n"
     ]
    }
   ],
   "source": [
    "await main()"
   ]
  },
  {
   "cell_type": "markdown",
   "id": "42d16b9b",
   "metadata": {},
   "source": [
    "## 3-2 주피터노트북 내에서 이벤트 루프 처리하기 \n",
    "\n",
    "- nest_asyncio.apply() 함수를 호출하여 nest_asyncio를 활성화합니다. \n",
    "- 이렇게 하면 주피터 노트북에서 asyncio 코드를 실행할 때 이벤트 루프 관련 오류가 발생하지 않습니다.\n",
    "\n"
   ]
  },
  {
   "cell_type": "code",
   "execution_count": 15,
   "id": "508140af",
   "metadata": {},
   "outputs": [
    {
     "name": "stdout",
     "output_type": "stream",
     "text": [
      "<_UnixSelectorEventLoop running=True closed=False debug=False>\n",
      "Hello ...\n",
      "... World!\n"
     ]
    }
   ],
   "source": [
    "import nest_asyncio\n",
    "\n",
    "# nest_asyncio를 활성화합니다.\n",
    "nest_asyncio.apply()\n",
    "\n",
    "\n",
    "loop = asyncio.get_event_loop()\n",
    "\n",
    "print(loop)\n",
    "loop.run_until_complete(main())"
   ]
  },
  {
   "cell_type": "code",
   "execution_count": null,
   "id": "30e62646",
   "metadata": {},
   "outputs": [],
   "source": []
  },
  {
   "cell_type": "code",
   "execution_count": null,
   "id": "99b4aff9",
   "metadata": {},
   "outputs": [],
   "source": []
  },
  {
   "cell_type": "markdown",
   "id": "f65049c6",
   "metadata": {},
   "source": [
    "## 4. 코루틴 실행을 처리하는 함수\n",
    "\n",
    "\n",
    "\n",
    "### 1. asyncio.run(coro) 함수:\n",
    "\n",
    "- 최상위 레벨에서 사용되며, 비동기 코드를 실행합니다.\n",
    "- Python 3.7 버전 이상에서 사용 가능합니다.\n",
    "\n",
    "\n",
    "### 2. loop.run_until_complete(coro) 메서드:\n",
    "\n",
    "- 이벤트 루프에서 특정한 코루틴을 실행합니다.\n",
    "- loop는 asyncio.get_event_loop()로 얻을 수 있습니다.\n",
    "\n",
    "### 함수와 메서드를 사용할 경우 주피터에서 에러가 발생\n",
    "- 보통 wait로 처리 함 \n",
    "\n",
    "\n",
    "### 3. 태스크 메서드와 함수를 사용\n",
    "\n",
    "- loop.create_task(coro) 메서드:\n",
    "\n",
    "> 이벤트 루프에 백그라운드로 실행될 코루틴을 추가합니다.\n",
    "> 코루틴이 완료되지 않은 상태에서 다음 코드를 실행할 수 있습니다.\n",
    "\n",
    "- asyncio.gather(coro1, coro2, ...) 함수:\n",
    "\n",
    "> 여러 비동기 코루틴을 병렬로 실행하고 결과를 모읍니다.\n",
    "\n",
    "### 4. await 로 실행 처리 "
   ]
  },
  {
   "cell_type": "code",
   "execution_count": null,
   "id": "801c6a7e",
   "metadata": {},
   "outputs": [],
   "source": []
  },
  {
   "cell_type": "markdown",
   "id": "04e68236",
   "metadata": {},
   "source": [
    "## 4-1 run 함수로 실행하기 \n",
    "\n",
    "- 파이썬 파일을 만든다.\n",
    "- python으로 실행하면서 이벤트 루프 처리를 실행해야 한다."
   ]
  },
  {
   "cell_type": "markdown",
   "id": "009df665",
   "metadata": {},
   "source": [
    "### asyncio.run() 함수\n",
    "\n",
    "- asyncio 프로그램의 진입점(entry point)으로 사용됩니다. \n",
    "- 이 함수는 asyncio 이벤트 루프를 생성하고, 주어진 코루틴을 실행하며, 이벤트 루프를 종료시킵니다.\n",
    "\n",
    "### 주로 다음과 같은 역할을 수행합니다:\n",
    "\n",
    "- 이벤트 루프 생성: asyncio.run() 함수는 내부적으로 이벤트 루프를 생성합니다.\n",
    "- 코루틴 실행: 인수로 전달된 코루틴을 실행합니다. 이 코루틴은 비동기적으로 실행됩니다.\n",
    "- 이벤트 루프 실행: asyncio.run() 함수는 이벤트 루프를 실행하여 코루틴이 완료될 때까지 기다립니다.\n",
    "- 이벤트 루프 종료: 코루틴이 완료되면 이벤트 루프를 종료합니다. 종료되면 asyncio.run() 함수는 프로그램의 제어를 반환합니다."
   ]
  },
  {
   "cell_type": "code",
   "execution_count": 11,
   "id": "fb1d2356",
   "metadata": {},
   "outputs": [
    {
     "name": "stdout",
     "output_type": "stream",
     "text": [
      "Overwriting quickstart.py\n"
     ]
    }
   ],
   "source": [
    "%%writefile quickstart.py\n",
    "\n",
    "import asyncio, time \n",
    "\n",
    "async def main() :\n",
    "    print(f\"{time.ctime()} Hello \")\n",
    "    await asyncio.sleep(1.0)\n",
    "    print(f\"{time.ctime()} Goodbye \")\n",
    "    \n",
    "\n",
    "asyncio.run(main())\n",
    "\n",
    "# 이벤트 루프 종료\n"
   ]
  },
  {
   "cell_type": "code",
   "execution_count": 12,
   "id": "738eba29",
   "metadata": {},
   "outputs": [
    {
     "name": "stdout",
     "output_type": "stream",
     "text": [
      "Thu Feb  1 08:19:08 2024 Hello \n",
      "Thu Feb  1 08:19:09 2024 Goodbye \n"
     ]
    }
   ],
   "source": [
    "!python quickstart.py"
   ]
  },
  {
   "cell_type": "markdown",
   "id": "8db6f66c",
   "metadata": {},
   "source": [
    "## 4-2 await로 실행하기 "
   ]
  },
  {
   "cell_type": "code",
   "execution_count": 24,
   "id": "f578cef1",
   "metadata": {},
   "outputs": [
    {
     "name": "stdout",
     "output_type": "stream",
     "text": [
      "Hello ...\n",
      "... World!\n"
     ]
    }
   ],
   "source": [
    "async def main():\n",
    "    print('Hello ...')\n",
    "    await asyncio.sleep(1)\n",
    "    print('... World!')\n",
    "\n",
    "await main()"
   ]
  },
  {
   "cell_type": "code",
   "execution_count": null,
   "id": "5f00666d",
   "metadata": {},
   "outputs": [],
   "source": []
  },
  {
   "cell_type": "markdown",
   "id": "c61270d2",
   "metadata": {},
   "source": [
    "## 4-3  autoawait 상태 확인하기 "
   ]
  },
  {
   "cell_type": "code",
   "execution_count": 11,
   "id": "547e207a",
   "metadata": {},
   "outputs": [
    {
     "name": "stdout",
     "output_type": "stream",
     "text": [
      "IPython autoawait is `off`, and set to use `asyncio`\n"
     ]
    }
   ],
   "source": [
    "%autoawait"
   ]
  },
  {
   "cell_type": "code",
   "execution_count": 15,
   "id": "ad014602",
   "metadata": {},
   "outputs": [],
   "source": [
    "%autoawait on"
   ]
  },
  {
   "cell_type": "code",
   "execution_count": 16,
   "id": "6fdeaa3c",
   "metadata": {},
   "outputs": [
    {
     "name": "stdout",
     "output_type": "stream",
     "text": [
      "IPython autoawait is `on`, and set to use `asyncio`\n"
     ]
    }
   ],
   "source": [
    "%autoawait"
   ]
  },
  {
   "cell_type": "code",
   "execution_count": null,
   "id": "e0889f2f",
   "metadata": {},
   "outputs": [],
   "source": []
  },
  {
   "cell_type": "code",
   "execution_count": null,
   "id": "dde732a6",
   "metadata": {},
   "outputs": [],
   "source": []
  },
  {
   "cell_type": "markdown",
   "id": "7b852e2d",
   "metadata": {},
   "source": [
    "## 5. 두 개의  async 함수를 정의하고 처리하기\n",
    "\n",
    "### 주의사항 \n",
    "\n",
    "- 일반적으로 주피터 노트북은 이미 이벤트 루프를 가지고 있으며, 이벤트 루프는 한 번에 하나만 실행될 수 있습니다.\n",
    "- 따라서 loop.run_until_complete(main())을 호출하면 현재 이벤트 루프가 이미 실행 중이라는 에러가 발생합니다."
   ]
  },
  {
   "cell_type": "code",
   "execution_count": 17,
   "id": "1d9fc437",
   "metadata": {},
   "outputs": [],
   "source": [
    "async def example_coroutine():\n",
    "    print(\"Coroutine is running\")\n",
    "    await asyncio.sleep(1)\n",
    "    print(\"Coroutine is done\")\n",
    "\n",
    "async def main():\n",
    "    for _ in range(5):\n",
    "        await example_coroutine()\n"
   ]
  },
  {
   "cell_type": "markdown",
   "id": "2316fef4",
   "metadata": {},
   "source": [
    "## await로 이벤트 루프 사용"
   ]
  },
  {
   "cell_type": "code",
   "execution_count": 18,
   "id": "3ddd375f",
   "metadata": {},
   "outputs": [
    {
     "name": "stdout",
     "output_type": "stream",
     "text": [
      "<_UnixSelectorEventLoop running=True closed=False debug=False>\n",
      "Coroutine is running\n",
      "Coroutine is done\n",
      "Coroutine is running\n",
      "Coroutine is done\n",
      "Coroutine is running\n",
      "Coroutine is done\n",
      "Coroutine is running\n",
      "Coroutine is done\n",
      "Coroutine is running\n",
      "Coroutine is done\n"
     ]
    }
   ],
   "source": [
    "print(asyncio.get_event_loop())\n",
    "\n",
    "# 주피터 노트북의 이벤트 루프 사용\n",
    "await main()"
   ]
  },
  {
   "cell_type": "markdown",
   "id": "8853b9d3",
   "metadata": {},
   "source": [
    "### 이벤트 루프 확인하기 "
   ]
  },
  {
   "cell_type": "code",
   "execution_count": 19,
   "id": "9784a431",
   "metadata": {},
   "outputs": [
    {
     "name": "stdout",
     "output_type": "stream",
     "text": [
      "<_UnixSelectorEventLoop running=False closed=False debug=False>\n"
     ]
    }
   ],
   "source": [
    "# 새로운 이벤트 루프 생성\n",
    "loop = asyncio.new_event_loop()\n",
    "asyncio.set_event_loop(loop)\n",
    "\n",
    "print(loop)"
   ]
  },
  {
   "cell_type": "code",
   "execution_count": 20,
   "id": "a8e458b2",
   "metadata": {},
   "outputs": [
    {
     "name": "stdout",
     "output_type": "stream",
     "text": [
      "<_UnixSelectorEventLoop running=True closed=False debug=False>\n"
     ]
    }
   ],
   "source": [
    "# 현재 실행 중인 이벤트 루프 가져오기\n",
    "loop1 = asyncio.get_event_loop()\n",
    "print(loop1)"
   ]
  },
  {
   "cell_type": "code",
   "execution_count": 21,
   "id": "9069702e",
   "metadata": {},
   "outputs": [
    {
     "name": "stdout",
     "output_type": "stream",
     "text": [
      "Coroutine is running\n",
      "Coroutine is done\n",
      "Coroutine is running\n",
      "Coroutine is done\n",
      "Coroutine is running\n",
      "Coroutine is done\n",
      "Coroutine is running\n",
      "Coroutine is done\n",
      "Coroutine is running\n",
      "Coroutine is done\n"
     ]
    }
   ],
   "source": [
    "await main()"
   ]
  },
  {
   "cell_type": "code",
   "execution_count": null,
   "id": "c2bb1e80",
   "metadata": {},
   "outputs": [],
   "source": []
  },
  {
   "cell_type": "markdown",
   "id": "d097c7b7",
   "metadata": {},
   "source": [
    "## 6. 코루틴을 실행하기 위한 이벤트 "
   ]
  },
  {
   "cell_type": "code",
   "execution_count": 22,
   "id": "fbd883be",
   "metadata": {
    "scrolled": true
   },
   "outputs": [
    {
     "name": "stdout",
     "output_type": "stream",
     "text": [
      "Overwriting quickstart_1.py\n"
     ]
    }
   ],
   "source": [
    "%%writefile quickstart_1.py\n",
    "import asyncio, time \n",
    "\n",
    "async def main2() :\n",
    "    print(f\"{time.ctime()} Hello \")\n",
    "    await asyncio.sleep(1.0)\n",
    "    print(f\"{time.ctime()} Goodbye \")\n",
    "\n",
    "# 현재 실행 중인 이벤트 루프 가져오기\n",
    "loop = asyncio.get_event_loop()\n",
    "\n",
    "print(loop)\n",
    "loop.stop()"
   ]
  },
  {
   "cell_type": "code",
   "execution_count": 23,
   "id": "847eba69",
   "metadata": {},
   "outputs": [
    {
     "name": "stdout",
     "output_type": "stream",
     "text": [
      "<_UnixSelectorEventLoop running=False closed=False debug=False>\r\n"
     ]
    }
   ],
   "source": [
    "!python quickstart_1.py"
   ]
  },
  {
   "cell_type": "code",
   "execution_count": 24,
   "id": "5badef61",
   "metadata": {},
   "outputs": [],
   "source": [
    "lll = asyncio.get_event_loop()"
   ]
  },
  {
   "cell_type": "markdown",
   "id": "862d4b89",
   "metadata": {},
   "source": [
    "## 주피터에서는 기존 이벤트 루프로 처리하면 에러 발생\n",
    "\n",
    "- 그래서 await로 실행해야함 "
   ]
  },
  {
   "cell_type": "code",
   "execution_count": 25,
   "id": "df7a26ff",
   "metadata": {},
   "outputs": [],
   "source": [
    "async def main2() :\n",
    "    print(f\"{time.ctime()} Hello \")\n",
    "    await asyncio.sleep(1.0)\n",
    "    print(f\"{time.ctime()} Goodbye \")"
   ]
  },
  {
   "cell_type": "code",
   "execution_count": 26,
   "id": "d92a0541",
   "metadata": {},
   "outputs": [
    {
     "name": "stdout",
     "output_type": "stream",
     "text": [
      "Thu Jan 25 15:44:47 2024 Hello \n",
      "Thu Jan 25 15:44:48 2024 Goodbye \n"
     ]
    }
   ],
   "source": [
    "await main2()"
   ]
  },
  {
   "cell_type": "code",
   "execution_count": null,
   "id": "434b815a",
   "metadata": {},
   "outputs": [],
   "source": []
  },
  {
   "cell_type": "code",
   "execution_count": null,
   "id": "aa153d94",
   "metadata": {},
   "outputs": [],
   "source": []
  },
  {
   "cell_type": "markdown",
   "id": "2a802627",
   "metadata": {},
   "source": [
    "## 7. 비동기 처리 방식 확인"
   ]
  },
  {
   "cell_type": "code",
   "execution_count": null,
   "id": "6d774336",
   "metadata": {},
   "outputs": [],
   "source": []
  },
  {
   "cell_type": "markdown",
   "id": "979508a9",
   "metadata": {},
   "source": [
    "### asyncio에서 이벤트(Event)와 태스크(Task)는 비슷한 개념이지만 다른 역할을 합니다.\n",
    "\n",
    "### 이벤트(Event):\n",
    "\n",
    "- asyncio에서 이벤트는 특정 조건이 충족될 때 비동기 코드를 실행하도록 하는 신호입니다.\n",
    "- 예를 들어, 소켓이 데이터를 수신할 준비가 되었거나 파일이 쓰기 가능 상태인 경우 등이 이벤트에 해당합니다.\n",
    "- 이벤트는 asyncio.Event, asyncio.Condition, asyncio.Queue 등의 클래스로 표현될 수 있습니다.\n",
    "\n",
    "### 태스크(Task):\n",
    "\n",
    "- asyncio에서 태스크는 비동기로 실행될 코드 블록을 나타냅니다.\n",
    "- 코루틴(coroutine)을 asyncio 이벤트 루프에 추가하여 생성됩니다.\n",
    "- asyncio는 여러 태스크를 동시에 실행하고 관리할 수 있습니다.\n",
    "- 태스크는 asyncio의 핵심 개념이며, asyncio.create_task() 함수를 사용하여 코루틴을 Task 객체로 래핑하여 생성됩니다.\n",
    "- Task 객체는 asyncio 이벤트 루프 내에서 실행되며, 코루틴의 실행 결과나 예외를 처리합니다.\n"
   ]
  },
  {
   "cell_type": "code",
   "execution_count": null,
   "id": "4e276318",
   "metadata": {},
   "outputs": [],
   "source": []
  },
  {
   "cell_type": "code",
   "execution_count": null,
   "id": "28786e48",
   "metadata": {},
   "outputs": [],
   "source": []
  },
  {
   "cell_type": "markdown",
   "id": "95cea4a7",
   "metadata": {},
   "source": [
    "## 7-1  비동기 처리 \n",
    "\n",
    "- 실제 순차적으로 처리한다."
   ]
  },
  {
   "cell_type": "code",
   "execution_count": 28,
   "id": "c7298264",
   "metadata": {},
   "outputs": [
    {
     "name": "stdout",
     "output_type": "stream",
     "text": [
      "0\n",
      "1\n",
      "2\n",
      "3\n",
      "4\n",
      "A\n",
      "B\n",
      "C\n",
      "D\n",
      "E\n"
     ]
    }
   ],
   "source": [
    "async def print_numbers():\n",
    "    for i in range(5):\n",
    "        print(i)\n",
    "        await asyncio.sleep(1)\n",
    "\n",
    "async def print_letters():\n",
    "    for letter in 'ABCDE':\n",
    "        print(letter)\n",
    "        await asyncio.sleep(1)\n",
    "        \n",
    "        \n",
    "async def main():\n",
    "\n",
    "    await print_numbers()\n",
    "    await asyncio.sleep(1)\n",
    "    await print_letters()\n",
    "    \n",
    "await main()\n"
   ]
  },
  {
   "cell_type": "code",
   "execution_count": null,
   "id": "8628c60c",
   "metadata": {},
   "outputs": [],
   "source": []
  },
  {
   "cell_type": "markdown",
   "id": "8c188402",
   "metadata": {},
   "source": [
    "## 7-2 비동기 처리  해결방안\n",
    "\n",
    "- 동시에 처리려면 태스크를 만들고 이 태스크를 동시에 실행시켜야 함 \n",
    "- 코루틴 생성을 태스크로 지정하고 이 태스크를 모아서 처리함 "
   ]
  },
  {
   "cell_type": "markdown",
   "id": "8cd749c4",
   "metadata": {},
   "source": [
    "### 태스크 생성하고 처리하기 "
   ]
  },
  {
   "cell_type": "markdown",
   "id": "9d7c85e0",
   "metadata": {},
   "source": [
    "### asyncio.create_task() 함수\n",
    "- 주어진 코루틴을 asyncio 이벤트 루프 내에서 실행하기 위해 Task 객체를 생성합니다. \n",
    "- 이 함수는 백그라운드에서 비동기적으로 실행되는 작업을 만들 때 유용합니다.\n",
    "\n",
    "\n",
    "### asyncio.create_task() 함수가 하는 일은 다음과 같습니다:\n",
    "\n",
    "- 코루틴을 Task로 감싸기: 주어진 코루틴을 Task 객체로 감싸서 이벤트 루프에서 실행 가능한 형태로 만듭니다.\n",
    "- Task 객체 생성: 감싸진 코루틴을 실행하기 위해 asyncio 이벤트 루프 내에서 관리되는 Task 객체를 생성합니다.\n",
    "- 비동기적으로 실행: 생성된 Task 객체는 asyncio 이벤트 루프에서 비동기적으로 실행되며, 코루틴의 실행 결과나 예외를 처리합니다.\n",
    "- Task 객체 반환: 생성된 Task 객체를 반환합니다. 이를 통해 Task 객체를 추적하고 관리할 수 있습니다."
   ]
  },
  {
   "cell_type": "code",
   "execution_count": 19,
   "id": "badfc83c",
   "metadata": {},
   "outputs": [],
   "source": [
    "async def print_numbers():\n",
    "    for i in range(5):\n",
    "        print(i)\n",
    "        await asyncio.sleep(1)\n",
    "\n",
    "async def print_letters():\n",
    "    for letter in 'ABCDE':\n",
    "        print(letter)\n",
    "        await asyncio.sleep(1)\n",
    "\n",
    "async def main():\n",
    "    task1 = asyncio.create_task(print_numbers())\n",
    "    task2 = asyncio.create_task(print_letters())\n",
    "\n",
    "    await asyncio.gather(task1, task2)\n"
   ]
  },
  {
   "cell_type": "code",
   "execution_count": 20,
   "id": "655e77a4",
   "metadata": {},
   "outputs": [
    {
     "name": "stdout",
     "output_type": "stream",
     "text": [
      "0\n",
      "A\n",
      "1\n",
      "B\n",
      "2\n",
      "C\n",
      "3\n",
      "D\n",
      "4\n",
      "E\n"
     ]
    }
   ],
   "source": [
    "await main()\n"
   ]
  },
  {
   "cell_type": "code",
   "execution_count": null,
   "id": "19f74069",
   "metadata": {},
   "outputs": [],
   "source": []
  },
  {
   "cell_type": "code",
   "execution_count": 21,
   "id": "9133d609",
   "metadata": {},
   "outputs": [
    {
     "name": "stdout",
     "output_type": "stream",
     "text": [
      "0\n",
      "A\n",
      "1\n",
      "B\n",
      "2\n",
      "C\n",
      "3\n",
      "D\n",
      "4\n",
      "E\n"
     ]
    }
   ],
   "source": [
    "asyncio.run(main())"
   ]
  },
  {
   "cell_type": "code",
   "execution_count": null,
   "id": "b8d03182",
   "metadata": {},
   "outputs": [],
   "source": []
  },
  {
   "cell_type": "markdown",
   "id": "2f846585",
   "metadata": {},
   "source": [
    "## 8. syncio의 Handle 클래스\n",
    "\n",
    "- 이벤트 루프에 의해 관리되는 비동기 작업을 나타내는 핸들입니다. \n",
    "- 이 핸들은 특정 이벤트나 태스크를 나타내며, 이벤트 루프에 등록되어 비동기적으로 실행됩니다.\n",
    "\n",
    "### Handle 클래스는 일반적으로 다음과 같은 상황에서 사용됩니다:\n",
    "\n",
    "#### 이벤트 스케줄링: \n",
    "- 특정 시간 후에 실행되어야 하는 이벤트나 작업을 스케줄링할 때 사용됩니다. \n",
    "- 예를 들어, 특정 시간 후에 파일을 닫거나, 주기적으로 반복되는 작업을 수행할 수 있습니다.\n",
    "\n",
    "#### 비동기 작업 관리: \n",
    "- asyncio의 이벤트 루프에 등록된 비동기 작업을 관리하는 데 사용됩니다. \n",
    "- Handle 객체를 사용하여 작업을 추적하고 제어할 수 있습니다.\n",
    "\n",
    "#### Handle 클래스의 주요 메서드는 다음과 같습니다:\n",
    "\n",
    "- cancel(): 핸들을 취소하여 해당 이벤트나 작업을 중단시킵니다.\n",
    "- closed(): 핸들이 닫혔는지 여부를 확인합니다.\n",
    "- callback(): 핸들에 등록된 콜백 함수를 실행합니다."
   ]
  },
  {
   "cell_type": "markdown",
   "id": "7ef13b7f",
   "metadata": {},
   "source": [
    "## 이벤트 루프 내의 핸들 처리 방식 "
   ]
  },
  {
   "cell_type": "code",
   "execution_count": 48,
   "id": "1ff6f060",
   "metadata": {},
   "outputs": [
    {
     "name": "stdout",
     "output_type": "stream",
     "text": [
      "Scheduled message\n"
     ]
    }
   ],
   "source": [
    "\n",
    "async def print_message():\n",
    "    print(\"Scheduled message\")\n",
    "\n",
    "async def main():\n",
    "    # 이벤트 루프를 가져옵니다\n",
    "    loop = asyncio.get_event_loop()\n",
    "\n",
    "    # 3초 후에 print_message 함수를 실행하는 핸들을 생성합니다\n",
    "    handle = loop.call_later(3, asyncio.create_task, await print_message())\n",
    "\n",
    "    # 1초 대기 후에 핸들을 취소합니다\n",
    "    await asyncio.sleep(1)\n",
    "    handle.cancel()\n",
    "\n",
    "try:\n",
    "    asyncio.run(main())\n",
    "except KeyboardInterrupt:\n",
    "    print(\"KeyboardInterrupt: Stopping the program\")\n"
   ]
  },
  {
   "cell_type": "markdown",
   "id": "73313ccd",
   "metadata": {},
   "source": [
    "### 이벤트루프를 가져옴 "
   ]
  },
  {
   "cell_type": "code",
   "execution_count": 49,
   "id": "e06e322a",
   "metadata": {},
   "outputs": [
    {
     "data": {
      "text/plain": [
       "<_UnixSelectorEventLoop running=True closed=False debug=False>"
      ]
     },
     "execution_count": 49,
     "metadata": {},
     "output_type": "execute_result"
    }
   ],
   "source": [
    "asyncio.get_event_loop()"
   ]
  },
  {
   "cell_type": "code",
   "execution_count": 52,
   "id": "8bdeba54",
   "metadata": {},
   "outputs": [
    {
     "data": {
      "text/plain": [
       "<_UnixSelectorEventLoop running=True closed=False debug=False>"
      ]
     },
     "execution_count": 52,
     "metadata": {},
     "output_type": "execute_result"
    }
   ],
   "source": [
    "asyncio.get_running_loop()"
   ]
  },
  {
   "cell_type": "code",
   "execution_count": 50,
   "id": "94708067",
   "metadata": {},
   "outputs": [],
   "source": [
    "loop =asyncio.get_event_loop()"
   ]
  },
  {
   "cell_type": "markdown",
   "id": "7b0cf3f7",
   "metadata": {},
   "source": [
    "### 이벤트루프 내의 핸들 새성 메서드 "
   ]
  },
  {
   "cell_type": "code",
   "execution_count": 51,
   "id": "82556125",
   "metadata": {},
   "outputs": [
    {
     "data": {
      "text/plain": [
       "<bound method BaseEventLoop.call_later of <_UnixSelectorEventLoop running=True closed=False debug=False>>"
      ]
     },
     "execution_count": 51,
     "metadata": {},
     "output_type": "execute_result"
    }
   ],
   "source": [
    "loop.call_later"
   ]
  },
  {
   "cell_type": "code",
   "execution_count": null,
   "id": "7fe0e803",
   "metadata": {},
   "outputs": [],
   "source": []
  }
 ],
 "metadata": {
  "kernelspec": {
   "display_name": "Python 3 (ipykernel)",
   "language": "python",
   "name": "python3"
  },
  "language_info": {
   "codemirror_mode": {
    "name": "ipython",
    "version": 3
   },
   "file_extension": ".py",
   "mimetype": "text/x-python",
   "name": "python",
   "nbconvert_exporter": "python",
   "pygments_lexer": "ipython3",
   "version": "3.11.3"
  }
 },
 "nbformat": 4,
 "nbformat_minor": 5
}
