{
 "cells": [
  {
   "cell_type": "code",
   "execution_count": 1,
   "id": "13390d64",
   "metadata": {},
   "outputs": [
    {
     "data": {
      "text/plain": [
       "'3.11.3'"
      ]
     },
     "execution_count": 1,
     "metadata": {},
     "output_type": "execute_result"
    }
   ],
   "source": [
    "import platform\n",
    "\n",
    "platform.python_version()"
   ]
  },
  {
   "cell_type": "code",
   "execution_count": null,
   "id": "f8b28f96",
   "metadata": {},
   "outputs": [],
   "source": []
  },
  {
   "cell_type": "code",
   "execution_count": 2,
   "id": "4b36b13a",
   "metadata": {},
   "outputs": [],
   "source": [
    "import concurrent\n",
    "import concurrent.futures\n",
    "import time\n",
    "import math"
   ]
  },
  {
   "cell_type": "code",
   "execution_count": null,
   "id": "83f5aabb",
   "metadata": {},
   "outputs": [],
   "source": []
  },
  {
   "cell_type": "markdown",
   "id": "0a3ef189",
   "metadata": {},
   "source": [
    "## 1. 락처리 "
   ]
  },
  {
   "cell_type": "markdown",
   "id": "d6b459ca",
   "metadata": {},
   "source": [
    "## 1-1 스레드 락처리 "
   ]
  },
  {
   "cell_type": "markdown",
   "id": "0d82331d",
   "metadata": {},
   "source": [
    "- concurrent.futures 모듈은 스레드나 프로세스 기반의 비동기 작업을 처리할 때 사용됩니다. \n",
    "- 이 모듈은 일반적으로 ThreadPoolExecutor 클래스를 사용하여 작업을 실행하고 관리합니다.\n",
    "\n",
    "- 여기에는 Lock 클래스가 없습니다. 대신, 스레드나 프로세스 간의 상호배제를 위해 파이썬의 표준 라이브러리인 threading 모듈의 Lock 클래스를 사용할 수 있습니다."
   ]
  },
  {
   "cell_type": "code",
   "execution_count": 3,
   "id": "30e2ec45",
   "metadata": {},
   "outputs": [
    {
     "name": "stdout",
     "output_type": "stream",
     "text": [
      "Shared variable value: 1000000\n"
     ]
    }
   ],
   "source": [
    "import concurrent.futures\n",
    "import threading\n",
    "\n",
    "# 공유 변수\n",
    "shared_var = 0\n",
    "\n",
    "# 락 생성\n",
    "lock = threading.Lock()\n",
    "\n",
    "# 공유 변수를 증가시키는 함수\n",
    "def increment_shared_var():\n",
    "    global shared_var\n",
    "    for _ in range(100000):\n",
    "        with lock:  # 락을 사용하여 공유 변수에 대한 안전한 업데이트 보장\n",
    "            shared_var += 1\n",
    "\n",
    "# 스레드 풀 생성\n",
    "with concurrent.futures.ThreadPoolExecutor() as executor:\n",
    "    # 스레드를 풀에 추가\n",
    "    futures = [executor.submit(increment_shared_var) for _ in range(10)]\n",
    "\n",
    "# 모든 스레드의 작업이 완료될 때까지 대기\n",
    "concurrent.futures.wait(futures)\n",
    "\n",
    "# 공유 변수 값 출력\n",
    "print(\"Shared variable value:\", shared_var)\n"
   ]
  },
  {
   "cell_type": "markdown",
   "id": "ec5e272c",
   "metadata": {},
   "source": [
    "## 1-2 멀티프로세스 락 처리 "
   ]
  },
  {
   "cell_type": "markdown",
   "id": "bc13885d",
   "metadata": {},
   "source": [
    "### concurrent.futures 모듈\n",
    "- 스레드와 프로세스 기반의 비동기 작업을 처리하는 데 사용됩니다. \n",
    "- 여기서는 스레드 풀 및 프로세스 풀을 사용하여 작업을 관리합니다. \n",
    "- 이 모듈은 기본적으로 스레드 기반 및 프로세스 기반의 비동기 실행을 추상화하고,  ProcessPoolExecutor 클래스를 제공하여 관리를 용이하게 합니다.\n",
    "\n",
    "- 일반적으로 concurrent.futures 모듈에서는  multiprocessing.Lock을 사용하여 프로세스 간의 상호 배제를 달성합니다."
   ]
  },
  {
   "cell_type": "code",
   "execution_count": 7,
   "id": "90b40df2",
   "metadata": {},
   "outputs": [
    {
     "name": "stdout",
     "output_type": "stream",
     "text": [
      "Overwriting prcess_lock4.py\n"
     ]
    }
   ],
   "source": [
    "%%writefile prcess_lock4.py\n",
    "\n",
    "import concurrent.futures\n",
    "import threading\n",
    "import multiprocessing\n",
    "\n",
    "# 공유 변수\n",
    "shared_var = 0\n",
    "\n",
    "# 스레드 락\n",
    "thread_lock = threading.Lock()\n",
    "\n",
    "# 프로세스 락\n",
    "process_lock = multiprocessing.Lock()\n",
    "\n",
    "# 공유 변수를 증가시키는 함수\n",
    "def increment_shared_var_thread():\n",
    "    global shared_var\n",
    "    for _ in range(100000):\n",
    "        with thread_lock:\n",
    "            shared_var += 1\n",
    "\n",
    "def increment_shared_var_process():\n",
    "    global shared_var\n",
    "    for _ in range(100000):\n",
    "        with process_lock:\n",
    "            shared_var += 1\n",
    "            \n",
    "if __name__ == \"__main__\" : \n",
    "\n",
    "    # 스레드 풀 생성\n",
    "    with concurrent.futures.ThreadPoolExecutor() as executor:\n",
    "        # 스레드를 풀에 추가\n",
    "        futures = [executor.submit(increment_shared_var_thread) for _ in range(10)]\n",
    "\n",
    "    # 모든 스레드의 작업이 완료될 때까지 대기\n",
    "    concurrent.futures.wait(futures)\n",
    "\n",
    "    # 공유 변수 값 출력\n",
    "    print(\"Shared variable value (threading):\", shared_var)\n",
    "\n",
    "    # 프로세스 풀 생성\n",
    "    with concurrent.futures.ProcessPoolExecutor() as executor:\n",
    "        # 프로세스를 풀에 추가\n",
    "        futures = [executor.submit(increment_shared_var_process) for _ in range(10)]\n",
    "\n",
    "    # 모든 프로세스의 작업이 완료될 때까지 대기\n",
    "    concurrent.futures.wait(futures)\n",
    "\n",
    "    # 공유 변수 값 출력\n",
    "    print(\"Shared variable value (multiprocessing):\", shared_var)\n"
   ]
  },
  {
   "cell_type": "code",
   "execution_count": 8,
   "id": "0f4de9c0",
   "metadata": {},
   "outputs": [
    {
     "name": "stdout",
     "output_type": "stream",
     "text": [
      "Shared variable value (threading): 1000000\n",
      "Shared variable value (multiprocessing): 1000000\n"
     ]
    }
   ],
   "source": [
    "!python prcess_lock4.py"
   ]
  },
  {
   "cell_type": "code",
   "execution_count": null,
   "id": "f25cbb7e",
   "metadata": {},
   "outputs": [],
   "source": []
  }
 ],
 "metadata": {
  "kernelspec": {
   "display_name": "Python 3 (ipykernel)",
   "language": "python",
   "name": "python3"
  },
  "language_info": {
   "codemirror_mode": {
    "name": "ipython",
    "version": 3
   },
   "file_extension": ".py",
   "mimetype": "text/x-python",
   "name": "python",
   "nbconvert_exporter": "python",
   "pygments_lexer": "ipython3",
   "version": "3.11.3"
  }
 },
 "nbformat": 4,
 "nbformat_minor": 5
}
