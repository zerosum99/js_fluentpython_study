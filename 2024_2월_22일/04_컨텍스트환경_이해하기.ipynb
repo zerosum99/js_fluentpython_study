{
 "cells": [
  {
   "cell_type": "code",
   "execution_count": 1,
   "id": "46168eb4",
   "metadata": {},
   "outputs": [
    {
     "data": {
      "text/plain": [
       "'3.11.3'"
      ]
     },
     "execution_count": 1,
     "metadata": {},
     "output_type": "execute_result"
    }
   ],
   "source": [
    "import platform\n",
    "\n",
    "platform.python_version()"
   ]
  },
  {
   "cell_type": "code",
   "execution_count": null,
   "id": "8d196cab",
   "metadata": {},
   "outputs": [],
   "source": []
  },
  {
   "cell_type": "markdown",
   "id": "894b546b",
   "metadata": {},
   "source": [
    "## 컨텍스트 관리자 \n",
    "\n",
    "- 컨텍스트 관리자는 with 문과 함께 사용되며, 보통 파일, 네트워크 연결, 데이터베이스 연결 등과 같은 리소스를 안전하게 관리할 때 유용합니다.\n",
    "\n"
   ]
  },
  {
   "cell_type": "code",
   "execution_count": 2,
   "id": "5ebbed75",
   "metadata": {},
   "outputs": [
    {
     "name": "stdout",
     "output_type": "stream",
     "text": [
      "Writing FileHandler.py\n"
     ]
    }
   ],
   "source": [
    "%%writefile FileHandler.py\n",
    "\n",
    "class FileHandler:\n",
    "    def __init__(self, filename, mode):\n",
    "        self.filename = filename\n",
    "        self.mode = mode\n",
    "\n",
    "    def __enter__(self):\n",
    "        self.file = open(self.filename, self.mode)\n",
    "        return self.file\n",
    "\n",
    "    def __exit__(self, exc_type, exc_value, traceback):\n",
    "        self.file.close()\n",
    "\n",
    "# 사용 예제\n",
    "if __name__ == \"__main__\":\n",
    "    filename = \"example.txt\"\n",
    "    mode = \"w\"\n",
    "\n",
    "    with FileHandler(filename, mode) as f:\n",
    "        f.write(\"Hello, world!\")\n"
   ]
  },
  {
   "cell_type": "code",
   "execution_count": 3,
   "id": "a3ecd2ee",
   "metadata": {},
   "outputs": [],
   "source": [
    "%run FileHandler.py"
   ]
  },
  {
   "cell_type": "code",
   "execution_count": 4,
   "id": "a8847125",
   "metadata": {},
   "outputs": [
    {
     "name": "stdout",
     "output_type": "stream",
     "text": [
      "01_순환_import_문제_알아보기.ipynb\r\n",
      "02_다이어몬드 상속문제.ipynb\r\n",
      "03_순환문_작동원리_알아보기.ipynb\r\n",
      "04_컨텍스트환경이해하기.ipynb\r\n",
      "FileHandler.py\r\n",
      "ModuleA.py\r\n",
      "ModuleA1.py\r\n",
      "ModuleB.py\r\n",
      "ModuleB1.py\r\n",
      "\u001b[34m__pycache__\u001b[m\u001b[m/\r\n",
      "example.txt\r\n"
     ]
    }
   ],
   "source": [
    "%ls "
   ]
  },
  {
   "cell_type": "code",
   "execution_count": null,
   "id": "da61b301",
   "metadata": {},
   "outputs": [],
   "source": [
    "# %load example.txt\n",
    "Hello, world!"
   ]
  },
  {
   "cell_type": "code",
   "execution_count": null,
   "id": "5b41a35a",
   "metadata": {},
   "outputs": [],
   "source": []
  },
  {
   "cell_type": "markdown",
   "id": "e8d38f42",
   "metadata": {},
   "source": [
    "## contextlib 모듈을 사용해서 처리\n",
    "\n",
    "- contextlib 모듈은 컨텍스트 관리자를 정의하고 사용하는 데 도움이 되는 유틸리티 함수와 클래스를 제공합니다. \n",
    "- 가장 널리 사용되는 기능 중 하나는 contextmanager 데코레이터를 사용하여 함수를 컨텍스트 관리자로 변환하는 것입니다."
   ]
  },
  {
   "cell_type": "code",
   "execution_count": 11,
   "id": "6557c4bb",
   "metadata": {},
   "outputs": [],
   "source": [
    "import contextlib"
   ]
  },
  {
   "cell_type": "code",
   "execution_count": 12,
   "id": "d1b8b702",
   "metadata": {},
   "outputs": [
    {
     "name": "stdout",
     "output_type": "stream",
     "text": [
      "AbstractAsyncContextManager, AbstractContextManager, AsyncContextDecorator, AsyncExitStack, ContextDecorator, ExitStack, GenericAlias, MethodType, _AsyncGeneratorContextManager, _BaseExitStack, _GeneratorContextManager, _GeneratorContextManagerBase, _RedirectStream, __all__, __builtins__, __cached__, __doc__, __file__, __loader__, __name__, __package__, __spec__, _collections_abc, abc, aclosing, asynccontextmanager, chdir, closing, contextmanager, deque, nullcontext, os, redirect_stderr, redirect_stdout, suppress, sys, wraps, "
     ]
    }
   ],
   "source": [
    "for i in dir(contextlib):\n",
    "    print(i, end=\", \")"
   ]
  },
  {
   "cell_type": "code",
   "execution_count": null,
   "id": "c6295a43",
   "metadata": {},
   "outputs": [],
   "source": []
  },
  {
   "cell_type": "code",
   "execution_count": 8,
   "id": "98fe53ef",
   "metadata": {},
   "outputs": [
    {
     "name": "stdout",
     "output_type": "stream",
     "text": [
      "Overwriting FileHandler2.py\n"
     ]
    }
   ],
   "source": [
    "%%writefile FileHandler2.py\n",
    "\n",
    "from contextlib import contextmanager\n",
    "\n",
    "@contextmanager\n",
    "def file_handler(filename, mode):\n",
    "    try:\n",
    "        file = open(filename, mode)\n",
    "        yield file\n",
    "    finally:\n",
    "        file.close()\n",
    "\n",
    "# 사용 예제\n",
    "if __name__ == \"__main__\":\n",
    "    filename = \"example.txt\"\n",
    "    mode = \"w\"\n",
    "\n",
    "    with file_handler(filename, mode) as f:\n",
    "        f.write(\"Hello, world! 2222 \")\n"
   ]
  },
  {
   "cell_type": "code",
   "execution_count": 9,
   "id": "a15dcbd9",
   "metadata": {},
   "outputs": [],
   "source": [
    "%run FileHandler2.py"
   ]
  },
  {
   "cell_type": "code",
   "execution_count": null,
   "id": "35686806",
   "metadata": {},
   "outputs": [],
   "source": [
    "# %load example.txt\n",
    "Hello, world! 2222 "
   ]
  },
  {
   "cell_type": "markdown",
   "id": "01c58211",
   "metadata": {},
   "source": [
    "## 데코레이터 클래스를 상속해서 처리하기 "
   ]
  },
  {
   "cell_type": "code",
   "execution_count": 24,
   "id": "156405f5",
   "metadata": {},
   "outputs": [
    {
     "name": "stdout",
     "output_type": "stream",
     "text": [
      "Overwriting FileHandler3.py\n"
     ]
    }
   ],
   "source": [
    "%%writefile FileHandler3.py\n",
    "\n",
    "from contextlib import ContextDecorator\n",
    "\n",
    "class FileHandler(ContextDecorator):\n",
    "    def __init__(self, filename, mode):\n",
    "        self.filename = filename\n",
    "        self.mode = mode\n",
    "\n",
    "    def __enter__(self):\n",
    "        self.file = open(self.filename, self.mode)\n",
    "        return self.file\n",
    "\n",
    "    def __exit__(self, exc_type, exc_value, traceback):\n",
    "        if self.file:\n",
    "            self.file.close()\n",
    "\n",
    "# 수정된 사용 예제\n",
    "if __name__ == \"__main__\":\n",
    "    filename = \"example.txt\"\n",
    "    mode = \"w\"\n",
    "\n",
    "    @FileHandler(filename, mode)\n",
    "    def write_to_file(file):  # 파일 객체를 인자로 받도록 수정\n",
    "        file.write(\"Hello, world!\")\n"
   ]
  },
  {
   "cell_type": "code",
   "execution_count": 25,
   "id": "1959a6ed",
   "metadata": {},
   "outputs": [],
   "source": [
    "%run FileHandler3.py"
   ]
  },
  {
   "cell_type": "code",
   "execution_count": null,
   "id": "2f99268e",
   "metadata": {},
   "outputs": [],
   "source": [
    "# %load example.txt\n",
    "Hello, world! 33333 "
   ]
  },
  {
   "cell_type": "code",
   "execution_count": null,
   "id": "b60a0dbb",
   "metadata": {},
   "outputs": [],
   "source": []
  }
 ],
 "metadata": {
  "kernelspec": {
   "display_name": "Python 3 (ipykernel)",
   "language": "python",
   "name": "python3"
  },
  "language_info": {
   "codemirror_mode": {
    "name": "ipython",
    "version": 3
   },
   "file_extension": ".py",
   "mimetype": "text/x-python",
   "name": "python",
   "nbconvert_exporter": "python",
   "pygments_lexer": "ipython3",
   "version": "3.11.3"
  }
 },
 "nbformat": 4,
 "nbformat_minor": 5
}
