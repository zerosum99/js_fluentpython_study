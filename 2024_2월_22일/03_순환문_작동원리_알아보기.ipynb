{
 "cells": [
  {
   "cell_type": "code",
   "execution_count": 1,
   "id": "229b1db4",
   "metadata": {},
   "outputs": [
    {
     "data": {
      "text/plain": [
       "'3.11.3'"
      ]
     },
     "execution_count": 1,
     "metadata": {},
     "output_type": "execute_result"
    }
   ],
   "source": [
    "import platform\n",
    "\n",
    "platform.python_version()"
   ]
  },
  {
   "cell_type": "markdown",
   "id": "16bd7931",
   "metadata": {},
   "source": [
    "# 1. 파이선 순환문\n",
    "\n",
    "-  여러 원소를 가진 반복이 가능한 객체를 처리\n",
    "- 반복자 형태의 객체를 처리하고 반복자가 아닌 경우 시퀀스 처리 객체를 처리 함 "
   ]
  },
  {
   "cell_type": "code",
   "execution_count": null,
   "id": "625b49e2",
   "metadata": {},
   "outputs": [],
   "source": []
  },
  {
   "cell_type": "markdown",
   "id": "38dd1cb6",
   "metadata": {},
   "source": [
    "## 1-1 시퀀스 객체 알아보기 \n",
    "\n",
    "-  시퀀스 클래스는 추상 클래스로 제공\n",
    "- 시퀀스 클래스에 해당하는 프로토콜은 `__getitem__, __len__`"
   ]
  },
  {
   "cell_type": "markdown",
   "id": "cdc85ed6",
   "metadata": {},
   "source": [
    "## 추상 클래스 확인 "
   ]
  },
  {
   "cell_type": "code",
   "execution_count": 14,
   "id": "49ad1ed0",
   "metadata": {},
   "outputs": [],
   "source": [
    "import collections.abc as abc"
   ]
  },
  {
   "cell_type": "code",
   "execution_count": 16,
   "id": "71ad78dd",
   "metadata": {},
   "outputs": [
    {
     "data": {
      "text/plain": [
       "frozenset({'__getitem__', '__len__'})"
      ]
     },
     "execution_count": 16,
     "metadata": {},
     "output_type": "execute_result"
    }
   ],
   "source": [
    "abc.Sequence.__abstractmethods__"
   ]
  },
  {
   "cell_type": "markdown",
   "id": "fa5a53bd",
   "metadata": {},
   "source": [
    "## 시퀀스 처리 \n"
   ]
  },
  {
   "cell_type": "code",
   "execution_count": 2,
   "id": "d98ca5e4",
   "metadata": {},
   "outputs": [
    {
     "name": "stdout",
     "output_type": "stream",
     "text": [
      "5\n",
      "1\n",
      "4\n"
     ]
    }
   ],
   "source": [
    "class MySequence:\n",
    "    def __init__(self, elements):\n",
    "        self.elements = elements\n",
    "\n",
    "    def __len__(self):\n",
    "        return len(self.elements)\n",
    "\n",
    "    def __getitem__(self, index):\n",
    "        return self.elements[index]\n",
    "\n",
    "# 시퀀스 인스턴스 생성\n",
    "seq = MySequence([1, 2, 3, 4, 5])\n",
    "\n",
    "# 시퀀스의 길이 출력\n",
    "print(len(seq))  # 출력: 5\n",
    "\n",
    "# 인덱스를 사용하여 요소에 접근\n",
    "print(seq[0])    # 출력: 1\n",
    "print(seq[3])    # 출력: 4\n"
   ]
  },
  {
   "cell_type": "code",
   "execution_count": 3,
   "id": "4ec63d32",
   "metadata": {},
   "outputs": [
    {
     "name": "stdout",
     "output_type": "stream",
     "text": [
      "1\n",
      "2\n",
      "3\n",
      "4\n",
      "5\n"
     ]
    }
   ],
   "source": [
    "for i in seq :\n",
    "    print(i)"
   ]
  },
  {
   "cell_type": "markdown",
   "id": "79ee145a",
   "metadata": {},
   "source": [
    "## 1-2 반복자 알아보기 \n",
    "\n",
    "-  반복형을 반복자로 만듬\n",
    "- 반복자는 한번 생성하고 사용하면 다음에 사용할 수 없다. \n",
    "- 그래서 한번 다 사용하면 예외가 발생함 "
   ]
  },
  {
   "cell_type": "markdown",
   "id": "091ae656",
   "metadata": {},
   "source": [
    "## 추상클래스"
   ]
  },
  {
   "cell_type": "code",
   "execution_count": 18,
   "id": "ca43b7a1",
   "metadata": {},
   "outputs": [
    {
     "data": {
      "text/plain": [
       "frozenset({'__iter__'})"
      ]
     },
     "execution_count": 18,
     "metadata": {},
     "output_type": "execute_result"
    }
   ],
   "source": [
    "abc.Iterable.__abstractmethods__"
   ]
  },
  {
   "cell_type": "code",
   "execution_count": null,
   "id": "d0c47c57",
   "metadata": {},
   "outputs": [],
   "source": []
  },
  {
   "cell_type": "code",
   "execution_count": 17,
   "id": "34b52b89",
   "metadata": {},
   "outputs": [
    {
     "data": {
      "text/plain": [
       "frozenset({'__next__'})"
      ]
     },
     "execution_count": 17,
     "metadata": {},
     "output_type": "execute_result"
    }
   ],
   "source": [
    "abc.Iterator.__abstractmethods__"
   ]
  },
  {
   "cell_type": "code",
   "execution_count": null,
   "id": "8513ee2c",
   "metadata": {},
   "outputs": [],
   "source": []
  },
  {
   "cell_type": "markdown",
   "id": "d6797d2a",
   "metadata": {},
   "source": [
    "## 반복자 처리 "
   ]
  },
  {
   "cell_type": "code",
   "execution_count": 4,
   "id": "55ca3399",
   "metadata": {},
   "outputs": [],
   "source": [
    "class MyIterator:\n",
    "    def __init__(self, data):\n",
    "        self.data = data\n",
    "        self.index = 0\n",
    "\n",
    "    def __iter__(self):\n",
    "        return self\n",
    "\n",
    "    def __next__(self):\n",
    "        if self.index >= len(self.data):\n",
    "            raise StopIteration\n",
    "        value = self.data[self.index]\n",
    "        self.index += 1\n",
    "        return value\n",
    "\n",
    "# 반복 가능한 객체 생성\n",
    "my_iterable = MyIterator([1, 2, 3, 4, 5])\n",
    "\n"
   ]
  },
  {
   "cell_type": "code",
   "execution_count": null,
   "id": "ab0782b3",
   "metadata": {},
   "outputs": [],
   "source": []
  },
  {
   "cell_type": "code",
   "execution_count": 5,
   "id": "586fc50b",
   "metadata": {},
   "outputs": [
    {
     "name": "stdout",
     "output_type": "stream",
     "text": [
      "1\n",
      "2\n",
      "3\n",
      "4\n",
      "5\n"
     ]
    }
   ],
   "source": [
    "# 반복문을 사용하여 요소 출력\n",
    "for item in my_iterable:\n",
    "    print(item)"
   ]
  },
  {
   "cell_type": "markdown",
   "id": "c1c08dc9",
   "metadata": {},
   "source": [
    "### 재반복하려면 객체를 다시 생성해서 처리"
   ]
  },
  {
   "cell_type": "code",
   "execution_count": 7,
   "id": "20f776c5",
   "metadata": {},
   "outputs": [],
   "source": [
    "# 반복 가능한 객체 생성\n",
    "my_iterable2 = MyIterator([1, 2, 3, 4, 5])"
   ]
  },
  {
   "cell_type": "code",
   "execution_count": 8,
   "id": "820ba256",
   "metadata": {},
   "outputs": [
    {
     "data": {
      "text/plain": [
       "1"
      ]
     },
     "execution_count": 8,
     "metadata": {},
     "output_type": "execute_result"
    }
   ],
   "source": [
    "next(my_iterable2)"
   ]
  },
  {
   "cell_type": "code",
   "execution_count": 9,
   "id": "09e0b662",
   "metadata": {},
   "outputs": [
    {
     "data": {
      "text/plain": [
       "2"
      ]
     },
     "execution_count": 9,
     "metadata": {},
     "output_type": "execute_result"
    }
   ],
   "source": [
    "next(my_iterable2)"
   ]
  },
  {
   "cell_type": "code",
   "execution_count": 10,
   "id": "c7a349b2",
   "metadata": {},
   "outputs": [
    {
     "data": {
      "text/plain": [
       "3"
      ]
     },
     "execution_count": 10,
     "metadata": {},
     "output_type": "execute_result"
    }
   ],
   "source": [
    "next(my_iterable2)"
   ]
  },
  {
   "cell_type": "code",
   "execution_count": 11,
   "id": "2f409779",
   "metadata": {},
   "outputs": [
    {
     "data": {
      "text/plain": [
       "4"
      ]
     },
     "execution_count": 11,
     "metadata": {},
     "output_type": "execute_result"
    }
   ],
   "source": [
    "next(my_iterable2)"
   ]
  },
  {
   "cell_type": "code",
   "execution_count": 12,
   "id": "908ccee2",
   "metadata": {},
   "outputs": [
    {
     "data": {
      "text/plain": [
       "5"
      ]
     },
     "execution_count": 12,
     "metadata": {},
     "output_type": "execute_result"
    }
   ],
   "source": [
    "next(my_iterable2)"
   ]
  },
  {
   "cell_type": "code",
   "execution_count": 13,
   "id": "bdb3d774",
   "metadata": {},
   "outputs": [
    {
     "ename": "StopIteration",
     "evalue": "",
     "output_type": "error",
     "traceback": [
      "\u001b[0;31m---------------------------------------------------------------------------\u001b[0m",
      "\u001b[0;31mStopIteration\u001b[0m                             Traceback (most recent call last)",
      "Cell \u001b[0;32mIn[13], line 1\u001b[0m\n\u001b[0;32m----> 1\u001b[0m \u001b[38;5;28;43mnext\u001b[39;49m\u001b[43m(\u001b[49m\u001b[43mmy_iterable2\u001b[49m\u001b[43m)\u001b[49m\n",
      "Cell \u001b[0;32mIn[4], line 11\u001b[0m, in \u001b[0;36mMyIterator.__next__\u001b[0;34m(self)\u001b[0m\n\u001b[1;32m      9\u001b[0m \u001b[38;5;28;01mdef\u001b[39;00m \u001b[38;5;21m__next__\u001b[39m(\u001b[38;5;28mself\u001b[39m):\n\u001b[1;32m     10\u001b[0m     \u001b[38;5;28;01mif\u001b[39;00m \u001b[38;5;28mself\u001b[39m\u001b[38;5;241m.\u001b[39mindex \u001b[38;5;241m>\u001b[39m\u001b[38;5;241m=\u001b[39m \u001b[38;5;28mlen\u001b[39m(\u001b[38;5;28mself\u001b[39m\u001b[38;5;241m.\u001b[39mdata):\n\u001b[0;32m---> 11\u001b[0m         \u001b[38;5;28;01mraise\u001b[39;00m \u001b[38;5;167;01mStopIteration\u001b[39;00m\n\u001b[1;32m     12\u001b[0m     value \u001b[38;5;241m=\u001b[39m \u001b[38;5;28mself\u001b[39m\u001b[38;5;241m.\u001b[39mdata[\u001b[38;5;28mself\u001b[39m\u001b[38;5;241m.\u001b[39mindex]\n\u001b[1;32m     13\u001b[0m     \u001b[38;5;28mself\u001b[39m\u001b[38;5;241m.\u001b[39mindex \u001b[38;5;241m+\u001b[39m\u001b[38;5;241m=\u001b[39m \u001b[38;5;241m1\u001b[39m\n",
      "\u001b[0;31mStopIteration\u001b[0m: "
     ]
    }
   ],
   "source": [
    "next(my_iterable2)"
   ]
  },
  {
   "cell_type": "code",
   "execution_count": null,
   "id": "4f2db274",
   "metadata": {},
   "outputs": [],
   "source": []
  }
 ],
 "metadata": {
  "kernelspec": {
   "display_name": "Python 3 (ipykernel)",
   "language": "python",
   "name": "python3"
  },
  "language_info": {
   "codemirror_mode": {
    "name": "ipython",
    "version": 3
   },
   "file_extension": ".py",
   "mimetype": "text/x-python",
   "name": "python",
   "nbconvert_exporter": "python",
   "pygments_lexer": "ipython3",
   "version": "3.11.3"
  }
 },
 "nbformat": 4,
 "nbformat_minor": 5
}
