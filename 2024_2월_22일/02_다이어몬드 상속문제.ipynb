{
 "cells": [
  {
   "cell_type": "code",
   "execution_count": 1,
   "id": "d06b40ee",
   "metadata": {},
   "outputs": [
    {
     "data": {
      "text/plain": [
       "'3.11.3'"
      ]
     },
     "execution_count": 1,
     "metadata": {},
     "output_type": "execute_result"
    }
   ],
   "source": [
    "import platform\n",
    "\n",
    "platform.python_version()"
   ]
  },
  {
   "cell_type": "code",
   "execution_count": null,
   "id": "a0d328da",
   "metadata": {},
   "outputs": [],
   "source": []
  },
  {
   "cell_type": "markdown",
   "id": "b9493ed3",
   "metadata": {},
   "source": [
    "## 1. 파이썬에서 다이아몬드 상속 \n",
    "\n",
    "- 여러 클래스가 같은 부모 클래스를 상속하고, 그 상속 체인에서 가장 하위 클래스가 중복된 메서드 또는 속성을 가질 때 발생합니다. \n",
    "- 이 경우 메서드 결정 순서(Method Resolution Order, MRO)에 따라 어떤 메서드가 호출되는지에 대한 모호성이 생길 수 있습니다."
   ]
  },
  {
   "cell_type": "code",
   "execution_count": null,
   "id": "2731b222",
   "metadata": {},
   "outputs": [],
   "source": []
  },
  {
   "cell_type": "code",
   "execution_count": 7,
   "id": "5a419b41",
   "metadata": {},
   "outputs": [],
   "source": [
    "class A1:\n",
    "    def hello(self):\n",
    "        print(\"Hello from A1\")\n",
    "\n",
    "class B1(A1):\n",
    "    def hello(self):\n",
    "        print(\"Hello from B1\")\n",
    "        super().hello()\n",
    "\n",
    "class C1(A1):\n",
    "    def hello(self):\n",
    "        print(\"Hello from C1\")\n",
    "        super().hello()\n",
    "\n",
    "class D1(B1, C1):\n",
    "    pass\n",
    "\n"
   ]
  },
  {
   "cell_type": "code",
   "execution_count": 8,
   "id": "e831cb12",
   "metadata": {},
   "outputs": [
    {
     "name": "stdout",
     "output_type": "stream",
     "text": [
      "Hello from B1\n",
      "Hello from C1\n",
      "Hello from A1\n"
     ]
    }
   ],
   "source": [
    "d1 = D1()\n",
    "d1.hello()"
   ]
  },
  {
   "cell_type": "code",
   "execution_count": null,
   "id": "64aae3f2",
   "metadata": {},
   "outputs": [],
   "source": []
  },
  {
   "cell_type": "markdown",
   "id": "fce13622",
   "metadata": {},
   "source": [
    "## 메서드 해결 순서 지정: \n",
    "\n",
    "- 다이아몬드 상속 구조에서는 super()를 사용할 때 메서드 호출 순서가 중요합니다.\n",
    "- 따라서 B와 C 클래스에서 super().hello()를 호출할 때 어떤 클래스의 메서드를 호출할지 명확히 지정해야 합니다. \n",
    "- 이를 위해 메서드 해결 순서를 조정할 수 있습니다."
   ]
  },
  {
   "cell_type": "code",
   "execution_count": 9,
   "id": "374cd517",
   "metadata": {},
   "outputs": [
    {
     "name": "stdout",
     "output_type": "stream",
     "text": [
      "Hello from B\n",
      "Hello from C\n",
      "Hello from A\n"
     ]
    }
   ],
   "source": [
    "class A2:\n",
    "    def hello(self):\n",
    "        print(\"Hello from A2\")\n",
    "\n",
    "class B2(A2):\n",
    "    def hello(self):\n",
    "        print(\"Hello from B2\")\n",
    "        super(B2, self).hello()\n",
    "\n",
    "class C2(A2):\n",
    "    def hello(self):\n",
    "        print(\"Hello from C2\")\n",
    "        super(C2, self).hello()\n",
    "\n",
    "class D2(B2, C2):\n",
    "    pass\n",
    "\n",
    "d2 = D2()\n",
    "d2.hello()\n",
    "\n"
   ]
  },
  {
   "cell_type": "code",
   "execution_count": null,
   "id": "9043c484",
   "metadata": {},
   "outputs": [],
   "source": []
  },
  {
   "cell_type": "markdown",
   "id": "91ddfe03",
   "metadata": {},
   "source": [
    "## 다중 상속 피하기: \n",
    "- 다이아몬드 상속 문제를 피하는 더 간단한 방법은 다중 상속을 피하는 것입니다. \n",
    "- 필요한 경우 상속 대신 컴포지션을 사용하여 클래스 간에 관계를 설정할 수 있습니다."
   ]
  },
  {
   "cell_type": "code",
   "execution_count": 11,
   "id": "d1fdc7dc",
   "metadata": {},
   "outputs": [
    {
     "name": "stdout",
     "output_type": "stream",
     "text": [
      "Hello from B3\n",
      "Hello from A3\n"
     ]
    }
   ],
   "source": [
    "class A3:\n",
    "    def hello(self):\n",
    "        print(\"Hello from A3\")\n",
    "\n",
    "class B3(A3):\n",
    "    def hello(self):\n",
    "        print(\"Hello from B3\")\n",
    "        super().hello()\n",
    "\n",
    "class C3(A3):\n",
    "    def hello(self):\n",
    "        print(\"Hello from C3\")\n",
    "        super().hello()\n",
    "\n",
    "class D3(B3):\n",
    "    pass\n",
    "\n",
    "class E3(C3):\n",
    "    pass\n",
    "\n",
    "\n",
    "\n",
    "d3 = D3()\n",
    "d3.hello()\n"
   ]
  },
  {
   "cell_type": "code",
   "execution_count": null,
   "id": "3ffbdeb1",
   "metadata": {},
   "outputs": [],
   "source": []
  },
  {
   "cell_type": "code",
   "execution_count": null,
   "id": "c34c8c03",
   "metadata": {},
   "outputs": [],
   "source": []
  }
 ],
 "metadata": {
  "kernelspec": {
   "display_name": "Python 3 (ipykernel)",
   "language": "python",
   "name": "python3"
  },
  "language_info": {
   "codemirror_mode": {
    "name": "ipython",
    "version": 3
   },
   "file_extension": ".py",
   "mimetype": "text/x-python",
   "name": "python",
   "nbconvert_exporter": "python",
   "pygments_lexer": "ipython3",
   "version": "3.11.3"
  }
 },
 "nbformat": 4,
 "nbformat_minor": 5
}
