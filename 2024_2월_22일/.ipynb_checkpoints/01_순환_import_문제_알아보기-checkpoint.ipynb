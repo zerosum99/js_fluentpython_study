{
 "cells": [
  {
   "cell_type": "code",
   "execution_count": 2,
   "id": "fbb37141",
   "metadata": {},
   "outputs": [
    {
     "data": {
      "text/plain": [
       "'3.11.3'"
      ]
     },
     "execution_count": 2,
     "metadata": {},
     "output_type": "execute_result"
    }
   ],
   "source": [
    "import platform\n",
    "\n",
    "platform.python_version()"
   ]
  },
  {
   "cell_type": "code",
   "execution_count": null,
   "id": "93c29fed",
   "metadata": {},
   "outputs": [],
   "source": []
  },
  {
   "cell_type": "code",
   "execution_count": null,
   "id": "52cc405d",
   "metadata": {},
   "outputs": [],
   "source": []
  },
  {
   "cell_type": "markdown",
   "id": "73d4bbf5",
   "metadata": {},
   "source": [
    "## 순환 발생 모듈을 만들기"
   ]
  },
  {
   "cell_type": "code",
   "execution_count": 1,
   "id": "0992c318",
   "metadata": {},
   "outputs": [
    {
     "name": "stdout",
     "output_type": "stream",
     "text": [
      "Writing ModuleA.py\n"
     ]
    }
   ],
   "source": [
    "%%writefile ModuleA.py\n",
    "\n",
    "import ModuleB\n",
    "\n",
    "def hello():\n",
    "    print(\"Hello from Module A\")\n",
    "\n",
    "ModuleB.world()"
   ]
  },
  {
   "cell_type": "code",
   "execution_count": 2,
   "id": "041e7610",
   "metadata": {},
   "outputs": [
    {
     "name": "stdout",
     "output_type": "stream",
     "text": [
      "Writing ModuleB.py\n"
     ]
    }
   ],
   "source": [
    "%%writefile ModuleB.py\n",
    "\n",
    "import ModuleA\n",
    "\n",
    "def world():\n",
    "    print(\"World from Module B\")\n",
    "\n",
    "ModuleA.hello()\n"
   ]
  },
  {
   "cell_type": "markdown",
   "id": "1ab2bbb6",
   "metadata": {},
   "source": [
    "## 모듈 실행 "
   ]
  },
  {
   "cell_type": "code",
   "execution_count": 3,
   "id": "7a591dc6",
   "metadata": {},
   "outputs": [
    {
     "ename": "AttributeError",
     "evalue": "partially initialized module 'ModuleB' has no attribute 'world' (most likely due to a circular import)",
     "output_type": "error",
     "traceback": [
      "\u001b[0;31m---------------------------------------------------------------------------\u001b[0m",
      "\u001b[0;31mAttributeError\u001b[0m                            Traceback (most recent call last)",
      "File \u001b[0;32m~/Documents/GitHub/js_fluentpython_study/2024_2월_22일/ModuleA.py:2\u001b[0m\n\u001b[0;32m----> 2\u001b[0m \u001b[38;5;28;01mimport\u001b[39;00m \u001b[38;5;21;01mModuleB\u001b[39;00m\n\u001b[1;32m      4\u001b[0m \u001b[38;5;28;01mdef\u001b[39;00m \u001b[38;5;21mhello\u001b[39m():\n\u001b[1;32m      5\u001b[0m     \u001b[38;5;28mprint\u001b[39m(\u001b[38;5;124m\"\u001b[39m\u001b[38;5;124mHello from Module A\u001b[39m\u001b[38;5;124m\"\u001b[39m)\n",
      "File \u001b[0;32m~/Documents/GitHub/js_fluentpython_study/2024_2월_22일/ModuleB.py:2\u001b[0m\n\u001b[0;32m----> 2\u001b[0m \u001b[38;5;28;01mimport\u001b[39;00m \u001b[38;5;21;01mModuleA\u001b[39;00m\n\u001b[1;32m      4\u001b[0m \u001b[38;5;28;01mdef\u001b[39;00m \u001b[38;5;21mworld\u001b[39m():\n\u001b[1;32m      5\u001b[0m     \u001b[38;5;28mprint\u001b[39m(\u001b[38;5;124m\"\u001b[39m\u001b[38;5;124mWorld from Module B\u001b[39m\u001b[38;5;124m\"\u001b[39m)\n",
      "File \u001b[0;32m~/Documents/GitHub/js_fluentpython_study/2024_2월_22일/ModuleA.py:7\u001b[0m\n\u001b[1;32m      4\u001b[0m \u001b[38;5;28;01mdef\u001b[39;00m \u001b[38;5;21mhello\u001b[39m():\n\u001b[1;32m      5\u001b[0m     \u001b[38;5;28mprint\u001b[39m(\u001b[38;5;124m\"\u001b[39m\u001b[38;5;124mHello from Module A\u001b[39m\u001b[38;5;124m\"\u001b[39m)\n\u001b[0;32m----> 7\u001b[0m \u001b[43mModuleB\u001b[49m\u001b[38;5;241;43m.\u001b[39;49m\u001b[43mworld\u001b[49m()\n",
      "\u001b[0;31mAttributeError\u001b[0m: partially initialized module 'ModuleB' has no attribute 'world' (most likely due to a circular import)"
     ]
    }
   ],
   "source": [
    "%run ModuleA.py"
   ]
  },
  {
   "cell_type": "code",
   "execution_count": null,
   "id": "87687e61",
   "metadata": {},
   "outputs": [],
   "source": []
  },
  {
   "cell_type": "markdown",
   "id": "6676b53d",
   "metadata": {},
   "source": [
    "## 해결방안 \n",
    "\n",
    "### 순환 임포트 문제를 해결하기 위한 몇 가지 일반적인 방법은 다음과 같습니다:\n",
    "\n",
    "- 코드 재구성: 모듈의 의존성을 재구성하여 순환 임포트를 제거합니다. 종종 모듈을 더 작은 단위로 분리하고 의존성을 다시 조정함으로써 이를 수행할 수 있습니다.\n",
    "\n",
    "- 임포트 위치 조정: 일부 모듈을 다른 모듈 안에서 임포트하는 것이 아니라, 함수 또는 메서드 내에서 임포트하도록 조정합니다. 이렇게 하면 모듈이 처음 로드될 때 순환 임포트를 방지할 수 있습니다.\n",
    "\n",
    "- 레이지 임포트 사용: 필요한 모듈을 실제로 사용하기 전까지 임포트를 지연시킵니다. 이를 통해 모듈이 초기화되는 시점을 조정하여 순환 임포트 문제를 회피할 수 있습니다.\n",
    "\n",
    "- 임포트 루트 생성: 순환 임포트가 발생하는 경우, 프로젝트의 루트에 해당하는 모듈을 만들어 순환 임포트를 최소화할 수 있습니다.\n",
    "\n",
    "- 인터페이스 분리: 모듈 간의 의존성을 최소화하기 위해 인터페이스를 정의하고 사용합니다. 이를 통해 모듈 간의 결합을 줄이고 순환 임포트를 피할 수 있습니다."
   ]
  },
  {
   "cell_type": "code",
   "execution_count": 4,
   "id": "cdcfd769",
   "metadata": {},
   "outputs": [
    {
     "name": "stdout",
     "output_type": "stream",
     "text": [
      "Writing ModuleA1.py\n"
     ]
    }
   ],
   "source": [
    "%%writefile ModuleA1.py\n",
    "\n",
    "def hello():\n",
    "    print(\"Hello from Module A1\")"
   ]
  },
  {
   "cell_type": "code",
   "execution_count": 7,
   "id": "f983857f",
   "metadata": {},
   "outputs": [
    {
     "name": "stdout",
     "output_type": "stream",
     "text": [
      "Overwriting ModuleB1.py\n"
     ]
    }
   ],
   "source": [
    "%%writefile ModuleB1.py\n",
    "\n",
    "import ModuleA1\n",
    "\n",
    "def world():\n",
    "    print(\"World from Module B1\")\n",
    "    ModuleA1.hello()\n",
    "\n",
    "world()\n"
   ]
  },
  {
   "cell_type": "code",
   "execution_count": 8,
   "id": "281963e3",
   "metadata": {},
   "outputs": [
    {
     "name": "stdout",
     "output_type": "stream",
     "text": [
      "World from Module B1\n",
      "Hello from Module A1\n"
     ]
    }
   ],
   "source": [
    "%run ModuleB1.py"
   ]
  },
  {
   "cell_type": "code",
   "execution_count": null,
   "id": "379d4861",
   "metadata": {},
   "outputs": [],
   "source": []
  }
 ],
 "metadata": {
  "kernelspec": {
   "display_name": "Python 3 (ipykernel)",
   "language": "python",
   "name": "python3"
  },
  "language_info": {
   "codemirror_mode": {
    "name": "ipython",
    "version": 3
   },
   "file_extension": ".py",
   "mimetype": "text/x-python",
   "name": "python",
   "nbconvert_exporter": "python",
   "pygments_lexer": "ipython3",
   "version": "3.11.3"
  }
 },
 "nbformat": 4,
 "nbformat_minor": 5
}
