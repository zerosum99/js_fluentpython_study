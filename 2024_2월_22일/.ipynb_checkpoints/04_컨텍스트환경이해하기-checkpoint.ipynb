{
 "cells": [
  {
   "cell_type": "code",
   "execution_count": 1,
   "id": "d161ebd4",
   "metadata": {},
   "outputs": [
    {
     "data": {
      "text/plain": [
       "'3.11.3'"
      ]
     },
     "execution_count": 1,
     "metadata": {},
     "output_type": "execute_result"
    }
   ],
   "source": [
    "import platform\n",
    "\n",
    "platform.python_version()"
   ]
  },
  {
   "cell_type": "code",
   "execution_count": null,
   "id": "700087bd",
   "metadata": {},
   "outputs": [],
   "source": []
  },
  {
   "cell_type": "markdown",
   "id": "f0cf9442",
   "metadata": {},
   "source": [
    "## 컨텍스트 관리자 \n",
    "\n",
    "- 컨텍스트 관리자는 with 문과 함께 사용되며, 보통 파일, 네트워크 연결, 데이터베이스 연결 등과 같은 리소스를 안전하게 관리할 때 유용합니다.\n",
    "\n"
   ]
  },
  {
   "cell_type": "code",
   "execution_count": 2,
   "id": "13b1d091",
   "metadata": {},
   "outputs": [
    {
     "name": "stdout",
     "output_type": "stream",
     "text": [
      "Writing FileHandler.py\n"
     ]
    }
   ],
   "source": [
    "%%writefile FileHandler.py\n",
    "\n",
    "class FileHandler:\n",
    "    def __init__(self, filename, mode):\n",
    "        self.filename = filename\n",
    "        self.mode = mode\n",
    "\n",
    "    def __enter__(self):\n",
    "        self.file = open(self.filename, self.mode)\n",
    "        return self.file\n",
    "\n",
    "    def __exit__(self, exc_type, exc_value, traceback):\n",
    "        self.file.close()\n",
    "\n",
    "# 사용 예제\n",
    "if __name__ == \"__main__\":\n",
    "    filename = \"example.txt\"\n",
    "    mode = \"w\"\n",
    "\n",
    "    with FileHandler(filename, mode) as f:\n",
    "        f.write(\"Hello, world!\")\n"
   ]
  },
  {
   "cell_type": "code",
   "execution_count": 3,
   "id": "b483628c",
   "metadata": {},
   "outputs": [],
   "source": [
    "%run FileHandler.py"
   ]
  },
  {
   "cell_type": "code",
   "execution_count": 4,
   "id": "10b212ff",
   "metadata": {},
   "outputs": [
    {
     "name": "stdout",
     "output_type": "stream",
     "text": [
      "01_순환_import_문제_알아보기.ipynb\r\n",
      "02_다이어몬드 상속문제.ipynb\r\n",
      "03_순환문_작동원리_알아보기.ipynb\r\n",
      "04_컨텍스트환경이해하기.ipynb\r\n",
      "FileHandler.py\r\n",
      "ModuleA.py\r\n",
      "ModuleA1.py\r\n",
      "ModuleB.py\r\n",
      "ModuleB1.py\r\n",
      "\u001b[34m__pycache__\u001b[m\u001b[m/\r\n",
      "example.txt\r\n"
     ]
    }
   ],
   "source": [
    "%ls "
   ]
  },
  {
   "cell_type": "code",
   "execution_count": null,
   "id": "e7eac184",
   "metadata": {},
   "outputs": [],
   "source": [
    "# %load example.txt\n",
    "Hello, world!"
   ]
  },
  {
   "cell_type": "code",
   "execution_count": null,
   "id": "434963d1",
   "metadata": {},
   "outputs": [],
   "source": []
  },
  {
   "cell_type": "markdown",
   "id": "7f0630db",
   "metadata": {},
   "source": [
    "## contextlib 모듈을 사용해서 처리\n",
    "\n",
    "- contextlib 모듈은 컨텍스트 관리자를 정의하고 사용하는 데 도움이 되는 유틸리티 함수와 클래스를 제공합니다. \n",
    "- 가장 널리 사용되는 기능 중 하나는 contextmanager 데코레이터를 사용하여 함수를 컨텍스트 관리자로 변환하는 것입니다."
   ]
  },
  {
   "cell_type": "code",
   "execution_count": 8,
   "id": "4e2d6153",
   "metadata": {},
   "outputs": [
    {
     "name": "stdout",
     "output_type": "stream",
     "text": [
      "Overwriting FileHandler2.py\n"
     ]
    }
   ],
   "source": [
    "%%writefile FileHandler2.py\n",
    "\n",
    "from contextlib import contextmanager\n",
    "\n",
    "@contextmanager\n",
    "def file_handler(filename, mode):\n",
    "    try:\n",
    "        file = open(filename, mode)\n",
    "        yield file\n",
    "    finally:\n",
    "        file.close()\n",
    "\n",
    "# 사용 예제\n",
    "if __name__ == \"__main__\":\n",
    "    filename = \"example.txt\"\n",
    "    mode = \"w\"\n",
    "\n",
    "    with file_handler(filename, mode) as f:\n",
    "        f.write(\"Hello, world! 2222 \")\n"
   ]
  },
  {
   "cell_type": "code",
   "execution_count": 9,
   "id": "31a753e3",
   "metadata": {},
   "outputs": [],
   "source": [
    "%run FileHandler2.py"
   ]
  },
  {
   "cell_type": "code",
   "execution_count": null,
   "id": "ffa3a097",
   "metadata": {},
   "outputs": [],
   "source": [
    "# %load example.txt\n",
    "Hello, world! 2222 "
   ]
  },
  {
   "cell_type": "code",
   "execution_count": null,
   "id": "e0563556",
   "metadata": {},
   "outputs": [],
   "source": []
  }
 ],
 "metadata": {
  "kernelspec": {
   "display_name": "Python 3 (ipykernel)",
   "language": "python",
   "name": "python3"
  },
  "language_info": {
   "codemirror_mode": {
    "name": "ipython",
    "version": 3
   },
   "file_extension": ".py",
   "mimetype": "text/x-python",
   "name": "python",
   "nbconvert_exporter": "python",
   "pygments_lexer": "ipython3",
   "version": "3.11.3"
  }
 },
 "nbformat": 4,
 "nbformat_minor": 5
}
