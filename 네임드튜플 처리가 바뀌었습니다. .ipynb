{
 "cells": [
  {
   "cell_type": "code",
   "execution_count": null,
   "id": "6b8b4c40",
   "metadata": {},
   "outputs": [],
   "source": []
  },
  {
   "cell_type": "code",
   "execution_count": 1,
   "id": "c0bac0eb",
   "metadata": {},
   "outputs": [],
   "source": [
    "import platform"
   ]
  },
  {
   "cell_type": "code",
   "execution_count": 2,
   "id": "ccb0c088",
   "metadata": {},
   "outputs": [
    {
     "data": {
      "text/plain": [
       "'3.11.3'"
      ]
     },
     "execution_count": 2,
     "metadata": {},
     "output_type": "execute_result"
    }
   ],
   "source": [
    "platform.python_version()"
   ]
  },
  {
   "cell_type": "markdown",
   "id": "6edf2e7c",
   "metadata": {},
   "source": [
    "## 1.  클래스 와 함수 알아보기"
   ]
  },
  {
   "cell_type": "code",
   "execution_count": null,
   "id": "d66c970c",
   "metadata": {},
   "outputs": [],
   "source": []
  },
  {
   "cell_type": "markdown",
   "id": "7a279d14",
   "metadata": {},
   "source": [
    "## 1-1 클래스 관계 확인하기 "
   ]
  },
  {
   "cell_type": "code",
   "execution_count": 13,
   "id": "9e508f19",
   "metadata": {},
   "outputs": [],
   "source": [
    "class X :\n",
    "    pass"
   ]
  },
  {
   "cell_type": "code",
   "execution_count": 14,
   "id": "badd7d02",
   "metadata": {},
   "outputs": [
    {
     "data": {
      "text/plain": [
       "type"
      ]
     },
     "execution_count": 14,
     "metadata": {},
     "output_type": "execute_result"
    }
   ],
   "source": [
    "X.__class__"
   ]
  },
  {
   "cell_type": "code",
   "execution_count": 15,
   "id": "fb450b1b",
   "metadata": {},
   "outputs": [
    {
     "data": {
      "text/plain": [
       "object"
      ]
     },
     "execution_count": 15,
     "metadata": {},
     "output_type": "execute_result"
    }
   ],
   "source": [
    "X.__class__.__base__"
   ]
  },
  {
   "cell_type": "code",
   "execution_count": 16,
   "id": "a2acc5ce",
   "metadata": {},
   "outputs": [
    {
     "data": {
      "text/plain": [
       "object"
      ]
     },
     "execution_count": 16,
     "metadata": {},
     "output_type": "execute_result"
    }
   ],
   "source": [
    "X.__base__"
   ]
  },
  {
   "cell_type": "code",
   "execution_count": 17,
   "id": "35f568b4",
   "metadata": {},
   "outputs": [
    {
     "data": {
      "text/plain": [
       "(object,)"
      ]
     },
     "execution_count": 17,
     "metadata": {},
     "output_type": "execute_result"
    }
   ],
   "source": [
    "X.__bases__"
   ]
  },
  {
   "cell_type": "markdown",
   "id": "ece24d09",
   "metadata": {},
   "source": [
    "## 1-2 함수의 네임드 튜플 확인하기 "
   ]
  },
  {
   "cell_type": "code",
   "execution_count": 18,
   "id": "75406f90",
   "metadata": {},
   "outputs": [],
   "source": [
    "import functools"
   ]
  },
  {
   "cell_type": "code",
   "execution_count": 19,
   "id": "a3ab1025",
   "metadata": {},
   "outputs": [
    {
     "name": "stdout",
     "output_type": "stream",
     "text": [
      "_tuplegetter(0, 'Alias for field number 0')\n"
     ]
    }
   ],
   "source": [
    "import functools\n",
    "\n",
    "ABC = functools.namedtuple('ABC', ['a','b','c'])\n",
    "\n",
    "print(ABC.a)"
   ]
  },
  {
   "cell_type": "code",
   "execution_count": 20,
   "id": "1062d4a2",
   "metadata": {},
   "outputs": [
    {
     "name": "stdout",
     "output_type": "stream",
     "text": [
      "Help on _tuplegetter:\n",
      "\n",
      "    Alias for field number 0\n",
      "\n"
     ]
    }
   ],
   "source": [
    "help(ABC.a)"
   ]
  },
  {
   "cell_type": "code",
   "execution_count": null,
   "id": "2f712a6e",
   "metadata": {},
   "outputs": [],
   "source": []
  },
  {
   "cell_type": "code",
   "execution_count": 21,
   "id": "0c22e588",
   "metadata": {},
   "outputs": [],
   "source": [
    "a_ = ABC(1,2,3)"
   ]
  },
  {
   "cell_type": "code",
   "execution_count": 22,
   "id": "156407c4",
   "metadata": {},
   "outputs": [
    {
     "ename": "AttributeError",
     "evalue": "'ABC' object has no attribute '_tuplegetter'",
     "output_type": "error",
     "traceback": [
      "\u001b[0;31m---------------------------------------------------------------------------\u001b[0m",
      "\u001b[0;31mAttributeError\u001b[0m                            Traceback (most recent call last)",
      "Cell \u001b[0;32mIn[22], line 1\u001b[0m\n\u001b[0;32m----> 1\u001b[0m \u001b[43ma_\u001b[49m\u001b[38;5;241;43m.\u001b[39;49m\u001b[38;5;21;43m__getattribute__\u001b[39;49m\u001b[43m(\u001b[49m\u001b[38;5;124;43m\"\u001b[39;49m\u001b[38;5;124;43m_tuplegetter\u001b[39;49m\u001b[38;5;124;43m\"\u001b[39;49m\u001b[43m)\u001b[49m(\u001b[38;5;241m0\u001b[39m)\n",
      "\u001b[0;31mAttributeError\u001b[0m: 'ABC' object has no attribute '_tuplegetter'"
     ]
    }
   ],
   "source": [
    "a_.__getattribute__(\"_tuplegetter\")(0)"
   ]
  },
  {
   "cell_type": "code",
   "execution_count": null,
   "id": "51c2bf2c",
   "metadata": {},
   "outputs": [],
   "source": []
  },
  {
   "cell_type": "code",
   "execution_count": 23,
   "id": "24e8f9d6",
   "metadata": {},
   "outputs": [
    {
     "data": {
      "text/plain": [
       "['__add__',\n",
       " '__class__',\n",
       " '__class_getitem__',\n",
       " '__contains__',\n",
       " '__delattr__',\n",
       " '__dir__',\n",
       " '__doc__',\n",
       " '__eq__',\n",
       " '__format__',\n",
       " '__ge__',\n",
       " '__getattribute__',\n",
       " '__getitem__',\n",
       " '__getnewargs__',\n",
       " '__getstate__',\n",
       " '__gt__',\n",
       " '__hash__',\n",
       " '__init__',\n",
       " '__init_subclass__',\n",
       " '__iter__',\n",
       " '__le__',\n",
       " '__len__',\n",
       " '__lt__',\n",
       " '__match_args__',\n",
       " '__module__',\n",
       " '__mul__',\n",
       " '__ne__',\n",
       " '__new__',\n",
       " '__reduce__',\n",
       " '__reduce_ex__',\n",
       " '__repr__',\n",
       " '__rmul__',\n",
       " '__setattr__',\n",
       " '__sizeof__',\n",
       " '__slots__',\n",
       " '__str__',\n",
       " '__subclasshook__',\n",
       " '_asdict',\n",
       " '_field_defaults',\n",
       " '_fields',\n",
       " '_make',\n",
       " '_replace',\n",
       " 'a',\n",
       " 'b',\n",
       " 'c',\n",
       " 'count',\n",
       " 'index']"
      ]
     },
     "execution_count": 23,
     "metadata": {},
     "output_type": "execute_result"
    }
   ],
   "source": [
    "dir(ABC)"
   ]
  },
  {
   "cell_type": "code",
   "execution_count": 24,
   "id": "30541292",
   "metadata": {},
   "outputs": [
    {
     "data": {
      "text/plain": [
       "_tuplegetter(0, 'Alias for field number 0')"
      ]
     },
     "execution_count": 24,
     "metadata": {},
     "output_type": "execute_result"
    }
   ],
   "source": [
    "ABC.a"
   ]
  },
  {
   "cell_type": "code",
   "execution_count": null,
   "id": "18c06ad1",
   "metadata": {},
   "outputs": [],
   "source": []
  },
  {
   "cell_type": "markdown",
   "id": "acd0eb73",
   "metadata": {},
   "source": [
    "## 1-3 타입핑 모듈의 네임드 튜플 확인 "
   ]
  },
  {
   "cell_type": "code",
   "execution_count": 25,
   "id": "c29fcd56",
   "metadata": {},
   "outputs": [],
   "source": [
    "import typing"
   ]
  },
  {
   "cell_type": "code",
   "execution_count": 26,
   "id": "a4981689",
   "metadata": {},
   "outputs": [
    {
     "name": "stdout",
     "output_type": "stream",
     "text": [
      "_tuplegetter(0, 'Alias for field number 0')\n"
     ]
    }
   ],
   "source": [
    "import typing\n",
    "\n",
    "ABCD = typing.NamedTuple('ABCD',name=str, id=int)\n",
    "\n",
    "print(ABCD.name)"
   ]
  },
  {
   "cell_type": "code",
   "execution_count": 27,
   "id": "da9e9650",
   "metadata": {},
   "outputs": [
    {
     "data": {
      "text/plain": [
       "['__add__',\n",
       " '__annotations__',\n",
       " '__class__',\n",
       " '__class_getitem__',\n",
       " '__contains__',\n",
       " '__delattr__',\n",
       " '__dir__',\n",
       " '__doc__',\n",
       " '__eq__',\n",
       " '__format__',\n",
       " '__ge__',\n",
       " '__getattribute__',\n",
       " '__getitem__',\n",
       " '__getnewargs__',\n",
       " '__getstate__',\n",
       " '__gt__',\n",
       " '__hash__',\n",
       " '__init__',\n",
       " '__init_subclass__',\n",
       " '__iter__',\n",
       " '__le__',\n",
       " '__len__',\n",
       " '__lt__',\n",
       " '__match_args__',\n",
       " '__module__',\n",
       " '__mul__',\n",
       " '__ne__',\n",
       " '__new__',\n",
       " '__reduce__',\n",
       " '__reduce_ex__',\n",
       " '__repr__',\n",
       " '__rmul__',\n",
       " '__setattr__',\n",
       " '__sizeof__',\n",
       " '__slots__',\n",
       " '__str__',\n",
       " '__subclasshook__',\n",
       " '_asdict',\n",
       " '_field_defaults',\n",
       " '_fields',\n",
       " '_make',\n",
       " '_replace',\n",
       " 'count',\n",
       " 'id',\n",
       " 'index',\n",
       " 'name']"
      ]
     },
     "execution_count": 27,
     "metadata": {},
     "output_type": "execute_result"
    }
   ],
   "source": [
    "dir(ABCD)"
   ]
  },
  {
   "cell_type": "code",
   "execution_count": null,
   "id": "8dd44644",
   "metadata": {},
   "outputs": [],
   "source": []
  },
  {
   "cell_type": "code",
   "execution_count": 28,
   "id": "dfb86ee0",
   "metadata": {},
   "outputs": [
    {
     "name": "stdout",
     "output_type": "stream",
     "text": [
      "Help on function NamedTuple in module typing:\n",
      "\n",
      "NamedTuple(typename, fields=None, /, **kwargs)\n",
      "    Typed version of namedtuple.\n",
      "    \n",
      "    Usage in Python versions >= 3.6::\n",
      "    \n",
      "        class Employee(NamedTuple):\n",
      "            name: str\n",
      "            id: int\n",
      "    \n",
      "    This is equivalent to::\n",
      "    \n",
      "        Employee = collections.namedtuple('Employee', ['name', 'id'])\n",
      "    \n",
      "    The resulting class has an extra __annotations__ attribute, giving a\n",
      "    dict that maps field names to types.  (The field names are also in\n",
      "    the _fields attribute, which is part of the namedtuple API.)\n",
      "    Alternative equivalent keyword syntax is also accepted::\n",
      "    \n",
      "        Employee = NamedTuple('Employee', name=str, id=int)\n",
      "    \n",
      "    In Python versions <= 3.5 use::\n",
      "    \n",
      "        Employee = NamedTuple('Employee', [('name', str), ('id', int)])\n",
      "\n"
     ]
    }
   ],
   "source": [
    "help(typing.NamedTuple)"
   ]
  },
  {
   "cell_type": "markdown",
   "id": "1d516df7",
   "metadata": {},
   "source": [
    "## 1-4  컬렉션의 네임드튜플 확인"
   ]
  },
  {
   "cell_type": "code",
   "execution_count": 29,
   "id": "84b16164",
   "metadata": {},
   "outputs": [
    {
     "name": "stdout",
     "output_type": "stream",
     "text": [
      "['Alice', 'Bob', 'Charlie']\n"
     ]
    }
   ],
   "source": [
    "\n",
    "\n",
    "from operator import itemgetter\n",
    "from collections import namedtuple\n",
    "\n",
    "# Create a named tuple\n",
    "Person = namedtuple('Person', ['name', 'age', 'city'])\n",
    "\n",
    "# Create a list of persons\n",
    "people = [\n",
    "    Person(name='Alice', age=25, city='New York'),\n",
    "    Person(name='Bob', age=30, city='San Francisco'),\n",
    "    Person(name='Charlie', age=22, city='Los Angeles'),\n",
    "]\n",
    "\n",
    "# Create a callable to get the name (index 0) from the tuple\n",
    "get_name = itemgetter(0)\n",
    "\n",
    "# Apply the callable to each person in the list\n",
    "names = map(get_name, people)\n",
    "\n",
    "# Print the names\n",
    "print(list(names))"
   ]
  },
  {
   "cell_type": "code",
   "execution_count": null,
   "id": "5a38661f",
   "metadata": {},
   "outputs": [],
   "source": []
  },
  {
   "cell_type": "code",
   "execution_count": 30,
   "id": "d3104df6",
   "metadata": {},
   "outputs": [
    {
     "data": {
      "text/plain": [
       "['__call__',\n",
       " '__class__',\n",
       " '__delattr__',\n",
       " '__dir__',\n",
       " '__doc__',\n",
       " '__eq__',\n",
       " '__format__',\n",
       " '__ge__',\n",
       " '__getattribute__',\n",
       " '__getstate__',\n",
       " '__gt__',\n",
       " '__hash__',\n",
       " '__init__',\n",
       " '__init_subclass__',\n",
       " '__le__',\n",
       " '__lt__',\n",
       " '__module__',\n",
       " '__ne__',\n",
       " '__new__',\n",
       " '__reduce__',\n",
       " '__reduce_ex__',\n",
       " '__repr__',\n",
       " '__setattr__',\n",
       " '__sizeof__',\n",
       " '__str__',\n",
       " '__subclasshook__',\n",
       " '__vectorcalloffset__']"
      ]
     },
     "execution_count": 30,
     "metadata": {},
     "output_type": "execute_result"
    }
   ],
   "source": [
    "dir(itemgetter)"
   ]
  },
  {
   "cell_type": "code",
   "execution_count": 31,
   "id": "5c518bc0",
   "metadata": {},
   "outputs": [
    {
     "name": "stdout",
     "output_type": "stream",
     "text": [
      "Help on class itemgetter in module operator:\n",
      "\n",
      "class itemgetter(builtins.object)\n",
      " |  itemgetter(item, ...) --> itemgetter object\n",
      " |  \n",
      " |  Return a callable object that fetches the given item(s) from its operand.\n",
      " |  After f = itemgetter(2), the call f(r) returns r[2].\n",
      " |  After g = itemgetter(2, 5, 3), the call g(r) returns (r[2], r[5], r[3])\n",
      " |  \n",
      " |  Methods defined here:\n",
      " |  \n",
      " |  __call__(self, /, *args, **kwargs)\n",
      " |      Call self as a function.\n",
      " |  \n",
      " |  __getattribute__(self, name, /)\n",
      " |      Return getattr(self, name).\n",
      " |  \n",
      " |  __reduce__(...)\n",
      " |      Return state information for pickling\n",
      " |  \n",
      " |  __repr__(self, /)\n",
      " |      Return repr(self).\n",
      " |  \n",
      " |  ----------------------------------------------------------------------\n",
      " |  Static methods defined here:\n",
      " |  \n",
      " |  __new__(*args, **kwargs) from builtins.type\n",
      " |      Create and return a new object.  See help(type) for accurate signature.\n",
      " |  \n",
      " |  ----------------------------------------------------------------------\n",
      " |  Data descriptors defined here:\n",
      " |  \n",
      " |  __vectorcalloffset__\n",
      "\n"
     ]
    }
   ],
   "source": [
    "help(itemgetter)"
   ]
  },
  {
   "cell_type": "code",
   "execution_count": null,
   "id": "a470188b",
   "metadata": {},
   "outputs": [],
   "source": []
  },
  {
   "cell_type": "markdown",
   "id": "16289262",
   "metadata": {},
   "source": [
    "## 1-5  _tuplegetter는 디스크립터 클래스"
   ]
  },
  {
   "cell_type": "code",
   "execution_count": 32,
   "id": "0091f2a5",
   "metadata": {},
   "outputs": [],
   "source": [
    "import typing"
   ]
  },
  {
   "cell_type": "code",
   "execution_count": 33,
   "id": "77f8c8a8",
   "metadata": {},
   "outputs": [
    {
     "name": "stdout",
     "output_type": "stream",
     "text": [
      "_tuplegetter(0, 'Alias for field number 0')\n",
      "<method-wrapper '__get__' of _collections._tuplegetter object at 0x1036e03d0>\n"
     ]
    }
   ],
   "source": [
    "import typing\n",
    "\n",
    "class Pt(typing.NamedTuple):\n",
    "            x: int\n",
    "            y: int\n",
    "\n",
    "print(vars(Pt)['x'])\n",
    "print(vars(Pt)['x'].__get__)"
   ]
  },
  {
   "cell_type": "code",
   "execution_count": 34,
   "id": "04431887",
   "metadata": {},
   "outputs": [
    {
     "data": {
      "text/plain": [
       "_tuplegetter(0, 'Alias for field number 0')"
      ]
     },
     "execution_count": 34,
     "metadata": {},
     "output_type": "execute_result"
    }
   ],
   "source": [
    "vars(Pt)['x']"
   ]
  },
  {
   "cell_type": "code",
   "execution_count": 35,
   "id": "0c16515a",
   "metadata": {},
   "outputs": [
    {
     "data": {
      "text/plain": [
       "<method-wrapper '__get__' of _collections._tuplegetter object at 0x1036e03d0>"
      ]
     },
     "execution_count": 35,
     "metadata": {},
     "output_type": "execute_result"
    }
   ],
   "source": [
    "vars(Pt)['x'].__get__"
   ]
  },
  {
   "cell_type": "code",
   "execution_count": null,
   "id": "b99401fc",
   "metadata": {},
   "outputs": [],
   "source": []
  },
  {
   "cell_type": "markdown",
   "id": "9b1e2bdd",
   "metadata": {},
   "source": [
    "## 2.  네임드 튜플 유사하게 만들기"
   ]
  },
  {
   "cell_type": "markdown",
   "id": "81c15a91",
   "metadata": {},
   "source": [
    "## 2-1 디스크립터 클래스 정의하기"
   ]
  },
  {
   "cell_type": "code",
   "execution_count": 36,
   "id": "52a0a47b",
   "metadata": {},
   "outputs": [],
   "source": [
    "class Descriptor:\n",
    "    def __set_name__(self, owner, name):\n",
    "        # __set_name__ 메서드를 통해 속성 이름을 알 수 있음\n",
    "        self.name = \"_\" + name\n",
    "\n",
    "    def __get__(self, instance, owner):\n",
    "        if instance is None:\n",
    "            return self  # 클래스 자체에서 디스크립터에 접근할 때\n",
    "        print(f\"Getting the value of {self.name} in {owner.__name__} instance\")\n",
    "        return instance.__dict__[self.name]\n",
    "\n",
    "    def __set__(self, instance, value):\n",
    "        print(f\"Setting the value of {self.name} in the instance\")\n",
    "        instance.__dict__[self.name] = value\n",
    "\n",
    "    def __delete__(self, instance):\n",
    "        print(f\"Deleting the attribute {self.name} from the instance\")\n",
    "        del instance.__dict__[self.name]"
   ]
  },
  {
   "cell_type": "markdown",
   "id": "c52b9a9a",
   "metadata": {},
   "source": [
    "## 2-2 네임드 튜플 함수 만들기 "
   ]
  },
  {
   "cell_type": "code",
   "execution_count": 37,
   "id": "805e3006",
   "metadata": {},
   "outputs": [],
   "source": [
    "import typing"
   ]
  },
  {
   "cell_type": "code",
   "execution_count": 38,
   "id": "6b709ac9",
   "metadata": {},
   "outputs": [
    {
     "data": {
      "text/plain": [
       "typing.Tuple"
      ]
     },
     "execution_count": 38,
     "metadata": {},
     "output_type": "execute_result"
    }
   ],
   "source": [
    "typing.Tuple"
   ]
  },
  {
   "cell_type": "code",
   "execution_count": 39,
   "id": "a13f0a36",
   "metadata": {},
   "outputs": [],
   "source": [
    "def NameT(cls_name, var_list) :\n",
    "    field = {i : Descriptor() for i in var_list}\n",
    "    \n",
    "    def __init__(self,*args) :\n",
    "        ll = list(field.keys())\n",
    "        for i in range(len(args)) : \n",
    "            setattr(self, ll[i],args[i])\n",
    "            \n",
    "    field[\"__init__\"] = __init__\n",
    "    \n",
    "    cls = type(cls_name,(object,), field)\n",
    "\n",
    "    return cls"
   ]
  },
  {
   "cell_type": "markdown",
   "id": "f72e06bf",
   "metadata": {},
   "source": [
    "## 2-3 네임드 튜플로 네임드 튜플 클래스 만들기"
   ]
  },
  {
   "cell_type": "code",
   "execution_count": 40,
   "id": "d452c8a1",
   "metadata": {},
   "outputs": [],
   "source": [
    "AAA = NameT(\"AAA\",['x','y'])"
   ]
  },
  {
   "cell_type": "code",
   "execution_count": 41,
   "id": "307d4806",
   "metadata": {},
   "outputs": [
    {
     "data": {
      "text/plain": [
       "mappingproxy({'x': <__main__.Descriptor at 0x103adfe50>,\n",
       "              'y': <__main__.Descriptor at 0x103b132d0>,\n",
       "              '__init__': <function __main__.NameT.<locals>.__init__(self, *args)>,\n",
       "              '__module__': '__main__',\n",
       "              '__dict__': <attribute '__dict__' of 'AAA' objects>,\n",
       "              '__weakref__': <attribute '__weakref__' of 'AAA' objects>,\n",
       "              '__doc__': None})"
      ]
     },
     "execution_count": 41,
     "metadata": {},
     "output_type": "execute_result"
    }
   ],
   "source": [
    "AAA.__dict__"
   ]
  },
  {
   "cell_type": "markdown",
   "id": "149eb67c",
   "metadata": {},
   "source": [
    "## 2-4 네임드튜플 객체 만들기"
   ]
  },
  {
   "cell_type": "code",
   "execution_count": 42,
   "id": "04ad1d47",
   "metadata": {},
   "outputs": [
    {
     "name": "stdout",
     "output_type": "stream",
     "text": [
      "Setting the value of _x in the instance\n",
      "Setting the value of _y in the instance\n"
     ]
    }
   ],
   "source": [
    "aaa = AAA(100,200)"
   ]
  },
  {
   "cell_type": "code",
   "execution_count": 43,
   "id": "2b34331c",
   "metadata": {},
   "outputs": [
    {
     "name": "stdout",
     "output_type": "stream",
     "text": [
      "Getting the value of _x in AAA instance\n"
     ]
    },
    {
     "data": {
      "text/plain": [
       "100"
      ]
     },
     "execution_count": 43,
     "metadata": {},
     "output_type": "execute_result"
    }
   ],
   "source": [
    "aaa.x"
   ]
  },
  {
   "cell_type": "code",
   "execution_count": 44,
   "id": "fb725aba",
   "metadata": {},
   "outputs": [
    {
     "name": "stdout",
     "output_type": "stream",
     "text": [
      "Getting the value of _y in AAA instance\n"
     ]
    },
    {
     "data": {
      "text/plain": [
       "200"
      ]
     },
     "execution_count": 44,
     "metadata": {},
     "output_type": "execute_result"
    }
   ],
   "source": [
    "aaa.y"
   ]
  },
  {
   "cell_type": "code",
   "execution_count": null,
   "id": "4ed90d3f",
   "metadata": {},
   "outputs": [],
   "source": []
  },
  {
   "cell_type": "code",
   "execution_count": null,
   "id": "1b88a0a6",
   "metadata": {},
   "outputs": [],
   "source": []
  },
  {
   "cell_type": "markdown",
   "id": "471b04b8",
   "metadata": {},
   "source": [
    "## 2-5 디스크립터를 통한 속성 처리하기 "
   ]
  },
  {
   "cell_type": "code",
   "execution_count": 45,
   "id": "1ba0ac7b",
   "metadata": {},
   "outputs": [],
   "source": [
    "class A :\n",
    "    x = Descriptor()\n",
    "    y = Descriptor()"
   ]
  },
  {
   "cell_type": "code",
   "execution_count": 46,
   "id": "917eb832",
   "metadata": {},
   "outputs": [],
   "source": [
    "a = A()"
   ]
  },
  {
   "cell_type": "code",
   "execution_count": 47,
   "id": "251c68eb",
   "metadata": {},
   "outputs": [
    {
     "name": "stdout",
     "output_type": "stream",
     "text": [
      "Setting the value of _x in the instance\n"
     ]
    }
   ],
   "source": [
    "a.x = 100"
   ]
  },
  {
   "cell_type": "code",
   "execution_count": 48,
   "id": "fc2273d1",
   "metadata": {},
   "outputs": [
    {
     "name": "stdout",
     "output_type": "stream",
     "text": [
      "Setting the value of _y in the instance\n"
     ]
    }
   ],
   "source": [
    "a.y = 200"
   ]
  },
  {
   "cell_type": "code",
   "execution_count": 49,
   "id": "f4a273cf",
   "metadata": {},
   "outputs": [
    {
     "data": {
      "text/plain": [
       "{'_x': 100, '_y': 200}"
      ]
     },
     "execution_count": 49,
     "metadata": {},
     "output_type": "execute_result"
    }
   ],
   "source": [
    "a.__dict__"
   ]
  },
  {
   "cell_type": "code",
   "execution_count": null,
   "id": "29d8885d",
   "metadata": {},
   "outputs": [],
   "source": []
  },
  {
   "cell_type": "markdown",
   "id": "a630ef36",
   "metadata": {},
   "source": [
    "## 3. _tuplegetter 확인 "
   ]
  },
  {
   "cell_type": "markdown",
   "id": "e650d6df",
   "metadata": {},
   "source": [
    "## 3-1 네임드튜플 정의 "
   ]
  },
  {
   "cell_type": "code",
   "execution_count": 50,
   "id": "17b8f144",
   "metadata": {},
   "outputs": [],
   "source": [
    "from collections import namedtuple,_tuplegetter\n",
    "from operator import itemgetter\n",
    "\n",
    "Point = namedtuple(\"Point\", [\"x\", \"y\"])\n",
    "\n",
    "point = Point(1, 2)\n"
   ]
  },
  {
   "cell_type": "code",
   "execution_count": 51,
   "id": "db0a1f8e",
   "metadata": {},
   "outputs": [
    {
     "data": {
      "text/plain": [
       "Point(x=1, y=2)"
      ]
     },
     "execution_count": 51,
     "metadata": {},
     "output_type": "execute_result"
    }
   ],
   "source": [
    "point"
   ]
  },
  {
   "cell_type": "markdown",
   "id": "e79e82af",
   "metadata": {},
   "source": [
    "## 3-2 생성된 클래스를 확인함 "
   ]
  },
  {
   "cell_type": "code",
   "execution_count": 52,
   "id": "9649f607",
   "metadata": {},
   "outputs": [
    {
     "data": {
      "text/plain": [
       "mappingproxy({'__doc__': 'Point(x, y)',\n",
       "              '__slots__': (),\n",
       "              '_fields': ('x', 'y'),\n",
       "              '_field_defaults': {},\n",
       "              '__new__': <staticmethod(<function Point.__new__ at 0x103ae9260>)>,\n",
       "              '_make': <classmethod(<function Point._make at 0x103ae84a0>)>,\n",
       "              '_replace': <function collections.Point._replace(self, /, **kwds)>,\n",
       "              '__repr__': <function collections.Point.__repr__(self)>,\n",
       "              '_asdict': <function collections.Point._asdict(self)>,\n",
       "              '__getnewargs__': <function collections.Point.__getnewargs__(self)>,\n",
       "              '__match_args__': ('x', 'y'),\n",
       "              'x': _tuplegetter(0, 'Alias for field number 0'),\n",
       "              'y': _tuplegetter(1, 'Alias for field number 1'),\n",
       "              '__module__': '__main__'})"
      ]
     },
     "execution_count": 52,
     "metadata": {},
     "output_type": "execute_result"
    }
   ],
   "source": [
    "Point.__dict__"
   ]
  },
  {
   "cell_type": "code",
   "execution_count": 53,
   "id": "74956a93",
   "metadata": {},
   "outputs": [
    {
     "data": {
      "text/plain": [
       "mappingproxy({'__doc__': 'Point(x, y)',\n",
       "              '__slots__': (),\n",
       "              '_fields': ('x', 'y'),\n",
       "              '_field_defaults': {},\n",
       "              '__new__': <staticmethod(<function Point.__new__ at 0x103ae9260>)>,\n",
       "              '_make': <classmethod(<function Point._make at 0x103ae84a0>)>,\n",
       "              '_replace': <function collections.Point._replace(self, /, **kwds)>,\n",
       "              '__repr__': <function collections.Point.__repr__(self)>,\n",
       "              '_asdict': <function collections.Point._asdict(self)>,\n",
       "              '__getnewargs__': <function collections.Point.__getnewargs__(self)>,\n",
       "              '__match_args__': ('x', 'y'),\n",
       "              'x': _tuplegetter(0, 'Alias for field number 0'),\n",
       "              'y': _tuplegetter(1, 'Alias for field number 1'),\n",
       "              '__module__': '__main__'})"
      ]
     },
     "execution_count": 53,
     "metadata": {},
     "output_type": "execute_result"
    }
   ],
   "source": [
    "vars(Point)"
   ]
  },
  {
   "cell_type": "code",
   "execution_count": 54,
   "id": "c943bf9e",
   "metadata": {},
   "outputs": [
    {
     "data": {
      "text/plain": [
       "_tuplegetter(0, 'Alias for field number 0')"
      ]
     },
     "execution_count": 54,
     "metadata": {},
     "output_type": "execute_result"
    }
   ],
   "source": [
    "vars(Point)['x']"
   ]
  },
  {
   "cell_type": "code",
   "execution_count": 55,
   "id": "ddf16d79",
   "metadata": {},
   "outputs": [
    {
     "data": {
      "text/plain": [
       "_tuplegetter(1, 'Alias for field number 1')"
      ]
     },
     "execution_count": 55,
     "metadata": {},
     "output_type": "execute_result"
    }
   ],
   "source": [
    "vars(Point)['y']"
   ]
  },
  {
   "cell_type": "code",
   "execution_count": null,
   "id": "d15eeb6d",
   "metadata": {},
   "outputs": [],
   "source": []
  },
  {
   "cell_type": "markdown",
   "id": "f332f767",
   "metadata": {},
   "source": [
    "## 3-3 인덱스로 튜플의 값을 가져오기"
   ]
  },
  {
   "cell_type": "code",
   "execution_count": 56,
   "id": "dda95bc7",
   "metadata": {},
   "outputs": [
    {
     "name": "stdout",
     "output_type": "stream",
     "text": [
      "1\n"
     ]
    }
   ],
   "source": [
    "print(itemgetter(0)(point))"
   ]
  },
  {
   "cell_type": "code",
   "execution_count": 57,
   "id": "b591fba4",
   "metadata": {},
   "outputs": [
    {
     "name": "stdout",
     "output_type": "stream",
     "text": [
      "2\n"
     ]
    }
   ],
   "source": [
    "print(itemgetter(1)(point))"
   ]
  },
  {
   "cell_type": "markdown",
   "id": "161abb40",
   "metadata": {},
   "source": [
    "## 3-4 튜플게터는 클래스 "
   ]
  },
  {
   "cell_type": "code",
   "execution_count": 58,
   "id": "a52f454d",
   "metadata": {},
   "outputs": [
    {
     "data": {
      "text/plain": [
       "type"
      ]
     },
     "execution_count": 58,
     "metadata": {},
     "output_type": "execute_result"
    }
   ],
   "source": [
    "type(_tuplegetter)"
   ]
  },
  {
   "cell_type": "code",
   "execution_count": 59,
   "id": "bf51fa0c",
   "metadata": {},
   "outputs": [
    {
     "data": {
      "text/plain": [
       "['__class__',\n",
       " '__delattr__',\n",
       " '__delete__',\n",
       " '__dir__',\n",
       " '__doc__',\n",
       " '__eq__',\n",
       " '__format__',\n",
       " '__ge__',\n",
       " '__get__',\n",
       " '__getattribute__',\n",
       " '__getstate__',\n",
       " '__gt__',\n",
       " '__hash__',\n",
       " '__init__',\n",
       " '__init_subclass__',\n",
       " '__le__',\n",
       " '__lt__',\n",
       " '__ne__',\n",
       " '__new__',\n",
       " '__reduce__',\n",
       " '__reduce_ex__',\n",
       " '__repr__',\n",
       " '__set__',\n",
       " '__setattr__',\n",
       " '__sizeof__',\n",
       " '__str__',\n",
       " '__subclasshook__']"
      ]
     },
     "execution_count": 59,
     "metadata": {},
     "output_type": "execute_result"
    }
   ],
   "source": [
    "dir(_tuplegetter)"
   ]
  },
  {
   "cell_type": "markdown",
   "id": "d7e6e6dc",
   "metadata": {},
   "source": [
    "## 3-5 이 클래스는 디스크립터 클래스"
   ]
  },
  {
   "cell_type": "code",
   "execution_count": 60,
   "id": "edeb9aa2",
   "metadata": {},
   "outputs": [
    {
     "name": "stdout",
     "output_type": "stream",
     "text": [
      "Help on class _tuplegetter in module _collections:\n",
      "\n",
      "class _tuplegetter(builtins.object)\n",
      " |  Methods defined here:\n",
      " |  \n",
      " |  __delete__(self, instance, /)\n",
      " |      Delete an attribute of instance.\n",
      " |  \n",
      " |  __get__(self, instance, owner=None, /)\n",
      " |      Return an attribute of instance, which is of type owner.\n",
      " |  \n",
      " |  __reduce__(...)\n",
      " |      Helper for pickle.\n",
      " |  \n",
      " |  __repr__(self, /)\n",
      " |      Return repr(self).\n",
      " |  \n",
      " |  __set__(self, instance, value, /)\n",
      " |      Set an attribute of instance to value.\n",
      " |  \n",
      " |  ----------------------------------------------------------------------\n",
      " |  Static methods defined here:\n",
      " |  \n",
      " |  __new__(*args, **kwargs) from builtins.type\n",
      " |      Create and return a new object.  See help(type) for accurate signature.\n",
      "\n"
     ]
    }
   ],
   "source": [
    "help(_tuplegetter)"
   ]
  },
  {
   "cell_type": "markdown",
   "id": "d229b3f3",
   "metadata": {},
   "source": [
    "## 4.  프로퍼티 클래스 예제"
   ]
  },
  {
   "cell_type": "markdown",
   "id": "1631f9f4",
   "metadata": {},
   "source": [
    "## 4-1 프로퍼티 클래스 작성 "
   ]
  },
  {
   "cell_type": "code",
   "execution_count": 61,
   "id": "ad3b43c1",
   "metadata": {},
   "outputs": [],
   "source": [
    "class Property(object):\n",
    "    \"Emulate PyProperty_Type() in Objects/descrobject.c\"\n",
    "\n",
    "    def __init__(self, fget=None, fset=None, fdel=None, doc=None):\n",
    "        self.fget = fget\n",
    "        self.fset = fset\n",
    "        self.fdel = fdel\n",
    "        if doc is None and fget is not None:\n",
    "            doc = fget.__doc__\n",
    "        self.__doc__ = doc\n",
    "\n",
    "    def __get__(self, obj, objtype=None):\n",
    "        if obj is None:\n",
    "            return self\n",
    "        if self.fget is None:\n",
    "            raise AttributeError(\"unreadable attribute\")\n",
    "        return self.fget(obj)\n",
    "\n",
    "    def __set__(self, obj, value):\n",
    "        if self.fset is None:\n",
    "            raise AttributeError(\"can't set attribute\")\n",
    "        self.fset(obj, value)\n",
    "\n",
    "    def __delete__(self, obj):\n",
    "        if self.fdel is None:\n",
    "            raise AttributeError(\"can't delete attribute\")\n",
    "        self.fdel(obj)\n",
    "\n",
    "    def getter(self, fget):\n",
    "        return type(self)(fget, self.fset, self.fdel, self.__doc__)\n",
    "\n",
    "    def setter(self, fset):\n",
    "        return type(self)(self.fget, fset, self.fdel, self.__doc__)\n",
    "\n",
    "    def deleter(self, fdel):\n",
    "        return type(self)(self.fget, self.fset, fdel, self.__doc__)"
   ]
  },
  {
   "cell_type": "markdown",
   "id": "cc575227",
   "metadata": {},
   "source": [
    "## 4-2 프로퍼티 적용하기 "
   ]
  },
  {
   "cell_type": "code",
   "execution_count": 62,
   "id": "b86fb027",
   "metadata": {},
   "outputs": [],
   "source": [
    "class PPP :\n",
    "    def __init__(self,name) :\n",
    "        self._name = name\n",
    "        \n",
    "    @Property\n",
    "    def name(self) :\n",
    "        return self._name\n",
    "    \n",
    "    @name.setter\n",
    "    def name(self, value) :\n",
    "        self._name = value"
   ]
  },
  {
   "cell_type": "code",
   "execution_count": 63,
   "id": "7551e772",
   "metadata": {},
   "outputs": [],
   "source": [
    "ppp = PPP(\"가을이\")"
   ]
  },
  {
   "cell_type": "code",
   "execution_count": 64,
   "id": "e2b72bcb",
   "metadata": {},
   "outputs": [
    {
     "data": {
      "text/plain": [
       "'가을이'"
      ]
     },
     "execution_count": 64,
     "metadata": {},
     "output_type": "execute_result"
    }
   ],
   "source": [
    "ppp.name"
   ]
  },
  {
   "cell_type": "code",
   "execution_count": 65,
   "id": "6095b204",
   "metadata": {},
   "outputs": [],
   "source": [
    "ppp.name = \"겨울이\""
   ]
  },
  {
   "cell_type": "code",
   "execution_count": 66,
   "id": "c4b5f879",
   "metadata": {},
   "outputs": [
    {
     "data": {
      "text/plain": [
       "'겨울이'"
      ]
     },
     "execution_count": 66,
     "metadata": {},
     "output_type": "execute_result"
    }
   ],
   "source": [
    "ppp.name"
   ]
  },
  {
   "cell_type": "code",
   "execution_count": null,
   "id": "aa2603b8",
   "metadata": {},
   "outputs": [],
   "source": []
  }
 ],
 "metadata": {
  "kernelspec": {
   "display_name": "Python 3 (ipykernel)",
   "language": "python",
   "name": "python3"
  },
  "language_info": {
   "codemirror_mode": {
    "name": "ipython",
    "version": 3
   },
   "file_extension": ".py",
   "mimetype": "text/x-python",
   "name": "python",
   "nbconvert_exporter": "python",
   "pygments_lexer": "ipython3",
   "version": "3.11.3"
  }
 },
 "nbformat": 4,
 "nbformat_minor": 5
}
