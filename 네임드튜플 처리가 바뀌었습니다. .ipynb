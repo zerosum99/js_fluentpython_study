{
 "cells": [
  {
   "cell_type": "code",
   "execution_count": null,
   "id": "c9e4b0bd",
   "metadata": {},
   "outputs": [],
   "source": []
  },
  {
   "cell_type": "code",
   "execution_count": 1,
   "id": "446266d0",
   "metadata": {},
   "outputs": [],
   "source": [
    "import platform"
   ]
  },
  {
   "cell_type": "code",
   "execution_count": 2,
   "id": "4713ab61",
   "metadata": {},
   "outputs": [
    {
     "data": {
      "text/plain": [
       "'3.11.3'"
      ]
     },
     "execution_count": 2,
     "metadata": {},
     "output_type": "execute_result"
    }
   ],
   "source": [
    "platform.python_version()"
   ]
  },
  {
   "cell_type": "code",
   "execution_count": null,
   "id": "526d5449",
   "metadata": {},
   "outputs": [],
   "source": []
  },
  {
   "cell_type": "code",
   "execution_count": 10,
   "id": "763207ba",
   "metadata": {},
   "outputs": [],
   "source": [
    "class X :\n",
    "    pass"
   ]
  },
  {
   "cell_type": "code",
   "execution_count": 11,
   "id": "f0586480",
   "metadata": {},
   "outputs": [
    {
     "data": {
      "text/plain": [
       "type"
      ]
     },
     "execution_count": 11,
     "metadata": {},
     "output_type": "execute_result"
    }
   ],
   "source": [
    "X.__class__"
   ]
  },
  {
   "cell_type": "code",
   "execution_count": 12,
   "id": "262eadae",
   "metadata": {},
   "outputs": [
    {
     "data": {
      "text/plain": [
       "object"
      ]
     },
     "execution_count": 12,
     "metadata": {},
     "output_type": "execute_result"
    }
   ],
   "source": [
    "X.__class__.__base__"
   ]
  },
  {
   "cell_type": "code",
   "execution_count": 13,
   "id": "b0305047",
   "metadata": {},
   "outputs": [
    {
     "data": {
      "text/plain": [
       "object"
      ]
     },
     "execution_count": 13,
     "metadata": {},
     "output_type": "execute_result"
    }
   ],
   "source": [
    "X.__base__"
   ]
  },
  {
   "cell_type": "code",
   "execution_count": 14,
   "id": "e43e3e8c",
   "metadata": {},
   "outputs": [
    {
     "data": {
      "text/plain": [
       "(object,)"
      ]
     },
     "execution_count": 14,
     "metadata": {},
     "output_type": "execute_result"
    }
   ],
   "source": [
    "X.__bases__"
   ]
  },
  {
   "cell_type": "code",
   "execution_count": null,
   "id": "74f5576a",
   "metadata": {},
   "outputs": [],
   "source": []
  },
  {
   "cell_type": "code",
   "execution_count": 15,
   "id": "711337a6",
   "metadata": {},
   "outputs": [],
   "source": [
    "import functools"
   ]
  },
  {
   "cell_type": "code",
   "execution_count": 24,
   "id": "f84f3849",
   "metadata": {},
   "outputs": [
    {
     "name": "stdout",
     "output_type": "stream",
     "text": [
      "_tuplegetter(0, 'Alias for field number 0')\n"
     ]
    }
   ],
   "source": [
    "import functools\n",
    "\n",
    "ABC = functools.namedtuple('ABC', ['a','b','c'])\n",
    "\n",
    "print(ABC.a)"
   ]
  },
  {
   "cell_type": "code",
   "execution_count": 37,
   "id": "15d4f197",
   "metadata": {},
   "outputs": [
    {
     "name": "stdout",
     "output_type": "stream",
     "text": [
      "Help on _tuplegetter:\n",
      "\n",
      "    Alias for field number 0\n",
      "\n"
     ]
    }
   ],
   "source": [
    "help(ABC.a)"
   ]
  },
  {
   "cell_type": "code",
   "execution_count": null,
   "id": "e8aaaedb",
   "metadata": {},
   "outputs": [],
   "source": []
  },
  {
   "cell_type": "code",
   "execution_count": 34,
   "id": "3d39ac97",
   "metadata": {},
   "outputs": [],
   "source": [
    "a_ = ABC(1,2,3)"
   ]
  },
  {
   "cell_type": "code",
   "execution_count": 36,
   "id": "c9b91a9c",
   "metadata": {},
   "outputs": [
    {
     "ename": "AttributeError",
     "evalue": "'ABC' object has no attribute '_tuplegetter'",
     "output_type": "error",
     "traceback": [
      "\u001b[0;31m---------------------------------------------------------------------------\u001b[0m",
      "\u001b[0;31mAttributeError\u001b[0m                            Traceback (most recent call last)",
      "Cell \u001b[0;32mIn[36], line 1\u001b[0m\n\u001b[0;32m----> 1\u001b[0m \u001b[43ma_\u001b[49m\u001b[38;5;241;43m.\u001b[39;49m\u001b[38;5;21;43m__getattribute__\u001b[39;49m\u001b[43m(\u001b[49m\u001b[38;5;124;43m\"\u001b[39;49m\u001b[38;5;124;43m_tuplegetter\u001b[39;49m\u001b[38;5;124;43m\"\u001b[39;49m\u001b[43m)\u001b[49m(\u001b[38;5;241m0\u001b[39m)\n",
      "\u001b[0;31mAttributeError\u001b[0m: 'ABC' object has no attribute '_tuplegetter'"
     ]
    }
   ],
   "source": [
    "a_.__getattribute__(\"_tuplegetter\")(0)"
   ]
  },
  {
   "cell_type": "code",
   "execution_count": null,
   "id": "cd7790db",
   "metadata": {},
   "outputs": [],
   "source": []
  },
  {
   "cell_type": "code",
   "execution_count": 21,
   "id": "32911880",
   "metadata": {},
   "outputs": [
    {
     "data": {
      "text/plain": [
       "['__add__',\n",
       " '__class__',\n",
       " '__class_getitem__',\n",
       " '__contains__',\n",
       " '__delattr__',\n",
       " '__dir__',\n",
       " '__doc__',\n",
       " '__eq__',\n",
       " '__format__',\n",
       " '__ge__',\n",
       " '__getattribute__',\n",
       " '__getitem__',\n",
       " '__getnewargs__',\n",
       " '__getstate__',\n",
       " '__gt__',\n",
       " '__hash__',\n",
       " '__init__',\n",
       " '__init_subclass__',\n",
       " '__iter__',\n",
       " '__le__',\n",
       " '__len__',\n",
       " '__lt__',\n",
       " '__match_args__',\n",
       " '__module__',\n",
       " '__mul__',\n",
       " '__ne__',\n",
       " '__new__',\n",
       " '__reduce__',\n",
       " '__reduce_ex__',\n",
       " '__repr__',\n",
       " '__rmul__',\n",
       " '__setattr__',\n",
       " '__sizeof__',\n",
       " '__slots__',\n",
       " '__str__',\n",
       " '__subclasshook__',\n",
       " '_asdict',\n",
       " '_field_defaults',\n",
       " '_fields',\n",
       " '_make',\n",
       " '_replace',\n",
       " 'a',\n",
       " 'b',\n",
       " 'c',\n",
       " 'count',\n",
       " 'index']"
      ]
     },
     "execution_count": 21,
     "metadata": {},
     "output_type": "execute_result"
    }
   ],
   "source": [
    "dir(ABC)"
   ]
  },
  {
   "cell_type": "code",
   "execution_count": 22,
   "id": "94a9c023",
   "metadata": {},
   "outputs": [
    {
     "data": {
      "text/plain": [
       "_tuplegetter(0, 'Alias for field number 0')"
      ]
     },
     "execution_count": 22,
     "metadata": {},
     "output_type": "execute_result"
    }
   ],
   "source": [
    "ABC.a"
   ]
  },
  {
   "cell_type": "code",
   "execution_count": 25,
   "id": "17b65dba",
   "metadata": {},
   "outputs": [],
   "source": [
    "import typing"
   ]
  },
  {
   "cell_type": "code",
   "execution_count": 33,
   "id": "111a4402",
   "metadata": {},
   "outputs": [
    {
     "name": "stdout",
     "output_type": "stream",
     "text": [
      "_tuplegetter(0, 'Alias for field number 0')\n"
     ]
    }
   ],
   "source": [
    "import typing\n",
    "\n",
    "ABCD = typing.NamedTuple('ABCD',name=str, id=int)\n",
    "\n",
    "print(ABCD.name)"
   ]
  },
  {
   "cell_type": "code",
   "execution_count": 31,
   "id": "36494b05",
   "metadata": {},
   "outputs": [
    {
     "data": {
      "text/plain": [
       "['__add__',\n",
       " '__annotations__',\n",
       " '__class__',\n",
       " '__class_getitem__',\n",
       " '__contains__',\n",
       " '__delattr__',\n",
       " '__dir__',\n",
       " '__doc__',\n",
       " '__eq__',\n",
       " '__format__',\n",
       " '__ge__',\n",
       " '__getattribute__',\n",
       " '__getitem__',\n",
       " '__getnewargs__',\n",
       " '__getstate__',\n",
       " '__gt__',\n",
       " '__hash__',\n",
       " '__init__',\n",
       " '__init_subclass__',\n",
       " '__iter__',\n",
       " '__le__',\n",
       " '__len__',\n",
       " '__lt__',\n",
       " '__match_args__',\n",
       " '__module__',\n",
       " '__mul__',\n",
       " '__ne__',\n",
       " '__new__',\n",
       " '__reduce__',\n",
       " '__reduce_ex__',\n",
       " '__repr__',\n",
       " '__rmul__',\n",
       " '__setattr__',\n",
       " '__sizeof__',\n",
       " '__slots__',\n",
       " '__str__',\n",
       " '__subclasshook__',\n",
       " '_asdict',\n",
       " '_field_defaults',\n",
       " '_fields',\n",
       " '_make',\n",
       " '_replace',\n",
       " 'count',\n",
       " 'id',\n",
       " 'index',\n",
       " 'name']"
      ]
     },
     "execution_count": 31,
     "metadata": {},
     "output_type": "execute_result"
    }
   ],
   "source": [
    "dir(ABCD)"
   ]
  },
  {
   "cell_type": "code",
   "execution_count": null,
   "id": "133890b7",
   "metadata": {},
   "outputs": [],
   "source": []
  },
  {
   "cell_type": "code",
   "execution_count": 28,
   "id": "09f56d6c",
   "metadata": {},
   "outputs": [
    {
     "name": "stdout",
     "output_type": "stream",
     "text": [
      "Help on function NamedTuple in module typing:\n",
      "\n",
      "NamedTuple(typename, fields=None, /, **kwargs)\n",
      "    Typed version of namedtuple.\n",
      "    \n",
      "    Usage in Python versions >= 3.6::\n",
      "    \n",
      "        class Employee(NamedTuple):\n",
      "            name: str\n",
      "            id: int\n",
      "    \n",
      "    This is equivalent to::\n",
      "    \n",
      "        Employee = collections.namedtuple('Employee', ['name', 'id'])\n",
      "    \n",
      "    The resulting class has an extra __annotations__ attribute, giving a\n",
      "    dict that maps field names to types.  (The field names are also in\n",
      "    the _fields attribute, which is part of the namedtuple API.)\n",
      "    Alternative equivalent keyword syntax is also accepted::\n",
      "    \n",
      "        Employee = NamedTuple('Employee', name=str, id=int)\n",
      "    \n",
      "    In Python versions <= 3.5 use::\n",
      "    \n",
      "        Employee = NamedTuple('Employee', [('name', str), ('id', int)])\n",
      "\n"
     ]
    }
   ],
   "source": [
    "help(typing.NamedTuple)"
   ]
  },
  {
   "cell_type": "code",
   "execution_count": null,
   "id": "93cf512a",
   "metadata": {},
   "outputs": [],
   "source": []
  },
  {
   "cell_type": "code",
   "execution_count": 39,
   "id": "c9fbf08a",
   "metadata": {},
   "outputs": [
    {
     "name": "stdout",
     "output_type": "stream",
     "text": [
      "['Alice', 'Bob', 'Charlie']\n"
     ]
    }
   ],
   "source": [
    "\n",
    "\n",
    "from operator import itemgetter\n",
    "from collections import namedtuple\n",
    "\n",
    "# Create a named tuple\n",
    "Person = namedtuple('Person', ['name', 'age', 'city'])\n",
    "\n",
    "# Create a list of persons\n",
    "people = [\n",
    "    Person(name='Alice', age=25, city='New York'),\n",
    "    Person(name='Bob', age=30, city='San Francisco'),\n",
    "    Person(name='Charlie', age=22, city='Los Angeles'),\n",
    "]\n",
    "\n",
    "# Create a callable to get the name (index 0) from the tuple\n",
    "get_name = itemgetter(0)\n",
    "\n",
    "# Apply the callable to each person in the list\n",
    "names = map(get_name, people)\n",
    "\n",
    "# Print the names\n",
    "print(list(names))"
   ]
  },
  {
   "cell_type": "code",
   "execution_count": null,
   "id": "223fbc65",
   "metadata": {},
   "outputs": [],
   "source": []
  },
  {
   "cell_type": "code",
   "execution_count": 41,
   "id": "856ecd57",
   "metadata": {},
   "outputs": [
    {
     "data": {
      "text/plain": [
       "['__call__',\n",
       " '__class__',\n",
       " '__delattr__',\n",
       " '__dir__',\n",
       " '__doc__',\n",
       " '__eq__',\n",
       " '__format__',\n",
       " '__ge__',\n",
       " '__getattribute__',\n",
       " '__getstate__',\n",
       " '__gt__',\n",
       " '__hash__',\n",
       " '__init__',\n",
       " '__init_subclass__',\n",
       " '__le__',\n",
       " '__lt__',\n",
       " '__module__',\n",
       " '__ne__',\n",
       " '__new__',\n",
       " '__reduce__',\n",
       " '__reduce_ex__',\n",
       " '__repr__',\n",
       " '__setattr__',\n",
       " '__sizeof__',\n",
       " '__str__',\n",
       " '__subclasshook__',\n",
       " '__vectorcalloffset__']"
      ]
     },
     "execution_count": 41,
     "metadata": {},
     "output_type": "execute_result"
    }
   ],
   "source": [
    "dir(itemgetter)"
   ]
  },
  {
   "cell_type": "code",
   "execution_count": 40,
   "id": "f54c316b",
   "metadata": {},
   "outputs": [
    {
     "name": "stdout",
     "output_type": "stream",
     "text": [
      "Help on class itemgetter in module operator:\n",
      "\n",
      "class itemgetter(builtins.object)\n",
      " |  itemgetter(item, ...) --> itemgetter object\n",
      " |  \n",
      " |  Return a callable object that fetches the given item(s) from its operand.\n",
      " |  After f = itemgetter(2), the call f(r) returns r[2].\n",
      " |  After g = itemgetter(2, 5, 3), the call g(r) returns (r[2], r[5], r[3])\n",
      " |  \n",
      " |  Methods defined here:\n",
      " |  \n",
      " |  __call__(self, /, *args, **kwargs)\n",
      " |      Call self as a function.\n",
      " |  \n",
      " |  __getattribute__(self, name, /)\n",
      " |      Return getattr(self, name).\n",
      " |  \n",
      " |  __reduce__(...)\n",
      " |      Return state information for pickling\n",
      " |  \n",
      " |  __repr__(self, /)\n",
      " |      Return repr(self).\n",
      " |  \n",
      " |  ----------------------------------------------------------------------\n",
      " |  Static methods defined here:\n",
      " |  \n",
      " |  __new__(*args, **kwargs) from builtins.type\n",
      " |      Create and return a new object.  See help(type) for accurate signature.\n",
      " |  \n",
      " |  ----------------------------------------------------------------------\n",
      " |  Data descriptors defined here:\n",
      " |  \n",
      " |  __vectorcalloffset__\n",
      "\n"
     ]
    }
   ],
   "source": [
    "help(itemgetter)"
   ]
  },
  {
   "cell_type": "code",
   "execution_count": 42,
   "id": "c901ab30",
   "metadata": {},
   "outputs": [],
   "source": [
    "import typing"
   ]
  },
  {
   "cell_type": "code",
   "execution_count": 49,
   "id": "224d613a",
   "metadata": {},
   "outputs": [
    {
     "name": "stdout",
     "output_type": "stream",
     "text": [
      "_tuplegetter(0, 'Alias for field number 0')\n",
      "<method-wrapper '__get__' of _collections._tuplegetter object at 0x107f90dc0>\n"
     ]
    }
   ],
   "source": [
    "import typing\n",
    "\n",
    "class Pt(typing.NamedTuple):\n",
    "            x: int\n",
    "            y: int\n",
    "\n",
    "print(vars(Pt)['x'])\n",
    "print(vars(Pt)['x'].__get__)"
   ]
  },
  {
   "cell_type": "code",
   "execution_count": 45,
   "id": "4e552139",
   "metadata": {},
   "outputs": [
    {
     "data": {
      "text/plain": [
       "_tuplegetter(0, 'Alias for field number 0')"
      ]
     },
     "execution_count": 45,
     "metadata": {},
     "output_type": "execute_result"
    }
   ],
   "source": [
    "vars(Pt)['x']"
   ]
  },
  {
   "cell_type": "code",
   "execution_count": 47,
   "id": "2ee6488e",
   "metadata": {},
   "outputs": [
    {
     "data": {
      "text/plain": [
       "<method-wrapper '__get__' of _collections._tuplegetter object at 0x107ee7dc0>"
      ]
     },
     "execution_count": 47,
     "metadata": {},
     "output_type": "execute_result"
    }
   ],
   "source": [
    "vars(Pt)['x'].__get__"
   ]
  },
  {
   "cell_type": "code",
   "execution_count": null,
   "id": "f0be0c8b",
   "metadata": {},
   "outputs": [],
   "source": []
  },
  {
   "cell_type": "markdown",
   "id": "0dbcb846",
   "metadata": {},
   "source": [
    "## 1.  네임드 튜플 유사하게 만들기"
   ]
  },
  {
   "cell_type": "markdown",
   "id": "c7a2e6ee",
   "metadata": {},
   "source": [
    "## 1-1 디스크립터 클래스 정의하기"
   ]
  },
  {
   "cell_type": "code",
   "execution_count": 50,
   "id": "52ffb545",
   "metadata": {},
   "outputs": [],
   "source": [
    "class Descriptor:\n",
    "    def __set_name__(self, owner, name):\n",
    "        # __set_name__ 메서드를 통해 속성 이름을 알 수 있음\n",
    "        self.name = \"_\" + name\n",
    "\n",
    "    def __get__(self, instance, owner):\n",
    "        if instance is None:\n",
    "            return self  # 클래스 자체에서 디스크립터에 접근할 때\n",
    "        print(f\"Getting the value of {self.name} in {owner.__name__} instance\")\n",
    "        return instance.__dict__[self.name]\n",
    "\n",
    "    def __set__(self, instance, value):\n",
    "        print(f\"Setting the value of {self.name} in the instance\")\n",
    "        instance.__dict__[self.name] = value\n",
    "\n",
    "    def __delete__(self, instance):\n",
    "        print(f\"Deleting the attribute {self.name} from the instance\")\n",
    "        del instance.__dict__[self.name]"
   ]
  },
  {
   "cell_type": "markdown",
   "id": "c89f1304",
   "metadata": {},
   "source": [
    "## 1-2 네임드 튜플 함수 만들기 "
   ]
  },
  {
   "cell_type": "code",
   "execution_count": 79,
   "id": "54917b81",
   "metadata": {},
   "outputs": [],
   "source": [
    "def NameT(cls_name, var_list) :\n",
    "    field = {i : Descriptor() for i in var_list}\n",
    "    \n",
    "    def __init__(self,*args) :\n",
    "        ll = list(field.keys())\n",
    "        for i in range(len(args)) : \n",
    "            setattr(self, ll[i],args[i])\n",
    "            \n",
    "    field[\"__init__\"] = __init__\n",
    "    \n",
    "    aaa = type(cls_name,(object,), field)\n",
    "    return aaa"
   ]
  },
  {
   "cell_type": "code",
   "execution_count": null,
   "id": "d6d672ad",
   "metadata": {},
   "outputs": [],
   "source": []
  },
  {
   "cell_type": "markdown",
   "id": "01af2743",
   "metadata": {},
   "source": [
    "## 1-3 네임드 튜플로 네임드 튜플 클래스 만들기"
   ]
  },
  {
   "cell_type": "code",
   "execution_count": 80,
   "id": "5b3d6d70",
   "metadata": {},
   "outputs": [],
   "source": [
    "AAA = NameT(\"AAA\",['x','y'])"
   ]
  },
  {
   "cell_type": "code",
   "execution_count": 81,
   "id": "67455e78",
   "metadata": {},
   "outputs": [
    {
     "data": {
      "text/plain": [
       "mappingproxy({'x': <__main__.Descriptor at 0x1104aea50>,\n",
       "              'y': <__main__.Descriptor at 0x11063e450>,\n",
       "              '__init__': <function __main__.NameT.<locals>.__init__(self, *args)>,\n",
       "              '__module__': '__main__',\n",
       "              '__dict__': <attribute '__dict__' of 'AAA' objects>,\n",
       "              '__weakref__': <attribute '__weakref__' of 'AAA' objects>,\n",
       "              '__doc__': None})"
      ]
     },
     "execution_count": 81,
     "metadata": {},
     "output_type": "execute_result"
    }
   ],
   "source": [
    "AAA.__dict__"
   ]
  },
  {
   "cell_type": "markdown",
   "id": "7c11944d",
   "metadata": {},
   "source": [
    "## 1-4 네임드튜플 객체 만들기"
   ]
  },
  {
   "cell_type": "code",
   "execution_count": 82,
   "id": "f788357e",
   "metadata": {},
   "outputs": [
    {
     "name": "stdout",
     "output_type": "stream",
     "text": [
      "Setting the value of _x in the instance\n",
      "Setting the value of _y in the instance\n"
     ]
    }
   ],
   "source": [
    "aaa = AAA(100,200)"
   ]
  },
  {
   "cell_type": "code",
   "execution_count": 83,
   "id": "150a67c8",
   "metadata": {},
   "outputs": [
    {
     "name": "stdout",
     "output_type": "stream",
     "text": [
      "Getting the value of _x in AAA instance\n"
     ]
    },
    {
     "data": {
      "text/plain": [
       "100"
      ]
     },
     "execution_count": 83,
     "metadata": {},
     "output_type": "execute_result"
    }
   ],
   "source": [
    "aaa.x"
   ]
  },
  {
   "cell_type": "code",
   "execution_count": 84,
   "id": "a6b7d915",
   "metadata": {},
   "outputs": [
    {
     "name": "stdout",
     "output_type": "stream",
     "text": [
      "Getting the value of _y in AAA instance\n"
     ]
    },
    {
     "data": {
      "text/plain": [
       "200"
      ]
     },
     "execution_count": 84,
     "metadata": {},
     "output_type": "execute_result"
    }
   ],
   "source": [
    "aaa.y"
   ]
  },
  {
   "cell_type": "code",
   "execution_count": null,
   "id": "75c1445a",
   "metadata": {},
   "outputs": [],
   "source": []
  },
  {
   "cell_type": "code",
   "execution_count": null,
   "id": "213eeca0",
   "metadata": {},
   "outputs": [],
   "source": []
  },
  {
   "cell_type": "markdown",
   "id": "1da12d07",
   "metadata": {},
   "source": [
    "## 디스크립터를 통한 속성 처리하기 "
   ]
  },
  {
   "cell_type": "code",
   "execution_count": 51,
   "id": "bf10c77c",
   "metadata": {},
   "outputs": [],
   "source": [
    "class A :\n",
    "    x = Descriptor()\n",
    "    y = Descriptor()"
   ]
  },
  {
   "cell_type": "code",
   "execution_count": 52,
   "id": "00fac2a1",
   "metadata": {},
   "outputs": [],
   "source": [
    "a = A()"
   ]
  },
  {
   "cell_type": "code",
   "execution_count": 53,
   "id": "5763ab50",
   "metadata": {},
   "outputs": [
    {
     "name": "stdout",
     "output_type": "stream",
     "text": [
      "Setting the value of _x in the instance\n"
     ]
    }
   ],
   "source": [
    "a.x = 100"
   ]
  },
  {
   "cell_type": "code",
   "execution_count": 54,
   "id": "4ee7c626",
   "metadata": {},
   "outputs": [
    {
     "name": "stdout",
     "output_type": "stream",
     "text": [
      "Setting the value of _y in the instance\n"
     ]
    }
   ],
   "source": [
    "a.y = 200"
   ]
  },
  {
   "cell_type": "code",
   "execution_count": 55,
   "id": "d70b89f4",
   "metadata": {},
   "outputs": [
    {
     "data": {
      "text/plain": [
       "{'_x': 100, '_y': 200}"
      ]
     },
     "execution_count": 55,
     "metadata": {},
     "output_type": "execute_result"
    }
   ],
   "source": [
    "a.__dict__"
   ]
  },
  {
   "cell_type": "code",
   "execution_count": null,
   "id": "13e48d99",
   "metadata": {},
   "outputs": [],
   "source": []
  },
  {
   "cell_type": "code",
   "execution_count": null,
   "id": "ec686a44",
   "metadata": {},
   "outputs": [],
   "source": []
  },
  {
   "cell_type": "code",
   "execution_count": null,
   "id": "6e631543",
   "metadata": {},
   "outputs": [],
   "source": []
  }
 ],
 "metadata": {
  "kernelspec": {
   "display_name": "Python 3 (ipykernel)",
   "language": "python",
   "name": "python3"
  },
  "language_info": {
   "codemirror_mode": {
    "name": "ipython",
    "version": 3
   },
   "file_extension": ".py",
   "mimetype": "text/x-python",
   "name": "python",
   "nbconvert_exporter": "python",
   "pygments_lexer": "ipython3",
   "version": "3.11.3"
  }
 },
 "nbformat": 4,
 "nbformat_minor": 5
}
