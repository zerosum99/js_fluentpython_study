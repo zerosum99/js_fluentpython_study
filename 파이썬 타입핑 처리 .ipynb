{
 "cells": [
  {
   "cell_type": "markdown",
   "id": "d4e16857",
   "metadata": {},
   "source": [
    "## 파이썬 버전 확인하기 "
   ]
  },
  {
   "cell_type": "code",
   "execution_count": 1,
   "id": "52ee953a",
   "metadata": {},
   "outputs": [
    {
     "data": {
      "text/plain": [
       "'3.11.3'"
      ]
     },
     "execution_count": 1,
     "metadata": {},
     "output_type": "execute_result"
    }
   ],
   "source": [
    "import platform \n",
    "\n",
    "platform.python_version()"
   ]
  },
  {
   "cell_type": "markdown",
   "id": "4b6ccebd",
   "metadata": {},
   "source": [
    "## 타입 힌트(type hint)\n",
    "\n",
    "- 언어 차원에서 지원하기 위해서 파이썬 버전 3.5에서 typing 모듈이 스탠더드 라이브러리에 추가\n",
    "- 최신 버전에서 타입 힌트를 처리해야함 .  \n",
    "- 타입힌트는 실제 타입 어노테이션을 처리하는 것  "
   ]
  },
  {
   "cell_type": "code",
   "execution_count": null,
   "id": "a2b59b25",
   "metadata": {},
   "outputs": [],
   "source": []
  },
  {
   "cell_type": "markdown",
   "id": "281edcda",
   "metadata": {},
   "source": [
    "## 타입 어노테이션 작성 방법 \n",
    "\n",
    "- 변수 이름 뒤에 콜론(:)을 붙이고 타입을 명시"
   ]
  },
  {
   "cell_type": "markdown",
   "id": "e8ee1ad7",
   "metadata": {},
   "source": [
    "## 1. 기존 자료형으로 타입어노테이션 처리하기 "
   ]
  },
  {
   "cell_type": "code",
   "execution_count": null,
   "id": "086721b7",
   "metadata": {},
   "outputs": [],
   "source": []
  },
  {
   "cell_type": "markdown",
   "id": "6941894b",
   "metadata": {},
   "source": [
    "## 1-1 변수에 타입 붙이기 "
   ]
  },
  {
   "cell_type": "markdown",
   "id": "5817ee0b",
   "metadata": {},
   "source": [
    "### 정수와 문자열 "
   ]
  },
  {
   "cell_type": "code",
   "execution_count": 2,
   "id": "d5d0e8b6",
   "metadata": {},
   "outputs": [],
   "source": [
    "name: str = \"John Doe\"\n",
    "\n",
    "age: int = 25\n"
   ]
  },
  {
   "cell_type": "markdown",
   "id": "98bf1181",
   "metadata": {},
   "source": [
    "### 리스트와 딕셔너리 "
   ]
  },
  {
   "cell_type": "code",
   "execution_count": 3,
   "id": "1d362158",
   "metadata": {},
   "outputs": [],
   "source": [
    "emails: list =  [\"john1@doe.com\", \"john2@doe.com\"]"
   ]
  },
  {
   "cell_type": "code",
   "execution_count": null,
   "id": "6dd4b198",
   "metadata": {},
   "outputs": [],
   "source": []
  },
  {
   "cell_type": "code",
   "execution_count": 4,
   "id": "0f263279",
   "metadata": {},
   "outputs": [],
   "source": [
    "address: dict = {\n",
    "  \"street\": \"54560 Daugherty Brooks Suite 581\",\n",
    "  \"city\": \"Stokesmouth\",\n",
    "  \"state\": \"NM\",\n",
    "  \"zip\": \"80556\"\n",
    "}"
   ]
  },
  {
   "cell_type": "markdown",
   "id": "403f6100",
   "metadata": {},
   "source": [
    "## 1-2 매개변수와 반환값에 타입 붙이기"
   ]
  },
  {
   "cell_type": "code",
   "execution_count": 5,
   "id": "26e17804",
   "metadata": {},
   "outputs": [],
   "source": [
    "def greeting(name: str) -> str:\n",
    "    return 'Hello ' + name"
   ]
  },
  {
   "cell_type": "code",
   "execution_count": 6,
   "id": "bb5bf2d7",
   "metadata": {},
   "outputs": [
    {
     "data": {
      "text/plain": [
       "'Hello hana'"
      ]
     },
     "execution_count": 6,
     "metadata": {},
     "output_type": "execute_result"
    }
   ],
   "source": [
    "greeting(\"hana\")"
   ]
  },
  {
   "cell_type": "markdown",
   "id": "3826e58b",
   "metadata": {},
   "source": [
    "## 1-3 타입어노테이션 정보 확인 "
   ]
  },
  {
   "cell_type": "markdown",
   "id": "acf7763c",
   "metadata": {},
   "source": [
    "### 모듈"
   ]
  },
  {
   "cell_type": "code",
   "execution_count": 7,
   "id": "fcf94b1e",
   "metadata": {},
   "outputs": [
    {
     "data": {
      "text/plain": [
       "{'name': str, 'age': int, 'emails': list, 'address': dict}"
      ]
     },
     "execution_count": 7,
     "metadata": {},
     "output_type": "execute_result"
    }
   ],
   "source": [
    "__annotations__"
   ]
  },
  {
   "cell_type": "markdown",
   "id": "03a634e7",
   "metadata": {},
   "source": [
    "### 함수 "
   ]
  },
  {
   "cell_type": "code",
   "execution_count": 8,
   "id": "8c3dca94",
   "metadata": {},
   "outputs": [
    {
     "data": {
      "text/plain": [
       "{'name': str, 'return': str}"
      ]
     },
     "execution_count": 8,
     "metadata": {},
     "output_type": "execute_result"
    }
   ],
   "source": [
    "greeting.__annotations__"
   ]
  },
  {
   "cell_type": "code",
   "execution_count": null,
   "id": "4e737217",
   "metadata": {},
   "outputs": [],
   "source": []
  },
  {
   "cell_type": "markdown",
   "id": "b0d2828f",
   "metadata": {},
   "source": [
    "## 1-4 타입별칭 처리 "
   ]
  },
  {
   "cell_type": "code",
   "execution_count": 27,
   "id": "8b94d7ec",
   "metadata": {},
   "outputs": [],
   "source": [
    "Vector = list[float]\n",
    "\n",
    "def scale(scalar: float, vector: Vector) -> Vector:\n",
    "    return [scalar * num for num in vector]\n",
    "\n",
    "# 형 검사 통과; float의 리스트는 Vector로 적합합니다.\n",
    "new_vector = scale(2.0, [1.0, -4.2, 5.4])"
   ]
  },
  {
   "cell_type": "code",
   "execution_count": null,
   "id": "b46aeb2d",
   "metadata": {},
   "outputs": [],
   "source": []
  },
  {
   "cell_type": "markdown",
   "id": "00a9e2fc",
   "metadata": {},
   "source": [
    "## 1-5 타입별칭 추가 "
   ]
  },
  {
   "cell_type": "code",
   "execution_count": 28,
   "id": "d332ffc0",
   "metadata": {},
   "outputs": [],
   "source": [
    "from collections.abc import Sequence\n",
    "\n",
    "ConnectionOptions = dict[str, str]\n",
    "Address = tuple[str, int]\n",
    "Server = tuple[Address, ConnectionOptions]"
   ]
  },
  {
   "cell_type": "code",
   "execution_count": 30,
   "id": "22f192e4",
   "metadata": {},
   "outputs": [],
   "source": [
    "def broadcast_message(message: str, servers: Sequence[Server]) -> None:\n",
    "    ...\n"
   ]
  },
  {
   "cell_type": "code",
   "execution_count": 29,
   "id": "cd35a334",
   "metadata": {},
   "outputs": [],
   "source": [
    "# 정적 형 검사기는 이전 형 서명을 이것과 정확히 동등한 것으로 취급합니다.\n",
    "def broadcast_message(\n",
    "        message: str,\n",
    "        servers: Sequence[tuple[tuple[str, int], dict[str, str]]]) -> None:\n",
    "    ..."
   ]
  },
  {
   "cell_type": "code",
   "execution_count": null,
   "id": "9101b5f5",
   "metadata": {},
   "outputs": [],
   "source": []
  },
  {
   "cell_type": "markdown",
   "id": "7adf9a35",
   "metadata": {},
   "source": [
    "## 2. 타이핑 모듈을 사용해서 타입어노테이션 처리하기 "
   ]
  },
  {
   "cell_type": "code",
   "execution_count": 9,
   "id": "26b0ed23",
   "metadata": {},
   "outputs": [],
   "source": [
    "import typing "
   ]
  },
  {
   "cell_type": "code",
   "execution_count": 10,
   "id": "a680571f",
   "metadata": {},
   "outputs": [
    {
     "name": "stdout",
     "output_type": "stream",
     "text": [
      "ABCMeta, AbstractSet, Annotated, Any, AnyStr, AsyncContextManager, AsyncGenerator, AsyncIterable, AsyncIterator, Awaitable, BinaryIO, ByteString, CT_co, Callable, ChainMap, ClassVar, Collection, Concatenate, Container, ContextManager, Coroutine, Counter, DefaultDict, Deque, Dict, EXCLUDED_ATTRIBUTES, Final, ForwardRef, FrozenSet, Generator, Generic, GenericAlias, Hashable, IO, ItemsView, Iterable, Iterator, KT, KeysView, List, Literal, LiteralString, Mapping, MappingView, Match, MethodDescriptorType, MethodWrapperType, MutableMapping, MutableSequence, MutableSet, NamedTuple, NamedTupleMeta, Never, NewType, NoReturn, NotRequired, Optional, OrderedDict, ParamSpec, ParamSpecArgs, ParamSpecKwargs, Pattern, Protocol, Required, Reversible, Self, Sequence, Set, Sized, SupportsAbs, SupportsBytes, SupportsComplex, SupportsFloat, SupportsIndex, SupportsInt, SupportsRound, T, TYPE_CHECKING, T_co, T_contra, Text, TextIO, Tuple, Type, TypeAlias, TypeGuard, TypeVar, TypeVarTuple, TypedDict, Union, Unpack, VT, VT_co, V_co, ValuesView, WrapperDescriptorType, abstractmethod, assert_never, assert_type, cast, clear_overloads, collections, contextlib, dataclass_transform, defaultdict, final, functools, get_args, get_origin, get_overloads, get_type_hints, io, is_typeddict, no_type_check, no_type_check_decorator, operator, overload, re, reveal_type, runtime_checkable, stdlib_re, sys, types, warnings, "
     ]
    }
   ],
   "source": [
    "for i in dir(typing) :\n",
    "    print(i, end=\", \") if not (i.startswith(\"_\")) else _ "
   ]
  },
  {
   "cell_type": "markdown",
   "id": "982e2168",
   "metadata": {},
   "source": [
    "## 2-1 기존자료형을 타이핑으로 처리 "
   ]
  },
  {
   "cell_type": "code",
   "execution_count": 11,
   "id": "fac41435",
   "metadata": {},
   "outputs": [],
   "source": [
    "from typing import List,Tuple, Dict, Set"
   ]
  },
  {
   "cell_type": "markdown",
   "id": "bbb268ea",
   "metadata": {},
   "source": [
    "### 리스트"
   ]
  },
  {
   "cell_type": "code",
   "execution_count": 12,
   "id": "2e0501c8",
   "metadata": {},
   "outputs": [],
   "source": [
    "nums: List[int] = [1, 2, 3]"
   ]
  },
  {
   "cell_type": "markdown",
   "id": "02638ddd",
   "metadata": {},
   "source": [
    "### 딕셔너리"
   ]
  },
  {
   "cell_type": "code",
   "execution_count": 13,
   "id": "41a66fc7",
   "metadata": {},
   "outputs": [],
   "source": [
    "countries: Dict[str, str] = {\"KR\": \"South Korea\", \"US\": \"United States\", \"CN\": \"China\"}"
   ]
  },
  {
   "cell_type": "markdown",
   "id": "b217f3f4",
   "metadata": {},
   "source": [
    "### 튜플 "
   ]
  },
  {
   "cell_type": "code",
   "execution_count": 14,
   "id": "c8177890",
   "metadata": {},
   "outputs": [],
   "source": [
    "user: Tuple[int, str, bool] = (3, \"Dale\", True)"
   ]
  },
  {
   "cell_type": "markdown",
   "id": "f74a86e5",
   "metadata": {},
   "source": [
    "### 집합 "
   ]
  },
  {
   "cell_type": "code",
   "execution_count": 15,
   "id": "c30ff265",
   "metadata": {},
   "outputs": [],
   "source": [
    "chars: Set[str] = {\"A\", \"B\", \"C\"}"
   ]
  },
  {
   "cell_type": "code",
   "execution_count": null,
   "id": "ddaf7aa6",
   "metadata": {},
   "outputs": [],
   "source": []
  },
  {
   "cell_type": "markdown",
   "id": "9ad339ab",
   "metadata": {},
   "source": [
    "## 3. 추가적인 타입을 정의하기 "
   ]
  },
  {
   "cell_type": "markdown",
   "id": "847fb112",
   "metadata": {},
   "source": [
    "## 타입 별칭을 만들기 "
   ]
  },
  {
   "cell_type": "code",
   "execution_count": 16,
   "id": "19b34694",
   "metadata": {},
   "outputs": [],
   "source": [
    "from typing import TypeAlias\n",
    "\n",
    "Vector: TypeAlias = list[float]"
   ]
  },
  {
   "cell_type": "code",
   "execution_count": null,
   "id": "24bd16b5",
   "metadata": {},
   "outputs": [],
   "source": []
  },
  {
   "cell_type": "code",
   "execution_count": null,
   "id": "cb813d20",
   "metadata": {},
   "outputs": [],
   "source": []
  },
  {
   "cell_type": "markdown",
   "id": "722e7db5",
   "metadata": {},
   "source": [
    "## 새로운 타입을 만들기 "
   ]
  },
  {
   "cell_type": "code",
   "execution_count": 17,
   "id": "bb2fb648",
   "metadata": {},
   "outputs": [],
   "source": [
    "from typing import NewType\n",
    "\n",
    "UserId = NewType('UserId', int)\n",
    "some_id = UserId(524313)"
   ]
  },
  {
   "cell_type": "code",
   "execution_count": null,
   "id": "4ea3744a",
   "metadata": {},
   "outputs": [],
   "source": []
  },
  {
   "cell_type": "markdown",
   "id": "957fefc5",
   "metadata": {},
   "source": [
    "## 상수값 정의하기 "
   ]
  },
  {
   "cell_type": "code",
   "execution_count": 19,
   "id": "3757749f",
   "metadata": {},
   "outputs": [],
   "source": [
    "from typing import Final\n",
    "\n",
    "TIME_OUT: Final[int] = 10"
   ]
  },
  {
   "cell_type": "code",
   "execution_count": null,
   "id": "ef4658bb",
   "metadata": {},
   "outputs": [],
   "source": []
  },
  {
   "cell_type": "markdown",
   "id": "04b27622",
   "metadata": {},
   "source": [
    "## 유니온 타입 정의 \n",
    "\n",
    "- 여러 개의 타입이 허용될 수 있는 상황"
   ]
  },
  {
   "cell_type": "code",
   "execution_count": null,
   "id": "96e2d591",
   "metadata": {},
   "outputs": [],
   "source": [
    "from typing import Union\n",
    "\n",
    "\n",
    "def toString(num: Union[int, float]) -> str:\n",
    "    return str(num)"
   ]
  },
  {
   "cell_type": "code",
   "execution_count": null,
   "id": "7ed8f82e",
   "metadata": {},
   "outputs": [],
   "source": []
  },
  {
   "cell_type": "markdown",
   "id": "ab6881af",
   "metadata": {},
   "source": [
    "## 옵서널 타입 정의 \n",
    "- Optional은 None이 허용되는 함수의 매개 변수에 대한 타입을 명시"
   ]
  },
  {
   "cell_type": "code",
   "execution_count": 20,
   "id": "d440e563",
   "metadata": {},
   "outputs": [],
   "source": [
    "from typing import Optional"
   ]
  },
  {
   "cell_type": "code",
   "execution_count": 21,
   "id": "5186e35d",
   "metadata": {},
   "outputs": [],
   "source": [
    "def repeat(message: str, times: Optional[int] = None) -> list:\n",
    "    if times:\n",
    "        return [message] * times\n",
    "    else:\n",
    "        return [message]"
   ]
  },
  {
   "cell_type": "code",
   "execution_count": null,
   "id": "65f6e766",
   "metadata": {},
   "outputs": [],
   "source": []
  },
  {
   "cell_type": "markdown",
   "id": "83062bca",
   "metadata": {},
   "source": [
    "## callable 타입 정의 \n",
    "\n",
    "- 파이썬에서는 함수를 일반 값처럼 변수에 저장하거나 함수의 인자로 넘기거나 함수의 반환값으로 사용\n",
    "- typing 모듈의 Callable은 이러한 함수에 대한 타입 어노테이션을 추가할 때 사용"
   ]
  },
  {
   "cell_type": "code",
   "execution_count": 22,
   "id": "3fdad1fe",
   "metadata": {},
   "outputs": [
    {
     "name": "stdout",
     "output_type": "stream",
     "text": [
      "Hi, Dale!\n",
      "Hi, Dale!\n"
     ]
    }
   ],
   "source": [
    "from typing import Callable\n",
    "\n",
    "def repeat(greet: Callable[[str], str], name: str, times: int = 2) -> None:\n",
    "    for _ in range(times):\n",
    "        print(greet(name))\n",
    "        \n",
    "greet: Callable[[str], str] = lambda name: f\"Hi, {name}!\"\n",
    "repeat(greet, \"Dale\")"
   ]
  },
  {
   "cell_type": "code",
   "execution_count": null,
   "id": "93841e1d",
   "metadata": {},
   "outputs": [],
   "source": []
  },
  {
   "cell_type": "code",
   "execution_count": null,
   "id": "85e2ef15",
   "metadata": {},
   "outputs": [],
   "source": []
  },
  {
   "cell_type": "markdown",
   "id": "377e7769",
   "metadata": {},
   "source": [
    "# 3 제너릭 "
   ]
  },
  {
   "cell_type": "markdown",
   "id": "9f9f1be8",
   "metadata": {},
   "source": [
    "## 3-1 제너릭 함수 "
   ]
  },
  {
   "cell_type": "code",
   "execution_count": 31,
   "id": "63095c86",
   "metadata": {},
   "outputs": [],
   "source": [
    "from collections.abc import Sequence\n",
    "from typing import TypeVar\n",
    "\n",
    "T = TypeVar('T')      # 형 변수를 선언합니다\n",
    "\n",
    "def first(l: Sequence[T]) -> T:   # 제네릭 함수\n",
    "    return l[0]"
   ]
  },
  {
   "cell_type": "markdown",
   "id": "1853081c",
   "metadata": {},
   "source": [
    "## 3-2 사용자 제너릭 "
   ]
  },
  {
   "cell_type": "code",
   "execution_count": 32,
   "id": "3ef3dfc0",
   "metadata": {},
   "outputs": [],
   "source": [
    "from typing import TypeVar, Generic\n",
    "from logging import Logger\n",
    "\n",
    "T = TypeVar('T')\n",
    "\n",
    "class LoggedVar(Generic[T]):\n",
    "    def __init__(self, value: T, name: str, logger: Logger) -> None:\n",
    "        self.name = name\n",
    "        self.logger = logger\n",
    "        self.value = value\n",
    "\n",
    "    def set(self, new: T) -> None:\n",
    "        self.log('Set ' + repr(self.value))\n",
    "        self.value = new\n",
    "\n",
    "    def get(self) -> T:\n",
    "        self.log('Get ' + repr(self.value))\n",
    "        return self.value\n",
    "\n",
    "    def log(self, message: str) -> None:\n",
    "        self.logger.info('%s: %s', self.name, message)"
   ]
  },
  {
   "cell_type": "code",
   "execution_count": null,
   "id": "cc222d4a",
   "metadata": {},
   "outputs": [],
   "source": []
  },
  {
   "cell_type": "code",
   "execution_count": 34,
   "id": "b50e4ed4",
   "metadata": {},
   "outputs": [],
   "source": [
    "from collections.abc import Iterable\n",
    "\n",
    "def zero_all_vars(vars: Iterable[LoggedVar[int]]) -> None:\n",
    "    for var in vars:\n",
    "        var.set(0)"
   ]
  },
  {
   "cell_type": "code",
   "execution_count": null,
   "id": "a649a90d",
   "metadata": {},
   "outputs": [],
   "source": []
  },
  {
   "cell_type": "markdown",
   "id": "4529ecb7",
   "metadata": {},
   "source": [
    "## 3-3 명목적 타이핑과 구조적 타이핑 확인"
   ]
  },
  {
   "cell_type": "markdown",
   "id": "e68e9a94",
   "metadata": {},
   "source": [
    "### 명목적 타이핑 처리 "
   ]
  },
  {
   "cell_type": "code",
   "execution_count": 36,
   "id": "9a1c524c",
   "metadata": {},
   "outputs": [],
   "source": [
    "from collections.abc import Sized, Iterable, Iterator\n",
    "\n",
    "class Bucket(Sized, Iterable[int]):\n",
    "    ...\n",
    "    def __len__(self) -> int: \n",
    "        ...\n",
    "    def __iter__(self) -> Iterator[int]: \n",
    "        ..."
   ]
  },
  {
   "cell_type": "code",
   "execution_count": null,
   "id": "8f449422",
   "metadata": {},
   "outputs": [],
   "source": []
  },
  {
   "cell_type": "markdown",
   "id": "6b983fcc",
   "metadata": {},
   "source": [
    "## 구조적 타이핑 처리 \n",
    "\n",
    "- 상속없이 속성으로 처리 "
   ]
  },
  {
   "cell_type": "code",
   "execution_count": 37,
   "id": "5720101e",
   "metadata": {},
   "outputs": [],
   "source": [
    "from collections.abc import Iterator, Iterable\n",
    "\n",
    "class Bucket1:  # 참고: 베이스 클래스가 없습니다\n",
    "    ...\n",
    "    def __len__(self) -> int: \n",
    "        ...\n",
    "    def __iter__(self) -> Iterator[int]:\n",
    "        ...\n"
   ]
  },
  {
   "cell_type": "code",
   "execution_count": 38,
   "id": "1e9300f2",
   "metadata": {},
   "outputs": [],
   "source": [
    "def collect(items: Iterable[int]) -> int: \n",
    "    ..."
   ]
  },
  {
   "cell_type": "code",
   "execution_count": null,
   "id": "c88758a4",
   "metadata": {},
   "outputs": [],
   "source": []
  },
  {
   "cell_type": "code",
   "execution_count": null,
   "id": "bd2c759a",
   "metadata": {},
   "outputs": [],
   "source": [
    "result = collect(Bucket1())  # 형 검사를 통과합니다"
   ]
  },
  {
   "cell_type": "markdown",
   "id": "edeef415",
   "metadata": {},
   "source": [
    "## 모듈 전체 타입 어노테이션 확인 "
   ]
  },
  {
   "cell_type": "code",
   "execution_count": 33,
   "id": "f310f76f",
   "metadata": {},
   "outputs": [
    {
     "data": {
      "text/plain": [
       "{'name': str,\n",
       " 'age': int,\n",
       " 'emails': list,\n",
       " 'address': dict,\n",
       " 'nums': typing.List[int],\n",
       " 'countries': typing.Dict[str, str],\n",
       " 'user': typing.Tuple[int, str, bool],\n",
       " 'chars': typing.Set[str],\n",
       " 'Vector': typing.TypeAlias,\n",
       " 'TIME_OUT': typing.Final[int],\n",
       " 'greet': typing.Callable[[str], str]}"
      ]
     },
     "execution_count": 33,
     "metadata": {},
     "output_type": "execute_result"
    }
   ],
   "source": [
    "__annotations__"
   ]
  },
  {
   "cell_type": "code",
   "execution_count": null,
   "id": "f268e6bc",
   "metadata": {},
   "outputs": [],
   "source": []
  }
 ],
 "metadata": {
  "kernelspec": {
   "display_name": "Python 3 (ipykernel)",
   "language": "python",
   "name": "python3"
  },
  "language_info": {
   "codemirror_mode": {
    "name": "ipython",
    "version": 3
   },
   "file_extension": ".py",
   "mimetype": "text/x-python",
   "name": "python",
   "nbconvert_exporter": "python",
   "pygments_lexer": "ipython3",
   "version": "3.11.3"
  }
 },
 "nbformat": 4,
 "nbformat_minor": 5
}
