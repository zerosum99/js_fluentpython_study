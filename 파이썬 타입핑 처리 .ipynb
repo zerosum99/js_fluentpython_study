{
 "cells": [
  {
   "cell_type": "markdown",
   "id": "e92d6c24",
   "metadata": {},
   "source": [
    "## 파이썬 버전 확인하기 "
   ]
  },
  {
   "cell_type": "code",
   "execution_count": 1,
   "id": "52ee953a",
   "metadata": {},
   "outputs": [
    {
     "data": {
      "text/plain": [
       "'3.11.3'"
      ]
     },
     "execution_count": 1,
     "metadata": {},
     "output_type": "execute_result"
    }
   ],
   "source": [
    "import platform \n",
    "\n",
    "platform.python_version()"
   ]
  },
  {
   "cell_type": "markdown",
   "id": "b664af8f",
   "metadata": {},
   "source": [
    "## 타입 힌트(type hint)\n",
    "\n",
    "- 언어 차원에서 지원하기 위해서 파이썬 버전 3.5에서 typing 모듈이 스탠더드 라이브러리에 추가\n",
    "- 최신 버전에서 타입 힌트를 처리해야함 .  \n",
    "- 타입힌트는 실제 타입 어노테이션을 처리하는 것  "
   ]
  },
  {
   "cell_type": "code",
   "execution_count": null,
   "id": "9fa6e1e1",
   "metadata": {},
   "outputs": [],
   "source": []
  },
  {
   "cell_type": "markdown",
   "id": "c7d93556",
   "metadata": {},
   "source": [
    "## 타입 어노테이션 작성 방법 \n",
    "\n",
    "- 변수 이름 뒤에 콜론(:)을 붙이고 타입을 명시"
   ]
  },
  {
   "cell_type": "markdown",
   "id": "e8ee1ad7",
   "metadata": {},
   "source": [
    "## 1. 기존 자료형으로 타입어노테이션 처리하기 "
   ]
  },
  {
   "cell_type": "code",
   "execution_count": null,
   "id": "7136bce6",
   "metadata": {},
   "outputs": [],
   "source": []
  },
  {
   "cell_type": "markdown",
   "id": "6941894b",
   "metadata": {},
   "source": [
    "## 1-1 변수에 타입 붙이기 "
   ]
  },
  {
   "cell_type": "markdown",
   "id": "da37d2a7",
   "metadata": {},
   "source": [
    "### 정수와 문자열 "
   ]
  },
  {
   "cell_type": "code",
   "execution_count": 18,
   "id": "74bb1f2a",
   "metadata": {},
   "outputs": [],
   "source": [
    "name: str = \"John Doe\"\n",
    "\n",
    "age: int = 25\n"
   ]
  },
  {
   "cell_type": "markdown",
   "id": "42131bbd",
   "metadata": {},
   "source": [
    "### 리스트와 딕셔너리 "
   ]
  },
  {
   "cell_type": "code",
   "execution_count": 16,
   "id": "4294bffc",
   "metadata": {},
   "outputs": [],
   "source": [
    "emails: list =  [\"john1@doe.com\", \"john2@doe.com\"]"
   ]
  },
  {
   "cell_type": "code",
   "execution_count": null,
   "id": "8a5eebd1",
   "metadata": {},
   "outputs": [],
   "source": []
  },
  {
   "cell_type": "code",
   "execution_count": null,
   "id": "fa4e2852",
   "metadata": {},
   "outputs": [],
   "source": [
    "address: dict = {\n",
    "  \"street\": \"54560 Daugherty Brooks Suite 581\",\n",
    "  \"city\": \"Stokesmouth\",\n",
    "  \"state\": \"NM\",\n",
    "  \"zip\": \"80556\"\n",
    "}"
   ]
  },
  {
   "cell_type": "markdown",
   "id": "07ab2065",
   "metadata": {},
   "source": [
    "## 1-2 매개변수와 반환값에 타입 붙이기"
   ]
  },
  {
   "cell_type": "code",
   "execution_count": 3,
   "id": "26e17804",
   "metadata": {},
   "outputs": [],
   "source": [
    "def greeting(name: str) -> str:\n",
    "    return 'Hello ' + name"
   ]
  },
  {
   "cell_type": "code",
   "execution_count": 4,
   "id": "bb5bf2d7",
   "metadata": {},
   "outputs": [
    {
     "data": {
      "text/plain": [
       "'Hello hana'"
      ]
     },
     "execution_count": 4,
     "metadata": {},
     "output_type": "execute_result"
    }
   ],
   "source": [
    "greeting(\"hana\")"
   ]
  },
  {
   "cell_type": "markdown",
   "id": "97154615",
   "metadata": {},
   "source": [
    "## 1-3 타입어노테이션 정보 확인 "
   ]
  },
  {
   "cell_type": "markdown",
   "id": "ed2d86ab",
   "metadata": {},
   "source": [
    "### 모듈"
   ]
  },
  {
   "cell_type": "code",
   "execution_count": 19,
   "id": "fcf94b1e",
   "metadata": {},
   "outputs": [
    {
     "data": {
      "text/plain": [
       "{'Vector': typing.TypeAlias,\n",
       " 'nums': typing.List[int],\n",
       " 'countries': typing.Dict[str, str],\n",
       " 'user': typing.Tuple[int, str, bool],\n",
       " 'chars': typing.Set[str],\n",
       " 'emails': list,\n",
       " 'name': str,\n",
       " 'age': int}"
      ]
     },
     "execution_count": 19,
     "metadata": {},
     "output_type": "execute_result"
    }
   ],
   "source": [
    "__annotations__"
   ]
  },
  {
   "cell_type": "markdown",
   "id": "6b4fb697",
   "metadata": {},
   "source": [
    "### 함수 "
   ]
  },
  {
   "cell_type": "code",
   "execution_count": null,
   "id": "e0203446",
   "metadata": {},
   "outputs": [],
   "source": [
    "greeting."
   ]
  },
  {
   "cell_type": "code",
   "execution_count": null,
   "id": "4ed8db9e",
   "metadata": {},
   "outputs": [],
   "source": []
  },
  {
   "cell_type": "markdown",
   "id": "7adf9a35",
   "metadata": {},
   "source": [
    "## 2. 타이핑 모듈을 사용해서 타입어노테이션 처리하기 "
   ]
  },
  {
   "cell_type": "code",
   "execution_count": 3,
   "id": "26b0ed23",
   "metadata": {},
   "outputs": [],
   "source": [
    "import typing "
   ]
  },
  {
   "cell_type": "code",
   "execution_count": 13,
   "id": "7708f952",
   "metadata": {},
   "outputs": [
    {
     "name": "stdout",
     "output_type": "stream",
     "text": [
      "ABCMeta, AbstractSet, Annotated, Any, AnyStr, AsyncContextManager, AsyncGenerator, AsyncIterable, AsyncIterator, Awaitable, BinaryIO, ByteString, CT_co, Callable, ChainMap, ClassVar, Collection, Concatenate, Container, ContextManager, Coroutine, Counter, DefaultDict, Deque, Dict, EXCLUDED_ATTRIBUTES, Final, ForwardRef, FrozenSet, Generator, Generic, GenericAlias, Hashable, IO, ItemsView, Iterable, Iterator, KT, KeysView, List, Literal, LiteralString, Mapping, MappingView, Match, MethodDescriptorType, MethodWrapperType, MutableMapping, MutableSequence, MutableSet, NamedTuple, NamedTupleMeta, Never, NewType, NoReturn, NotRequired, Optional, OrderedDict, ParamSpec, ParamSpecArgs, ParamSpecKwargs, Pattern, Protocol, Required, Reversible, Self, Sequence, Set, Sized, SupportsAbs, SupportsBytes, SupportsComplex, SupportsFloat, SupportsIndex, SupportsInt, SupportsRound, T, TYPE_CHECKING, T_co, T_contra, Text, TextIO, Tuple, Type, TypeAlias, TypeGuard, TypeVar, TypeVarTuple, TypedDict, Union, Unpack, VT, VT_co, V_co, ValuesView, WrapperDescriptorType, abstractmethod, assert_never, assert_type, cast, clear_overloads, collections, contextlib, dataclass_transform, defaultdict, final, functools, get_args, get_origin, get_overloads, get_type_hints, io, is_typeddict, no_type_check, no_type_check_decorator, operator, overload, re, reveal_type, runtime_checkable, stdlib_re, sys, types, warnings, "
     ]
    }
   ],
   "source": [
    "for i in dir(typing) :\n",
    "    print(i, end=\", \") if not (i.startswith(\"_\")) else _ "
   ]
  },
  {
   "cell_type": "markdown",
   "id": "bef42ed4",
   "metadata": {},
   "source": [
    "## 2-1 기존자료형을 타이핑으로 처리 "
   ]
  },
  {
   "cell_type": "code",
   "execution_count": 5,
   "id": "4ccebe9b",
   "metadata": {},
   "outputs": [],
   "source": [
    "from typing import List,Tuple, Dict, Set"
   ]
  },
  {
   "cell_type": "markdown",
   "id": "840860fb",
   "metadata": {},
   "source": [
    "### 리스트"
   ]
  },
  {
   "cell_type": "code",
   "execution_count": 6,
   "id": "ec6c57a4",
   "metadata": {},
   "outputs": [],
   "source": [
    "nums: List[int] = [1, 2, 3]"
   ]
  },
  {
   "cell_type": "markdown",
   "id": "235dea40",
   "metadata": {},
   "source": [
    "### 딕셔너리"
   ]
  },
  {
   "cell_type": "code",
   "execution_count": 7,
   "id": "96ee9fe4",
   "metadata": {},
   "outputs": [],
   "source": [
    "countries: Dict[str, str] = {\"KR\": \"South Korea\", \"US\": \"United States\", \"CN\": \"China\"}"
   ]
  },
  {
   "cell_type": "markdown",
   "id": "8315353e",
   "metadata": {},
   "source": [
    "### 튜플 "
   ]
  },
  {
   "cell_type": "code",
   "execution_count": 8,
   "id": "eda4ed31",
   "metadata": {},
   "outputs": [],
   "source": [
    "user: Tuple[int, str, bool] = (3, \"Dale\", True)"
   ]
  },
  {
   "cell_type": "markdown",
   "id": "7e62d001",
   "metadata": {},
   "source": [
    "### 집합 "
   ]
  },
  {
   "cell_type": "code",
   "execution_count": 9,
   "id": "2c81470a",
   "metadata": {},
   "outputs": [],
   "source": [
    "chars: Set[str] = {\"A\", \"B\", \"C\"}"
   ]
  },
  {
   "cell_type": "code",
   "execution_count": null,
   "id": "6b6236f1",
   "metadata": {},
   "outputs": [],
   "source": []
  },
  {
   "cell_type": "markdown",
   "id": "f35534d0",
   "metadata": {},
   "source": [
    "## 3. 추가적인 타입을 정의하기 "
   ]
  },
  {
   "cell_type": "markdown",
   "id": "9eb2987a",
   "metadata": {},
   "source": [
    "## 타입 별칭을 만들기 "
   ]
  },
  {
   "cell_type": "code",
   "execution_count": 2,
   "id": "19b34694",
   "metadata": {},
   "outputs": [],
   "source": [
    "from typing import TypeAlias\n",
    "\n",
    "Vector: TypeAlias = list[float]"
   ]
  },
  {
   "cell_type": "code",
   "execution_count": null,
   "id": "a713474f",
   "metadata": {},
   "outputs": [],
   "source": []
  },
  {
   "cell_type": "code",
   "execution_count": null,
   "id": "2bd0c8f8",
   "metadata": {},
   "outputs": [],
   "source": []
  },
  {
   "cell_type": "markdown",
   "id": "0d8a0190",
   "metadata": {},
   "source": [
    "## 새로운 타입을 만들기 "
   ]
  },
  {
   "cell_type": "code",
   "execution_count": null,
   "id": "bb2fb648",
   "metadata": {},
   "outputs": [],
   "source": [
    "from typing import NewType\n",
    "\n",
    "UserId = NewType('UserId', int)\n",
    "some_id = UserId(524313)"
   ]
  },
  {
   "cell_type": "code",
   "execution_count": null,
   "id": "4ea3744a",
   "metadata": {},
   "outputs": [],
   "source": []
  }
 ],
 "metadata": {
  "kernelspec": {
   "display_name": "Python 3 (ipykernel)",
   "language": "python",
   "name": "python3"
  },
  "language_info": {
   "codemirror_mode": {
    "name": "ipython",
    "version": 3
   },
   "file_extension": ".py",
   "mimetype": "text/x-python",
   "name": "python",
   "nbconvert_exporter": "python",
   "pygments_lexer": "ipython3",
   "version": "3.11.3"
  }
 },
 "nbformat": 4,
 "nbformat_minor": 5
}
