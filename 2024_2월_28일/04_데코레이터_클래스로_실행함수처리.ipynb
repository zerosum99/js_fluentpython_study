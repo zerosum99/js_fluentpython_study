{
 "cells": [
  {
   "cell_type": "code",
   "execution_count": 1,
   "id": "f7bcb494",
   "metadata": {},
   "outputs": [
    {
     "data": {
      "text/plain": [
       "'3.11.3'"
      ]
     },
     "execution_count": 1,
     "metadata": {},
     "output_type": "execute_result"
    }
   ],
   "source": [
    "import platform\n",
    "\n",
    "platform.python_version()"
   ]
  },
  {
   "cell_type": "code",
   "execution_count": null,
   "id": "d89e16ba",
   "metadata": {},
   "outputs": [],
   "source": []
  },
  {
   "cell_type": "markdown",
   "id": "7e2fad00",
   "metadata": {},
   "source": [
    "## 데코레이터 클래스와 실행함수 처리 "
   ]
  },
  {
   "cell_type": "code",
   "execution_count": 5,
   "id": "f79a607e",
   "metadata": {},
   "outputs": [
    {
     "name": "stdout",
     "output_type": "stream",
     "text": [
      "Something is happening before the function is called.\n",
      "Hello, Alice!\n",
      "Something is happening after the function is called.\n"
     ]
    }
   ],
   "source": [
    "class MyDecorator:\n",
    "    def __init__(self, func):\n",
    "        self.func = func\n",
    "\n",
    "    def __call__(self, *args, **kwargs):\n",
    "        print(\"Something is happening before the function is called.\")\n",
    "        result = self.func(*args, **kwargs)  # 실행 함수 호출\n",
    "        print(\"Something is happening after the function is called.\")\n",
    "        return result\n",
    "\n",
    "# 생성자 함수가 실행 \n",
    "@MyDecorator\n",
    "def say_hello(name):\n",
    "    print(f\"Hello, {name}!\")\n",
    "\n",
    "# 실행하면 객체의 `__call__` 이 실행\n",
    "say_hello(\"Alice\")\n"
   ]
  },
  {
   "cell_type": "code",
   "execution_count": null,
   "id": "da0c7aef",
   "metadata": {},
   "outputs": [],
   "source": []
  },
  {
   "cell_type": "code",
   "execution_count": 4,
   "id": "27004630",
   "metadata": {},
   "outputs": [],
   "source": [
    "say_hello.__call__.__closure__"
   ]
  },
  {
   "cell_type": "code",
   "execution_count": null,
   "id": "01ce0da4",
   "metadata": {},
   "outputs": [],
   "source": []
  }
 ],
 "metadata": {
  "kernelspec": {
   "display_name": "Python 3 (ipykernel)",
   "language": "python",
   "name": "python3"
  },
  "language_info": {
   "codemirror_mode": {
    "name": "ipython",
    "version": 3
   },
   "file_extension": ".py",
   "mimetype": "text/x-python",
   "name": "python",
   "nbconvert_exporter": "python",
   "pygments_lexer": "ipython3",
   "version": "3.11.3"
  }
 },
 "nbformat": 4,
 "nbformat_minor": 5
}
