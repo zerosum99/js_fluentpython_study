{
 "cells": [
  {
   "cell_type": "code",
   "execution_count": 1,
   "id": "63ee5cdb",
   "metadata": {},
   "outputs": [
    {
     "data": {
      "text/plain": [
       "'3.11.3'"
      ]
     },
     "execution_count": 1,
     "metadata": {},
     "output_type": "execute_result"
    }
   ],
   "source": [
    "import platform\n",
    "\n",
    "platform.python_version()"
   ]
  },
  {
   "cell_type": "code",
   "execution_count": null,
   "id": "414bec8c",
   "metadata": {},
   "outputs": [],
   "source": []
  },
  {
   "cell_type": "markdown",
   "id": "17e6281e",
   "metadata": {},
   "source": [
    "## 데코레이터 함수와 데코레이터 클래스 처리"
   ]
  },
  {
   "cell_type": "code",
   "execution_count": 3,
   "id": "d9de3372",
   "metadata": {},
   "outputs": [
    {
     "name": "stdout",
     "output_type": "stream",
     "text": [
      "Hello, Alice!\n"
     ]
    }
   ],
   "source": [
    "def my_decorator(cls):\n",
    "    def wrapper(*args, **kwargs):\n",
    "        # 데코레이터로 감싼 클래스의 인스턴스를 생성하고 반환\n",
    "        instance = cls(*args, **kwargs)\n",
    "        return instance\n",
    "    return wrapper\n",
    "\n",
    "# MyClass 클래스를 MyDecorator로 데코레이트\n",
    "@my_decorator\n",
    "class MyClass:\n",
    "    def __init__(self, name):\n",
    "        self.name = name\n",
    "\n",
    "    def say_hello(self):\n",
    "        print(f\"Hello, {self.name}!\")\n",
    "\n",
    "# MyClass의 인스턴스 생성 및 메서드 호출\n",
    "my_instance = MyClass(\"Alice\")\n",
    "my_instance.say_hello()\n"
   ]
  },
  {
   "cell_type": "code",
   "execution_count": null,
   "id": "2b123e42",
   "metadata": {},
   "outputs": [],
   "source": []
  },
  {
   "cell_type": "markdown",
   "id": "e4d5dd61",
   "metadata": {},
   "source": [
    "## 데코레이터도 클래스와 실행 클래스 처리"
   ]
  },
  {
   "cell_type": "code",
   "execution_count": 2,
   "id": "29b8f613",
   "metadata": {},
   "outputs": [
    {
     "name": "stdout",
     "output_type": "stream",
     "text": [
      "Hello, Alice!\n"
     ]
    }
   ],
   "source": [
    "class MyDecorator:\n",
    "    def __init__(self, cls):\n",
    "        self.cls = cls\n",
    "\n",
    "    def __call__(self, *args, **kwargs):\n",
    "        # 데코레이터로 감싼 클래스의 인스턴스를 생성하고 반환\n",
    "        instance = self.cls(*args, **kwargs)\n",
    "        return instance\n",
    "\n",
    "# MyClass 클래스를 MyDecorator로 데코레이트\n",
    "@MyDecorator\n",
    "class MyClass:\n",
    "    def __init__(self, name):\n",
    "        self.name = name\n",
    "\n",
    "    def say_hello(self):\n",
    "        print(f\"Hello, {self.name}!\")\n",
    "\n",
    "# MyClass의 인스턴스 생성 및 메서드 호출\n",
    "my_instance = MyClass(\"Alice\")\n",
    "my_instance.say_hello()\n"
   ]
  },
  {
   "cell_type": "code",
   "execution_count": null,
   "id": "86a5c63b",
   "metadata": {},
   "outputs": [],
   "source": []
  },
  {
   "cell_type": "code",
   "execution_count": null,
   "id": "5da6a0f8",
   "metadata": {},
   "outputs": [],
   "source": []
  },
  {
   "cell_type": "code",
   "execution_count": null,
   "id": "48fd4390",
   "metadata": {},
   "outputs": [],
   "source": []
  },
  {
   "cell_type": "code",
   "execution_count": null,
   "id": "d4defc6c",
   "metadata": {},
   "outputs": [],
   "source": []
  }
 ],
 "metadata": {
  "kernelspec": {
   "display_name": "Python 3 (ipykernel)",
   "language": "python",
   "name": "python3"
  },
  "language_info": {
   "codemirror_mode": {
    "name": "ipython",
    "version": 3
   },
   "file_extension": ".py",
   "mimetype": "text/x-python",
   "name": "python",
   "nbconvert_exporter": "python",
   "pygments_lexer": "ipython3",
   "version": "3.11.3"
  }
 },
 "nbformat": 4,
 "nbformat_minor": 5
}
