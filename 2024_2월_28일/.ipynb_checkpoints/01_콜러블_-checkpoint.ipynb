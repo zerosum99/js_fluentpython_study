{
 "cells": [
  {
   "cell_type": "code",
   "execution_count": 1,
   "id": "c5cf8175",
   "metadata": {},
   "outputs": [
    {
     "data": {
      "text/plain": [
       "'3.11.3'"
      ]
     },
     "execution_count": 1,
     "metadata": {},
     "output_type": "execute_result"
    }
   ],
   "source": [
    "import platform\n",
    "\n",
    "platform.python_version()"
   ]
  },
  {
   "cell_type": "markdown",
   "id": "a6e67dcd",
   "metadata": {},
   "source": [
    "## callable 함수로 callable 체크"
   ]
  },
  {
   "cell_type": "code",
   "execution_count": 5,
   "id": "dd19a6f3",
   "metadata": {},
   "outputs": [],
   "source": [
    "def my_function():\n",
    "    print(\"This is a function.\")\n",
    "\n",
    "class MyClass:\n",
    "    def __init__(self):\n",
    "        pass\n",
    "\n",
    "    def my_method(self):\n",
    "        print(\"This is a method.\")\n",
    "\n",
    "my_instance = MyClass()\n"
   ]
  },
  {
   "cell_type": "code",
   "execution_count": 6,
   "id": "e6540cb9",
   "metadata": {},
   "outputs": [
    {
     "name": "stdout",
     "output_type": "stream",
     "text": [
      "True\n",
      "True\n",
      "False\n",
      "False\n",
      "False\n"
     ]
    }
   ],
   "source": [
    "print(callable(my_function))   # True, 함수는 호출 가능한 객체입니다.\n",
    "print(callable(MyClass))       # True, 클래스는 호출 가능한 객체입니다.\n",
    "print(callable(my_instance))   # False, 인스턴스는 호출할 수 없습니다.\n",
    "print(callable(10))            # False, 숫자는 호출할 수 없습니다.\n",
    "print(callable(\"hello\"))       # False, 문자열도 호출할 수 없습니다."
   ]
  },
  {
   "cell_type": "code",
   "execution_count": null,
   "id": "d87164d3",
   "metadata": {},
   "outputs": [],
   "source": []
  },
  {
   "cell_type": "markdown",
   "id": "672c8fe7",
   "metadata": {},
   "source": [
    "## Callable\n",
    "\n",
    "- `__call__`이 구현된 객체 "
   ]
  },
  {
   "cell_type": "code",
   "execution_count": 2,
   "id": "46e01010",
   "metadata": {},
   "outputs": [],
   "source": [
    "import collections.abc as abc"
   ]
  },
  {
   "cell_type": "code",
   "execution_count": 3,
   "id": "d52e889e",
   "metadata": {},
   "outputs": [
    {
     "data": {
      "text/plain": [
       "frozenset({'__call__'})"
      ]
     },
     "execution_count": 3,
     "metadata": {},
     "output_type": "execute_result"
    }
   ],
   "source": [
    "abc.Callable.__abstractmethods__"
   ]
  },
  {
   "cell_type": "code",
   "execution_count": null,
   "id": "8005358c",
   "metadata": {},
   "outputs": [],
   "source": []
  },
  {
   "cell_type": "markdown",
   "id": "9273014b",
   "metadata": {},
   "source": [
    "## 객체 인스턴스도 호출가능하도록 만들기 "
   ]
  },
  {
   "cell_type": "code",
   "execution_count": 7,
   "id": "90d5e909",
   "metadata": {},
   "outputs": [
    {
     "name": "stdout",
     "output_type": "stream",
     "text": [
      "8\n"
     ]
    }
   ],
   "source": [
    "class MyCallable:\n",
    "    def __call__(self, x, y):\n",
    "        return x + y\n",
    "\n",
    "# 클래스의 인스턴스를 생성합니다.\n",
    "my_callable = MyCallable()\n",
    "\n",
    "# 클래스 인스턴스를 함수처럼 호출합니다.\n",
    "result = my_callable(3, 5)\n",
    "\n",
    "print(result)  # 출력: 8\n"
   ]
  },
  {
   "cell_type": "code",
   "execution_count": null,
   "id": "5e77c714",
   "metadata": {},
   "outputs": [],
   "source": []
  }
 ],
 "metadata": {
  "kernelspec": {
   "display_name": "Python 3 (ipykernel)",
   "language": "python",
   "name": "python3"
  },
  "language_info": {
   "codemirror_mode": {
    "name": "ipython",
    "version": 3
   },
   "file_extension": ".py",
   "mimetype": "text/x-python",
   "name": "python",
   "nbconvert_exporter": "python",
   "pygments_lexer": "ipython3",
   "version": "3.11.3"
  }
 },
 "nbformat": 4,
 "nbformat_minor": 5
}
