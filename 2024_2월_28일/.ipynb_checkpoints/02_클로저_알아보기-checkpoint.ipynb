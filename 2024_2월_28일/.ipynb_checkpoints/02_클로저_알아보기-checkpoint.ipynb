{
 "cells": [
  {
   "cell_type": "code",
   "execution_count": 1,
   "id": "b1cd6a31",
   "metadata": {},
   "outputs": [
    {
     "data": {
      "text/plain": [
       "'3.11.3'"
      ]
     },
     "execution_count": 1,
     "metadata": {},
     "output_type": "execute_result"
    }
   ],
   "source": [
    "import platform\n",
    "\n",
    "platform.python_version()"
   ]
  },
  {
   "cell_type": "markdown",
   "id": "3f497876",
   "metadata": {},
   "source": [
    "## 파이썬에서 클로저(Closure)\n",
    "\n",
    "- 다른 함수 내부에 중첩된 함수로서, 중첩된 함수가 자신이 정의된 범위(scope) 외부에 있는 변수를 참조할 때 발생합니다. 클로저는 이러한 외부 변수를 기억하고 이를 나중에 사용할 수 있도록 합니다.\n",
    "\n",
    "### 클로저를 생성하는 주요 시나리오는 다음과 같습니다:\n",
    "\n",
    "- 함수 내부에서 중첩된 함수를 정의합니다.\n",
    "- 중첩된 함수 내에서 외부 함수의 변수를 참조하거나 수정합니다.\n",
    "- 외부 함수가 중첩된 함수를 반환하거나 다른 함수로 전달합니다.\n"
   ]
  },
  {
   "cell_type": "code",
   "execution_count": 3,
   "id": "02934929",
   "metadata": {},
   "outputs": [],
   "source": [
    "def outer_function(x):\n",
    "    # 중첩된 함수 내부에 클로저가 형성됩니다.\n",
    "    def inner_function(y):\n",
    "        return x + y  # 외부 함수의 변수 x를 참조합니다.\n",
    "    return inner_function  # 중첩된 함수를 반환합니다.\n",
    "\n",
    "# outer_function을 호출하여 클로저를 생성합니다.\n",
    "closure = outer_function(5)\n"
   ]
  },
  {
   "cell_type": "code",
   "execution_count": 4,
   "id": "f9d00c2f",
   "metadata": {},
   "outputs": [
    {
     "name": "stdout",
     "output_type": "stream",
     "text": [
      "8\n"
     ]
    }
   ],
   "source": [
    "# 클로저를 사용하여 값을 계산합니다.\n",
    "result = closure(3)\n",
    "print(result)  # 출력: 8"
   ]
  },
  {
   "cell_type": "code",
   "execution_count": null,
   "id": "2150f647",
   "metadata": {},
   "outputs": [],
   "source": []
  },
  {
   "cell_type": "markdown",
   "id": "22fd2309",
   "metadata": {},
   "source": [
    "## 자유변수 확인하기 \n",
    "\n",
    "- 클로저를 사용하면 자유 변수(free variable)를 확인할 수 있습니다. \n",
    "- 자유 변수는 중첩된 함수에서 외부 함수의 변수를 참조하는 변수를 말합니다.\n",
    "- 이를 통해 중첩 함수가 외부 함수의 변수를 기억하고 사용할 수 있게 됩니다.\n",
    "\n",
    "### 자유변수를 관리하는 스페셜 속성\n",
    "- 클로저를 포함한 함수의 자유 변수를 확인하기 위해 __closure__ 속성을 사용할 수 있습니다. \n",
    "- 이 속성은 함수가 클로저인 경우에만 사용할 수 있습니다."
   ]
  },
  {
   "cell_type": "code",
   "execution_count": 6,
   "id": "2bb08fd5",
   "metadata": {},
   "outputs": [],
   "source": [
    "def outer_function():\n",
    "    x = 10  # 외부 함수의 변수\n",
    "    \n",
    "    def inner_function():\n",
    "        print(x)  # 외부 함수의 변수를 참조하는 클로저\n",
    "        \n",
    "    return inner_function\n",
    "\n",
    "# 클로저 반환\n",
    "closure = outer_function()\n",
    "\n"
   ]
  },
  {
   "cell_type": "code",
   "execution_count": 7,
   "id": "397bc55f",
   "metadata": {},
   "outputs": [
    {
     "name": "stdout",
     "output_type": "stream",
     "text": [
      "(<cell at 0x105e3a8c0: int object at 0x1012e64b8>,)\n"
     ]
    }
   ],
   "source": [
    "# 클로저의 자유 변수 확인\n",
    "print(closure.__closure__)"
   ]
  },
  {
   "cell_type": "code",
   "execution_count": 8,
   "id": "8c0bb16b",
   "metadata": {},
   "outputs": [
    {
     "data": {
      "text/plain": [
       "10"
      ]
     },
     "execution_count": 8,
     "metadata": {},
     "output_type": "execute_result"
    }
   ],
   "source": [
    "closure.__closure__[0].cell_contents"
   ]
  },
  {
   "cell_type": "code",
   "execution_count": null,
   "id": "088662f8",
   "metadata": {},
   "outputs": [],
   "source": []
  },
  {
   "cell_type": "code",
   "execution_count": null,
   "id": "e84fc507",
   "metadata": {},
   "outputs": [],
   "source": []
  },
  {
   "cell_type": "code",
   "execution_count": null,
   "id": "eca21e1b",
   "metadata": {},
   "outputs": [],
   "source": []
  }
 ],
 "metadata": {
  "kernelspec": {
   "display_name": "Python 3 (ipykernel)",
   "language": "python",
   "name": "python3"
  },
  "language_info": {
   "codemirror_mode": {
    "name": "ipython",
    "version": 3
   },
   "file_extension": ".py",
   "mimetype": "text/x-python",
   "name": "python",
   "nbconvert_exporter": "python",
   "pygments_lexer": "ipython3",
   "version": "3.11.3"
  }
 },
 "nbformat": 4,
 "nbformat_minor": 5
}
