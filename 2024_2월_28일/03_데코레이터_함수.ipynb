{
 "cells": [
  {
   "cell_type": "code",
   "execution_count": 1,
   "id": "b4068b19",
   "metadata": {},
   "outputs": [
    {
     "data": {
      "text/plain": [
       "'3.11.3'"
      ]
     },
     "execution_count": 1,
     "metadata": {},
     "output_type": "execute_result"
    }
   ],
   "source": [
    "import platform\n",
    "\n",
    "platform.python_version()"
   ]
  },
  {
   "cell_type": "code",
   "execution_count": null,
   "id": "077d4fff",
   "metadata": {},
   "outputs": [],
   "source": []
  },
  {
   "cell_type": "markdown",
   "id": "3ad4c99a",
   "metadata": {},
   "source": [
    "# 데코레이터 "
   ]
  },
  {
   "cell_type": "markdown",
   "id": "92274788",
   "metadata": {},
   "source": [
    "### 데코레이터 함수 (Decorator Function): \n",
    "\n",
    "- 데코레이터 함수는 다른 함수를 꾸며주는 역할을 합니다. \n",
    "- 일반적으로 데코레이터는 함수를 인자로 받아서 그 함수를 수정하거나 그 함수 주변에 추가적인 동작을 추가합니다. \n",
    "- 데코레이터 함수는 @ 기호를 사용하여 함수 위에 위치시킵니다.\n",
    "\n",
    "### 실행 함수 (Decorated Function): \n",
    "- 실행 함수는 데코레이터가 적용되어 있는 함수를 가리킵니다. \n",
    "- 이 함수는 데코레이터 함수에 의해 꾸며져서 추가적인 기능이나 동작을 수행합니다."
   ]
  },
  {
   "cell_type": "code",
   "execution_count": 2,
   "id": "6249d48b",
   "metadata": {},
   "outputs": [
    {
     "name": "stdout",
     "output_type": "stream",
     "text": [
      "Something is happening before the function is called.\n",
      "Hello!\n",
      "Something is happening after the function is called.\n"
     ]
    }
   ],
   "source": [
    "# 데코레이터 함수 정의\n",
    "def my_decorator(func):\n",
    "    def wrapper():\n",
    "        print(\"Something is happening before the function is called.\")\n",
    "        func()  # 실행 함수 호출\n",
    "        print(\"Something is happening after the function is called.\")\n",
    "    return wrapper\n",
    "\n",
    "# 실행 함수 정의\n",
    "@my_decorator\n",
    "def say_hello():\n",
    "    print(\"Hello!\")\n",
    "\n",
    "# 실행\n",
    "say_hello()\n"
   ]
  },
  {
   "cell_type": "code",
   "execution_count": null,
   "id": "c33cd829",
   "metadata": {},
   "outputs": [],
   "source": []
  }
 ],
 "metadata": {
  "kernelspec": {
   "display_name": "Python 3 (ipykernel)",
   "language": "python",
   "name": "python3"
  },
  "language_info": {
   "codemirror_mode": {
    "name": "ipython",
    "version": 3
   },
   "file_extension": ".py",
   "mimetype": "text/x-python",
   "name": "python",
   "nbconvert_exporter": "python",
   "pygments_lexer": "ipython3",
   "version": "3.11.3"
  }
 },
 "nbformat": 4,
 "nbformat_minor": 5
}
