{
 "cells": [
  {
   "cell_type": "code",
   "execution_count": 1,
   "id": "1afbd74b",
   "metadata": {},
   "outputs": [
    {
     "data": {
      "text/plain": [
       "'3.11.3'"
      ]
     },
     "execution_count": 1,
     "metadata": {},
     "output_type": "execute_result"
    }
   ],
   "source": [
    "import platform\n",
    "\n",
    "platform.python_version()"
   ]
  },
  {
   "cell_type": "code",
   "execution_count": null,
   "id": "118bac65",
   "metadata": {},
   "outputs": [],
   "source": []
  },
  {
   "cell_type": "markdown",
   "id": "0d1ccdfd",
   "metadata": {},
   "source": [
    "## 데코레이터 함수와 데코레이터 클래스 처리"
   ]
  },
  {
   "cell_type": "code",
   "execution_count": 3,
   "id": "240c1a20",
   "metadata": {},
   "outputs": [
    {
     "name": "stdout",
     "output_type": "stream",
     "text": [
      "Hello, Alice!\n"
     ]
    }
   ],
   "source": [
    "def my_decorator(cls):\n",
    "    def wrapper(*args, **kwargs):\n",
    "        # 데코레이터로 감싼 클래스의 인스턴스를 생성하고 반환\n",
    "        instance = cls(*args, **kwargs)\n",
    "        return instance\n",
    "    return wrapper\n",
    "\n",
    "# MyClass 클래스를 MyDecorator로 데코레이트\n",
    "@my_decorator\n",
    "class MyClass:\n",
    "    def __init__(self, name):\n",
    "        self.name = name\n",
    "\n",
    "    def say_hello(self):\n",
    "        print(f\"Hello, {self.name}!\")\n",
    "\n",
    "# MyClass의 인스턴스 생성 및 메서드 호출\n",
    "my_instance = MyClass(\"Alice\")\n",
    "my_instance.say_hello()\n"
   ]
  },
  {
   "cell_type": "code",
   "execution_count": null,
   "id": "1e17ffd3",
   "metadata": {},
   "outputs": [],
   "source": []
  },
  {
   "cell_type": "markdown",
   "id": "ecd7b945",
   "metadata": {},
   "source": [
    "## 데코레이터도 클래스와 실행 클래스 처리"
   ]
  },
  {
   "cell_type": "code",
   "execution_count": 2,
   "id": "3964fdd0",
   "metadata": {},
   "outputs": [
    {
     "name": "stdout",
     "output_type": "stream",
     "text": [
      "Hello, Alice!\n"
     ]
    }
   ],
   "source": [
    "class MyDecorator:\n",
    "    def __init__(self, cls):\n",
    "        self.cls = cls\n",
    "\n",
    "    def __call__(self, *args, **kwargs):\n",
    "        # 데코레이터로 감싼 클래스의 인스턴스를 생성하고 반환\n",
    "        instance = self.cls(*args, **kwargs)\n",
    "        return instance\n",
    "\n",
    "# MyClass 클래스를 MyDecorator로 데코레이트\n",
    "@MyDecorator\n",
    "class MyClass:\n",
    "    def __init__(self, name):\n",
    "        self.name = name\n",
    "\n",
    "    def say_hello(self):\n",
    "        print(f\"Hello, {self.name}!\")\n",
    "\n",
    "# MyClass의 인스턴스 생성 및 메서드 호출\n",
    "my_instance = MyClass(\"Alice\")\n",
    "my_instance.say_hello()\n"
   ]
  },
  {
   "cell_type": "code",
   "execution_count": null,
   "id": "0e2047fa",
   "metadata": {},
   "outputs": [],
   "source": []
  },
  {
   "cell_type": "markdown",
   "id": "4c932a35",
   "metadata": {},
   "source": [
    "## 데코레이터로 실행 클래스의 메서드 추가"
   ]
  },
  {
   "cell_type": "code",
   "execution_count": 4,
   "id": "29ec6121",
   "metadata": {},
   "outputs": [
    {
     "name": "stdout",
     "output_type": "stream",
     "text": [
      "added attribute\n",
      "added method\n"
     ]
    }
   ],
   "source": [
    "def add_attributes_and_method(cls):\n",
    "    # 속성 추가\n",
    "    cls.attr1 = \"added attribute\"\n",
    "    \n",
    "    # 메서드 추가\n",
    "    def new_method(self):\n",
    "        return \"added method\"\n",
    "    \n",
    "    cls.new_method = new_method\n",
    "    \n",
    "    return cls\n",
    "\n",
    "# 클래스에 데코레이터 적용\n",
    "@add_attributes_and_method\n",
    "class MyClass:\n",
    "    def __init__(self, name):\n",
    "        self.name = name\n",
    "\n",
    "# 클래스 인스턴스 생성\n",
    "my_instance = MyClass(\"Alice\")\n",
    "\n",
    "# 속성 및 메서드 확인\n",
    "print(my_instance.attr1)  # 출력: added attribute\n",
    "print(my_instance.new_method())  # 출력: added method\n"
   ]
  },
  {
   "cell_type": "code",
   "execution_count": null,
   "id": "f32b3016",
   "metadata": {},
   "outputs": [],
   "source": []
  }
 ],
 "metadata": {
  "kernelspec": {
   "display_name": "Python 3 (ipykernel)",
   "language": "python",
   "name": "python3"
  },
  "language_info": {
   "codemirror_mode": {
    "name": "ipython",
    "version": 3
   },
   "file_extension": ".py",
   "mimetype": "text/x-python",
   "name": "python",
   "nbconvert_exporter": "python",
   "pygments_lexer": "ipython3",
   "version": "3.11.3"
  }
 },
 "nbformat": 4,
 "nbformat_minor": 5
}
