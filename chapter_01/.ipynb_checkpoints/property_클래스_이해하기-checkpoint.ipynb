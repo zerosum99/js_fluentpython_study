{
 "cells": [
  {
   "cell_type": "code",
   "execution_count": null,
   "id": "ae8a7123-8037-4a6d-a68c-db03c15f9f3a",
   "metadata": {},
   "outputs": [],
   "source": []
  },
  {
   "cell_type": "code",
   "execution_count": null,
   "id": "e102bfec-a7b7-4d59-966b-94c299dfd97c",
   "metadata": {},
   "outputs": [],
   "source": []
  },
  {
   "cell_type": "code",
   "execution_count": 1,
   "id": "2ef7066a-4693-4ffe-9bb1-ee74cbd0cc15",
   "metadata": {},
   "outputs": [],
   "source": [
    "class MyProperty:\n",
    "  def __init__(self, getter=None, setter=None, deleter=None):\n",
    "    self.getter = getter\n",
    "    self.setter = setter\n",
    "    self.deleter = deleter\n",
    "\n",
    "  def __get__(self, instance, owner):\n",
    "    if self.getter is not None:\n",
    "      return self.getter(instance)\n",
    "    else:\n",
    "      raise AttributeError(f\"'{owner.__name__}' object has no attribute '{self.name}'\")\n",
    "\n",
    "  def __set__(self, instance, value):\n",
    "    if self.setter is not None:\n",
    "      return self.setter(instance, value)\n",
    "    else:\n",
    "      raise AttributeError(f\"'{owner.__name__}' object has no attribute '{self.name}'\")\n",
    "\n",
    "  def __delete__(self, instance):\n",
    "    if self.deleter is not None:\n",
    "      return self.deleter(instance)\n",
    "    else:\n",
    "      raise AttributeError(f\"'{owner.__name__}' object has no attribute '{self.name}'\")\n"
   ]
  },
  {
   "cell_type": "code",
   "execution_count": null,
   "id": "8332cf61-adda-488f-b5ee-2d1594333914",
   "metadata": {},
   "outputs": [],
   "source": []
  },
  {
   "cell_type": "code",
   "execution_count": 2,
   "id": "0c1d7cd0-d953-4f84-bfde-56cb50d75566",
   "metadata": {},
   "outputs": [
    {
     "name": "stdout",
     "output_type": "stream",
     "text": [
      "10\n",
      "10\n",
      "10\n"
     ]
    }
   ],
   "source": [
    "class MyClass:\n",
    "  x = MyProperty(\n",
    "    getter=lambda instance: 10,\n",
    "    setter=lambda instance, value: None,\n",
    "    deleter=lambda instance: None\n",
    "  )\n",
    "\n",
    "my_instance = MyClass()\n",
    "\n",
    "print(my_instance.x)  # 10\n",
    "\n",
    "my_instance.x = 20\n",
    "\n",
    "print(my_instance.x)  # 10\n",
    "\n",
    "del my_instance.x\n",
    "\n",
    "print(my_instance.x)  # AttributeError: 'MyClass' object has no attribute 'x'\n"
   ]
  },
  {
   "cell_type": "code",
   "execution_count": null,
   "id": "02abd060-53ad-4dc6-9056-fa0fb88f1d61",
   "metadata": {},
   "outputs": [],
   "source": []
  },
  {
   "cell_type": "code",
   "execution_count": 6,
   "id": "561bed4a-183c-46d7-b60e-6a69f16308ee",
   "metadata": {},
   "outputs": [],
   "source": [
    "class property_(object):\n",
    "  \"\"\"A property object.\"\"\"\n",
    "\n",
    "  def __init__(self, fget=None, fset=None, fdel=None, doc=None):\n",
    "    \"\"\"\n",
    "    Create a property object.\n",
    "\n",
    "    Args:\n",
    "      fget: Getter function.\n",
    "      fset: Setter function.\n",
    "      fdel: Deleter function.\n",
    "      doc: Property documentation string.\n",
    "    \"\"\"\n",
    "    self.fget = fget\n",
    "    self.fset = fset\n",
    "    self.fdel = fdel\n",
    "    self.doc = doc\n",
    "\n",
    "  def __get__(self, obj, objtype=None):\n",
    "    \"\"\"Get the value of the property.\"\"\"\n",
    "    if self.fget is None:\n",
    "      raise AttributeError(\"No attribute 'fget'\")\n",
    "    return self.fget(obj)\n",
    "\n",
    "  def __set__(self, obj, value):\n",
    "    \"\"\"Set the value of the property.\"\"\"\n",
    "    if self.fset is None:\n",
    "      raise AttributeError(\"No attribute 'fset'\")\n",
    "    self.fset(obj, value)\n",
    "\n",
    "  def __delete__(self, obj):\n",
    "    \"\"\"Delete the property.\"\"\"\n",
    "    if self.fdel is None:\n",
    "      raise AttributeError(\"No attribute 'fdel'\")\n",
    "    self.fdel(obj)\n",
    "\n",
    "  def getter(self):\n",
    "    \"\"\"Return the getter function.\"\"\"\n",
    "    return self.fget\n",
    "\n",
    "  def setter(self,func):\n",
    "    \"\"\"Return the setter function.\"\"\"\n",
    "    self.fset = func\n",
    "\n",
    "  def deleter(self, func):\n",
    "    \"\"\"Return the deleter function.\"\"\"\n",
    "    self.fdel = func\n",
    "\n",
    "  def doc(self):\n",
    "    \"\"\"Return the property documentation string.\"\"\"\n",
    "    return self.doc\n"
   ]
  },
  {
   "cell_type": "code",
   "execution_count": null,
   "id": "50dd21d3-8ea8-42f7-b8a4-4fadfd7f2101",
   "metadata": {},
   "outputs": [],
   "source": []
  },
  {
   "cell_type": "code",
   "execution_count": 7,
   "id": "a89d5daf-7e52-403c-96e6-d89efa40c24a",
   "metadata": {},
   "outputs": [
    {
     "name": "stdout",
     "output_type": "stream",
     "text": [
      "John Doe\n"
     ]
    }
   ],
   "source": [
    "class MyClass:\n",
    "  @property_\n",
    "  def name(self):\n",
    "    \"\"\"This is a getter.\"\"\"\n",
    "    return self._name\n",
    "\n",
    "  @name.setter\n",
    "  def name(self, value):\n",
    "    \"\"\"This is a setter.\"\"\"\n",
    "    self._name = value\n",
    "\n",
    "my_instance = MyClass()\n",
    "\n",
    "my_instance.name = \"John Doe\"\n",
    "\n",
    "print(my_instance.name)  # John Doe\n"
   ]
  },
  {
   "cell_type": "code",
   "execution_count": null,
   "id": "c2318352-7de6-4a50-95b6-c7689df71b84",
   "metadata": {},
   "outputs": [],
   "source": []
  }
 ],
 "metadata": {
  "kernelspec": {
   "display_name": "Python 3 (ipykernel)",
   "language": "python",
   "name": "python3"
  },
  "language_info": {
   "codemirror_mode": {
    "name": "ipython",
    "version": 3
   },
   "file_extension": ".py",
   "mimetype": "text/x-python",
   "name": "python",
   "nbconvert_exporter": "python",
   "pygments_lexer": "ipython3",
   "version": "3.9.16"
  }
 },
 "nbformat": 4,
 "nbformat_minor": 5
}
