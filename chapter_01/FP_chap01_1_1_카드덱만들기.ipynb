{
 "cells": [
  {
   "cell_type": "code",
   "execution_count": null,
   "id": "dd3659a5",
   "metadata": {},
   "outputs": [],
   "source": []
  },
  {
   "cell_type": "code",
   "execution_count": null,
   "id": "b9289504",
   "metadata": {},
   "outputs": [],
   "source": []
  },
  {
   "cell_type": "markdown",
   "id": "3f02c314",
   "metadata": {},
   "source": [
    "# 1. 공통 클래스와 함수 정의하기 "
   ]
  },
  {
   "cell_type": "markdown",
   "id": "3f6383d9",
   "metadata": {},
   "source": [
    "### 숫자 표시"
   ]
  },
  {
   "cell_type": "code",
   "execution_count": 14,
   "id": "4119e22d",
   "metadata": {},
   "outputs": [],
   "source": [
    "ranks =[str(n) for n in range(2,11)] + list('JQKA')"
   ]
  },
  {
   "cell_type": "code",
   "execution_count": 65,
   "id": "11af56e4",
   "metadata": {},
   "outputs": [
    {
     "data": {
      "text/plain": [
       "['2', '3', '4', '5', '6', '7', '8', '9', '10', 'J', 'Q', 'K', 'A']"
      ]
     },
     "execution_count": 65,
     "metadata": {},
     "output_type": "execute_result"
    }
   ],
   "source": [
    "ranks"
   ]
  },
  {
   "cell_type": "markdown",
   "id": "d96c5142",
   "metadata": {},
   "source": [
    "### 그림 표시"
   ]
  },
  {
   "cell_type": "code",
   "execution_count": 16,
   "id": "94feb736",
   "metadata": {},
   "outputs": [],
   "source": [
    "suits = \"spades diamonds clubs hearts\".split()"
   ]
  },
  {
   "cell_type": "code",
   "execution_count": 66,
   "id": "f8ea91d7",
   "metadata": {},
   "outputs": [
    {
     "data": {
      "text/plain": [
       "['spades', 'diamonds', 'clubs', 'hearts']"
      ]
     },
     "execution_count": 66,
     "metadata": {},
     "output_type": "execute_result"
    }
   ],
   "source": [
    "suits"
   ]
  },
  {
   "cell_type": "markdown",
   "id": "31d0f7a6",
   "metadata": {},
   "source": [
    "## 공통 덱 클래스 정의하기 "
   ]
  },
  {
   "cell_type": "code",
   "execution_count": 46,
   "id": "129c5a52",
   "metadata": {},
   "outputs": [],
   "source": [
    "class FrenchDeck :\n",
    "    def __init__(self, cls) :\n",
    "        self._cards = [cls(rank,suit) for suit in suits for rank in ranks]\n",
    "        \n",
    "    def __len__(self) :\n",
    "        return len(self._cards)\n",
    "    \n",
    "    def __getitem__(self, position) :\n",
    "        return self._cards[position]"
   ]
  },
  {
   "cell_type": "markdown",
   "id": "d9ae8496",
   "metadata": {},
   "source": [
    "## 정렬함수 정의하기 "
   ]
  },
  {
   "cell_type": "code",
   "execution_count": 64,
   "id": "2f503b01",
   "metadata": {},
   "outputs": [],
   "source": [
    "suit_values = dict(spades=3, hearts=2, diamonds=1, clubs=0)"
   ]
  },
  {
   "cell_type": "code",
   "execution_count": 69,
   "id": "ff0795c2",
   "metadata": {},
   "outputs": [
    {
     "data": {
      "text/plain": [
       "4"
      ]
     },
     "execution_count": 69,
     "metadata": {},
     "output_type": "execute_result"
    }
   ],
   "source": [
    "len(suit_values)"
   ]
  },
  {
   "cell_type": "code",
   "execution_count": null,
   "id": "264b00fa",
   "metadata": {},
   "outputs": [],
   "source": []
  },
  {
   "cell_type": "code",
   "execution_count": null,
   "id": "03f2865b",
   "metadata": {},
   "outputs": [],
   "source": []
  },
  {
   "cell_type": "code",
   "execution_count": 67,
   "id": "deb6bfce",
   "metadata": {},
   "outputs": [],
   "source": [
    "def spades_high(card) :\n",
    "    rank_value = ranks.index(card.rank)\n",
    "    return rank_value * len(suit_values) + suit_values[card.suit]"
   ]
  },
  {
   "cell_type": "code",
   "execution_count": null,
   "id": "ada00b38",
   "metadata": {},
   "outputs": [],
   "source": []
  },
  {
   "cell_type": "code",
   "execution_count": null,
   "id": "5298dbd8",
   "metadata": {},
   "outputs": [],
   "source": []
  },
  {
   "cell_type": "code",
   "execution_count": null,
   "id": "49913e05",
   "metadata": {},
   "outputs": [],
   "source": []
  },
  {
   "cell_type": "markdown",
   "id": "18563fb2",
   "metadata": {},
   "source": [
    "# 2. namedtuple로 카드덱 처리하기 "
   ]
  },
  {
   "cell_type": "code",
   "execution_count": 1,
   "id": "29f3ea81",
   "metadata": {},
   "outputs": [],
   "source": [
    "import collections"
   ]
  },
  {
   "cell_type": "code",
   "execution_count": 2,
   "id": "640af5b7",
   "metadata": {},
   "outputs": [
    {
     "name": "stdout",
     "output_type": "stream",
     "text": [
      "ChainMap, Counter, OrderedDict, UserDict, UserList, UserString, _Link, _OrderedDictItemsView, _OrderedDictKeysView, _OrderedDictValuesView, __all__, __builtins__, __cached__, __doc__, __file__, __loader__, __name__, __package__, __path__, __spec__, _chain, _collections_abc, _count_elements, _eq, _iskeyword, _itemgetter, _proxy, _recursive_repr, _repeat, _starmap, _sys, _tuplegetter, abc, defaultdict, deque, namedtuple, "
     ]
    }
   ],
   "source": [
    "for i in dir(collections) :\n",
    "    print(i, end=\", \")"
   ]
  },
  {
   "cell_type": "markdown",
   "id": "ec23a78d",
   "metadata": {},
   "source": [
    "### 카드 클래스 만들기 "
   ]
  },
  {
   "cell_type": "code",
   "execution_count": 3,
   "id": "2c8c2ed7",
   "metadata": {},
   "outputs": [],
   "source": [
    "Card = collections.namedtuple('Card',['rank', 'suit'])"
   ]
  },
  {
   "cell_type": "markdown",
   "id": "00632792",
   "metadata": {},
   "source": [
    "## deck 구성하기 "
   ]
  },
  {
   "cell_type": "code",
   "execution_count": null,
   "id": "152d5af4",
   "metadata": {},
   "outputs": [],
   "source": []
  },
  {
   "cell_type": "code",
   "execution_count": 47,
   "id": "d2ee93c2",
   "metadata": {},
   "outputs": [],
   "source": [
    "deck = FrenchDeck(Card)"
   ]
  },
  {
   "cell_type": "code",
   "execution_count": 48,
   "id": "8da08a96",
   "metadata": {},
   "outputs": [
    {
     "data": {
      "text/plain": [
       "52"
      ]
     },
     "execution_count": 48,
     "metadata": {},
     "output_type": "execute_result"
    }
   ],
   "source": [
    "len(deck)"
   ]
  },
  {
   "cell_type": "code",
   "execution_count": 49,
   "id": "3af7ec6a",
   "metadata": {},
   "outputs": [
    {
     "data": {
      "text/plain": [
       "{'_cards': [Card(rank='2', suit='spades'),\n",
       "  Card(rank='3', suit='spades'),\n",
       "  Card(rank='4', suit='spades'),\n",
       "  Card(rank='5', suit='spades'),\n",
       "  Card(rank='6', suit='spades'),\n",
       "  Card(rank='7', suit='spades'),\n",
       "  Card(rank='8', suit='spades'),\n",
       "  Card(rank='9', suit='spades'),\n",
       "  Card(rank='10', suit='spades'),\n",
       "  Card(rank='J', suit='spades'),\n",
       "  Card(rank='Q', suit='spades'),\n",
       "  Card(rank='K', suit='spades'),\n",
       "  Card(rank='A', suit='spades'),\n",
       "  Card(rank='2', suit='diamonds'),\n",
       "  Card(rank='3', suit='diamonds'),\n",
       "  Card(rank='4', suit='diamonds'),\n",
       "  Card(rank='5', suit='diamonds'),\n",
       "  Card(rank='6', suit='diamonds'),\n",
       "  Card(rank='7', suit='diamonds'),\n",
       "  Card(rank='8', suit='diamonds'),\n",
       "  Card(rank='9', suit='diamonds'),\n",
       "  Card(rank='10', suit='diamonds'),\n",
       "  Card(rank='J', suit='diamonds'),\n",
       "  Card(rank='Q', suit='diamonds'),\n",
       "  Card(rank='K', suit='diamonds'),\n",
       "  Card(rank='A', suit='diamonds'),\n",
       "  Card(rank='2', suit='clubs'),\n",
       "  Card(rank='3', suit='clubs'),\n",
       "  Card(rank='4', suit='clubs'),\n",
       "  Card(rank='5', suit='clubs'),\n",
       "  Card(rank='6', suit='clubs'),\n",
       "  Card(rank='7', suit='clubs'),\n",
       "  Card(rank='8', suit='clubs'),\n",
       "  Card(rank='9', suit='clubs'),\n",
       "  Card(rank='10', suit='clubs'),\n",
       "  Card(rank='J', suit='clubs'),\n",
       "  Card(rank='Q', suit='clubs'),\n",
       "  Card(rank='K', suit='clubs'),\n",
       "  Card(rank='A', suit='clubs'),\n",
       "  Card(rank='2', suit='hearts'),\n",
       "  Card(rank='3', suit='hearts'),\n",
       "  Card(rank='4', suit='hearts'),\n",
       "  Card(rank='5', suit='hearts'),\n",
       "  Card(rank='6', suit='hearts'),\n",
       "  Card(rank='7', suit='hearts'),\n",
       "  Card(rank='8', suit='hearts'),\n",
       "  Card(rank='9', suit='hearts'),\n",
       "  Card(rank='10', suit='hearts'),\n",
       "  Card(rank='J', suit='hearts'),\n",
       "  Card(rank='Q', suit='hearts'),\n",
       "  Card(rank='K', suit='hearts'),\n",
       "  Card(rank='A', suit='hearts')]}"
      ]
     },
     "execution_count": 49,
     "metadata": {},
     "output_type": "execute_result"
    }
   ],
   "source": [
    "deck.__dict__"
   ]
  },
  {
   "cell_type": "code",
   "execution_count": null,
   "id": "2483184d",
   "metadata": {},
   "outputs": [],
   "source": []
  },
  {
   "cell_type": "code",
   "execution_count": 50,
   "id": "6b17d8a4",
   "metadata": {},
   "outputs": [
    {
     "data": {
      "text/plain": [
       "Card(rank='2', suit='spades')"
      ]
     },
     "execution_count": 50,
     "metadata": {},
     "output_type": "execute_result"
    }
   ],
   "source": [
    "deck[0]"
   ]
  },
  {
   "cell_type": "code",
   "execution_count": null,
   "id": "9d6735de",
   "metadata": {},
   "outputs": [],
   "source": []
  },
  {
   "cell_type": "code",
   "execution_count": 51,
   "id": "e7a44c94",
   "metadata": {},
   "outputs": [
    {
     "data": {
      "text/plain": [
       "[Card(rank='2', suit='spades'),\n",
       " Card(rank='3', suit='spades'),\n",
       " Card(rank='4', suit='spades')]"
      ]
     },
     "execution_count": 51,
     "metadata": {},
     "output_type": "execute_result"
    }
   ],
   "source": [
    "deck[:3]"
   ]
  },
  {
   "cell_type": "code",
   "execution_count": null,
   "id": "d765fe1b",
   "metadata": {},
   "outputs": [],
   "source": []
  },
  {
   "cell_type": "code",
   "execution_count": 52,
   "id": "d24d31f2",
   "metadata": {},
   "outputs": [
    {
     "data": {
      "text/plain": [
       "True"
      ]
     },
     "execution_count": 52,
     "metadata": {},
     "output_type": "execute_result"
    }
   ],
   "source": [
    "Card('Q', 'hearts') in deck"
   ]
  },
  {
   "cell_type": "code",
   "execution_count": null,
   "id": "230d635f",
   "metadata": {},
   "outputs": [],
   "source": []
  },
  {
   "cell_type": "markdown",
   "id": "9f2276ea",
   "metadata": {},
   "source": [
    "# 3. NamedTuple로 처리하기 "
   ]
  },
  {
   "cell_type": "code",
   "execution_count": 53,
   "id": "9a98c38d",
   "metadata": {},
   "outputs": [],
   "source": [
    "from typing import NamedTuple"
   ]
  },
  {
   "cell_type": "code",
   "execution_count": 54,
   "id": "9e6e61e9",
   "metadata": {},
   "outputs": [],
   "source": [
    "class CardT(NamedTuple):\n",
    "    rank : str\n",
    "    suit : str"
   ]
  },
  {
   "cell_type": "code",
   "execution_count": 55,
   "id": "bafeefe5",
   "metadata": {},
   "outputs": [],
   "source": [
    "deckT = FrenchDeck(CardT)"
   ]
  },
  {
   "cell_type": "code",
   "execution_count": 56,
   "id": "e73b559f",
   "metadata": {},
   "outputs": [
    {
     "data": {
      "text/plain": [
       "52"
      ]
     },
     "execution_count": 56,
     "metadata": {},
     "output_type": "execute_result"
    }
   ],
   "source": [
    "len(deckT)"
   ]
  },
  {
   "cell_type": "code",
   "execution_count": 57,
   "id": "7b389d11",
   "metadata": {},
   "outputs": [
    {
     "data": {
      "text/plain": [
       "{'_cards': [CardT(rank='2', suit='spades'),\n",
       "  CardT(rank='3', suit='spades'),\n",
       "  CardT(rank='4', suit='spades'),\n",
       "  CardT(rank='5', suit='spades'),\n",
       "  CardT(rank='6', suit='spades'),\n",
       "  CardT(rank='7', suit='spades'),\n",
       "  CardT(rank='8', suit='spades'),\n",
       "  CardT(rank='9', suit='spades'),\n",
       "  CardT(rank='10', suit='spades'),\n",
       "  CardT(rank='J', suit='spades'),\n",
       "  CardT(rank='Q', suit='spades'),\n",
       "  CardT(rank='K', suit='spades'),\n",
       "  CardT(rank='A', suit='spades'),\n",
       "  CardT(rank='2', suit='diamonds'),\n",
       "  CardT(rank='3', suit='diamonds'),\n",
       "  CardT(rank='4', suit='diamonds'),\n",
       "  CardT(rank='5', suit='diamonds'),\n",
       "  CardT(rank='6', suit='diamonds'),\n",
       "  CardT(rank='7', suit='diamonds'),\n",
       "  CardT(rank='8', suit='diamonds'),\n",
       "  CardT(rank='9', suit='diamonds'),\n",
       "  CardT(rank='10', suit='diamonds'),\n",
       "  CardT(rank='J', suit='diamonds'),\n",
       "  CardT(rank='Q', suit='diamonds'),\n",
       "  CardT(rank='K', suit='diamonds'),\n",
       "  CardT(rank='A', suit='diamonds'),\n",
       "  CardT(rank='2', suit='clubs'),\n",
       "  CardT(rank='3', suit='clubs'),\n",
       "  CardT(rank='4', suit='clubs'),\n",
       "  CardT(rank='5', suit='clubs'),\n",
       "  CardT(rank='6', suit='clubs'),\n",
       "  CardT(rank='7', suit='clubs'),\n",
       "  CardT(rank='8', suit='clubs'),\n",
       "  CardT(rank='9', suit='clubs'),\n",
       "  CardT(rank='10', suit='clubs'),\n",
       "  CardT(rank='J', suit='clubs'),\n",
       "  CardT(rank='Q', suit='clubs'),\n",
       "  CardT(rank='K', suit='clubs'),\n",
       "  CardT(rank='A', suit='clubs'),\n",
       "  CardT(rank='2', suit='hearts'),\n",
       "  CardT(rank='3', suit='hearts'),\n",
       "  CardT(rank='4', suit='hearts'),\n",
       "  CardT(rank='5', suit='hearts'),\n",
       "  CardT(rank='6', suit='hearts'),\n",
       "  CardT(rank='7', suit='hearts'),\n",
       "  CardT(rank='8', suit='hearts'),\n",
       "  CardT(rank='9', suit='hearts'),\n",
       "  CardT(rank='10', suit='hearts'),\n",
       "  CardT(rank='J', suit='hearts'),\n",
       "  CardT(rank='Q', suit='hearts'),\n",
       "  CardT(rank='K', suit='hearts'),\n",
       "  CardT(rank='A', suit='hearts')]}"
      ]
     },
     "execution_count": 57,
     "metadata": {},
     "output_type": "execute_result"
    }
   ],
   "source": [
    "deckT.__dict__"
   ]
  },
  {
   "cell_type": "code",
   "execution_count": 58,
   "id": "4b833dc6",
   "metadata": {},
   "outputs": [
    {
     "data": {
      "text/plain": [
       "CardT(rank='2', suit='spades')"
      ]
     },
     "execution_count": 58,
     "metadata": {},
     "output_type": "execute_result"
    }
   ],
   "source": [
    "deckT[0]"
   ]
  },
  {
   "cell_type": "code",
   "execution_count": null,
   "id": "d76d59d8",
   "metadata": {},
   "outputs": [],
   "source": []
  },
  {
   "cell_type": "code",
   "execution_count": 59,
   "id": "d9f01bad",
   "metadata": {},
   "outputs": [
    {
     "data": {
      "text/plain": [
       "[CardT(rank='2', suit='spades'),\n",
       " CardT(rank='3', suit='spades'),\n",
       " CardT(rank='4', suit='spades')]"
      ]
     },
     "execution_count": 59,
     "metadata": {},
     "output_type": "execute_result"
    }
   ],
   "source": [
    "deckT[:3]"
   ]
  },
  {
   "cell_type": "code",
   "execution_count": null,
   "id": "9e0eb100",
   "metadata": {},
   "outputs": [],
   "source": []
  },
  {
   "cell_type": "markdown",
   "id": "e0b46557",
   "metadata": {},
   "source": [
    "# 4. 카드 선택하기 "
   ]
  },
  {
   "cell_type": "code",
   "execution_count": 60,
   "id": "efe41c87",
   "metadata": {},
   "outputs": [],
   "source": [
    "from random import choice"
   ]
  },
  {
   "cell_type": "code",
   "execution_count": 61,
   "id": "6ff72c1e",
   "metadata": {},
   "outputs": [
    {
     "data": {
      "text/plain": [
       "Card(rank='6', suit='clubs')"
      ]
     },
     "execution_count": 61,
     "metadata": {},
     "output_type": "execute_result"
    }
   ],
   "source": [
    "choice(deck)"
   ]
  },
  {
   "cell_type": "code",
   "execution_count": 62,
   "id": "9c69f286",
   "metadata": {},
   "outputs": [
    {
     "data": {
      "text/plain": [
       "CardT(rank='A', suit='clubs')"
      ]
     },
     "execution_count": 62,
     "metadata": {},
     "output_type": "execute_result"
    }
   ],
   "source": [
    "choice(deckT)"
   ]
  },
  {
   "cell_type": "code",
   "execution_count": null,
   "id": "ffd00738",
   "metadata": {},
   "outputs": [],
   "source": []
  },
  {
   "cell_type": "code",
   "execution_count": 63,
   "id": "b198982b",
   "metadata": {},
   "outputs": [
    {
     "data": {
      "text/plain": [
       "True"
      ]
     },
     "execution_count": 63,
     "metadata": {},
     "output_type": "execute_result"
    }
   ],
   "source": [
    "CardT('Q', 'hearts') in deckT"
   ]
  },
  {
   "cell_type": "code",
   "execution_count": null,
   "id": "4642ddf7",
   "metadata": {},
   "outputs": [],
   "source": []
  },
  {
   "cell_type": "markdown",
   "id": "b2fad388",
   "metadata": {},
   "source": [
    "# 5. 카드 정렬하기 "
   ]
  },
  {
   "cell_type": "markdown",
   "id": "0ebf7b70",
   "metadata": {},
   "source": [
    "## 함수 값을 확인 "
   ]
  },
  {
   "cell_type": "code",
   "execution_count": 71,
   "id": "595e8a89",
   "metadata": {},
   "outputs": [
    {
     "data": {
      "text/plain": [
       "0"
      ]
     },
     "execution_count": 71,
     "metadata": {},
     "output_type": "execute_result"
    }
   ],
   "source": [
    "spades_high(CardT('2', 'clubs'))"
   ]
  },
  {
   "cell_type": "code",
   "execution_count": 72,
   "id": "e326f968",
   "metadata": {},
   "outputs": [
    {
     "data": {
      "text/plain": [
       "1"
      ]
     },
     "execution_count": 72,
     "metadata": {},
     "output_type": "execute_result"
    }
   ],
   "source": [
    "spades_high(CardT('2', 'diamonds'))"
   ]
  },
  {
   "cell_type": "code",
   "execution_count": 73,
   "id": "135142fb",
   "metadata": {},
   "outputs": [
    {
     "data": {
      "text/plain": [
       "2"
      ]
     },
     "execution_count": 73,
     "metadata": {},
     "output_type": "execute_result"
    }
   ],
   "source": [
    "spades_high(CardT('2', 'hearts'))"
   ]
  },
  {
   "cell_type": "code",
   "execution_count": null,
   "id": "a567fbee",
   "metadata": {},
   "outputs": [],
   "source": []
  },
  {
   "cell_type": "code",
   "execution_count": null,
   "id": "f605e0cf",
   "metadata": {},
   "outputs": [],
   "source": []
  },
  {
   "cell_type": "markdown",
   "id": "4a5025ee",
   "metadata": {},
   "source": [
    "## 오름차순으로 나열"
   ]
  },
  {
   "cell_type": "code",
   "execution_count": 68,
   "id": "ee8e772b",
   "metadata": {},
   "outputs": [
    {
     "name": "stdout",
     "output_type": "stream",
     "text": [
      "Card(rank='2', suit='clubs')\n",
      "Card(rank='2', suit='diamonds')\n",
      "Card(rank='2', suit='hearts')\n",
      "Card(rank='2', suit='spades')\n",
      "Card(rank='3', suit='clubs')\n",
      "Card(rank='3', suit='diamonds')\n",
      "Card(rank='3', suit='hearts')\n",
      "Card(rank='3', suit='spades')\n",
      "Card(rank='4', suit='clubs')\n",
      "Card(rank='4', suit='diamonds')\n",
      "Card(rank='4', suit='hearts')\n",
      "Card(rank='4', suit='spades')\n",
      "Card(rank='5', suit='clubs')\n",
      "Card(rank='5', suit='diamonds')\n",
      "Card(rank='5', suit='hearts')\n",
      "Card(rank='5', suit='spades')\n",
      "Card(rank='6', suit='clubs')\n",
      "Card(rank='6', suit='diamonds')\n",
      "Card(rank='6', suit='hearts')\n",
      "Card(rank='6', suit='spades')\n",
      "Card(rank='7', suit='clubs')\n",
      "Card(rank='7', suit='diamonds')\n",
      "Card(rank='7', suit='hearts')\n",
      "Card(rank='7', suit='spades')\n",
      "Card(rank='8', suit='clubs')\n",
      "Card(rank='8', suit='diamonds')\n",
      "Card(rank='8', suit='hearts')\n",
      "Card(rank='8', suit='spades')\n",
      "Card(rank='9', suit='clubs')\n",
      "Card(rank='9', suit='diamonds')\n",
      "Card(rank='9', suit='hearts')\n",
      "Card(rank='9', suit='spades')\n",
      "Card(rank='10', suit='clubs')\n",
      "Card(rank='10', suit='diamonds')\n",
      "Card(rank='10', suit='hearts')\n",
      "Card(rank='10', suit='spades')\n",
      "Card(rank='J', suit='clubs')\n",
      "Card(rank='J', suit='diamonds')\n",
      "Card(rank='J', suit='hearts')\n",
      "Card(rank='J', suit='spades')\n",
      "Card(rank='Q', suit='clubs')\n",
      "Card(rank='Q', suit='diamonds')\n",
      "Card(rank='Q', suit='hearts')\n",
      "Card(rank='Q', suit='spades')\n",
      "Card(rank='K', suit='clubs')\n",
      "Card(rank='K', suit='diamonds')\n",
      "Card(rank='K', suit='hearts')\n",
      "Card(rank='K', suit='spades')\n",
      "Card(rank='A', suit='clubs')\n",
      "Card(rank='A', suit='diamonds')\n",
      "Card(rank='A', suit='hearts')\n",
      "Card(rank='A', suit='spades')\n"
     ]
    }
   ],
   "source": [
    "for card in sorted(deck, key=spades_high) :\n",
    "    print(card)"
   ]
  },
  {
   "cell_type": "code",
   "execution_count": null,
   "id": "a2e93847",
   "metadata": {},
   "outputs": [],
   "source": []
  }
 ],
 "metadata": {
  "kernelspec": {
   "display_name": "Python 3 (ipykernel)",
   "language": "python",
   "name": "python3"
  },
  "language_info": {
   "codemirror_mode": {
    "name": "ipython",
    "version": 3
   },
   "file_extension": ".py",
   "mimetype": "text/x-python",
   "name": "python",
   "nbconvert_exporter": "python",
   "pygments_lexer": "ipython3",
   "version": "3.11.3"
  }
 },
 "nbformat": 4,
 "nbformat_minor": 5
}
