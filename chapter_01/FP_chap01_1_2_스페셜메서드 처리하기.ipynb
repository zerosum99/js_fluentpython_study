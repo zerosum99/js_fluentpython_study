{
 "cells": [
  {
   "cell_type": "code",
   "execution_count": null,
   "id": "4c93a4c7",
   "metadata": {},
   "outputs": [],
   "source": []
  },
  {
   "cell_type": "markdown",
   "id": "3c3f0bc9",
   "metadata": {},
   "source": [
    "# 1. 클래스 정의 "
   ]
  },
  {
   "cell_type": "code",
   "execution_count": 1,
   "id": "bc81f78c",
   "metadata": {},
   "outputs": [],
   "source": [
    "from math import hypot,sqrt"
   ]
  },
  {
   "cell_type": "code",
   "execution_count": 2,
   "id": "0ac8895e",
   "metadata": {},
   "outputs": [],
   "source": [
    "class Vector :\n",
    "    def __init__(self,x=0,y=0) :\n",
    "        self.x = x\n",
    "        self.y = y\n",
    "        \n",
    "    def __repr__(self) :\n",
    "        return f'Vector({self.x}, {self.y})'\n",
    "    \n",
    "    def __str__(self) :\n",
    "        return f\"Vector@{hash(self)}\"\n",
    "    \n",
    "    def __abs__(self) :\n",
    "        return hypot(self.x, self.y)\n",
    "    \n",
    "    def __bool__(self) :\n",
    "        return bool(abs(self))\n",
    "    \n",
    "    def __add__(self, other) :\n",
    "        x = self.x + other.x\n",
    "        y = self.y + other.y\n",
    "        return Vector(x,y)\n",
    "    \n",
    "    def __mul__(self, scalar) :\n",
    "        return Vector(self.x * scalar, self.y * scalar)"
   ]
  },
  {
   "cell_type": "code",
   "execution_count": null,
   "id": "85877813",
   "metadata": {},
   "outputs": [],
   "source": []
  },
  {
   "cell_type": "markdown",
   "id": "e97e7eda",
   "metadata": {},
   "source": [
    "# 2. 기본 스페셜 메서드 알아보기"
   ]
  },
  {
   "cell_type": "markdown",
   "id": "5e2066a0",
   "metadata": {},
   "source": [
    "## 객체 생성 "
   ]
  },
  {
   "cell_type": "code",
   "execution_count": 3,
   "id": "5020b03c",
   "metadata": {},
   "outputs": [],
   "source": [
    "v = Vector()"
   ]
  },
  {
   "cell_type": "markdown",
   "id": "6e3cb686",
   "metadata": {},
   "source": [
    "## 2-1  repr과 str 알아보기\n",
    "\n",
    "- repr은 실행이 가능한 문자열\n",
    "- str은 문자열 출력 "
   ]
  },
  {
   "cell_type": "markdown",
   "id": "36360bc4",
   "metadata": {},
   "source": [
    "### repr로 출력한 것은 eval로 실행가능 "
   ]
  },
  {
   "cell_type": "code",
   "execution_count": 4,
   "id": "5fb3ea2d",
   "metadata": {},
   "outputs": [
    {
     "data": {
      "text/plain": [
       "'Vector(0, 0)'"
      ]
     },
     "execution_count": 4,
     "metadata": {},
     "output_type": "execute_result"
    }
   ],
   "source": [
    "repr(v)"
   ]
  },
  {
   "cell_type": "code",
   "execution_count": 5,
   "id": "e68f7225",
   "metadata": {},
   "outputs": [
    {
     "data": {
      "text/plain": [
       "__main__.Vector"
      ]
     },
     "execution_count": 5,
     "metadata": {},
     "output_type": "execute_result"
    }
   ],
   "source": [
    "eval(repr(v)).__class__"
   ]
  },
  {
   "cell_type": "markdown",
   "id": "e4220e2c",
   "metadata": {},
   "source": [
    "### 문자열은 출력만 가능"
   ]
  },
  {
   "cell_type": "code",
   "execution_count": 6,
   "id": "6e8e2c9c",
   "metadata": {},
   "outputs": [
    {
     "data": {
      "text/plain": [
       "'Vector@277218205'"
      ]
     },
     "execution_count": 6,
     "metadata": {},
     "output_type": "execute_result"
    }
   ],
   "source": [
    "str(v)"
   ]
  },
  {
   "cell_type": "code",
   "execution_count": 7,
   "id": "12d4af3f",
   "metadata": {},
   "outputs": [
    {
     "ename": "TypeError",
     "evalue": "unsupported operand type(s) for @: 'type' and 'int'",
     "output_type": "error",
     "traceback": [
      "\u001b[0;31m---------------------------------------------------------------------------\u001b[0m",
      "\u001b[0;31mTypeError\u001b[0m                                 Traceback (most recent call last)",
      "Cell \u001b[0;32mIn[7], line 1\u001b[0m\n\u001b[0;32m----> 1\u001b[0m \u001b[38;5;28;43meval\u001b[39;49m\u001b[43m(\u001b[49m\u001b[38;5;28;43mstr\u001b[39;49m\u001b[43m(\u001b[49m\u001b[43mv\u001b[49m\u001b[43m)\u001b[49m\u001b[43m)\u001b[49m\n",
      "File \u001b[0;32m<string>:1\u001b[0m\n",
      "\u001b[0;31mTypeError\u001b[0m: unsupported operand type(s) for @: 'type' and 'int'"
     ]
    }
   ],
   "source": [
    "eval(str(v))"
   ]
  },
  {
   "cell_type": "markdown",
   "id": "8ccbde06",
   "metadata": {},
   "source": [
    "## 2-2 절대값 확인하기 \n",
    "\n",
    "- 벡터의 크기를 구한다. "
   ]
  },
  {
   "cell_type": "markdown",
   "id": "0336a4f1",
   "metadata": {},
   "source": [
    "## 새로운 객체 생성"
   ]
  },
  {
   "cell_type": "code",
   "execution_count": 9,
   "id": "98b499ca",
   "metadata": {},
   "outputs": [],
   "source": [
    "v1 = Vector(10,20)"
   ]
  },
  {
   "cell_type": "markdown",
   "id": "04fe45ad",
   "metadata": {},
   "source": [
    "## 절대값으로 벡터의 크기 확인 "
   ]
  },
  {
   "cell_type": "code",
   "execution_count": 8,
   "id": "027f37d2",
   "metadata": {},
   "outputs": [
    {
     "data": {
      "text/plain": [
       "0.0"
      ]
     },
     "execution_count": 8,
     "metadata": {},
     "output_type": "execute_result"
    }
   ],
   "source": [
    "abs(v)"
   ]
  },
  {
   "cell_type": "code",
   "execution_count": 10,
   "id": "5578f86b",
   "metadata": {},
   "outputs": [
    {
     "data": {
      "text/plain": [
       "22.360679774997898"
      ]
     },
     "execution_count": 10,
     "metadata": {},
     "output_type": "execute_result"
    }
   ],
   "source": [
    "abs(v1)"
   ]
  },
  {
   "cell_type": "markdown",
   "id": "9869bdb8",
   "metadata": {},
   "source": [
    "## 벡터 크기는 각 원소의 제곱한 후에 더하고 제곱근으로 처리한 값"
   ]
  },
  {
   "cell_type": "code",
   "execution_count": 11,
   "id": "ea87d6cd",
   "metadata": {},
   "outputs": [
    {
     "data": {
      "text/plain": [
       "22.360679774997898"
      ]
     },
     "execution_count": 11,
     "metadata": {},
     "output_type": "execute_result"
    }
   ],
   "source": [
    "sqrt(pow(v1.x,2)+pow(v1.y,2))"
   ]
  },
  {
   "cell_type": "markdown",
   "id": "106c9625",
   "metadata": {},
   "source": [
    "## 2-3 참과 거짓은 벡터의 크기를 기준으로 처리 "
   ]
  },
  {
   "cell_type": "code",
   "execution_count": 12,
   "id": "0ef3aa3f",
   "metadata": {},
   "outputs": [
    {
     "data": {
      "text/plain": [
       "False"
      ]
     },
     "execution_count": 12,
     "metadata": {},
     "output_type": "execute_result"
    }
   ],
   "source": [
    "bool(v)"
   ]
  },
  {
   "cell_type": "code",
   "execution_count": 13,
   "id": "f4d10df1",
   "metadata": {},
   "outputs": [
    {
     "data": {
      "text/plain": [
       "True"
      ]
     },
     "execution_count": 13,
     "metadata": {},
     "output_type": "execute_result"
    }
   ],
   "source": [
    "bool(v1)"
   ]
  },
  {
   "cell_type": "markdown",
   "id": "99b591df",
   "metadata": {},
   "source": [
    "## 2-4 산술연산 "
   ]
  },
  {
   "cell_type": "code",
   "execution_count": 14,
   "id": "91c871f4",
   "metadata": {},
   "outputs": [
    {
     "data": {
      "text/plain": [
       "Vector(10, 20)"
      ]
     },
     "execution_count": 14,
     "metadata": {},
     "output_type": "execute_result"
    }
   ],
   "source": [
    "v1 + v"
   ]
  },
  {
   "cell_type": "code",
   "execution_count": 15,
   "id": "7517e043",
   "metadata": {},
   "outputs": [
    {
     "data": {
      "text/plain": [
       "Vector(100, 200)"
      ]
     },
     "execution_count": 15,
     "metadata": {},
     "output_type": "execute_result"
    }
   ],
   "source": [
    "v1 * 10"
   ]
  },
  {
   "cell_type": "code",
   "execution_count": null,
   "id": "e1a43867",
   "metadata": {},
   "outputs": [],
   "source": []
  }
 ],
 "metadata": {
  "kernelspec": {
   "display_name": "Python 3 (ipykernel)",
   "language": "python",
   "name": "python3"
  },
  "language_info": {
   "codemirror_mode": {
    "name": "ipython",
    "version": 3
   },
   "file_extension": ".py",
   "mimetype": "text/x-python",
   "name": "python",
   "nbconvert_exporter": "python",
   "pygments_lexer": "ipython3",
   "version": "3.11.3"
  }
 },
 "nbformat": 4,
 "nbformat_minor": 5
}
