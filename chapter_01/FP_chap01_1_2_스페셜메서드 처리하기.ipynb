{
 "cells": [
  {
   "cell_type": "code",
   "execution_count": null,
   "id": "081cfa86",
   "metadata": {},
   "outputs": [],
   "source": []
  },
  {
   "cell_type": "markdown",
   "id": "0756eccb",
   "metadata": {},
   "source": [
    "# 1. 클래스 정의 "
   ]
  },
  {
   "cell_type": "code",
   "execution_count": 30,
   "id": "dc86ca0f",
   "metadata": {},
   "outputs": [],
   "source": [
    "from math import hypot,sqrt"
   ]
  },
  {
   "cell_type": "code",
   "execution_count": 34,
   "id": "68a27cdb",
   "metadata": {},
   "outputs": [],
   "source": [
    "class Vector :\n",
    "    def __init__(self,x=0,y=0) :\n",
    "        self.x = x\n",
    "        self.y = y\n",
    "        \n",
    "    def __repr__(self) :\n",
    "        return f'Vector({self.x}, {self.y})'\n",
    "    \n",
    "    def __str__(self) :\n",
    "        return f\"Vector@{hash(self)}\"\n",
    "    \n",
    "    def __abs__(self) :\n",
    "        return hypot(self.x, self.y)\n",
    "    \n",
    "    def __bool__(self) :\n",
    "        return bool(abs(self))\n",
    "    \n",
    "    def __add__(self, other) :\n",
    "        x = self.x + other.x\n",
    "        y = self.y + other.y\n",
    "        return Vector(x,y)\n",
    "    \n",
    "    def __mul__(self, scalar) :\n",
    "        return Vector(self.x * scalar, self.y * scalar)"
   ]
  },
  {
   "cell_type": "code",
   "execution_count": null,
   "id": "9c75db51",
   "metadata": {},
   "outputs": [],
   "source": []
  },
  {
   "cell_type": "markdown",
   "id": "72b36537",
   "metadata": {},
   "source": [
    "# 2. 기본 스페셜 메서드 알아보기"
   ]
  },
  {
   "cell_type": "markdown",
   "id": "ea06383b",
   "metadata": {},
   "source": [
    "## 객체 생성 "
   ]
  },
  {
   "cell_type": "code",
   "execution_count": 35,
   "id": "b7e79c14",
   "metadata": {},
   "outputs": [],
   "source": [
    "v = Vector()"
   ]
  },
  {
   "cell_type": "markdown",
   "id": "f532086d",
   "metadata": {},
   "source": [
    "## 2-1  repr과 str 알아보기\n",
    "\n",
    "- repr은 실행이 가능한 문자열\n",
    "- str은 문자열 출력 "
   ]
  },
  {
   "cell_type": "markdown",
   "id": "115de924",
   "metadata": {},
   "source": [
    "### repr로 출력한 것은 eval로 실행가능 "
   ]
  },
  {
   "cell_type": "code",
   "execution_count": 36,
   "id": "9d1d9ae9",
   "metadata": {},
   "outputs": [
    {
     "data": {
      "text/plain": [
       "'Vector(0, 0)'"
      ]
     },
     "execution_count": 36,
     "metadata": {},
     "output_type": "execute_result"
    }
   ],
   "source": [
    "repr(v)"
   ]
  },
  {
   "cell_type": "code",
   "execution_count": 37,
   "id": "99139f07",
   "metadata": {},
   "outputs": [
    {
     "data": {
      "text/plain": [
       "__main__.Vector"
      ]
     },
     "execution_count": 37,
     "metadata": {},
     "output_type": "execute_result"
    }
   ],
   "source": [
    "eval(repr(v)).__class__"
   ]
  },
  {
   "cell_type": "markdown",
   "id": "72107b54",
   "metadata": {},
   "source": [
    "### 문자열은 출력만 가능"
   ]
  },
  {
   "cell_type": "code",
   "execution_count": 38,
   "id": "18f5e413",
   "metadata": {},
   "outputs": [
    {
     "data": {
      "text/plain": [
       "'Vector@279849629'"
      ]
     },
     "execution_count": 38,
     "metadata": {},
     "output_type": "execute_result"
    }
   ],
   "source": [
    "str(v)"
   ]
  },
  {
   "cell_type": "code",
   "execution_count": 39,
   "id": "7293d566",
   "metadata": {},
   "outputs": [
    {
     "ename": "TypeError",
     "evalue": "unsupported operand type(s) for @: 'type' and 'int'",
     "output_type": "error",
     "traceback": [
      "\u001b[0;31m---------------------------------------------------------------------------\u001b[0m",
      "\u001b[0;31mTypeError\u001b[0m                                 Traceback (most recent call last)",
      "Cell \u001b[0;32mIn[39], line 1\u001b[0m\n\u001b[0;32m----> 1\u001b[0m \u001b[38;5;28;43meval\u001b[39;49m\u001b[43m(\u001b[49m\u001b[38;5;28;43mstr\u001b[39;49m\u001b[43m(\u001b[49m\u001b[43mv\u001b[49m\u001b[43m)\u001b[49m\u001b[43m)\u001b[49m\n",
      "File \u001b[0;32m<string>:1\u001b[0m\n",
      "\u001b[0;31mTypeError\u001b[0m: unsupported operand type(s) for @: 'type' and 'int'"
     ]
    }
   ],
   "source": [
    "eval(str(v))"
   ]
  },
  {
   "cell_type": "markdown",
   "id": "e50a05df",
   "metadata": {},
   "source": [
    "## 2-2 절대값 확인하기 \n",
    "\n",
    "- 벡터의 크기를 구한다. "
   ]
  },
  {
   "cell_type": "markdown",
   "id": "c4189dc7",
   "metadata": {},
   "source": [
    "## 절대값으로 벡터의 크기 확인 "
   ]
  },
  {
   "cell_type": "code",
   "execution_count": 40,
   "id": "18e13cfb",
   "metadata": {},
   "outputs": [
    {
     "data": {
      "text/plain": [
       "0.0"
      ]
     },
     "execution_count": 40,
     "metadata": {},
     "output_type": "execute_result"
    }
   ],
   "source": [
    "abs(v)"
   ]
  },
  {
   "cell_type": "code",
   "execution_count": 41,
   "id": "0c3558d0",
   "metadata": {},
   "outputs": [],
   "source": [
    "v1 = Vector(10,20)"
   ]
  },
  {
   "cell_type": "code",
   "execution_count": 42,
   "id": "51b62968",
   "metadata": {},
   "outputs": [
    {
     "data": {
      "text/plain": [
       "22.360679774997898"
      ]
     },
     "execution_count": 42,
     "metadata": {},
     "output_type": "execute_result"
    }
   ],
   "source": [
    "abs(v1)"
   ]
  },
  {
   "cell_type": "markdown",
   "id": "0aa6430b",
   "metadata": {},
   "source": [
    "## 벡터 크기는 각 원소의 제곱한 후에 더하고 제곱근으로 처리한 값"
   ]
  },
  {
   "cell_type": "code",
   "execution_count": 43,
   "id": "ce65f0d4",
   "metadata": {},
   "outputs": [
    {
     "data": {
      "text/plain": [
       "22.360679774997898"
      ]
     },
     "execution_count": 43,
     "metadata": {},
     "output_type": "execute_result"
    }
   ],
   "source": [
    "sqrt(pow(v1.x,2)+pow(v1.y,2))"
   ]
  },
  {
   "cell_type": "markdown",
   "id": "2175fbea",
   "metadata": {},
   "source": [
    "## 2-3 참과 거짓은 벡터의 크기를 기준으로 처리 "
   ]
  },
  {
   "cell_type": "code",
   "execution_count": 44,
   "id": "c3478231",
   "metadata": {},
   "outputs": [
    {
     "data": {
      "text/plain": [
       "False"
      ]
     },
     "execution_count": 44,
     "metadata": {},
     "output_type": "execute_result"
    }
   ],
   "source": [
    "bool(v)"
   ]
  },
  {
   "cell_type": "code",
   "execution_count": 45,
   "id": "11be455d",
   "metadata": {},
   "outputs": [
    {
     "data": {
      "text/plain": [
       "True"
      ]
     },
     "execution_count": 45,
     "metadata": {},
     "output_type": "execute_result"
    }
   ],
   "source": [
    "bool(v1)"
   ]
  },
  {
   "cell_type": "markdown",
   "id": "9322fbcd",
   "metadata": {},
   "source": [
    "## 2-4 산술연산 "
   ]
  },
  {
   "cell_type": "code",
   "execution_count": 46,
   "id": "a063394e",
   "metadata": {},
   "outputs": [
    {
     "data": {
      "text/plain": [
       "Vector(10, 20)"
      ]
     },
     "execution_count": 46,
     "metadata": {},
     "output_type": "execute_result"
    }
   ],
   "source": [
    "v1 + v"
   ]
  },
  {
   "cell_type": "code",
   "execution_count": 47,
   "id": "033e20f6",
   "metadata": {},
   "outputs": [
    {
     "data": {
      "text/plain": [
       "Vector(100, 200)"
      ]
     },
     "execution_count": 47,
     "metadata": {},
     "output_type": "execute_result"
    }
   ],
   "source": [
    "v1 * 10"
   ]
  },
  {
   "cell_type": "code",
   "execution_count": null,
   "id": "0e39567b",
   "metadata": {},
   "outputs": [],
   "source": []
  }
 ],
 "metadata": {
  "kernelspec": {
   "display_name": "Python 3 (ipykernel)",
   "language": "python",
   "name": "python3"
  },
  "language_info": {
   "codemirror_mode": {
    "name": "ipython",
    "version": 3
   },
   "file_extension": ".py",
   "mimetype": "text/x-python",
   "name": "python",
   "nbconvert_exporter": "python",
   "pygments_lexer": "ipython3",
   "version": "3.11.3"
  }
 },
 "nbformat": 4,
 "nbformat_minor": 5
}
