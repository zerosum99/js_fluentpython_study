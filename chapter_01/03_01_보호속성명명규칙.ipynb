{
 "cells": [
  {
   "cell_type": "code",
   "execution_count": null,
   "id": "dd3659a5",
   "metadata": {},
   "outputs": [],
   "source": []
  },
  {
   "cell_type": "code",
   "execution_count": null,
   "id": "ab51ab82-751b-4a20-a715-e87ddf02dab2",
   "metadata": {},
   "outputs": [],
   "source": []
  },
  {
   "cell_type": "markdown",
   "id": "10249060-2ffc-4a04-8bfb-0140a87256b9",
   "metadata": {},
   "source": [
    "## 명명규칙으로 private 접근 제어를 표시하기\n",
    "\n",
    "- _ 는 단순하게 접근을 하지말라는 의미\n",
    "- __는 이름을 변경해서 풀 네임으로 접근하지 않으면 처리 안됨\n",
    "-  단 클래스 내에의 로직은 변경전 이름으로 사용 가능 "
   ]
  },
  {
   "cell_type": "markdown",
   "id": "8118ac0a-3f70-44fd-bfb7-de955c0a90af",
   "metadata": {},
   "source": [
    "### 파이썬의 \"맹글링\"은 \n",
    "\n",
    "- 클래스 내부의 변수나 메서드 이름을 외부에서 직접 접근하지 못하도록 이름을 변경하는 기술입니다. 맹글링은 주로 클래스의 내부 구현을 보호하고 클래스의 인터페이스를 정의할 때 사용됩니다.\n",
    "\n",
    "#### 맹글링은 다음 규칙을 따릅니다:\n",
    "\n",
    "- 변수나 메서드 이름 앞에 두 개의 밑줄(__)을 붙입니다.\n",
    "\n",
    "- 그 뒤에 클래스 이름을 추가합니다.\n",
    "\n",
    "- 최종적으로 언더스코어(_)를 하나 더 추가합니다."
   ]
  },
  {
   "cell_type": "code",
   "execution_count": 56,
   "id": "eb4d5294-cd17-4233-b755-3f234b4633a8",
   "metadata": {},
   "outputs": [],
   "source": [
    "class Name :\n",
    "    def __init__(self, name, age) :\n",
    "        self._name = name  ## 보호속성\n",
    "        self.__age = age   ## 맹글링 속성 => 이름을 변경해버림\n",
    "\n",
    "    def getAge(self) :\n",
    "         return self.__age"
   ]
  },
  {
   "cell_type": "code",
   "execution_count": 57,
   "id": "55749bd9-7150-45a3-8ca5-33fd2cbb5ec6",
   "metadata": {},
   "outputs": [],
   "source": [
    "n = Name(\"이름\", 33)"
   ]
  },
  {
   "cell_type": "code",
   "execution_count": 58,
   "id": "aee1c6fc-ce49-4a69-bba0-418f7a1d533a",
   "metadata": {},
   "outputs": [
    {
     "data": {
      "text/plain": [
       "{'_name': '이름', '_Name__age': 33}"
      ]
     },
     "execution_count": 58,
     "metadata": {},
     "output_type": "execute_result"
    }
   ],
   "source": [
    "n.__dict__"
   ]
  },
  {
   "cell_type": "code",
   "execution_count": null,
   "id": "a112357d-92c2-4dfd-b3e5-4363c9d59184",
   "metadata": {},
   "outputs": [],
   "source": []
  },
  {
   "cell_type": "code",
   "execution_count": 59,
   "id": "c82896bf-a2e3-4af7-94da-887d847c64d9",
   "metadata": {},
   "outputs": [
    {
     "data": {
      "text/plain": [
       "'이름'"
      ]
     },
     "execution_count": 59,
     "metadata": {},
     "output_type": "execute_result"
    }
   ],
   "source": [
    "n._name"
   ]
  },
  {
   "cell_type": "code",
   "execution_count": 60,
   "id": "296de40f-4fa9-4f79-b83c-c0c6fa4c544c",
   "metadata": {},
   "outputs": [
    {
     "name": "stdout",
     "output_type": "stream",
     "text": [
      "frozenset({'__len__', '__getitem__'})\n"
     ]
    },
    {
     "ename": "AttributeError",
     "evalue": "'Name' object has no attribute '__age'",
     "output_type": "error",
     "traceback": [
      "\u001b[0;31m---------------------------------------------------------------------------\u001b[0m",
      "\u001b[0;31mAttributeError\u001b[0m                            Traceback (most recent call last)",
      "Cell \u001b[0;32mIn[60], line 1\u001b[0m\n\u001b[0;32m----> 1\u001b[0m \u001b[43mn\u001b[49m\u001b[38;5;241;43m.\u001b[39;49m\u001b[43m__age\u001b[49m\n",
      "\u001b[0;31mAttributeError\u001b[0m: 'Name' object has no attribute '__age'"
     ]
    }
   ],
   "source": [
    "n.__age"
   ]
  },
  {
   "cell_type": "code",
   "execution_count": 61,
   "id": "8ad944d1-e888-4672-9f9c-422a3f65f9f8",
   "metadata": {},
   "outputs": [
    {
     "data": {
      "text/plain": [
       "33"
      ]
     },
     "execution_count": 61,
     "metadata": {},
     "output_type": "execute_result"
    }
   ],
   "source": [
    "n._Name__age"
   ]
  },
  {
   "cell_type": "code",
   "execution_count": 62,
   "id": "1164614a-e50c-4f95-abff-187c889e9354",
   "metadata": {},
   "outputs": [
    {
     "data": {
      "text/plain": [
       "33"
      ]
     },
     "execution_count": 62,
     "metadata": {},
     "output_type": "execute_result"
    }
   ],
   "source": [
    "n.getAge()"
   ]
  },
  {
   "cell_type": "code",
   "execution_count": null,
   "id": "9a20bd94-890a-4cc4-800e-271ea565fcd6",
   "metadata": {},
   "outputs": [],
   "source": []
  },
  {
   "cell_type": "code",
   "execution_count": null,
   "id": "4a9287f4-a165-4f7b-bfc9-5bd132c0c7db",
   "metadata": {},
   "outputs": [],
   "source": []
  }
 ],
 "metadata": {
  "kernelspec": {
   "display_name": "Python 3 (ipykernel)",
   "language": "python",
   "name": "python3"
  },
  "language_info": {
   "codemirror_mode": {
    "name": "ipython",
    "version": 3
   },
   "file_extension": ".py",
   "mimetype": "text/x-python",
   "name": "python",
   "nbconvert_exporter": "python",
   "pygments_lexer": "ipython3",
   "version": "3.9.16"
  }
 },
 "nbformat": 4,
 "nbformat_minor": 5
}
