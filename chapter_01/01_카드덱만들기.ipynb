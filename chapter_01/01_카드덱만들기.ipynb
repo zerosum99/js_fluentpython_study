{
 "cells": [
  {
   "cell_type": "code",
   "execution_count": null,
   "id": "dd3659a5",
   "metadata": {},
   "outputs": [],
   "source": []
  },
  {
   "cell_type": "code",
   "execution_count": null,
   "id": "b9289504",
   "metadata": {},
   "outputs": [],
   "source": []
  },
  {
   "cell_type": "markdown",
   "id": "3f02c314",
   "metadata": {},
   "source": [
    "# 1. 공통 클래스와 함수 정의하기 "
   ]
  },
  {
   "cell_type": "markdown",
   "id": "a14fb4ab",
   "metadata": {},
   "source": [
    "## 1-1 컴프리헨션\n",
    "\n",
    "-  리스트, 집합, 딕셔너리에 대해 원소나열표기를 특정 표현식으로 표시하는 방법"
   ]
  },
  {
   "cell_type": "code",
   "execution_count": null,
   "id": "4eb57b0c",
   "metadata": {},
   "outputs": [],
   "source": [
    "lst01 = [x for x in range(10)]"
   ]
  },
  {
   "cell_type": "code",
   "execution_count": 2,
   "id": "e5699cb3",
   "metadata": {},
   "outputs": [
    {
     "data": {
      "text/plain": [
       "[0, 1, 2, 3, 4, 5, 6, 7, 8, 9]"
      ]
     },
     "execution_count": 2,
     "metadata": {},
     "output_type": "execute_result"
    }
   ],
   "source": [
    "lst01"
   ]
  },
  {
   "cell_type": "markdown",
   "id": "a27d26d5",
   "metadata": {},
   "source": [
    "## 1-2 리스트에서 연산자 사용\n",
    "\n",
    "- 리스트에도 덧셈과 곱셈 연산자를 사용 가능\n",
    "- 덧셈은 두 리스트 결합\n",
    "- 곱셈은 리스트와 정수를 곱해서 리스트 원소 개수를 곱한 개수만큼 증가"
   ]
  },
  {
   "cell_type": "code",
   "execution_count": 3,
   "id": "aadda5dc",
   "metadata": {},
   "outputs": [
    {
     "data": {
      "text/plain": [
       "[0, 1, 2, 3, 4, 5, 6, 7, 8, 9, 0, 1, 2, 3, 4, 5, 6, 7, 8, 9]"
      ]
     },
     "execution_count": 3,
     "metadata": {},
     "output_type": "execute_result"
    }
   ],
   "source": [
    "lst01 + lst01"
   ]
  },
  {
   "cell_type": "code",
   "execution_count": 4,
   "id": "64624fd4",
   "metadata": {},
   "outputs": [
    {
     "data": {
      "text/plain": [
       "[0, 1, 2, 3, 4, 5, 6, 7, 8, 9, 0, 1, 2, 3, 4, 5, 6, 7, 8, 9]"
      ]
     },
     "execution_count": 4,
     "metadata": {},
     "output_type": "execute_result"
    }
   ],
   "source": [
    "lst01 * 2"
   ]
  },
  {
   "cell_type": "code",
   "execution_count": null,
   "id": "75d53639",
   "metadata": {},
   "outputs": [],
   "source": []
  },
  {
   "cell_type": "markdown",
   "id": "a2ee95ee",
   "metadata": {},
   "source": [
    "## 1-3 카드의 숫자와 그림을 나열하기\n",
    "\n",
    "- ranks 는 숫자\n",
    "- suits 는 그림 "
   ]
  },
  {
   "cell_type": "markdown",
   "id": "3f6383d9",
   "metadata": {},
   "source": [
    "### 숫자 표시"
   ]
  },
  {
   "cell_type": "code",
   "execution_count": 5,
   "id": "4119e22d",
   "metadata": {},
   "outputs": [],
   "source": [
    "ranks =[str(n) for n in range(2,11)] + list('JQKA')"
   ]
  },
  {
   "cell_type": "code",
   "execution_count": 6,
   "id": "11af56e4",
   "metadata": {},
   "outputs": [
    {
     "data": {
      "text/plain": [
       "['2', '3', '4', '5', '6', '7', '8', '9', '10', 'J', 'Q', 'K', 'A']"
      ]
     },
     "execution_count": 6,
     "metadata": {},
     "output_type": "execute_result"
    }
   ],
   "source": [
    "ranks"
   ]
  },
  {
   "cell_type": "markdown",
   "id": "d96c5142",
   "metadata": {},
   "source": [
    "### 그림 표시"
   ]
  },
  {
   "cell_type": "code",
   "execution_count": 7,
   "id": "94feb736",
   "metadata": {},
   "outputs": [],
   "source": [
    "suits = \"spades diamonds clubs hearts\".split()"
   ]
  },
  {
   "cell_type": "code",
   "execution_count": 8,
   "id": "f8ea91d7",
   "metadata": {},
   "outputs": [
    {
     "data": {
      "text/plain": [
       "['spades', 'diamonds', 'clubs', 'hearts']"
      ]
     },
     "execution_count": 8,
     "metadata": {},
     "output_type": "execute_result"
    }
   ],
   "source": [
    "suits"
   ]
  },
  {
   "cell_type": "markdown",
   "id": "31d0f7a6",
   "metadata": {},
   "source": [
    "## 1-4 공통 덱 클래스 정의하기 \n",
    "\n",
    "- 카드 한벌을 덱으로 만든다.\n",
    "- len 함수가 실행되면 카드 개수를 보여줌\n",
    "- 카드 정보가 리스트에 저장되므로 인덱스 검색을 통해 카드들을 조회"
   ]
  },
  {
   "cell_type": "code",
   "execution_count": 9,
   "id": "129c5a52",
   "metadata": {},
   "outputs": [],
   "source": [
    "class FrenchDeck :\n",
    "    def __init__(self, cls) :\n",
    "        self._cards = [cls(rank,suit) for suit in suits for rank in ranks]\n",
    "        \n",
    "    def __len__(self) :\n",
    "        return len(self._cards)\n",
    "    \n",
    "    def __getitem__(self, position) :\n",
    "        return self._cards[position]"
   ]
  },
  {
   "cell_type": "markdown",
   "id": "d9ae8496",
   "metadata": {},
   "source": [
    "## 1-5 정렬함수 정의하기 \n",
    "\n",
    "-  카드의 그림의 우선순위는 스페이드 , 하트, 다이아몬드, 클로바 순"
   ]
  },
  {
   "cell_type": "code",
   "execution_count": 10,
   "id": "2f503b01",
   "metadata": {},
   "outputs": [],
   "source": [
    "suit_values = dict(spades=3, hearts=2, diamonds=1, clubs=0)"
   ]
  },
  {
   "cell_type": "code",
   "execution_count": 11,
   "id": "ff0795c2",
   "metadata": {},
   "outputs": [
    {
     "data": {
      "text/plain": [
       "4"
      ]
     },
     "execution_count": 11,
     "metadata": {},
     "output_type": "execute_result"
    }
   ],
   "source": [
    "len(suit_values)"
   ]
  },
  {
   "cell_type": "code",
   "execution_count": null,
   "id": "264b00fa",
   "metadata": {},
   "outputs": [],
   "source": []
  },
  {
   "cell_type": "markdown",
   "id": "36f1b300",
   "metadata": {},
   "source": [
    "### 카드를 받고 카드의 값을 환산\n",
    "- 인덱스의 값을 가져와서 그림의 개수만큼 곱한후에 실제 그림의 값을 더한다 "
   ]
  },
  {
   "cell_type": "code",
   "execution_count": 12,
   "id": "deb6bfce",
   "metadata": {},
   "outputs": [],
   "source": [
    "def spades_high(card) :\n",
    "    rank_value = ranks.index(card.rank)\n",
    "    return rank_value * len(suit_values) + suit_values[card.suit]"
   ]
  },
  {
   "cell_type": "code",
   "execution_count": null,
   "id": "ada00b38",
   "metadata": {},
   "outputs": [],
   "source": []
  },
  {
   "cell_type": "code",
   "execution_count": null,
   "id": "5298dbd8",
   "metadata": {},
   "outputs": [],
   "source": []
  },
  {
   "cell_type": "code",
   "execution_count": null,
   "id": "49913e05",
   "metadata": {},
   "outputs": [],
   "source": []
  },
  {
   "cell_type": "markdown",
   "id": "18563fb2",
   "metadata": {},
   "source": [
    "# 2. namedtuple로 카드덱 처리하기 \n",
    "\n",
    "- 변경되지 않는 튜플이지만 이름을 가짐"
   ]
  },
  {
   "cell_type": "code",
   "execution_count": null,
   "id": "d7962237",
   "metadata": {},
   "outputs": [],
   "source": []
  },
  {
   "cell_type": "code",
   "execution_count": 13,
   "id": "29f3ea81",
   "metadata": {},
   "outputs": [],
   "source": [
    "import collections"
   ]
  },
  {
   "cell_type": "code",
   "execution_count": 14,
   "id": "640af5b7",
   "metadata": {},
   "outputs": [
    {
     "name": "stdout",
     "output_type": "stream",
     "text": [
      "ChainMap, Counter, OrderedDict, UserDict, UserList, UserString, _Link, _OrderedDictItemsView, _OrderedDictKeysView, _OrderedDictValuesView, __all__, __builtins__, __cached__, __doc__, __file__, __loader__, __name__, __package__, __path__, __spec__, _chain, _collections_abc, _count_elements, _eq, _iskeyword, _itemgetter, _proxy, _recursive_repr, _repeat, _starmap, _sys, _tuplegetter, abc, defaultdict, deque, namedtuple, "
     ]
    }
   ],
   "source": [
    "for i in dir(collections) :\n",
    "    print(i, end=\", \")"
   ]
  },
  {
   "cell_type": "markdown",
   "id": "ec23a78d",
   "metadata": {},
   "source": [
    "### 카드 클래스 만들기 "
   ]
  },
  {
   "cell_type": "code",
   "execution_count": 15,
   "id": "2c8c2ed7",
   "metadata": {},
   "outputs": [],
   "source": [
    "Card = collections.namedtuple('Card',['rank', 'suit'])"
   ]
  },
  {
   "cell_type": "markdown",
   "id": "f4a99b01",
   "metadata": {},
   "source": [
    "### 새로운 속성 2개 추가 "
   ]
  },
  {
   "cell_type": "code",
   "execution_count": 16,
   "id": "06186685",
   "metadata": {},
   "outputs": [
    {
     "name": "stdout",
     "output_type": "stream",
     "text": [
      "__add__, __class__, __class_getitem__, __contains__, __delattr__, __dir__, __doc__, __eq__, __format__, __ge__, __getattribute__, __getitem__, __getnewargs__, __getstate__, __gt__, __hash__, __init__, __init_subclass__, __iter__, __le__, __len__, __lt__, __match_args__, __module__, __mul__, __ne__, __new__, __reduce__, __reduce_ex__, __repr__, __rmul__, __setattr__, __sizeof__, __slots__, __str__, __subclasshook__, _asdict, _field_defaults, _fields, _make, _replace, count, index, rank, suit, "
     ]
    }
   ],
   "source": [
    "for i in dir(Card) :\n",
    "    print(i, end=\", \")"
   ]
  },
  {
   "cell_type": "code",
   "execution_count": null,
   "id": "5f56cc16",
   "metadata": {},
   "outputs": [],
   "source": []
  },
  {
   "cell_type": "markdown",
   "id": "00632792",
   "metadata": {},
   "source": [
    "## deck 구성하기 "
   ]
  },
  {
   "cell_type": "code",
   "execution_count": null,
   "id": "152d5af4",
   "metadata": {},
   "outputs": [],
   "source": []
  },
  {
   "cell_type": "code",
   "execution_count": 17,
   "id": "d2ee93c2",
   "metadata": {},
   "outputs": [],
   "source": [
    "deck = FrenchDeck(Card)"
   ]
  },
  {
   "cell_type": "code",
   "execution_count": 18,
   "id": "8da08a96",
   "metadata": {},
   "outputs": [
    {
     "data": {
      "text/plain": [
       "52"
      ]
     },
     "execution_count": 18,
     "metadata": {},
     "output_type": "execute_result"
    }
   ],
   "source": [
    "len(deck)"
   ]
  },
  {
   "cell_type": "code",
   "execution_count": 19,
   "id": "3af7ec6a",
   "metadata": {},
   "outputs": [
    {
     "data": {
      "text/plain": [
       "{'_cards': [Card(rank='2', suit='spades'),\n",
       "  Card(rank='3', suit='spades'),\n",
       "  Card(rank='4', suit='spades'),\n",
       "  Card(rank='5', suit='spades'),\n",
       "  Card(rank='6', suit='spades'),\n",
       "  Card(rank='7', suit='spades'),\n",
       "  Card(rank='8', suit='spades'),\n",
       "  Card(rank='9', suit='spades'),\n",
       "  Card(rank='10', suit='spades'),\n",
       "  Card(rank='J', suit='spades'),\n",
       "  Card(rank='Q', suit='spades'),\n",
       "  Card(rank='K', suit='spades'),\n",
       "  Card(rank='A', suit='spades'),\n",
       "  Card(rank='2', suit='diamonds'),\n",
       "  Card(rank='3', suit='diamonds'),\n",
       "  Card(rank='4', suit='diamonds'),\n",
       "  Card(rank='5', suit='diamonds'),\n",
       "  Card(rank='6', suit='diamonds'),\n",
       "  Card(rank='7', suit='diamonds'),\n",
       "  Card(rank='8', suit='diamonds'),\n",
       "  Card(rank='9', suit='diamonds'),\n",
       "  Card(rank='10', suit='diamonds'),\n",
       "  Card(rank='J', suit='diamonds'),\n",
       "  Card(rank='Q', suit='diamonds'),\n",
       "  Card(rank='K', suit='diamonds'),\n",
       "  Card(rank='A', suit='diamonds'),\n",
       "  Card(rank='2', suit='clubs'),\n",
       "  Card(rank='3', suit='clubs'),\n",
       "  Card(rank='4', suit='clubs'),\n",
       "  Card(rank='5', suit='clubs'),\n",
       "  Card(rank='6', suit='clubs'),\n",
       "  Card(rank='7', suit='clubs'),\n",
       "  Card(rank='8', suit='clubs'),\n",
       "  Card(rank='9', suit='clubs'),\n",
       "  Card(rank='10', suit='clubs'),\n",
       "  Card(rank='J', suit='clubs'),\n",
       "  Card(rank='Q', suit='clubs'),\n",
       "  Card(rank='K', suit='clubs'),\n",
       "  Card(rank='A', suit='clubs'),\n",
       "  Card(rank='2', suit='hearts'),\n",
       "  Card(rank='3', suit='hearts'),\n",
       "  Card(rank='4', suit='hearts'),\n",
       "  Card(rank='5', suit='hearts'),\n",
       "  Card(rank='6', suit='hearts'),\n",
       "  Card(rank='7', suit='hearts'),\n",
       "  Card(rank='8', suit='hearts'),\n",
       "  Card(rank='9', suit='hearts'),\n",
       "  Card(rank='10', suit='hearts'),\n",
       "  Card(rank='J', suit='hearts'),\n",
       "  Card(rank='Q', suit='hearts'),\n",
       "  Card(rank='K', suit='hearts'),\n",
       "  Card(rank='A', suit='hearts')]}"
      ]
     },
     "execution_count": 19,
     "metadata": {},
     "output_type": "execute_result"
    }
   ],
   "source": [
    "deck.__dict__"
   ]
  },
  {
   "cell_type": "markdown",
   "id": "93df47f0",
   "metadata": {},
   "source": [
    "## 내부 값 조회 "
   ]
  },
  {
   "cell_type": "code",
   "execution_count": 20,
   "id": "6b17d8a4",
   "metadata": {},
   "outputs": [
    {
     "data": {
      "text/plain": [
       "Card(rank='2', suit='spades')"
      ]
     },
     "execution_count": 20,
     "metadata": {},
     "output_type": "execute_result"
    }
   ],
   "source": [
    "deck[0]"
   ]
  },
  {
   "cell_type": "markdown",
   "id": "f9cda663",
   "metadata": {},
   "source": [
    "### 네임드 튜플 값 조회\n",
    "\n",
    "- 속성조회와 인덱스 조회가능"
   ]
  },
  {
   "cell_type": "code",
   "execution_count": 22,
   "id": "9d6735de",
   "metadata": {},
   "outputs": [
    {
     "data": {
      "text/plain": [
       "('2', 'spades')"
      ]
     },
     "execution_count": 22,
     "metadata": {},
     "output_type": "execute_result"
    }
   ],
   "source": [
    "deck[0].rank,  deck[0].suit"
   ]
  },
  {
   "cell_type": "code",
   "execution_count": 25,
   "id": "e47b37fc",
   "metadata": {},
   "outputs": [
    {
     "data": {
      "text/plain": [
       "('2', 'spades')"
      ]
     },
     "execution_count": 25,
     "metadata": {},
     "output_type": "execute_result"
    }
   ],
   "source": [
    "deck[0][0], deck[0][1]"
   ]
  },
  {
   "cell_type": "markdown",
   "id": "19275924",
   "metadata": {},
   "source": [
    "### 슬라이스 조회"
   ]
  },
  {
   "cell_type": "code",
   "execution_count": 23,
   "id": "e7a44c94",
   "metadata": {},
   "outputs": [
    {
     "data": {
      "text/plain": [
       "[Card(rank='2', suit='spades'),\n",
       " Card(rank='3', suit='spades'),\n",
       " Card(rank='4', suit='spades')]"
      ]
     },
     "execution_count": 23,
     "metadata": {},
     "output_type": "execute_result"
    }
   ],
   "source": [
    "deck[:3]"
   ]
  },
  {
   "cell_type": "markdown",
   "id": "63c06562",
   "metadata": {},
   "source": [
    "### 포함관계 확인하기 "
   ]
  },
  {
   "cell_type": "code",
   "execution_count": 26,
   "id": "d24d31f2",
   "metadata": {},
   "outputs": [
    {
     "data": {
      "text/plain": [
       "True"
      ]
     },
     "execution_count": 26,
     "metadata": {},
     "output_type": "execute_result"
    }
   ],
   "source": [
    "Card('Q', 'hearts') in deck"
   ]
  },
  {
   "cell_type": "code",
   "execution_count": null,
   "id": "230d635f",
   "metadata": {},
   "outputs": [],
   "source": []
  },
  {
   "cell_type": "markdown",
   "id": "9f2276ea",
   "metadata": {},
   "source": [
    "# 3. NamedTuple로 처리하기 "
   ]
  },
  {
   "cell_type": "markdown",
   "id": "bbf16845",
   "metadata": {},
   "source": [
    "## 네임드 튜플을 클래스 상속으로 처리"
   ]
  },
  {
   "cell_type": "code",
   "execution_count": 27,
   "id": "9a98c38d",
   "metadata": {},
   "outputs": [],
   "source": [
    "from typing import NamedTuple"
   ]
  },
  {
   "cell_type": "code",
   "execution_count": 28,
   "id": "9e6e61e9",
   "metadata": {},
   "outputs": [],
   "source": [
    "class CardT(NamedTuple):\n",
    "    rank : str\n",
    "    suit : str"
   ]
  },
  {
   "cell_type": "code",
   "execution_count": 33,
   "id": "9dbbe4e8",
   "metadata": {},
   "outputs": [
    {
     "name": "stdout",
     "output_type": "stream",
     "text": [
      "__add__, __annotations__, __class__, __class_getitem__, __contains__, __delattr__, __dir__, __doc__, __eq__, __format__, __ge__, __getattribute__, __getitem__, __getnewargs__, __getstate__, __gt__, __hash__, __init__, __init_subclass__, __iter__, __le__, __len__, __lt__, __match_args__, __module__, __mul__, __ne__, __new__, __orig_bases__, __reduce__, __reduce_ex__, __repr__, __rmul__, __setattr__, __sizeof__, __slots__, __str__, __subclasshook__, _asdict, _field_defaults, _fields, _make, _replace, count, index, rank, suit, "
     ]
    }
   ],
   "source": [
    "for i in dir(CardT) :\n",
    "    print(i, end=\", \")"
   ]
  },
  {
   "cell_type": "markdown",
   "id": "787e0a57",
   "metadata": {},
   "source": [
    "## 객체를 만든다"
   ]
  },
  {
   "cell_type": "code",
   "execution_count": 29,
   "id": "bafeefe5",
   "metadata": {},
   "outputs": [],
   "source": [
    "deckT = FrenchDeck(CardT)"
   ]
  },
  {
   "cell_type": "code",
   "execution_count": 30,
   "id": "e73b559f",
   "metadata": {},
   "outputs": [
    {
     "data": {
      "text/plain": [
       "52"
      ]
     },
     "execution_count": 30,
     "metadata": {},
     "output_type": "execute_result"
    }
   ],
   "source": [
    "len(deckT)"
   ]
  },
  {
   "cell_type": "code",
   "execution_count": 31,
   "id": "7b389d11",
   "metadata": {},
   "outputs": [
    {
     "data": {
      "text/plain": [
       "{'_cards': [CardT(rank='2', suit='spades'),\n",
       "  CardT(rank='3', suit='spades'),\n",
       "  CardT(rank='4', suit='spades'),\n",
       "  CardT(rank='5', suit='spades'),\n",
       "  CardT(rank='6', suit='spades'),\n",
       "  CardT(rank='7', suit='spades'),\n",
       "  CardT(rank='8', suit='spades'),\n",
       "  CardT(rank='9', suit='spades'),\n",
       "  CardT(rank='10', suit='spades'),\n",
       "  CardT(rank='J', suit='spades'),\n",
       "  CardT(rank='Q', suit='spades'),\n",
       "  CardT(rank='K', suit='spades'),\n",
       "  CardT(rank='A', suit='spades'),\n",
       "  CardT(rank='2', suit='diamonds'),\n",
       "  CardT(rank='3', suit='diamonds'),\n",
       "  CardT(rank='4', suit='diamonds'),\n",
       "  CardT(rank='5', suit='diamonds'),\n",
       "  CardT(rank='6', suit='diamonds'),\n",
       "  CardT(rank='7', suit='diamonds'),\n",
       "  CardT(rank='8', suit='diamonds'),\n",
       "  CardT(rank='9', suit='diamonds'),\n",
       "  CardT(rank='10', suit='diamonds'),\n",
       "  CardT(rank='J', suit='diamonds'),\n",
       "  CardT(rank='Q', suit='diamonds'),\n",
       "  CardT(rank='K', suit='diamonds'),\n",
       "  CardT(rank='A', suit='diamonds'),\n",
       "  CardT(rank='2', suit='clubs'),\n",
       "  CardT(rank='3', suit='clubs'),\n",
       "  CardT(rank='4', suit='clubs'),\n",
       "  CardT(rank='5', suit='clubs'),\n",
       "  CardT(rank='6', suit='clubs'),\n",
       "  CardT(rank='7', suit='clubs'),\n",
       "  CardT(rank='8', suit='clubs'),\n",
       "  CardT(rank='9', suit='clubs'),\n",
       "  CardT(rank='10', suit='clubs'),\n",
       "  CardT(rank='J', suit='clubs'),\n",
       "  CardT(rank='Q', suit='clubs'),\n",
       "  CardT(rank='K', suit='clubs'),\n",
       "  CardT(rank='A', suit='clubs'),\n",
       "  CardT(rank='2', suit='hearts'),\n",
       "  CardT(rank='3', suit='hearts'),\n",
       "  CardT(rank='4', suit='hearts'),\n",
       "  CardT(rank='5', suit='hearts'),\n",
       "  CardT(rank='6', suit='hearts'),\n",
       "  CardT(rank='7', suit='hearts'),\n",
       "  CardT(rank='8', suit='hearts'),\n",
       "  CardT(rank='9', suit='hearts'),\n",
       "  CardT(rank='10', suit='hearts'),\n",
       "  CardT(rank='J', suit='hearts'),\n",
       "  CardT(rank='Q', suit='hearts'),\n",
       "  CardT(rank='K', suit='hearts'),\n",
       "  CardT(rank='A', suit='hearts')]}"
      ]
     },
     "execution_count": 31,
     "metadata": {},
     "output_type": "execute_result"
    }
   ],
   "source": [
    "deckT.__dict__"
   ]
  },
  {
   "cell_type": "markdown",
   "id": "45366c98",
   "metadata": {},
   "source": [
    "## 원소 조회 "
   ]
  },
  {
   "cell_type": "code",
   "execution_count": 32,
   "id": "4b833dc6",
   "metadata": {},
   "outputs": [
    {
     "data": {
      "text/plain": [
       "CardT(rank='2', suit='spades')"
      ]
     },
     "execution_count": 32,
     "metadata": {},
     "output_type": "execute_result"
    }
   ],
   "source": [
    "deckT[0]"
   ]
  },
  {
   "cell_type": "code",
   "execution_count": 34,
   "id": "d76d59d8",
   "metadata": {},
   "outputs": [
    {
     "data": {
      "text/plain": [
       "('2', 'spades')"
      ]
     },
     "execution_count": 34,
     "metadata": {},
     "output_type": "execute_result"
    }
   ],
   "source": [
    "deckT[0].rank,  deckT[0].suit"
   ]
  },
  {
   "cell_type": "code",
   "execution_count": 35,
   "id": "3703ebb7",
   "metadata": {},
   "outputs": [
    {
     "data": {
      "text/plain": [
       "('2', 'spades')"
      ]
     },
     "execution_count": 35,
     "metadata": {},
     "output_type": "execute_result"
    }
   ],
   "source": [
    "deckT[0][0],  deckT[0][1]"
   ]
  },
  {
   "cell_type": "code",
   "execution_count": null,
   "id": "d9f01bad",
   "metadata": {},
   "outputs": [],
   "source": [
    "deckT[:3]"
   ]
  },
  {
   "cell_type": "code",
   "execution_count": 36,
   "id": "9e0eb100",
   "metadata": {},
   "outputs": [
    {
     "data": {
      "text/plain": [
       "True"
      ]
     },
     "execution_count": 36,
     "metadata": {},
     "output_type": "execute_result"
    }
   ],
   "source": [
    "CardT('Q', 'hearts') in deckT"
   ]
  },
  {
   "cell_type": "markdown",
   "id": "e0b46557",
   "metadata": {},
   "source": [
    "# 4. 카드 선택하기 "
   ]
  },
  {
   "cell_type": "markdown",
   "id": "6fc43670",
   "metadata": {},
   "source": [
    "## 랜덤모듈의 함수로 내부 원소 선택 "
   ]
  },
  {
   "cell_type": "code",
   "execution_count": 37,
   "id": "efe41c87",
   "metadata": {},
   "outputs": [],
   "source": [
    "from random import choice"
   ]
  },
  {
   "cell_type": "code",
   "execution_count": 38,
   "id": "6ff72c1e",
   "metadata": {},
   "outputs": [
    {
     "data": {
      "text/plain": [
       "Card(rank='10', suit='clubs')"
      ]
     },
     "execution_count": 38,
     "metadata": {},
     "output_type": "execute_result"
    }
   ],
   "source": [
    "choice(deck)"
   ]
  },
  {
   "cell_type": "code",
   "execution_count": 39,
   "id": "9c69f286",
   "metadata": {},
   "outputs": [
    {
     "data": {
      "text/plain": [
       "CardT(rank='Q', suit='spades')"
      ]
     },
     "execution_count": 39,
     "metadata": {},
     "output_type": "execute_result"
    }
   ],
   "source": [
    "choice(deckT)"
   ]
  },
  {
   "cell_type": "code",
   "execution_count": null,
   "id": "ffd00738",
   "metadata": {},
   "outputs": [],
   "source": []
  },
  {
   "cell_type": "code",
   "execution_count": 40,
   "id": "b198982b",
   "metadata": {},
   "outputs": [
    {
     "data": {
      "text/plain": [
       "True"
      ]
     },
     "execution_count": 40,
     "metadata": {},
     "output_type": "execute_result"
    }
   ],
   "source": [
    "CardT('Q', 'hearts') in deckT"
   ]
  },
  {
   "cell_type": "code",
   "execution_count": null,
   "id": "4642ddf7",
   "metadata": {},
   "outputs": [],
   "source": []
  },
  {
   "cell_type": "markdown",
   "id": "b2fad388",
   "metadata": {},
   "source": [
    "# 5. 카드 정렬하기 "
   ]
  },
  {
   "cell_type": "markdown",
   "id": "0ebf7b70",
   "metadata": {},
   "source": [
    "## 함수 값을 확인 "
   ]
  },
  {
   "cell_type": "code",
   "execution_count": 41,
   "id": "595e8a89",
   "metadata": {},
   "outputs": [
    {
     "data": {
      "text/plain": [
       "0"
      ]
     },
     "execution_count": 41,
     "metadata": {},
     "output_type": "execute_result"
    }
   ],
   "source": [
    "spades_high(CardT('2', 'clubs'))"
   ]
  },
  {
   "cell_type": "code",
   "execution_count": 42,
   "id": "e326f968",
   "metadata": {},
   "outputs": [
    {
     "data": {
      "text/plain": [
       "1"
      ]
     },
     "execution_count": 42,
     "metadata": {},
     "output_type": "execute_result"
    }
   ],
   "source": [
    "spades_high(CardT('2', 'diamonds'))"
   ]
  },
  {
   "cell_type": "code",
   "execution_count": 43,
   "id": "135142fb",
   "metadata": {},
   "outputs": [
    {
     "data": {
      "text/plain": [
       "2"
      ]
     },
     "execution_count": 43,
     "metadata": {},
     "output_type": "execute_result"
    }
   ],
   "source": [
    "spades_high(CardT('2', 'hearts'))"
   ]
  },
  {
   "cell_type": "code",
   "execution_count": null,
   "id": "a567fbee",
   "metadata": {},
   "outputs": [],
   "source": []
  },
  {
   "cell_type": "code",
   "execution_count": null,
   "id": "f605e0cf",
   "metadata": {},
   "outputs": [],
   "source": []
  },
  {
   "cell_type": "markdown",
   "id": "4a5025ee",
   "metadata": {},
   "source": [
    "## 오름차순으로 나열"
   ]
  },
  {
   "cell_type": "code",
   "execution_count": 44,
   "id": "ee8e772b",
   "metadata": {},
   "outputs": [
    {
     "name": "stdout",
     "output_type": "stream",
     "text": [
      "Card(rank='2', suit='clubs')\n",
      "Card(rank='2', suit='diamonds')\n",
      "Card(rank='2', suit='hearts')\n",
      "Card(rank='2', suit='spades')\n",
      "Card(rank='3', suit='clubs')\n",
      "Card(rank='3', suit='diamonds')\n",
      "Card(rank='3', suit='hearts')\n",
      "Card(rank='3', suit='spades')\n",
      "Card(rank='4', suit='clubs')\n",
      "Card(rank='4', suit='diamonds')\n",
      "Card(rank='4', suit='hearts')\n",
      "Card(rank='4', suit='spades')\n",
      "Card(rank='5', suit='clubs')\n",
      "Card(rank='5', suit='diamonds')\n",
      "Card(rank='5', suit='hearts')\n",
      "Card(rank='5', suit='spades')\n",
      "Card(rank='6', suit='clubs')\n",
      "Card(rank='6', suit='diamonds')\n",
      "Card(rank='6', suit='hearts')\n",
      "Card(rank='6', suit='spades')\n",
      "Card(rank='7', suit='clubs')\n",
      "Card(rank='7', suit='diamonds')\n",
      "Card(rank='7', suit='hearts')\n",
      "Card(rank='7', suit='spades')\n",
      "Card(rank='8', suit='clubs')\n",
      "Card(rank='8', suit='diamonds')\n",
      "Card(rank='8', suit='hearts')\n",
      "Card(rank='8', suit='spades')\n",
      "Card(rank='9', suit='clubs')\n",
      "Card(rank='9', suit='diamonds')\n",
      "Card(rank='9', suit='hearts')\n",
      "Card(rank='9', suit='spades')\n",
      "Card(rank='10', suit='clubs')\n",
      "Card(rank='10', suit='diamonds')\n",
      "Card(rank='10', suit='hearts')\n",
      "Card(rank='10', suit='spades')\n",
      "Card(rank='J', suit='clubs')\n",
      "Card(rank='J', suit='diamonds')\n",
      "Card(rank='J', suit='hearts')\n",
      "Card(rank='J', suit='spades')\n",
      "Card(rank='Q', suit='clubs')\n",
      "Card(rank='Q', suit='diamonds')\n",
      "Card(rank='Q', suit='hearts')\n",
      "Card(rank='Q', suit='spades')\n",
      "Card(rank='K', suit='clubs')\n",
      "Card(rank='K', suit='diamonds')\n",
      "Card(rank='K', suit='hearts')\n",
      "Card(rank='K', suit='spades')\n",
      "Card(rank='A', suit='clubs')\n",
      "Card(rank='A', suit='diamonds')\n",
      "Card(rank='A', suit='hearts')\n",
      "Card(rank='A', suit='spades')\n"
     ]
    }
   ],
   "source": [
    "for card in sorted(deck, key=spades_high) :\n",
    "    print(card)"
   ]
  },
  {
   "cell_type": "code",
   "execution_count": null,
   "id": "a2e93847",
   "metadata": {},
   "outputs": [],
   "source": []
  }
 ],
 "metadata": {
  "kernelspec": {
   "display_name": "Python 3 (ipykernel)",
   "language": "python",
   "name": "python3"
  },
  "language_info": {
   "codemirror_mode": {
    "name": "ipython",
    "version": 3
   },
   "file_extension": ".py",
   "mimetype": "text/x-python",
   "name": "python",
   "nbconvert_exporter": "python",
   "pygments_lexer": "ipython3",
   "version": "3.11.3"
  }
 },
 "nbformat": 4,
 "nbformat_minor": 5
}
