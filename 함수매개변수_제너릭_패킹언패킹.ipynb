{
 "cells": [
  {
   "cell_type": "code",
   "execution_count": null,
   "id": "be2930e9",
   "metadata": {},
   "outputs": [],
   "source": []
  },
  {
   "cell_type": "code",
   "execution_count": 1,
   "id": "c0d0458f",
   "metadata": {},
   "outputs": [],
   "source": [
    "import platform"
   ]
  },
  {
   "cell_type": "code",
   "execution_count": 6,
   "id": "613467ee",
   "metadata": {},
   "outputs": [
    {
     "data": {
      "text/plain": [
       "'3.11.3'"
      ]
     },
     "execution_count": 6,
     "metadata": {},
     "output_type": "execute_result"
    }
   ],
   "source": [
    "platform.python_version()"
   ]
  },
  {
   "cell_type": "code",
   "execution_count": null,
   "id": "04f8ff8a",
   "metadata": {},
   "outputs": [],
   "source": []
  },
  {
   "cell_type": "markdown",
   "id": "f843f407",
   "metadata": {},
   "source": [
    "# 1.  함수 매개변수 (Parameter)\n",
    "\n",
    "- 함수를 정의할 때 함수의 인터페이스 부분을 매개변수라고 부른다.\n",
    "- 함수 호출할때 이 매개변수에 맞는 값을 인자라고 부른다.\n",
    "- 함수 매개변수와 인자는 항상 매핑되어야 한다"
   ]
  },
  {
   "cell_type": "code",
   "execution_count": null,
   "id": "2d2d94fe",
   "metadata": {},
   "outputs": [],
   "source": []
  },
  {
   "cell_type": "markdown",
   "id": "f89bd7d2",
   "metadata": {},
   "source": [
    "## 1-1  고정 위치와 고정 키워드인자 매개변수 알아보기\n",
    "\n",
    "- 함수를 정의할 때 매개변수와 인자가 항상 동일하게 매핑되는 경우\n",
    "-"
   ]
  },
  {
   "cell_type": "markdown",
   "id": "4c5574c8",
   "metadata": {},
   "source": [
    "### 1-1-1 파이썬에서 위치 인자(positional argument)\n",
    "\n",
    "- 변수명과 상관없이 매개변수 위치에 따라 함수 호출시 할당하는 경우 "
   ]
  },
  {
   "cell_type": "code",
   "execution_count": 7,
   "id": "7d1e8206",
   "metadata": {},
   "outputs": [],
   "source": [
    "def add(a, b):\n",
    "    \n",
    "    print(\" local 네임스페이스 : \", locals())\n",
    "    return a + b"
   ]
  },
  {
   "cell_type": "code",
   "execution_count": 8,
   "id": "fb5443ae",
   "metadata": {},
   "outputs": [
    {
     "name": "stdout",
     "output_type": "stream",
     "text": [
      " local 네임스페이스 :  {'a': 3, 'b': 5}\n",
      "8\n"
     ]
    }
   ],
   "source": [
    "result = add(3, 5)\n",
    "print(result)"
   ]
  },
  {
   "cell_type": "code",
   "execution_count": null,
   "id": "bd0ac96a",
   "metadata": {},
   "outputs": [],
   "source": []
  },
  {
   "cell_type": "markdown",
   "id": "7be2c63f",
   "metadata": {},
   "source": [
    "## 1-1-2 키워드 인자(keyword argument)\n",
    "\n",
    "-  매개변수의 이름을 지정해서 값을 전달하는 경우  \n",
    "-  키워드 인자는 위치인자 처럼 순서와 상관없이 이름으로 매핑됨"
   ]
  },
  {
   "cell_type": "code",
   "execution_count": 9,
   "id": "81687776",
   "metadata": {},
   "outputs": [],
   "source": [
    "def greet(name, greeting):\n",
    "    return f\"{greeting}, {name}!\""
   ]
  },
  {
   "cell_type": "code",
   "execution_count": 10,
   "id": "b5610dd0",
   "metadata": {},
   "outputs": [
    {
     "name": "stdout",
     "output_type": "stream",
     "text": [
      "Hello, Alice!\n"
     ]
    }
   ],
   "source": [
    "result = greet(name=\"Alice\", greeting=\"Hello\")\n",
    "print(result)"
   ]
  },
  {
   "cell_type": "code",
   "execution_count": null,
   "id": "2e4b9006",
   "metadata": {},
   "outputs": [],
   "source": []
  },
  {
   "cell_type": "markdown",
   "id": "0e9f543d",
   "metadata": {},
   "source": [
    "## 1-1-3  위치인자와 키워드인자 혼용처리 \n",
    "\n",
    "- 고정인 경우는 위치인자와 키워드인자를 혼용해서 사용할 수 있다.  "
   ]
  },
  {
   "cell_type": "code",
   "execution_count": 11,
   "id": "865cab8a",
   "metadata": {},
   "outputs": [],
   "source": [
    "def abcd(a, b, c, d):\n",
    "    return f\"a={a}, b={b}, c={c}, d={d} !\""
   ]
  },
  {
   "cell_type": "code",
   "execution_count": null,
   "id": "02165793",
   "metadata": {},
   "outputs": [],
   "source": []
  },
  {
   "cell_type": "code",
   "execution_count": 12,
   "id": "db718844",
   "metadata": {},
   "outputs": [
    {
     "data": {
      "text/plain": [
       "'a=100, b=300, c=300, d=500 !'"
      ]
     },
     "execution_count": 12,
     "metadata": {},
     "output_type": "execute_result"
    }
   ],
   "source": [
    "abcd(100, c=300, d=500, b=300)"
   ]
  },
  {
   "cell_type": "markdown",
   "id": "17ce92b6",
   "metadata": {},
   "source": [
    "### 처음은 항상 위치인자부터 시작해야 함 "
   ]
  },
  {
   "cell_type": "code",
   "execution_count": 20,
   "id": "be8a2413",
   "metadata": {},
   "outputs": [
    {
     "ename": "SyntaxError",
     "evalue": "positional argument follows keyword argument (851648663.py, line 1)",
     "output_type": "error",
     "traceback": [
      "\u001b[0;36m  Cell \u001b[0;32mIn[20], line 1\u001b[0;36m\u001b[0m\n\u001b[0;31m    abcd(a=100,300, d=500, c=300)\u001b[0m\n\u001b[0m                                ^\u001b[0m\n\u001b[0;31mSyntaxError\u001b[0m\u001b[0;31m:\u001b[0m positional argument follows keyword argument\n"
     ]
    }
   ],
   "source": [
    "abcd(a=100,300, d=500, c=300)"
   ]
  },
  {
   "cell_type": "code",
   "execution_count": null,
   "id": "a309cdc3",
   "metadata": {},
   "outputs": [],
   "source": []
  },
  {
   "cell_type": "code",
   "execution_count": null,
   "id": "e98d32e0",
   "metadata": {},
   "outputs": [],
   "source": []
  },
  {
   "cell_type": "markdown",
   "id": "42a6de08",
   "metadata": {},
   "source": [
    "## 1-2  가변 위치와 가변 키워드인자 매개변수 알아보기\n",
    "\n",
    "- 가변은 하나의 매개변수에 위치인자와 키워드인자를 안 받거나 여러 개를 연속으로 받을 수 있다."
   ]
  },
  {
   "cell_type": "code",
   "execution_count": null,
   "id": "6db10fe0",
   "metadata": {},
   "outputs": [],
   "source": []
  },
  {
   "cell_type": "markdown",
   "id": "5e4031ae",
   "metadata": {},
   "source": [
    "## 1-2-1 가변 위치 인자(variable positional argument)\n",
    "\n",
    "- 별표를 args 앞에 붙인다.\n",
    "- 인자가 0 부터 무한정 넣을 수 있지만 실제 매개변수는 args 하나이다.\n",
    "- 가변위치인자는 하나로 관리해서 실제 튜플로 관리"
   ]
  },
  {
   "cell_type": "code",
   "execution_count": null,
   "id": "33f69af5",
   "metadata": {},
   "outputs": [],
   "source": []
  },
  {
   "cell_type": "code",
   "execution_count": 21,
   "id": "b5f4214d",
   "metadata": {},
   "outputs": [],
   "source": [
    "def add(*args):\n",
    "    result = 0\n",
    "    \n",
    "    print(\"가변위치인자 자료형 : \", args.__class__.__name__)\n",
    "    for num in args:\n",
    "        result += num\n",
    "    return result\n"
   ]
  },
  {
   "cell_type": "code",
   "execution_count": 22,
   "id": "ae9c3189",
   "metadata": {},
   "outputs": [
    {
     "name": "stdout",
     "output_type": "stream",
     "text": [
      "가변위치인자 자료형 :  tuple\n",
      "15\n"
     ]
    }
   ],
   "source": [
    "# 함수 호출\n",
    "sum_result = add(1, 2, 3, 4, 5)\n",
    "print(sum_result)"
   ]
  },
  {
   "cell_type": "code",
   "execution_count": null,
   "id": "8d7a9790",
   "metadata": {},
   "outputs": [],
   "source": []
  },
  {
   "cell_type": "markdown",
   "id": "3180a07c",
   "metadata": {},
   "source": [
    "## 1-2-1 가변 키워드 인자(variable keyword argument) \n",
    "\n",
    "- 별표 두 개를 kwargs 앞에 붙인다.\n",
    "- 인자가 0 부터 무한정 넣을 수 있지만 실제 매개변수는 kwargs 하나이다.\n",
    "- 가변 키워드인자는 하나로 관리해서 실제 딕셔너리로 관리"
   ]
  },
  {
   "cell_type": "code",
   "execution_count": 23,
   "id": "a67c1a7a",
   "metadata": {},
   "outputs": [],
   "source": [
    "def print_info(**kwargs):\n",
    "    \n",
    "    print(\"가변 키워드인자 자료형 : \", kwargs.__class__.__name__)\n",
    "    for key, value in kwargs.items():\n",
    "        print(f\"{key}: {value}\")\n",
    "\n"
   ]
  },
  {
   "cell_type": "code",
   "execution_count": null,
   "id": "e4f0b3cc",
   "metadata": {},
   "outputs": [],
   "source": []
  },
  {
   "cell_type": "code",
   "execution_count": null,
   "id": "2c668b02",
   "metadata": {},
   "outputs": [],
   "source": [
    "\n",
    "# 함수 호출\n",
    "print_info(name=\"Alice\", age=30, city=\"Wonderland\")"
   ]
  },
  {
   "cell_type": "code",
   "execution_count": null,
   "id": "c2a8ca1f",
   "metadata": {},
   "outputs": [],
   "source": []
  },
  {
   "cell_type": "markdown",
   "id": "549c7cbc",
   "metadata": {},
   "source": [
    "## 1-3 매개변수 혼용하기"
   ]
  },
  {
   "cell_type": "code",
   "execution_count": null,
   "id": "e58826d1",
   "metadata": {},
   "outputs": [],
   "source": []
  },
  {
   "cell_type": "markdown",
   "id": "01da2713",
   "metadata": {},
   "source": [
    "## 1-3-1 매개변수 정의 순서 \n",
    "\n",
    "- 위치 매개변수(Positional Arguments) > 가변 위치 인자 (Variable Positional Arguments) > \n",
    "- 키워드 인자 (Keyword Arguments) > 가변 키워드 인자 (Variable Keyword Arguments)"
   ]
  },
  {
   "cell_type": "code",
   "execution_count": null,
   "id": "6bfbcbe3",
   "metadata": {},
   "outputs": [],
   "source": []
  },
  {
   "cell_type": "code",
   "execution_count": 15,
   "id": "623c020e",
   "metadata": {},
   "outputs": [],
   "source": [
    "def example_function(param1, param2=\"default_value\", *args, **kwargs):\n",
    "    # 함수 내용\n",
    "    pass\n"
   ]
  },
  {
   "cell_type": "markdown",
   "id": "96fc815f",
   "metadata": {},
   "source": [
    "## 1-3-2  매개변수 분리 \n",
    "- 파이썬 3.8 이상에서는 /를 사용하여 위치 전용 매개변수를 정의할 수 있습니다. \n",
    "- 위치 전용 매개변수는 / 앞에 나오는 매개변수들은 위치 인자로만 전달되어야 하며, \n",
    "- 이후의 매개변수들은 위치 인자나 키워드 인자로 모두 전달될 수 있습니다.\n",
    "\n"
   ]
  },
  {
   "cell_type": "markdown",
   "id": "2a8b0e51",
   "metadata": {},
   "source": [
    "- param1과 param2는 위치 전용 매개변수이며 위치 인자로만 전달되어야 합니다. \n",
    "- 그 다음은  위치나 키워드 인자로 전달될 수 있습니다."
   ]
  },
  {
   "cell_type": "code",
   "execution_count": 16,
   "id": "bede430a",
   "metadata": {},
   "outputs": [],
   "source": [
    "def example_function1(param1, param2=\"default_value\",/, *args, **kwargs):\n",
    "    # 함수 내용\n",
    "    pass"
   ]
  },
  {
   "cell_type": "code",
   "execution_count": null,
   "id": "ec49da83",
   "metadata": {},
   "outputs": [],
   "source": []
  },
  {
   "cell_type": "code",
   "execution_count": null,
   "id": "42e3f896",
   "metadata": {},
   "outputs": [],
   "source": []
  },
  {
   "cell_type": "markdown",
   "id": "8597a6a7",
   "metadata": {},
   "source": [
    "## 1-3-3 매개변수 혼용 처리"
   ]
  },
  {
   "cell_type": "code",
   "execution_count": null,
   "id": "61ac5c08",
   "metadata": {},
   "outputs": [],
   "source": []
  },
  {
   "cell_type": "code",
   "execution_count": 17,
   "id": "c6376648",
   "metadata": {},
   "outputs": [],
   "source": [
    "def example_function3(param1, param2, /, *args,param3, param4, kwarg1=\"default_value\", **kwargs):\n",
    "    # 함수 내용\n",
    "    pass\n"
   ]
  },
  {
   "cell_type": "code",
   "execution_count": null,
   "id": "d15eabad",
   "metadata": {},
   "outputs": [],
   "source": []
  },
  {
   "cell_type": "code",
   "execution_count": 18,
   "id": "98cc7d2d",
   "metadata": {},
   "outputs": [],
   "source": [
    "def example_function4( *args, **kwargs):\n",
    "    # 함수 내용\n",
    "    pass"
   ]
  },
  {
   "cell_type": "code",
   "execution_count": null,
   "id": "d41213e7",
   "metadata": {},
   "outputs": [],
   "source": []
  },
  {
   "cell_type": "markdown",
   "id": "9e7651eb",
   "metadata": {},
   "source": [
    "## 2   인자 패킹과 언패킹 처리하기 "
   ]
  },
  {
   "cell_type": "code",
   "execution_count": null,
   "id": "104fd53f",
   "metadata": {},
   "outputs": [],
   "source": []
  },
  {
   "cell_type": "markdown",
   "id": "f179604e",
   "metadata": {},
   "source": [
    "## 2-1  패킹\n",
    "\n",
    "-  패킹은 여러 개의 값을 하나로 변수로 묶는 것을 말함 "
   ]
  },
  {
   "cell_type": "markdown",
   "id": "5bdf8fbb",
   "metadata": {},
   "source": [
    "## 2-1-1 변수의 갯수와 값의 개수가 다른 경우 \n",
    "\n",
    "-  변수 앞에 별표를 붙여서 나머지 원소를 하나로 묶음"
   ]
  },
  {
   "cell_type": "code",
   "execution_count": 25,
   "id": "b256beda",
   "metadata": {},
   "outputs": [],
   "source": [
    "x,*y = [1,2,3,4,5,]"
   ]
  },
  {
   "cell_type": "code",
   "execution_count": 26,
   "id": "1b12612e",
   "metadata": {},
   "outputs": [
    {
     "data": {
      "text/plain": [
       "[2, 3, 4, 5]"
      ]
     },
     "execution_count": 26,
     "metadata": {},
     "output_type": "execute_result"
    }
   ],
   "source": [
    "y"
   ]
  },
  {
   "cell_type": "code",
   "execution_count": null,
   "id": "81b1060d",
   "metadata": {},
   "outputs": [],
   "source": []
  },
  {
   "cell_type": "markdown",
   "id": "0fcf4934",
   "metadata": {},
   "source": [
    "## 2-2-2 함수 매개변수\n",
    "\n",
    "- 함수매개변수를 가변매개변수로 지정하면 패킹일 발생함 "
   ]
  },
  {
   "cell_type": "code",
   "execution_count": 31,
   "id": "4e90c78c",
   "metadata": {},
   "outputs": [],
   "source": [
    "def sumlist(*list_) :\n",
    "    return sum(list_)"
   ]
  },
  {
   "cell_type": "code",
   "execution_count": null,
   "id": "b880519d",
   "metadata": {},
   "outputs": [],
   "source": []
  },
  {
   "cell_type": "code",
   "execution_count": 32,
   "id": "d7fa084b",
   "metadata": {},
   "outputs": [
    {
     "data": {
      "text/plain": [
       "15"
      ]
     },
     "execution_count": 32,
     "metadata": {},
     "output_type": "execute_result"
    }
   ],
   "source": [
    "sumlist(1,2,3,4,5)"
   ]
  },
  {
   "cell_type": "code",
   "execution_count": null,
   "id": "83bbf7d9",
   "metadata": {},
   "outputs": [],
   "source": []
  },
  {
   "cell_type": "markdown",
   "id": "36faed6c",
   "metadata": {},
   "source": [
    "## 2-2 언패킹\n",
    "\n",
    "- 하나를 여러 개의 값으로 분리하는 것을 말함 "
   ]
  },
  {
   "cell_type": "code",
   "execution_count": null,
   "id": "4243eac3",
   "metadata": {},
   "outputs": [],
   "source": []
  },
  {
   "cell_type": "markdown",
   "id": "610d8d50",
   "metadata": {},
   "source": [
    "## 2-2-1 함수매개변수 언패킹\n",
    "\n",
    "-  함수를 정의할 때는 항상 패킹이 발생한다.\n",
    "-  함수를 정의할 때 가변으로 지정하면 함수를 호출할때 인자는 항상 언패킹해서 처리함"
   ]
  },
  {
   "cell_type": "markdown",
   "id": "eb90aeff",
   "metadata": {},
   "source": [
    "## dict 객체 만들때 언패킹 처리 "
   ]
  },
  {
   "cell_type": "code",
   "execution_count": 38,
   "id": "fee0aa7b",
   "metadata": {},
   "outputs": [],
   "source": [
    "dd = {'1':1,'2':2,'3':3,'4':4,'5':5}"
   ]
  },
  {
   "cell_type": "code",
   "execution_count": 40,
   "id": "7fdc9d03",
   "metadata": {},
   "outputs": [
    {
     "data": {
      "text/plain": [
       "{'1': 1, '2': 2, '3': 3, '4': 4, '5': 5}"
      ]
     },
     "execution_count": 40,
     "metadata": {},
     "output_type": "execute_result"
    }
   ],
   "source": [
    "dict(**dd)"
   ]
  },
  {
   "cell_type": "code",
   "execution_count": null,
   "id": "c8c00d74",
   "metadata": {},
   "outputs": [],
   "source": []
  },
  {
   "cell_type": "markdown",
   "id": "2e114187",
   "metadata": {},
   "source": [
    "## 함수를 호출할 때 언패팅 처리 "
   ]
  },
  {
   "cell_type": "code",
   "execution_count": 41,
   "id": "d48a6918",
   "metadata": {},
   "outputs": [],
   "source": [
    "def sumlist_(*list_) :\n",
    "    print(list)\n",
    "    return sum(list_)"
   ]
  },
  {
   "cell_type": "code",
   "execution_count": 42,
   "id": "7fccdf4d",
   "metadata": {},
   "outputs": [],
   "source": [
    "ll =[1,2,3,4,5,6,]"
   ]
  },
  {
   "cell_type": "code",
   "execution_count": 43,
   "id": "de56e490",
   "metadata": {},
   "outputs": [
    {
     "name": "stdout",
     "output_type": "stream",
     "text": [
      "<class 'list'>\n"
     ]
    },
    {
     "data": {
      "text/plain": [
       "21"
      ]
     },
     "execution_count": 43,
     "metadata": {},
     "output_type": "execute_result"
    }
   ],
   "source": [
    " sumlist_(*ll)"
   ]
  },
  {
   "cell_type": "markdown",
   "id": "8d9de3b8",
   "metadata": {},
   "source": [
    "### 언패킹하지 않고 리스트를 전달하면 내부 원소값을 처리할 수 없어서 에러 발생 "
   ]
  },
  {
   "cell_type": "code",
   "execution_count": 44,
   "id": "603ce08b",
   "metadata": {},
   "outputs": [
    {
     "name": "stdout",
     "output_type": "stream",
     "text": [
      "<class 'list'>\n"
     ]
    },
    {
     "ename": "TypeError",
     "evalue": "unsupported operand type(s) for +: 'int' and 'list'",
     "output_type": "error",
     "traceback": [
      "\u001b[0;31m---------------------------------------------------------------------------\u001b[0m",
      "\u001b[0;31mTypeError\u001b[0m                                 Traceback (most recent call last)",
      "Cell \u001b[0;32mIn[44], line 1\u001b[0m\n\u001b[0;32m----> 1\u001b[0m \u001b[43msumlist_\u001b[49m\u001b[43m(\u001b[49m\u001b[43mll\u001b[49m\u001b[43m)\u001b[49m\n",
      "Cell \u001b[0;32mIn[41], line 3\u001b[0m, in \u001b[0;36msumlist_\u001b[0;34m(*list_)\u001b[0m\n\u001b[1;32m      1\u001b[0m \u001b[38;5;28;01mdef\u001b[39;00m \u001b[38;5;21msumlist_\u001b[39m(\u001b[38;5;241m*\u001b[39mlist_) :\n\u001b[1;32m      2\u001b[0m     \u001b[38;5;28mprint\u001b[39m(\u001b[38;5;28mlist\u001b[39m)\n\u001b[0;32m----> 3\u001b[0m     \u001b[38;5;28;01mreturn\u001b[39;00m \u001b[38;5;28;43msum\u001b[39;49m\u001b[43m(\u001b[49m\u001b[43mlist_\u001b[49m\u001b[43m)\u001b[49m\n",
      "\u001b[0;31mTypeError\u001b[0m: unsupported operand type(s) for +: 'int' and 'list'"
     ]
    }
   ],
   "source": [
    " sumlist_(ll)"
   ]
  },
  {
   "cell_type": "code",
   "execution_count": null,
   "id": "19aa6040",
   "metadata": {},
   "outputs": [],
   "source": []
  },
  {
   "cell_type": "code",
   "execution_count": null,
   "id": "73d6e846",
   "metadata": {},
   "outputs": [],
   "source": []
  },
  {
   "cell_type": "markdown",
   "id": "af91f293",
   "metadata": {},
   "source": [
    "## 3 함수 제너릭 이해하기 \n",
    "\n",
    "### 함수 제네릭의 특징은 다음과 같습니다:\n",
    "\n",
    "- 다양한 타입 지원: 제네릭 함수는 다양한 타입에 대해 동작할 수 있도록 설계됩니다. 즉, 특정 타입에 의존하지 않고 여러 종류의 데이터나 객체에 대해 작동할 수 있습니다.\n",
    "\n",
    "- 타입 안전성: 제네릭을 사용하면 컴파일러가 코드에서 발생할 수 있는 타입 관련 오류를 미리 감지할 수 있습니다. 이는 런타임에 발생하는 일부 오류를 컴파일 시간에 처리할 수 있게 해줍니다.\n",
    "\n",
    "- 코드의 재사용: 제네릭 함수를 사용하면 동일한 로직을 다양한 데이터 타입에 적용할 수 있으므로 코드의 재사용성이 향상됩니다. 각각의 특정 타입에 대해 동작하는 함수를 별도로 작성할 필요가 없어집니다.\n",
    "\n",
    "- 알고리즘 일반화: 제네릭 함수를 사용하면 일반적인 알고리즘을 구현할 수 있습니다. 예를 들어, 정렬, 검색, 데이터 구조 등의 알고리즘을 하나의 함수로 작성하고 다양한 타입에 적용할 수 있습니다.\n",
    "\n",
    "- 코드의 간결성: 제네릭을 사용하면 타입에 독립적인 일반적인 로직을 작성할 수 있으므로 코드가 더 간결하고 읽기 쉬워집니다."
   ]
  },
  {
   "cell_type": "markdown",
   "id": "e546f199",
   "metadata": {},
   "source": [
    "## 3-1 타입힌트를 사용해서 제너릭 처리 "
   ]
  },
  {
   "cell_type": "code",
   "execution_count": 45,
   "id": "6445c072",
   "metadata": {},
   "outputs": [
    {
     "name": "stdout",
     "output_type": "stream",
     "text": [
      "apple\n",
      "banana\n",
      "orange\n",
      "1\n",
      "2\n",
      "3\n",
      "4\n",
      "5\n"
     ]
    }
   ],
   "source": [
    "from typing import List, TypeVar\n",
    "\n",
    "# TypeVar는 제네릭 타입 변수를 나타냅니다.\n",
    "T = TypeVar('T')\n",
    "\n",
    "def print_list(items: List[T]) -> None:\n",
    "    for item in items:\n",
    "        print(item)\n",
    "\n",
    "# 다양한 타입의 리스트를 출력할 수 있습니다.\n",
    "string_list = ['apple', 'banana', 'orange']\n",
    "number_list = [1, 2, 3, 4, 5]\n",
    "\n",
    "print_list(string_list)\n",
    "print_list(number_list)\n"
   ]
  },
  {
   "cell_type": "code",
   "execution_count": null,
   "id": "d87a3079",
   "metadata": {},
   "outputs": [],
   "source": []
  },
  {
   "cell_type": "markdown",
   "id": "ba1cfe20",
   "metadata": {},
   "source": [
    "## 3-2 가변인자를 사용한 제너릭 처리 "
   ]
  },
  {
   "cell_type": "code",
   "execution_count": 46,
   "id": "77c17d1b",
   "metadata": {},
   "outputs": [
    {
     "name": "stdout",
     "output_type": "stream",
     "text": [
      "name: Alice\n",
      "age: 30\n",
      "city: Wonderland\n",
      "item: Book\n",
      "price: 20.99\n",
      "quantity: 3\n"
     ]
    }
   ],
   "source": [
    "from typing import Any, Dict\n",
    "\n",
    "def print_key_value_pairs(**kwargs: Any) -> None:\n",
    "    for key, value in kwargs.items():\n",
    "        print(f\"{key}: {value}\")\n",
    "\n",
    "# 다양한 타입의 키와 값을 가진 딕셔너리를 처리할 수 있습니다.\n",
    "kwargs1 = {'name': 'Alice', 'age': 30, 'city': 'Wonderland'}\n",
    "kwargs2 = {'item': 'Book', 'price': 20.99, 'quantity': 3}\n",
    "\n",
    "print_key_value_pairs(**kwargs1)\n",
    "print_key_value_pairs(**kwargs2)\n"
   ]
  },
  {
   "cell_type": "code",
   "execution_count": null,
   "id": "b2351405",
   "metadata": {},
   "outputs": [],
   "source": []
  },
  {
   "cell_type": "code",
   "execution_count": null,
   "id": "8923068a",
   "metadata": {},
   "outputs": [],
   "source": []
  },
  {
   "cell_type": "markdown",
   "id": "47a71d0d",
   "metadata": {},
   "source": [
    "# 4. 활용 "
   ]
  },
  {
   "cell_type": "code",
   "execution_count": null,
   "id": "0c4ca5de",
   "metadata": {},
   "outputs": [],
   "source": []
  },
  {
   "cell_type": "markdown",
   "id": "8709f172",
   "metadata": {},
   "source": [
    "## 4-1 데코레이터 반영하기 "
   ]
  },
  {
   "cell_type": "code",
   "execution_count": null,
   "id": "5ac30ac1",
   "metadata": {},
   "outputs": [],
   "source": []
  },
  {
   "cell_type": "code",
   "execution_count": 72,
   "id": "26928cba",
   "metadata": {},
   "outputs": [
    {
     "name": "stdout",
     "output_type": "stream",
     "text": [
      "Decorator argument: Decorator Argument\n",
      "Something is happening before the function is called.\n",
      "Hello, Alice!\n",
      "Something is happening after the function is called.\n"
     ]
    }
   ],
   "source": [
    "def my_decorator(arg):\n",
    "    def decorator(func):\n",
    "        def wrapper(*args, **kwargs):\n",
    "            print(f\"Decorator argument: {arg}\")\n",
    "            print(\"Something is happening before the function is called.\")\n",
    "            result = func(*args, **kwargs)\n",
    "            print(\"Something is happening after the function is called.\")\n",
    "            return result\n",
    "        return wrapper\n",
    "    return decorator\n",
    "\n",
    "# 인자를 받는 데코레이터 적용\n",
    "@my_decorator(\"Decorator Argument\")\n",
    "def say_hello(name):\n",
    "    print(f\"Hello, {name}!\")\n",
    "\n",
    "# 데코레이터가 추가된 함수 호출\n",
    "say_hello(\"Alice\")\n"
   ]
  },
  {
   "cell_type": "code",
   "execution_count": null,
   "id": "e00c1820",
   "metadata": {},
   "outputs": [],
   "source": []
  },
  {
   "cell_type": "markdown",
   "id": "6c16fc1d",
   "metadata": {},
   "source": [
    "## 4-2 메서드 오버로딩 "
   ]
  },
  {
   "cell_type": "markdown",
   "id": "3302fe14",
   "metadata": {},
   "source": [
    "## 메서드 오버로딩을 단수하게 처리 "
   ]
  },
  {
   "cell_type": "code",
   "execution_count": 47,
   "id": "4b9fcc64",
   "metadata": {},
   "outputs": [
    {
     "name": "stdout",
     "output_type": "stream",
     "text": [
      "Case 1: param1=value1\n",
      "Case 2: param1=value1, param2=value2\n",
      "Case 2: param1=value1, param2=value2\n",
      "Additional argument: value3\n",
      "Additional keyword argument: additional_key=value4\n"
     ]
    }
   ],
   "source": [
    "class OverloadExample:\n",
    "    def example_method(self, param1, param2=None, *args, **kwargs):\n",
    "        if param2 is None:\n",
    "            # param2가 주어지지 않은 경우\n",
    "            print(f\"Case 1: param1={param1}\")\n",
    "        else:\n",
    "            # param2가 주어진 경우\n",
    "            print(f\"Case 2: param1={param1}, param2={param2}\")\n",
    "\n",
    "        # 추가적인 위치 인자 처리\n",
    "        for arg in args:\n",
    "            print(f\"Additional argument: {arg}\")\n",
    "\n",
    "        # 추가적인 키워드 인자 처리\n",
    "        for key, value in kwargs.items():\n",
    "            print(f\"Additional keyword argument: {key}={value}\")\n",
    "\n",
    "# 객체 생성\n",
    "obj = OverloadExample()\n",
    "\n",
    "# 메서드 호출\n",
    "obj.example_method(\"value1\")\n",
    "obj.example_method(\"value1\", \"value2\")\n",
    "obj.example_method(\"value1\", \"value2\", \"value3\", additional_key=\"value4\")\n"
   ]
  },
  {
   "cell_type": "code",
   "execution_count": null,
   "id": "051b33f5",
   "metadata": {},
   "outputs": [],
   "source": []
  },
  {
   "cell_type": "markdown",
   "id": "62fd8298",
   "metadata": {},
   "source": [
    "## 다른 모듈을 사용한 메서드 오버로딩 처리 "
   ]
  },
  {
   "cell_type": "code",
   "execution_count": 61,
   "id": "04855fdf",
   "metadata": {},
   "outputs": [
    {
     "name": "stdout",
     "output_type": "stream",
     "text": [
      "200\n",
      "6000\n",
      "6181.806\n",
      "30\n",
      "hello world\n"
     ]
    }
   ],
   "source": [
    "from multipledispatch import dispatch\n",
    "\n",
    "\n",
    "class Sample3(object):\n",
    "    @dispatch(int, int)\n",
    "    def mul(x, y):\n",
    "        return x * y\n",
    "\n",
    "    @dispatch(int, int, int)\n",
    "    def mul(x, y, z):\n",
    "        return x * y * z\n",
    "\n",
    "    @dispatch(float, float, float)\n",
    "    def mul(x, y, z):\n",
    "        return x * y * z\n",
    "\n",
    "    @dispatch(int, int)\n",
    "    def add(x, y):\n",
    "        return x + y\n",
    "\n",
    "    @dispatch(str, str)\n",
    "    def add(x, y):\n",
    "        return \" \".join([x, y])\n",
    "\n",
    "\n",
    "sample3 = Sample3()\n",
    "print(sample3.mul(10, 20))\n",
    "print(sample3.mul(10, 20, 30))\n",
    "print(sample3.mul(10.1, 20.2, 30.3))\n",
    "print(sample3.add(10, 20))\n",
    "print(sample3.add(\"hello\", \"world\"))"
   ]
  },
  {
   "cell_type": "markdown",
   "id": "c4889071",
   "metadata": {},
   "source": [
    "## 오버로딩을 사용해서 오버로딩하기 "
   ]
  },
  {
   "cell_type": "code",
   "execution_count": 65,
   "id": "3c337166",
   "metadata": {},
   "outputs": [
    {
     "name": "stdout",
     "output_type": "stream",
     "text": [
      "second method 2\n"
     ]
    }
   ],
   "source": [
    "from typing import overload\n",
    "from typing import Any, Optional\n",
    "\n",
    "\n",
    "class A(object):\n",
    "    @overload\n",
    "    def stackoverflow(self) -> None:    \n",
    "        print('first method')\n",
    "    @overload\n",
    "    def stackoverflow(self, i: Any) -> None:\n",
    "        print('second method', i)\n",
    "    def stackoverflow(self, i: Optional[Any] = None) -> None:\n",
    "        if not i:\n",
    "            print('first method')\n",
    "        else:\n",
    "            print('second method', i)\n",
    "\n",
    "ob=A()\n",
    "ob.stackoverflow(2)"
   ]
  },
  {
   "cell_type": "markdown",
   "id": "29201bbd",
   "metadata": {},
   "source": [
    "## 오버로드 모듈 사용하기\n",
    "\n",
    "-  pip install overload 먼저 하기 "
   ]
  },
  {
   "cell_type": "code",
   "execution_count": 68,
   "id": "eb148c8b",
   "metadata": {},
   "outputs": [],
   "source": [
    "from overload  import overload"
   ]
  },
  {
   "cell_type": "code",
   "execution_count": 69,
   "id": "647d7e0a",
   "metadata": {},
   "outputs": [],
   "source": [
    "class A(object):\n",
    "    \n",
    "    @overload\n",
    "    def method(self, a):\n",
    "          return 'a'\n",
    "        \n",
    "    @method.add\n",
    "    def method(self, a, b):\n",
    "          return 'a, b'\n",
    "    \n",
    "    \n",
    "\n",
    "a = A()\n"
   ]
  },
  {
   "cell_type": "code",
   "execution_count": 70,
   "id": "e722571e",
   "metadata": {},
   "outputs": [
    {
     "data": {
      "text/plain": [
       "'a'"
      ]
     },
     "execution_count": 70,
     "metadata": {},
     "output_type": "execute_result"
    }
   ],
   "source": [
    "a.method(1)"
   ]
  },
  {
   "cell_type": "code",
   "execution_count": 71,
   "id": "ea031b7c",
   "metadata": {},
   "outputs": [
    {
     "data": {
      "text/plain": [
       "'a'"
      ]
     },
     "execution_count": 71,
     "metadata": {},
     "output_type": "execute_result"
    }
   ],
   "source": [
    "a.method(1)"
   ]
  },
  {
   "cell_type": "code",
   "execution_count": null,
   "id": "14d2589a",
   "metadata": {},
   "outputs": [],
   "source": []
  },
  {
   "cell_type": "markdown",
   "id": "476a313b",
   "metadata": {},
   "source": [
    "## 4-3 함수 오버로딩 처리 "
   ]
  },
  {
   "cell_type": "markdown",
   "id": "7284fd39",
   "metadata": {},
   "source": [
    "## 하나의 매개변수를 오버로딩 처리"
   ]
  },
  {
   "cell_type": "code",
   "execution_count": 48,
   "id": "3869b531",
   "metadata": {},
   "outputs": [
    {
     "name": "stdout",
     "output_type": "stream",
     "text": [
      "Integer case: 42\n",
      "String case: Hello\n",
      "List case: [1, 2, 3]\n",
      "Default case: 3.14\n"
     ]
    }
   ],
   "source": [
    "from functools import singledispatch\n",
    "\n",
    "@singledispatch\n",
    "def example_method(arg):\n",
    "    print(f\"Default case: {arg}\")\n",
    "\n",
    "@example_method.register(int)\n",
    "def _(arg):\n",
    "    print(f\"Integer case: {arg}\")\n",
    "\n",
    "@example_method.register(str)\n",
    "def _(arg):\n",
    "    print(f\"String case: {arg}\")\n",
    "\n",
    "@example_method.register(list)\n",
    "def _(arg):\n",
    "    print(f\"List case: {arg}\")\n",
    "\n",
    "# 호출 예제\n",
    "example_method(42)\n",
    "example_method(\"Hello\")\n",
    "example_method([1, 2, 3])\n",
    "example_method(3.14)  # 기본 케이스로 처리됨\n"
   ]
  },
  {
   "cell_type": "markdown",
   "id": "11d17d09",
   "metadata": {},
   "source": [
    "## 여러 매개변수를 사용한 오버로딩 처리 "
   ]
  },
  {
   "cell_type": "code",
   "execution_count": 49,
   "id": "3ed81ec9",
   "metadata": {},
   "outputs": [
    {
     "name": "stdout",
     "output_type": "stream",
     "text": [
      "Integer case: 42\n",
      "String case: Hello\n",
      "List case: [1, 2, 3]\n"
     ]
    }
   ],
   "source": [
    "from multipledispatch import dispatch\n",
    "\n",
    "@dispatch(int)\n",
    "def example_method(arg):\n",
    "    print(f\"Integer case: {arg}\")\n",
    "\n",
    "@dispatch(str)\n",
    "def example_method(arg):\n",
    "    print(f\"String case: {arg}\")\n",
    "\n",
    "@dispatch(list)\n",
    "def example_method(arg):\n",
    "    print(f\"List case: {arg}\")\n",
    "\n",
    "# 호출 예제\n",
    "example_method(42)\n",
    "example_method(\"Hello\")\n",
    "example_method([1, 2, 3])\n"
   ]
  },
  {
   "cell_type": "code",
   "execution_count": null,
   "id": "b086385d",
   "metadata": {},
   "outputs": [],
   "source": []
  }
 ],
 "metadata": {
  "kernelspec": {
   "display_name": "Python 3 (ipykernel)",
   "language": "python",
   "name": "python3"
  },
  "language_info": {
   "codemirror_mode": {
    "name": "ipython",
    "version": 3
   },
   "file_extension": ".py",
   "mimetype": "text/x-python",
   "name": "python",
   "nbconvert_exporter": "python",
   "pygments_lexer": "ipython3",
   "version": "3.11.3"
  }
 },
 "nbformat": 4,
 "nbformat_minor": 5
}
