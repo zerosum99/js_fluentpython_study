{
 "cells": [
  {
   "cell_type": "code",
   "execution_count": null,
   "id": "7a9a962d",
   "metadata": {},
   "outputs": [],
   "source": []
  },
  {
   "cell_type": "code",
   "execution_count": null,
   "id": "bc886dac",
   "metadata": {},
   "outputs": [],
   "source": []
  },
  {
   "cell_type": "markdown",
   "id": "0e0f4e0e",
   "metadata": {},
   "source": [
    "## 1. 파이썬에서 싱글턴 패턴을 구현하는 방법 \n",
    "\n",
    "-  가장 간단한 방법은 클래스 내부에 클래스 변수로 인스턴스를 저장하고, \n",
    "- 인스턴스를 생성할 때마다 이를 확인하고 필요에 따라 새로운 인스턴스를 생성하는 것입니다.\n"
   ]
  },
  {
   "cell_type": "code",
   "execution_count": null,
   "id": "897d5592",
   "metadata": {},
   "outputs": [],
   "source": []
  },
  {
   "cell_type": "markdown",
   "id": "b6acbf59",
   "metadata": {},
   "source": [
    "## 클래스 속성을 사용해서 처리\n",
    "\n",
    "- Singleton 클래스는 _instance라는 클래스 변수를 가지고 있습니다. \n",
    "- 이 변수는 클래스의 유일한 인스턴스를 저장합니다. __new__() 메서드를 사용하여 인스턴스를 생성할 때마다 _instance 변수를 확인하고, \n",
    "- 이미 인스턴스가 생성되어 있는 경우 이를 반환하고, 그렇지 않은 경우에만 새로운 인스턴스를 생성합니다."
   ]
  },
  {
   "cell_type": "code",
   "execution_count": 1,
   "id": "dfeeef3d",
   "metadata": {},
   "outputs": [
    {
     "name": "stdout",
     "output_type": "stream",
     "text": [
      "True\n"
     ]
    }
   ],
   "source": [
    "class Singleton:\n",
    "    _instance = None\n",
    "\n",
    "    def __new__(cls):\n",
    "        if cls._instance is None:\n",
    "            cls._instance = super().__new__(cls)\n",
    "        return cls._instance\n",
    "\n",
    "# 사용 예제\n",
    "singleton1 = Singleton()\n",
    "singleton2 = Singleton()\n",
    "\n",
    "print(singleton1 is singleton2)  # True\n"
   ]
  },
  {
   "cell_type": "markdown",
   "id": "4c0b9e5a",
   "metadata": {},
   "source": [
    "## 2.  메타클래스를 정의해서 싱글턴 처리 알아보기"
   ]
  },
  {
   "cell_type": "markdown",
   "id": "6595ce18",
   "metadata": {},
   "source": [
    "### 사용자 메타클래스 정의 "
   ]
  },
  {
   "cell_type": "code",
   "execution_count": 3,
   "id": "f3af2b6f",
   "metadata": {},
   "outputs": [],
   "source": [
    "class SingletonMeta(type):\n",
    "    _instances = {}\n",
    "\n",
    "    def __call__(cls, *args, **kwargs):\n",
    "        if cls not in cls._instances:\n",
    "            cls._instances[cls] = super().__call__(*args, **kwargs)\n",
    "        return cls._instances[cls]\n"
   ]
  },
  {
   "cell_type": "markdown",
   "id": "736600bd",
   "metadata": {},
   "source": [
    "## 싱글턴 클래스 정의하고 처리 "
   ]
  },
  {
   "cell_type": "code",
   "execution_count": 4,
   "id": "8d307330",
   "metadata": {},
   "outputs": [
    {
     "name": "stdout",
     "output_type": "stream",
     "text": [
      "True\n",
      "Singleton Instance 1\n",
      "Singleton Instance 1\n"
     ]
    }
   ],
   "source": [
    "\n",
    "\n",
    "\n",
    "class Singleton(metaclass=SingletonMeta):\n",
    "    def __init__(self, value):\n",
    "        self.value = value\n",
    "\n",
    "\n",
    "# 사용 예제\n",
    "singleton1 = Singleton(\"Singleton Instance 1\")\n",
    "singleton2 = Singleton(\"Singleton Instance 2\")\n",
    "\n",
    "print(singleton1 is singleton2)  # True\n",
    "print(singleton1.value)  # Singleton Instance 1\n",
    "print(singleton2.value)  # Singleton Instance 1\n"
   ]
  },
  {
   "cell_type": "markdown",
   "id": "59e9ed04",
   "metadata": {},
   "source": [
    "## 사용자 메타 클래스 내에서 __new__ 호출 처리 "
   ]
  },
  {
   "cell_type": "code",
   "execution_count": 5,
   "id": "285076fe",
   "metadata": {},
   "outputs": [
    {
     "name": "stdout",
     "output_type": "stream",
     "text": [
      "True\n",
      "Singleton Instance 1\n",
      "Singleton Instance 1\n"
     ]
    }
   ],
   "source": [
    "class SingletonMeta2(type):\n",
    "    _instances = {}\n",
    "\n",
    "    def __call__(cls, *args, **kwargs):\n",
    "        if cls not in cls._instances:\n",
    "            cls._instances[cls] = cls.__new__(cls, *args, **kwargs)\n",
    "            cls.__init__(cls._instances[cls], *args, **kwargs)\n",
    "        return cls._instances[cls]\n",
    "\n",
    "\n",
    "class Singleton2(metaclass=SingletonMeta2):\n",
    "    def __init__(self, value):\n",
    "        self.value = value\n",
    "\n",
    "\n",
    "# 사용 예제\n",
    "singleton21 = Singleton2(\"Singleton Instance 1\")\n",
    "singleton22 = Singleton2(\"Singleton Instance 2\")\n",
    "\n",
    "print(singleton21 is singleton22)  # True\n",
    "print(singleton21.value)  # Singleton Instance 1\n",
    "print(singleton22.value)  # Singleton Instance 1\n"
   ]
  },
  {
   "cell_type": "markdown",
   "id": "80f572a6",
   "metadata": {},
   "source": [
    "## 클래스에 __new__ 클래스 정의"
   ]
  },
  {
   "cell_type": "code",
   "execution_count": 6,
   "id": "7a5e5070",
   "metadata": {},
   "outputs": [
    {
     "name": "stdout",
     "output_type": "stream",
     "text": [
      "True\n",
      "Singleton Instance 1\n",
      "Singleton Instance 1\n"
     ]
    }
   ],
   "source": [
    "class SingletonMeta3(type):\n",
    "    _instances = {}\n",
    "\n",
    "    def __call__(cls, *args, **kwargs):\n",
    "        if cls not in cls._instances:\n",
    "            cls._instances[cls] = cls.__new__(cls, *args, **kwargs)\n",
    "            cls.__init__(cls._instances[cls], *args, **kwargs)\n",
    "        return cls._instances[cls]\n",
    "\n",
    "\n",
    "class Singleton3(metaclass=SingletonMeta):\n",
    "    def __new__(cls, *args, **kwargs):\n",
    "        # 이미 인스턴스가 존재하는 경우 기존 인스턴스를 반환합니다.\n",
    "        if cls in cls._instances:\n",
    "            return cls._instances[cls]\n",
    "        # 새로운 인스턴스를 생성합니다.\n",
    "        return super().__new__(cls)\n",
    "\n",
    "    def __init__(self, value):\n",
    "        self.value = value\n",
    "\n",
    "\n",
    "# 사용 예제\n",
    "singleton31 = Singleton3(\"Singleton Instance 1\")\n",
    "singleton32 = Singleton3(\"Singleton Instance 2\")\n",
    "\n",
    "print(singleton31 is singleton32)  # True\n",
    "print(singleton31.value)  # Singleton Instance 1\n",
    "print(singleton32.value)  # Singleton Instance 1\n"
   ]
  },
  {
   "cell_type": "code",
   "execution_count": null,
   "id": "49d16f78",
   "metadata": {},
   "outputs": [],
   "source": []
  }
 ],
 "metadata": {
  "kernelspec": {
   "display_name": "Python 3 (ipykernel)",
   "language": "python",
   "name": "python3"
  },
  "language_info": {
   "codemirror_mode": {
    "name": "ipython",
    "version": 3
   },
   "file_extension": ".py",
   "mimetype": "text/x-python",
   "name": "python",
   "nbconvert_exporter": "python",
   "pygments_lexer": "ipython3",
   "version": "3.11.3"
  }
 },
 "nbformat": 4,
 "nbformat_minor": 5
}
