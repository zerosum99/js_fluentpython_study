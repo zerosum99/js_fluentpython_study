{
 "cells": [
  {
   "cell_type": "code",
   "execution_count": null,
   "id": "b6418c86",
   "metadata": {},
   "outputs": [],
   "source": []
  },
  {
   "cell_type": "markdown",
   "id": "b68d16a3",
   "metadata": {},
   "source": [
    "## 1. 순수 함수(pure function)의  특징 \n",
    "\n",
    "### 부작용이 없음 (No Side Effects):\n",
    "\n",
    "- 순수 함수는 함수 내부에서 외부 상태를 변경하지 않습니다. \n",
    "- 즉, 함수가 호출될 때마다 동일한 입력에 대해 동일한 결과를 반환합니다.\n",
    "\n",
    "\n",
    "### 외부 상태 변경 없음 (No Modification of External State):\n",
    "\n",
    "- 순수 함수는 외부 변수나 객체의 상태를 변경하지 않습니다. \n",
    "- 함수 내부에서 외부 상태를 읽을 수는 있지만 변경하지 않습니다.\n",
    "\n",
    "\n",
    "### 참조 투명성 (Referential Transparency):\n",
    "\n",
    "- 순수 함수는 동일한 입력에 대해 항상 동일한 출력을 반환하므로 참조 투명성을 갖습니다. \n",
    "- 이는 함수 호출을 해당 결과 값으로 대체할 수 있음을 의미합니다.\n",
    "### 결정론적 (Deterministic):\n",
    "\n",
    "- 순수 함수는 동일한 입력에 대해 항상 동일한 출력을 반환합니다. \n",
    "- 따라서 예측 가능하고 결정론적입니다."
   ]
  },
  {
   "cell_type": "code",
   "execution_count": null,
   "id": "7f148c41",
   "metadata": {},
   "outputs": [],
   "source": []
  },
  {
   "cell_type": "markdown",
   "id": "0d438c8e",
   "metadata": {},
   "source": [
    "# 2.  순수함수와 비순수함수 차이"
   ]
  },
  {
   "cell_type": "code",
   "execution_count": null,
   "id": "4537cc36",
   "metadata": {},
   "outputs": [],
   "source": []
  },
  {
   "cell_type": "markdown",
   "id": "ada7d933",
   "metadata": {},
   "source": [
    "## 2-1. 순수함수 처리 "
   ]
  },
  {
   "cell_type": "code",
   "execution_count": 1,
   "id": "a6960982",
   "metadata": {},
   "outputs": [
    {
     "data": {
      "text/plain": [
       "300"
      ]
     },
     "execution_count": 1,
     "metadata": {},
     "output_type": "execute_result"
    }
   ],
   "source": [
    "def add(x, y):\n",
    "    return x + y\n",
    "add(100,200)"
   ]
  },
  {
   "cell_type": "code",
   "execution_count": 2,
   "id": "cb97a315",
   "metadata": {},
   "outputs": [
    {
     "data": {
      "text/plain": [
       "15"
      ]
     },
     "execution_count": 2,
     "metadata": {},
     "output_type": "execute_result"
    }
   ],
   "source": [
    "def sum_list(nums):\n",
    "    total = 0\n",
    "    for num in nums:\n",
    "        total += num\n",
    "    return total\n",
    "\n",
    "sum_list([1,2,3,4,5])"
   ]
  },
  {
   "cell_type": "code",
   "execution_count": null,
   "id": "ac27fa10",
   "metadata": {},
   "outputs": [],
   "source": []
  },
  {
   "cell_type": "markdown",
   "id": "c1e32bff",
   "metadata": {},
   "source": [
    "## 2-2 비순수함수 \n",
    "\n",
    "\n",
    "### 비순수 함수는 부작용(side effect) \n",
    "- 외부 상태를 변경할 수 있습니다. 예를 들어 파일을 읽거나 쓰거나, 데이터베이스에 쿼리를 실행하거나, 화면에 출력하는 등의 작업이 부작용을 일으키는 경우입니다. \n",
    "\n",
    "\n",
    "### 상태를 보관하고 있는 비순수 함수\n",
    "- 함수가 외부 상태를 변경하거나 유지하는 함수를 의미합니다. \n",
    "- 이러한 함수는 순수성을 잃으며, 같은 입력에 대해 항상 같은 결과를 보장하지 않을 수 있습니다. \n",
    "- 상태를 변경하거나 보관하는 것은 함수의 동작을 예측하기 어렵게 만들 수 있습니다.\n",
    "\n"
   ]
  },
  {
   "cell_type": "code",
   "execution_count": null,
   "id": "71eba5f2",
   "metadata": {},
   "outputs": [],
   "source": []
  },
  {
   "cell_type": "markdown",
   "id": "2e1ab0c7",
   "metadata": {},
   "source": [
    "## 파일 및 데이터베이스 처리"
   ]
  },
  {
   "cell_type": "code",
   "execution_count": 5,
   "id": "061a1c74",
   "metadata": {},
   "outputs": [],
   "source": [
    "def read_file(filename):\n",
    "    with open(filename, 'r') as file:\n",
    "        contents = file.read()\n",
    "    return contents\n"
   ]
  },
  {
   "cell_type": "code",
   "execution_count": null,
   "id": "505be5ab",
   "metadata": {},
   "outputs": [],
   "source": []
  },
  {
   "cell_type": "code",
   "execution_count": 6,
   "id": "0c387fd3",
   "metadata": {},
   "outputs": [],
   "source": [
    "import sqlite3\n",
    "\n",
    "def fetch_data_from_db(query):\n",
    "    connection = sqlite3.connect('database.db')\n",
    "    cursor = connection.cursor()\n",
    "    cursor.execute(query)\n",
    "    data = cursor.fetchall()\n",
    "    connection.close()\n",
    "    return data\n"
   ]
  },
  {
   "cell_type": "markdown",
   "id": "6ee80438",
   "metadata": {},
   "source": [
    "## 화면 출력 처리 "
   ]
  },
  {
   "cell_type": "code",
   "execution_count": null,
   "id": "28f9d903",
   "metadata": {},
   "outputs": [],
   "source": [
    "def print_message(message):\n",
    "    print(message)\n"
   ]
  },
  {
   "cell_type": "code",
   "execution_count": null,
   "id": "48ae0993",
   "metadata": {},
   "outputs": [],
   "source": []
  },
  {
   "cell_type": "markdown",
   "id": "987fcbfb",
   "metadata": {},
   "source": [
    "## 전역변수 상태 관리"
   ]
  },
  {
   "cell_type": "code",
   "execution_count": 3,
   "id": "10432303",
   "metadata": {},
   "outputs": [],
   "source": [
    "counter = 0\n",
    "\n",
    "def increment_counter():\n",
    "    global counter\n",
    "    counter += 1\n",
    "    return counter\n"
   ]
  },
  {
   "cell_type": "markdown",
   "id": "efa43519",
   "metadata": {},
   "source": [
    "## 클로저 상태 발생 "
   ]
  },
  {
   "cell_type": "code",
   "execution_count": 4,
   "id": "3a9a5016",
   "metadata": {},
   "outputs": [],
   "source": [
    "def make_counter():\n",
    "    count = 0\n",
    "    def increment():\n",
    "        nonlocal count\n",
    "        count += 1\n",
    "        return count\n",
    "    return increment\n"
   ]
  },
  {
   "cell_type": "code",
   "execution_count": null,
   "id": "db47bbd8",
   "metadata": {},
   "outputs": [],
   "source": []
  },
  {
   "cell_type": "markdown",
   "id": "bc9eedd8",
   "metadata": {},
   "source": [
    "## 3. 완전함수와 부분함수 알아보기"
   ]
  },
  {
   "cell_type": "code",
   "execution_count": null,
   "id": "170a166e",
   "metadata": {},
   "outputs": [],
   "source": []
  },
  {
   "cell_type": "markdown",
   "id": "87a34093",
   "metadata": {},
   "source": [
    "## 3-1 완전 함수 (Total Function):\n",
    "\n",
    "- 완전 함수는 모든 가능한 입력에 대해 정의되고, 모든 입력에 대해 유효한 결과를 반환하는 함수입니다. \n",
    "- 즉, 정의된 도메인 내의 모든 입력에 대해 결과를 반환합니다. 완전 함수는 예측 가능하며, 같은 입력에 대해 항상 같은 결과를 반환합니다."
   ]
  },
  {
   "cell_type": "code",
   "execution_count": 8,
   "id": "da5610a8",
   "metadata": {},
   "outputs": [],
   "source": [
    "def add(a, b):\n",
    "    return a + b\n"
   ]
  },
  {
   "cell_type": "code",
   "execution_count": null,
   "id": "cdab589f",
   "metadata": {},
   "outputs": [],
   "source": []
  },
  {
   "cell_type": "markdown",
   "id": "32ee1078",
   "metadata": {},
   "source": [
    "## 3-2. 부분 함수 (Partial Function):\n",
    "- 부분 함수는 정의된 도메인에서만 일부 입력에 대해 정의되어 있는 함수입니다. \n",
    "- 즉, 모든 가능한 입력에 대해 정의되어 있지 않습니다."
   ]
  },
  {
   "cell_type": "code",
   "execution_count": 9,
   "id": "4ec59800",
   "metadata": {},
   "outputs": [],
   "source": [
    "def divide(a, b):\n",
    "    if b == 0:\n",
    "        raise ValueError(\"Division by zero\")\n",
    "    return a / b\n"
   ]
  },
  {
   "cell_type": "code",
   "execution_count": null,
   "id": "31809e81",
   "metadata": {},
   "outputs": [],
   "source": []
  },
  {
   "cell_type": "markdown",
   "id": "dccbdc96",
   "metadata": {},
   "source": [
    "## 4. 함수는 1급 객체\n",
    "\n",
    "- 함수를 변수에 할당하고, 다른 함수의 인수로 전달하거나 반환할 수 있는 함수를 일급 함수라고 합니다.\n",
    "- 이러한 기능은 함수를 데이터처럼 다룰 수 있게 하며, 함수형 프로그래밍의 핵심입니다."
   ]
  },
  {
   "cell_type": "code",
   "execution_count": 12,
   "id": "2bc4c3b4",
   "metadata": {},
   "outputs": [
    {
     "name": "stdout",
     "output_type": "stream",
     "text": [
      "Hello, Alice!\n"
     ]
    }
   ],
   "source": [
    "# 함수를 변수에 할당하기\n",
    "def greet(name):\n",
    "    return f\"Hello, {name}!\"\n",
    "\n",
    "hello = greet\n",
    "print(hello(\"Alice\"))  # 변수에 할당된 함수 호출"
   ]
  },
  {
   "cell_type": "code",
   "execution_count": null,
   "id": "cfd1657f",
   "metadata": {},
   "outputs": [],
   "source": []
  },
  {
   "cell_type": "code",
   "execution_count": 13,
   "id": "b20473a1",
   "metadata": {},
   "outputs": [
    {
     "name": "stdout",
     "output_type": "stream",
     "text": [
      "Hello, Bob!\n"
     ]
    }
   ],
   "source": [
    "# 함수를 다른 함수의 인수로 전달하기\n",
    "def apply_function(func, arg):\n",
    "    return func(arg)\n",
    "\n",
    "result = apply_function(greet, \"Bob\")\n",
    "print(result)  # apply_function 함수에 greet 함수 전달하여 호출\n",
    "\n",
    "\n"
   ]
  },
  {
   "cell_type": "code",
   "execution_count": null,
   "id": "61852c2a",
   "metadata": {},
   "outputs": [],
   "source": []
  },
  {
   "cell_type": "code",
   "execution_count": 14,
   "id": "0ae2b6b2",
   "metadata": {},
   "outputs": [
    {
     "name": "stdout",
     "output_type": "stream",
     "text": [
      "Hello, Charlie!\n"
     ]
    }
   ],
   "source": [
    "# 함수를 다른 함수의 반환 값으로 사용하기\n",
    "def create_greeting_function():\n",
    "    def greet(name):\n",
    "        return f\"Hello, {name}!\"\n",
    "    return greet\n",
    "\n",
    "new_greet = create_greeting_function()\n",
    "print(new_greet(\"Charlie\"))  # create_greeting_function 함수가 greet 함수를 반환하고 이를 호출"
   ]
  },
  {
   "cell_type": "code",
   "execution_count": null,
   "id": "7a3be8b5",
   "metadata": {},
   "outputs": [],
   "source": []
  },
  {
   "cell_type": "markdown",
   "id": "f170b5db",
   "metadata": {},
   "source": [
    "## 5. 고차 함수 (Higher-Order Functions): \n",
    "\n",
    "- 함수를 인수로 받거나 함수를 반환하는 함수를 고차 함수라고 합니다. \n",
    "- 이러한 함수는 함수 조합을 통해 코드를 모듈화하고 추상화할 수 있습니다. \n",
    "\n",
    "- 맵(map), 필터(filter), 리듀스(reduce) 등의 함수는 고차 함수의 예시입니다."
   ]
  },
  {
   "cell_type": "markdown",
   "id": "abde98b0",
   "metadata": {},
   "source": [
    "### 고차 함수 (Higher-Order Functions):\n",
    "\n",
    "- 고차 함수는 함수를 인자로 받거나 함수를 반환하는 함수를 말합니다.\n",
    "- 함수형 프로그래밍에서 함수를 값처럼 다루는 데 사용됩니다.\n",
    "-  예를 들어, 맵 함수나 필터 함수는 고차 함수의 예입니다. \n",
    "- 이들은 다른 함수를 인자로 받아 해당 함수를 컬렉션의 각 요소에 적용하거나, 조건을 만족하는 요소만을 선택하는 기능을 수행합니다.\n"
   ]
  },
  {
   "cell_type": "code",
   "execution_count": 15,
   "id": "a1b88bcf",
   "metadata": {},
   "outputs": [
    {
     "name": "stdout",
     "output_type": "stream",
     "text": [
      "25\n"
     ]
    }
   ],
   "source": [
    "# 고차 함수 예제\n",
    "def apply_function(func, x):\n",
    "    return func(x)\n",
    "\n",
    "def square(x):\n",
    "    return x * x\n",
    "\n",
    "result = apply_function(square, 5)  # square 함수를 인자로 전달\n",
    "print(result)  # 출력: 25\n",
    "\n"
   ]
  },
  {
   "cell_type": "markdown",
   "id": "22b7c74d",
   "metadata": {},
   "source": [
    "### 합성 함수 (Function Composition):\n",
    "\n",
    "- 함수 합성은 두 개 이상의 함수를 조합하여 새로운 함수를 만드는 것을 의미합니다.\n",
    "- 두 함수 f와 g가 있을 때, 합성 함수는 g(f(x))와 같이 두 함수를 연속해서 적용하여 새로운 함수를 생성합니다.\n",
    "- 함수 합성은 함수형 프로그래밍에서 중요한 개념으로, 함수를 작은 단위로 분해하고 이를 조합하여 더 복잡한 동작을 수행하는 데 사용됩니다.\n",
    "- 함수 합성은 코드의 가독성을 높이고 재사용성을 증가시키는 데 도움이 됩니다."
   ]
  },
  {
   "cell_type": "code",
   "execution_count": 16,
   "id": "047641f3",
   "metadata": {},
   "outputs": [
    {
     "name": "stdout",
     "output_type": "stream",
     "text": [
      "8\n"
     ]
    }
   ],
   "source": [
    "# 함수 합성 예제\n",
    "def add_one(x):\n",
    "    return x + 1\n",
    "\n",
    "def multiply_by_two(x):\n",
    "    return x * 2\n",
    "\n",
    "# 두 함수를 합성하여 새로운 함수를 만듭니다.\n",
    "composed_function = lambda x: multiply_by_two(add_one(x))\n",
    "\n",
    "result = composed_function(3)  # 합성된 함수를 호출\n",
    "print(result)  # 출력: 8 (3 + 1 = 4, 4 * 2 = 8)"
   ]
  },
  {
   "cell_type": "code",
   "execution_count": null,
   "id": "555c3eac",
   "metadata": {},
   "outputs": [],
   "source": []
  },
  {
   "cell_type": "markdown",
   "id": "a1fe20d2",
   "metadata": {},
   "source": [
    "## 6. Lazy Evaluation: \n",
    "- 일부 함수형 프로그래밍 언어에서는 lazy evaluation 기법을 사용하여 필요한 시점까지 계산을 늦추는 방식을 지원합니다. \n",
    "- 이는 효율적인 메모리 사용과 연산의 지연을 통해 성능을 향상시킬 수 있습니다.\n",
    "\n",
    "###  지연처리 방법 \n",
    "- 람다하수, 커링, 데코레이터 함수로 지연처리 가능 "
   ]
  },
  {
   "cell_type": "code",
   "execution_count": null,
   "id": "3d686c3a",
   "metadata": {},
   "outputs": [],
   "source": []
  },
  {
   "cell_type": "markdown",
   "id": "49c09502",
   "metadata": {},
   "source": [
    "## 6-1 람다 함수 (Lambda Functions): \n",
    "\n",
    "- 람다 함수를 사용하여 함수의 일부 인자를 미리 지정할 수 있습니다. \n",
    "- 이를 통해 함수의 호출을 지연시킬 수 있습니다."
   ]
  },
  {
   "cell_type": "code",
   "execution_count": 17,
   "id": "cedf45e9",
   "metadata": {},
   "outputs": [],
   "source": [
    "delayed_function = lambda x: my_function(x, arg1, arg2)\n"
   ]
  },
  {
   "cell_type": "code",
   "execution_count": null,
   "id": "720fedc3",
   "metadata": {},
   "outputs": [],
   "source": []
  },
  {
   "cell_type": "markdown",
   "id": "c0e799e4",
   "metadata": {},
   "source": [
    "## 6-2. 커링 \n",
    "\n",
    "- 커링(Currying)은 함수형 프로그래밍에서 사용되는 개념으로, 여러 개의 인자를 가진 함수를 한 개의 인자를 받는 함수로 변환하는 과정을 말합니다. \n",
    "- 이를 통해 함수를 부분적으로 적용하고 재사용할 수 있는 장점이 있습니다."
   ]
  },
  {
   "cell_type": "code",
   "execution_count": null,
   "id": "a61b24f6",
   "metadata": {},
   "outputs": [],
   "source": [
    "from functools import partial\n",
    "\n",
    "# 커링을 적용할 함수 정의\n",
    "def add(x, y):\n",
    "    return x + y\n",
    "\n",
    "# 커링을 적용할 함수를 한 개의 인자를 받는 함수로 변환\n",
    "def curried_add(x):\n",
    "    def inner(y):\n",
    "        return x + y\n",
    "    return inner\n",
    "\n",
    "# 커링된 함수 호출\n",
    "add_five = curried_add(5)\n",
    "result = add_five(3)  # 결과: 5 + 3 = 8\n",
    "print(result)\n",
    "\n",
    "# functools 모듈의 partial 함수를 사용한 커링\n",
    "add_ten = partial(add, 10)\n",
    "result = add_ten(5)  # 결과: 10 + 5 = 15\n",
    "print(result)\n"
   ]
  },
  {
   "cell_type": "markdown",
   "id": "45250ab9",
   "metadata": {},
   "source": [
    "## 6-3 데코레이터 "
   ]
  },
  {
   "cell_type": "code",
   "execution_count": 18,
   "id": "9f1072f9",
   "metadata": {},
   "outputs": [],
   "source": [
    "def delayed_decorator(func):\n",
    "    def wrapper(*args, **kwargs):\n",
    "        # 필요한 전처리 작업 수행\n",
    "        result = func(*args, **kwargs)\n",
    "        # 필요한 후처리 작업 수행\n",
    "        return result\n",
    "    return wrapper\n",
    "\n",
    "@delayed_decorator\n",
    "def my_function(x):\n",
    "    return x\n"
   ]
  },
  {
   "cell_type": "code",
   "execution_count": null,
   "id": "0664c673",
   "metadata": {},
   "outputs": [],
   "source": []
  },
  {
   "cell_type": "code",
   "execution_count": null,
   "id": "c55dcc2c",
   "metadata": {},
   "outputs": [],
   "source": []
  },
  {
   "cell_type": "markdown",
   "id": "3f0965d5",
   "metadata": {},
   "source": [
    "## 7.불변성 (Immutability): \n",
    "- 함수형 프로그래밍에서는 데이터를 불변 객체로 다루는 것이 일반적입니다. \n",
    "- 즉, 한 번 생성된 데이터는 변경되지 않으며, 변경되어야 할 경우 새로운 데이터를 생성합니다. \n",
    "- 이는 병렬 처리와 상태 관리를 단순화하고, 버그를 줄일 수 있는 장점을 제공합니다."
   ]
  },
  {
   "cell_type": "markdown",
   "id": "51983161",
   "metadata": {},
   "source": [
    "### 설치할 것 \n",
    "- pip install immutables"
   ]
  },
  {
   "cell_type": "code",
   "execution_count": null,
   "id": "b3c4aa5a",
   "metadata": {},
   "outputs": [],
   "source": []
  },
  {
   "cell_type": "markdown",
   "id": "23479f2d",
   "metadata": {},
   "source": [
    "## 7-1 불변 모듈 사용 \n",
    "\n",
    "- Map 클래스는 변경할 수 없는 맵을 나타내며, set() 메서드를 사용하여 새로운 맵을 생성합니다. \n",
    "- 이러한 방식으로 원래의 데이터를 변경하지 않고 새로운 객체를 생성합니다. 이것이 불변성의 핵심 아이디어입니다."
   ]
  },
  {
   "cell_type": "code",
   "execution_count": 21,
   "id": "f1916f7e",
   "metadata": {},
   "outputs": [
    {
     "name": "stdout",
     "output_type": "stream",
     "text": [
      "Original Map: immutables.Map({'key2': 'value2', 'key1': 'value1'})\n",
      "New Map: immutables.Map({'key2': 'value2', 'key3': 'value3', 'key1': 'value1'})\n"
     ]
    }
   ],
   "source": [
    "from immutables import Map\n",
    "\n",
    "# 변경 불가능한 맵 생성\n",
    "immutable_map = Map({'key1': 'value1', 'key2': 'value2'})\n",
    "\n",
    "# 값을 조회할 때 변경하지 않고 새로운 맵을 반환\n",
    "new_map = immutable_map.set('key3', 'value3')\n",
    "\n",
    "# 변경 전과 후의 맵 비교\n",
    "print(\"Original Map:\", immutable_map)\n",
    "print(\"New Map:\", new_map)\n"
   ]
  },
  {
   "cell_type": "code",
   "execution_count": null,
   "id": "adc2fae2",
   "metadata": {},
   "outputs": [],
   "source": []
  },
  {
   "cell_type": "markdown",
   "id": "cdb3e889",
   "metadata": {},
   "source": [
    "## 7-2 불변자료 구조 만들기\n",
    "\n",
    "- 프로퍼티를 사용해서 갱신 처리하지 않음 "
   ]
  },
  {
   "cell_type": "code",
   "execution_count": 22,
   "id": "7653f209",
   "metadata": {},
   "outputs": [
    {
     "name": "stdout",
     "output_type": "stream",
     "text": [
      "Value: 10\n"
     ]
    },
    {
     "ename": "AttributeError",
     "evalue": "property 'value' of 'ImmutableObject' object has no setter",
     "output_type": "error",
     "traceback": [
      "\u001b[0;31m---------------------------------------------------------------------------\u001b[0m",
      "\u001b[0;31mAttributeError\u001b[0m                            Traceback (most recent call last)",
      "Cell \u001b[0;32mIn[22], line 16\u001b[0m\n\u001b[1;32m     13\u001b[0m \u001b[38;5;28mprint\u001b[39m(\u001b[38;5;124m\"\u001b[39m\u001b[38;5;124mValue:\u001b[39m\u001b[38;5;124m\"\u001b[39m, immutable_obj\u001b[38;5;241m.\u001b[39mvalue)\n\u001b[1;32m     15\u001b[0m \u001b[38;5;66;03m# 속성을 변경하려고 시도\u001b[39;00m\n\u001b[0;32m---> 16\u001b[0m \u001b[43mimmutable_obj\u001b[49m\u001b[38;5;241;43m.\u001b[39;49m\u001b[43mvalue\u001b[49m \u001b[38;5;241m=\u001b[39m \u001b[38;5;241m20\u001b[39m  \u001b[38;5;66;03m# 이 부분에서 AttributeError가 발생합니다.\u001b[39;00m\n",
      "\u001b[0;31mAttributeError\u001b[0m: property 'value' of 'ImmutableObject' object has no setter"
     ]
    }
   ],
   "source": [
    "class ImmutableObject:\n",
    "    def __init__(self, value):\n",
    "        self._value = value\n",
    "\n",
    "    @property\n",
    "    def value(self):\n",
    "        return self._value\n",
    "\n",
    "# 불변 객체 생성\n",
    "immutable_obj = ImmutableObject(10)\n",
    "\n",
    "# 속성에 접근\n",
    "print(\"Value:\", immutable_obj.value)\n",
    "\n",
    "# 속성을 변경하려고 시도\n",
    "immutable_obj.value = 20  # 이 부분에서 AttributeError가 발생합니다.\n"
   ]
  },
  {
   "cell_type": "code",
   "execution_count": 23,
   "id": "99f1a99e",
   "metadata": {},
   "outputs": [
    {
     "ename": "SyntaxError",
     "evalue": "invalid syntax (4042905309.py, line 3)",
     "output_type": "error",
     "traceback": [
      "\u001b[0;36m  Cell \u001b[0;32mIn[23], line 3\u001b[0;36m\u001b[0m\n\u001b[0;31m    - '__set__' 을 디스크립터에 구현하지 않고 처리\u001b[0m\n\u001b[0m                ^\u001b[0m\n\u001b[0;31mSyntaxError\u001b[0m\u001b[0;31m:\u001b[0m invalid syntax\n"
     ]
    }
   ],
   "source": [
    "## 7-3 디스크립터로 불변자료구조\n",
    "\n",
    "- '__set__' 을 디스크립터에 구현하지 않고 처리"
   ]
  },
  {
   "cell_type": "code",
   "execution_count": 24,
   "id": "fe15aaf8",
   "metadata": {},
   "outputs": [
    {
     "ename": "AttributeError",
     "evalue": "Cannot modify immutable attribute",
     "output_type": "error",
     "traceback": [
      "\u001b[0;31m---------------------------------------------------------------------------\u001b[0m",
      "\u001b[0;31mAttributeError\u001b[0m                            Traceback (most recent call last)",
      "Cell \u001b[0;32mIn[24], line 18\u001b[0m\n\u001b[1;32m     15\u001b[0m         \u001b[38;5;28mself\u001b[39m\u001b[38;5;241m.\u001b[39mvalue \u001b[38;5;241m=\u001b[39m value\n\u001b[1;32m     17\u001b[0m \u001b[38;5;66;03m# 불변 객체 생성\u001b[39;00m\n\u001b[0;32m---> 18\u001b[0m immutable_obj \u001b[38;5;241m=\u001b[39m \u001b[43mImmutableObject\u001b[49m\u001b[43m(\u001b[49m\u001b[38;5;241;43m10\u001b[39;49m\u001b[43m)\u001b[49m\n\u001b[1;32m     20\u001b[0m \u001b[38;5;66;03m# 속성에 접근\u001b[39;00m\n\u001b[1;32m     21\u001b[0m \u001b[38;5;28mprint\u001b[39m(\u001b[38;5;124m\"\u001b[39m\u001b[38;5;124mValue:\u001b[39m\u001b[38;5;124m\"\u001b[39m, immutable_obj\u001b[38;5;241m.\u001b[39mvalue)\n",
      "Cell \u001b[0;32mIn[24], line 15\u001b[0m, in \u001b[0;36mImmutableObject.__init__\u001b[0;34m(self, value)\u001b[0m\n\u001b[1;32m     14\u001b[0m \u001b[38;5;28;01mdef\u001b[39;00m \u001b[38;5;21m__init__\u001b[39m(\u001b[38;5;28mself\u001b[39m, value):\n\u001b[0;32m---> 15\u001b[0m     \u001b[38;5;28;43mself\u001b[39;49m\u001b[38;5;241;43m.\u001b[39;49m\u001b[43mvalue\u001b[49m \u001b[38;5;241m=\u001b[39m value\n",
      "Cell \u001b[0;32mIn[24], line 9\u001b[0m, in \u001b[0;36mImmutableDescriptor.__set__\u001b[0;34m(self, instance, value)\u001b[0m\n\u001b[1;32m      8\u001b[0m \u001b[38;5;28;01mdef\u001b[39;00m \u001b[38;5;21m__set__\u001b[39m(\u001b[38;5;28mself\u001b[39m, instance, value):\n\u001b[0;32m----> 9\u001b[0m     \u001b[38;5;28;01mraise\u001b[39;00m \u001b[38;5;167;01mAttributeError\u001b[39;00m(\u001b[38;5;124m\"\u001b[39m\u001b[38;5;124mCannot modify immutable attribute\u001b[39m\u001b[38;5;124m\"\u001b[39m)\n",
      "\u001b[0;31mAttributeError\u001b[0m: Cannot modify immutable attribute"
     ]
    }
   ],
   "source": [
    "class ImmutableDescriptor:\n",
    "    def __init__(self, initial_value=None):\n",
    "        self._value = initial_value\n",
    "\n",
    "    def __get__(self, instance, owner):\n",
    "        return self._value\n",
    "\n",
    "    def __set__(self, instance, value):\n",
    "        raise AttributeError(\"Cannot modify immutable attribute\")\n",
    "\n",
    "class ImmutableObject:\n",
    "    value = ImmutableDescriptor()\n",
    "\n",
    "    def __init__(self, value):\n",
    "        self.value = value\n",
    "\n",
    "# 불변 객체 생성\n",
    "immutable_obj = ImmutableObject(10)\n",
    "\n",
    "# 속성에 접근\n",
    "print(\"Value:\", immutable_obj.value)\n",
    "\n",
    "# 속성을 변경하려고 시도\n",
    "immutable_obj.value = 20  # 이 부분에서 AttributeError가 발생합니다.\n"
   ]
  },
  {
   "cell_type": "code",
   "execution_count": null,
   "id": "068236ec",
   "metadata": {},
   "outputs": [],
   "source": []
  },
  {
   "cell_type": "markdown",
   "id": "f88224a7",
   "metadata": {},
   "source": [
    "## 8. 재귀 함수 (Recursive Functions): \n",
    "- 함수형 프로그래밍에서는 재귀 함수를 적극적으로 활용합니다. \n",
    "- 재귀 함수는 간결하고 우아한 코드를 작성할 수 있으며, 많은 함수형 프로그래밍 언어에서는 반복문 대신 재귀 함수를 사용하여 반복을 처리합니다."
   ]
  },
  {
   "cell_type": "markdown",
   "id": "38b6aea1",
   "metadata": {},
   "source": [
    "## 재귀함수 처리"
   ]
  },
  {
   "cell_type": "code",
   "execution_count": 28,
   "id": "0e4b47b6",
   "metadata": {},
   "outputs": [
    {
     "name": "stdout",
     "output_type": "stream",
     "text": [
      "3628800\n"
     ]
    }
   ],
   "source": [
    "def factorial(n):\n",
    "    # 재귀 호출 종료 조건\n",
    "    if n == 0:\n",
    "        return 1\n",
    "    # 재귀 호출\n",
    "    return n * factorial(n - 1)\n",
    "\n",
    "# 팩토리얼 계산\n",
    "print(factorial(10))  # 5! = 5 * 4 * 3 * 2 * 1 = 120\n"
   ]
  },
  {
   "cell_type": "markdown",
   "id": "b98b1c1f",
   "metadata": {},
   "source": [
    "## 꼬리 재귀 함수\n",
    "\n",
    "- 재귀 호출에서 호출 스택이 계속 쌓이지 않고, 이전 호출의 결과를 다음 호출에 넘겨주는 방식으로 구현된 재귀 함수입니다. \n",
    "- 파이썬은 꼬리 재귀 최적화를 직접 지원하지 않지만, 일부 함수형 프로그래밍 언어에서는 꼬리 재귀 최적화를 지원합니다."
   ]
  },
  {
   "cell_type": "code",
   "execution_count": 27,
   "id": "ffc7e563",
   "metadata": {},
   "outputs": [
    {
     "name": "stdout",
     "output_type": "stream",
     "text": [
      "3628800\n"
     ]
    }
   ],
   "source": [
    "import sys\n",
    "\n",
    "sys.setrecursionlimit(1500)\n",
    "\n",
    "def tail_recursive_factorial(n, accumulator=1):\n",
    "    if n == 0:\n",
    "        return accumulator\n",
    "    else:\n",
    "        return tail_recursive_factorial(n - 1, accumulator * n)\n",
    "\n",
    "print(tail_recursive_factorial(10))\n"
   ]
  },
  {
   "cell_type": "code",
   "execution_count": null,
   "id": "c22f66bd",
   "metadata": {},
   "outputs": [],
   "source": []
  }
 ],
 "metadata": {
  "kernelspec": {
   "display_name": "Python 3 (ipykernel)",
   "language": "python",
   "name": "python3"
  },
  "language_info": {
   "codemirror_mode": {
    "name": "ipython",
    "version": 3
   },
   "file_extension": ".py",
   "mimetype": "text/x-python",
   "name": "python",
   "nbconvert_exporter": "python",
   "pygments_lexer": "ipython3",
   "version": "3.11.3"
  }
 },
 "nbformat": 4,
 "nbformat_minor": 5
}
