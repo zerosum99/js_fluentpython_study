{
 "cells": [
  {
   "cell_type": "code",
   "execution_count": null,
   "id": "a7b03235",
   "metadata": {},
   "outputs": [],
   "source": []
  },
  {
   "cell_type": "markdown",
   "id": "b97a031f",
   "metadata": {},
   "source": [
    "## 1. 타입힌트 처리 "
   ]
  },
  {
   "cell_type": "markdown",
   "id": "b739d16c",
   "metadata": {},
   "source": [
    "## 1-1 변수에 타입힌트 처리 "
   ]
  },
  {
   "cell_type": "code",
   "execution_count": 19,
   "id": "7ad8e81e",
   "metadata": {},
   "outputs": [],
   "source": [
    "x: float = 3.14"
   ]
  },
  {
   "cell_type": "code",
   "execution_count": null,
   "id": "c197e790",
   "metadata": {},
   "outputs": [],
   "source": []
  },
  {
   "cell_type": "markdown",
   "id": "622f20fa",
   "metadata": {},
   "source": [
    "## 1-2 함수의 매개변수와 반환값에 타입힌트 지정하기 "
   ]
  },
  {
   "cell_type": "markdown",
   "id": "48926ed6",
   "metadata": {},
   "source": [
    "### 1-2-1 함수에 타입힌트 "
   ]
  },
  {
   "cell_type": "code",
   "execution_count": 3,
   "id": "ba366403",
   "metadata": {},
   "outputs": [],
   "source": [
    "def add_numbers(a: int, b: int) -> int:\n",
    "    return a + b\n"
   ]
  },
  {
   "cell_type": "code",
   "execution_count": 4,
   "id": "27e2a7ab",
   "metadata": {},
   "outputs": [
    {
     "data": {
      "text/plain": [
       "300"
      ]
     },
     "execution_count": 4,
     "metadata": {},
     "output_type": "execute_result"
    }
   ],
   "source": [
    "add_numbers(100,200)"
   ]
  },
  {
   "cell_type": "markdown",
   "id": "7b846cf0",
   "metadata": {},
   "source": [
    "#### 타입힌트 정보 확인하기 "
   ]
  },
  {
   "cell_type": "code",
   "execution_count": 5,
   "id": "c778f95a",
   "metadata": {},
   "outputs": [
    {
     "data": {
      "text/plain": [
       "{'a': int, 'b': int, 'return': int}"
      ]
     },
     "execution_count": 5,
     "metadata": {},
     "output_type": "execute_result"
    }
   ],
   "source": [
    "add_numbers.__annotations__"
   ]
  },
  {
   "cell_type": "markdown",
   "id": "6e97ff20",
   "metadata": {},
   "source": [
    "### 1-2-2  타입 체크해서 에러 처리하기 "
   ]
  },
  {
   "cell_type": "code",
   "execution_count": 17,
   "id": "b2944e22",
   "metadata": {},
   "outputs": [],
   "source": [
    "def add_(a: int, b: int) -> int:\n",
    "    \n",
    "    if ((add_.__annotations__['a'] == locals()['a'].__class__) \n",
    "        and (add_.__annotations__['b'] == locals()['b'].__class__)) : \n",
    "           return a + b\n",
    "    \n",
    "    raise Exception('에러 발생')"
   ]
  },
  {
   "cell_type": "code",
   "execution_count": 18,
   "id": "831f7f04",
   "metadata": {},
   "outputs": [
    {
     "ename": "Exception",
     "evalue": "에러 발생",
     "output_type": "error",
     "traceback": [
      "\u001b[0;31m---------------------------------------------------------------------------\u001b[0m",
      "\u001b[0;31mException\u001b[0m                                 Traceback (most recent call last)",
      "Cell \u001b[0;32mIn[18], line 1\u001b[0m\n\u001b[0;32m----> 1\u001b[0m \u001b[43madd_\u001b[49m\u001b[43m(\u001b[49m\u001b[38;5;241;43m100\u001b[39;49m\u001b[43m,\u001b[49m\u001b[38;5;241;43m200.3\u001b[39;49m\u001b[43m)\u001b[49m\n",
      "Cell \u001b[0;32mIn[17], line 7\u001b[0m, in \u001b[0;36madd_\u001b[0;34m(a, b)\u001b[0m\n\u001b[1;32m      3\u001b[0m \u001b[38;5;28;01mif\u001b[39;00m ((add_\u001b[38;5;241m.\u001b[39m\u001b[38;5;18m__annotations__\u001b[39m[\u001b[38;5;124m'\u001b[39m\u001b[38;5;124ma\u001b[39m\u001b[38;5;124m'\u001b[39m] \u001b[38;5;241m==\u001b[39m \u001b[38;5;28mlocals\u001b[39m()[\u001b[38;5;124m'\u001b[39m\u001b[38;5;124ma\u001b[39m\u001b[38;5;124m'\u001b[39m]\u001b[38;5;241m.\u001b[39m\u001b[38;5;18m__class__\u001b[39m) \n\u001b[1;32m      4\u001b[0m     \u001b[38;5;129;01mand\u001b[39;00m (add_\u001b[38;5;241m.\u001b[39m\u001b[38;5;18m__annotations__\u001b[39m[\u001b[38;5;124m'\u001b[39m\u001b[38;5;124mb\u001b[39m\u001b[38;5;124m'\u001b[39m] \u001b[38;5;241m==\u001b[39m \u001b[38;5;28mlocals\u001b[39m()[\u001b[38;5;124m'\u001b[39m\u001b[38;5;124mb\u001b[39m\u001b[38;5;124m'\u001b[39m]\u001b[38;5;241m.\u001b[39m\u001b[38;5;18m__class__\u001b[39m)) : \n\u001b[1;32m      5\u001b[0m        \u001b[38;5;28;01mreturn\u001b[39;00m a \u001b[38;5;241m+\u001b[39m b\n\u001b[0;32m----> 7\u001b[0m \u001b[38;5;28;01mraise\u001b[39;00m \u001b[38;5;167;01mException\u001b[39;00m(\u001b[38;5;124m'\u001b[39m\u001b[38;5;124m에러 발생\u001b[39m\u001b[38;5;124m'\u001b[39m)\n",
      "\u001b[0;31mException\u001b[0m: 에러 발생"
     ]
    }
   ],
   "source": [
    "add_(100,200.3)"
   ]
  },
  {
   "cell_type": "code",
   "execution_count": null,
   "id": "5cdbee89",
   "metadata": {},
   "outputs": [],
   "source": []
  },
  {
   "cell_type": "markdown",
   "id": "6b532f10",
   "metadata": {},
   "source": [
    "# 2. 타입힌트 지정 모듈 "
   ]
  },
  {
   "cell_type": "code",
   "execution_count": 1,
   "id": "9ca55bbf",
   "metadata": {},
   "outputs": [],
   "source": [
    "import typing"
   ]
  },
  {
   "cell_type": "code",
   "execution_count": 2,
   "id": "effc6255",
   "metadata": {},
   "outputs": [
    {
     "name": "stdout",
     "output_type": "stream",
     "text": [
      "ABCMeta, AbstractSet, Annotated, Any, AnyStr, AsyncContextManager, AsyncGenerator, AsyncIterable, AsyncIterator, Awaitable, BinaryIO, ByteString, CT_co, Callable, ChainMap, ClassVar, Collection, Concatenate, Container, ContextManager, Coroutine, Counter, DefaultDict, Deque, Dict, EXCLUDED_ATTRIBUTES, Final, ForwardRef, FrozenSet, Generator, Generic, GenericAlias, Hashable, IO, ItemsView, Iterable, Iterator, KT, KeysView, List, Literal, LiteralString, Mapping, MappingView, Match, MethodDescriptorType, MethodWrapperType, MutableMapping, MutableSequence, MutableSet, NamedTuple, NamedTupleMeta, Never, NewType, NoReturn, NotRequired, Optional, OrderedDict, ParamSpec, ParamSpecArgs, ParamSpecKwargs, Pattern, Protocol, Required, Reversible, Self, Sequence, Set, Sized, SupportsAbs, SupportsBytes, SupportsComplex, SupportsFloat, SupportsIndex, SupportsInt, SupportsRound, T, TYPE_CHECKING, T_co, T_contra, Text, TextIO, Tuple, Type, TypeAlias, TypeGuard, TypeVar, TypeVarTuple, TypedDict, Union, Unpack, VT, VT_co, V_co, ValuesView, WrapperDescriptorType, _ASSERT_NEVER_REPR_MAX_LENGTH, _AnnotatedAlias, _AnyMeta, _BaseGenericAlias, _BoundVarianceMixin, _CallableGenericAlias, _CallableType, _ConcatenateGenericAlias, _DeprecatedType, _Final, _GenericAlias, _Immutable, _LiteralGenericAlias, _LiteralSpecialForm, _NamedTuple, _NotIterable, _PROTO_ALLOWLIST, _PickleUsingNameMixin, _ProtocolMeta, _SPECIAL_NAMES, _SpecialForm, _SpecialGenericAlias, _TYPING_INTERNALS, _TupleType, _TypedDict, _TypedDictMeta, _TypingEllipsis, _UnionGenericAlias, _UnpackGenericAlias, __all__, __builtins__, __cached__, __doc__, __file__, __loader__, __name__, __package__, __spec__, _alias, _allow_reckless_class_checks, _allowed_types, _caller, _check_generic, _cleanups, _collect_parameters, _deduplicate, _eval_type, _flatten_literal_params, _get_protocol_attrs, _idfunc, _is_callable_members_only, _is_dunder, _is_param_expr, _is_typevar_like, _is_unpacked_typevartuple, _make_nmtuple, _namedtuple_mro_entries, _no_init_or_replace_init, _overload_dummy, _overload_registry, _prohibited, _remove_dups_flatten, _should_unflatten_callable_args, _special, _strip_annotations, _tp_cache, _type_check, _type_convert, _type_repr, _unpack_args, _value_and_type_iter, abstractmethod, assert_never, assert_type, cast, clear_overloads, collections, contextlib, dataclass_transform, defaultdict, final, functools, get_args, get_origin, get_overloads, get_type_hints, io, is_typeddict, no_type_check, no_type_check_decorator, operator, overload, re, reveal_type, runtime_checkable, stdlib_re, sys, types, warnings, "
     ]
    }
   ],
   "source": [
    "for i in dir(typing) :\n",
    "    print(i, end=\", \")"
   ]
  },
  {
   "cell_type": "code",
   "execution_count": null,
   "id": "3834c5b8",
   "metadata": {},
   "outputs": [],
   "source": []
  },
  {
   "cell_type": "markdown",
   "id": "7582e032",
   "metadata": {},
   "source": [
    "## 2-1 리스트와 튜플의 타입힌트 처리하기 "
   ]
  },
  {
   "cell_type": "code",
   "execution_count": 22,
   "id": "3a012b87",
   "metadata": {},
   "outputs": [],
   "source": [
    "from typing import List, Tuple\n",
    "\n",
    "def add_numbers(a: int, b: int) -> int:\n",
    "    return a + b\n",
    "\n",
    "def calculate_average(numbers: List[float]) -> float:\n",
    "    total = sum(numbers)\n",
    "    return total / len(numbers)\n",
    "\n",
    "def process_coordinates(point: Tuple[float, float]) -> None:\n",
    "    x, y = point\n",
    "    # 여기서 좌표를 처리하는 코드를 작성\n"
   ]
  },
  {
   "cell_type": "code",
   "execution_count": 23,
   "id": "c95c76dc",
   "metadata": {},
   "outputs": [
    {
     "name": "stdout",
     "output_type": "stream",
     "text": [
      "8\n",
      "2.4\n"
     ]
    }
   ],
   "source": [
    "# 타입 힌트를 사용한 예제\n",
    "result = add_numbers(3, 5)\n",
    "print(result)  # 출력: 8\n",
    "\n",
    "numbers = [1.0, 2.5, 3.7]\n",
    "average = calculate_average(numbers)\n",
    "print(average)  # 출력: 2.4\n",
    "\n",
    "coordinate = (4.0, 5.5)\n",
    "process_coordinates(coordinate)"
   ]
  },
  {
   "cell_type": "code",
   "execution_count": null,
   "id": "8065f34d",
   "metadata": {},
   "outputs": [],
   "source": []
  },
  {
   "cell_type": "code",
   "execution_count": null,
   "id": "1a2f21cd",
   "metadata": {},
   "outputs": [],
   "source": []
  },
  {
   "cell_type": "markdown",
   "id": "742ba781",
   "metadata": {},
   "source": [
    "## 2-2 함수자료형 처리하기"
   ]
  },
  {
   "cell_type": "markdown",
   "id": "2792fbdb",
   "metadata": {},
   "source": [
    "###  Callable의 제네릭 타입\n",
    "\n",
    "- 매개변수의 타입과 반환값의 타입을 정의합니다. \n",
    "- 여기서는 Callable[[int, int], int]를 사용하여 두 개의 정수를 받아 정수 반환 처리 "
   ]
  },
  {
   "cell_type": "code",
   "execution_count": 24,
   "id": "4ccfc56a",
   "metadata": {},
   "outputs": [],
   "source": [
    "from typing import Callable, List, Tuple\n",
    "\n",
    "def apply_function(func: Callable[[int, int], int], a: int, b: int) -> int:\n",
    "    \"\"\"\n",
    "    함수를 받아서 두 정수에 적용하는 함수 예제\n",
    "    \"\"\"\n",
    "    return func(a, b)\n",
    "\n",
    "def add(x: int, y: int) -> int:\n",
    "    return x + y\n",
    "\n",
    "def multiply(x: int, y: int) -> int:\n",
    "    return x * y\n"
   ]
  },
  {
   "cell_type": "code",
   "execution_count": 25,
   "id": "0abeece6",
   "metadata": {},
   "outputs": [
    {
     "name": "stdout",
     "output_type": "stream",
     "text": [
      "8\n",
      "8\n"
     ]
    }
   ],
   "source": [
    "# 함수 자료형을 사용한 예제\n",
    "result_add = apply_function(add, 3, 5)\n",
    "result_multiply = apply_function(multiply, 2, 4)\n",
    "\n",
    "print(result_add)        # 출력: 8\n",
    "print(result_multiply)   # 출력: 8"
   ]
  },
  {
   "cell_type": "code",
   "execution_count": null,
   "id": "123f3627",
   "metadata": {},
   "outputs": [],
   "source": []
  },
  {
   "cell_type": "markdown",
   "id": "930a2115",
   "metadata": {},
   "source": [
    "## 2-3 제너릭 처리 "
   ]
  },
  {
   "cell_type": "code",
   "execution_count": null,
   "id": "7472aee8",
   "metadata": {},
   "outputs": [],
   "source": []
  },
  {
   "cell_type": "code",
   "execution_count": 26,
   "id": "3129c243",
   "metadata": {},
   "outputs": [],
   "source": [
    "from typing import List, TypeVar\n",
    "\n",
    "T = TypeVar('T')\n",
    "\n",
    "def get_first_item(items: List[T]) -> T:\n",
    "    \"\"\"\n",
    "    리스트의 첫 번째 아이템을 반환하는 함수\n",
    "    \"\"\"\n",
    "    return items[0]\n"
   ]
  },
  {
   "cell_type": "code",
   "execution_count": 27,
   "id": "9a87b85f",
   "metadata": {},
   "outputs": [
    {
     "name": "stdout",
     "output_type": "stream",
     "text": [
      "apple\n",
      "1\n"
     ]
    }
   ],
   "source": [
    "# 제네릭을 사용한 예제\n",
    "string_list = [\"apple\", \"banana\", \"cherry\"]\n",
    "int_list = [1, 2, 3]\n",
    "\n",
    "first_string = get_first_item(string_list)\n",
    "first_int = get_first_item(int_list)\n",
    "\n",
    "print(first_string)  # 출력: apple\n",
    "print(first_int)     # 출력: 1\n"
   ]
  },
  {
   "cell_type": "code",
   "execution_count": null,
   "id": "7f5bef7b",
   "metadata": {},
   "outputs": [],
   "source": []
  },
  {
   "cell_type": "markdown",
   "id": "acddeef1",
   "metadata": {},
   "source": [
    "## 2-4 리터럴 타입 처리 "
   ]
  },
  {
   "cell_type": "code",
   "execution_count": 28,
   "id": "75584e61",
   "metadata": {},
   "outputs": [],
   "source": [
    "from typing import Literal\n",
    "\n",
    "def choose_color(color: Literal['red', 'green', 'blue']) -> None:\n",
    "    \"\"\"\n",
    "    red, green, blue 중 하나의 색을 선택하는 함수\n",
    "    \"\"\"\n",
    "    print(f\"Selected color: {color}\")\n"
   ]
  },
  {
   "cell_type": "code",
   "execution_count": 29,
   "id": "8b6cea30",
   "metadata": {},
   "outputs": [
    {
     "name": "stdout",
     "output_type": "stream",
     "text": [
      "Selected color: red\n",
      "Selected color: yellow\n"
     ]
    }
   ],
   "source": [
    "# 예제 사용\n",
    "choose_color('red')    # 올바른 호출\n",
    "choose_color('yellow') # 에러: 'yellow'은 허용되지 않는 값"
   ]
  },
  {
   "cell_type": "code",
   "execution_count": null,
   "id": "8dcd336e",
   "metadata": {},
   "outputs": [],
   "source": []
  },
  {
   "cell_type": "markdown",
   "id": "0d98a0c4",
   "metadata": {},
   "source": [
    "## 2-5 유니온 타입 "
   ]
  },
  {
   "cell_type": "code",
   "execution_count": null,
   "id": "e3ca983f",
   "metadata": {},
   "outputs": [],
   "source": []
  },
  {
   "cell_type": "code",
   "execution_count": 30,
   "id": "5ef58c83",
   "metadata": {},
   "outputs": [],
   "source": [
    "from typing import Union\n",
    "\n",
    "def print_number_or_string(value: Union[int, str]) -> None:\n",
    "    \"\"\"\n",
    "    정수 또는 문자열을 출력하는 함수\n",
    "    \"\"\"\n",
    "    print(value)\n",
    "\n"
   ]
  },
  {
   "cell_type": "code",
   "execution_count": 31,
   "id": "f2ced138",
   "metadata": {},
   "outputs": [
    {
     "name": "stdout",
     "output_type": "stream",
     "text": [
      "42\n",
      "hello\n",
      "3.14\n"
     ]
    }
   ],
   "source": [
    "# 예제 사용\n",
    "print_number_or_string(42)    # 정수 사용\n",
    "print_number_or_string(\"hello\")  # 문자열 사용\n",
    "print_number_or_string(3.14)  # 에러: 부동소수점은 허용되지 않는 값"
   ]
  },
  {
   "cell_type": "markdown",
   "id": "9646bf44",
   "metadata": {},
   "source": [
    "## 2-6 인터섹션 타입\n",
    "\n",
    "- 지원하지 않지만 유니언 타입을 새로운 타입으로 지정해서 사용 가능"
   ]
  },
  {
   "cell_type": "code",
   "execution_count": 32,
   "id": "f79b6b84",
   "metadata": {},
   "outputs": [
    {
     "name": "stdout",
     "output_type": "stream",
     "text": [
      "42\n",
      "3.14\n"
     ]
    }
   ],
   "source": [
    "from typing import Union, Literal\n",
    "\n",
    "# 유니온 타입을 이용한 간접적인 인터섹션 타입 정의\n",
    "Numeric = Union[int, float]\n",
    "\n",
    "def process_numeric(value: Numeric) -> None:\n",
    "    \"\"\"\n",
    "    정수 또는 부동소수점을 처리하는 함수\n",
    "    \"\"\"\n",
    "    print(value)\n",
    "\n",
    "# 예제 사용\n",
    "process_numeric(42)    # 정수 사용\n",
    "process_numeric(3.14)  # 부동소수점 사용\n"
   ]
  },
  {
   "cell_type": "code",
   "execution_count": null,
   "id": "66688451",
   "metadata": {},
   "outputs": [],
   "source": []
  }
 ],
 "metadata": {
  "kernelspec": {
   "display_name": "Python 3 (ipykernel)",
   "language": "python",
   "name": "python3"
  },
  "language_info": {
   "codemirror_mode": {
    "name": "ipython",
    "version": 3
   },
   "file_extension": ".py",
   "mimetype": "text/x-python",
   "name": "python",
   "nbconvert_exporter": "python",
   "pygments_lexer": "ipython3",
   "version": "3.11.3"
  }
 },
 "nbformat": 4,
 "nbformat_minor": 5
}
