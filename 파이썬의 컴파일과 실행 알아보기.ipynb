{
 "cells": [
  {
   "cell_type": "markdown",
   "id": "6cd416ee",
   "metadata": {},
   "source": [
    "## 1. 파이썬 모듈 작성 "
   ]
  },
  {
   "cell_type": "code",
   "execution_count": 23,
   "id": "1b3c8ab9",
   "metadata": {},
   "outputs": [
    {
     "name": "stdout",
     "output_type": "stream",
     "text": [
      "Overwriting add.py\n"
     ]
    }
   ],
   "source": [
    "%%writefile add.py\n",
    "\n",
    "def add(x,y) :\n",
    "   return x+y \n",
    "\n",
    "if __name__  == \"__main__\" :\n",
    "    print(\"main add call :\", add(100,200))"
   ]
  },
  {
   "cell_type": "markdown",
   "id": "20abca3c",
   "metadata": {},
   "source": [
    "## 2. 컴파일 (Compile):\n",
    "\n",
    "- 파이썬 소스 코드는 .py 확장자를 가진 텍스트 파일로 저장됩니다.\n",
    "- 소스 코드를 바이트 코드로 변환하려면 컴파일이 필요합니다. 파이썬은 내장 모듈인 compileall을 통해 디렉토리의 모든 소스 코드를 컴파일할 수 있습니다.\n",
    "- 이렇게 하면 __pycache__ 디렉토리에 모듈의 컴파일된 버전이 생성됩니다."
   ]
  },
  {
   "cell_type": "code",
   "execution_count": 24,
   "id": "54ab11f3",
   "metadata": {},
   "outputs": [
    {
     "name": "stdout",
     "output_type": "stream",
     "text": [
      "Compiling 'add.py'...\r\n"
     ]
    }
   ],
   "source": [
    "!python -m compileall add.py"
   ]
  },
  {
   "cell_type": "code",
   "execution_count": 25,
   "id": "1ed7fa49",
   "metadata": {},
   "outputs": [
    {
     "name": "stdout",
     "output_type": "stream",
     "text": [
      "00_polars_basic.ipynb\r\n",
      "README.md\r\n",
      "Untitled.ipynb\r\n",
      "\u001b[34m__pycache__\u001b[m\u001b[m/\r\n",
      "add.py\r\n",
      "\u001b[34mchapter_01\u001b[m\u001b[m/\r\n",
      "\u001b[34mchapter_02\u001b[m\u001b[m/\r\n",
      "\u001b[34mchapter_03\u001b[m\u001b[m/\r\n",
      "\u001b[34mchapter_04\u001b[m\u001b[m/\r\n",
      "\u001b[34mchapter_05\u001b[m\u001b[m/\r\n",
      "\u001b[34mimages\u001b[m\u001b[m/\r\n",
      "네임드튜플 처리가 바뀌었습니다. .ipynb\r\n"
     ]
    }
   ],
   "source": [
    "%ls"
   ]
  },
  {
   "cell_type": "code",
   "execution_count": 26,
   "id": "5854497c",
   "metadata": {},
   "outputs": [
    {
     "name": "stdout",
     "output_type": "stream",
     "text": [
      "/Users/a06411/Documents/GitHub/js_fluentpython_study/__pycache__\n"
     ]
    }
   ],
   "source": [
    "%cd __pycache__"
   ]
  },
  {
   "cell_type": "code",
   "execution_count": 7,
   "id": "4a3c4bc1",
   "metadata": {},
   "outputs": [
    {
     "data": {
      "text/plain": [
       "'/Users/a06411/Documents/GitHub/js_fluentpython_study/__pycache__'"
      ]
     },
     "execution_count": 7,
     "metadata": {},
     "output_type": "execute_result"
    }
   ],
   "source": [
    "%pwd"
   ]
  },
  {
   "cell_type": "code",
   "execution_count": 27,
   "id": "089e1c07",
   "metadata": {},
   "outputs": [
    {
     "name": "stdout",
     "output_type": "stream",
     "text": [
      "\u001b[34m__pycache__\u001b[m\u001b[m/         add.cpython-311.pyc\r\n"
     ]
    }
   ],
   "source": [
    "%ls"
   ]
  },
  {
   "cell_type": "code",
   "execution_count": null,
   "id": "ec62ab7f",
   "metadata": {},
   "outputs": [],
   "source": []
  },
  {
   "cell_type": "markdown",
   "id": "20556b41",
   "metadata": {},
   "source": [
    "## 3. 파이선 실행 "
   ]
  },
  {
   "cell_type": "code",
   "execution_count": 28,
   "id": "98dc466f",
   "metadata": {},
   "outputs": [
    {
     "name": "stdout",
     "output_type": "stream",
     "text": [
      "main add call : 300\r\n"
     ]
    }
   ],
   "source": [
    "!python add.cpython-311.pyc"
   ]
  },
  {
   "cell_type": "code",
   "execution_count": null,
   "id": "2ff98565",
   "metadata": {},
   "outputs": [],
   "source": []
  }
 ],
 "metadata": {
  "kernelspec": {
   "display_name": "Python 3 (ipykernel)",
   "language": "python",
   "name": "python3"
  },
  "language_info": {
   "codemirror_mode": {
    "name": "ipython",
    "version": 3
   },
   "file_extension": ".py",
   "mimetype": "text/x-python",
   "name": "python",
   "nbconvert_exporter": "python",
   "pygments_lexer": "ipython3",
   "version": "3.11.3"
  }
 },
 "nbformat": 4,
 "nbformat_minor": 5
}
