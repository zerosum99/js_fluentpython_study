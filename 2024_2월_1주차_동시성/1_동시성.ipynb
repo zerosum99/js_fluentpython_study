{
 "cells": [
  {
   "cell_type": "code",
   "execution_count": null,
   "id": "cc7458e7",
   "metadata": {},
   "outputs": [],
   "source": []
  },
  {
   "cell_type": "markdown",
   "id": "cab2766f",
   "metadata": {},
   "source": [
    "## 1. 멀티 프로세스 모듈 "
   ]
  },
  {
   "cell_type": "code",
   "execution_count": 1,
   "id": "73292a91",
   "metadata": {},
   "outputs": [],
   "source": [
    "import multiprocessing"
   ]
  },
  {
   "cell_type": "code",
   "execution_count": null,
   "id": "0f79764a",
   "metadata": {},
   "outputs": [],
   "source": []
  },
  {
   "cell_type": "code",
   "execution_count": 6,
   "id": "b953ba19",
   "metadata": {},
   "outputs": [
    {
     "name": "stdout",
     "output_type": "stream",
     "text": [
      "Array, AuthenticationError, Barrier, BoundedSemaphore, BufferTooShort, Condition, Event, JoinableQueue, Lock, Manager, Pipe, Pool, Process, ProcessError, Queue, RLock, RawArray, RawValue, SUBDEBUG, SUBWARNING, Semaphore, SimpleQueue, TimeoutError, Value, active_children, allow_connection_pickling, context, cpu_count, current_process, freeze_support, get_all_start_methods, get_context, get_logger, get_start_method, log_to_stderr, parent_process, process, reducer, reduction, set_executable, set_forkserver_preload, set_start_method, sys, "
     ]
    }
   ],
   "source": [
    "for i in dir(multiprocessing) :\n",
    "    if not i.startswith(\"_\") :\n",
    "        print(i, end=\", \")"
   ]
  },
  {
   "cell_type": "markdown",
   "id": "290c6057",
   "metadata": {},
   "source": [
    "## 현재 cpu 갯수 "
   ]
  },
  {
   "cell_type": "code",
   "execution_count": 2,
   "id": "d2ca769e",
   "metadata": {},
   "outputs": [
    {
     "data": {
      "text/plain": [
       "10"
      ]
     },
     "execution_count": 2,
     "metadata": {},
     "output_type": "execute_result"
    }
   ],
   "source": [
    "multiprocessing.cpu_count()"
   ]
  },
  {
   "cell_type": "code",
   "execution_count": null,
   "id": "1477e0b8",
   "metadata": {},
   "outputs": [],
   "source": []
  },
  {
   "cell_type": "code",
   "execution_count": 7,
   "id": "324d6578",
   "metadata": {},
   "outputs": [
    {
     "data": {
      "text/plain": [
       "<_MainProcess name='MainProcess' parent=None started>"
      ]
     },
     "execution_count": 7,
     "metadata": {},
     "output_type": "execute_result"
    }
   ],
   "source": [
    "multiprocessing.current_process()"
   ]
  },
  {
   "cell_type": "code",
   "execution_count": 8,
   "id": "fe60a531",
   "metadata": {},
   "outputs": [],
   "source": [
    "multiprocessing.parent_process()"
   ]
  },
  {
   "cell_type": "code",
   "execution_count": null,
   "id": "85999750",
   "metadata": {},
   "outputs": [],
   "source": []
  },
  {
   "cell_type": "markdown",
   "id": "7e2273d4",
   "metadata": {},
   "source": [
    "## 1-2 프로세스 생성\n",
    "\n",
    "- Process 클래스를 사용하여 새로운 프로세스를 생성할 수 있습니다. \n",
    "- 생성한 프로세스는 독립적으로 실행되며, 별도의 메모리 공간을 가지고 있습니다."
   ]
  },
  {
   "cell_type": "markdown",
   "id": "fb1884ca",
   "metadata": {},
   "source": [
    "### 프로세스에서 작업할  함수를 별도 모듈로 작성 "
   ]
  },
  {
   "cell_type": "code",
   "execution_count": 23,
   "id": "9ff23eee",
   "metadata": {},
   "outputs": [
    {
     "name": "stdout",
     "output_type": "stream",
     "text": [
      "Overwriting worker00.py\n"
     ]
    }
   ],
   "source": [
    "%%writefile worker00.py\n",
    "\n",
    "def my_function():\n",
    "    print(\"Hello from another process!\")\n"
   ]
  },
  {
   "cell_type": "markdown",
   "id": "54509339",
   "metadata": {},
   "source": [
    "### 프로세스를 생성\n"
   ]
  },
  {
   "cell_type": "code",
   "execution_count": 24,
   "id": "b397bb68",
   "metadata": {},
   "outputs": [],
   "source": [
    "from multiprocessing import Process\n",
    "from worker00 import my_function"
   ]
  },
  {
   "cell_type": "code",
   "execution_count": 26,
   "id": "cae2f78b",
   "metadata": {},
   "outputs": [],
   "source": [
    "# 새로운 프로세스 생성\n",
    "my_process = Process(target=my_function)\n"
   ]
  },
  {
   "cell_type": "markdown",
   "id": "1afa1ed4",
   "metadata": {},
   "source": [
    "### 프로세스 시작 \n",
    "\n",
    "- start() 메서드를 사용하여 프로세스를 시작하고, 내부적으로 target으로 지정한 함수 또는 메서드를 실행합니다."
   ]
  },
  {
   "cell_type": "code",
   "execution_count": 29,
   "id": "43ecbf88",
   "metadata": {},
   "outputs": [
    {
     "name": "stdout",
     "output_type": "stream",
     "text": [
      "Hello from another process!\n"
     ]
    }
   ],
   "source": [
    "my_process.start()  # 프로세스 시작\n",
    "my_process.join()   # 프로세스가 완료될 때까지 대기"
   ]
  },
  {
   "cell_type": "code",
   "execution_count": null,
   "id": "b01229a1",
   "metadata": {},
   "outputs": [],
   "source": []
  },
  {
   "cell_type": "markdown",
   "id": "65f6b1f2",
   "metadata": {},
   "source": [
    "## 1-4 프로세스 간 통신: \n",
    "\n",
    "- 멀티프로세스 환경에서는 프로세스 간에 데이터를 공유하거나 통신할 수 있어야 합니다. \n",
    "- multiprocessing 모듈은 이러한 통신을 지원하는 여러 메커니즘을 제공합니다."
   ]
  },
  {
   "cell_type": "code",
   "execution_count": 1,
   "id": "149530a2",
   "metadata": {},
   "outputs": [
    {
     "name": "stdout",
     "output_type": "stream",
     "text": [
      "Overwriting worker01.py\n"
     ]
    }
   ],
   "source": [
    "%%writefile worker01.py\n",
    "\n",
    "def square_numbers(numbers, result, index):\n",
    "    for idx, num in enumerate(numbers):\n",
    "        result[idx] = num * num\n",
    "        index.value = idx  # 공유 메모리 업데이트\n",
    "        \n",
    "\n",
    "def square_number(number):\n",
    "    return number * number"
   ]
  },
  {
   "cell_type": "code",
   "execution_count": 37,
   "id": "cfec15b1",
   "metadata": {},
   "outputs": [
    {
     "name": "stdout",
     "output_type": "stream",
     "text": [
      "[1, 4, 9, 16, 25]\n",
      "-1\n"
     ]
    }
   ],
   "source": [
    "from multiprocessing import Process, Value\n",
    "\n",
    "from worker01 import square_numbers\n",
    "\n",
    "numbers = [1, 2, 3, 4, 5]\n",
    "result = Array('i', [0] * len(numbers))  # 정수형 배열 공유 메모리\n",
    "index = Array('i', [-1])                 # 정수형 배열 공유 메모리\n",
    "\n",
    "my_process = Process(target=square_numbers, args=(numbers, result, index))\n",
    "my_process.start()\n",
    "my_process.join()\n",
    "\n",
    "print(list(result))\n",
    "print(index[0])\n"
   ]
  },
  {
   "cell_type": "code",
   "execution_count": null,
   "id": "1d2361c6",
   "metadata": {},
   "outputs": [],
   "source": []
  },
  {
   "cell_type": "code",
   "execution_count": null,
   "id": "1404fbd1",
   "metadata": {},
   "outputs": [],
   "source": []
  },
  {
   "cell_type": "code",
   "execution_count": 2,
   "id": "34081e17",
   "metadata": {},
   "outputs": [
    {
     "name": "stdout",
     "output_type": "stream",
     "text": [
      "[1, 4, 9, 16, 25]\n"
     ]
    }
   ],
   "source": [
    "from multiprocessing import Pool\n",
    "\n",
    "from worker01 import square_number\n",
    "\n",
    "if __name__ == \"__main__\":\n",
    "    numbers = [1, 2, 3, 4, 5]\n",
    "\n",
    "    # Pool 생성 (기본적으로 CPU 코어 수 만큼의 프로세스를 사용)\n",
    "    pool = Pool()\n",
    "\n",
    "    # map 함수를 사용하여 각 숫자를 제곱하는 작업을 병렬로 처리\n",
    "    result = pool.map(square_number, numbers)\n",
    "\n",
    "    # 프로세스 풀 종료 및 대기\n",
    "    pool.close()\n",
    "    pool.join()\n",
    "\n",
    "    # 결과 출력\n",
    "    print(result)\n"
   ]
  },
  {
   "cell_type": "code",
   "execution_count": null,
   "id": "c8500800",
   "metadata": {},
   "outputs": [],
   "source": []
  },
  {
   "cell_type": "code",
   "execution_count": null,
   "id": "d5427b7f",
   "metadata": {},
   "outputs": [],
   "source": []
  },
  {
   "cell_type": "code",
   "execution_count": 3,
   "id": "eb2fd429",
   "metadata": {},
   "outputs": [
    {
     "name": "stdout",
     "output_type": "stream",
     "text": [
      "[1, 4, 9, 16, 25]\n"
     ]
    }
   ],
   "source": [
    "from multiprocessing import Pool\n",
    "\n",
    "from worker01 import square_number\n",
    "\n",
    "if __name__ == \"__main__\":\n",
    "    numbers = [1, 2, 3, 4, 5]\n",
    "\n",
    "    # Pool 생성 (기본적으로 CPU 코어 수 만큼의 프로세스를 사용)\n",
    "    with Pool() as pool:\n",
    "        # map 함수를 사용하여 각 숫자를 제곱하는 작업을 병렬로 처리\n",
    "        result = pool.map(square_number, numbers)\n",
    "\n",
    "    # 결과 출력\n",
    "    print(result)"
   ]
  },
  {
   "cell_type": "code",
   "execution_count": null,
   "id": "c0a4bd25",
   "metadata": {},
   "outputs": [],
   "source": []
  },
  {
   "cell_type": "code",
   "execution_count": null,
   "id": "05273f90",
   "metadata": {},
   "outputs": [],
   "source": []
  },
  {
   "cell_type": "markdown",
   "id": "2146ce47",
   "metadata": {},
   "source": [
    "## 2 멀티프로세스 처리 "
   ]
  },
  {
   "cell_type": "code",
   "execution_count": null,
   "id": "52e1baef",
   "metadata": {},
   "outputs": [],
   "source": []
  },
  {
   "cell_type": "code",
   "execution_count": 14,
   "id": "121b30f1",
   "metadata": {},
   "outputs": [],
   "source": [
    "from multiprocessing import Process, Array"
   ]
  },
  {
   "cell_type": "code",
   "execution_count": 15,
   "id": "58b85452",
   "metadata": {},
   "outputs": [
    {
     "name": "stdout",
     "output_type": "stream",
     "text": [
      "Help on class Process in module multiprocessing.context:\n",
      "\n",
      "class Process(multiprocessing.process.BaseProcess)\n",
      " |  Process(group=None, target=None, name=None, args=(), kwargs={}, *, daemon=None)\n",
      " |  \n",
      " |  Method resolution order:\n",
      " |      Process\n",
      " |      multiprocessing.process.BaseProcess\n",
      " |      builtins.object\n",
      " |  \n",
      " |  Data and other attributes defined here:\n",
      " |  \n",
      " |  __slotnames__ = []\n",
      " |  \n",
      " |  ----------------------------------------------------------------------\n",
      " |  Methods inherited from multiprocessing.process.BaseProcess:\n",
      " |  \n",
      " |  __init__(self, group=None, target=None, name=None, args=(), kwargs={}, *, daemon=None)\n",
      " |      Initialize self.  See help(type(self)) for accurate signature.\n",
      " |  \n",
      " |  __repr__(self)\n",
      " |      Return repr(self).\n",
      " |  \n",
      " |  close(self)\n",
      " |      Close the Process object.\n",
      " |      \n",
      " |      This method releases resources held by the Process object.  It is\n",
      " |      an error to call this method if the child process is still running.\n",
      " |  \n",
      " |  is_alive(self)\n",
      " |      Return whether process is alive\n",
      " |  \n",
      " |  join(self, timeout=None)\n",
      " |      Wait until child process terminates\n",
      " |  \n",
      " |  kill(self)\n",
      " |      Terminate process; sends SIGKILL signal or uses TerminateProcess()\n",
      " |  \n",
      " |  run(self)\n",
      " |      Method to be run in sub-process; can be overridden in sub-class\n",
      " |  \n",
      " |  start(self)\n",
      " |      Start child process\n",
      " |  \n",
      " |  terminate(self)\n",
      " |      Terminate process; sends SIGTERM signal or uses TerminateProcess()\n",
      " |  \n",
      " |  ----------------------------------------------------------------------\n",
      " |  Readonly properties inherited from multiprocessing.process.BaseProcess:\n",
      " |  \n",
      " |  exitcode\n",
      " |      Return exit code of process or `None` if it has yet to stop\n",
      " |  \n",
      " |  ident\n",
      " |      Return identifier (PID) of process or `None` if it has yet to start\n",
      " |  \n",
      " |  pid\n",
      " |      Return identifier (PID) of process or `None` if it has yet to start\n",
      " |  \n",
      " |  sentinel\n",
      " |      Return a file descriptor (Unix) or handle (Windows) suitable for\n",
      " |      waiting for process termination.\n",
      " |  \n",
      " |  ----------------------------------------------------------------------\n",
      " |  Data descriptors inherited from multiprocessing.process.BaseProcess:\n",
      " |  \n",
      " |  __dict__\n",
      " |      dictionary for instance variables (if defined)\n",
      " |  \n",
      " |  __weakref__\n",
      " |      list of weak references to the object (if defined)\n",
      " |  \n",
      " |  authkey\n",
      " |  \n",
      " |  daemon\n",
      " |      Return whether process is a daemon\n",
      " |  \n",
      " |  name\n",
      "\n"
     ]
    }
   ],
   "source": [
    "help(Process)"
   ]
  },
  {
   "cell_type": "markdown",
   "id": "64c68338",
   "metadata": {},
   "source": [
    "## 2-1 멀티프로세스 처리를 위해서는 두 개의 모듈로 구분 \n",
    "\n",
    "- 게산하는 함수를 별도로 정의 "
   ]
  },
  {
   "cell_type": "markdown",
   "id": "86213851",
   "metadata": {},
   "source": [
    "### 실행할 함수를 별도의 모듈에 생성"
   ]
  },
  {
   "cell_type": "code",
   "execution_count": 27,
   "id": "c1591516",
   "metadata": {},
   "outputs": [
    {
     "name": "stdout",
     "output_type": "stream",
     "text": [
      "Overwriting worker.py\n"
     ]
    }
   ],
   "source": [
    "%%writefile worker.py\n",
    "# worker.py\n",
    "\n",
    "\n",
    "def square_numbers(numbers, result, index):\n",
    "    for idx, num in enumerate(numbers):\n",
    "        result[idx] = num * num\n",
    "        index.value = idx                   # 공유 메모리 업데이트"
   ]
  },
  {
   "cell_type": "markdown",
   "id": "0debed94",
   "metadata": {},
   "source": [
    "## 2-2 메인 프로세스 처리 \n",
    "\n",
    "- multiprocessing.Array를 사용하여 배열을 만들고, 해당 배열을 공유 메모리로 사용하는 방법이 있습니다."
   ]
  },
  {
   "cell_type": "markdown",
   "id": "ac5c7fb8",
   "metadata": {},
   "source": [
    "### 메인 모듈에서 실행함수를 가지고 프로세스 처리 "
   ]
  },
  {
   "cell_type": "code",
   "execution_count": 28,
   "id": "76828dd5",
   "metadata": {},
   "outputs": [
    {
     "name": "stdout",
     "output_type": "stream",
     "text": [
      "[1, 4, 9, 16, 25]\n",
      "-1\n"
     ]
    }
   ],
   "source": [
    "from multiprocessing import Process, Array\n",
    "from worker import square_numbers\n",
    "\n",
    "if __name__ == \"__main__\":\n",
    "    numbers = [1, 2, 3, 4, 5]\n",
    "    result = Array('i', [0] * len(numbers))  # 정수형 배열 공유 메모리\n",
    "    index = Array('i', [-1])                 # 정수형 배열 공유 메모리\n",
    "\n",
    "    # 멀티프로세스 생성\n",
    "    process = Process(target=square_numbers, args=(numbers, result, index))\n",
    "\n",
    "    # 프로세스 시작\n",
    "    process.start()\n",
    "\n",
    "    # 프로세스가 완료될 때까지 대기\n",
    "    process.join()\n",
    "\n",
    "    # 결과 출력\n",
    "    print(list(result))\n",
    "    print(index[0])\n",
    "\n"
   ]
  },
  {
   "cell_type": "code",
   "execution_count": null,
   "id": "3a658e2e",
   "metadata": {},
   "outputs": [],
   "source": []
  },
  {
   "cell_type": "code",
   "execution_count": null,
   "id": "743cff39",
   "metadata": {},
   "outputs": [],
   "source": []
  }
 ],
 "metadata": {
  "kernelspec": {
   "display_name": "Python 3 (ipykernel)",
   "language": "python",
   "name": "python3"
  },
  "language_info": {
   "codemirror_mode": {
    "name": "ipython",
    "version": 3
   },
   "file_extension": ".py",
   "mimetype": "text/x-python",
   "name": "python",
   "nbconvert_exporter": "python",
   "pygments_lexer": "ipython3",
   "version": "3.11.3"
  }
 },
 "nbformat": 4,
 "nbformat_minor": 5
}
