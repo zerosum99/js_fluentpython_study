{
 "cells": [
  {
   "cell_type": "markdown",
   "id": "d948ccb0",
   "metadata": {},
   "source": [
    "## 파이썬 버전"
   ]
  },
  {
   "cell_type": "code",
   "execution_count": 1,
   "id": "b0e2e6a5",
   "metadata": {},
   "outputs": [
    {
     "data": {
      "text/plain": [
       "'3.11.3'"
      ]
     },
     "execution_count": 1,
     "metadata": {},
     "output_type": "execute_result"
    }
   ],
   "source": [
    "import platform\n",
    "\n",
    "platform.python_version()"
   ]
  },
  {
   "cell_type": "code",
   "execution_count": null,
   "id": "8d76a238",
   "metadata": {},
   "outputs": [],
   "source": []
  },
  {
   "cell_type": "code",
   "execution_count": null,
   "id": "1d3bbaed",
   "metadata": {},
   "outputs": [],
   "source": []
  },
  {
   "cell_type": "markdown",
   "id": "31f7d2b9",
   "metadata": {},
   "source": [
    "## 1. 스레드 처리하기 \n",
    "\n",
    "- 파이썬에서 스레드를 사용하여 간단한 동시성 처리를 구현하는 예제를 제공합니다. \n",
    "- 스레드는 파이썬의 threading 모듈을 통해 사용할 수 있습니다.\n",
    "\n",
    "### 스레드란\n",
    "- , 스레드는 하나의 프로세스 내에서 실행되는 경량의 실행 단위이며, 프로세스는 독립적인 메모리 공간을 가지고 실행되는 독립적인 실행 단위입니다."
   ]
  },
  {
   "cell_type": "markdown",
   "id": "6e72216f",
   "metadata": {},
   "source": [
    "## 필요한 모듈 import 하기"
   ]
  },
  {
   "cell_type": "code",
   "execution_count": 29,
   "id": "d2bbaeb8",
   "metadata": {},
   "outputs": [],
   "source": [
    "import threading\n",
    "import time\n",
    "import random\n",
    "import sys\n",
    "import multiprocessing"
   ]
  },
  {
   "cell_type": "markdown",
   "id": "1d4b2663",
   "metadata": {},
   "source": [
    "## 1-1 스레드 내부에 있는 속성 확인 "
   ]
  },
  {
   "cell_type": "markdown",
   "id": "34186a69",
   "metadata": {},
   "source": [
    "### 1-1-1. 스레딩 모듈 내부 확인 "
   ]
  },
  {
   "cell_type": "code",
   "execution_count": 3,
   "id": "1f27fea4",
   "metadata": {},
   "outputs": [
    {
     "name": "stdout",
     "output_type": "stream",
     "text": [
      "Barrier, BoundedSemaphore, BrokenBarrierError, Condition, Event, ExceptHookArgs, Lock, RLock, Semaphore, TIMEOUT_MAX, Thread, ThreadError, Timer, WeakSet, activeCount, active_count, currentThread, current_thread, enumerate, excepthook, functools, get_ident, get_native_id, getprofile, gettrace, local, main_thread, setprofile, settrace, stack_size, "
     ]
    }
   ],
   "source": [
    "for i in dir(threading) :\n",
    "    if not i.startswith(\"_\") : \n",
    "        print(i, end=\", \")"
   ]
  },
  {
   "cell_type": "markdown",
   "id": "a3ba2a00",
   "metadata": {},
   "source": [
    "###  1-1-2. 스레드 정보 확인  : 스레드 이름 "
   ]
  },
  {
   "cell_type": "code",
   "execution_count": 17,
   "id": "1fcacc72",
   "metadata": {},
   "outputs": [
    {
     "name": "stdout",
     "output_type": "stream",
     "text": [
      "Current Thread: MainThread\n"
     ]
    }
   ],
   "source": [
    "\n",
    "current_thread = threading.current_thread()\n",
    "print(f\"Current Thread: {current_thread.name}\")\n"
   ]
  },
  {
   "cell_type": "markdown",
   "id": "ca5a9535",
   "metadata": {},
   "source": [
    "### 1-1-3 스레드 상태"
   ]
  },
  {
   "cell_type": "code",
   "execution_count": 25,
   "id": "93cd6a5b",
   "metadata": {},
   "outputs": [
    {
     "name": "stdout",
     "output_type": "stream",
     "text": [
      "Current Thread status : True\n"
     ]
    }
   ],
   "source": [
    "print(f\"Current Thread status : {current_thread.is_alive()}\")"
   ]
  },
  {
   "cell_type": "markdown",
   "id": "976bdb2b",
   "metadata": {},
   "source": [
    "### 1-1-4 데몬 스레드 여부 확인 "
   ]
  },
  {
   "cell_type": "code",
   "execution_count": 27,
   "id": "383dabe0",
   "metadata": {},
   "outputs": [
    {
     "name": "stdout",
     "output_type": "stream",
     "text": [
      "Current Thread status : False\n"
     ]
    }
   ],
   "source": [
    "print(f\"Current Thread status : {current_thread.daemon}\")"
   ]
  },
  {
   "cell_type": "code",
   "execution_count": null,
   "id": "87f4d12e",
   "metadata": {},
   "outputs": [],
   "source": []
  },
  {
   "cell_type": "markdown",
   "id": "ae4785b3",
   "metadata": {},
   "source": [
    "## 1-2 GIL 확인하기 \n",
    "\n",
    "- GIL(Global Interpreter Lock)은 CPython (CPython은 파이썬의 표준 구현체 중 하나)에서 사용되는 메커니즘\n",
    "- 한 번에 하나의 스레드만 파이썬 바이트코드를 실행할 수 있게 합니다. \n",
    "- 이로 인해 멀티코어 CPU에서 병렬로 실행되는 것이 제한되고, CPU 바운드 작업에서는 성능 향상이 제한될 수 있습니다."
   ]
  },
  {
   "cell_type": "markdown",
   "id": "38f6ca34",
   "metadata": {},
   "source": [
    "### 스레드 처리 함수 정의 "
   ]
  },
  {
   "cell_type": "code",
   "execution_count": 20,
   "id": "92df606e",
   "metadata": {},
   "outputs": [],
   "source": [
    "# 전역변수 정의 \n",
    "counter_value = 0\n",
    "limit_value = 1000000\n",
    "\n",
    "# 함수를 정의하기 \n",
    "def count_up(counter, limit):\n",
    "    while counter < limit:\n",
    "        counter += 1"
   ]
  },
  {
   "cell_type": "markdown",
   "id": "f6e1a1f2",
   "metadata": {},
   "source": [
    "### 함수를 바로 실행 : 단일 스레드 처리"
   ]
  },
  {
   "cell_type": "code",
   "execution_count": 21,
   "id": "07b4c521",
   "metadata": {},
   "outputs": [
    {
     "name": "stdout",
     "output_type": "stream",
     "text": [
      "Single-threaded result: 0\n"
     ]
    }
   ],
   "source": [
    "# 단일 스레드에서 작업 수행\n",
    "count_up(counter_value, limit_value)\n",
    "print(\"Single-threaded result:\", counter_value)"
   ]
  },
  {
   "cell_type": "markdown",
   "id": "467f525e",
   "metadata": {},
   "source": [
    "### 스레드 모듈로 멀티스레드 처리 \n",
    "\n",
    "- gil 작동확인 "
   ]
  },
  {
   "cell_type": "code",
   "execution_count": 22,
   "id": "b89b882d",
   "metadata": {},
   "outputs": [
    {
     "name": "stdout",
     "output_type": "stream",
     "text": [
      "Multi-threaded result: 0\n",
      "GIL is enabled\n"
     ]
    }
   ],
   "source": [
    "\n",
    "\n",
    "# 멀티스레딩에서 작업 수행\n",
    "counter_value = 0\n",
    "thread1 = threading.Thread(target=count_up, args=(counter_value, limit_value // 2))\n",
    "thread2 = threading.Thread(target=count_up, args=(counter_value, limit_value // 2))\n",
    "\n",
    "thread1.start()\n",
    "thread2.start()\n",
    "thread1.join()\n",
    "thread2.join()\n",
    "\n",
    "print(\"Multi-threaded result:\", counter_value)\n",
    "\n",
    "# 현재 GIL 상태 확인\n",
    "gil_enabled = sys.getswitchinterval() > 0\n",
    "print(f\"GIL is {'enabled' if gil_enabled else 'disabled'}\")\n"
   ]
  },
  {
   "cell_type": "code",
   "execution_count": null,
   "id": "54efced7",
   "metadata": {},
   "outputs": [],
   "source": []
  },
  {
   "cell_type": "markdown",
   "id": "c161c296",
   "metadata": {},
   "source": [
    "## 1-3 스레드 클래스로 스레드  정의\n",
    "\n",
    "-  클래스를 상속 받아서 클래스 정의\n",
    "-  생성자에서 스레드를 생성하고 run으로 클래스를 실행 "
   ]
  },
  {
   "cell_type": "code",
   "execution_count": null,
   "id": "0656334a",
   "metadata": {},
   "outputs": [],
   "source": []
  },
  {
   "cell_type": "markdown",
   "id": "2ff15244",
   "metadata": {},
   "source": [
    "### 스레드 클래스를 정의 \n",
    "\n",
    "-  내부에는 run 메서드를 정의 "
   ]
  },
  {
   "cell_type": "code",
   "execution_count": 4,
   "id": "46173c21",
   "metadata": {},
   "outputs": [],
   "source": [
    "class myWorkerThread(threading.Thread) :\n",
    "    def __init__(self) :\n",
    "        print(\" Hello Thread \")\n",
    "        threading.Thread.__init__(self)\n",
    "        \n",
    "    def run(self) :                        # 스레드 start 메서드 호출되면 실행될 메서드 정의 \n",
    "        print(\"Thread is now running\")"
   ]
  },
  {
   "cell_type": "markdown",
   "id": "2b7f43cd",
   "metadata": {},
   "source": [
    "### 클래스 객체를 생성"
   ]
  },
  {
   "cell_type": "code",
   "execution_count": 5,
   "id": "be1e4de0",
   "metadata": {},
   "outputs": [
    {
     "name": "stdout",
     "output_type": "stream",
     "text": [
      " Hello Thread \n"
     ]
    }
   ],
   "source": [
    "myThread = myWorkerThread()"
   ]
  },
  {
   "cell_type": "markdown",
   "id": "d824a5c2",
   "metadata": {},
   "source": [
    "### 스레드를 실행과 종료 "
   ]
  },
  {
   "cell_type": "code",
   "execution_count": 6,
   "id": "d1e4f076",
   "metadata": {},
   "outputs": [
    {
     "name": "stdout",
     "output_type": "stream",
     "text": [
      "Thread is now running\n"
     ]
    }
   ],
   "source": [
    "myThread.start()\n",
    "myThread.join()"
   ]
  },
  {
   "cell_type": "code",
   "execution_count": null,
   "id": "b5b0b53f",
   "metadata": {},
   "outputs": [],
   "source": []
  },
  {
   "cell_type": "markdown",
   "id": "c77c1ecc",
   "metadata": {},
   "source": [
    "## 1-4  스레드 내의 특정 정보 처리 \n",
    "\n",
    "- 생성자에 스레드 정보를 추가한다"
   ]
  },
  {
   "cell_type": "markdown",
   "id": "7b208a12",
   "metadata": {},
   "source": [
    "### 클래스 정의 "
   ]
  },
  {
   "cell_type": "code",
   "execution_count": 7,
   "id": "a30555dc",
   "metadata": {},
   "outputs": [],
   "source": [
    "class MyThread1(threading.Thread):\n",
    "    def __init__(self, thread_id, name):\n",
    "        threading.Thread.__init__(self)\n",
    "        self.thread_id = thread_id\n",
    "        self.name = name\n",
    "\n",
    "    def run(self):\n",
    "        print(f\"Thread {self.thread_id} ({self.name}) is running\")\n",
    "        time.sleep(3)\n",
    "        print(f\"Thread {self.thread_id} ({self.name}) completed\")\n"
   ]
  },
  {
   "cell_type": "markdown",
   "id": "22c54fae",
   "metadata": {},
   "source": [
    "### 스레드 객체를 생성하고 실행하기"
   ]
  },
  {
   "cell_type": "code",
   "execution_count": 8,
   "id": "14c5960e",
   "metadata": {},
   "outputs": [
    {
     "name": "stdout",
     "output_type": "stream",
     "text": [
      "Thread 1 (Thread 1) is runningThread 2 (Thread 2) is running\n",
      "\n",
      "Main thread is running\n",
      "Thread 2 (Thread 2) completedThread 1 (Thread 1) completed\n",
      "\n",
      "All threads are completed\n"
     ]
    }
   ],
   "source": [
    "# 스레드 인스턴스 생성\n",
    "thread1 = MyThread1(thread_id=1, name=\"Thread 1\")\n",
    "thread2 = MyThread1(thread_id=2, name=\"Thread 2\")\n",
    "\n",
    "# 스레드 시작\n",
    "thread1.start()\n",
    "thread2.start()\n",
    "\n",
    "# 메인 스레드에서도 일부 작업을 수행할 수 있음\n",
    "print(\"Main thread is running\")\n",
    "\n",
    "# 각 스레드가 완료될 때까지 대기\n",
    "thread1.join()\n",
    "thread2.join()\n",
    "\n",
    "print(\"All threads are completed\")\n"
   ]
  },
  {
   "cell_type": "code",
   "execution_count": null,
   "id": "13333308",
   "metadata": {},
   "outputs": [],
   "source": []
  },
  {
   "cell_type": "markdown",
   "id": "86a46b59",
   "metadata": {},
   "source": [
    "## 1-5 데몬 스레드 처리하기\n",
    "\n",
    "- 데몬 스레드란 종료점이 정의되지 않은 실질적인 스레드이다. 이는 프로그램이 종료될때까지 계속 작동한다.\n",
    "- 데몬 스레드는 프로그램의 백그라운드에 위치해 주기적으로 변경없이 갱신 값을 전달하면서 인스턴스가 종료되는 것을 걱정할 필요없이 관리 \n",
    "\n"
   ]
  },
  {
   "cell_type": "markdown",
   "id": "945548c9",
   "metadata": {},
   "source": [
    "### 스레드에서 작동할 함수 정의 "
   ]
  },
  {
   "cell_type": "code",
   "execution_count": 9,
   "id": "fccea45d",
   "metadata": {},
   "outputs": [],
   "source": [
    "def worker_function(name):\n",
    "    for _ in range(3):\n",
    "        print(f\"Worker {name} is working\")\n",
    "        time.sleep(1)\n",
    "    print(f\"Worker {name} completed\")"
   ]
  },
  {
   "cell_type": "markdown",
   "id": "654e7233",
   "metadata": {},
   "source": [
    "### 스레드 실행할 함수 정의  \n",
    "\n",
    "- 스레드를 데몬으로 지정하기 "
   ]
  },
  {
   "cell_type": "code",
   "execution_count": 10,
   "id": "9c869be0",
   "metadata": {},
   "outputs": [],
   "source": [
    "def main():\n",
    "    # 스레드 생성\n",
    "    thread1 = threading.Thread(target=worker_function, args=(\"A\",))\n",
    "    thread2 = threading.Thread(target=worker_function, args=(\"B\",))\n",
    "\n",
    "    # 데몬 스레드 설정 (메인 스레드가 종료되면 함께 종료됨)\n",
    "    thread1.daemon = True\n",
    "    thread2.daemon = True\n",
    "\n",
    "    # 스레드 시작\n",
    "    thread1.start()\n",
    "    thread2.start()\n",
    "\n",
    "    # 스레드가 완료될 때까지 대기\n",
    "    thread1.join()\n",
    "    thread2.join()\n",
    "\n",
    "    print(\"All threads are completed\")\n"
   ]
  },
  {
   "cell_type": "markdown",
   "id": "05f95b30",
   "metadata": {},
   "source": [
    "### 스레드 실행 "
   ]
  },
  {
   "cell_type": "code",
   "execution_count": 11,
   "id": "19bf68e6",
   "metadata": {},
   "outputs": [
    {
     "name": "stdout",
     "output_type": "stream",
     "text": [
      "Current thread name: MainThread\n",
      "Active threads: 8\n",
      "Worker A is working\n",
      "Worker B is working\n",
      "Worker A is working\n",
      "Worker B is working\n",
      "Worker A is workingWorker B is working\n",
      "\n",
      "Worker B completed\n",
      "Worker A completed\n",
      "All threads are completed\n"
     ]
    }
   ],
   "source": [
    "if __name__ == \"__main__\":\n",
    "    # 현재 스레드 정보 얻기\n",
    "    current_thread = threading.current_thread()\n",
    "    print(f\"Current thread name: {current_thread.name}\")\n",
    "\n",
    "    # 현재 활성화된 스레드 개수 얻기\n",
    "    active_threads = threading.active_count()\n",
    "    print(f\"Active threads: {active_threads}\")\n",
    "\n",
    "    # 메인 함수 실행\n",
    "    main()\n"
   ]
  },
  {
   "cell_type": "code",
   "execution_count": null,
   "id": "c24aff5b",
   "metadata": {},
   "outputs": [],
   "source": []
  },
  {
   "cell_type": "code",
   "execution_count": null,
   "id": "e959721c",
   "metadata": {},
   "outputs": [],
   "source": []
  },
  {
   "cell_type": "markdown",
   "id": "206ed50f",
   "metadata": {},
   "source": [
    "##  1-6 데몬스레드와 일반 스레드 처리 차이점 \n",
    "\n",
    "### 데몬 스레드와 일반 스레드 간의 주요 차이점\n",
    "\n",
    "- 데몬 스레드가 메인 스레드가 종료될 때 함께 종료되는 것입니다. 이를테면, 프로그램이 모든 일반 스레드의 작업을 완료하고 메인 스레드가 종료되더라도, 데몬 스레드는 메인 스레드가 종료될 때 함께 강제 종료됩니다.\n",
    "\n",
    "-  데몬 스레드가 메인 스레드와 독립적으로 실행되는 동안, 일반 스레드는 메인 스레드에 종속되어 있어 메인 스레드가 종료되더라도 계속 실행될 수 있습니다."
   ]
  },
  {
   "cell_type": "markdown",
   "id": "462502f1",
   "metadata": {},
   "source": [
    "### 스레드에서 실행할 함수 정의 "
   ]
  },
  {
   "cell_type": "code",
   "execution_count": 12,
   "id": "0d0bea91",
   "metadata": {},
   "outputs": [],
   "source": [
    "def daemon_thread():\n",
    "    while True:                            ## 무한순환을 실행 중이라서 현재 작동하는 것이 계속 실행할 수 있음 \n",
    "        print(\"Daemon thread is running\")\n",
    "        time.sleep(1)\n",
    "\n",
    "def non_daemon_thread():\n",
    "    for _ in range(5):\n",
    "        print(\"Non-daemon thread is working\")\n",
    "        time.sleep(1)\n",
    "    print(\"Non-daemon thread completed\")"
   ]
  },
  {
   "cell_type": "markdown",
   "id": "36147c7f",
   "metadata": {},
   "source": [
    "### 스레드 실행 "
   ]
  },
  {
   "cell_type": "code",
   "execution_count": 13,
   "id": "93d5e7dc",
   "metadata": {},
   "outputs": [
    {
     "name": "stdout",
     "output_type": "stream",
     "text": [
      "Overwriting demon.py\n"
     ]
    }
   ],
   "source": [
    "%%writefile demon.py\n",
    "\n",
    "import threading\n",
    "import time\n",
    "\n",
    "def daemon_thread():\n",
    "    while True:\n",
    "        print(\"Daemon thread is running\")\n",
    "        time.sleep(1)\n",
    "\n",
    "def non_daemon_thread():\n",
    "    for _ in range(5):\n",
    "        print(\"Non-daemon thread is working\")\n",
    "        time.sleep(1)\n",
    "    print(\"Non-daemon thread completed\")\n",
    "\n",
    "if __name__ == \"__main__\":\n",
    "    # 데몬 스레드 생성\n",
    "    daemon_thread = threading.Thread(target=daemon_thread)\n",
    "    daemon_thread.daemon = True  # 데몬 스레드로 설정\n",
    "\n",
    "    # 일반 스레드 생성\n",
    "    non_daemon_thread = threading.Thread(target=non_daemon_thread)\n",
    "\n",
    "    # 스레드 시작\n",
    "    daemon_thread.start()\n",
    "    non_daemon_thread.start()\n",
    "\n",
    "    try:\n",
    "        # 모든 스레드가 완료될 때까지 대기\n",
    "        non_daemon_thread.join()\n",
    "        daemon_thread.join()\n",
    "    except KeyboardInterrupt:\n",
    "        # Ctrl+C 등의 인터럽트 시그널이 발생하면 프로그램 종료\n",
    "        pass\n",
    "\n",
    "    print(\"Main thread completed\")\n"
   ]
  },
  {
   "cell_type": "markdown",
   "id": "2a16937a",
   "metadata": {},
   "source": [
    "### 무한순환중에는 강제로 종료시킴 \n",
    "\n",
    "- 데몬 스레드는 프로그램이 메인 스레드를 포함하여 모든 일반 스레드의 실행이 완료되면 자동으로 종료됩니다. \n",
    "\n",
    "#### 그러나 주의해야 할 중요한 점이 있습니다. \n",
    "\n",
    "- 프로그램이 메인 스레드가 종료될 때 모든 일반 스레드의 실행이 완료되지 않았다면, 데몬 스레드가 강제 종료될 수 있습니다."
   ]
  },
  {
   "cell_type": "code",
   "execution_count": 14,
   "id": "81bce3f8",
   "metadata": {},
   "outputs": [
    {
     "name": "stdout",
     "output_type": "stream",
     "text": [
      "Daemon thread is running\n",
      "Non-daemon thread is working\n",
      "Daemon thread is running\n",
      "Non-daemon thread is working\n",
      "Daemon thread is running\n",
      "Non-daemon thread is working\n",
      "Daemon thread is running\n",
      "Non-daemon thread is working\n",
      "Non-daemon thread is workingDaemon thread is running\n",
      "\n",
      "Non-daemon thread completed\n",
      "Daemon thread is running\n",
      "Daemon thread is running\n",
      "Daemon thread is running\n",
      "Daemon thread is running\n",
      "Daemon thread is running\n",
      "Daemon thread is running\n",
      "Daemon thread is running\n",
      "Daemon thread is running\n",
      "Main thread completed\n",
      "Main thread completed\n"
     ]
    }
   ],
   "source": [
    "%run demon.py"
   ]
  },
  {
   "cell_type": "code",
   "execution_count": null,
   "id": "373fdceb",
   "metadata": {},
   "outputs": [],
   "source": []
  },
  {
   "cell_type": "markdown",
   "id": "d8307a91",
   "metadata": {},
   "source": [
    "### 위의 코드에서  데몬 스레드를 강제로 종료 처리하기\n",
    "\n",
    "- 프로그램이 메인 스레드를 포함하여 모든 일반 스레드의 실행이 완료되면 자동으로 종료되어야 합니다. \n",
    "- 그러나 위의 코드에서는 daemon_thread 함수가 무한 루프를 갖고 있어서 종료되지 않는 문제가 발생할 수 있습니다.\n",
    "- 데몬 스레드를 정상적으로 종료하려면 해당 스레드에서 실행되는 루프나 작업이 종료될 수 있도록 설계해야 합니다. \n",
    "- 루프나 작업을 완료하면 데몬 스레드는 자동으로 종료됩니다."
   ]
  },
  {
   "cell_type": "code",
   "execution_count": 16,
   "id": "0e88821d",
   "metadata": {},
   "outputs": [
    {
     "name": "stdout",
     "output_type": "stream",
     "text": [
      "Daemon thread is running\n",
      "Non-daemon thread is working\n",
      "Daemon thread is running\n",
      "Non-daemon thread is working\n",
      "Daemon thread is running\n",
      "Non-daemon thread is working\n",
      "Daemon thread is running\n",
      "Non-daemon thread is working\n",
      "Daemon thread is running\n",
      "Non-daemon thread is working\n",
      "Daemon thread is running\n",
      "Non-daemon thread completed\n",
      "Main thread completed\n"
     ]
    }
   ],
   "source": [
    "\n",
    "\n",
    "def daemon_thread2(stop_event):\n",
    "    while not stop_event.is_set():\n",
    "        print(\"Daemon thread is running\")\n",
    "        time.sleep(1)\n",
    "\n",
    "def non_daemon_thread2():\n",
    "    for _ in range(5):\n",
    "        print(\"Non-daemon thread is working\")\n",
    "        time.sleep(1)\n",
    "    print(\"Non-daemon thread completed\")\n",
    "\n",
    "if __name__ == \"__main__\":\n",
    "    # 이벤트 생성\n",
    "    stop_event = threading.Event()\n",
    "\n",
    "    # 데몬 스레드 생성\n",
    "    daemon_thread = threading.Thread(target=daemon_thread2, args=(stop_event,))\n",
    "    daemon_thread.daemon = True  # 데몬 스레드로 설정\n",
    "\n",
    "    # 일반 스레드 생성\n",
    "    non_daemon_thread = threading.Thread(target=non_daemon_thread2)\n",
    "\n",
    "    # 스레드 시작\n",
    "    daemon_thread.start()\n",
    "    non_daemon_thread.start()\n",
    "\n",
    "    try:\n",
    "        # 모든 스레드가 완료될 때까지 대기\n",
    "        non_daemon_thread.join()\n",
    "        stop_event.set()                # 데몬 스레드 종료를 위해 이벤트 설정\n",
    "        daemon_thread.join()\n",
    "    except KeyboardInterrupt:\n",
    "        # Ctrl+C 등의 인터럽트 시그널이 발생하면 프로그램 종료\n",
    "        pass\n",
    "\n",
    "    print(\"Main thread completed\")\n"
   ]
  },
  {
   "cell_type": "code",
   "execution_count": null,
   "id": "bf288b13",
   "metadata": {},
   "outputs": [],
   "source": []
  },
  {
   "cell_type": "markdown",
   "id": "3d7fe5d8",
   "metadata": {},
   "source": [
    "## 1-7 프로세스와 스레드 이해하기"
   ]
  },
  {
   "cell_type": "code",
   "execution_count": null,
   "id": "9674d43a",
   "metadata": {},
   "outputs": [],
   "source": []
  },
  {
   "cell_type": "code",
   "execution_count": 61,
   "id": "9e164804",
   "metadata": {},
   "outputs": [
    {
     "name": "stdout",
     "output_type": "stream",
     "text": [
      "Starting==>\n",
      "Starting==>\n",
      "Starting==>\n",
      "Starting==>\n",
      "Starting==>\n",
      "Starting==>\n",
      "Starting==>\n",
      "Starting==>\n",
      "Starting==>\n",
      "Starting==>\n",
      "Total time for creating 10 Threads 0.003905057907104492\n"
     ]
    }
   ],
   "source": [
    "def mytask() :\n",
    "    print(\"Starting==>\")\n",
    "    time.sleep(2)\n",
    "    \n",
    "    \n",
    "t0 = time.time()\n",
    "threads = []\n",
    "\n",
    "for i in range(10) :\n",
    "    thread = threading.Thread(target=mytask)\n",
    "    thread.start()\n",
    "    threads.append(thread)   # 리스트에 스레드 넣기\n",
    "    \n",
    "t1 = time.time()\n",
    "print(f\"Total time for creating 10 Threads { t1 - t0}\")\n",
    "\n",
    "for thread in threads :\n",
    "    thread.join()"
   ]
  },
  {
   "cell_type": "code",
   "execution_count": null,
   "id": "d8aac0ae",
   "metadata": {},
   "outputs": [],
   "source": []
  },
  {
   "cell_type": "markdown",
   "id": "a5e00d65",
   "metadata": {},
   "source": [
    "## 프로세스 처리할 때는 두 개의 절차가 분리 \n",
    "- 주피터 노트북에서 실행"
   ]
  },
  {
   "cell_type": "code",
   "execution_count": 48,
   "id": "25812505",
   "metadata": {},
   "outputs": [
    {
     "name": "stdout",
     "output_type": "stream",
     "text": [
      "Overwriting mytask_.py\n"
     ]
    }
   ],
   "source": [
    "%%writefile mytask_.py \n",
    "import time\n",
    "\n",
    "def mytask() :\n",
    "    print(\"Starting==>\")\n",
    "    time.sleep(2)"
   ]
  },
  {
   "cell_type": "code",
   "execution_count": 49,
   "id": "96f41306",
   "metadata": {},
   "outputs": [
    {
     "name": "stdout",
     "output_type": "stream",
     "text": [
      "Total time for creating 10 processess : 0.0509183406829834\n",
      "Starting==>\n",
      "Starting==>\n",
      "Starting==>\n",
      "Starting==>\n",
      "Starting==>\n",
      "Starting==>\n",
      "Starting==>\n",
      "Starting==>\n",
      "Starting==>\n",
      "Starting==>\n"
     ]
    }
   ],
   "source": [
    "import mytask_\n",
    "\n",
    "if __name__ == \"__main__\":\n",
    "\n",
    "    t2 = time.time()\n",
    "\n",
    "    procs = []\n",
    "\n",
    "    for i in range(10) :\n",
    "        process = multiprocessing.Process(target=mytask_.mytask)\n",
    "        process.start()\n",
    "        procs.append(process)\n",
    "        \n",
    "    t3 = time.time()\n",
    "    print(f\"Total time for creating 10 processess : {t3-t2}\")\n",
    "    for proc in procs :\n",
    "        proc.join()"
   ]
  },
  {
   "cell_type": "markdown",
   "id": "2f2ae944",
   "metadata": {},
   "source": [
    "## 프로세스를 하나의 파일에서 처리함\n",
    "\n",
    "-  메인에서 실제 로직을 실행함 "
   ]
  },
  {
   "cell_type": "code",
   "execution_count": 59,
   "id": "2df5dd70",
   "metadata": {},
   "outputs": [
    {
     "name": "stdout",
     "output_type": "stream",
     "text": [
      "Overwriting mytask_run.py\n"
     ]
    }
   ],
   "source": [
    "%%writefile mytask_run.py \n",
    "\n",
    "import time\n",
    "import multiprocessing\n",
    "\n",
    "def mytask() :\n",
    "    print(\"Starting==>\")\n",
    "    time.sleep(2)\n",
    "    \n",
    "\n",
    "if __name__ == '__main__':\n",
    "    t2 = time.time()\n",
    "\n",
    "    procs = []\n",
    "\n",
    "    for i in range(10) :\n",
    "        process = multiprocessing.Process(target=mytask)\n",
    "        process.start()\n",
    "        procs.append(process)\n",
    "        \n",
    "    t3 = time.time()\n",
    "    print(f\"Total time for creating 10 processess : {t3-t2}\")\n",
    "    for proc in procs :\n",
    "        proc.join()"
   ]
  },
  {
   "cell_type": "code",
   "execution_count": null,
   "id": "01a25ff5",
   "metadata": {},
   "outputs": [],
   "source": []
  },
  {
   "cell_type": "code",
   "execution_count": null,
   "id": "d9ac29ca",
   "metadata": {},
   "outputs": [],
   "source": []
  },
  {
   "cell_type": "markdown",
   "id": "3db28a06",
   "metadata": {},
   "source": [
    "## 2. 스레드 활용 "
   ]
  },
  {
   "cell_type": "markdown",
   "id": "79436182",
   "metadata": {},
   "source": [
    "## 2-1 여러 스레드 만들어서 실행해보기  \n",
    "\n",
    "-  함수 정의\n",
    "- 스레드 내에 함수 지정\n",
    "- 스레드 시작과 조인 "
   ]
  },
  {
   "cell_type": "markdown",
   "id": "45c27c5b",
   "metadata": {},
   "source": [
    "### 스레드에 들어갈 함수 정의"
   ]
  },
  {
   "cell_type": "code",
   "execution_count": 1,
   "id": "f8af82cc",
   "metadata": {},
   "outputs": [],
   "source": [
    "def executeThread(i) :\n",
    "    print(f\"Thread {i} started\")\n",
    "    sleepTime = random.randint(1,10)\n",
    "    time.sleep(sleepTime)\n",
    "    print(f\"Thread sleep {sleepTime} \")"
   ]
  },
  {
   "cell_type": "markdown",
   "id": "42196c75",
   "metadata": {},
   "source": [
    "### 스레드 시작 및 종료"
   ]
  },
  {
   "cell_type": "code",
   "execution_count": 4,
   "id": "a4f63d4d",
   "metadata": {},
   "outputs": [
    {
     "name": "stdout",
     "output_type": "stream",
     "text": [
      "Thread 0 startedThread 1 started\n",
      "\n",
      "Thread 2 started\n",
      "Thread 3 started\n",
      "Thread 4 started\n",
      "Thread 5 started\n",
      "Thread 6 started\n",
      "Thread 7 started\n",
      "Thread 8 started\n",
      "Thread 9 started\n",
      "Active Threads [<_MainThread(MainThread, started 7978636032)>, <Thread(IOPub, started daemon 6111883264)>, <Heartbeat(Heartbeat, started daemon 6128709632)>, <Thread(Thread-3 (_watch_pipe_fd), started daemon 6146682880)>, <Thread(Thread-4 (_watch_pipe_fd), started daemon 6163509248)>, <ControlThread(Control, started daemon 10754224128)>, <HistorySavingThread(IPythonHistorySavingThread, started 10771050496)>, <ParentPollerUnix(Thread-2, started daemon 10787876864)>, <Thread(Thread-5 (executeThread), started 10804703232)>, <Thread(Thread-6 (executeThread), started 10821529600)>, <Thread(Thread-7 (executeThread), started 10838355968)>, <Thread(Thread-8 (executeThread), started 10855182336)>, <Thread(Thread-9 (executeThread), started 10872008704)>, <Thread(Thread-10 (executeThread), started 10888835072)>, <Thread(Thread-11 (executeThread), started 10905661440)>, <Thread(Thread-12 (executeThread), started 10922487808)>, <Thread(Thread-13 (executeThread), started 10939314176)>, <Thread(Thread-14 (executeThread), started 10956140544)>]\n",
      "Thread sleep 1 Thread sleep 1 \n",
      "\n",
      "Thread sleep 3 \n",
      "Thread sleep 5 \n",
      "Thread sleep 5 \n",
      "Thread sleep 7 \n",
      "Thread sleep 7 \n",
      "Thread sleep 7 \n",
      "Thread sleep 8 \n",
      "Thread sleep 10 \n"
     ]
    }
   ],
   "source": [
    "for i in range(10) :\n",
    "    thread = threading.Thread(target=executeThread, args=(i,))\n",
    "    \n",
    "    thread.start()   # 스레드 시작\n",
    "\n",
    "\n",
    "print(\"Active Threads\", threading.enumerate())\n",
    "thread.join()"
   ]
  },
  {
   "cell_type": "code",
   "execution_count": null,
   "id": "01f53e48",
   "metadata": {},
   "outputs": [],
   "source": []
  },
  {
   "cell_type": "markdown",
   "id": "83774e6c",
   "metadata": {},
   "source": [
    "##  2-2. 스레드별로  함수 지정해서  실행하기 \n",
    "\n",
    "- threading.Thread를 사용하여 각 작업을 별도의 스레드로 만들고, start() 메서드로 각 스레드를 시작합니다. \n",
    "- 그리고 join() 메서드로 각 스레드가 완료될 때까지 기다립니다."
   ]
  },
  {
   "cell_type": "markdown",
   "id": "4bde6376",
   "metadata": {},
   "source": [
    "### 두 개의 작업(task1 및 task2)을 각각의 스레드에서 실행합니다."
   ]
  },
  {
   "cell_type": "code",
   "execution_count": 5,
   "id": "7aa43134",
   "metadata": {},
   "outputs": [],
   "source": [
    "def task1():\n",
    "    for _ in range(5):\n",
    "        print(\"Task 1 is running  \",threading.current_thread(),\" \")\n",
    "        time.sleep(1)\n",
    "\n",
    "def task2():\n",
    "    for _ in range(5):\n",
    "        print(\"Task 2 is running  \",threading.current_thread(), \" \")\n",
    "        time.sleep(1)"
   ]
  },
  {
   "cell_type": "markdown",
   "id": "f33d067d",
   "metadata": {},
   "source": [
    "###  스레드를 2개 만들어서 실행합니다."
   ]
  },
  {
   "cell_type": "code",
   "execution_count": 6,
   "id": "1af003cf",
   "metadata": {},
   "outputs": [
    {
     "name": "stdout",
     "output_type": "stream",
     "text": [
      "main thread :  <_MainThread(MainThread, started 7978636032)>\n",
      "Task 1 is running   <Thread(Thread-15 (task1), started 10804703232)>  \n",
      "Task 2 is running   <Thread(Thread-16 (task2), started 10821529600)>  \n",
      "active count :  10\n",
      "Task 2 is running   <Thread(Thread-16 (task2), started 10821529600)>  \n",
      "Task 1 is running   <Thread(Thread-15 (task1), started 10804703232)>  \n",
      "Task 2 is running   <Thread(Thread-16 (task2), started 10821529600)>  \n",
      "Task 1 is running   <Thread(Thread-15 (task1), started 10804703232)>  \n",
      "Task 2 is running  Task 1 is running   <Thread(Thread-15 (task1), started 10804703232)>  \n",
      " <Thread(Thread-16 (task2), started 10821529600)>  \n",
      "Task 1 is running  Task 2 is running   <Thread(Thread-16 (task2), started 10821529600)>  \n",
      " <Thread(Thread-15 (task1), started 10804703232)>  \n",
      "Both tasks are completed\n"
     ]
    }
   ],
   "source": [
    "if __name__ == \"__main__\":\n",
    "    # 두 개의 스레드 생성\n",
    "    thread1 = threading.Thread(target=task1)\n",
    "    thread2 = threading.Thread(target=task2)\n",
    "    \n",
    "    print(\"main thread : \", threading.main_thread())\n",
    "    # 각각의 스레드 시작\n",
    "    thread1.start()\n",
    "    thread2.start()\n",
    "    print(\"active count : \", threading.active_count())\n",
    "    \n",
    "    # 각각의 스레드가 완료될 때까지 대기\n",
    "    thread1.join()\n",
    "    thread2.join()\n",
    "\n",
    "    print(\"Both tasks are completed\")\n"
   ]
  },
  {
   "cell_type": "code",
   "execution_count": null,
   "id": "4d8c9f97",
   "metadata": {},
   "outputs": [],
   "source": []
  },
  {
   "cell_type": "code",
   "execution_count": null,
   "id": "edc152b9",
   "metadata": {},
   "outputs": [],
   "source": []
  },
  {
   "cell_type": "markdown",
   "id": "abc7fec5",
   "metadata": {},
   "source": [
    "## 2-3. 여러 스레드간 데이터 공유\n",
    "\n",
    "- 스레드 간에 데이터를 안전하게 전달하기 위해서는 threading 모듈에서 제공하는 Lock 및 Queue와 같은 도구를 사용할 수 있습니다. \n",
    "- 여러 스레드에서 공유되는 데이터에 대한 안전성을 보장하기 위해 동기화 메커니즘이 필요합니다.\n",
    "\n",
    "- threading.Lock을 사용하여 데이터에 대한 접근을 동기화하고, queue.Queue를 사용하여 스레드 간 데이터 전달을 구현합니다."
   ]
  },
  {
   "cell_type": "markdown",
   "id": "349fb051",
   "metadata": {},
   "source": [
    "### 큐 모듈을 사용 "
   ]
  },
  {
   "cell_type": "code",
   "execution_count": 7,
   "id": "04becb9e",
   "metadata": {},
   "outputs": [],
   "source": [
    "import queue"
   ]
  },
  {
   "cell_type": "markdown",
   "id": "69dd62e1",
   "metadata": {},
   "source": [
    "### 스레드 별로 처리할 함수 정의\n",
    "\n",
    "- 데이터를 생산하는 프로듀서와 데이터를 소비하는 컨슈머 함수 작성 \n"
   ]
  },
  {
   "cell_type": "code",
   "execution_count": 8,
   "id": "e1ea1e4d",
   "metadata": {},
   "outputs": [],
   "source": [
    "def producer(queue, lock):\n",
    "    for i in range(5):\n",
    "        time.sleep(1)\n",
    "        with lock:\n",
    "            print(f\"Producing {i}\")\n",
    "            # 큐에 정보를 전달 \n",
    "            queue.put(i)\n",
    "\n",
    "def consumer(queue, lock):\n",
    "    while True:\n",
    "        time.sleep(1)\n",
    "        with lock:\n",
    "            if not queue.empty():\n",
    "                # 큐에 정보를 처리\n",
    "                item = queue.get()\n",
    "                print(f\"Consuming {item}\")\n",
    "            else:\n",
    "                break"
   ]
  },
  {
   "cell_type": "markdown",
   "id": "73b15542",
   "metadata": {},
   "source": [
    "### 스레드를 실행 \n",
    "\n",
    "-  큐를 만들어서 데이터 전달 공간을 만든다.\n",
    "- 스레드 락을 만들어서 전달된 데이터를 동기화를 맞춘다"
   ]
  },
  {
   "cell_type": "code",
   "execution_count": 9,
   "id": "7c0644fc",
   "metadata": {},
   "outputs": [
    {
     "name": "stdout",
     "output_type": "stream",
     "text": [
      "Producing 0\n",
      "Consuming 0\n",
      "Producing 1\n",
      "Producing 2\n",
      "Producing 3\n",
      "Producing 4\n",
      "Both threads are completed\n"
     ]
    }
   ],
   "source": [
    "\n",
    "if __name__ == \"__main__\":\n",
    "    \n",
    "    # 큐 생성\n",
    "    shared_queue = queue.Queue()\n",
    "    \n",
    "    # 스레드 락 \n",
    "    shared_lock = threading.Lock()\n",
    "\n",
    "    # Producer 스레드 시작\n",
    "    producer_thread = threading.Thread(target=producer, args=(shared_queue, shared_lock))\n",
    "    producer_thread.start()\n",
    "\n",
    "    # Consumer 스레드 시작\n",
    "    consumer_thread = threading.Thread(target=consumer, args=(shared_queue, shared_lock))\n",
    "    consumer_thread.start()\n",
    "\n",
    "    # 각 스레드가 완료될 때까지 대기\n",
    "    producer_thread.join()\n",
    "    consumer_thread.join()\n",
    "\n",
    "    print(\"Both threads are completed\")\n"
   ]
  },
  {
   "cell_type": "code",
   "execution_count": null,
   "id": "3b00591a",
   "metadata": {},
   "outputs": [],
   "source": []
  },
  {
   "cell_type": "markdown",
   "id": "ef376494",
   "metadata": {},
   "source": [
    "## 2-4.  스레드를 사용한 동일한 데이터 갱신 : 뮤텍스 처리 \n",
    "\n",
    "\n",
    "- 스레드 간의 데이터를 안전하게 동기화하기 위해 뮤텍스(뮤텐)를 사용할 수 있습니다. \n",
    "- 뮤텍스는 락(lock)이라고도 불리며, 여러 스레드가 동시에 공유 데이터에 접근하는 것을 막기 위해 사용됩니다.\n",
    "\n",
    "- 파이썬에서는 threading 모듈의 Lock 클래스를 사용하여 뮤텍스를 구현할 수 있습니다. \n",
    "- 뮤텍스를 사용하면 특정 코드 블록을 하나의 스레드만 실행할 수 있도록 만들 수 있습니다."
   ]
  },
  {
   "cell_type": "code",
   "execution_count": null,
   "id": "c972e647",
   "metadata": {},
   "outputs": [],
   "source": []
  },
  {
   "cell_type": "markdown",
   "id": "1e940638",
   "metadata": {},
   "source": [
    "###  경합조건 (Race Condition):\n",
    "\n",
    "- 경합조건은 둘 이상의 프로세스나 스레드가 공유된 자원에 동시에 접근하려고 할 때 발생합니다. \n",
    "- 이 때, 결과는 프로세스나 스레드의 실행 순서에 따라 달라질 수 있습니다.\n",
    "\n",
    "- 경합조건을 피하기 위해서는 상호 배제(Mutual Exclusion)를 통해 공유 자원에 대한 동시 접근을 제한하고, 동기화 기법을 사용하여 적절한 순서로 접근하도록 조절해야 합니다. \n",
    "- 예를 들어, 락(Lock)을 사용하여 특정 부분의 코드를 임계 영역으로 만들어 여러 프로세스 또는 스레드가 동시에 실행되지 않도록 보호할 수 있습니다."
   ]
  },
  {
   "cell_type": "markdown",
   "id": "ebf43cd3",
   "metadata": {},
   "source": [
    "### 공유할 데이터를 전역변수로 정의 "
   ]
  },
  {
   "cell_type": "code",
   "execution_count": 10,
   "id": "e188295c",
   "metadata": {},
   "outputs": [],
   "source": [
    "# 공유 데이터\n",
    "shared_data = 0"
   ]
  },
  {
   "cell_type": "code",
   "execution_count": null,
   "id": "237d037f",
   "metadata": {},
   "outputs": [],
   "source": []
  },
  {
   "cell_type": "markdown",
   "id": "537edb86",
   "metadata": {},
   "source": [
    "### 뮤텍스 생성  \n",
    "\n",
    "- threading.Lock을 사용하여 modify_shared_data 함수에서 공유 데이터 shared_data를 안전하게 수정하고 있습니다. \n",
    "\n",
    "- with mutex: 구문을 사용하여 뮤텍스가 활성화된 동안에만 해당 코드 블록이 실행되도록 하였습니다."
   ]
  },
  {
   "cell_type": "code",
   "execution_count": 11,
   "id": "dd9140cd",
   "metadata": {},
   "outputs": [],
   "source": [
    "\n",
    "# 뮤텍스 생성\n",
    "mutex = threading.Lock()\n",
    "\n",
    "def modify_shared_data():\n",
    "    global shared_data\n",
    "    with mutex:                  # 처리되는 동안 락처리 \n",
    "                                 # 뮤텍스를 사용하여 공유 데이터 안전하게 수정\n",
    "        for _ in range(1000):\n",
    "            shared_data += 1"
   ]
  },
  {
   "cell_type": "markdown",
   "id": "b917753e",
   "metadata": {},
   "source": [
    "### 스레드를 생성하고 함수에서 동일한 데이터를 갱신한다 "
   ]
  },
  {
   "cell_type": "code",
   "execution_count": 12,
   "id": "896d8402",
   "metadata": {},
   "outputs": [
    {
     "name": "stdout",
     "output_type": "stream",
     "text": [
      "Final shared_data: 2000\n"
     ]
    }
   ],
   "source": [
    "\n",
    "if __name__ == \"__main__\":\n",
    "    # 두 개의 스레드 생성\n",
    "    thread1 = threading.Thread(target=modify_shared_data)\n",
    "    thread2 = threading.Thread(target=modify_shared_data)\n",
    "\n",
    "    # 각각의 스레드 시작\n",
    "    thread1.start()\n",
    "    thread2.start()\n",
    "\n",
    "    # 각각의 스레드가 완료될 때까지 대기\n",
    "    thread1.join()\n",
    "    thread2.join()\n",
    "\n",
    "    print(\"Final shared_data:\", shared_data)\n"
   ]
  },
  {
   "cell_type": "code",
   "execution_count": null,
   "id": "b2bb8c34",
   "metadata": {},
   "outputs": [],
   "source": []
  },
  {
   "cell_type": "markdown",
   "id": "0e7bee67",
   "metadata": {},
   "source": [
    "## 2-5.  이벤트 처리 \n",
    "\n",
    "- 스레드를 사용하여 이벤트 루프를 처리하려면 threading 모듈과 이벤트 객체를 활용할 수 있습니다.\n",
    "- 이벤트 객체는 스레드 간에 상태를 전달하고 스레드가 특정 조건을 기다리도록 하는 데 사용됩니다."
   ]
  },
  {
   "cell_type": "markdown",
   "id": "94f34307",
   "metadata": {},
   "source": [
    "### 주의사항:\n",
    "\n",
    "- threading.Event 객체를 사용하여 이벤트를 생성하고, is_set() 메서드로 이벤트가 설정되었는지 확인합니다.\n",
    "- time.sleep 함수를 사용하여 스레드가 루프를 실행하는 동안 일시적으로 대기하도록 합니다.\n",
    "- KeyboardInterrupt 예외를 처리하여 사용자가 프로그램을 중지하면 이벤트를 설정하고 스레드를 종료합니다.\n",
    "- thread.join()을 사용하여 스레드가 완료될 때까지 기다립니다."
   ]
  },
  {
   "cell_type": "code",
   "execution_count": 13,
   "id": "9c020d46",
   "metadata": {},
   "outputs": [],
   "source": [
    "# 이벤트 객체 생성\n",
    "event = threading.Event()"
   ]
  },
  {
   "cell_type": "code",
   "execution_count": 14,
   "id": "090b8516",
   "metadata": {},
   "outputs": [],
   "source": [
    "def event_loop():\n",
    "    while not event.is_set():  # 이벤트가 설정되지 않은 동안 계속 반복\n",
    "        print(\"Event loop is running\")\n",
    "        time.sleep(1)"
   ]
  },
  {
   "cell_type": "code",
   "execution_count": 15,
   "id": "e67c35e9",
   "metadata": {},
   "outputs": [
    {
     "name": "stdout",
     "output_type": "stream",
     "text": [
      "Event loop is running\n",
      "Event loop is running\n",
      "Event loop is running\n",
      "Event loop is running\n",
      "Event loop is running\n",
      "Event loop completed\n"
     ]
    }
   ],
   "source": [
    "\n",
    "if __name__ == \"__main__\":\n",
    "    # 이벤트 루프를 처리할 스레드 생성\n",
    "    thread = threading.Thread(target=event_loop)\n",
    "\n",
    "    # 스레드 시작\n",
    "    thread.start()\n",
    "\n",
    "    try:\n",
    "        # 일정 시간 동안 대기\n",
    "        time.sleep(5)\n",
    "\n",
    "        # 이벤트 설정\n",
    "        event.set()\n",
    "\n",
    "        # 스레드가 완료될 때까지 대기\n",
    "        thread.join()\n",
    "    except KeyboardInterrupt:\n",
    "        # KeyboardInterrupt 예외 발생 시, 이벤트 설정 및 스레드 종료\n",
    "        event.set()\n",
    "        thread.join()\n",
    "\n",
    "    print(\"Event loop completed\")\n"
   ]
  },
  {
   "cell_type": "code",
   "execution_count": null,
   "id": "e31d7078",
   "metadata": {},
   "outputs": [],
   "source": []
  },
  {
   "cell_type": "markdown",
   "id": "22e1127b",
   "metadata": {},
   "source": [
    "## 2-6 . 교착상태 (Deadlock):\n",
    "\n",
    "- 교착상태는 둘 이상의 프로세스가 서로의 작업이 끝나기를 기다리며 무한히 대기하는 상태를 의미합니다. \n",
    "- 이는 네 가지 조건이 동시에 만족될 때 발생합니다:\n",
    "\n",
    "- > 상호 배제(Mutual Exclusion): 최소한 하나의 자원이 배타적으로 사용될 수 있어야 합니다.\n",
    "- > 점유 대기(Hold and Wait): 최소한 하나의 자원을 점유한 상태에서 다른 자원을 기다리고 있어야 합니다.\n",
    "- > 비선점(No Preemption): 다른 프로세스에 의해 현재 사용 중인 자원을 강제로 뺏을 수 없어야 합니다.\n",
    "- > 순환 대기(Circular Wait): 프로세스의 집합 {P0, P1, ..., Pn}에서 P0는 P1이 점유한 자원을 대기하고, P1은 P2가 점유한 자원을 대기하며, Pn은 P0이 점유한 자원을 대기해야 합니다.\n",
    "\n",
    "\n",
    "#### 교착상태를 피하기 위해서는 위 네 가지 조건 중 하나를 제거하거나, 상황에 따라 자원을 할당하는 순서를 조절하여 교착상태를 방지할 수 있습니다."
   ]
  },
  {
   "cell_type": "code",
   "execution_count": 62,
   "id": "edc4ce50",
   "metadata": {},
   "outputs": [
    {
     "name": "stdout",
     "output_type": "stream",
     "text": [
      "Process 1 has Resource 1\n",
      "Process 1 has Resource 2\n",
      "Process 2 has Resource 2\n",
      "Process 2 has Resource 1\n",
      "Execution completed\n"
     ]
    }
   ],
   "source": [
    "import threading\n",
    "\n",
    "# 두 개의 자원\n",
    "resource1 = threading.Lock()\n",
    "resource2 = threading.Lock()\n",
    "\n",
    "# 첫 번째 프로세스\n",
    "def process1():\n",
    "    with resource1:\n",
    "        print(\"Process 1 has Resource 1\")\n",
    "        # 어떤 작업 수행\n",
    "        with resource2:\n",
    "            print(\"Process 1 has Resource 2\")\n",
    "            # 어떤 작업 수행\n",
    "\n",
    "# 두 번째 프로세스\n",
    "def process2():\n",
    "    with resource2:\n",
    "        print(\"Process 2 has Resource 2\")\n",
    "        # 어떤 작업 수행\n",
    "        with resource1:\n",
    "            print(\"Process 2 has Resource 1\")\n",
    "            # 어떤 작업 수행\n",
    "\n",
    "# 두 개의 프로세스를 실행\n",
    "thread1 = threading.Thread(target=process1)\n",
    "thread2 = threading.Thread(target=process2)\n",
    "\n",
    "thread1.start()\n",
    "thread2.start()\n",
    "\n",
    "thread1.join()\n",
    "thread2.join()\n",
    "\n",
    "print(\"Execution completed\")\n"
   ]
  },
  {
   "cell_type": "code",
   "execution_count": null,
   "id": "792d17bd",
   "metadata": {},
   "outputs": [],
   "source": []
  }
 ],
 "metadata": {
  "kernelspec": {
   "display_name": "Python 3 (ipykernel)",
   "language": "python",
   "name": "python3"
  },
  "language_info": {
   "codemirror_mode": {
    "name": "ipython",
    "version": 3
   },
   "file_extension": ".py",
   "mimetype": "text/x-python",
   "name": "python",
   "nbconvert_exporter": "python",
   "pygments_lexer": "ipython3",
   "version": "3.11.3"
  }
 },
 "nbformat": 4,
 "nbformat_minor": 5
}
