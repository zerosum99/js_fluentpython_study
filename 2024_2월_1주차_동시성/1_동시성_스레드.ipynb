{
 "cells": [
  {
   "cell_type": "code",
   "execution_count": 2,
   "id": "df7e991a",
   "metadata": {},
   "outputs": [
    {
     "data": {
      "text/plain": [
       "'3.11.3'"
      ]
     },
     "execution_count": 2,
     "metadata": {},
     "output_type": "execute_result"
    }
   ],
   "source": [
    "import platform\n",
    "\n",
    "platform.python_version()"
   ]
  },
  {
   "cell_type": "code",
   "execution_count": null,
   "id": "c246e25f",
   "metadata": {},
   "outputs": [],
   "source": []
  },
  {
   "cell_type": "code",
   "execution_count": null,
   "id": "e42c650e",
   "metadata": {},
   "outputs": [],
   "source": []
  },
  {
   "cell_type": "code",
   "execution_count": null,
   "id": "3515a30a",
   "metadata": {},
   "outputs": [],
   "source": []
  },
  {
   "cell_type": "markdown",
   "id": "11581fa6",
   "metadata": {},
   "source": [
    "## 1. 스레드 처리하기 \n",
    "\n",
    "- 파이썬에서 스레드를 사용하여 간단한 동시성 처리를 구현하는 예제를 제공합니다. \n",
    "- 스레드는 파이썬의 threading 모듈을 통해 사용할 수 있습니다."
   ]
  },
  {
   "cell_type": "code",
   "execution_count": 5,
   "id": "1036d039",
   "metadata": {},
   "outputs": [],
   "source": [
    "import threading\n",
    "import time"
   ]
  },
  {
   "cell_type": "code",
   "execution_count": null,
   "id": "62d966db",
   "metadata": {},
   "outputs": [],
   "source": []
  },
  {
   "cell_type": "code",
   "execution_count": 8,
   "id": "363cecbf",
   "metadata": {},
   "outputs": [
    {
     "name": "stdout",
     "output_type": "stream",
     "text": [
      "Barrier, BoundedSemaphore, BrokenBarrierError, Condition, Event, ExceptHookArgs, Lock, RLock, Semaphore, TIMEOUT_MAX, Thread, ThreadError, Timer, WeakSet, activeCount, active_count, currentThread, current_thread, enumerate, excepthook, functools, get_ident, get_native_id, getprofile, gettrace, local, main_thread, setprofile, settrace, stack_size, "
     ]
    }
   ],
   "source": [
    "for i in dir(threading) :\n",
    "    if not i.startswith(\"_\") : \n",
    "        print(i, end=\", \")"
   ]
  },
  {
   "cell_type": "code",
   "execution_count": null,
   "id": "b92ba36b",
   "metadata": {},
   "outputs": [],
   "source": []
  },
  {
   "cell_type": "markdown",
   "id": "4131bdb2",
   "metadata": {},
   "source": [
    "##  2. 멀티 스레드 처리 \n",
    "\n",
    "- threading.Thread를 사용하여 각 작업을 별도의 스레드로 만들고, start() 메서드로 각 스레드를 시작합니다. \n",
    "- 그리고 join() 메서드로 각 스레드가 완료될 때까지 기다립니다."
   ]
  },
  {
   "cell_type": "markdown",
   "id": "b16d266c",
   "metadata": {},
   "source": [
    "### 두 개의 작업(task1 및 task2)을 각각의 스레드에서 실행합니다."
   ]
  },
  {
   "cell_type": "code",
   "execution_count": 14,
   "id": "e11eb084",
   "metadata": {},
   "outputs": [],
   "source": [
    "def task1():\n",
    "    for _ in range(5):\n",
    "        print(\"Task 1 is running  \",threading.current_thread(),\" \")\n",
    "        time.sleep(1)\n",
    "\n",
    "def task2():\n",
    "    for _ in range(5):\n",
    "        print(\"Task 2 is running  \",threading.current_thread(), \"\")\n",
    "        time.sleep(1)"
   ]
  },
  {
   "cell_type": "markdown",
   "id": "4d8371b9",
   "metadata": {},
   "source": [
    "###  스레드를 2개 만들어서 실행합니다."
   ]
  },
  {
   "cell_type": "code",
   "execution_count": 17,
   "id": "7181c24f",
   "metadata": {},
   "outputs": [
    {
     "name": "stdout",
     "output_type": "stream",
     "text": [
      "main thread :  <_MainThread(MainThread, started 7978636032)>\n",
      "Task 1 is running   <Thread(Thread-19 (task1), started 6409170944)>\n",
      "Task 2 is running   <Thread(Thread-20 (task2), started 6425997312)>\n",
      "active count :  10\n",
      "Task 1 is running  Task 2 is running   <Thread(Thread-20 (task2), started 6425997312)>\n",
      " <Thread(Thread-19 (task1), started 6409170944)>\n",
      "Task 1 is running  Task 2 is running   <Thread(Thread-20 (task2), started 6425997312)>\n",
      " <Thread(Thread-19 (task1), started 6409170944)>\n",
      "Task 1 is running   <Thread(Thread-19 (task1), started 6409170944)>\n",
      "Task 2 is running   <Thread(Thread-20 (task2), started 6425997312)>\n",
      "Task 1 is running  Task 2 is running   <Thread(Thread-20 (task2), started 6425997312)>\n",
      " <Thread(Thread-19 (task1), started 6409170944)>\n",
      "Both tasks are completed\n"
     ]
    }
   ],
   "source": [
    "if __name__ == \"__main__\":\n",
    "    # 두 개의 스레드 생성\n",
    "    thread1 = threading.Thread(target=task1)\n",
    "    thread2 = threading.Thread(target=task2)\n",
    "    \n",
    "    print(\"main thread : \", threading.main_thread())\n",
    "    # 각각의 스레드 시작\n",
    "    thread1.start()\n",
    "    thread2.start()\n",
    "    print(\"active count : \", threading.active_count())\n",
    "    \n",
    "    # 각각의 스레드가 완료될 때까지 대기\n",
    "    thread1.join()\n",
    "    thread2.join()\n",
    "\n",
    "    print(\"Both tasks are completed\")\n"
   ]
  },
  {
   "cell_type": "code",
   "execution_count": null,
   "id": "0364fc62",
   "metadata": {},
   "outputs": [],
   "source": []
  }
 ],
 "metadata": {
  "kernelspec": {
   "display_name": "Python 3 (ipykernel)",
   "language": "python",
   "name": "python3"
  },
  "language_info": {
   "codemirror_mode": {
    "name": "ipython",
    "version": 3
   },
   "file_extension": ".py",
   "mimetype": "text/x-python",
   "name": "python",
   "nbconvert_exporter": "python",
   "pygments_lexer": "ipython3",
   "version": "3.11.3"
  }
 },
 "nbformat": 4,
 "nbformat_minor": 5
}
