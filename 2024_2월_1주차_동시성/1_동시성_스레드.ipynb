{
 "cells": [
  {
   "cell_type": "code",
   "execution_count": 2,
   "id": "f7fd2734",
   "metadata": {},
   "outputs": [
    {
     "data": {
      "text/plain": [
       "'3.11.3'"
      ]
     },
     "execution_count": 2,
     "metadata": {},
     "output_type": "execute_result"
    }
   ],
   "source": [
    "import platform\n",
    "\n",
    "platform.python_version()"
   ]
  },
  {
   "cell_type": "code",
   "execution_count": null,
   "id": "40207705",
   "metadata": {},
   "outputs": [],
   "source": []
  },
  {
   "cell_type": "code",
   "execution_count": null,
   "id": "4b278587",
   "metadata": {},
   "outputs": [],
   "source": []
  },
  {
   "cell_type": "code",
   "execution_count": null,
   "id": "d3ba0a15",
   "metadata": {},
   "outputs": [],
   "source": []
  },
  {
   "cell_type": "markdown",
   "id": "2b5916da",
   "metadata": {},
   "source": [
    "## 1. 스레드 처리하기 \n",
    "\n",
    "- 파이썬에서 스레드를 사용하여 간단한 동시성 처리를 구현하는 예제를 제공합니다. \n",
    "- 스레드는 파이썬의 threading 모듈을 통해 사용할 수 있습니다."
   ]
  },
  {
   "cell_type": "code",
   "execution_count": 5,
   "id": "f7a51e70",
   "metadata": {},
   "outputs": [],
   "source": [
    "import threading\n",
    "import time"
   ]
  },
  {
   "cell_type": "code",
   "execution_count": null,
   "id": "5ac90de0",
   "metadata": {},
   "outputs": [],
   "source": []
  },
  {
   "cell_type": "code",
   "execution_count": 8,
   "id": "1468d354",
   "metadata": {},
   "outputs": [
    {
     "name": "stdout",
     "output_type": "stream",
     "text": [
      "Barrier, BoundedSemaphore, BrokenBarrierError, Condition, Event, ExceptHookArgs, Lock, RLock, Semaphore, TIMEOUT_MAX, Thread, ThreadError, Timer, WeakSet, activeCount, active_count, currentThread, current_thread, enumerate, excepthook, functools, get_ident, get_native_id, getprofile, gettrace, local, main_thread, setprofile, settrace, stack_size, "
     ]
    }
   ],
   "source": [
    "for i in dir(threading) :\n",
    "    if not i.startswith(\"_\") : \n",
    "        print(i, end=\", \")"
   ]
  },
  {
   "cell_type": "code",
   "execution_count": null,
   "id": "3d0e4190",
   "metadata": {},
   "outputs": [],
   "source": []
  },
  {
   "cell_type": "markdown",
   "id": "4089c4f0",
   "metadata": {},
   "source": [
    "##  2. 멀티 스레드 처리 \n",
    "\n",
    "- threading.Thread를 사용하여 각 작업을 별도의 스레드로 만들고, start() 메서드로 각 스레드를 시작합니다. \n",
    "- 그리고 join() 메서드로 각 스레드가 완료될 때까지 기다립니다."
   ]
  },
  {
   "cell_type": "markdown",
   "id": "9512e827",
   "metadata": {},
   "source": [
    "### 두 개의 작업(task1 및 task2)을 각각의 스레드에서 실행합니다."
   ]
  },
  {
   "cell_type": "code",
   "execution_count": 18,
   "id": "9297b5ef",
   "metadata": {},
   "outputs": [],
   "source": [
    "def task1():\n",
    "    for _ in range(5):\n",
    "        print(\"Task 1 is running  \",threading.current_thread(),\" \")\n",
    "        time.sleep(1)\n",
    "\n",
    "def task2():\n",
    "    for _ in range(5):\n",
    "        print(\"Task 2 is running  \",threading.current_thread(), \" \")\n",
    "        time.sleep(1)"
   ]
  },
  {
   "cell_type": "markdown",
   "id": "c4d2e042",
   "metadata": {},
   "source": [
    "###  스레드를 2개 만들어서 실행합니다."
   ]
  },
  {
   "cell_type": "code",
   "execution_count": 19,
   "id": "2d4101e0",
   "metadata": {},
   "outputs": [
    {
     "name": "stdout",
     "output_type": "stream",
     "text": [
      "main thread :  <_MainThread(MainThread, started 7978636032)>\n",
      "Task 1 is running   <Thread(Thread-21 (task1), started 6409170944)>  \n",
      "Task 2 is running   <Thread(Thread-22 (task2), started 6425997312)>  \n",
      "active count :  10\n",
      "Task 1 is running  Task 2 is running   <Thread(Thread-22 (task2), started 6425997312)>  \n",
      " <Thread(Thread-21 (task1), started 6409170944)>  \n",
      "Task 2 is running  Task 1 is running   <Thread(Thread-21 (task1), started 6409170944)>  \n",
      " <Thread(Thread-22 (task2), started 6425997312)>  \n",
      "Task 2 is running   <Thread(Thread-22 (task2), started 6425997312)>  \n",
      "Task 1 is running   <Thread(Thread-21 (task1), started 6409170944)>  \n",
      "Task 2 is running   <Thread(Thread-22 (task2), started 6425997312)>  \n",
      "Task 1 is running   <Thread(Thread-21 (task1), started 6409170944)>  \n",
      "Both tasks are completed\n"
     ]
    }
   ],
   "source": [
    "if __name__ == \"__main__\":\n",
    "    # 두 개의 스레드 생성\n",
    "    thread1 = threading.Thread(target=task1)\n",
    "    thread2 = threading.Thread(target=task2)\n",
    "    \n",
    "    print(\"main thread : \", threading.main_thread())\n",
    "    # 각각의 스레드 시작\n",
    "    thread1.start()\n",
    "    thread2.start()\n",
    "    print(\"active count : \", threading.active_count())\n",
    "    \n",
    "    # 각각의 스레드가 완료될 때까지 대기\n",
    "    thread1.join()\n",
    "    thread2.join()\n",
    "\n",
    "    print(\"Both tasks are completed\")\n"
   ]
  },
  {
   "cell_type": "code",
   "execution_count": null,
   "id": "cc2c05ef",
   "metadata": {},
   "outputs": [],
   "source": []
  },
  {
   "cell_type": "code",
   "execution_count": null,
   "id": "2579d10f",
   "metadata": {},
   "outputs": [],
   "source": []
  },
  {
   "cell_type": "markdown",
   "id": "335cd4ed",
   "metadata": {},
   "source": [
    "## 3. 스레드간 데이터 공유\n",
    "\n",
    "- 스레드 간에 데이터를 안전하게 전달하기 위해서는 threading 모듈에서 제공하는 Lock 및 Queue와 같은 도구를 사용할 수 있습니다. \n",
    "- 여러 스레드에서 공유되는 데이터에 대한 안전성을 보장하기 위해 동기화 메커니즘이 필요합니다.\n",
    "\n",
    "- threading.Lock을 사용하여 데이터에 대한 접근을 동기화하고, queue.Queue를 사용하여 스레드 간 데이터 전달을 구현합니다."
   ]
  },
  {
   "cell_type": "code",
   "execution_count": 20,
   "id": "8a2f4332",
   "metadata": {},
   "outputs": [],
   "source": [
    "import queue"
   ]
  },
  {
   "cell_type": "code",
   "execution_count": 21,
   "id": "8d86c233",
   "metadata": {},
   "outputs": [],
   "source": [
    "def producer(queue, lock):\n",
    "    for i in range(5):\n",
    "        time.sleep(1)\n",
    "        with lock:\n",
    "            print(f\"Producing {i}\")\n",
    "            # 큐에 정보를 전달 \n",
    "            queue.put(i)\n",
    "\n",
    "def consumer(queue, lock):\n",
    "    while True:\n",
    "        time.sleep(1)\n",
    "        with lock:\n",
    "            if not queue.empty():\n",
    "                # 큐에 정보를 처리\n",
    "                item = queue.get()\n",
    "                print(f\"Consuming {item}\")\n",
    "            else:\n",
    "                break"
   ]
  },
  {
   "cell_type": "code",
   "execution_count": null,
   "id": "389cdd9f",
   "metadata": {},
   "outputs": [],
   "source": []
  },
  {
   "cell_type": "code",
   "execution_count": 22,
   "id": "e539f6f3",
   "metadata": {},
   "outputs": [
    {
     "name": "stdout",
     "output_type": "stream",
     "text": [
      "Producing 0\n",
      "Consuming 0\n",
      "Producing 1\n",
      "Consuming 1\n",
      "Producing 2\n",
      "Consuming 2\n",
      "Producing 3\n",
      "Consuming 3\n",
      "Producing 4\n",
      "Both threads are completed\n"
     ]
    }
   ],
   "source": [
    "\n",
    "if __name__ == \"__main__\":\n",
    "    \n",
    "    # 큐 생성\n",
    "    shared_queue = queue.Queue()\n",
    "    \n",
    "    # 스레드 락 \n",
    "    shared_lock = threading.Lock()\n",
    "\n",
    "    # Producer 스레드 시작\n",
    "    producer_thread = threading.Thread(target=producer, args=(shared_queue, shared_lock))\n",
    "    producer_thread.start()\n",
    "\n",
    "    # Consumer 스레드 시작\n",
    "    consumer_thread = threading.Thread(target=consumer, args=(shared_queue, shared_lock))\n",
    "    consumer_thread.start()\n",
    "\n",
    "    # 각 스레드가 완료될 때까지 대기\n",
    "    producer_thread.join()\n",
    "    consumer_thread.join()\n",
    "\n",
    "    print(\"Both threads are completed\")\n"
   ]
  },
  {
   "cell_type": "code",
   "execution_count": null,
   "id": "81abb4ec",
   "metadata": {},
   "outputs": [],
   "source": []
  },
  {
   "cell_type": "markdown",
   "id": "16c5f45e",
   "metadata": {},
   "source": [
    "## 4. 뮤텍스 처리 \n",
    "\n",
    "\n",
    "- 스레드 간의 데이터를 안전하게 동기화하기 위해 뮤텍스(뮤텐)를 사용할 수 있습니다. \n",
    "- 뮤텍스는 락(lock)이라고도 불리며, 여러 스레드가 동시에 공유 데이터에 접근하는 것을 막기 위해 사용됩니다.\n",
    "\n",
    "- 파이썬에서는 threading 모듈의 Lock 클래스를 사용하여 뮤텍스를 구현할 수 있습니다. \n",
    "- 뮤텍스를 사용하면 특정 코드 블록을 하나의 스레드만 실행할 수 있도록 만들 수 있습니다."
   ]
  },
  {
   "cell_type": "markdown",
   "id": "921d02e6",
   "metadata": {},
   "source": [
    "### 뮤텍스 처리 \n",
    "\n",
    "- threading.Lock을 사용하여 modify_shared_data 함수에서 공유 데이터 shared_data를 안전하게 수정하고 있습니다. \n",
    "\n",
    "- with mutex: 구문을 사용하여 뮤텍스가 활성화된 동안에만 해당 코드 블록이 실행되도록 하였습니다."
   ]
  },
  {
   "cell_type": "code",
   "execution_count": 25,
   "id": "b094730b",
   "metadata": {},
   "outputs": [],
   "source": [
    "# 공유 데이터\n",
    "shared_data = 0\n",
    "\n",
    "# 뮤텍스 생성\n",
    "mutex = threading.Lock()\n",
    "\n",
    "def modify_shared_data():\n",
    "    global shared_data\n",
    "    with mutex:\n",
    "        # 뮤텍스를 사용하여 공유 데이터 안전하게 수정\n",
    "        for _ in range(1000):\n",
    "            shared_data += 1"
   ]
  },
  {
   "cell_type": "code",
   "execution_count": 26,
   "id": "3bc6b0c8",
   "metadata": {},
   "outputs": [
    {
     "name": "stdout",
     "output_type": "stream",
     "text": [
      "Final shared_data: 2000\n"
     ]
    }
   ],
   "source": [
    "\n",
    "if __name__ == \"__main__\":\n",
    "    # 두 개의 스레드 생성\n",
    "    thread1 = threading.Thread(target=modify_shared_data)\n",
    "    thread2 = threading.Thread(target=modify_shared_data)\n",
    "\n",
    "    # 각각의 스레드 시작\n",
    "    thread1.start()\n",
    "    thread2.start()\n",
    "\n",
    "    # 각각의 스레드가 완료될 때까지 대기\n",
    "    thread1.join()\n",
    "    thread2.join()\n",
    "\n",
    "    print(\"Final shared_data:\", shared_data)\n"
   ]
  },
  {
   "cell_type": "code",
   "execution_count": null,
   "id": "fe4c48d7",
   "metadata": {},
   "outputs": [],
   "source": []
  }
 ],
 "metadata": {
  "kernelspec": {
   "display_name": "Python 3 (ipykernel)",
   "language": "python",
   "name": "python3"
  },
  "language_info": {
   "codemirror_mode": {
    "name": "ipython",
    "version": 3
   },
   "file_extension": ".py",
   "mimetype": "text/x-python",
   "name": "python",
   "nbconvert_exporter": "python",
   "pygments_lexer": "ipython3",
   "version": "3.11.3"
  }
 },
 "nbformat": 4,
 "nbformat_minor": 5
}
