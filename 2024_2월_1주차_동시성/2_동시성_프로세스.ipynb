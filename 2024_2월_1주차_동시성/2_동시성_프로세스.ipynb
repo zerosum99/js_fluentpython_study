{
 "cells": [
  {
   "cell_type": "code",
   "execution_count": 10,
   "id": "cc7458e7",
   "metadata": {},
   "outputs": [
    {
     "data": {
      "text/plain": [
       "'3.11.3'"
      ]
     },
     "execution_count": 10,
     "metadata": {},
     "output_type": "execute_result"
    }
   ],
   "source": [
    "import platform\n",
    "\n",
    "platform.python_version()"
   ]
  },
  {
   "cell_type": "code",
   "execution_count": null,
   "id": "ff119741",
   "metadata": {},
   "outputs": [],
   "source": []
  },
  {
   "cell_type": "markdown",
   "id": "a3a22058",
   "metadata": {},
   "source": [
    "## 1. 프로세스 알아보기 "
   ]
  },
  {
   "cell_type": "markdown",
   "id": "cab2766f",
   "metadata": {},
   "source": [
    "## 1-1. 멀티 프로세스 모듈 "
   ]
  },
  {
   "cell_type": "code",
   "execution_count": 26,
   "id": "73292a91",
   "metadata": {},
   "outputs": [],
   "source": [
    "import multiprocessing\n",
    "import time\n",
    "import os"
   ]
  },
  {
   "cell_type": "markdown",
   "id": "20794d2c",
   "metadata": {},
   "source": [
    "## 모듈 내의 속성 확인하기 "
   ]
  },
  {
   "cell_type": "code",
   "execution_count": 6,
   "id": "b953ba19",
   "metadata": {},
   "outputs": [
    {
     "name": "stdout",
     "output_type": "stream",
     "text": [
      "Array, AuthenticationError, Barrier, BoundedSemaphore, BufferTooShort, Condition, Event, JoinableQueue, Lock, Manager, Pipe, Pool, Process, ProcessError, Queue, RLock, RawArray, RawValue, SUBDEBUG, SUBWARNING, Semaphore, SimpleQueue, TimeoutError, Value, active_children, allow_connection_pickling, context, cpu_count, current_process, freeze_support, get_all_start_methods, get_context, get_logger, get_start_method, log_to_stderr, parent_process, process, reducer, reduction, set_executable, set_forkserver_preload, set_start_method, sys, "
     ]
    }
   ],
   "source": [
    "for i in dir(multiprocessing) :\n",
    "    if not i.startswith(\"_\") :\n",
    "        print(i, end=\", \")"
   ]
  },
  {
   "cell_type": "markdown",
   "id": "290c6057",
   "metadata": {},
   "source": [
    "## 현재 cpu 갯수 "
   ]
  },
  {
   "cell_type": "code",
   "execution_count": 2,
   "id": "d2ca769e",
   "metadata": {},
   "outputs": [
    {
     "data": {
      "text/plain": [
       "10"
      ]
     },
     "execution_count": 2,
     "metadata": {},
     "output_type": "execute_result"
    }
   ],
   "source": [
    "multiprocessing.cpu_count()"
   ]
  },
  {
   "cell_type": "markdown",
   "id": "97c56316",
   "metadata": {},
   "source": [
    "### 현재 프로세스 확인하기 "
   ]
  },
  {
   "cell_type": "code",
   "execution_count": 17,
   "id": "324d6578",
   "metadata": {},
   "outputs": [
    {
     "data": {
      "text/plain": [
       "<_MainProcess name='MainProcess' parent=None started>"
      ]
     },
     "execution_count": 17,
     "metadata": {},
     "output_type": "execute_result"
    }
   ],
   "source": [
    "multiprocessing.current_process()"
   ]
  },
  {
   "cell_type": "code",
   "execution_count": 8,
   "id": "fe60a531",
   "metadata": {},
   "outputs": [],
   "source": [
    "multiprocessing.parent_process()"
   ]
  },
  {
   "cell_type": "code",
   "execution_count": null,
   "id": "85999750",
   "metadata": {},
   "outputs": [],
   "source": []
  },
  {
   "cell_type": "markdown",
   "id": "0a86f313",
   "metadata": {},
   "source": [
    "## 1-2 부모와 자식 프로세스 처리 \n",
    "\n",
    "- 멀티프로세스 환경에서는 부모 프로세스와 자식 프로세스가 각각 독립적인 공간에서 실행됩니다. \n",
    "- 부모와 자식 간의 통신 및 상호작용을 위해 파이썬은 multiprocessing 모듈을 제공합니다. "
   ]
  },
  {
   "cell_type": "markdown",
   "id": "328b1c86",
   "metadata": {},
   "source": [
    "### 프로세스간 충돌을 방지하기 위해 함수를 별도 모듈로 처리 "
   ]
  },
  {
   "cell_type": "code",
   "execution_count": 25,
   "id": "f9f25ebb",
   "metadata": {},
   "outputs": [
    {
     "name": "stdout",
     "output_type": "stream",
     "text": [
      "Overwriting child_process.py\n"
     ]
    }
   ],
   "source": [
    "%%writefile child_process.py\n",
    "import multiprocessing\n",
    "import time\n",
    "import os\n",
    "\n",
    "def child_process():\n",
    "    print(\"Child process is running\")\n",
    "    print(\" child process \" ,multiprocessing.current_process())\n",
    "    print(\" parant process \", multiprocessing.parent_process())\n",
    "    print(f\"Child process (PID: {os.getpid()}) is running\")\n",
    "    time.sleep(2)\n",
    "    print(\"Child process completed\")"
   ]
  },
  {
   "cell_type": "markdown",
   "id": "24778359",
   "metadata": {},
   "source": [
    "### 메인프로세스에 자식프로세스 처리"
   ]
  },
  {
   "cell_type": "code",
   "execution_count": 27,
   "id": "d248f514",
   "metadata": {},
   "outputs": [
    {
     "name": "stdout",
     "output_type": "stream",
     "text": [
      " parent process  <_MainProcess name='MainProcess' parent=None started>\n",
      "parent process (PID: 82511) is running\n",
      "Parent process is running\n",
      "Child process is running\n",
      " child process  <Process name='Process-34' parent=82511 started>\n",
      " parant process  <_ParentProcess name='MainProcess' parent=None unknown>\n",
      "Child process (PID: 93052) is running\n",
      "Child process completed\n",
      "Parent process completed\n"
     ]
    }
   ],
   "source": [
    "from child_process import child_process\n",
    "\n",
    "\n",
    "if __name__ == \"__main__\":\n",
    "    \n",
    "    print(\" parent process \" ,multiprocessing.current_process())\n",
    "    print(f\"parent process (PID: {os.getpid()}) is running\")\n",
    "    # 부모 프로세스에서 자식 프로세스 생성\n",
    "    child = multiprocessing.Process(target=child_process)\n",
    "\n",
    "    # 자식 프로세스 시작\n",
    "    child.start()\n",
    "\n",
    "    print(\"Parent process is running\")\n",
    "\n",
    "    # 자식 프로세스가 완료될 때까지 대기\n",
    "    child.join()\n",
    "\n",
    "    print(\"Parent process completed\")\n"
   ]
  },
  {
   "cell_type": "code",
   "execution_count": null,
   "id": "4dd365ee",
   "metadata": {},
   "outputs": [],
   "source": []
  },
  {
   "cell_type": "code",
   "execution_count": null,
   "id": "9977aab2",
   "metadata": {},
   "outputs": [],
   "source": []
  },
  {
   "cell_type": "code",
   "execution_count": null,
   "id": "31a1214d",
   "metadata": {},
   "outputs": [],
   "source": []
  },
  {
   "cell_type": "markdown",
   "id": "7e2273d4",
   "metadata": {},
   "source": [
    "## 1-3 프로세스 시작과 종료 처리 \n",
    "\n",
    "- Process 클래스를 사용하여 새로운 프로세스를 생성할 수 있습니다. \n",
    "- 생성한 프로세스는 독립적으로 실행되며, 별도의 메모리 공간을 가지고 있습니다."
   ]
  },
  {
   "cell_type": "markdown",
   "id": "fb1884ca",
   "metadata": {},
   "source": [
    "### 프로세스에서 작업할  함수를 별도 모듈로 작성 "
   ]
  },
  {
   "cell_type": "code",
   "execution_count": 20,
   "id": "9ff23eee",
   "metadata": {},
   "outputs": [
    {
     "name": "stdout",
     "output_type": "stream",
     "text": [
      "Overwriting worker00.py\n"
     ]
    }
   ],
   "source": [
    "%%writefile worker00.py\n",
    "\n",
    "def my_function():\n",
    "    print(\"Hello from another process!\")\n"
   ]
  },
  {
   "cell_type": "markdown",
   "id": "54509339",
   "metadata": {},
   "source": [
    "### 프로세스를 생성\n"
   ]
  },
  {
   "cell_type": "code",
   "execution_count": 21,
   "id": "b397bb68",
   "metadata": {},
   "outputs": [],
   "source": [
    "from multiprocessing import Process\n",
    "from worker00 import my_function"
   ]
  },
  {
   "cell_type": "code",
   "execution_count": 22,
   "id": "cae2f78b",
   "metadata": {},
   "outputs": [],
   "source": [
    "# 새로운 프로세스 생성\n",
    "my_process = Process(target=my_function)\n"
   ]
  },
  {
   "cell_type": "markdown",
   "id": "1afa1ed4",
   "metadata": {},
   "source": [
    "### 프로세스 시작 \n",
    "\n",
    "- start() 메서드를 사용하여 프로세스를 시작하고, 내부적으로 target으로 지정한 함수 또는 메서드를 실행합니다."
   ]
  },
  {
   "cell_type": "code",
   "execution_count": 23,
   "id": "43ecbf88",
   "metadata": {},
   "outputs": [
    {
     "name": "stdout",
     "output_type": "stream",
     "text": [
      "Hello from another process!\n"
     ]
    }
   ],
   "source": [
    "my_process.start()  # 프로세스 시작\n",
    "my_process.join()   # 프로세스가 완료될 때까지 대기"
   ]
  },
  {
   "cell_type": "code",
   "execution_count": null,
   "id": "b01229a1",
   "metadata": {},
   "outputs": [],
   "source": []
  },
  {
   "cell_type": "markdown",
   "id": "c025cd32",
   "metadata": {},
   "source": [
    "## 2. 멀티프로세스 활용  "
   ]
  },
  {
   "cell_type": "code",
   "execution_count": null,
   "id": "2895f90c",
   "metadata": {},
   "outputs": [],
   "source": []
  },
  {
   "cell_type": "markdown",
   "id": "65f6b1f2",
   "metadata": {},
   "source": [
    "## 2-1 프로세스 간 통신: \n",
    "\n",
    "- 멀티프로세스 환경에서는 프로세스 간에 데이터를 공유하거나 통신할 수 있어야 합니다. \n",
    "- multiprocessing 모듈은 이러한 통신을 지원하는 여러 메커니즘을 제공합니다."
   ]
  },
  {
   "cell_type": "code",
   "execution_count": 1,
   "id": "149530a2",
   "metadata": {},
   "outputs": [
    {
     "name": "stdout",
     "output_type": "stream",
     "text": [
      "Overwriting worker01.py\n"
     ]
    }
   ],
   "source": [
    "%%writefile worker01.py\n",
    "\n",
    "def square_numbers(numbers, result, index):\n",
    "    for idx, num in enumerate(numbers):\n",
    "        result[idx] = num * num\n",
    "        index.value = idx  # 공유 메모리 업데이트\n",
    "        \n",
    "\n",
    "def square_number(number):\n",
    "    return number * number"
   ]
  },
  {
   "cell_type": "code",
   "execution_count": 37,
   "id": "cfec15b1",
   "metadata": {},
   "outputs": [
    {
     "name": "stdout",
     "output_type": "stream",
     "text": [
      "[1, 4, 9, 16, 25]\n",
      "-1\n"
     ]
    }
   ],
   "source": [
    "from multiprocessing import Process, Value\n",
    "\n",
    "from worker01 import square_numbers\n",
    "\n",
    "numbers = [1, 2, 3, 4, 5]\n",
    "result = Array('i', [0] * len(numbers))  # 정수형 배열 공유 메모리\n",
    "index = Array('i', [-1])                 # 정수형 배열 공유 메모리\n",
    "\n",
    "my_process = Process(target=square_numbers, args=(numbers, result, index))\n",
    "my_process.start()\n",
    "my_process.join()\n",
    "\n",
    "print(list(result))\n",
    "print(index[0])\n"
   ]
  },
  {
   "cell_type": "code",
   "execution_count": null,
   "id": "1d2361c6",
   "metadata": {},
   "outputs": [],
   "source": []
  },
  {
   "cell_type": "code",
   "execution_count": null,
   "id": "52e1baef",
   "metadata": {},
   "outputs": [],
   "source": []
  },
  {
   "cell_type": "markdown",
   "id": "64c68338",
   "metadata": {},
   "source": [
    "## 2-2 멀티프로세스 처리를 위해서는 두 개의 모듈로 구분 \n",
    "\n",
    "- 게산하는 함수를 별도로 정의 "
   ]
  },
  {
   "cell_type": "code",
   "execution_count": 14,
   "id": "121b30f1",
   "metadata": {},
   "outputs": [],
   "source": [
    "from multiprocessing import Process, Array"
   ]
  },
  {
   "cell_type": "markdown",
   "id": "86213851",
   "metadata": {},
   "source": [
    "### 실행할 함수를 별도의 모듈에 생성"
   ]
  },
  {
   "cell_type": "code",
   "execution_count": 27,
   "id": "c1591516",
   "metadata": {},
   "outputs": [
    {
     "name": "stdout",
     "output_type": "stream",
     "text": [
      "Overwriting worker.py\n"
     ]
    }
   ],
   "source": [
    "%%writefile worker.py\n",
    "# worker.py\n",
    "\n",
    "\n",
    "def square_numbers(numbers, result, index):\n",
    "    for idx, num in enumerate(numbers):\n",
    "        result[idx] = num * num\n",
    "        index.value = idx                   # 공유 메모리 업데이트"
   ]
  },
  {
   "cell_type": "markdown",
   "id": "0debed94",
   "metadata": {},
   "source": [
    "### 메인 프로세스 처리 \n",
    "\n",
    "- multiprocessing.Array를 사용하여 배열을 만들고, 해당 배열을 공유 메모리로 사용하는 방법이 있습니다."
   ]
  },
  {
   "cell_type": "code",
   "execution_count": 28,
   "id": "76828dd5",
   "metadata": {},
   "outputs": [
    {
     "name": "stdout",
     "output_type": "stream",
     "text": [
      "[1, 4, 9, 16, 25]\n",
      "-1\n"
     ]
    }
   ],
   "source": [
    "from multiprocessing import Process, Array\n",
    "from worker import square_numbers\n",
    "\n",
    "if __name__ == \"__main__\":\n",
    "    numbers = [1, 2, 3, 4, 5]\n",
    "    result = Array('i', [0] * len(numbers))  # 정수형 배열 공유 메모리\n",
    "    index = Array('i', [-1])                 # 정수형 배열 공유 메모리\n",
    "\n",
    "    # 멀티프로세스 생성\n",
    "    process = Process(target=square_numbers, args=(numbers, result, index))\n",
    "\n",
    "    # 프로세스 시작\n",
    "    process.start()\n",
    "\n",
    "    # 프로세스가 완료될 때까지 대기\n",
    "    process.join()\n",
    "\n",
    "    # 결과 출력\n",
    "    print(list(result))\n",
    "    print(index[0])\n",
    "\n"
   ]
  },
  {
   "cell_type": "code",
   "execution_count": null,
   "id": "9629d3c5",
   "metadata": {},
   "outputs": [],
   "source": []
  },
  {
   "cell_type": "code",
   "execution_count": null,
   "id": "3a658e2e",
   "metadata": {},
   "outputs": [],
   "source": []
  },
  {
   "cell_type": "markdown",
   "id": "7ace498e",
   "metadata": {},
   "source": [
    "## 2-3  2 개의 프로세스에서 처리 "
   ]
  },
  {
   "cell_type": "code",
   "execution_count": 6,
   "id": "b924685b",
   "metadata": {},
   "outputs": [
    {
     "name": "stdout",
     "output_type": "stream",
     "text": [
      "Overwriting task.py\n"
     ]
    }
   ],
   "source": [
    "%%writefile task.py\n",
    "import time\n",
    "\n",
    "def task1():\n",
    "    for _ in range(5):\n",
    "        print(\"Task 1 is running\")\n",
    "        time.sleep(1)\n",
    "\n",
    "def task2():\n",
    "    for _ in range(5):\n",
    "        print(\"Task 2 is running\")\n",
    "        time.sleep(1)"
   ]
  },
  {
   "cell_type": "code",
   "execution_count": null,
   "id": "743cff39",
   "metadata": {},
   "outputs": [],
   "source": []
  },
  {
   "cell_type": "code",
   "execution_count": 7,
   "id": "b24c13fa",
   "metadata": {},
   "outputs": [
    {
     "name": "stdout",
     "output_type": "stream",
     "text": [
      "Task 1 is running\n",
      "Task 1 is running\n",
      "Task 1 is running\n",
      "Task 1 is running\n",
      "Task 1 is running\n",
      "Task 2 is running\n",
      "Task 2 is running\n",
      "Task 2 is running\n",
      "Task 2 is running\n",
      "Task 2 is running\n",
      "Both tasks are completed\n"
     ]
    }
   ],
   "source": [
    "from multiprocessing import Process\n",
    "from task import task1, task2\n",
    "\n",
    "if __name__ == \"__main__\":\n",
    "    # 두 개의 프로세스 생성\n",
    "    process1 = Process(target=task1)\n",
    "    process2 = Process(target=task2)\n",
    "\n",
    "    # 각각의 프로세스 시작\n",
    "    process1.start()\n",
    "    process2.start()\n",
    "\n",
    "    # 각각의 프로세스가 완료될 때까지 대기\n",
    "    process1.join()\n",
    "    process2.join()\n",
    "\n",
    "    print(\"Both tasks are completed\")\n"
   ]
  },
  {
   "cell_type": "code",
   "execution_count": null,
   "id": "f7e1e5aa",
   "metadata": {},
   "outputs": [],
   "source": []
  },
  {
   "cell_type": "markdown",
   "id": "43691537",
   "metadata": {},
   "source": [
    "## 2-4 프로세스 풀에서 처리 "
   ]
  },
  {
   "cell_type": "code",
   "execution_count": 8,
   "id": "3ad36226",
   "metadata": {},
   "outputs": [
    {
     "name": "stdout",
     "output_type": "stream",
     "text": [
      "[1, 4, 9, 16, 25]\n"
     ]
    }
   ],
   "source": [
    "from multiprocessing import Pool\n",
    "\n",
    "from worker01 import square_number\n",
    "\n",
    "if __name__ == \"__main__\":\n",
    "    numbers = [1, 2, 3, 4, 5]\n",
    "\n",
    "    # Pool 생성 (기본적으로 CPU 코어 수 만큼의 프로세스를 사용)\n",
    "    pool = Pool()\n",
    "\n",
    "    # map 함수를 사용하여 각 숫자를 제곱하는 작업을 병렬로 처리\n",
    "    result = pool.map(square_number, numbers)\n",
    "\n",
    "    # 프로세스 풀 종료 및 대기\n",
    "    pool.close()\n",
    "    pool.join()\n",
    "\n",
    "    # 결과 출력\n",
    "    print(result)"
   ]
  },
  {
   "cell_type": "code",
   "execution_count": null,
   "id": "28848410",
   "metadata": {},
   "outputs": [],
   "source": []
  },
  {
   "cell_type": "code",
   "execution_count": 9,
   "id": "a94a8cbc",
   "metadata": {},
   "outputs": [
    {
     "name": "stdout",
     "output_type": "stream",
     "text": [
      "[1, 4, 9, 16, 25]\n"
     ]
    }
   ],
   "source": [
    "from multiprocessing import Pool\n",
    "\n",
    "from worker01 import square_number\n",
    "\n",
    "if __name__ == \"__main__\":\n",
    "    numbers = [1, 2, 3, 4, 5]\n",
    "\n",
    "    # Pool 생성 (기본적으로 CPU 코어 수 만큼의 프로세스를 사용)\n",
    "    with Pool() as pool:\n",
    "        # map 함수를 사용하여 각 숫자를 제곱하는 작업을 병렬로 처리\n",
    "        result = pool.map(square_number, numbers)\n",
    "\n",
    "    # 결과 출력\n",
    "    print(result)"
   ]
  },
  {
   "cell_type": "code",
   "execution_count": null,
   "id": "891bcd19",
   "metadata": {},
   "outputs": [],
   "source": []
  }
 ],
 "metadata": {
  "kernelspec": {
   "display_name": "Python 3 (ipykernel)",
   "language": "python",
   "name": "python3"
  },
  "language_info": {
   "codemirror_mode": {
    "name": "ipython",
    "version": 3
   },
   "file_extension": ".py",
   "mimetype": "text/x-python",
   "name": "python",
   "nbconvert_exporter": "python",
   "pygments_lexer": "ipython3",
   "version": "3.11.3"
  }
 },
 "nbformat": 4,
 "nbformat_minor": 5
}
