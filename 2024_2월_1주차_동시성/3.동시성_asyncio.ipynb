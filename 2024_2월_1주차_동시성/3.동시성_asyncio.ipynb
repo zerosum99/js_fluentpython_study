{
 "cells": [
  {
   "cell_type": "code",
   "execution_count": null,
   "id": "98e69e95",
   "metadata": {},
   "outputs": [],
   "source": []
  },
  {
   "cell_type": "code",
   "execution_count": 1,
   "id": "0765e896",
   "metadata": {},
   "outputs": [
    {
     "data": {
      "text/plain": [
       "'3.11.3'"
      ]
     },
     "execution_count": 1,
     "metadata": {},
     "output_type": "execute_result"
    }
   ],
   "source": [
    "import platform\n",
    "platform.python_version()"
   ]
  },
  {
   "cell_type": "markdown",
   "id": "9e516e90",
   "metadata": {},
   "source": [
    "## async await 처리 주피터 명령어 \n",
    "\n",
    "-   상태 확인 : %autoawait\n",
    "- on off 를 붙여서 상태를 세팅함 "
   ]
  },
  {
   "cell_type": "code",
   "execution_count": 2,
   "id": "3102250c",
   "metadata": {},
   "outputs": [
    {
     "name": "stdout",
     "output_type": "stream",
     "text": [
      "IPython autoawait is `on`, and set to use `asyncio`\n"
     ]
    }
   ],
   "source": [
    "%autoawait"
   ]
  },
  {
   "cell_type": "code",
   "execution_count": 3,
   "id": "5855fe7e",
   "metadata": {},
   "outputs": [],
   "source": [
    "%autoawait off"
   ]
  },
  {
   "cell_type": "code",
   "execution_count": null,
   "id": "052f55d5",
   "metadata": {},
   "outputs": [],
   "source": []
  },
  {
   "cell_type": "markdown",
   "id": "2c505a7a",
   "metadata": {},
   "source": [
    "## 1. 비동기 프로그래밍(Asynchronous Programming): \n",
    "\n",
    "- asyncio 모듈을 사용하여 비동기적으로 작업을 수행할 수 있습니다. \n",
    "- 비동기 프로그래밍은 I/O-bound 작업에 특히 유용하며, 이벤트 루프를 통해 비동기 코드를 실행합니다."
   ]
  },
  {
   "cell_type": "markdown",
   "id": "e9dc138e",
   "metadata": {},
   "source": [
    "## 1-1 모듈 확인하기 "
   ]
  },
  {
   "cell_type": "markdown",
   "id": "65c6d454",
   "metadata": {},
   "source": [
    "## 모듈 임포트 "
   ]
  },
  {
   "cell_type": "code",
   "execution_count": 4,
   "id": "a1189290",
   "metadata": {},
   "outputs": [],
   "source": [
    "import asyncio, time , threading, multiprocessing"
   ]
  },
  {
   "cell_type": "markdown",
   "id": "cc30e735",
   "metadata": {},
   "source": [
    "## 모듈에 대한 정보 확인 "
   ]
  },
  {
   "cell_type": "code",
   "execution_count": 5,
   "id": "68167301",
   "metadata": {},
   "outputs": [
    {
     "name": "stdout",
     "output_type": "stream",
     "text": [
      "ALL_COMPLETED, AbstractChildWatcher, AbstractEventLoop, AbstractEventLoopPolicy, AbstractServer, Barrier, BaseEventLoop, BaseProtocol, BaseTransport, BoundedSemaphore, BrokenBarrierError, BufferedProtocol, CancelledError, Condition, DatagramProtocol, DatagramTransport, DefaultEventLoopPolicy, Event, FIRST_COMPLETED, FIRST_EXCEPTION, FastChildWatcher, Future, Handle, IncompleteReadError, InvalidStateError, LifoQueue, LimitOverrunError, Lock, MultiLoopChildWatcher, PidfdChildWatcher, PriorityQueue, Protocol, Queue, QueueEmpty, QueueFull, ReadTransport, Runner, SafeChildWatcher, SelectorEventLoop, Semaphore, SendfileNotAvailableError, Server, StreamReader, StreamReaderProtocol, StreamWriter, SubprocessProtocol, SubprocessTransport, Task, TaskGroup, ThreadedChildWatcher, Timeout, TimeoutError, TimerHandle, Transport, WriteTransport, all_tasks, as_completed, base_events, base_futures, base_subprocess, base_tasks, constants, coroutines, create_subprocess_exec, create_subprocess_shell, create_task, current_task, ensure_future, events, exceptions, format_helpers, futures, gather, get_child_watcher, get_event_loop, get_event_loop_policy, get_running_loop, iscoroutine, iscoroutinefunction, isfuture, locks, log, mixins, new_event_loop, open_connection, open_unix_connection, protocols, queues, run, run_coroutine_threadsafe, runners, selector_events, set_child_watcher, set_event_loop, set_event_loop_policy, shield, sleep, sslproto, staggered, start_server, start_unix_server, streams, subprocess, sys, taskgroups, tasks, threads, timeout, timeout_at, timeouts, to_thread, transports, trsock, unix_events, wait, wait_for, wrap_future, "
     ]
    }
   ],
   "source": [
    "for i in dir(asyncio) :\n",
    "    if not i.startswith(\"_\") :\n",
    "        print(i, end=\", \")"
   ]
  },
  {
   "cell_type": "markdown",
   "id": "8897f357",
   "metadata": {},
   "source": [
    "## 1-2 코루틴 실행을 처리"
   ]
  },
  {
   "cell_type": "code",
   "execution_count": 27,
   "id": "9a1cdd71",
   "metadata": {},
   "outputs": [
    {
     "name": "stdout",
     "output_type": "stream",
     "text": [
      "Hello ...\n",
      "... World!\n"
     ]
    }
   ],
   "source": [
    "async def main():\n",
    "    print('Hello ...')\n",
    "    await asyncio.sleep(1)\n",
    "    print('... World!')\n",
    "\n",
    "await main()"
   ]
  },
  {
   "cell_type": "code",
   "execution_count": null,
   "id": "66018fd4",
   "metadata": {},
   "outputs": [],
   "source": []
  },
  {
   "cell_type": "markdown",
   "id": "f65049c6",
   "metadata": {},
   "source": [
    "## 코루틴 실행을 처리\n",
    "\n",
    "### 1. asyncio.run(coro) 함수:\n",
    "\n",
    "- 최상위 레벨에서 사용되며, 비동기 코드를 실행합니다.\n",
    "- Python 3.7 버전 이상에서 사용 가능합니다.\n",
    "\n",
    "\n",
    "### 2. loop.run_until_complete(coro) 메서드:\n",
    "\n",
    "- 이벤트 루프에서 특정한 코루틴을 실행합니다.\n",
    "- loop는 asyncio.get_event_loop()로 얻을 수 있습니다.\n",
    "\n",
    "### 함수와 메서드를 사용할 경우 주피터에서 에러가 발생\n",
    "- 보통 wait로 처리 함 \n",
    "\n",
    "\n",
    "### 3. 태스크 메서드와 함수를 사용\n",
    "\n",
    "- loop.create_task(coro) 메서드:\n",
    "\n",
    "> 이벤트 루프에 백그라운드로 실행될 코루틴을 추가합니다.\n",
    "> 코루틴이 완료되지 않은 상태에서 다음 코드를 실행할 수 있습니다.\n",
    "\n",
    "- asyncio.gather(coro1, coro2, ...) 함수:\n",
    "\n",
    "> 여러 비동기 코루틴을 병렬로 실행하고 결과를 모읍니다.\n",
    "\n",
    "### 4. await 로 실행 처리 "
   ]
  },
  {
   "cell_type": "code",
   "execution_count": null,
   "id": "95308b55",
   "metadata": {},
   "outputs": [],
   "source": []
  },
  {
   "cell_type": "markdown",
   "id": "3007c0c3",
   "metadata": {},
   "source": [
    "### 1-2-1 run 함수로 실행하기 \n",
    "\n",
    "- 파이썬 파일을 만든다.\n",
    "- python으로 실행하면서 이벤트 루프 처리를 실행해야 한다."
   ]
  },
  {
   "cell_type": "code",
   "execution_count": 6,
   "id": "fb1d2356",
   "metadata": {},
   "outputs": [
    {
     "name": "stdout",
     "output_type": "stream",
     "text": [
      "Overwriting quickstart.py\n"
     ]
    }
   ],
   "source": [
    "%%writefile quickstart.py\n",
    "\n",
    "import asyncio, time \n",
    "\n",
    "async def main() :\n",
    "    print(f\"{time.ctime()} Hello \")\n",
    "    await asyncio.sleep(1.0)\n",
    "    print(f\"{time.ctime()} Goodbye \")\n",
    "    \n",
    "\n",
    "asyncio.run(main())\n",
    "\n",
    "# 이벤트 루프 종료\n"
   ]
  },
  {
   "cell_type": "code",
   "execution_count": 7,
   "id": "738eba29",
   "metadata": {},
   "outputs": [
    {
     "name": "stdout",
     "output_type": "stream",
     "text": [
      "Thu Jan 25 15:40:33 2024 Hello \n",
      "Thu Jan 25 15:40:34 2024 Goodbye \n"
     ]
    }
   ],
   "source": [
    "!python quickstart.py"
   ]
  },
  {
   "cell_type": "markdown",
   "id": "9208a311",
   "metadata": {},
   "source": [
    "### 1-1-2 await로 실행하기 "
   ]
  },
  {
   "cell_type": "code",
   "execution_count": null,
   "id": "76751b9b",
   "metadata": {},
   "outputs": [],
   "source": [
    "async def main():\n",
    "    print('Hello ...')\n",
    "    await asyncio.sleep(1)\n",
    "    print('... World!')\n",
    "\n",
    "await main()"
   ]
  },
  {
   "cell_type": "code",
   "execution_count": null,
   "id": "ef91f1b4",
   "metadata": {},
   "outputs": [],
   "source": []
  },
  {
   "cell_type": "markdown",
   "id": "81020b6b",
   "metadata": {},
   "source": [
    "## 1-3  autoawait 상태 확인하기 "
   ]
  },
  {
   "cell_type": "code",
   "execution_count": 11,
   "id": "550642e5",
   "metadata": {},
   "outputs": [
    {
     "name": "stdout",
     "output_type": "stream",
     "text": [
      "IPython autoawait is `off`, and set to use `asyncio`\n"
     ]
    }
   ],
   "source": [
    "%autoawait"
   ]
  },
  {
   "cell_type": "code",
   "execution_count": 15,
   "id": "c0082693",
   "metadata": {},
   "outputs": [],
   "source": [
    "%autoawait on"
   ]
  },
  {
   "cell_type": "code",
   "execution_count": 16,
   "id": "ab6febe6",
   "metadata": {},
   "outputs": [
    {
     "name": "stdout",
     "output_type": "stream",
     "text": [
      "IPython autoawait is `on`, and set to use `asyncio`\n"
     ]
    }
   ],
   "source": [
    "%autoawait"
   ]
  },
  {
   "cell_type": "code",
   "execution_count": null,
   "id": "c57e601c",
   "metadata": {},
   "outputs": [],
   "source": []
  },
  {
   "cell_type": "code",
   "execution_count": null,
   "id": "0c21e293",
   "metadata": {},
   "outputs": [],
   "source": []
  },
  {
   "cell_type": "markdown",
   "id": "7b852e2d",
   "metadata": {},
   "source": [
    "## 2. 두 개의  async 함수를 정의하고 처리하기\n",
    "\n",
    "### 주의사항 \n",
    "\n",
    "- 일반적으로 주피터 노트북은 이미 이벤트 루프를 가지고 있으며, 이벤트 루프는 한 번에 하나만 실행될 수 있습니다.\n",
    "- 따라서 loop.run_until_complete(main())을 호출하면 현재 이벤트 루프가 이미 실행 중이라는 에러가 발생합니다."
   ]
  },
  {
   "cell_type": "code",
   "execution_count": 17,
   "id": "1d9fc437",
   "metadata": {},
   "outputs": [],
   "source": [
    "async def example_coroutine():\n",
    "    print(\"Coroutine is running\")\n",
    "    await asyncio.sleep(1)\n",
    "    print(\"Coroutine is done\")\n",
    "\n",
    "async def main():\n",
    "    for _ in range(5):\n",
    "        await example_coroutine()\n"
   ]
  },
  {
   "cell_type": "markdown",
   "id": "2316fef4",
   "metadata": {},
   "source": [
    "## await로 이벤트 루프 사용"
   ]
  },
  {
   "cell_type": "code",
   "execution_count": 18,
   "id": "3ddd375f",
   "metadata": {},
   "outputs": [
    {
     "name": "stdout",
     "output_type": "stream",
     "text": [
      "<_UnixSelectorEventLoop running=True closed=False debug=False>\n",
      "Coroutine is running\n",
      "Coroutine is done\n",
      "Coroutine is running\n",
      "Coroutine is done\n",
      "Coroutine is running\n",
      "Coroutine is done\n",
      "Coroutine is running\n",
      "Coroutine is done\n",
      "Coroutine is running\n",
      "Coroutine is done\n"
     ]
    }
   ],
   "source": [
    "print(asyncio.get_event_loop())\n",
    "\n",
    "# 주피터 노트북의 이벤트 루프 사용\n",
    "await main()"
   ]
  },
  {
   "cell_type": "markdown",
   "id": "4c86298f",
   "metadata": {},
   "source": [
    "### 이벤트 루프 확인하기 "
   ]
  },
  {
   "cell_type": "code",
   "execution_count": 19,
   "id": "9784a431",
   "metadata": {},
   "outputs": [
    {
     "name": "stdout",
     "output_type": "stream",
     "text": [
      "<_UnixSelectorEventLoop running=False closed=False debug=False>\n"
     ]
    }
   ],
   "source": [
    "# 새로운 이벤트 루프 생성\n",
    "loop = asyncio.new_event_loop()\n",
    "asyncio.set_event_loop(loop)\n",
    "\n",
    "print(loop)"
   ]
  },
  {
   "cell_type": "code",
   "execution_count": 20,
   "id": "a8e458b2",
   "metadata": {},
   "outputs": [
    {
     "name": "stdout",
     "output_type": "stream",
     "text": [
      "<_UnixSelectorEventLoop running=True closed=False debug=False>\n"
     ]
    }
   ],
   "source": [
    "# 현재 실행 중인 이벤트 루프 가져오기\n",
    "loop1 = asyncio.get_event_loop()\n",
    "print(loop1)"
   ]
  },
  {
   "cell_type": "code",
   "execution_count": 21,
   "id": "9069702e",
   "metadata": {},
   "outputs": [
    {
     "name": "stdout",
     "output_type": "stream",
     "text": [
      "Coroutine is running\n",
      "Coroutine is done\n",
      "Coroutine is running\n",
      "Coroutine is done\n",
      "Coroutine is running\n",
      "Coroutine is done\n",
      "Coroutine is running\n",
      "Coroutine is done\n",
      "Coroutine is running\n",
      "Coroutine is done\n"
     ]
    }
   ],
   "source": [
    "await main()"
   ]
  },
  {
   "cell_type": "code",
   "execution_count": null,
   "id": "c2bb1e80",
   "metadata": {},
   "outputs": [],
   "source": []
  },
  {
   "cell_type": "markdown",
   "id": "d097c7b7",
   "metadata": {},
   "source": [
    "## 3. 코루틴을 실행하기 위한 이벤트 "
   ]
  },
  {
   "cell_type": "code",
   "execution_count": 22,
   "id": "fbd883be",
   "metadata": {
    "scrolled": true
   },
   "outputs": [
    {
     "name": "stdout",
     "output_type": "stream",
     "text": [
      "Overwriting quickstart_1.py\n"
     ]
    }
   ],
   "source": [
    "%%writefile quickstart_1.py\n",
    "import asyncio, time \n",
    "\n",
    "async def main2() :\n",
    "    print(f\"{time.ctime()} Hello \")\n",
    "    await asyncio.sleep(1.0)\n",
    "    print(f\"{time.ctime()} Goodbye \")\n",
    "\n",
    "# 현재 실행 중인 이벤트 루프 가져오기\n",
    "loop = asyncio.get_event_loop()\n",
    "\n",
    "print(loop)\n",
    "loop.stop()"
   ]
  },
  {
   "cell_type": "code",
   "execution_count": 23,
   "id": "847eba69",
   "metadata": {},
   "outputs": [
    {
     "name": "stdout",
     "output_type": "stream",
     "text": [
      "<_UnixSelectorEventLoop running=False closed=False debug=False>\r\n"
     ]
    }
   ],
   "source": [
    "!python quickstart_1.py"
   ]
  },
  {
   "cell_type": "code",
   "execution_count": 24,
   "id": "5badef61",
   "metadata": {},
   "outputs": [],
   "source": [
    "lll = asyncio.get_event_loop()"
   ]
  },
  {
   "cell_type": "markdown",
   "id": "862d4b89",
   "metadata": {},
   "source": [
    "## 주피터에서는 기존 이벤트 루프로 처리하면 에러 발생\n",
    "\n",
    "- 그래서 await로 실행해야함 "
   ]
  },
  {
   "cell_type": "code",
   "execution_count": 25,
   "id": "df7a26ff",
   "metadata": {},
   "outputs": [],
   "source": [
    "async def main2() :\n",
    "    print(f\"{time.ctime()} Hello \")\n",
    "    await asyncio.sleep(1.0)\n",
    "    print(f\"{time.ctime()} Goodbye \")"
   ]
  },
  {
   "cell_type": "code",
   "execution_count": 26,
   "id": "d92a0541",
   "metadata": {},
   "outputs": [
    {
     "name": "stdout",
     "output_type": "stream",
     "text": [
      "Thu Jan 25 15:44:47 2024 Hello \n",
      "Thu Jan 25 15:44:48 2024 Goodbye \n"
     ]
    }
   ],
   "source": [
    "await main2()"
   ]
  },
  {
   "cell_type": "code",
   "execution_count": null,
   "id": "434b815a",
   "metadata": {},
   "outputs": [],
   "source": []
  },
  {
   "cell_type": "code",
   "execution_count": null,
   "id": "aa153d94",
   "metadata": {},
   "outputs": [],
   "source": []
  },
  {
   "cell_type": "markdown",
   "id": "2a802627",
   "metadata": {},
   "source": [
    "## 4. 비동기 처리 방식 확인"
   ]
  },
  {
   "cell_type": "markdown",
   "id": "c92f4e48",
   "metadata": {},
   "source": [
    "### 비동기 처리 \n",
    "\n",
    "- 실제 순차적으로 처리한다."
   ]
  },
  {
   "cell_type": "code",
   "execution_count": 28,
   "id": "c7298264",
   "metadata": {},
   "outputs": [
    {
     "name": "stdout",
     "output_type": "stream",
     "text": [
      "0\n",
      "1\n",
      "2\n",
      "3\n",
      "4\n",
      "A\n",
      "B\n",
      "C\n",
      "D\n",
      "E\n"
     ]
    }
   ],
   "source": [
    "async def print_numbers():\n",
    "    for i in range(5):\n",
    "        print(i)\n",
    "        await asyncio.sleep(1)\n",
    "\n",
    "async def print_letters():\n",
    "    for letter in 'ABCDE':\n",
    "        print(letter)\n",
    "        await asyncio.sleep(1)\n",
    "        \n",
    "        \n",
    "async def main():\n",
    "\n",
    "    await print_numbers()\n",
    "    await asyncio.sleep(1)\n",
    "    await print_letters()\n",
    "    \n",
    "await main()\n"
   ]
  },
  {
   "cell_type": "code",
   "execution_count": null,
   "id": "8628c60c",
   "metadata": {},
   "outputs": [],
   "source": []
  },
  {
   "cell_type": "markdown",
   "id": "8c188402",
   "metadata": {},
   "source": [
    "### 비동기 처리  해결방안\n",
    "\n",
    "- 동시에 처리려면 타스크를 만들고 이 타스클를 동시에 실행시켜야 함 "
   ]
  },
  {
   "cell_type": "code",
   "execution_count": 29,
   "id": "badfc83c",
   "metadata": {},
   "outputs": [
    {
     "name": "stdout",
     "output_type": "stream",
     "text": [
      "0\n",
      "A\n",
      "1\n",
      "B\n",
      "2\n",
      "C\n",
      "3\n",
      "D\n",
      "4\n",
      "E\n"
     ]
    }
   ],
   "source": [
    "async def print_numbers():\n",
    "    for i in range(5):\n",
    "        print(i)\n",
    "        await asyncio.sleep(1)\n",
    "\n",
    "async def print_letters():\n",
    "    for letter in 'ABCDE':\n",
    "        print(letter)\n",
    "        await asyncio.sleep(1)\n",
    "\n",
    "async def main():\n",
    "    task1 = asyncio.create_task(print_numbers())\n",
    "    task2 = asyncio.create_task(print_letters())\n",
    "\n",
    "    await asyncio.gather(task1, task2)\n",
    "\n",
    "\n",
    "await main()\n"
   ]
  },
  {
   "cell_type": "code",
   "execution_count": null,
   "id": "655e77a4",
   "metadata": {},
   "outputs": [],
   "source": []
  },
  {
   "cell_type": "code",
   "execution_count": null,
   "id": "19f74069",
   "metadata": {},
   "outputs": [],
   "source": []
  },
  {
   "cell_type": "code",
   "execution_count": null,
   "id": "dbaba3ff",
   "metadata": {},
   "outputs": [],
   "source": []
  },
  {
   "cell_type": "code",
   "execution_count": null,
   "id": "9133d609",
   "metadata": {},
   "outputs": [],
   "source": []
  },
  {
   "cell_type": "code",
   "execution_count": null,
   "id": "b8d03182",
   "metadata": {},
   "outputs": [],
   "source": []
  }
 ],
 "metadata": {
  "kernelspec": {
   "display_name": "Python 3 (ipykernel)",
   "language": "python",
   "name": "python3"
  },
  "language_info": {
   "codemirror_mode": {
    "name": "ipython",
    "version": 3
   },
   "file_extension": ".py",
   "mimetype": "text/x-python",
   "name": "python",
   "nbconvert_exporter": "python",
   "pygments_lexer": "ipython3",
   "version": "3.11.3"
  }
 },
 "nbformat": 4,
 "nbformat_minor": 5
}
