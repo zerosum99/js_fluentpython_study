{
 "cells": [
  {
   "cell_type": "code",
   "execution_count": null,
   "id": "98e69e95",
   "metadata": {},
   "outputs": [],
   "source": []
  },
  {
   "cell_type": "code",
   "execution_count": 1,
   "id": "0765e896",
   "metadata": {},
   "outputs": [
    {
     "data": {
      "text/plain": [
       "'3.11.3'"
      ]
     },
     "execution_count": 1,
     "metadata": {},
     "output_type": "execute_result"
    }
   ],
   "source": [
    "import platform\n",
    "platform.python_version()"
   ]
  },
  {
   "cell_type": "markdown",
   "id": "2c505a7a",
   "metadata": {},
   "source": [
    "## 1. 비동기 프로그래밍(Asynchronous Programming): \n",
    "\n",
    "- asyncio 모듈을 사용하여 비동기적으로 작업을 수행할 수 있습니다. \n",
    "- 비동기 프로그래밍은 I/O-bound 작업에 특히 유용하며, 이벤트 루프를 통해 비동기 코드를 실행합니다."
   ]
  },
  {
   "cell_type": "code",
   "execution_count": null,
   "id": "2906b2f0",
   "metadata": {},
   "outputs": [],
   "source": []
  },
  {
   "cell_type": "code",
   "execution_count": 2,
   "id": "8fead961",
   "metadata": {
    "scrolled": true
   },
   "outputs": [
    {
     "name": "stdout",
     "output_type": "stream",
     "text": [
      "Hello ...\n",
      "... World!\n"
     ]
    }
   ],
   "source": [
    "import asyncio\n",
    "\n",
    "async def main():\n",
    "    print('Hello ...')\n",
    "    await asyncio.sleep(1)\n",
    "    print('... World!')\n",
    "\n",
    "await main()"
   ]
  },
  {
   "cell_type": "code",
   "execution_count": null,
   "id": "ca7c18ee",
   "metadata": {},
   "outputs": [],
   "source": []
  },
  {
   "cell_type": "code",
   "execution_count": null,
   "id": "1cdec483",
   "metadata": {},
   "outputs": [],
   "source": []
  },
  {
   "cell_type": "code",
   "execution_count": null,
   "id": "c7298264",
   "metadata": {},
   "outputs": [
    {
     "name": "stdout",
     "output_type": "stream",
     "text": [
      "0\n",
      "1\n",
      "2\n",
      "3\n",
      "4\n",
      "A\n",
      "B\n",
      "C\n",
      "D\n",
      "E\n"
     ]
    }
   ],
   "source": [
    "import asyncio\n",
    "\n",
    "async def print_numbers():\n",
    "    for i in range(5):\n",
    "        print(i)\n",
    "        await asyncio.sleep(1)\n",
    "\n",
    "async def print_letters():\n",
    "    for letter in 'ABCDE':\n",
    "        print(letter)\n",
    "        await asyncio.sleep(1)\n",
    "        \n",
    "        \n",
    "async def main():\n",
    "\n",
    "    await print_numbers()\n",
    "    await asyncio.sleep(1)\n",
    "    await print_letters()\n",
    "    \n",
    "await main()\n"
   ]
  },
  {
   "cell_type": "code",
   "execution_count": null,
   "id": "8628c60c",
   "metadata": {},
   "outputs": [],
   "source": []
  },
  {
   "cell_type": "markdown",
   "id": "8c188402",
   "metadata": {},
   "source": [
    "## 해결방안"
   ]
  },
  {
   "cell_type": "code",
   "execution_count": null,
   "id": "badfc83c",
   "metadata": {},
   "outputs": [],
   "source": [
    "import asyncio\n",
    "\n",
    "async def print_numbers():\n",
    "    for i in range(5):\n",
    "        print(i)\n",
    "        await asyncio.sleep(1)\n",
    "\n",
    "async def print_letters():\n",
    "    for letter in 'ABCDE':\n",
    "        print(letter)\n",
    "        await asyncio.sleep(1)\n",
    "\n",
    "async def main():\n",
    "    task1 = asyncio.create_task(print_numbers())\n",
    "    task2 = asyncio.create_task(print_letters())\n",
    "\n",
    "    await asyncio.gather(task1, task2)\n",
    "\n",
    "\n",
    "await main()\n"
   ]
  },
  {
   "cell_type": "code",
   "execution_count": null,
   "id": "655e77a4",
   "metadata": {},
   "outputs": [],
   "source": []
  },
  {
   "cell_type": "code",
   "execution_count": null,
   "id": "154a8ef6",
   "metadata": {},
   "outputs": [],
   "source": []
  }
 ],
 "metadata": {
  "kernelspec": {
   "display_name": "Python 3 (ipykernel)",
   "language": "python",
   "name": "python3"
  },
  "language_info": {
   "codemirror_mode": {
    "name": "ipython",
    "version": 3
   },
   "file_extension": ".py",
   "mimetype": "text/x-python",
   "name": "python",
   "nbconvert_exporter": "python",
   "pygments_lexer": "ipython3",
   "version": "3.11.3"
  }
 },
 "nbformat": 4,
 "nbformat_minor": 5
}
