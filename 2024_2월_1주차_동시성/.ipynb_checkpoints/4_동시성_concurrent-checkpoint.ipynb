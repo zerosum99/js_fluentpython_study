{
 "cells": [
  {
   "cell_type": "code",
   "execution_count": 3,
   "id": "98b8c51d",
   "metadata": {},
   "outputs": [
    {
     "data": {
      "text/plain": [
       "'3.11.3'"
      ]
     },
     "execution_count": 3,
     "metadata": {},
     "output_type": "execute_result"
    }
   ],
   "source": [
    "import platform\n",
    "\n",
    "platform.python_version()"
   ]
  },
  {
   "cell_type": "code",
   "execution_count": null,
   "id": "de3f5bd4",
   "metadata": {},
   "outputs": [],
   "source": []
  },
  {
   "cell_type": "code",
   "execution_count": 2,
   "id": "c1be524d",
   "metadata": {},
   "outputs": [],
   "source": [
    "import concurrent.futures\n",
    "import time"
   ]
  },
  {
   "cell_type": "code",
   "execution_count": null,
   "id": "fc9f7989",
   "metadata": {},
   "outputs": [],
   "source": []
  },
  {
   "cell_type": "markdown",
   "id": "b3ce14d1",
   "metadata": {},
   "source": [
    "## 1. 스레드 처리 "
   ]
  },
  {
   "cell_type": "markdown",
   "id": "82e8e6ce",
   "metadata": {},
   "source": [
    "### 함수를 정의한다"
   ]
  },
  {
   "cell_type": "code",
   "execution_count": 4,
   "id": "f17fc70f",
   "metadata": {},
   "outputs": [],
   "source": [
    "def square(number):\n",
    "    result = number * number\n",
    "    time.sleep(1)  # 예제를 위해 1초 동안 대기\n",
    "    print(f\"Square of {number}: {result}\")"
   ]
  },
  {
   "cell_type": "markdown",
   "id": "9158ba02",
   "metadata": {},
   "source": [
    "### 스레드를 실행한다"
   ]
  },
  {
   "cell_type": "code",
   "execution_count": 5,
   "id": "ca5b2e87",
   "metadata": {},
   "outputs": [
    {
     "name": "stdout",
     "output_type": "stream",
     "text": [
      "Square of 2: 4Square of 3: 9\n",
      "Square of 4: 16\n",
      "\n",
      "Square of 1: 1\n",
      "Square of 5: 25\n"
     ]
    }
   ],
   "source": [
    "\n",
    "if __name__ == \"__main__\":\n",
    "    numbers = [1, 2, 3, 4, 5]\n",
    "\n",
    "    # ThreadPoolExecutor를 사용한 예제\n",
    "    with concurrent.futures.ThreadPoolExecutor() as executor:\n",
    "        executor.map(square, numbers)\n",
    "\n"
   ]
  },
  {
   "cell_type": "code",
   "execution_count": null,
   "id": "b69663ec",
   "metadata": {},
   "outputs": [],
   "source": []
  },
  {
   "cell_type": "markdown",
   "id": "6ec5011f",
   "metadata": {},
   "source": [
    "## 2. 프로세스 처리 "
   ]
  },
  {
   "cell_type": "markdown",
   "id": "087cbf6e",
   "metadata": {},
   "source": [
    "### 별도의 모듈을 만든다"
   ]
  },
  {
   "cell_type": "code",
   "execution_count": 6,
   "id": "1930e964",
   "metadata": {},
   "outputs": [
    {
     "name": "stdout",
     "output_type": "stream",
     "text": [
      "Writing square_test.py\n"
     ]
    }
   ],
   "source": [
    "%%writefile square_test.py\n",
    "import concurrent.futures\n",
    "import time\n",
    "\n",
    "def square(number):\n",
    "    result = number * number\n",
    "    time.sleep(1)  # 예제를 위해 1초 동안 대기\n",
    "    print(f\"Square of {number}: {result}\")"
   ]
  },
  {
   "cell_type": "markdown",
   "id": "357025fb",
   "metadata": {},
   "source": [
    "### 프로세스를 처리한다"
   ]
  },
  {
   "cell_type": "code",
   "execution_count": 8,
   "id": "44390fde",
   "metadata": {},
   "outputs": [
    {
     "name": "stdout",
     "output_type": "stream",
     "text": [
      "Square of 1: 1\n",
      "Square of 2: 4\n",
      "Square of 5: 25\n",
      "Square of 3: 9\n",
      "Square of 4: 16\n"
     ]
    }
   ],
   "source": [
    "import square_test\n",
    "\n",
    "if __name__ == \"__main__\":\n",
    "    numbers = [1, 2, 3, 4, 5]\n",
    "# ProcessPoolExecutor를 사용한 예제\n",
    "    with concurrent.futures.ProcessPoolExecutor() as executor:\n",
    "        executor.map(square_test.square, numbers)"
   ]
  },
  {
   "cell_type": "code",
   "execution_count": null,
   "id": "60e53bef",
   "metadata": {},
   "outputs": [],
   "source": []
  }
 ],
 "metadata": {
  "kernelspec": {
   "display_name": "Python 3 (ipykernel)",
   "language": "python",
   "name": "python3"
  },
  "language_info": {
   "codemirror_mode": {
    "name": "ipython",
    "version": 3
   },
   "file_extension": ".py",
   "mimetype": "text/x-python",
   "name": "python",
   "nbconvert_exporter": "python",
   "pygments_lexer": "ipython3",
   "version": "3.11.3"
  }
 },
 "nbformat": 4,
 "nbformat_minor": 5
}
