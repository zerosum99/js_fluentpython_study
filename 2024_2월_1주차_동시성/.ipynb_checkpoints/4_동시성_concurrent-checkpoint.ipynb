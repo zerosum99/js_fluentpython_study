{
 "cells": [
  {
   "cell_type": "code",
   "execution_count": 3,
   "id": "13390d64",
   "metadata": {},
   "outputs": [
    {
     "data": {
      "text/plain": [
       "'3.11.3'"
      ]
     },
     "execution_count": 3,
     "metadata": {},
     "output_type": "execute_result"
    }
   ],
   "source": [
    "import platform\n",
    "\n",
    "platform.python_version()"
   ]
  },
  {
   "cell_type": "code",
   "execution_count": null,
   "id": "f8b28f96",
   "metadata": {},
   "outputs": [],
   "source": []
  },
  {
   "cell_type": "code",
   "execution_count": 2,
   "id": "4b36b13a",
   "metadata": {},
   "outputs": [],
   "source": [
    "import concurrent.futures\n",
    "import time"
   ]
  },
  {
   "cell_type": "code",
   "execution_count": null,
   "id": "83f5aabb",
   "metadata": {},
   "outputs": [],
   "source": []
  },
  {
   "cell_type": "markdown",
   "id": "5092ab61",
   "metadata": {},
   "source": [
    "\n",
    "##  concurrent.futures 모듈은 \n",
    "\n",
    "- 병렬 처리를 위한 고수준 인터페이스를 제공하는 모듈로, 스레드나 프로세스를 사용하여 비동기적으로 함수를 실행할 수 있습니다. \n",
    "\n",
    "\n",
    "### 이 모듈의 주요 특징은 다음과 같습니다:\n",
    "\n",
    "- ThreadPoolExecutor 및 ProcessPoolExecutor 제공: \n",
    "> concurrent.futures 모듈은 ThreadPoolExecutor와 ProcessPoolExecutor 클래스를 제공합니다. \n",
    "> 이를 사용하여 각각 스레드 및 프로세스를 활용한 병렬 처리를 쉽게 구현할 수 있습니다.\n",
    "\n",
    "- Future 객체 지원: \n",
    ">  concurrent.futures.Future 클래스는 비동기적인 작업의 결과를 나타내는데 사용됩니다. \n",
    "> submit() 또는 map() 함수를 호출하면 Future 객체를 반환하며, 이를 통해 비동기 작업의 상태를 추적하고 결과를 가져올 수 있습니다.\n",
    "\n",
    "- Executor의 일괄 처리 함수: \n",
    "> concurrent.futures 모듈은 map(), submit(), as_completed() 등 다양한 함수를 제공하여 병렬로 실행할 함수들을 일괄 처리하고 결과를 쉽게 가져올 수 있도록 도와줍니다.\n",
    "\n",
    "- 취소 및 예외 처리: \n",
    "> Future 객체를 사용하여 실행 중인 작업을 취소하거나 예외를 처리할 수 있습니다. \n",
    "> cancel() 및 exception() 메서드를 통해 관련 기능을 수행할 수 있습니다.\n",
    "\n",
    "- with 문 사용: \n",
    "> with 문을 사용하여 ThreadPoolExecutor 및 ProcessPoolExecutor를 간편하게 관리할 수 있습니다. \n",
    "> 이는 사용이 끝나면 자동으로 리소스를 정리하도록 도와줍니다.\n",
    "\n",
    "- 동시성 코드 작성의 단순화: \n",
    "> concurrent.futures를 사용하면 병렬 처리를 위한 코드를 비교적 간단하게 작성할 수 있습니다.\n",
    "> 동시성 작업을 수행하려는 경우에 코드를 더욱 간결하게 만들어줍니다.\n",
    "\n",
    "- 주의: \n",
    "> ThreadPoolExecutor는 I/O 바운드 작업에 적합하며, ProcessPoolExecutor는 CPU 바운드 작업에 적합합니다. \n",
    "> 선택하는 것은 작업의 성격에 따라 다릅니다."
   ]
  },
  {
   "cell_type": "code",
   "execution_count": null,
   "id": "99d7d415",
   "metadata": {},
   "outputs": [],
   "source": []
  },
  {
   "cell_type": "markdown",
   "id": "aaa50307",
   "metadata": {},
   "source": [
    "## 1. 스레드 처리 "
   ]
  },
  {
   "cell_type": "markdown",
   "id": "3ff2d0a3",
   "metadata": {},
   "source": [
    "### 함수를 정의한다"
   ]
  },
  {
   "cell_type": "code",
   "execution_count": 4,
   "id": "8b2e6160",
   "metadata": {},
   "outputs": [],
   "source": [
    "def square(number):\n",
    "    result = number * number\n",
    "    time.sleep(1)  # 예제를 위해 1초 동안 대기\n",
    "    print(f\"Square of {number}: {result}\")"
   ]
  },
  {
   "cell_type": "markdown",
   "id": "52e1033e",
   "metadata": {},
   "source": [
    "### 스레드를 실행한다"
   ]
  },
  {
   "cell_type": "code",
   "execution_count": 5,
   "id": "d49f2756",
   "metadata": {},
   "outputs": [
    {
     "name": "stdout",
     "output_type": "stream",
     "text": [
      "Square of 2: 4Square of 3: 9\n",
      "Square of 4: 16\n",
      "\n",
      "Square of 1: 1\n",
      "Square of 5: 25\n"
     ]
    }
   ],
   "source": [
    "\n",
    "if __name__ == \"__main__\":\n",
    "    numbers = [1, 2, 3, 4, 5]\n",
    "\n",
    "    # ThreadPoolExecutor를 사용한 예제\n",
    "    with concurrent.futures.ThreadPoolExecutor() as executor:\n",
    "        executor.map(square, numbers)\n",
    "\n"
   ]
  },
  {
   "cell_type": "code",
   "execution_count": null,
   "id": "67bc1649",
   "metadata": {},
   "outputs": [],
   "source": []
  },
  {
   "cell_type": "markdown",
   "id": "abb398e1",
   "metadata": {},
   "source": [
    "## 2. 프로세스 처리 "
   ]
  },
  {
   "cell_type": "markdown",
   "id": "28ccc7ed",
   "metadata": {},
   "source": [
    "### 별도의 모듈을 만든다"
   ]
  },
  {
   "cell_type": "code",
   "execution_count": 6,
   "id": "05708593",
   "metadata": {},
   "outputs": [
    {
     "name": "stdout",
     "output_type": "stream",
     "text": [
      "Writing square_test.py\n"
     ]
    }
   ],
   "source": [
    "%%writefile square_test.py\n",
    "import concurrent.futures\n",
    "import time\n",
    "\n",
    "def square(number):\n",
    "    result = number * number\n",
    "    time.sleep(1)  # 예제를 위해 1초 동안 대기\n",
    "    print(f\"Square of {number}: {result}\")"
   ]
  },
  {
   "cell_type": "markdown",
   "id": "03485785",
   "metadata": {},
   "source": [
    "### 프로세스를 처리한다"
   ]
  },
  {
   "cell_type": "code",
   "execution_count": 8,
   "id": "be9ec7e9",
   "metadata": {},
   "outputs": [
    {
     "name": "stdout",
     "output_type": "stream",
     "text": [
      "Square of 1: 1\n",
      "Square of 2: 4\n",
      "Square of 5: 25\n",
      "Square of 3: 9\n",
      "Square of 4: 16\n"
     ]
    }
   ],
   "source": [
    "import square_test\n",
    "\n",
    "if __name__ == \"__main__\":\n",
    "    numbers = [1, 2, 3, 4, 5]\n",
    "# ProcessPoolExecutor를 사용한 예제\n",
    "    with concurrent.futures.ProcessPoolExecutor() as executor:\n",
    "        executor.map(square_test.square, numbers)"
   ]
  },
  {
   "cell_type": "code",
   "execution_count": null,
   "id": "345bd3a5",
   "metadata": {},
   "outputs": [],
   "source": []
  }
 ],
 "metadata": {
  "kernelspec": {
   "display_name": "Python 3 (ipykernel)",
   "language": "python",
   "name": "python3"
  },
  "language_info": {
   "codemirror_mode": {
    "name": "ipython",
    "version": 3
   },
   "file_extension": ".py",
   "mimetype": "text/x-python",
   "name": "python",
   "nbconvert_exporter": "python",
   "pygments_lexer": "ipython3",
   "version": "3.11.3"
  }
 },
 "nbformat": 4,
 "nbformat_minor": 5
}
