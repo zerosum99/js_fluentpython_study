{
 "cells": [
  {
   "cell_type": "code",
   "execution_count": 2,
   "id": "3ce858e7",
   "metadata": {},
   "outputs": [
    {
     "data": {
      "text/plain": [
       "'3.11.3'"
      ]
     },
     "execution_count": 2,
     "metadata": {},
     "output_type": "execute_result"
    }
   ],
   "source": [
    "import platform\n",
    "\n",
    "platform.python_version()"
   ]
  },
  {
   "cell_type": "code",
   "execution_count": null,
   "id": "827e25b3",
   "metadata": {},
   "outputs": [],
   "source": [
    "## 1. 스레드 처리하기 "
   ]
  },
  {
   "cell_type": "code",
   "execution_count": 5,
   "id": "d3b24c55",
   "metadata": {},
   "outputs": [],
   "source": [
    "import threading\n",
    "import time"
   ]
  },
  {
   "cell_type": "code",
   "execution_count": null,
   "id": "262ead28",
   "metadata": {},
   "outputs": [],
   "source": []
  },
  {
   "cell_type": "code",
   "execution_count": 8,
   "id": "526f2fc4",
   "metadata": {},
   "outputs": [
    {
     "name": "stdout",
     "output_type": "stream",
     "text": [
      "Barrier, BoundedSemaphore, BrokenBarrierError, Condition, Event, ExceptHookArgs, Lock, RLock, Semaphore, TIMEOUT_MAX, Thread, ThreadError, Timer, WeakSet, activeCount, active_count, currentThread, current_thread, enumerate, excepthook, functools, get_ident, get_native_id, getprofile, gettrace, local, main_thread, setprofile, settrace, stack_size, "
     ]
    }
   ],
   "source": [
    "for i in dir(threading) :\n",
    "    if not i.startswith(\"_\") : \n",
    "        print(i, end=\", \")"
   ]
  },
  {
   "cell_type": "code",
   "execution_count": null,
   "id": "d1cf23be",
   "metadata": {},
   "outputs": [],
   "source": []
  },
  {
   "cell_type": "code",
   "execution_count": null,
   "id": "1c21143b",
   "metadata": {},
   "outputs": [],
   "source": []
  },
  {
   "cell_type": "code",
   "execution_count": 14,
   "id": "fe65f5d4",
   "metadata": {},
   "outputs": [],
   "source": [
    "def task1():\n",
    "    for _ in range(5):\n",
    "        print(\"Task 1 is running  \",threading.current_thread())\n",
    "        time.sleep(1)\n",
    "\n",
    "def task2():\n",
    "    for _ in range(5):\n",
    "        print(\"Task 2 is running  \",threading.current_thread())\n",
    "        time.sleep(1)"
   ]
  },
  {
   "cell_type": "code",
   "execution_count": null,
   "id": "5c231344",
   "metadata": {},
   "outputs": [],
   "source": []
  },
  {
   "cell_type": "code",
   "execution_count": 16,
   "id": "19b14cda",
   "metadata": {},
   "outputs": [
    {
     "name": "stdout",
     "output_type": "stream",
     "text": [
      "main thread :  <_MainThread(MainThread, started 7978636032)>\n",
      "Task 1 is running   <Thread(Thread-17 (task1), started 6409170944)>\n",
      "Task 2 is running   <Thread(Thread-18 (task2), started 6425997312)>\n",
      "active count :  10\n",
      "Task 1 is running  Task 2 is running   <Thread(Thread-18 (task2), started 6425997312)>\n",
      " <Thread(Thread-17 (task1), started 6409170944)>\n",
      "Task 2 is running  Task 1 is running   <Thread(Thread-17 (task1), started 6409170944)>\n",
      " <Thread(Thread-18 (task2), started 6425997312)>\n",
      "Task 1 is running  Task 2 is running   <Thread(Thread-18 (task2), started 6425997312)>\n",
      " <Thread(Thread-17 (task1), started 6409170944)>\n",
      "Task 2 is running  Task 1 is running   <Thread(Thread-17 (task1), started 6409170944)>\n",
      " <Thread(Thread-18 (task2), started 6425997312)>\n",
      "Both tasks are completed\n"
     ]
    }
   ],
   "source": [
    "if __name__ == \"__main__\":\n",
    "    # 두 개의 스레드 생성\n",
    "    thread1 = threading.Thread(target=task1)\n",
    "    thread2 = threading.Thread(target=task2)\n",
    "    \n",
    "    print(\"main thread : \", threading.main_thread())\n",
    "    # 각각의 스레드 시작\n",
    "    thread1.start()\n",
    "    thread2.start()\n",
    "    print(\"active count : \", threading.active_count())\n",
    "    # 각각의 스레드가 완료될 때까지 대기\n",
    "    thread1.join()\n",
    "    thread2.join()\n",
    "\n",
    "    print(\"Both tasks are completed\")\n"
   ]
  },
  {
   "cell_type": "code",
   "execution_count": null,
   "id": "7d785e8e",
   "metadata": {},
   "outputs": [],
   "source": []
  }
 ],
 "metadata": {
  "kernelspec": {
   "display_name": "Python 3 (ipykernel)",
   "language": "python",
   "name": "python3"
  },
  "language_info": {
   "codemirror_mode": {
    "name": "ipython",
    "version": 3
   },
   "file_extension": ".py",
   "mimetype": "text/x-python",
   "name": "python",
   "nbconvert_exporter": "python",
   "pygments_lexer": "ipython3",
   "version": "3.11.3"
  }
 },
 "nbformat": 4,
 "nbformat_minor": 5
}
