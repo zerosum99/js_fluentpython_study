{
 "cells": [
  {
   "cell_type": "markdown",
   "id": "5520a8b3",
   "metadata": {},
   "source": [
    "## 파이썬 버전"
   ]
  },
  {
   "cell_type": "code",
   "execution_count": 42,
   "id": "f75ffe67",
   "metadata": {},
   "outputs": [
    {
     "data": {
      "text/plain": [
       "'3.11.3'"
      ]
     },
     "execution_count": 42,
     "metadata": {},
     "output_type": "execute_result"
    }
   ],
   "source": [
    "import platform\n",
    "platform.python_version()"
   ]
  },
  {
   "cell_type": "code",
   "execution_count": null,
   "id": "f571a4af",
   "metadata": {},
   "outputs": [],
   "source": []
  },
  {
   "cell_type": "markdown",
   "id": "6a076fff",
   "metadata": {},
   "source": [
    "## 1. 이넘타입 과 네임드 튜플 비교 "
   ]
  },
  {
   "cell_type": "markdown",
   "id": "13a8e277",
   "metadata": {},
   "source": [
    "## 1-1 이넘 클래스 정의 "
   ]
  },
  {
   "cell_type": "code",
   "execution_count": 14,
   "id": "88af98a2",
   "metadata": {},
   "outputs": [],
   "source": [
    "from enum import Enum\n",
    "\n",
    "class Color(Enum):\n",
    "    RED = 1\n",
    "    GREEN = 2\n",
    "    BLUE = 3\n"
   ]
  },
  {
   "cell_type": "code",
   "execution_count": 15,
   "id": "4121c9f2",
   "metadata": {},
   "outputs": [
    {
     "data": {
      "text/plain": [
       "<Color.RED: 1>"
      ]
     },
     "execution_count": 15,
     "metadata": {},
     "output_type": "execute_result"
    }
   ],
   "source": [
    "Color.RED"
   ]
  },
  {
   "cell_type": "code",
   "execution_count": 16,
   "id": "b5713b58",
   "metadata": {},
   "outputs": [
    {
     "data": {
      "text/plain": [
       "['BLUE',\n",
       " 'GREEN',\n",
       " 'RED',\n",
       " '__class__',\n",
       " '__doc__',\n",
       " '__eq__',\n",
       " '__hash__',\n",
       " '__module__',\n",
       " 'name',\n",
       " 'value']"
      ]
     },
     "execution_count": 16,
     "metadata": {},
     "output_type": "execute_result"
    }
   ],
   "source": [
    "dir(Color.RED)"
   ]
  },
  {
   "cell_type": "code",
   "execution_count": 17,
   "id": "0f9edb05",
   "metadata": {},
   "outputs": [
    {
     "data": {
      "text/plain": [
       "('RED', 1)"
      ]
     },
     "execution_count": 17,
     "metadata": {},
     "output_type": "execute_result"
    }
   ],
   "source": [
    "Color.RED.name, Color.RED.value"
   ]
  },
  {
   "cell_type": "markdown",
   "id": "38884ddf",
   "metadata": {},
   "source": [
    "## 네임드튜플에서 열거형 처리 "
   ]
  },
  {
   "cell_type": "code",
   "execution_count": 19,
   "id": "1910cb47",
   "metadata": {},
   "outputs": [],
   "source": [
    "from collections import namedtuple\n",
    "\n",
    "Color1 = namedtuple('Color1', ['RED', 'GREEN', 'BLUE'])\n",
    "color1 = Color1(0, 1, 2)\n"
   ]
  },
  {
   "cell_type": "code",
   "execution_count": 20,
   "id": "39a6887f",
   "metadata": {},
   "outputs": [
    {
     "data": {
      "text/plain": [
       "0"
      ]
     },
     "execution_count": 20,
     "metadata": {},
     "output_type": "execute_result"
    }
   ],
   "source": [
    "color1.RED"
   ]
  },
  {
   "cell_type": "code",
   "execution_count": 22,
   "id": "a2e4b4b1",
   "metadata": {},
   "outputs": [
    {
     "name": "stdout",
     "output_type": "stream",
     "text": [
      "__abs__, __add__, __and__, __bool__, __ceil__, __class__, __delattr__, __dir__, __divmod__, __doc__, __eq__, __float__, __floor__, __floordiv__, __format__, __ge__, __getattribute__, __getnewargs__, __getstate__, __gt__, __hash__, __index__, __init__, __init_subclass__, __int__, __invert__, __le__, __lshift__, __lt__, __mod__, __mul__, __ne__, __neg__, __new__, __or__, __pos__, __pow__, __radd__, __rand__, __rdivmod__, __reduce__, __reduce_ex__, __repr__, __rfloordiv__, __rlshift__, __rmod__, __rmul__, __ror__, __round__, __rpow__, __rrshift__, __rshift__, __rsub__, __rtruediv__, __rxor__, __setattr__, __sizeof__, __str__, __sub__, __subclasshook__, __truediv__, __trunc__, __xor__, as_integer_ratio, bit_count, bit_length, conjugate, denominator, from_bytes, imag, numerator, real, to_bytes, "
     ]
    }
   ],
   "source": [
    "for i in dir(color1.RED) :\n",
    "    print(i, end=\", \")"
   ]
  },
  {
   "cell_type": "markdown",
   "id": "e3f1fdd6",
   "metadata": {},
   "source": [
    "## 이넘의 활용 "
   ]
  },
  {
   "cell_type": "code",
   "execution_count": 13,
   "id": "20167a89",
   "metadata": {},
   "outputs": [
    {
     "name": "stdout",
     "output_type": "stream",
     "text": [
      "Direction.UP\n",
      "Direction.LEFT\n"
     ]
    }
   ],
   "source": [
    "from enum import Enum\n",
    "\n",
    "class Direction(Enum):\n",
    "    UP = 'up'\n",
    "    DOWN = 'down'\n",
    "    LEFT = 'left'\n",
    "    RIGHT = 'right'\n",
    "\n",
    "def move(direction: Direction):\n",
    "    # direction에 따라 이동 로직을 수행합니다.\n",
    "    print(direction)\n",
    "\n",
    "# 사용 예시\n",
    "move(Direction.UP)\n",
    "move(Direction.LEFT)\n"
   ]
  },
  {
   "cell_type": "markdown",
   "id": "beefe9ed",
   "metadata": {},
   "source": [
    "## 이넘과 패턴매칭"
   ]
  },
  {
   "cell_type": "code",
   "execution_count": 23,
   "id": "c1e59030",
   "metadata": {},
   "outputs": [
    {
     "name": "stdout",
     "output_type": "stream",
     "text": [
      "Stop\n",
      "Go\n"
     ]
    }
   ],
   "source": [
    "from enum import Enum\n",
    "\n",
    "# 열거형 정의\n",
    "class TrafficLight(Enum):\n",
    "    RED = 1\n",
    "    YELLOW = 2\n",
    "    GREEN = 3\n",
    "\n",
    "# 패턴 매칭을 통한 처리\n",
    "def handle_traffic_light(color):\n",
    "    if color == TrafficLight.RED:\n",
    "        print(\"Stop\")\n",
    "    elif color == TrafficLight.YELLOW:\n",
    "        print(\"Prepare to stop\")\n",
    "    elif color == TrafficLight.GREEN:\n",
    "        print(\"Go\")\n",
    "    else:\n",
    "        print(\"Invalid traffic light color\")\n",
    "\n",
    "# 예시: 패턴 매칭을 사용하여 교통 신호 처리\n",
    "handle_traffic_light(TrafficLight.RED)\n",
    "handle_traffic_light(TrafficLight.GREEN)\n"
   ]
  },
  {
   "cell_type": "code",
   "execution_count": 24,
   "id": "a9cd4a3d",
   "metadata": {},
   "outputs": [
    {
     "name": "stdout",
     "output_type": "stream",
     "text": [
      "Stop\n",
      "Go\n"
     ]
    }
   ],
   "source": [
    "from enum import Enum\n",
    "\n",
    "# 열거형 정의\n",
    "class TrafficLight(Enum):\n",
    "    RED = 1\n",
    "    YELLOW = 2\n",
    "    GREEN = 3\n",
    "\n",
    "# match 구문을 사용하여 열거형 처리\n",
    "def handle_traffic_light(color):\n",
    "    # match 구문을 통한 열거형 처리\n",
    "    match color:\n",
    "        case TrafficLight.RED:\n",
    "            print(\"Stop\")\n",
    "        case TrafficLight.YELLOW:\n",
    "            print(\"Prepare to stop\")\n",
    "        case TrafficLight.GREEN:\n",
    "            print(\"Go\")\n",
    "        case _:\n",
    "            print(\"Invalid traffic light color\")\n",
    "\n",
    "# 예시: 열거형 값을 매개변수로 전달하여 처리\n",
    "handle_traffic_light(TrafficLight.RED)\n",
    "handle_traffic_light(TrafficLight.GREEN)\n"
   ]
  },
  {
   "cell_type": "markdown",
   "id": "a70be44c",
   "metadata": {},
   "source": [
    "## 타입 강제하기 "
   ]
  },
  {
   "cell_type": "code",
   "execution_count": 25,
   "id": "ed87dcfe",
   "metadata": {},
   "outputs": [],
   "source": [
    "from enum import Enum\n",
    "\n",
    "class DataType(Enum):\n",
    "    INT = (1, int)\n",
    "    FLOAT = (2, float)\n",
    "    STRING = (3, str)\n",
    "    LIST = (4, list)\n"
   ]
  },
  {
   "cell_type": "code",
   "execution_count": 27,
   "id": "e93023ea",
   "metadata": {},
   "outputs": [
    {
     "data": {
      "text/plain": [
       "['FLOAT',\n",
       " 'INT',\n",
       " 'LIST',\n",
       " 'STRING',\n",
       " '__class__',\n",
       " '__doc__',\n",
       " '__eq__',\n",
       " '__hash__',\n",
       " '__module__',\n",
       " 'name',\n",
       " 'value']"
      ]
     },
     "execution_count": 27,
     "metadata": {},
     "output_type": "execute_result"
    }
   ],
   "source": [
    "dir(DataType.INT)"
   ]
  },
  {
   "cell_type": "code",
   "execution_count": 34,
   "id": "55b1315e",
   "metadata": {},
   "outputs": [
    {
     "data": {
      "text/plain": [
       "1"
      ]
     },
     "execution_count": 34,
     "metadata": {},
     "output_type": "execute_result"
    }
   ],
   "source": [
    "DataType.INT.value[0]"
   ]
  },
  {
   "cell_type": "code",
   "execution_count": 28,
   "id": "6a055bec",
   "metadata": {},
   "outputs": [],
   "source": [
    "data_type = (1, int)"
   ]
  },
  {
   "cell_type": "code",
   "execution_count": 31,
   "id": "437e2651",
   "metadata": {},
   "outputs": [
    {
     "data": {
      "text/plain": [
       "(1, int)"
      ]
     },
     "execution_count": 31,
     "metadata": {},
     "output_type": "execute_result"
    }
   ],
   "source": []
  },
  {
   "cell_type": "code",
   "execution_count": 35,
   "id": "3559d437",
   "metadata": {},
   "outputs": [
    {
     "name": "stdout",
     "output_type": "stream",
     "text": [
      "Stop\n"
     ]
    }
   ],
   "source": [
    "match DataType.INT.value[0] :\n",
    "    case 1:\n",
    "        print(\"Stop\")\n",
    "    case 2:\n",
    "        print(\"Prepare to stop\")\n",
    "    case _:\n",
    "        print(\"Invalid traffic light color\")"
   ]
  },
  {
   "cell_type": "code",
   "execution_count": 40,
   "id": "04cd29c7",
   "metadata": {},
   "outputs": [],
   "source": [
    "def process_data(data_type):\n",
    "    if data_type == DataType.INT:\n",
    "        print(\"int\")\n",
    "    elif data_type == DataType.FLOAT:\n",
    "        print(\"float\")\n",
    "    elif data_type == DataType.STRING:\n",
    "        print(\"string\")\n",
    "    elif data_type == DataType.LIST:\n",
    "        print(\"list\")\n",
    "    else :\n",
    "        print(\"error\")\n"
   ]
  },
  {
   "cell_type": "code",
   "execution_count": 41,
   "id": "f32d715e",
   "metadata": {},
   "outputs": [
    {
     "name": "stdout",
     "output_type": "stream",
     "text": [
      "int\n"
     ]
    }
   ],
   "source": [
    "process_data(DataType.INT)"
   ]
  },
  {
   "cell_type": "markdown",
   "id": "a8735b25",
   "metadata": {},
   "source": [
    "## 대수적 곱타입 처리\n",
    "\n",
    "- 파이썬의 기본 enum 모듈은 곱 타입을 직접적으로 제공하지는 않습니다. \n",
    "- 대신, 여러 값을 하나의 단위로 그룹화할 수 있는 튜플을 사용하여 곱 타입을 나타낼 수 있습니다."
   ]
  },
  {
   "cell_type": "code",
   "execution_count": 43,
   "id": "29bb3b65",
   "metadata": {},
   "outputs": [
    {
     "name": "stdout",
     "output_type": "stream",
     "text": [
      "Processing paperback in the book category.\n",
      "Processing gadget in the electronics category.\n"
     ]
    }
   ],
   "source": [
    "from enum import Enum\n",
    "\n",
    "class ProductType(Enum):\n",
    "    BOOK = (\"book\", \"paperback\")\n",
    "    ELECTRONIC = (\"electronics\", \"gadget\")\n",
    "    CLOTHING = (\"clothing\", \"t-shirt\")\n",
    "\n",
    "# 곱 타입을 사용하는 함수 예제\n",
    "def process_product(product_type: ProductType):\n",
    "    category, subcategory = product_type.value\n",
    "    print(f\"Processing {subcategory} in the {category} category.\")\n",
    "\n",
    "# 함수 호출\n",
    "process_product(ProductType.BOOK)        # 출력: Processing paperback in the book category.\n",
    "process_product(ProductType.ELECTRONIC)   # 출력: Processing gadget in the electronics category.\n"
   ]
  },
  {
   "cell_type": "markdown",
   "id": "d93a966d",
   "metadata": {},
   "source": [
    "## 대수적 합타입 처리\n",
    "\n",
    "- 파이썬에서 대수적 합타입(Union Type)을 클래스로 처리할 수 있습니다. 대수적 합타입은 서로 다른 유형 중 하나일 수 있는 값을 나타냅니다. 이를 클래스로 구현할 때는 각 유형을 서브 클래스로 정의하고, 이를 하나의 상위 클래스에 포함시킵니다."
   ]
  },
  {
   "cell_type": "code",
   "execution_count": 44,
   "id": "72f527f7",
   "metadata": {},
   "outputs": [
    {
     "name": "stdout",
     "output_type": "stream",
     "text": [
      "78.5\n",
      "16\n"
     ]
    }
   ],
   "source": [
    "class Shape:\n",
    "    pass\n",
    "\n",
    "class Circle(Shape):\n",
    "    def __init__(self, radius):\n",
    "        self.radius = radius\n",
    "\n",
    "class Square(Shape):\n",
    "    def __init__(self, side_length):\n",
    "        self.side_length = side_length\n",
    "\n",
    "def area(shape):\n",
    "    if isinstance(shape, Circle):\n",
    "        return 3.14 * shape.radius ** 2\n",
    "    elif isinstance(shape, Square):\n",
    "        return shape.side_length ** 2\n",
    "    else:\n",
    "        raise ValueError(\"Unsupported shape type\")\n",
    "\n",
    "# 객체 생성 및 함수 호출\n",
    "circle = Circle(5)\n",
    "print(area(circle))  # 원의 면적 출력\n",
    "\n",
    "square = Square(4)\n",
    "print(area(square))  # 정사각형의 면적 출력\n"
   ]
  },
  {
   "cell_type": "code",
   "execution_count": null,
   "id": "2a9c7bca",
   "metadata": {},
   "outputs": [],
   "source": []
  }
 ],
 "metadata": {
  "kernelspec": {
   "display_name": "Python 3 (ipykernel)",
   "language": "python",
   "name": "python3"
  },
  "language_info": {
   "codemirror_mode": {
    "name": "ipython",
    "version": 3
   },
   "file_extension": ".py",
   "mimetype": "text/x-python",
   "name": "python",
   "nbconvert_exporter": "python",
   "pygments_lexer": "ipython3",
   "version": "3.11.3"
  }
 },
 "nbformat": 4,
 "nbformat_minor": 5
}
