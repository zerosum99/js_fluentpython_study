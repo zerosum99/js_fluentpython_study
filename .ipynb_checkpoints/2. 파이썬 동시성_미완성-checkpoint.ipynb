{
 "cells": [
  {
   "cell_type": "code",
   "execution_count": null,
   "id": "98e69e95",
   "metadata": {},
   "outputs": [],
   "source": []
  },
  {
   "cell_type": "markdown",
   "id": "768d7de1",
   "metadata": {},
   "source": [
    "## 1. 멀티스레딩 \n",
    "\n",
    "- threading 모듈을 이용하여 스레드를 생성하고 관리할 수 있습니다. \n",
    "- 그러나 파이썬의 Global Interpreter Lock (GIL)이라는 특징 때문에 CPU-bound 작업에서는 스레드가 진정한 병렬 처리를 제공하지 않을 수 있습니다. \n",
    "- 그러나 I/O-bound 작업에서는 스레드가 도움이 될 수 있습니다."
   ]
  },
  {
   "cell_type": "code",
   "execution_count": 1,
   "id": "9418d379",
   "metadata": {},
   "outputs": [
    {
     "name": "stdout",
     "output_type": "stream",
     "text": [
      "0\n",
      "1\n",
      "2\n",
      "3\n",
      "4\n",
      "A\n",
      "B\n",
      "C\n",
      "D\n",
      "E\n"
     ]
    }
   ],
   "source": [
    "import threading\n",
    "\n",
    "def print_numbers():\n",
    "    for i in range(5):\n",
    "        print(i)\n",
    "\n",
    "def print_letters():\n",
    "    for letter in 'ABCDE':\n",
    "        print(letter)\n",
    "\n",
    "thread1 = threading.Thread(target=print_numbers)\n",
    "thread2 = threading.Thread(target=print_letters)\n",
    "\n",
    "thread1.start()\n",
    "thread2.start()\n",
    "\n",
    "thread1.join()\n",
    "thread2.join()\n"
   ]
  },
  {
   "cell_type": "code",
   "execution_count": null,
   "id": "a0515ed9",
   "metadata": {},
   "outputs": [],
   "source": []
  },
  {
   "cell_type": "markdown",
   "id": "125201aa",
   "metadata": {},
   "source": [
    "## 2. 멀티프로세싱(Multiprocessing): \n",
    "\n",
    "- 멀티프로세싱은 별도의 프로세스를 생성하여 동시성을 달성하는 방식입니다. \n",
    "- 각 프로세스는 독립적으로 실행되므로 GIL의 영향을 받지 않습니다. \n",
    "- multiprocessing 모듈을 사용하여 멀티프로세싱을 구현할 수 있습니다."
   ]
  },
  {
   "cell_type": "code",
   "execution_count": 2,
   "id": "70bb25bc",
   "metadata": {},
   "outputs": [
    {
     "name": "stderr",
     "output_type": "stream",
     "text": [
      "Traceback (most recent call last):\n",
      "  File \"<string>\", line 1, in <module>\n",
      "  File \"/Users/a06411/opt/anaconda3/envs/fluentPython/lib/python3.11/multiprocessing/spawn.py\", line 120, in spawn_main\n",
      "Traceback (most recent call last):\n",
      "  File \"<string>\", line 1, in <module>\n",
      "  File \"/Users/a06411/opt/anaconda3/envs/fluentPython/lib/python3.11/multiprocessing/spawn.py\", line 120, in spawn_main\n",
      "    exitcode = _main(fd, parent_sentinel)\n",
      "    exitcode = _main(fd, parent_sentinel)\n",
      "               ^^^^^^^^^^^^^^^^^^^^^^^^^^\n",
      "  File \"/Users/a06411/opt/anaconda3/envs/fluentPython/lib/python3.11/multiprocessing/spawn.py\", line 130, in _main\n",
      "               ^^^^^^^^^^^^^^^^^^^^^^^^^^\n",
      "  File \"/Users/a06411/opt/anaconda3/envs/fluentPython/lib/python3.11/multiprocessing/spawn.py\", line 130, in _main\n",
      "    self = reduction.pickle.load(from_parent)\n",
      "           ^^^^^^^^^^^^^^^^^^^^^^^^^^^^^^^^^^\n",
      "AttributeError: Can't get attribute 'print_letters' on <module '__main__' (built-in)>\n",
      "    self = reduction.pickle.load(from_parent)\n",
      "           ^^^^^^^^^^^^^^^^^^^^^^^^^^^^^^^^^^\n",
      "AttributeError: Can't get attribute 'print_numbers' on <module '__main__' (built-in)>\n"
     ]
    }
   ],
   "source": [
    "from multiprocessing import Process\n",
    "\n",
    "def print_numbers():\n",
    "    for i in range(5):\n",
    "        print(i)\n",
    "\n",
    "def print_letters():\n",
    "    for letter in 'ABCDE':\n",
    "        print(letter)\n",
    "\n",
    "process1 = Process(target=print_numbers)\n",
    "process2 = Process(target=print_letters)\n",
    "\n",
    "process1.start()\n",
    "process2.start()\n",
    "\n",
    "process1.join()\n",
    "process2.join()\n"
   ]
  },
  {
   "cell_type": "code",
   "execution_count": null,
   "id": "001b8548",
   "metadata": {},
   "outputs": [],
   "source": []
  },
  {
   "cell_type": "markdown",
   "id": "e4fb9d3e",
   "metadata": {},
   "source": [
    "## 충돌 해결 \n",
    "\n",
    "- 문제의 원인은 multiprocessing 모듈을 사용할 때, 메인 모듈에 정의된 함수를 실행하는 것이 어렵다는 점입니다. \n",
    "- 이는 함수가 모듈로서 임포트되었을 때, multiprocessing에서 파이썬 인터프리터의 __main__ 모듈로 임포트되기 때문입니다.\n",
    "\n",
    "- 이 문제를 해결하기 위해서는, 실행할 함수들을 별도의 모듈로 분리하고 그 모듈을 multiprocessing 모듈에서 사용하는 것이 일반적인 방법입니다."
   ]
  },
  {
   "cell_type": "code",
   "execution_count": 4,
   "id": "52d3bd55",
   "metadata": {},
   "outputs": [
    {
     "name": "stdout",
     "output_type": "stream",
     "text": [
      "Writing worker.py\n"
     ]
    }
   ],
   "source": [
    "%%writefile worker.py\n",
    "# worker.py\n",
    "\n",
    "def print_numbers():\n",
    "    for i in range(5):\n",
    "        print(i)\n",
    "\n",
    "def print_letters():\n",
    "    for letter in 'ABCDE':\n",
    "        print(letter)"
   ]
  },
  {
   "cell_type": "code",
   "execution_count": null,
   "id": "dfb3e5d9",
   "metadata": {},
   "outputs": [],
   "source": []
  },
  {
   "cell_type": "code",
   "execution_count": 5,
   "id": "6a85166c",
   "metadata": {},
   "outputs": [
    {
     "name": "stdout",
     "output_type": "stream",
     "text": [
      "A\n",
      "B\n",
      "C\n",
      "D\n",
      "E\n",
      "0\n",
      "1\n",
      "2\n",
      "3\n",
      "4\n"
     ]
    }
   ],
   "source": [
    "from multiprocessing import Process\n",
    "from worker import print_numbers, print_letters\n",
    "\n",
    "if __name__ == '__main__':\n",
    "    process1 = Process(target=print_numbers)\n",
    "    process2 = Process(target=print_letters)\n",
    "\n",
    "    process1.start()\n",
    "    process2.start()\n",
    "\n",
    "    process1.join()\n",
    "    process2.join()"
   ]
  },
  {
   "cell_type": "code",
   "execution_count": null,
   "id": "7db90653",
   "metadata": {},
   "outputs": [],
   "source": []
  },
  {
   "cell_type": "code",
   "execution_count": null,
   "id": "cb9101a4",
   "metadata": {},
   "outputs": [],
   "source": []
  },
  {
   "cell_type": "markdown",
   "id": "2c505a7a",
   "metadata": {},
   "source": [
    "## 3. 비동기 프로그래밍(Asynchronous Programming): \n",
    "\n",
    "- asyncio 모듈을 사용하여 비동기적으로 작업을 수행할 수 있습니다. \n",
    "- 비동기 프로그래밍은 I/O-bound 작업에 특히 유용하며, 이벤트 루프를 통해 비동기 코드를 실행합니다."
   ]
  },
  {
   "cell_type": "code",
   "execution_count": 8,
   "id": "0765e896",
   "metadata": {},
   "outputs": [],
   "source": [
    "import platform"
   ]
  },
  {
   "cell_type": "code",
   "execution_count": 9,
   "id": "ba756dc3",
   "metadata": {},
   "outputs": [
    {
     "data": {
      "text/plain": [
       "'3.11.3'"
      ]
     },
     "execution_count": 9,
     "metadata": {},
     "output_type": "execute_result"
    }
   ],
   "source": [
    "platform.python_version()"
   ]
  },
  {
   "cell_type": "code",
   "execution_count": null,
   "id": "2906b2f0",
   "metadata": {},
   "outputs": [],
   "source": []
  },
  {
   "cell_type": "code",
   "execution_count": 2,
   "id": "8fead961",
   "metadata": {
    "scrolled": true
   },
   "outputs": [
    {
     "name": "stdout",
     "output_type": "stream",
     "text": [
      "Hello ...\n",
      "... World!\n"
     ]
    }
   ],
   "source": [
    "import asyncio\n",
    "\n",
    "async def main():\n",
    "    print('Hello ...')\n",
    "    await asyncio.sleep(1)\n",
    "    print('... World!')\n",
    "\n",
    "await main()"
   ]
  },
  {
   "cell_type": "code",
   "execution_count": null,
   "id": "ca7c18ee",
   "metadata": {},
   "outputs": [],
   "source": []
  },
  {
   "cell_type": "code",
   "execution_count": null,
   "id": "1cdec483",
   "metadata": {},
   "outputs": [],
   "source": []
  },
  {
   "cell_type": "code",
   "execution_count": 4,
   "id": "c7298264",
   "metadata": {},
   "outputs": [
    {
     "name": "stdout",
     "output_type": "stream",
     "text": [
      "0\n",
      "1\n",
      "2\n",
      "3\n",
      "4\n",
      "A\n",
      "B\n",
      "C\n",
      "D\n",
      "E\n"
     ]
    }
   ],
   "source": [
    "import asyncio\n",
    "\n",
    "async def print_numbers():\n",
    "    for i in range(5):\n",
    "        print(i)\n",
    "        await asyncio.sleep(1)\n",
    "\n",
    "async def print_letters():\n",
    "    for letter in 'ABCDE':\n",
    "        print(letter)\n",
    "        await asyncio.sleep(1)\n",
    "        \n",
    "        \n",
    "async def main():\n",
    "\n",
    "    await print_numbers()\n",
    "    await asyncio.sleep(1)\n",
    "    await print_letters()\n",
    "    \n",
    "await main()\n"
   ]
  },
  {
   "cell_type": "code",
   "execution_count": null,
   "id": "8628c60c",
   "metadata": {},
   "outputs": [],
   "source": []
  },
  {
   "cell_type": "markdown",
   "id": "8c188402",
   "metadata": {},
   "source": [
    "## 해결방안"
   ]
  },
  {
   "cell_type": "code",
   "execution_count": 9,
   "id": "badfc83c",
   "metadata": {},
   "outputs": [
    {
     "name": "stdout",
     "output_type": "stream",
     "text": [
      "0\n",
      "A\n",
      "1\n",
      "B\n",
      "2\n",
      "C\n",
      "3\n",
      "D\n",
      "4\n",
      "E\n"
     ]
    }
   ],
   "source": [
    "import asyncio\n",
    "\n",
    "async def print_numbers():\n",
    "    for i in range(5):\n",
    "        print(i)\n",
    "        await asyncio.sleep(1)\n",
    "\n",
    "async def print_letters():\n",
    "    for letter in 'ABCDE':\n",
    "        print(letter)\n",
    "        await asyncio.sleep(1)\n",
    "\n",
    "async def main():\n",
    "    task1 = asyncio.create_task(print_numbers())\n",
    "    task2 = asyncio.create_task(print_letters())\n",
    "\n",
    "    await asyncio.gather(task1, task2)\n",
    "\n",
    "\n",
    "await main()\n"
   ]
  },
  {
   "cell_type": "code",
   "execution_count": null,
   "id": "655e77a4",
   "metadata": {},
   "outputs": [],
   "source": []
  },
  {
   "cell_type": "code",
   "execution_count": null,
   "id": "154a8ef6",
   "metadata": {},
   "outputs": [],
   "source": []
  }
 ],
 "metadata": {
  "kernelspec": {
   "display_name": "Python 3 (ipykernel)",
   "language": "python",
   "name": "python3"
  },
  "language_info": {
   "codemirror_mode": {
    "name": "ipython",
    "version": 3
   },
   "file_extension": ".py",
   "mimetype": "text/x-python",
   "name": "python",
   "nbconvert_exporter": "python",
   "pygments_lexer": "ipython3",
   "version": "3.11.3"
  }
 },
 "nbformat": 4,
 "nbformat_minor": 5
}
