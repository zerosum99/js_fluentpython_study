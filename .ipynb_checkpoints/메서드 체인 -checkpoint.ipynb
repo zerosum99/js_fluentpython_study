{
 "cells": [
  {
   "cell_type": "code",
   "execution_count": 1,
   "id": "ea895f03",
   "metadata": {},
   "outputs": [
    {
     "data": {
      "text/plain": [
       "'3.11.3'"
      ]
     },
     "execution_count": 1,
     "metadata": {},
     "output_type": "execute_result"
    }
   ],
   "source": [
    "import platform\n",
    "platform.python_version()"
   ]
  },
  {
   "cell_type": "markdown",
   "id": "984bdc20",
   "metadata": {},
   "source": [
    "## 함수 체인 "
   ]
  },
  {
   "cell_type": "code",
   "execution_count": 10,
   "id": "e531f4cd",
   "metadata": {},
   "outputs": [
    {
     "name": "stdout",
     "output_type": "stream",
     "text": [
      "Result: 3.0\n"
     ]
    }
   ],
   "source": [
    "def add(x, y):\n",
    "    return x + y\n",
    "\n",
    "def multiply(x, y):\n",
    "    return x * y\n",
    "\n",
    "def subtract(x, y):\n",
    "    return x - y\n",
    "\n",
    "def divide(x, y):\n",
    "    if y != 0:\n",
    "        return x / y\n",
    "    else:\n",
    "        print(\"Error: Cannot divide by zero!\")\n",
    "        return None\n",
    "\n",
    "# 함수 체인을 만들어 연산을 수행하는 예제\n",
    "result = divide(multiply(subtract(add(5, 3), 2), 2), 4)\n",
    "\n",
    "print(\"Result:\", result) \n"
   ]
  },
  {
   "cell_type": "code",
   "execution_count": 12,
   "id": "b36f83d4",
   "metadata": {},
   "outputs": [
    {
     "data": {
      "text/plain": [
       "3.0"
      ]
     },
     "execution_count": 12,
     "metadata": {},
     "output_type": "execute_result"
    }
   ],
   "source": [
    "(((5+3)-2) *2) /4"
   ]
  },
  {
   "cell_type": "code",
   "execution_count": null,
   "id": "631f9f2b",
   "metadata": {},
   "outputs": [],
   "source": []
  },
  {
   "cell_type": "markdown",
   "id": "1608c768",
   "metadata": {},
   "source": [
    "## 합성함수를 만들어서 함수 체인을 실행하기 \n",
    "\n"
   ]
  },
  {
   "cell_type": "code",
   "execution_count": 11,
   "id": "3300ee37",
   "metadata": {},
   "outputs": [
    {
     "name": "stdout",
     "output_type": "stream",
     "text": [
      "Result: 5.0\n"
     ]
    }
   ],
   "source": [
    "def add(x, y):\n",
    "    return x + y\n",
    "\n",
    "def multiply(x, y):\n",
    "    return x * y\n",
    "\n",
    "def subtract(x, y):\n",
    "    return x - y\n",
    "\n",
    "def divide(x, y):\n",
    "    if y != 0:\n",
    "        return x / y\n",
    "    else:\n",
    "        print(\"Error: Cannot divide by zero!\")\n",
    "        return None\n",
    "\n",
    "# 함성 함수를 구현하는 예제\n",
    "def compose(f, g):\n",
    "    return lambda x, y: f(g(x, y), y)\n",
    "\n",
    "# 함수 체인을 만들기 위해 함성 함수를 사용합니다.\n",
    "chain_function = compose(divide, compose(multiply, compose(subtract, add)))\n",
    "\n",
    "# 함수 체인을 실행합니다.\n",
    "result = chain_function(5, 3)\n",
    "\n",
    "print(\"Result:\", result)  \n"
   ]
  },
  {
   "cell_type": "code",
   "execution_count": 13,
   "id": "ed19925c",
   "metadata": {},
   "outputs": [
    {
     "data": {
      "text/plain": [
       "5.0"
      ]
     },
     "execution_count": 13,
     "metadata": {},
     "output_type": "execute_result"
    }
   ],
   "source": [
    "(((5+ 3) - 3) * 3)/3"
   ]
  },
  {
   "cell_type": "markdown",
   "id": "007e4355",
   "metadata": {},
   "source": [
    "## 기존 자료형으로 메서드를 연속적으로 처리\n",
    "\n",
    "- 리스트의 메서드는 None을 반환해서 체인 구성을 논리연산자로 추가해서 처리"
   ]
  },
  {
   "cell_type": "code",
   "execution_count": 2,
   "id": "d438a1b3",
   "metadata": {},
   "outputs": [
    {
     "name": "stdout",
     "output_type": "stream",
     "text": [
      "[1, 3, 4, 5, 6]\n"
     ]
    }
   ],
   "source": [
    "# 리스트 생성\n",
    "my_list = [1, 2, 3, 4, 5]\n",
    "\n",
    "# 메서드 체인을 사용하여 리스트 조작\n",
    "result = (\n",
    "    my_list\n",
    "    .append(6)  # 리스트에 요소 추가\n",
    "    or my_list  # or 연산자를 사용하여 None을 방지하고 리스트 반환\n",
    "    .remove(2)  # 리스트에서 요소 삭제\n",
    "    or my_list  # or 연산자를 사용하여 None을 방지하고 리스트 반환\n",
    "    .sort()     # 리스트 정렬\n",
    "    or my_list  # or 연산자를 사용하여 None을 방지하고 리스트 반환\n",
    ")\n",
    "\n",
    "print(result)  # 결과 출력: [1, 3, 4, 5, 6]\n"
   ]
  },
  {
   "cell_type": "markdown",
   "id": "108a5c88",
   "metadata": {},
   "source": [
    "## 하나의 클래스에서 연속적인 체인 처리"
   ]
  },
  {
   "cell_type": "code",
   "execution_count": 4,
   "id": "057cfe18",
   "metadata": {},
   "outputs": [
    {
     "name": "stdout",
     "output_type": "stream",
     "text": [
      "Result: 6.0\n"
     ]
    }
   ],
   "source": [
    "class Calculator:\n",
    "    def __init__(self, value=0):\n",
    "        self.value = value\n",
    "\n",
    "    def add(self, num):\n",
    "        self.value += num\n",
    "        return self  # self를 반환하여 메서드 체인을 가능하게 함\n",
    "\n",
    "    def subtract(self, num):\n",
    "        self.value -= num\n",
    "        return self  # self를 반환하여 메서드 체인을 가능하게 함\n",
    "\n",
    "    def multiply(self, num):\n",
    "        self.value *= num\n",
    "        return self  # self를 반환하여 메서드 체인을 가능하게 함\n",
    "\n",
    "    def divide(self, num):\n",
    "        if num != 0:\n",
    "            self.value /= num\n",
    "        else:\n",
    "            print(\"Error: Cannot divide by zero!\")\n",
    "        return self  # self를 반환하여 메서드 체인을 가능하게 함\n",
    "\n",
    "    def get_result(self):\n",
    "        return self.value\n",
    "\n",
    "\n",
    "# Calculator 클래스를 사용하여 메서드 체인을 만들어 연산 수행\n",
    "result = Calculator(10)\\\n",
    "    .add(5)\\\n",
    "    .subtract(3)\\\n",
    "    .multiply(2)\\\n",
    "    .divide(4)\\\n",
    "    .get_result()\n",
    "\n",
    "print(\"Result:\", result)   \n"
   ]
  },
  {
   "cell_type": "code",
   "execution_count": 5,
   "id": "4a1fb7b8",
   "metadata": {},
   "outputs": [
    {
     "data": {
      "text/plain": [
       "6.0"
      ]
     },
     "execution_count": 5,
     "metadata": {},
     "output_type": "execute_result"
    }
   ],
   "source": [
    "((10 + 5 - 3) *2)/ 4"
   ]
  },
  {
   "cell_type": "markdown",
   "id": "ffa76840",
   "metadata": {},
   "source": [
    "## 두 개의 클래스를 번갈아가면서 메서드 체인 처리 "
   ]
  },
  {
   "cell_type": "code",
   "execution_count": 8,
   "id": "ac160747",
   "metadata": {},
   "outputs": [
    {
     "name": "stdout",
     "output_type": "stream",
     "text": [
      "Result: 59\n"
     ]
    }
   ],
   "source": [
    "class Adder:\n",
    "    def __init__(self, value=0):\n",
    "        self.value = value\n",
    "\n",
    "    def add(self, num):\n",
    "        self.value += num\n",
    "        _self = Multiplier(self.value)\n",
    "        \n",
    "        return _self\n",
    "\n",
    "\n",
    "class Multiplier:\n",
    "    def __init__(self, value=1):\n",
    "        self.value = value\n",
    "\n",
    "    def multiply(self, num):\n",
    "        self.value *= num\n",
    "        _self = Adder(self.value)\n",
    "        return _self\n",
    "\n",
    "\n",
    "# 두 개의 클래스를 번갈아가며 메서드 체인을 처리하는 예제\n",
    "result = (\n",
    "    Adder(5)\n",
    "    .add(3)\n",
    "    .multiply(2)  # 이 부분이 수정되었습니다.\n",
    "    .add(10)\n",
    "    .multiply(2)  # 이 부분이 수정되었습니다.\n",
    "    .add(7)\n",
    "    .value\n",
    ")\n",
    "\n",
    "print(\"Result:\", result)  \n"
   ]
  },
  {
   "cell_type": "code",
   "execution_count": 9,
   "id": "69fb991f",
   "metadata": {},
   "outputs": [
    {
     "data": {
      "text/plain": [
       "59"
      ]
     },
     "execution_count": 9,
     "metadata": {},
     "output_type": "execute_result"
    }
   ],
   "source": [
    "((5+3)*2 + 10) *2 + 7"
   ]
  },
  {
   "cell_type": "code",
   "execution_count": null,
   "id": "b30c3da4",
   "metadata": {},
   "outputs": [],
   "source": []
  }
 ],
 "metadata": {
  "kernelspec": {
   "display_name": "Python 3 (ipykernel)",
   "language": "python",
   "name": "python3"
  },
  "language_info": {
   "codemirror_mode": {
    "name": "ipython",
    "version": 3
   },
   "file_extension": ".py",
   "mimetype": "text/x-python",
   "name": "python",
   "nbconvert_exporter": "python",
   "pygments_lexer": "ipython3",
   "version": "3.11.3"
  }
 },
 "nbformat": 4,
 "nbformat_minor": 5
}
