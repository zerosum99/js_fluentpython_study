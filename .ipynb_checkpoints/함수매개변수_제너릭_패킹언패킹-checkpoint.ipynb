{
 "cells": [
  {
   "cell_type": "code",
   "execution_count": null,
   "id": "458c320b",
   "metadata": {},
   "outputs": [],
   "source": []
  },
  {
   "cell_type": "code",
   "execution_count": 1,
   "id": "0b3699de",
   "metadata": {},
   "outputs": [],
   "source": [
    "import platform"
   ]
  },
  {
   "cell_type": "code",
   "execution_count": 6,
   "id": "af8f90f2",
   "metadata": {},
   "outputs": [
    {
     "data": {
      "text/plain": [
       "'3.11.3'"
      ]
     },
     "execution_count": 6,
     "metadata": {},
     "output_type": "execute_result"
    }
   ],
   "source": [
    "platform.python_version()"
   ]
  },
  {
   "cell_type": "code",
   "execution_count": null,
   "id": "891a10dc",
   "metadata": {},
   "outputs": [],
   "source": []
  },
  {
   "cell_type": "markdown",
   "id": "114c8a2c",
   "metadata": {},
   "source": [
    "# 1.  함수 매개변수 (Parameter)\n",
    "\n",
    "- 함수를 정의할 때 함수의 인터페이스 부분을 매개변수라고 부른다.\n",
    "- 함수 호출할때 이 매개변수에 맞는 값을 인자라고 부른다.\n",
    "- 함수 매개변수와 인자는 항상 매핑되어야 한다"
   ]
  },
  {
   "cell_type": "code",
   "execution_count": null,
   "id": "f1af77c5",
   "metadata": {},
   "outputs": [],
   "source": []
  },
  {
   "cell_type": "markdown",
   "id": "b645ca9d",
   "metadata": {},
   "source": [
    "## 1-1  고정 위치와 고정 키워드인자 매개변수 알아보기\n",
    "\n",
    "- 함수를 정의할 때 매개변수와 인자가 항상 동일하게 매핑되는 경우\n",
    "-"
   ]
  },
  {
   "cell_type": "markdown",
   "id": "d2ded528",
   "metadata": {},
   "source": [
    "### 1-1-1 파이썬에서 위치 인자(positional argument)\n",
    "\n",
    "- 변수명과 상관없이 매개변수 위치에 따라 함수 호출시 할당하는 경우 "
   ]
  },
  {
   "cell_type": "code",
   "execution_count": 7,
   "id": "fe124e3c",
   "metadata": {},
   "outputs": [],
   "source": [
    "def add(a, b):\n",
    "    \n",
    "    print(\" local 네임스페이스 : \", locals())\n",
    "    return a + b"
   ]
  },
  {
   "cell_type": "code",
   "execution_count": 8,
   "id": "8af049f0",
   "metadata": {},
   "outputs": [
    {
     "name": "stdout",
     "output_type": "stream",
     "text": [
      " local 네임스페이스 :  {'a': 3, 'b': 5}\n",
      "8\n"
     ]
    }
   ],
   "source": [
    "result = add(3, 5)\n",
    "print(result)"
   ]
  },
  {
   "cell_type": "code",
   "execution_count": null,
   "id": "dad7a08c",
   "metadata": {},
   "outputs": [],
   "source": []
  },
  {
   "cell_type": "markdown",
   "id": "bf234f2c",
   "metadata": {},
   "source": [
    "## 1-1-2 키워드 인자(keyword argument)\n",
    "\n",
    "-  매개변수의 이름을 지정해서 값을 전달하는 경우  \n",
    "-  키워드 인자는 위치인자 처럼 순서와 상관없이 이름으로 매핑됨"
   ]
  },
  {
   "cell_type": "code",
   "execution_count": 9,
   "id": "eecd2c0b",
   "metadata": {},
   "outputs": [],
   "source": [
    "def greet(name, greeting):\n",
    "    return f\"{greeting}, {name}!\""
   ]
  },
  {
   "cell_type": "code",
   "execution_count": 10,
   "id": "986c8919",
   "metadata": {},
   "outputs": [
    {
     "name": "stdout",
     "output_type": "stream",
     "text": [
      "Hello, Alice!\n"
     ]
    }
   ],
   "source": [
    "result = greet(name=\"Alice\", greeting=\"Hello\")\n",
    "print(result)"
   ]
  },
  {
   "cell_type": "code",
   "execution_count": null,
   "id": "1543f10c",
   "metadata": {},
   "outputs": [],
   "source": []
  },
  {
   "cell_type": "markdown",
   "id": "21ed29a0",
   "metadata": {},
   "source": [
    "## 1-1-3  위치인자와 키워드인자 혼용처리 \n",
    "\n",
    "- 고정인 경우는 위치인자와 키워드인자를 혼용해서 사용할 수 있다.  "
   ]
  },
  {
   "cell_type": "code",
   "execution_count": 11,
   "id": "d49c214d",
   "metadata": {},
   "outputs": [],
   "source": [
    "def abcd(a, b, c, d):\n",
    "    return f\"a={a}, b={b}, c={c}, d={d} !\""
   ]
  },
  {
   "cell_type": "code",
   "execution_count": null,
   "id": "f1406312",
   "metadata": {},
   "outputs": [],
   "source": []
  },
  {
   "cell_type": "code",
   "execution_count": 12,
   "id": "0c541c06",
   "metadata": {},
   "outputs": [
    {
     "data": {
      "text/plain": [
       "'a=100, b=300, c=300, d=500 !'"
      ]
     },
     "execution_count": 12,
     "metadata": {},
     "output_type": "execute_result"
    }
   ],
   "source": [
    "abcd(100, c=300, d=500, b=300)"
   ]
  },
  {
   "cell_type": "markdown",
   "id": "8b418eb5",
   "metadata": {},
   "source": [
    "### 처음은 항상 위치인자부터 시작해야 함 "
   ]
  },
  {
   "cell_type": "code",
   "execution_count": 20,
   "id": "3d87e010",
   "metadata": {},
   "outputs": [
    {
     "ename": "SyntaxError",
     "evalue": "positional argument follows keyword argument (851648663.py, line 1)",
     "output_type": "error",
     "traceback": [
      "\u001b[0;36m  Cell \u001b[0;32mIn[20], line 1\u001b[0;36m\u001b[0m\n\u001b[0;31m    abcd(a=100,300, d=500, c=300)\u001b[0m\n\u001b[0m                                ^\u001b[0m\n\u001b[0;31mSyntaxError\u001b[0m\u001b[0;31m:\u001b[0m positional argument follows keyword argument\n"
     ]
    }
   ],
   "source": [
    "abcd(a=100,300, d=500, c=300)"
   ]
  },
  {
   "cell_type": "code",
   "execution_count": null,
   "id": "63d1b98f",
   "metadata": {},
   "outputs": [],
   "source": []
  },
  {
   "cell_type": "code",
   "execution_count": null,
   "id": "469100d0",
   "metadata": {},
   "outputs": [],
   "source": []
  },
  {
   "cell_type": "markdown",
   "id": "4eedcb64",
   "metadata": {},
   "source": [
    "## 1-2  가변 위치와 가변 키워드인자 매개변수 알아보기\n",
    "\n",
    "- 가변은 하나의 매개변수에 위치인자와 키워드인자를 안 받거나 여러 개를 연속으로 받을 수 있다."
   ]
  },
  {
   "cell_type": "code",
   "execution_count": null,
   "id": "3ada18e6",
   "metadata": {},
   "outputs": [],
   "source": []
  },
  {
   "cell_type": "markdown",
   "id": "5e40fdc8",
   "metadata": {},
   "source": [
    "## 1-2-1 가변 위치 인자(variable positional argument)\n",
    "\n",
    "- 별표를 args 앞에 붙인다.\n",
    "- 인자가 0 부터 무한정 넣을 수 있지만 실제 매개변수는 args 하나이다.\n",
    "- 가변위치인자는 하나로 관리해서 실제 튜플로 관리"
   ]
  },
  {
   "cell_type": "code",
   "execution_count": null,
   "id": "386cb67e",
   "metadata": {},
   "outputs": [],
   "source": []
  },
  {
   "cell_type": "code",
   "execution_count": 21,
   "id": "016695ec",
   "metadata": {},
   "outputs": [],
   "source": [
    "def add(*args):\n",
    "    result = 0\n",
    "    \n",
    "    print(\"가변위치인자 자료형 : \", args.__class__.__name__)\n",
    "    for num in args:\n",
    "        result += num\n",
    "    return result\n"
   ]
  },
  {
   "cell_type": "code",
   "execution_count": 22,
   "id": "e1b6c6c9",
   "metadata": {},
   "outputs": [
    {
     "name": "stdout",
     "output_type": "stream",
     "text": [
      "가변위치인자 자료형 :  tuple\n",
      "15\n"
     ]
    }
   ],
   "source": [
    "# 함수 호출\n",
    "sum_result = add(1, 2, 3, 4, 5)\n",
    "print(sum_result)"
   ]
  },
  {
   "cell_type": "code",
   "execution_count": null,
   "id": "322846d2",
   "metadata": {},
   "outputs": [],
   "source": []
  },
  {
   "cell_type": "markdown",
   "id": "5d641de5",
   "metadata": {},
   "source": [
    "## 1-2-1 가변 키워드 인자(variable keyword argument) \n",
    "\n",
    "- 별표 두 개를 kwargs 앞에 붙인다.\n",
    "- 인자가 0 부터 무한정 넣을 수 있지만 실제 매개변수는 kwargs 하나이다.\n",
    "- 가변 키워드인자는 하나로 관리해서 실제 딕셔너리로 관리"
   ]
  },
  {
   "cell_type": "code",
   "execution_count": 23,
   "id": "0a580641",
   "metadata": {},
   "outputs": [],
   "source": [
    "def print_info(**kwargs):\n",
    "    \n",
    "    print(\"가변 키워드인자 자료형 : \", kwargs.__class__.__name__)\n",
    "    for key, value in kwargs.items():\n",
    "        print(f\"{key}: {value}\")\n",
    "\n"
   ]
  },
  {
   "cell_type": "code",
   "execution_count": null,
   "id": "a7d83831",
   "metadata": {},
   "outputs": [],
   "source": []
  },
  {
   "cell_type": "code",
   "execution_count": null,
   "id": "6d11ea93",
   "metadata": {},
   "outputs": [],
   "source": [
    "\n",
    "# 함수 호출\n",
    "print_info(name=\"Alice\", age=30, city=\"Wonderland\")"
   ]
  },
  {
   "cell_type": "code",
   "execution_count": null,
   "id": "b55b5c10",
   "metadata": {},
   "outputs": [],
   "source": []
  },
  {
   "cell_type": "markdown",
   "id": "1a4fbecf",
   "metadata": {},
   "source": [
    "## 1-3 매개변수 혼용하기"
   ]
  },
  {
   "cell_type": "code",
   "execution_count": null,
   "id": "74a2a789",
   "metadata": {},
   "outputs": [],
   "source": []
  },
  {
   "cell_type": "markdown",
   "id": "0bd3265d",
   "metadata": {},
   "source": [
    "## 1-3-1 매개변수 정의 순서 \n",
    "\n",
    "- 위치 매개변수(Positional Arguments) > 가변 위치 인자 (Variable Positional Arguments) > \n",
    "- 키워드 인자 (Keyword Arguments) > 가변 키워드 인자 (Variable Keyword Arguments)"
   ]
  },
  {
   "cell_type": "code",
   "execution_count": null,
   "id": "63381912",
   "metadata": {},
   "outputs": [],
   "source": []
  },
  {
   "cell_type": "code",
   "execution_count": 15,
   "id": "9e427682",
   "metadata": {},
   "outputs": [],
   "source": [
    "def example_function(param1, param2=\"default_value\", *args, **kwargs):\n",
    "    # 함수 내용\n",
    "    pass\n"
   ]
  },
  {
   "cell_type": "markdown",
   "id": "045edbad",
   "metadata": {},
   "source": [
    "## 1-3-2  매개변수 분리 \n",
    "- 파이썬 3.8 이상에서는 /를 사용하여 위치 전용 매개변수를 정의할 수 있습니다. \n",
    "- 위치 전용 매개변수는 / 앞에 나오는 매개변수들은 위치 인자로만 전달되어야 하며, \n",
    "- 이후의 매개변수들은 위치 인자나 키워드 인자로 모두 전달될 수 있습니다.\n",
    "\n"
   ]
  },
  {
   "cell_type": "markdown",
   "id": "321908e7",
   "metadata": {},
   "source": [
    "- param1과 param2는 위치 전용 매개변수이며 위치 인자로만 전달되어야 합니다. \n",
    "- 그 다음은  위치나 키워드 인자로 전달될 수 있습니다."
   ]
  },
  {
   "cell_type": "code",
   "execution_count": 16,
   "id": "e5010b60",
   "metadata": {},
   "outputs": [],
   "source": [
    "def example_function1(param1, param2=\"default_value\",/, *args, **kwargs):\n",
    "    # 함수 내용\n",
    "    pass"
   ]
  },
  {
   "cell_type": "code",
   "execution_count": null,
   "id": "8afef0d4",
   "metadata": {},
   "outputs": [],
   "source": []
  },
  {
   "cell_type": "code",
   "execution_count": null,
   "id": "6e022d58",
   "metadata": {},
   "outputs": [],
   "source": []
  },
  {
   "cell_type": "markdown",
   "id": "d1f25528",
   "metadata": {},
   "source": [
    "## 1-3-3 매개변수 혼용 처리"
   ]
  },
  {
   "cell_type": "code",
   "execution_count": null,
   "id": "eb0170b1",
   "metadata": {},
   "outputs": [],
   "source": []
  },
  {
   "cell_type": "code",
   "execution_count": 17,
   "id": "b84a0e20",
   "metadata": {},
   "outputs": [],
   "source": [
    "def example_function3(param1, param2, /, *args,param3, param4, kwarg1=\"default_value\", **kwargs):\n",
    "    # 함수 내용\n",
    "    pass\n"
   ]
  },
  {
   "cell_type": "code",
   "execution_count": null,
   "id": "63cc99fb",
   "metadata": {},
   "outputs": [],
   "source": []
  },
  {
   "cell_type": "code",
   "execution_count": 18,
   "id": "7a1a3041",
   "metadata": {},
   "outputs": [],
   "source": [
    "def example_function4( *args, **kwargs):\n",
    "    # 함수 내용\n",
    "    pass"
   ]
  },
  {
   "cell_type": "code",
   "execution_count": null,
   "id": "9fd31d6f",
   "metadata": {},
   "outputs": [],
   "source": []
  },
  {
   "cell_type": "markdown",
   "id": "111adc0a",
   "metadata": {},
   "source": [
    "## 2   인자 패킹과 언패킹 처리하기 "
   ]
  },
  {
   "cell_type": "code",
   "execution_count": null,
   "id": "3a33624c",
   "metadata": {},
   "outputs": [],
   "source": []
  },
  {
   "cell_type": "code",
   "execution_count": null,
   "id": "0f7bbb12",
   "metadata": {},
   "outputs": [],
   "source": []
  },
  {
   "cell_type": "code",
   "execution_count": null,
   "id": "15a2ff0e",
   "metadata": {},
   "outputs": [],
   "source": []
  },
  {
   "cell_type": "code",
   "execution_count": null,
   "id": "e2baf2ce",
   "metadata": {},
   "outputs": [],
   "source": []
  },
  {
   "cell_type": "code",
   "execution_count": null,
   "id": "992abde7",
   "metadata": {},
   "outputs": [],
   "source": []
  },
  {
   "cell_type": "code",
   "execution_count": null,
   "id": "47003e04",
   "metadata": {},
   "outputs": [],
   "source": []
  },
  {
   "cell_type": "markdown",
   "id": "45393d29",
   "metadata": {},
   "source": [
    "## 3 함수 제너릭 이해하기 "
   ]
  },
  {
   "cell_type": "code",
   "execution_count": null,
   "id": "354b725e",
   "metadata": {},
   "outputs": [],
   "source": []
  },
  {
   "cell_type": "code",
   "execution_count": null,
   "id": "0e0f5298",
   "metadata": {},
   "outputs": [],
   "source": []
  },
  {
   "cell_type": "code",
   "execution_count": null,
   "id": "dd22063f",
   "metadata": {},
   "outputs": [],
   "source": []
  },
  {
   "cell_type": "code",
   "execution_count": null,
   "id": "09696d2c",
   "metadata": {},
   "outputs": [],
   "source": []
  },
  {
   "cell_type": "code",
   "execution_count": null,
   "id": "2d4dc507",
   "metadata": {},
   "outputs": [],
   "source": []
  },
  {
   "cell_type": "code",
   "execution_count": null,
   "id": "6fe8436f",
   "metadata": {},
   "outputs": [],
   "source": []
  },
  {
   "cell_type": "code",
   "execution_count": null,
   "id": "41ed2d97",
   "metadata": {},
   "outputs": [],
   "source": []
  },
  {
   "cell_type": "markdown",
   "id": "7ea6ea98",
   "metadata": {},
   "source": [
    "# 4. 활용 "
   ]
  },
  {
   "cell_type": "code",
   "execution_count": null,
   "id": "a31cd930",
   "metadata": {},
   "outputs": [],
   "source": []
  },
  {
   "cell_type": "markdown",
   "id": "8436ea60",
   "metadata": {},
   "source": [
    "## 4-1 데코레이터 반영하기 "
   ]
  },
  {
   "cell_type": "code",
   "execution_count": null,
   "id": "ce87f9e7",
   "metadata": {},
   "outputs": [],
   "source": []
  },
  {
   "cell_type": "code",
   "execution_count": null,
   "id": "dd9ed0a9",
   "metadata": {},
   "outputs": [],
   "source": []
  },
  {
   "cell_type": "code",
   "execution_count": null,
   "id": "1d7a09d4",
   "metadata": {},
   "outputs": [],
   "source": []
  },
  {
   "cell_type": "markdown",
   "id": "63212b1a",
   "metadata": {},
   "source": [
    "## 4-2  메서드 활용하기 "
   ]
  },
  {
   "cell_type": "code",
   "execution_count": null,
   "id": "8bdcbaf7",
   "metadata": {},
   "outputs": [],
   "source": []
  }
 ],
 "metadata": {
  "kernelspec": {
   "display_name": "Python 3 (ipykernel)",
   "language": "python",
   "name": "python3"
  },
  "language_info": {
   "codemirror_mode": {
    "name": "ipython",
    "version": 3
   },
   "file_extension": ".py",
   "mimetype": "text/x-python",
   "name": "python",
   "nbconvert_exporter": "python",
   "pygments_lexer": "ipython3",
   "version": "3.11.3"
  }
 },
 "nbformat": 4,
 "nbformat_minor": 5
}
