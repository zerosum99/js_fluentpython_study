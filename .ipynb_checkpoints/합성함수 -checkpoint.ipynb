{
 "cells": [
  {
   "cell_type": "code",
   "execution_count": null,
   "id": "c5f09438",
   "metadata": {},
   "outputs": [],
   "source": []
  },
  {
   "cell_type": "markdown",
   "id": "76008b10",
   "metadata": {},
   "source": [
    "## 1. 함수를 사용해서 합성함수 만들기 "
   ]
  },
  {
   "cell_type": "code",
   "execution_count": null,
   "id": "43a44c60",
   "metadata": {},
   "outputs": [],
   "source": []
  },
  {
   "cell_type": "markdown",
   "id": "b28e369c",
   "metadata": {},
   "source": [
    "## 1-1 함수를 인자로 전달해서 처리하기 "
   ]
  },
  {
   "cell_type": "markdown",
   "id": "12808d27",
   "metadata": {},
   "source": [
    "## 맵리듀스 처리 알아보기 "
   ]
  },
  {
   "cell_type": "code",
   "execution_count": 13,
   "id": "b6cca23f",
   "metadata": {},
   "outputs": [],
   "source": [
    "# 예제 함수들\n",
    "def square(x):\n",
    "    return x * x\n",
    "\n",
    "def add_one(x):\n",
    "    return x + 1\n",
    "\n",
    "def double(x):\n",
    "    return x * 2\n",
    "\n",
    "def is_even(x):\n",
    "    return x % 2 == 0"
   ]
  },
  {
   "cell_type": "code",
   "execution_count": 14,
   "id": "2a211388",
   "metadata": {},
   "outputs": [
    {
     "name": "stdout",
     "output_type": "stream",
     "text": [
      "[1, 4, 9, 16, 25]\n"
     ]
    }
   ],
   "source": [
    "# 리스트의 각 요소에 square 함수를 적용\n",
    "numbers = [1, 2, 3, 4, 5]\n",
    "squared_numbers = list(map(square, numbers))\n",
    "\n",
    "print(squared_numbers)  # 출력: [1, 4, 9, 16, 25]"
   ]
  },
  {
   "cell_type": "code",
   "execution_count": null,
   "id": "ecd3132c",
   "metadata": {},
   "outputs": [],
   "source": []
  },
  {
   "cell_type": "markdown",
   "id": "0c9497df",
   "metadata": {},
   "source": [
    "## 필터링 처리 "
   ]
  },
  {
   "cell_type": "code",
   "execution_count": 15,
   "id": "8c57386d",
   "metadata": {},
   "outputs": [
    {
     "name": "stdout",
     "output_type": "stream",
     "text": [
      "[2, 4, 6, 8, 10]\n"
     ]
    }
   ],
   "source": [
    "# 리스트에서 짝수만 걸러냄\n",
    "numbers = [1, 2, 3, 4, 5, 6, 7, 8, 9, 10]\n",
    "even_numbers = list(filter(is_even, numbers))\n",
    "\n",
    "print(even_numbers)  # 출력: [2, 4, 6, 8, 10]"
   ]
  },
  {
   "cell_type": "markdown",
   "id": "914a9070",
   "metadata": {},
   "source": [
    "## 리듀스 처리 "
   ]
  },
  {
   "cell_type": "code",
   "execution_count": null,
   "id": "e1336675",
   "metadata": {},
   "outputs": [],
   "source": [
    "from functools import reduce\n",
    "\n",
    "\n",
    "# 함수 결합\n",
    "combined_function = reduce(lambda f, g: lambda x: f(g(x)), [square, add_one, double, add_one])\n",
    "\n",
    "# 결합된 함수 실행\n",
    "result = combined_function(3)\n",
    "print(result)  # 출력: ((3 + 1) ** 2) * 2 + 1 = 29\n"
   ]
  },
  {
   "cell_type": "code",
   "execution_count": null,
   "id": "06aadd21",
   "metadata": {},
   "outputs": [],
   "source": []
  },
  {
   "cell_type": "code",
   "execution_count": null,
   "id": "629ace02",
   "metadata": {},
   "outputs": [],
   "source": []
  },
  {
   "cell_type": "markdown",
   "id": "bc1a415b",
   "metadata": {},
   "source": [
    "## 1-2 여러개 함수를 합성하기 "
   ]
  },
  {
   "cell_type": "code",
   "execution_count": 5,
   "id": "9d37d0fd",
   "metadata": {},
   "outputs": [],
   "source": [
    "def compose(f, g):\n",
    "    \"\"\"\n",
    "    두 함수를 합성하는 함수\n",
    "    \"\"\"\n",
    "    return lambda x: f(g(x))\n"
   ]
  },
  {
   "cell_type": "code",
   "execution_count": 6,
   "id": "84ca7759",
   "metadata": {},
   "outputs": [],
   "source": [
    "# 예제 함수들\n",
    "def square(x):\n",
    "    return x * x\n",
    "\n",
    "def add_one(x):\n",
    "    return x + 1"
   ]
  },
  {
   "cell_type": "code",
   "execution_count": 7,
   "id": "99531459",
   "metadata": {},
   "outputs": [
    {
     "name": "stdout",
     "output_type": "stream",
     "text": [
      "16\n"
     ]
    }
   ],
   "source": [
    "# 합성 함수 생성\n",
    "composed_function = compose(square, add_one)\n",
    "\n",
    "# 합성 함수 사용\n",
    "result = composed_function(3)\n",
    "print(result)  # 출력: 16 (square(add_one(3)))"
   ]
  },
  {
   "cell_type": "code",
   "execution_count": null,
   "id": "c6c618d4",
   "metadata": {},
   "outputs": [],
   "source": []
  },
  {
   "cell_type": "markdown",
   "id": "03a057f5",
   "metadata": {},
   "source": [
    "## 2. 합성함수를 클래스와 메서드로  정의하기 \n",
    "\n",
    "- ComposeFunctions 클래스는 초기에 주어진 함수들을 저장하고, \n",
    "- compose 메서드를 사용하여 두 함수를 합성합니다. \n",
    "- then 메서드는 새로운 함수들을 추가하고, \n",
    "- execute 메서드는 저장된 모든 함수들을 연속적으로 적용하여 최종 결과를 반환합니다."
   ]
  },
  {
   "cell_type": "code",
   "execution_count": 8,
   "id": "63d4f7cd",
   "metadata": {},
   "outputs": [],
   "source": [
    "from functools import reduce\n",
    "from typing import Callable\n",
    "\n",
    "class ComposeFunctions:\n",
    "    def __init__(self, *functions: Callable):\n",
    "        self.functions = functions\n",
    "\n",
    "    def compose(self, f, g):\n",
    "        return lambda x: f(g(x))\n",
    "\n",
    "    def then(self, *functions: Callable) -> 'ComposeFunctions':\n",
    "        composed_functions = self.functions + functions\n",
    "        return ComposeFunctions(*composed_functions)\n",
    "\n",
    "    def execute(self, value):\n",
    "        return reduce(self.compose, self.functions, value)\n"
   ]
  },
  {
   "cell_type": "code",
   "execution_count": 9,
   "id": "bb77ad59",
   "metadata": {},
   "outputs": [],
   "source": [
    "# 예제 함수들\n",
    "def square(x):\n",
    "    return x * x\n",
    "\n",
    "def add_one(x):\n",
    "    return x + 1\n",
    "\n",
    "def double(x):\n",
    "    return x * 2"
   ]
  },
  {
   "cell_type": "code",
   "execution_count": 4,
   "id": "4f30c3b1",
   "metadata": {},
   "outputs": [
    {
     "name": "stdout",
     "output_type": "stream",
     "text": [
      "<function ComposeFunctions.compose.<locals>.<lambda> at 0x11288c4a0>\n"
     ]
    }
   ],
   "source": [
    "# 함수 합성\n",
    "composed = ComposeFunctions(square, add_one).then(double, add_one)\n",
    "\n",
    "# 합성 함수 실행\n",
    "result = composed.execute(3)\n",
    "print(result)  # 출력: ((3 + 1) ** 2) * 2 + 1 = 29"
   ]
  },
  {
   "cell_type": "code",
   "execution_count": null,
   "id": "91431713",
   "metadata": {},
   "outputs": [],
   "source": []
  }
 ],
 "metadata": {
  "kernelspec": {
   "display_name": "Python 3 (ipykernel)",
   "language": "python",
   "name": "python3"
  },
  "language_info": {
   "codemirror_mode": {
    "name": "ipython",
    "version": 3
   },
   "file_extension": ".py",
   "mimetype": "text/x-python",
   "name": "python",
   "nbconvert_exporter": "python",
   "pygments_lexer": "ipython3",
   "version": "3.11.3"
  }
 },
 "nbformat": 4,
 "nbformat_minor": 5
}
