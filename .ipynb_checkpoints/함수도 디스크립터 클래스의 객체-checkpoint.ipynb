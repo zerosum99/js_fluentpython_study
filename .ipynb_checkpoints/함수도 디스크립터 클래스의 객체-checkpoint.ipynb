{
 "cells": [
  {
   "cell_type": "markdown",
   "id": "bef92a75",
   "metadata": {},
   "source": [
    "## 1. 함수를 왜 디스크립터로 만들었을까?  "
   ]
  },
  {
   "cell_type": "code",
   "execution_count": 1,
   "id": "d6961b48",
   "metadata": {},
   "outputs": [],
   "source": [
    "import types "
   ]
  },
  {
   "cell_type": "markdown",
   "id": "f73a1d37",
   "metadata": {},
   "source": [
    "### 함수타입 내의 __get__ 확인 "
   ]
  },
  {
   "cell_type": "code",
   "execution_count": 3,
   "id": "cd1a5a10",
   "metadata": {},
   "outputs": [
    {
     "data": {
      "text/plain": [
       "<slot wrapper '__get__' of 'function' objects>"
      ]
     },
     "execution_count": 3,
     "metadata": {},
     "output_type": "execute_result"
    }
   ],
   "source": [
    "types.FunctionType.__get__"
   ]
  },
  {
   "cell_type": "markdown",
   "id": "c94c86b6",
   "metadata": {},
   "source": [
    "## 함수정의 "
   ]
  },
  {
   "cell_type": "code",
   "execution_count": 4,
   "id": "b80931ec",
   "metadata": {},
   "outputs": [],
   "source": [
    "def add(x,y) :\n",
    "    return x+y"
   ]
  },
  {
   "cell_type": "markdown",
   "id": "0deb446c",
   "metadata": {},
   "source": [
    "## 함수 접근 "
   ]
  },
  {
   "cell_type": "code",
   "execution_count": 5,
   "id": "e95a4d17",
   "metadata": {},
   "outputs": [
    {
     "data": {
      "text/plain": [
       "<function __main__.add(x, y)>"
      ]
     },
     "execution_count": 5,
     "metadata": {},
     "output_type": "execute_result"
    }
   ],
   "source": [
    "add"
   ]
  },
  {
   "cell_type": "markdown",
   "id": "bb3f28bc",
   "metadata": {},
   "source": [
    "## 디스크립터로 접근하면 메서드 처리 "
   ]
  },
  {
   "cell_type": "code",
   "execution_count": 36,
   "id": "406d9ba6",
   "metadata": {},
   "outputs": [],
   "source": [
    "add_method = add.__get__(100)"
   ]
  },
  {
   "cell_type": "code",
   "execution_count": 37,
   "id": "1f096bef",
   "metadata": {},
   "outputs": [
    {
     "data": {
      "text/plain": [
       "<bound method add of 100>"
      ]
     },
     "execution_count": 37,
     "metadata": {},
     "output_type": "execute_result"
    }
   ],
   "source": [
    "add_method"
   ]
  },
  {
   "cell_type": "markdown",
   "id": "0d0ee6b6",
   "metadata": {},
   "source": [
    "## 인스턴스 메서드로 변환"
   ]
  },
  {
   "cell_type": "code",
   "execution_count": 39,
   "id": "68c2dec9",
   "metadata": {},
   "outputs": [
    {
     "data": {
      "text/plain": [
       "True"
      ]
     },
     "execution_count": 39,
     "metadata": {},
     "output_type": "execute_result"
    }
   ],
   "source": [
    "type(add_method) == types.MethodType"
   ]
  },
  {
   "cell_type": "code",
   "execution_count": null,
   "id": "7d4f8038",
   "metadata": {},
   "outputs": [],
   "source": []
  },
  {
   "cell_type": "code",
   "execution_count": 38,
   "id": "b217bc07",
   "metadata": {},
   "outputs": [
    {
     "data": {
      "text/plain": [
       "(100, <function __main__.add(a, b)>)"
      ]
     },
     "execution_count": 38,
     "metadata": {},
     "output_type": "execute_result"
    }
   ],
   "source": [
    "add_method.__self__, add_method.__func__"
   ]
  },
  {
   "cell_type": "markdown",
   "id": "8beda657",
   "metadata": {},
   "source": [
    "## 바인딩 하지 않으려면 "
   ]
  },
  {
   "cell_type": "code",
   "execution_count": 7,
   "id": "82383c49",
   "metadata": {},
   "outputs": [
    {
     "data": {
      "text/plain": [
       "<function __main__.add(x, y)>"
      ]
     },
     "execution_count": 7,
     "metadata": {},
     "output_type": "execute_result"
    }
   ],
   "source": [
    "add.__get__(None,add)"
   ]
  },
  {
   "cell_type": "markdown",
   "id": "e64136c9",
   "metadata": {},
   "source": [
    "## 2. 클래스에서 함수를 인스턴스 메서드로 변환하는 방법 "
   ]
  },
  {
   "cell_type": "code",
   "execution_count": 40,
   "id": "9bb15992",
   "metadata": {},
   "outputs": [],
   "source": [
    "class ADD :\n",
    "    def __init__(self,x) :\n",
    "        self._x = x\n",
    "        \n",
    "    def add(self,y) :\n",
    "        return self._x + y"
   ]
  },
  {
   "cell_type": "code",
   "execution_count": null,
   "id": "db514523",
   "metadata": {},
   "outputs": [],
   "source": []
  },
  {
   "cell_type": "code",
   "execution_count": 45,
   "id": "2321807d",
   "metadata": {},
   "outputs": [
    {
     "data": {
      "text/plain": [
       "<bound method ADD.add of <__main__.ADD object at 0x104a9dc50>>"
      ]
     },
     "execution_count": 45,
     "metadata": {},
     "output_type": "execute_result"
    }
   ],
   "source": [
    "ADD.add.__get__(ADD(100))"
   ]
  },
  {
   "cell_type": "code",
   "execution_count": 46,
   "id": "428aaa0c",
   "metadata": {},
   "outputs": [
    {
     "data": {
      "text/plain": [
       "<__main__.ADD at 0x104a9d390>"
      ]
     },
     "execution_count": 46,
     "metadata": {},
     "output_type": "execute_result"
    }
   ],
   "source": [
    "ADD.add.__get__(ADD(100)).__self__"
   ]
  },
  {
   "cell_type": "code",
   "execution_count": 47,
   "id": "18a91834",
   "metadata": {},
   "outputs": [
    {
     "data": {
      "text/plain": [
       "<function __main__.ADD.add(self, y)>"
      ]
     },
     "execution_count": 47,
     "metadata": {},
     "output_type": "execute_result"
    }
   ],
   "source": [
    "ADD.add.__get__(ADD(100)).__func__"
   ]
  },
  {
   "cell_type": "markdown",
   "id": "7427a93a",
   "metadata": {},
   "source": [
    "## 함수를 함수 클래스 객체로 처리하기 "
   ]
  },
  {
   "cell_type": "code",
   "execution_count": 11,
   "id": "1fa16246",
   "metadata": {},
   "outputs": [
    {
     "name": "stdout",
     "output_type": "stream",
     "text": [
      "5\n"
     ]
    }
   ],
   "source": [
    "import types\n",
    "\n",
    "\n",
    "\n",
    "# types.FunctionType을 사용하여 함수 객체를 생성\n",
    "function_object = types.FunctionType(add.__code__, globals(),\"add\")\n",
    "\n",
    "# 함수 호출\n",
    "result = function_object(2, 3)\n",
    "print(result)  # 출력: 5\n"
   ]
  },
  {
   "cell_type": "markdown",
   "id": "5ed7a0df",
   "metadata": {},
   "source": [
    "## 함수를 컴파일해서 사용하기 "
   ]
  },
  {
   "cell_type": "code",
   "execution_count": 32,
   "id": "a4788f08",
   "metadata": {},
   "outputs": [
    {
     "name": "stdout",
     "output_type": "stream",
     "text": [
      "Hello, John\n"
     ]
    }
   ],
   "source": [
    "# 함수 정의를 문자열로 작성\n",
    "function_code = '''\n",
    "def greet(name):\n",
    "    return \"Hello, \" + name\n",
    "'''\n",
    "\n",
    "# compile 함수를 사용하여 함수 코드를 컴파일\n",
    "compiled_code = compile(function_code, '<string>', 'exec')\n",
    "\n",
    "# 함수를 실행 가능한 코드로 실행\n",
    "namespace = {}\n",
    "exec(compiled_code, namespace)\n",
    "\n",
    "# 함수 호출\n",
    "greet_function = namespace['greet']\n",
    "result = greet_function('John')\n",
    "print(result)  # 출력: \"Hello, John\"\n"
   ]
  },
  {
   "cell_type": "code",
   "execution_count": null,
   "id": "8a3e56cf",
   "metadata": {},
   "outputs": [],
   "source": []
  }
 ],
 "metadata": {
  "kernelspec": {
   "display_name": "Python 3 (ipykernel)",
   "language": "python",
   "name": "python3"
  },
  "language_info": {
   "codemirror_mode": {
    "name": "ipython",
    "version": 3
   },
   "file_extension": ".py",
   "mimetype": "text/x-python",
   "name": "python",
   "nbconvert_exporter": "python",
   "pygments_lexer": "ipython3",
   "version": "3.11.3"
  }
 },
 "nbformat": 4,
 "nbformat_minor": 5
}
