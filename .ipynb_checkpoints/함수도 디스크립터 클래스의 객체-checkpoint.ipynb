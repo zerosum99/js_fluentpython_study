{
 "cells": [
  {
   "cell_type": "markdown",
   "id": "109703fe",
   "metadata": {},
   "source": [
    "## 1. 함수를 왜 디스크립터로 만들었을까?  "
   ]
  },
  {
   "cell_type": "code",
   "execution_count": 1,
   "id": "c64f849e",
   "metadata": {},
   "outputs": [],
   "source": [
    "import types "
   ]
  },
  {
   "cell_type": "markdown",
   "id": "8c52267f",
   "metadata": {},
   "source": [
    "### 함수타입 내의 __get__ 확인 "
   ]
  },
  {
   "cell_type": "code",
   "execution_count": 11,
   "id": "2978f619",
   "metadata": {},
   "outputs": [
    {
     "data": {
      "text/plain": [
       "<slot wrapper '__get__' of 'function' objects>"
      ]
     },
     "execution_count": 11,
     "metadata": {},
     "output_type": "execute_result"
    }
   ],
   "source": [
    "types.FunctionType.__get__"
   ]
  },
  {
   "cell_type": "markdown",
   "id": "a0217a9b",
   "metadata": {},
   "source": [
    "## 함수정의 "
   ]
  },
  {
   "cell_type": "code",
   "execution_count": 12,
   "id": "9981f884",
   "metadata": {},
   "outputs": [],
   "source": [
    "def add(x,y) :\n",
    "    return x+y"
   ]
  },
  {
   "cell_type": "markdown",
   "id": "11b624e7",
   "metadata": {},
   "source": [
    "## 함수 접근 "
   ]
  },
  {
   "cell_type": "code",
   "execution_count": 13,
   "id": "f7417241",
   "metadata": {},
   "outputs": [
    {
     "data": {
      "text/plain": [
       "<function __main__.add(x, y)>"
      ]
     },
     "execution_count": 13,
     "metadata": {},
     "output_type": "execute_result"
    }
   ],
   "source": [
    "add"
   ]
  },
  {
   "cell_type": "markdown",
   "id": "4d7074ce",
   "metadata": {},
   "source": [
    "## 디스크립터로 접근하면 메서드 처리 "
   ]
  },
  {
   "cell_type": "code",
   "execution_count": 14,
   "id": "92b87879",
   "metadata": {},
   "outputs": [],
   "source": [
    "add_method = add.__get__(100)"
   ]
  },
  {
   "cell_type": "code",
   "execution_count": 6,
   "id": "7cef94c7",
   "metadata": {},
   "outputs": [
    {
     "data": {
      "text/plain": [
       "<bound method add of 100>"
      ]
     },
     "execution_count": 6,
     "metadata": {},
     "output_type": "execute_result"
    }
   ],
   "source": [
    "add_method"
   ]
  },
  {
   "cell_type": "markdown",
   "id": "434bd71d",
   "metadata": {},
   "source": [
    "## 인스턴스 메서드로 변환"
   ]
  },
  {
   "cell_type": "code",
   "execution_count": 7,
   "id": "a6355aa5",
   "metadata": {},
   "outputs": [
    {
     "data": {
      "text/plain": [
       "True"
      ]
     },
     "execution_count": 7,
     "metadata": {},
     "output_type": "execute_result"
    }
   ],
   "source": [
    "type(add_method) == types.MethodType"
   ]
  },
  {
   "cell_type": "code",
   "execution_count": null,
   "id": "156056f1",
   "metadata": {},
   "outputs": [],
   "source": []
  },
  {
   "cell_type": "code",
   "execution_count": 8,
   "id": "3c8b6dc8",
   "metadata": {},
   "outputs": [
    {
     "data": {
      "text/plain": [
       "(100, <function __main__.add(x, y)>)"
      ]
     },
     "execution_count": 8,
     "metadata": {},
     "output_type": "execute_result"
    }
   ],
   "source": [
    "add_method.__self__, add_method.__func__"
   ]
  },
  {
   "cell_type": "markdown",
   "id": "7818ba43",
   "metadata": {},
   "source": [
    "## 바인딩 하지 않으려면 "
   ]
  },
  {
   "cell_type": "code",
   "execution_count": 9,
   "id": "ecc07468",
   "metadata": {},
   "outputs": [
    {
     "data": {
      "text/plain": [
       "<function __main__.add(x, y)>"
      ]
     },
     "execution_count": 9,
     "metadata": {},
     "output_type": "execute_result"
    }
   ],
   "source": [
    "add.__get__(None,add)"
   ]
  },
  {
   "cell_type": "markdown",
   "id": "4b485995",
   "metadata": {},
   "source": [
    "## 2. 메서드로 변환하는 방법 "
   ]
  },
  {
   "cell_type": "markdown",
   "id": "4d095f02",
   "metadata": {},
   "source": [
    "## 2-1  클래스의 함수에서 __get__ 사용해서 변환"
   ]
  },
  {
   "cell_type": "code",
   "execution_count": 10,
   "id": "9f886ae5",
   "metadata": {},
   "outputs": [],
   "source": [
    "class ADD :\n",
    "    def __init__(self,x) :\n",
    "        self._x = x\n",
    "        \n",
    "    def add(self,y) :\n",
    "        return self._x + y"
   ]
  },
  {
   "cell_type": "code",
   "execution_count": null,
   "id": "93084835",
   "metadata": {},
   "outputs": [],
   "source": []
  },
  {
   "cell_type": "code",
   "execution_count": 15,
   "id": "5771a57d",
   "metadata": {},
   "outputs": [
    {
     "data": {
      "text/plain": [
       "<bound method ADD.add of <__main__.ADD object at 0x105c5d2d0>>"
      ]
     },
     "execution_count": 15,
     "metadata": {},
     "output_type": "execute_result"
    }
   ],
   "source": [
    "ADD.add.__get__(ADD(100))"
   ]
  },
  {
   "cell_type": "code",
   "execution_count": 16,
   "id": "9d4935e4",
   "metadata": {},
   "outputs": [
    {
     "data": {
      "text/plain": [
       "<__main__.ADD at 0x105ce7750>"
      ]
     },
     "execution_count": 16,
     "metadata": {},
     "output_type": "execute_result"
    }
   ],
   "source": [
    "ADD.add.__get__(ADD(100)).__self__"
   ]
  },
  {
   "cell_type": "code",
   "execution_count": 17,
   "id": "340117ac",
   "metadata": {},
   "outputs": [
    {
     "data": {
      "text/plain": [
       "<function __main__.ADD.add(self, y)>"
      ]
     },
     "execution_count": 17,
     "metadata": {},
     "output_type": "execute_result"
    }
   ],
   "source": [
    "ADD.add.__get__(ADD(100)).__func__"
   ]
  },
  {
   "cell_type": "markdown",
   "id": "5e0781ae",
   "metadata": {},
   "source": [
    "## 2-2  메서드 클래스로 함수를 메서드로 변환 "
   ]
  },
  {
   "cell_type": "code",
   "execution_count": 18,
   "id": "e4a24430",
   "metadata": {},
   "outputs": [],
   "source": [
    "class Func :\n",
    "    def __init__(self,f) :\n",
    "        self._f = f\n",
    "        \n",
    "    def __get__(self,other,owner=None) :\n",
    "        return types.MethodType(self._f, other)"
   ]
  },
  {
   "cell_type": "code",
   "execution_count": 19,
   "id": "87849723",
   "metadata": {},
   "outputs": [],
   "source": [
    "@Func\n",
    "def mul(self, x,y) :\n",
    "    return x+y"
   ]
  },
  {
   "cell_type": "code",
   "execution_count": 20,
   "id": "d2295ed7",
   "metadata": {},
   "outputs": [],
   "source": [
    "mul = mul.__get__(object(),)"
   ]
  },
  {
   "cell_type": "code",
   "execution_count": 21,
   "id": "79ff3d38",
   "metadata": {},
   "outputs": [
    {
     "data": {
      "text/plain": [
       "<bound method mul of <object object at 0x105afcf80>>"
      ]
     },
     "execution_count": 21,
     "metadata": {},
     "output_type": "execute_result"
    }
   ],
   "source": [
    "mul"
   ]
  },
  {
   "cell_type": "code",
   "execution_count": 22,
   "id": "9b7271d8",
   "metadata": {},
   "outputs": [
    {
     "data": {
      "text/plain": [
       "300"
      ]
     },
     "execution_count": 22,
     "metadata": {},
     "output_type": "execute_result"
    }
   ],
   "source": [
    "mul(100,200)"
   ]
  },
  {
   "cell_type": "markdown",
   "id": "fc5e5b41",
   "metadata": {},
   "source": [
    "## 3. 함수를 함수 클래스 객체로 처리하기 "
   ]
  },
  {
   "cell_type": "code",
   "execution_count": 23,
   "id": "c047adef",
   "metadata": {},
   "outputs": [
    {
     "name": "stdout",
     "output_type": "stream",
     "text": [
      "5\n"
     ]
    }
   ],
   "source": [
    "import types\n",
    "\n",
    "\n",
    "\n",
    "# types.FunctionType을 사용하여 함수 객체를 생성\n",
    "function_object = types.FunctionType(add.__code__, globals(),\"add\")\n",
    "\n",
    "# 함수 호출\n",
    "result = function_object(2, 3)\n",
    "print(result)  # 출력: 5\n"
   ]
  },
  {
   "cell_type": "markdown",
   "id": "5faf6d1f",
   "metadata": {},
   "source": [
    "## 함수를 컴파일해서 사용하기 "
   ]
  },
  {
   "cell_type": "code",
   "execution_count": 24,
   "id": "a3e47dae",
   "metadata": {},
   "outputs": [
    {
     "name": "stdout",
     "output_type": "stream",
     "text": [
      "Hello, John\n"
     ]
    }
   ],
   "source": [
    "# 함수 정의를 문자열로 작성\n",
    "function_code = '''\n",
    "def greet(name):\n",
    "    return \"Hello, \" + name\n",
    "'''\n",
    "\n",
    "# compile 함수를 사용하여 함수 코드를 컴파일\n",
    "compiled_code = compile(function_code, '<string>', 'exec')\n",
    "\n",
    "# 함수를 실행 가능한 코드로 실행\n",
    "namespace = {}\n",
    "exec(compiled_code, namespace)\n",
    "\n",
    "# 함수 호출\n",
    "greet_function = namespace['greet']\n",
    "result = greet_function('John')\n",
    "print(result)  # 출력: \"Hello, John\"\n"
   ]
  },
  {
   "cell_type": "code",
   "execution_count": null,
   "id": "7f3add1a",
   "metadata": {},
   "outputs": [],
   "source": []
  }
 ],
 "metadata": {
  "kernelspec": {
   "display_name": "Python 3 (ipykernel)",
   "language": "python",
   "name": "python3"
  },
  "language_info": {
   "codemirror_mode": {
    "name": "ipython",
    "version": 3
   },
   "file_extension": ".py",
   "mimetype": "text/x-python",
   "name": "python",
   "nbconvert_exporter": "python",
   "pygments_lexer": "ipython3",
   "version": "3.11.3"
  }
 },
 "nbformat": 4,
 "nbformat_minor": 5
}
