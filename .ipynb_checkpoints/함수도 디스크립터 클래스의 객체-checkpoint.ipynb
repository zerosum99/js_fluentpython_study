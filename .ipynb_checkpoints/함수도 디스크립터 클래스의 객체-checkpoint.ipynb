{
 "cells": [
  {
   "cell_type": "markdown",
   "id": "5715c081",
   "metadata": {},
   "source": [
    "## 함수 알아보기 "
   ]
  },
  {
   "cell_type": "code",
   "execution_count": 1,
   "id": "36bc6349",
   "metadata": {},
   "outputs": [],
   "source": [
    "import types "
   ]
  },
  {
   "cell_type": "markdown",
   "id": "80c861ba",
   "metadata": {},
   "source": [
    "### 함수타입 내의 __get__ 확인 "
   ]
  },
  {
   "cell_type": "code",
   "execution_count": 3,
   "id": "002286d1",
   "metadata": {},
   "outputs": [
    {
     "data": {
      "text/plain": [
       "<slot wrapper '__get__' of 'function' objects>"
      ]
     },
     "execution_count": 3,
     "metadata": {},
     "output_type": "execute_result"
    }
   ],
   "source": [
    "types.FunctionType.__get__"
   ]
  },
  {
   "cell_type": "markdown",
   "id": "8448b7ac",
   "metadata": {},
   "source": [
    "## 함수정의 "
   ]
  },
  {
   "cell_type": "code",
   "execution_count": 4,
   "id": "d7fe0836",
   "metadata": {},
   "outputs": [],
   "source": [
    "def add(x,y) :\n",
    "    return x+y"
   ]
  },
  {
   "cell_type": "markdown",
   "id": "05bcab88",
   "metadata": {},
   "source": [
    "## 함수 접근 "
   ]
  },
  {
   "cell_type": "code",
   "execution_count": 5,
   "id": "bdd2209d",
   "metadata": {},
   "outputs": [
    {
     "data": {
      "text/plain": [
       "<function __main__.add(x, y)>"
      ]
     },
     "execution_count": 5,
     "metadata": {},
     "output_type": "execute_result"
    }
   ],
   "source": [
    "add"
   ]
  },
  {
   "cell_type": "markdown",
   "id": "335af293",
   "metadata": {},
   "source": [
    "## 디스크립터로 접근하면 메서드 처리 "
   ]
  },
  {
   "cell_type": "code",
   "execution_count": 36,
   "id": "996c1aee",
   "metadata": {},
   "outputs": [],
   "source": [
    "add_method = add.__get__(100)"
   ]
  },
  {
   "cell_type": "code",
   "execution_count": 37,
   "id": "e4685eac",
   "metadata": {},
   "outputs": [
    {
     "data": {
      "text/plain": [
       "<bound method add of 100>"
      ]
     },
     "execution_count": 37,
     "metadata": {},
     "output_type": "execute_result"
    }
   ],
   "source": [
    "add_method"
   ]
  },
  {
   "cell_type": "markdown",
   "id": "16872662",
   "metadata": {},
   "source": [
    "## 인스턴스 메서드로 변환"
   ]
  },
  {
   "cell_type": "code",
   "execution_count": 39,
   "id": "bd950dd1",
   "metadata": {},
   "outputs": [
    {
     "data": {
      "text/plain": [
       "True"
      ]
     },
     "execution_count": 39,
     "metadata": {},
     "output_type": "execute_result"
    }
   ],
   "source": [
    "type(add_method) == types.MethodType"
   ]
  },
  {
   "cell_type": "code",
   "execution_count": null,
   "id": "942d6fb4",
   "metadata": {},
   "outputs": [],
   "source": []
  },
  {
   "cell_type": "code",
   "execution_count": 38,
   "id": "75512718",
   "metadata": {},
   "outputs": [
    {
     "data": {
      "text/plain": [
       "(100, <function __main__.add(a, b)>)"
      ]
     },
     "execution_count": 38,
     "metadata": {},
     "output_type": "execute_result"
    }
   ],
   "source": [
    "add_method.__self__, add_method.__func__"
   ]
  },
  {
   "cell_type": "markdown",
   "id": "348fc959",
   "metadata": {},
   "source": [
    "## 바인딩 하지 않으려면 "
   ]
  },
  {
   "cell_type": "code",
   "execution_count": 7,
   "id": "315c9663",
   "metadata": {},
   "outputs": [
    {
     "data": {
      "text/plain": [
       "<function __main__.add(x, y)>"
      ]
     },
     "execution_count": 7,
     "metadata": {},
     "output_type": "execute_result"
    }
   ],
   "source": [
    "add.__get__(None,add)"
   ]
  },
  {
   "cell_type": "markdown",
   "id": "4deb3c19",
   "metadata": {},
   "source": [
    "## 함수를 함수 클래스 객체로 처리하기 "
   ]
  },
  {
   "cell_type": "code",
   "execution_count": 11,
   "id": "881c0b2b",
   "metadata": {},
   "outputs": [
    {
     "name": "stdout",
     "output_type": "stream",
     "text": [
      "5\n"
     ]
    }
   ],
   "source": [
    "import types\n",
    "\n",
    "\n",
    "\n",
    "# types.FunctionType을 사용하여 함수 객체를 생성\n",
    "function_object = types.FunctionType(add.__code__, globals(),\"add\")\n",
    "\n",
    "# 함수 호출\n",
    "result = function_object(2, 3)\n",
    "print(result)  # 출력: 5\n"
   ]
  },
  {
   "cell_type": "markdown",
   "id": "ecc75fb1",
   "metadata": {},
   "source": [
    "## 함수를 컴파일해서 사용하기 "
   ]
  },
  {
   "cell_type": "code",
   "execution_count": 32,
   "id": "d4187b12",
   "metadata": {},
   "outputs": [
    {
     "name": "stdout",
     "output_type": "stream",
     "text": [
      "Hello, John\n"
     ]
    }
   ],
   "source": [
    "# 함수 정의를 문자열로 작성\n",
    "function_code = '''\n",
    "def greet(name):\n",
    "    return \"Hello, \" + name\n",
    "'''\n",
    "\n",
    "# compile 함수를 사용하여 함수 코드를 컴파일\n",
    "compiled_code = compile(function_code, '<string>', 'exec')\n",
    "\n",
    "# 함수를 실행 가능한 코드로 실행\n",
    "namespace = {}\n",
    "exec(compiled_code, namespace)\n",
    "\n",
    "# 함수 호출\n",
    "greet_function = namespace['greet']\n",
    "result = greet_function('John')\n",
    "print(result)  # 출력: \"Hello, John\"\n"
   ]
  },
  {
   "cell_type": "code",
   "execution_count": null,
   "id": "4bac39f7",
   "metadata": {},
   "outputs": [],
   "source": []
  }
 ],
 "metadata": {
  "kernelspec": {
   "display_name": "Python 3 (ipykernel)",
   "language": "python",
   "name": "python3"
  },
  "language_info": {
   "codemirror_mode": {
    "name": "ipython",
    "version": 3
   },
   "file_extension": ".py",
   "mimetype": "text/x-python",
   "name": "python",
   "nbconvert_exporter": "python",
   "pygments_lexer": "ipython3",
   "version": "3.11.3"
  }
 },
 "nbformat": 4,
 "nbformat_minor": 5
}
