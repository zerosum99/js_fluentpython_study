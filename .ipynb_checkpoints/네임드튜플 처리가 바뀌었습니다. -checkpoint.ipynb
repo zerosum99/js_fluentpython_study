{
 "cells": [
  {
   "cell_type": "code",
   "execution_count": null,
   "id": "e8eb92ee",
   "metadata": {},
   "outputs": [],
   "source": []
  },
  {
   "cell_type": "code",
   "execution_count": 1,
   "id": "283be227",
   "metadata": {},
   "outputs": [],
   "source": [
    "import platform"
   ]
  },
  {
   "cell_type": "code",
   "execution_count": 2,
   "id": "56e8144a",
   "metadata": {},
   "outputs": [
    {
     "data": {
      "text/plain": [
       "'3.11.3'"
      ]
     },
     "execution_count": 2,
     "metadata": {},
     "output_type": "execute_result"
    }
   ],
   "source": [
    "platform.python_version()"
   ]
  },
  {
   "cell_type": "code",
   "execution_count": null,
   "id": "8b15879b",
   "metadata": {},
   "outputs": [],
   "source": []
  },
  {
   "cell_type": "code",
   "execution_count": 10,
   "id": "baebe685",
   "metadata": {},
   "outputs": [],
   "source": [
    "class X :\n",
    "    pass"
   ]
  },
  {
   "cell_type": "code",
   "execution_count": 11,
   "id": "5c03a579",
   "metadata": {},
   "outputs": [
    {
     "data": {
      "text/plain": [
       "type"
      ]
     },
     "execution_count": 11,
     "metadata": {},
     "output_type": "execute_result"
    }
   ],
   "source": [
    "X.__class__"
   ]
  },
  {
   "cell_type": "code",
   "execution_count": 12,
   "id": "9d3dd898",
   "metadata": {},
   "outputs": [
    {
     "data": {
      "text/plain": [
       "object"
      ]
     },
     "execution_count": 12,
     "metadata": {},
     "output_type": "execute_result"
    }
   ],
   "source": [
    "X.__class__.__base__"
   ]
  },
  {
   "cell_type": "code",
   "execution_count": 13,
   "id": "f5eec06e",
   "metadata": {},
   "outputs": [
    {
     "data": {
      "text/plain": [
       "object"
      ]
     },
     "execution_count": 13,
     "metadata": {},
     "output_type": "execute_result"
    }
   ],
   "source": [
    "X.__base__"
   ]
  },
  {
   "cell_type": "code",
   "execution_count": 14,
   "id": "93c489a3",
   "metadata": {},
   "outputs": [
    {
     "data": {
      "text/plain": [
       "(object,)"
      ]
     },
     "execution_count": 14,
     "metadata": {},
     "output_type": "execute_result"
    }
   ],
   "source": [
    "X.__bases__"
   ]
  },
  {
   "cell_type": "code",
   "execution_count": null,
   "id": "894dd6ac",
   "metadata": {},
   "outputs": [],
   "source": []
  },
  {
   "cell_type": "code",
   "execution_count": 15,
   "id": "23d9fa4b",
   "metadata": {},
   "outputs": [],
   "source": [
    "import functools"
   ]
  },
  {
   "cell_type": "code",
   "execution_count": 24,
   "id": "874230da",
   "metadata": {},
   "outputs": [
    {
     "name": "stdout",
     "output_type": "stream",
     "text": [
      "_tuplegetter(0, 'Alias for field number 0')\n"
     ]
    }
   ],
   "source": [
    "import functools\n",
    "\n",
    "ABC = functools.namedtuple('ABC', ['a','b','c'])\n",
    "\n",
    "print(ABC.a)"
   ]
  },
  {
   "cell_type": "code",
   "execution_count": 37,
   "id": "320a50b4",
   "metadata": {},
   "outputs": [
    {
     "name": "stdout",
     "output_type": "stream",
     "text": [
      "Help on _tuplegetter:\n",
      "\n",
      "    Alias for field number 0\n",
      "\n"
     ]
    }
   ],
   "source": [
    "help(ABC.a)"
   ]
  },
  {
   "cell_type": "code",
   "execution_count": null,
   "id": "b9720556",
   "metadata": {},
   "outputs": [],
   "source": []
  },
  {
   "cell_type": "code",
   "execution_count": 34,
   "id": "f0402092",
   "metadata": {},
   "outputs": [],
   "source": [
    "a_ = ABC(1,2,3)"
   ]
  },
  {
   "cell_type": "code",
   "execution_count": 36,
   "id": "a498adb7",
   "metadata": {},
   "outputs": [
    {
     "ename": "AttributeError",
     "evalue": "'ABC' object has no attribute '_tuplegetter'",
     "output_type": "error",
     "traceback": [
      "\u001b[0;31m---------------------------------------------------------------------------\u001b[0m",
      "\u001b[0;31mAttributeError\u001b[0m                            Traceback (most recent call last)",
      "Cell \u001b[0;32mIn[36], line 1\u001b[0m\n\u001b[0;32m----> 1\u001b[0m \u001b[43ma_\u001b[49m\u001b[38;5;241;43m.\u001b[39;49m\u001b[38;5;21;43m__getattribute__\u001b[39;49m\u001b[43m(\u001b[49m\u001b[38;5;124;43m\"\u001b[39;49m\u001b[38;5;124;43m_tuplegetter\u001b[39;49m\u001b[38;5;124;43m\"\u001b[39;49m\u001b[43m)\u001b[49m(\u001b[38;5;241m0\u001b[39m)\n",
      "\u001b[0;31mAttributeError\u001b[0m: 'ABC' object has no attribute '_tuplegetter'"
     ]
    }
   ],
   "source": [
    "a_.__getattribute__(\"_tuplegetter\")(0)"
   ]
  },
  {
   "cell_type": "code",
   "execution_count": null,
   "id": "bed341b8",
   "metadata": {},
   "outputs": [],
   "source": []
  },
  {
   "cell_type": "code",
   "execution_count": 21,
   "id": "cb228c49",
   "metadata": {},
   "outputs": [
    {
     "data": {
      "text/plain": [
       "['__add__',\n",
       " '__class__',\n",
       " '__class_getitem__',\n",
       " '__contains__',\n",
       " '__delattr__',\n",
       " '__dir__',\n",
       " '__doc__',\n",
       " '__eq__',\n",
       " '__format__',\n",
       " '__ge__',\n",
       " '__getattribute__',\n",
       " '__getitem__',\n",
       " '__getnewargs__',\n",
       " '__getstate__',\n",
       " '__gt__',\n",
       " '__hash__',\n",
       " '__init__',\n",
       " '__init_subclass__',\n",
       " '__iter__',\n",
       " '__le__',\n",
       " '__len__',\n",
       " '__lt__',\n",
       " '__match_args__',\n",
       " '__module__',\n",
       " '__mul__',\n",
       " '__ne__',\n",
       " '__new__',\n",
       " '__reduce__',\n",
       " '__reduce_ex__',\n",
       " '__repr__',\n",
       " '__rmul__',\n",
       " '__setattr__',\n",
       " '__sizeof__',\n",
       " '__slots__',\n",
       " '__str__',\n",
       " '__subclasshook__',\n",
       " '_asdict',\n",
       " '_field_defaults',\n",
       " '_fields',\n",
       " '_make',\n",
       " '_replace',\n",
       " 'a',\n",
       " 'b',\n",
       " 'c',\n",
       " 'count',\n",
       " 'index']"
      ]
     },
     "execution_count": 21,
     "metadata": {},
     "output_type": "execute_result"
    }
   ],
   "source": [
    "dir(ABC)"
   ]
  },
  {
   "cell_type": "code",
   "execution_count": 22,
   "id": "415ea619",
   "metadata": {},
   "outputs": [
    {
     "data": {
      "text/plain": [
       "_tuplegetter(0, 'Alias for field number 0')"
      ]
     },
     "execution_count": 22,
     "metadata": {},
     "output_type": "execute_result"
    }
   ],
   "source": [
    "ABC.a"
   ]
  },
  {
   "cell_type": "code",
   "execution_count": 25,
   "id": "531ea556",
   "metadata": {},
   "outputs": [],
   "source": [
    "import typing"
   ]
  },
  {
   "cell_type": "code",
   "execution_count": 33,
   "id": "574f8c86",
   "metadata": {},
   "outputs": [
    {
     "name": "stdout",
     "output_type": "stream",
     "text": [
      "_tuplegetter(0, 'Alias for field number 0')\n"
     ]
    }
   ],
   "source": [
    "import typing\n",
    "\n",
    "ABCD = typing.NamedTuple('ABCD',name=str, id=int)\n",
    "\n",
    "print(ABCD.name)"
   ]
  },
  {
   "cell_type": "code",
   "execution_count": 31,
   "id": "d24d2024",
   "metadata": {},
   "outputs": [
    {
     "data": {
      "text/plain": [
       "['__add__',\n",
       " '__annotations__',\n",
       " '__class__',\n",
       " '__class_getitem__',\n",
       " '__contains__',\n",
       " '__delattr__',\n",
       " '__dir__',\n",
       " '__doc__',\n",
       " '__eq__',\n",
       " '__format__',\n",
       " '__ge__',\n",
       " '__getattribute__',\n",
       " '__getitem__',\n",
       " '__getnewargs__',\n",
       " '__getstate__',\n",
       " '__gt__',\n",
       " '__hash__',\n",
       " '__init__',\n",
       " '__init_subclass__',\n",
       " '__iter__',\n",
       " '__le__',\n",
       " '__len__',\n",
       " '__lt__',\n",
       " '__match_args__',\n",
       " '__module__',\n",
       " '__mul__',\n",
       " '__ne__',\n",
       " '__new__',\n",
       " '__reduce__',\n",
       " '__reduce_ex__',\n",
       " '__repr__',\n",
       " '__rmul__',\n",
       " '__setattr__',\n",
       " '__sizeof__',\n",
       " '__slots__',\n",
       " '__str__',\n",
       " '__subclasshook__',\n",
       " '_asdict',\n",
       " '_field_defaults',\n",
       " '_fields',\n",
       " '_make',\n",
       " '_replace',\n",
       " 'count',\n",
       " 'id',\n",
       " 'index',\n",
       " 'name']"
      ]
     },
     "execution_count": 31,
     "metadata": {},
     "output_type": "execute_result"
    }
   ],
   "source": [
    "dir(ABCD)"
   ]
  },
  {
   "cell_type": "code",
   "execution_count": null,
   "id": "62a499b5",
   "metadata": {},
   "outputs": [],
   "source": []
  },
  {
   "cell_type": "code",
   "execution_count": 28,
   "id": "938b3660",
   "metadata": {},
   "outputs": [
    {
     "name": "stdout",
     "output_type": "stream",
     "text": [
      "Help on function NamedTuple in module typing:\n",
      "\n",
      "NamedTuple(typename, fields=None, /, **kwargs)\n",
      "    Typed version of namedtuple.\n",
      "    \n",
      "    Usage in Python versions >= 3.6::\n",
      "    \n",
      "        class Employee(NamedTuple):\n",
      "            name: str\n",
      "            id: int\n",
      "    \n",
      "    This is equivalent to::\n",
      "    \n",
      "        Employee = collections.namedtuple('Employee', ['name', 'id'])\n",
      "    \n",
      "    The resulting class has an extra __annotations__ attribute, giving a\n",
      "    dict that maps field names to types.  (The field names are also in\n",
      "    the _fields attribute, which is part of the namedtuple API.)\n",
      "    Alternative equivalent keyword syntax is also accepted::\n",
      "    \n",
      "        Employee = NamedTuple('Employee', name=str, id=int)\n",
      "    \n",
      "    In Python versions <= 3.5 use::\n",
      "    \n",
      "        Employee = NamedTuple('Employee', [('name', str), ('id', int)])\n",
      "\n"
     ]
    }
   ],
   "source": [
    "help(typing.NamedTuple)"
   ]
  },
  {
   "cell_type": "code",
   "execution_count": null,
   "id": "77600a6a",
   "metadata": {},
   "outputs": [],
   "source": []
  },
  {
   "cell_type": "code",
   "execution_count": 39,
   "id": "2a55cec6",
   "metadata": {},
   "outputs": [
    {
     "name": "stdout",
     "output_type": "stream",
     "text": [
      "['Alice', 'Bob', 'Charlie']\n"
     ]
    }
   ],
   "source": [
    "\n",
    "\n",
    "from operator import itemgetter\n",
    "from collections import namedtuple\n",
    "\n",
    "# Create a named tuple\n",
    "Person = namedtuple('Person', ['name', 'age', 'city'])\n",
    "\n",
    "# Create a list of persons\n",
    "people = [\n",
    "    Person(name='Alice', age=25, city='New York'),\n",
    "    Person(name='Bob', age=30, city='San Francisco'),\n",
    "    Person(name='Charlie', age=22, city='Los Angeles'),\n",
    "]\n",
    "\n",
    "# Create a callable to get the name (index 0) from the tuple\n",
    "get_name = itemgetter(0)\n",
    "\n",
    "# Apply the callable to each person in the list\n",
    "names = map(get_name, people)\n",
    "\n",
    "# Print the names\n",
    "print(list(names))"
   ]
  },
  {
   "cell_type": "code",
   "execution_count": null,
   "id": "4ca4df93",
   "metadata": {},
   "outputs": [],
   "source": []
  },
  {
   "cell_type": "code",
   "execution_count": 41,
   "id": "409c32bb",
   "metadata": {},
   "outputs": [
    {
     "data": {
      "text/plain": [
       "['__call__',\n",
       " '__class__',\n",
       " '__delattr__',\n",
       " '__dir__',\n",
       " '__doc__',\n",
       " '__eq__',\n",
       " '__format__',\n",
       " '__ge__',\n",
       " '__getattribute__',\n",
       " '__getstate__',\n",
       " '__gt__',\n",
       " '__hash__',\n",
       " '__init__',\n",
       " '__init_subclass__',\n",
       " '__le__',\n",
       " '__lt__',\n",
       " '__module__',\n",
       " '__ne__',\n",
       " '__new__',\n",
       " '__reduce__',\n",
       " '__reduce_ex__',\n",
       " '__repr__',\n",
       " '__setattr__',\n",
       " '__sizeof__',\n",
       " '__str__',\n",
       " '__subclasshook__',\n",
       " '__vectorcalloffset__']"
      ]
     },
     "execution_count": 41,
     "metadata": {},
     "output_type": "execute_result"
    }
   ],
   "source": [
    "dir(itemgetter)"
   ]
  },
  {
   "cell_type": "code",
   "execution_count": 40,
   "id": "cd033b2e",
   "metadata": {},
   "outputs": [
    {
     "name": "stdout",
     "output_type": "stream",
     "text": [
      "Help on class itemgetter in module operator:\n",
      "\n",
      "class itemgetter(builtins.object)\n",
      " |  itemgetter(item, ...) --> itemgetter object\n",
      " |  \n",
      " |  Return a callable object that fetches the given item(s) from its operand.\n",
      " |  After f = itemgetter(2), the call f(r) returns r[2].\n",
      " |  After g = itemgetter(2, 5, 3), the call g(r) returns (r[2], r[5], r[3])\n",
      " |  \n",
      " |  Methods defined here:\n",
      " |  \n",
      " |  __call__(self, /, *args, **kwargs)\n",
      " |      Call self as a function.\n",
      " |  \n",
      " |  __getattribute__(self, name, /)\n",
      " |      Return getattr(self, name).\n",
      " |  \n",
      " |  __reduce__(...)\n",
      " |      Return state information for pickling\n",
      " |  \n",
      " |  __repr__(self, /)\n",
      " |      Return repr(self).\n",
      " |  \n",
      " |  ----------------------------------------------------------------------\n",
      " |  Static methods defined here:\n",
      " |  \n",
      " |  __new__(*args, **kwargs) from builtins.type\n",
      " |      Create and return a new object.  See help(type) for accurate signature.\n",
      " |  \n",
      " |  ----------------------------------------------------------------------\n",
      " |  Data descriptors defined here:\n",
      " |  \n",
      " |  __vectorcalloffset__\n",
      "\n"
     ]
    }
   ],
   "source": [
    "help(itemgetter)"
   ]
  },
  {
   "cell_type": "code",
   "execution_count": 42,
   "id": "1a95630b",
   "metadata": {},
   "outputs": [],
   "source": [
    "import typing"
   ]
  },
  {
   "cell_type": "code",
   "execution_count": 49,
   "id": "154621e6",
   "metadata": {},
   "outputs": [
    {
     "name": "stdout",
     "output_type": "stream",
     "text": [
      "_tuplegetter(0, 'Alias for field number 0')\n",
      "<method-wrapper '__get__' of _collections._tuplegetter object at 0x107f90dc0>\n"
     ]
    }
   ],
   "source": [
    "import typing\n",
    "\n",
    "class Pt(typing.NamedTuple):\n",
    "            x: int\n",
    "            y: int\n",
    "\n",
    "print(vars(Pt)['x'])\n",
    "print(vars(Pt)['x'].__get__)"
   ]
  },
  {
   "cell_type": "code",
   "execution_count": 45,
   "id": "dcb3271d",
   "metadata": {},
   "outputs": [
    {
     "data": {
      "text/plain": [
       "_tuplegetter(0, 'Alias for field number 0')"
      ]
     },
     "execution_count": 45,
     "metadata": {},
     "output_type": "execute_result"
    }
   ],
   "source": [
    "vars(Pt)['x']"
   ]
  },
  {
   "cell_type": "code",
   "execution_count": 47,
   "id": "0b4df9b9",
   "metadata": {},
   "outputs": [
    {
     "data": {
      "text/plain": [
       "<method-wrapper '__get__' of _collections._tuplegetter object at 0x107ee7dc0>"
      ]
     },
     "execution_count": 47,
     "metadata": {},
     "output_type": "execute_result"
    }
   ],
   "source": [
    "vars(Pt)['x'].__get__"
   ]
  },
  {
   "cell_type": "code",
   "execution_count": null,
   "id": "3cf27010",
   "metadata": {},
   "outputs": [],
   "source": []
  },
  {
   "cell_type": "code",
   "execution_count": null,
   "id": "54aaa169",
   "metadata": {},
   "outputs": [],
   "source": []
  },
  {
   "cell_type": "code",
   "execution_count": 50,
   "id": "ed200b8a",
   "metadata": {},
   "outputs": [],
   "source": [
    "class Descriptor:\n",
    "    def __set_name__(self, owner, name):\n",
    "        # __set_name__ 메서드를 통해 속성 이름을 알 수 있음\n",
    "        self.name = \"_\" + name\n",
    "\n",
    "    def __get__(self, instance, owner):\n",
    "        if instance is None:\n",
    "            return self  # 클래스 자체에서 디스크립터에 접근할 때\n",
    "        print(f\"Getting the value of {self.name} in {owner.__name__} instance\")\n",
    "        return instance.__dict__[self.name]\n",
    "\n",
    "    def __set__(self, instance, value):\n",
    "        print(f\"Setting the value of {self.name} in the instance\")\n",
    "        instance.__dict__[self.name] = value\n",
    "\n",
    "    def __delete__(self, instance):\n",
    "        print(f\"Deleting the attribute {self.name} from the instance\")\n",
    "        del instance.__dict__[self.name]"
   ]
  },
  {
   "cell_type": "code",
   "execution_count": 60,
   "id": "60dc6534",
   "metadata": {},
   "outputs": [
    {
     "name": "stdout",
     "output_type": "stream",
     "text": [
      "Help on built-in function setattr in module builtins:\n",
      "\n",
      "setattr(obj, name, value, /)\n",
      "    Sets the named attribute on the given object to the specified value.\n",
      "    \n",
      "    setattr(x, 'y', v) is equivalent to ``x.y = v``\n",
      "\n"
     ]
    }
   ],
   "source": [
    "help(setattr)"
   ]
  },
  {
   "cell_type": "code",
   "execution_count": 56,
   "id": "d289dcbd",
   "metadata": {},
   "outputs": [],
   "source": [
    "def NameT(cls_name, var_list) :\n",
    "    field = {i : Descriptor() for i in var_list}\n",
    "    \n",
    "    def __init__(self,*args) :\n",
    "        for i in range(len(args)) : \n",
    "            setattr(self, field.keys()[i],args[i])\n",
    "    \n",
    "    aaa = type(cls_name,(object,), field)\n",
    "    return aaa"
   ]
  },
  {
   "cell_type": "code",
   "execution_count": 58,
   "id": "bb44294a",
   "metadata": {},
   "outputs": [],
   "source": [
    "AAA = NameT(\"AAA\",['x','y'])"
   ]
  },
  {
   "cell_type": "code",
   "execution_count": 59,
   "id": "1fa5ff7c",
   "metadata": {},
   "outputs": [
    {
     "data": {
      "text/plain": [
       "mappingproxy({'x': <__main__.Descriptor at 0x107dca9d0>,\n",
       "              'y': <__main__.Descriptor at 0x107dcb050>,\n",
       "              '__module__': '__main__',\n",
       "              '__dict__': <attribute '__dict__' of 'AAA' objects>,\n",
       "              '__weakref__': <attribute '__weakref__' of 'AAA' objects>,\n",
       "              '__doc__': None})"
      ]
     },
     "execution_count": 59,
     "metadata": {},
     "output_type": "execute_result"
    }
   ],
   "source": [
    "AAA.__dict__"
   ]
  },
  {
   "cell_type": "code",
   "execution_count": null,
   "id": "1b04bd59",
   "metadata": {},
   "outputs": [],
   "source": []
  },
  {
   "cell_type": "code",
   "execution_count": 51,
   "id": "e7de153c",
   "metadata": {},
   "outputs": [],
   "source": [
    "class A :\n",
    "    x = Descriptor()\n",
    "    y = Descriptor()"
   ]
  },
  {
   "cell_type": "code",
   "execution_count": 52,
   "id": "5aa45527",
   "metadata": {},
   "outputs": [],
   "source": [
    "a = A()"
   ]
  },
  {
   "cell_type": "code",
   "execution_count": 53,
   "id": "c18ee751",
   "metadata": {},
   "outputs": [
    {
     "name": "stdout",
     "output_type": "stream",
     "text": [
      "Setting the value of _x in the instance\n"
     ]
    }
   ],
   "source": [
    "a.x = 100"
   ]
  },
  {
   "cell_type": "code",
   "execution_count": 54,
   "id": "1b0b332f",
   "metadata": {},
   "outputs": [
    {
     "name": "stdout",
     "output_type": "stream",
     "text": [
      "Setting the value of _y in the instance\n"
     ]
    }
   ],
   "source": [
    "a.y = 200"
   ]
  },
  {
   "cell_type": "code",
   "execution_count": 55,
   "id": "87666ea5",
   "metadata": {},
   "outputs": [
    {
     "data": {
      "text/plain": [
       "{'_x': 100, '_y': 200}"
      ]
     },
     "execution_count": 55,
     "metadata": {},
     "output_type": "execute_result"
    }
   ],
   "source": [
    "a.__dict__"
   ]
  },
  {
   "cell_type": "code",
   "execution_count": null,
   "id": "5c54e730",
   "metadata": {},
   "outputs": [],
   "source": []
  }
 ],
 "metadata": {
  "kernelspec": {
   "display_name": "Python 3 (ipykernel)",
   "language": "python",
   "name": "python3"
  },
  "language_info": {
   "codemirror_mode": {
    "name": "ipython",
    "version": 3
   },
   "file_extension": ".py",
   "mimetype": "text/x-python",
   "name": "python",
   "nbconvert_exporter": "python",
   "pygments_lexer": "ipython3",
   "version": "3.11.3"
  }
 },
 "nbformat": 4,
 "nbformat_minor": 5
}
