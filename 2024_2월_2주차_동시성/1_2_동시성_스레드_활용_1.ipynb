{
 "cells": [
  {
   "cell_type": "markdown",
   "id": "d948ccb0",
   "metadata": {},
   "source": [
    "## 파이썬 버전"
   ]
  },
  {
   "cell_type": "code",
   "execution_count": 1,
   "id": "b0e2e6a5",
   "metadata": {},
   "outputs": [
    {
     "data": {
      "text/plain": [
       "'3.11.3'"
      ]
     },
     "execution_count": 1,
     "metadata": {},
     "output_type": "execute_result"
    }
   ],
   "source": [
    "import platform\n",
    "\n",
    "platform.python_version()"
   ]
  },
  {
   "cell_type": "code",
   "execution_count": null,
   "id": "8d76a238",
   "metadata": {},
   "outputs": [],
   "source": []
  },
  {
   "cell_type": "markdown",
   "id": "ebce38c4",
   "metadata": {},
   "source": [
    "\n",
    "## 프로세스와 스레드 \n",
    "\n",
    "- 모두 병행성(Concurrency)을 구현하기 위한 개념이지만, 각각의 특징과 용도에는 몇 가지 중요한 차이점이 있습니다.\n",
    "\n",
    "### 프로세스(Process):\n",
    "\n",
    "- 운영체제에서 실행 중인 프로그램으로, 독립적인 메모리 공간을 가집니다.\n",
    "- 각 프로세스는 자신만의 주소 공간을 가지며, 프로세스 간 데이터 공유는 별도의 메커니즘(Inter Process Communication, IPC)을 사용해야 합니다.\n",
    "- 프로세스 간 통신은 비용이 높고 복잡합니다.\n",
    "- 각 프로세스는 최소 하나의 스레드를 가집니다(주로 메인 스레드).\n",
    "- 프로세스 간 독립적인 실행 환경을 제공하므로 안정성이 높습니다.\n",
    "\n",
    "\n",
    "### 스레드(Thread):\n",
    "\n",
    "- 프로세스 내에서 실행되는 실행 단위로, 프로세스의 주소 공간을 공유합니다.\n",
    "- 스레드는 프로세스 내의 자원을 공유하며, 스레드 간 통신은 변수를 공유하거나 동기화 메커니즘을 사용하여 이루어집니다.\n",
    "- 스레드 간 통신은 비교적 저렴하고 간단합니다.\n",
    "- 여러 스레드가 동시에 실행될 수 있기 때문에 주의가 필요하며, 공유 자원에 대한 동기화 문제가 발생할 수 있습니다.\n",
    "\n",
    "### 주요 차이점은 \n",
    "- 프로세스는 독립적인 메모리 공간을 가지고 실행되는 반면, \n",
    "- 스레드는 같은 프로세스 내에서 실행되면서 메모리 공간을 공유한다는 점입니다. \n",
    "- 프로세스 간 통신이 필요한 경우에는 프로세스를 사용하고, \n",
    "- 프로세스 내에서 작은 작업을 분리하거나 동시에 실행해야 할 때는 스레드를 사용하는 것이 일반적입니다."
   ]
  },
  {
   "cell_type": "code",
   "execution_count": null,
   "id": "07c61575",
   "metadata": {},
   "outputs": [],
   "source": []
  },
  {
   "cell_type": "code",
   "execution_count": null,
   "id": "1d3bbaed",
   "metadata": {},
   "outputs": [],
   "source": []
  },
  {
   "cell_type": "markdown",
   "id": "d75aead6",
   "metadata": {},
   "source": [
    "## 필요한 모듈 import 하기"
   ]
  },
  {
   "cell_type": "code",
   "execution_count": 29,
   "id": "d2bbaeb8",
   "metadata": {},
   "outputs": [],
   "source": [
    "import threading\n",
    "import time\n",
    "import random\n",
    "import sys\n",
    "import multiprocessing"
   ]
  },
  {
   "cell_type": "code",
   "execution_count": null,
   "id": "bf288b13",
   "metadata": {},
   "outputs": [],
   "source": []
  },
  {
   "cell_type": "code",
   "execution_count": null,
   "id": "1fb3b3c5",
   "metadata": {},
   "outputs": [],
   "source": []
  },
  {
   "cell_type": "markdown",
   "id": "abc7fec5",
   "metadata": {},
   "source": [
    "## 4. 스레드간 데이터 공유\n",
    "\n",
    "- 스레드 간에 데이터를 안전하게 전달하기 위해서는 threading 모듈에서 제공하는 Lock 및 Queue와 같은 도구를 사용할 수 있습니다. \n",
    "- 여러 스레드에서 공유되는 데이터에 대한 안전성을 보장하기 위해 동기화 메커니즘이 필요합니다.\n",
    "\n",
    "- threading.Lock을 사용하여 데이터에 대한 접근을 동기화하고, queue.Queue를 사용하여 스레드 간 데이터 전달을 구현합니다."
   ]
  },
  {
   "cell_type": "markdown",
   "id": "2ef84dd7",
   "metadata": {},
   "source": [
    "## 4-1 두 개의 스레드 간의 데이터 공유"
   ]
  },
  {
   "cell_type": "code",
   "execution_count": 98,
   "id": "e45be461",
   "metadata": {},
   "outputs": [],
   "source": [
    "import queue"
   ]
  },
  {
   "cell_type": "code",
   "execution_count": null,
   "id": "c0a217f0",
   "metadata": {},
   "outputs": [],
   "source": []
  },
  {
   "cell_type": "code",
   "execution_count": 97,
   "id": "cd4e0ccc",
   "metadata": {},
   "outputs": [],
   "source": [
    "def producer(queue, lock):\n",
    "    for i in range(5):\n",
    "        time.sleep(1)\n",
    "        with lock:\n",
    "            print(f\"Producing {i}\")\n",
    "            # 큐에 정보를 전달 \n",
    "            queue.put(i)\n",
    "\n",
    "def consumer(queue, lock):\n",
    "    while True:\n",
    "        time.sleep(1)\n",
    "        with lock:\n",
    "            if not queue.empty():\n",
    "                # 큐에 정보를 처리\n",
    "                item = queue.get()\n",
    "                print(f\"Consuming {item}\")\n",
    "            else:\n",
    "                break"
   ]
  },
  {
   "cell_type": "code",
   "execution_count": null,
   "id": "f1851e33",
   "metadata": {},
   "outputs": [],
   "source": []
  },
  {
   "cell_type": "code",
   "execution_count": 99,
   "id": "dbe80ad1",
   "metadata": {},
   "outputs": [
    {
     "name": "stdout",
     "output_type": "stream",
     "text": [
      "Producing 0\n",
      "Consuming 0\n",
      "Producing 1\n",
      "Consuming 1\n",
      "Producing 2\n",
      "Consuming 2\n",
      "Producing 3\n",
      "Producing 4\n",
      "Both threads are completed\n"
     ]
    }
   ],
   "source": [
    "if __name__ == \"__main__\":\n",
    "    \n",
    "    # 큐 생성\n",
    "    shared_queue = queue.Queue()\n",
    "    \n",
    "    # 스레드 락 \n",
    "    shared_lock = threading.Lock()\n",
    "\n",
    "    # Producer 스레드 시작\n",
    "    producer_thread = threading.Thread(target=producer, args=(shared_queue, shared_lock))\n",
    "    producer_thread.start()\n",
    "\n",
    "    # Consumer 스레드 시작\n",
    "    consumer_thread = threading.Thread(target=consumer, args=(shared_queue, shared_lock))\n",
    "    consumer_thread.start()\n",
    "\n",
    "    # 각 스레드가 완료될 때까지 대기\n",
    "    producer_thread.join()\n",
    "    consumer_thread.join()\n",
    "\n",
    "    print(\"Both threads are completed\")\n"
   ]
  },
  {
   "cell_type": "code",
   "execution_count": null,
   "id": "9d4ddd99",
   "metadata": {},
   "outputs": [],
   "source": []
  },
  {
   "cell_type": "markdown",
   "id": "173782d5",
   "metadata": {},
   "source": []
  },
  {
   "cell_type": "markdown",
   "id": "79436182",
   "metadata": {},
   "source": [
    "## 5 여러 스레드 만들어서 실행해보기  \n",
    "\n",
    "-  함수 정의\n",
    "- 스레드 내에 함수 지정\n",
    "- 스레드 시작과 조인 "
   ]
  },
  {
   "cell_type": "markdown",
   "id": "45c27c5b",
   "metadata": {},
   "source": [
    "### 스레드에 들어갈 함수 정의"
   ]
  },
  {
   "cell_type": "code",
   "execution_count": 1,
   "id": "f8af82cc",
   "metadata": {},
   "outputs": [],
   "source": [
    "def executeThread(i) :\n",
    "    print(f\"Thread {i} started\")\n",
    "    sleepTime = random.randint(1,10)\n",
    "    time.sleep(sleepTime)\n",
    "    print(f\"Thread sleep {sleepTime} \")"
   ]
  },
  {
   "cell_type": "markdown",
   "id": "42196c75",
   "metadata": {},
   "source": [
    "### 스레드 시작 및 종료"
   ]
  },
  {
   "cell_type": "code",
   "execution_count": 4,
   "id": "a4f63d4d",
   "metadata": {},
   "outputs": [
    {
     "name": "stdout",
     "output_type": "stream",
     "text": [
      "Thread 0 startedThread 1 started\n",
      "\n",
      "Thread 2 started\n",
      "Thread 3 started\n",
      "Thread 4 started\n",
      "Thread 5 started\n",
      "Thread 6 started\n",
      "Thread 7 started\n",
      "Thread 8 started\n",
      "Thread 9 started\n",
      "Active Threads [<_MainThread(MainThread, started 7978636032)>, <Thread(IOPub, started daemon 6111883264)>, <Heartbeat(Heartbeat, started daemon 6128709632)>, <Thread(Thread-3 (_watch_pipe_fd), started daemon 6146682880)>, <Thread(Thread-4 (_watch_pipe_fd), started daemon 6163509248)>, <ControlThread(Control, started daemon 10754224128)>, <HistorySavingThread(IPythonHistorySavingThread, started 10771050496)>, <ParentPollerUnix(Thread-2, started daemon 10787876864)>, <Thread(Thread-5 (executeThread), started 10804703232)>, <Thread(Thread-6 (executeThread), started 10821529600)>, <Thread(Thread-7 (executeThread), started 10838355968)>, <Thread(Thread-8 (executeThread), started 10855182336)>, <Thread(Thread-9 (executeThread), started 10872008704)>, <Thread(Thread-10 (executeThread), started 10888835072)>, <Thread(Thread-11 (executeThread), started 10905661440)>, <Thread(Thread-12 (executeThread), started 10922487808)>, <Thread(Thread-13 (executeThread), started 10939314176)>, <Thread(Thread-14 (executeThread), started 10956140544)>]\n",
      "Thread sleep 1 Thread sleep 1 \n",
      "\n",
      "Thread sleep 3 \n",
      "Thread sleep 5 \n",
      "Thread sleep 5 \n",
      "Thread sleep 7 \n",
      "Thread sleep 7 \n",
      "Thread sleep 7 \n",
      "Thread sleep 8 \n",
      "Thread sleep 10 \n"
     ]
    }
   ],
   "source": [
    "for i in range(10) :\n",
    "    thread = threading.Thread(target=executeThread, args=(i,))\n",
    "    \n",
    "    thread.start()   # 스레드 시작\n",
    "\n",
    "\n",
    "print(\"Active Threads\", threading.enumerate())\n",
    "thread.join()"
   ]
  },
  {
   "cell_type": "code",
   "execution_count": null,
   "id": "01f53e48",
   "metadata": {},
   "outputs": [],
   "source": []
  },
  {
   "cell_type": "markdown",
   "id": "83774e6c",
   "metadata": {},
   "source": [
    "##  6. 스레드별로  함수 지정해서  실행하기 \n",
    "\n",
    "- threading.Thread를 사용하여 각 작업을 별도의 스레드로 만들고, start() 메서드로 각 스레드를 시작합니다. \n",
    "- 그리고 join() 메서드로 각 스레드가 완료될 때까지 기다립니다."
   ]
  },
  {
   "cell_type": "markdown",
   "id": "4bde6376",
   "metadata": {},
   "source": [
    "### 두 개의 작업(task1 및 task2)을 각각의 스레드에서 실행합니다."
   ]
  },
  {
   "cell_type": "code",
   "execution_count": 5,
   "id": "7aa43134",
   "metadata": {},
   "outputs": [],
   "source": [
    "def task1():\n",
    "    for _ in range(5):\n",
    "        print(\"Task 1 is running  \",threading.current_thread(),\" \")\n",
    "        time.sleep(1)\n",
    "\n",
    "def task2():\n",
    "    for _ in range(5):\n",
    "        print(\"Task 2 is running  \",threading.current_thread(), \" \")\n",
    "        time.sleep(1)"
   ]
  },
  {
   "cell_type": "markdown",
   "id": "f33d067d",
   "metadata": {},
   "source": [
    "###  스레드를 2개 만들어서 실행합니다."
   ]
  },
  {
   "cell_type": "code",
   "execution_count": 6,
   "id": "1af003cf",
   "metadata": {},
   "outputs": [
    {
     "name": "stdout",
     "output_type": "stream",
     "text": [
      "main thread :  <_MainThread(MainThread, started 7978636032)>\n",
      "Task 1 is running   <Thread(Thread-15 (task1), started 10804703232)>  \n",
      "Task 2 is running   <Thread(Thread-16 (task2), started 10821529600)>  \n",
      "active count :  10\n",
      "Task 2 is running   <Thread(Thread-16 (task2), started 10821529600)>  \n",
      "Task 1 is running   <Thread(Thread-15 (task1), started 10804703232)>  \n",
      "Task 2 is running   <Thread(Thread-16 (task2), started 10821529600)>  \n",
      "Task 1 is running   <Thread(Thread-15 (task1), started 10804703232)>  \n",
      "Task 2 is running  Task 1 is running   <Thread(Thread-15 (task1), started 10804703232)>  \n",
      " <Thread(Thread-16 (task2), started 10821529600)>  \n",
      "Task 1 is running  Task 2 is running   <Thread(Thread-16 (task2), started 10821529600)>  \n",
      " <Thread(Thread-15 (task1), started 10804703232)>  \n",
      "Both tasks are completed\n"
     ]
    }
   ],
   "source": [
    "if __name__ == \"__main__\":\n",
    "    # 두 개의 스레드 생성\n",
    "    thread1 = threading.Thread(target=task1)\n",
    "    thread2 = threading.Thread(target=task2)\n",
    "    \n",
    "    print(\"main thread : \", threading.main_thread())\n",
    "    # 각각의 스레드 시작\n",
    "    thread1.start()\n",
    "    thread2.start()\n",
    "    print(\"active count : \", threading.active_count())\n",
    "    \n",
    "    # 각각의 스레드가 완료될 때까지 대기\n",
    "    thread1.join()\n",
    "    thread2.join()\n",
    "\n",
    "    print(\"Both tasks are completed\")\n"
   ]
  },
  {
   "cell_type": "code",
   "execution_count": null,
   "id": "4d8c9f97",
   "metadata": {},
   "outputs": [],
   "source": []
  },
  {
   "cell_type": "markdown",
   "id": "c7df92c3",
   "metadata": {},
   "source": [
    "## 스레드 풀을 만들어서 처리하기"
   ]
  },
  {
   "cell_type": "code",
   "execution_count": 1,
   "id": "5e9cf32b",
   "metadata": {},
   "outputs": [
    {
     "name": "stdout",
     "output_type": "stream",
     "text": [
      "Task started: Task 1\n",
      "Task started: Task 2\n",
      "Task started: Task 3\n",
      "Task finished: Task 2\n",
      "Task started: Task 4\n",
      "Task finished: Task 1\n",
      "Task started: Task 5\n",
      "Task finished: Task 3\n",
      "Task finished: Task 4\n",
      "Task finished: Task 5\n",
      "All tasks completed\n"
     ]
    }
   ],
   "source": [
    "import threading\n",
    "import queue\n",
    "import time\n",
    "\n",
    "# 작업을 처리할 함수\n",
    "def worker(task_queue):\n",
    "    while True:\n",
    "        # 큐에서 작업 가져오기\n",
    "        task = task_queue.get()\n",
    "        if task is None:\n",
    "            break\n",
    "        # 작업 처리\n",
    "        print(f\"Task started: {task}\")\n",
    "        time.sleep(2)  # 작업 시뮬레이션을 위해 2초 대기\n",
    "        print(f\"Task finished: {task}\")\n",
    "        task_queue.task_done()\n",
    "\n",
    "if __name__ == \"__main__\":\n",
    "    num_threads = 3  # 사용할 스레드 수\n",
    "    tasks = [\"Task 1\", \"Task 2\", \"Task 3\", \"Task 4\", \"Task 5\"]\n",
    "\n",
    "    # 작업을 담을 큐 생성\n",
    "    task_queue = queue.Queue()\n",
    "\n",
    "    # 스레드 풀 생성 및 실행\n",
    "    threads = []\n",
    "    for _ in range(num_threads):\n",
    "        t = threading.Thread(target=worker, args=(task_queue,))\n",
    "        t.start()\n",
    "        threads.append(t)\n",
    "\n",
    "    # 작업 큐에 작업 추가\n",
    "    for task in tasks:\n",
    "        task_queue.put(task)\n",
    "\n",
    "    # 모든 작업이 끝날 때까지 대기\n",
    "    task_queue.join()\n",
    "\n",
    "    # 스레드 종료\n",
    "    for _ in range(num_threads):\n",
    "        task_queue.put(None)  # 작업이 끝났음을 알리기 위해 None 추가\n",
    "    for t in threads:\n",
    "        t.join()\n",
    "\n",
    "    print(\"All tasks completed\")\n"
   ]
  },
  {
   "cell_type": "code",
   "execution_count": null,
   "id": "f0f39c31",
   "metadata": {},
   "outputs": [],
   "source": []
  },
  {
   "cell_type": "code",
   "execution_count": null,
   "id": "3b00591a",
   "metadata": {},
   "outputs": [],
   "source": []
  },
  {
   "cell_type": "code",
   "execution_count": null,
   "id": "2a7d432f",
   "metadata": {},
   "outputs": [],
   "source": []
  }
 ],
 "metadata": {
  "kernelspec": {
   "display_name": "Python 3 (ipykernel)",
   "language": "python",
   "name": "python3"
  },
  "language_info": {
   "codemirror_mode": {
    "name": "ipython",
    "version": 3
   },
   "file_extension": ".py",
   "mimetype": "text/x-python",
   "name": "python",
   "nbconvert_exporter": "python",
   "pygments_lexer": "ipython3",
   "version": "3.11.3"
  }
 },
 "nbformat": 4,
 "nbformat_minor": 5
}
