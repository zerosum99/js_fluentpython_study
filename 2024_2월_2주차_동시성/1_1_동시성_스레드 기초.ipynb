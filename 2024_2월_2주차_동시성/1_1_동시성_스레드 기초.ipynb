{
 "cells": [
  {
   "cell_type": "markdown",
   "id": "d948ccb0",
   "metadata": {},
   "source": [
    "## 파이썬 버전"
   ]
  },
  {
   "cell_type": "code",
   "execution_count": 1,
   "id": "b0e2e6a5",
   "metadata": {},
   "outputs": [
    {
     "data": {
      "text/plain": [
       "'3.11.3'"
      ]
     },
     "execution_count": 1,
     "metadata": {},
     "output_type": "execute_result"
    }
   ],
   "source": [
    "import platform\n",
    "\n",
    "platform.python_version()"
   ]
  },
  {
   "cell_type": "code",
   "execution_count": null,
   "id": "8d76a238",
   "metadata": {},
   "outputs": [],
   "source": []
  },
  {
   "cell_type": "markdown",
   "id": "ebce38c4",
   "metadata": {},
   "source": [
    "\n",
    "## 프로세스와 스레드 \n",
    "\n",
    "- 모두 병행성(Concurrency)을 구현하기 위한 개념이지만, 각각의 특징과 용도에는 몇 가지 중요한 차이점이 있습니다.\n",
    "\n",
    "### 프로세스(Process):\n",
    "\n",
    "- 운영체제에서 실행 중인 프로그램으로, 독립적인 메모리 공간을 가집니다.\n",
    "- 각 프로세스는 자신만의 주소 공간을 가지며, 프로세스 간 데이터 공유는 별도의 메커니즘(Inter Process Communication, IPC)을 사용해야 합니다.\n",
    "- 프로세스 간 통신은 비용이 높고 복잡합니다.\n",
    "- 각 프로세스는 최소 하나의 스레드를 가집니다(주로 메인 스레드).\n",
    "- 프로세스 간 독립적인 실행 환경을 제공하므로 안정성이 높습니다.\n",
    "\n",
    "\n",
    "### 스레드(Thread):\n",
    "\n",
    "- 프로세스 내에서 실행되는 실행 단위로, 프로세스의 주소 공간을 공유합니다.\n",
    "- 스레드는 프로세스 내의 자원을 공유하며, 스레드 간 통신은 변수를 공유하거나 동기화 메커니즘을 사용하여 이루어집니다.\n",
    "- 스레드 간 통신은 비교적 저렴하고 간단합니다.\n",
    "- 여러 스레드가 동시에 실행될 수 있기 때문에 주의가 필요하며, 공유 자원에 대한 동기화 문제가 발생할 수 있습니다.\n",
    "\n",
    "### 주요 차이점은 \n",
    "- 프로세스는 독립적인 메모리 공간을 가지고 실행되는 반면, \n",
    "- 스레드는 같은 프로세스 내에서 실행되면서 메모리 공간을 공유한다는 점입니다. \n",
    "- 프로세스 간 통신이 필요한 경우에는 프로세스를 사용하고, \n",
    "- 프로세스 내에서 작은 작업을 분리하거나 동시에 실행해야 할 때는 스레드를 사용하는 것이 일반적입니다."
   ]
  },
  {
   "cell_type": "code",
   "execution_count": null,
   "id": "07c61575",
   "metadata": {},
   "outputs": [],
   "source": []
  },
  {
   "cell_type": "code",
   "execution_count": null,
   "id": "1d3bbaed",
   "metadata": {},
   "outputs": [],
   "source": []
  },
  {
   "cell_type": "markdown",
   "id": "31f7d2b9",
   "metadata": {},
   "source": [
    "## 1. 스레드 처리하기 \n",
    "\n",
    "- 파이썬에서 스레드를 사용하여 간단한 동시성 처리를 구현하는 예제를 제공합니다. \n",
    "- 스레드는 파이썬의 threading 모듈을 통해 사용할 수 있습니다.\n",
    "\n",
    "### 스레드란\n",
    "- , 스레드는 하나의 프로세스 내에서 실행되는 경량의 실행 단위이며, 프로세스는 독립적인 메모리 공간을 가지고 실행되는 독립적인 실행 단위입니다."
   ]
  },
  {
   "cell_type": "markdown",
   "id": "d75aead6",
   "metadata": {},
   "source": [
    "## 필요한 모듈 import 하기"
   ]
  },
  {
   "cell_type": "code",
   "execution_count": 29,
   "id": "d2bbaeb8",
   "metadata": {},
   "outputs": [],
   "source": [
    "import threading\n",
    "import time\n",
    "import random\n",
    "import sys\n",
    "import multiprocessing"
   ]
  },
  {
   "cell_type": "markdown",
   "id": "1d4b2663",
   "metadata": {},
   "source": [
    "## 1-1 스레드 내부에 있는 속성 확인 "
   ]
  },
  {
   "cell_type": "markdown",
   "id": "fa0c3abd",
   "metadata": {},
   "source": [
    "### 1-1-1. 스레딩 모듈 내부 확인 "
   ]
  },
  {
   "cell_type": "code",
   "execution_count": 3,
   "id": "1f27fea4",
   "metadata": {},
   "outputs": [
    {
     "name": "stdout",
     "output_type": "stream",
     "text": [
      "Barrier, BoundedSemaphore, BrokenBarrierError, Condition, Event, ExceptHookArgs, Lock, RLock, Semaphore, TIMEOUT_MAX, Thread, ThreadError, Timer, WeakSet, activeCount, active_count, currentThread, current_thread, enumerate, excepthook, functools, get_ident, get_native_id, getprofile, gettrace, local, main_thread, setprofile, settrace, stack_size, "
     ]
    }
   ],
   "source": [
    "for i in dir(threading) :\n",
    "    if not i.startswith(\"_\") : \n",
    "        print(i, end=\", \")"
   ]
  },
  {
   "cell_type": "markdown",
   "id": "136a4ff6",
   "metadata": {},
   "source": [
    "### 스레드 객체를 생성하는 클래스 "
   ]
  },
  {
   "cell_type": "code",
   "execution_count": 86,
   "id": "b60e2475",
   "metadata": {},
   "outputs": [
    {
     "data": {
      "text/plain": [
       "threading.Thread"
      ]
     },
     "execution_count": 86,
     "metadata": {},
     "output_type": "execute_result"
    }
   ],
   "source": [
    "threading.Thread"
   ]
  },
  {
   "cell_type": "code",
   "execution_count": 87,
   "id": "ac40eaa8",
   "metadata": {},
   "outputs": [
    {
     "name": "stdout",
     "output_type": "stream",
     "text": [
      "<class 'type'>\n"
     ]
    }
   ],
   "source": [
    "print(type(threading.Thread))"
   ]
  },
  {
   "cell_type": "markdown",
   "id": "ef48f439",
   "metadata": {},
   "source": [
    "###  스레드의 락을 처리하는 함수 \n"
   ]
  },
  {
   "cell_type": "code",
   "execution_count": 70,
   "id": "4a55c905",
   "metadata": {},
   "outputs": [
    {
     "data": {
      "text/plain": [
       "<function _thread.allocate_lock>"
      ]
     },
     "execution_count": 70,
     "metadata": {},
     "output_type": "execute_result"
    }
   ],
   "source": [
    "threading.Lock"
   ]
  },
  {
   "cell_type": "code",
   "execution_count": 71,
   "id": "6c983c73",
   "metadata": {},
   "outputs": [
    {
     "data": {
      "text/plain": [
       "<function threading.RLock(*args, **kwargs)>"
      ]
     },
     "execution_count": 71,
     "metadata": {},
     "output_type": "execute_result"
    }
   ],
   "source": [
    "threading.RLock"
   ]
  },
  {
   "cell_type": "markdown",
   "id": "571f588a",
   "metadata": {},
   "source": [
    "### 스레드 동기화하는 클래스들 "
   ]
  },
  {
   "cell_type": "code",
   "execution_count": 72,
   "id": "2d9b6e59",
   "metadata": {},
   "outputs": [
    {
     "data": {
      "text/plain": [
       "threading.Condition"
      ]
     },
     "execution_count": 72,
     "metadata": {},
     "output_type": "execute_result"
    }
   ],
   "source": [
    "threading.Condition"
   ]
  },
  {
   "cell_type": "code",
   "execution_count": null,
   "id": "4322efba",
   "metadata": {},
   "outputs": [],
   "source": []
  },
  {
   "cell_type": "code",
   "execution_count": 73,
   "id": "99efe42d",
   "metadata": {},
   "outputs": [
    {
     "data": {
      "text/plain": [
       "threading.Semaphore"
      ]
     },
     "execution_count": 73,
     "metadata": {},
     "output_type": "execute_result"
    }
   ],
   "source": [
    "threading.Semaphore"
   ]
  },
  {
   "cell_type": "code",
   "execution_count": 85,
   "id": "a4ee7ed9",
   "metadata": {},
   "outputs": [
    {
     "data": {
      "text/plain": [
       "threading.Barrier"
      ]
     },
     "execution_count": 85,
     "metadata": {},
     "output_type": "execute_result"
    }
   ],
   "source": [
    "threading.Barrier"
   ]
  },
  {
   "cell_type": "markdown",
   "id": "32aef656",
   "metadata": {},
   "source": [
    "###  1-1-2. 스레드 정보 확인  : 스레드 이름 "
   ]
  },
  {
   "cell_type": "code",
   "execution_count": 17,
   "id": "cb3a3153",
   "metadata": {},
   "outputs": [
    {
     "name": "stdout",
     "output_type": "stream",
     "text": [
      "Current Thread: MainThread\n"
     ]
    }
   ],
   "source": [
    "\n",
    "current_thread = threading.current_thread()\n",
    "print(f\"Current Thread: {current_thread.name}\")\n"
   ]
  },
  {
   "cell_type": "markdown",
   "id": "4e850c09",
   "metadata": {},
   "source": [
    "### 1-1-3 스레드 상태\n",
    "\n",
    "- 현제 스레드의 상태 확인 "
   ]
  },
  {
   "cell_type": "code",
   "execution_count": 25,
   "id": "4b4c3638",
   "metadata": {},
   "outputs": [
    {
     "name": "stdout",
     "output_type": "stream",
     "text": [
      "Current Thread status : True\n"
     ]
    }
   ],
   "source": [
    "print(f\"Current Thread status : {current_thread.is_alive()}\")"
   ]
  },
  {
   "cell_type": "markdown",
   "id": "6454a606",
   "metadata": {},
   "source": [
    "### 1-1-4 데몬 스레드 여부 확인 \n",
    "\n",
    "- 데몬 스레드 여부 확인 "
   ]
  },
  {
   "cell_type": "code",
   "execution_count": 27,
   "id": "0a34aba9",
   "metadata": {},
   "outputs": [
    {
     "name": "stdout",
     "output_type": "stream",
     "text": [
      "Current Thread status : False\n"
     ]
    }
   ],
   "source": [
    "print(f\"Current Thread status : {current_thread.daemon}\")"
   ]
  },
  {
   "cell_type": "code",
   "execution_count": null,
   "id": "eec6ac6d",
   "metadata": {},
   "outputs": [],
   "source": []
  },
  {
   "cell_type": "markdown",
   "id": "6f43480c",
   "metadata": {},
   "source": [
    "## 1-2 GIL 확인하기 \n",
    "\n",
    "- GIL(Global Interpreter Lock)은 CPython (CPython은 파이썬의 표준 구현체 중 하나)에서 사용되는 메커니즘\n",
    "- 한 번에 하나의 스레드만 파이썬 바이트코드를 실행할 수 있게 합니다. \n",
    "- 이로 인해 멀티코어 CPU에서 병렬로 실행되는 것이 제한되고, CPU 바운드 작업에서는 성능 향상이 제한될 수 있습니다."
   ]
  },
  {
   "cell_type": "markdown",
   "id": "9ff21e25",
   "metadata": {},
   "source": [
    "### 스레드 처리 함수 정의 "
   ]
  },
  {
   "cell_type": "code",
   "execution_count": 66,
   "id": "de6960bf",
   "metadata": {},
   "outputs": [],
   "source": [
    "# 전역변수 정의 \n",
    "counter_value = 0\n",
    "limit_value = 1000000\n",
    "\n",
    "# 함수를 정의하기 \n",
    "def count_up(counter, limit):\n",
    "    print(\"count up :\", threading.current_thread().name)\n",
    "    print()\n",
    "    while counter < limit:\n",
    "        counter += 1"
   ]
  },
  {
   "cell_type": "markdown",
   "id": "e7d9f286",
   "metadata": {},
   "source": [
    "### 함수를 바로 실행 : 단일 스레드 처리\n",
    "\n",
    "- 현재 실행된 결과를 그대로 출력\n",
    "- 매개변수는 지역변수라서 갱신이되어도 전역변수는 변하지 않는다"
   ]
  },
  {
   "cell_type": "code",
   "execution_count": 67,
   "id": "8b74a30c",
   "metadata": {},
   "outputs": [
    {
     "name": "stdout",
     "output_type": "stream",
     "text": [
      "count up : MainThread\n",
      "\n",
      "Single-threaded result: 0\n"
     ]
    }
   ],
   "source": [
    "# 단일 스레드에서 작업 수행\n",
    "count_up(counter_value, limit_value)\n",
    "print(\"Single-threaded result:\", counter_value)"
   ]
  },
  {
   "cell_type": "markdown",
   "id": "e7da2076",
   "metadata": {},
   "source": [
    "### 멀티스페드에서 gil 작동확인 \n",
    "\n",
    "- 두 개의 스레드로 처리\n",
    "- 스레드 가동은 start 메서도를 실행\n",
    "- 그러면 내부의 run 메서드가 실행 \n",
    "- 스레드의 join 메서드가 작동되면 끝날때까지 기다린다. \n",
    "\n"
   ]
  },
  {
   "cell_type": "code",
   "execution_count": 68,
   "id": "45a9e6ef",
   "metadata": {},
   "outputs": [
    {
     "name": "stdout",
     "output_type": "stream",
     "text": [
      "count up : Thread-82 (count_up)\n",
      "\n",
      "count up : Thread-83 (count_up)\n",
      "\n",
      "Multi-threaded result: 0\n",
      "GIL is enabled\n"
     ]
    }
   ],
   "source": [
    "\n",
    "\n",
    "# 멀티스레딩에서 작업 수행\n",
    "counter_value = 0\n",
    "thread1 = threading.Thread(target=count_up, args=(counter_value, limit_value // 2))\n",
    "thread2 = threading.Thread(target=count_up, args=(counter_value, limit_value // 2))\n",
    "\n",
    "thread1.start()\n",
    "thread2.start()\n",
    "thread1.join()\n",
    "thread2.join()\n",
    "\n",
    "print(\"Multi-threaded result:\", counter_value)\n",
    "\n",
    "# 현재 GIL 상태 확인\n",
    "gil_enabled = sys.getswitchinterval() > 0\n",
    "print(f\"GIL is {'enabled' if gil_enabled else 'disabled'}\")\n"
   ]
  },
  {
   "cell_type": "code",
   "execution_count": null,
   "id": "e43e0b40",
   "metadata": {},
   "outputs": [],
   "source": []
  },
  {
   "cell_type": "markdown",
   "id": "c161c296",
   "metadata": {},
   "source": [
    "## 1-3 스레드 클래스로 스레드  정의\n",
    "\n",
    "-  스레드 클래스를 상속 받아서 클래스 정의\n",
    "-  클래스에 정의되는 것을 스레드를 실제 실행하는 run 메서드를 구현함 으로"
   ]
  },
  {
   "cell_type": "code",
   "execution_count": null,
   "id": "f499bb29",
   "metadata": {},
   "outputs": [],
   "source": []
  },
  {
   "cell_type": "markdown",
   "id": "2ff15244",
   "metadata": {},
   "source": [
    "### 스레드 클래스를 정의 \n",
    "\n",
    "-  생성자는 상위 스레드의 생성자를 호출한다.\n",
    "- 클래스 내부에 run 메서드를 정의해서 실행되도록 구현한다 "
   ]
  },
  {
   "cell_type": "code",
   "execution_count": 4,
   "id": "46173c21",
   "metadata": {},
   "outputs": [],
   "source": [
    "class myWorkerThread(threading.Thread) :\n",
    "    def __init__(self) :\n",
    "        print(\" Hello Thread \")\n",
    "        threading.Thread.__init__(self)\n",
    "        \n",
    "    def run(self) :                        # 스레드 start 메서드 호출되면 실행될 메서드 정의 \n",
    "        print(\"Thread is now running\")"
   ]
  },
  {
   "cell_type": "markdown",
   "id": "2b7f43cd",
   "metadata": {},
   "source": [
    "### 클래스 객체를 생성\n",
    "\n",
    "- 스레드를 사용하기 위해서 객체를 생성한다. "
   ]
  },
  {
   "cell_type": "code",
   "execution_count": 5,
   "id": "be1e4de0",
   "metadata": {},
   "outputs": [
    {
     "name": "stdout",
     "output_type": "stream",
     "text": [
      " Hello Thread \n"
     ]
    }
   ],
   "source": [
    "myThread = myWorkerThread()"
   ]
  },
  {
   "cell_type": "markdown",
   "id": "d824a5c2",
   "metadata": {},
   "source": [
    "### 스레드를 실행과 종료 \n",
    "\n",
    "- 실제 스레드를 start로 실행하고 join으로 결과를 받고 스레드를 종료한다 "
   ]
  },
  {
   "cell_type": "code",
   "execution_count": 6,
   "id": "d1e4f076",
   "metadata": {},
   "outputs": [
    {
     "name": "stdout",
     "output_type": "stream",
     "text": [
      "Thread is now running\n"
     ]
    }
   ],
   "source": [
    "myThread.start()\n",
    "myThread.join()"
   ]
  },
  {
   "cell_type": "code",
   "execution_count": null,
   "id": "b5b0b53f",
   "metadata": {},
   "outputs": [],
   "source": []
  },
  {
   "cell_type": "markdown",
   "id": "c77c1ecc",
   "metadata": {},
   "source": [
    "## 1-4  스레드 내의 특정 정보 처리 \n",
    "\n",
    "- 생성자에 스레드 정보를 추가한다"
   ]
  },
  {
   "cell_type": "markdown",
   "id": "7b208a12",
   "metadata": {},
   "source": [
    "### 스레드 클래스를 가지고 사용자 정의 스레드 클래스를 만들기   \n",
    "\n",
    "- 스레드 생성자에 스레드 정보를 지정해서 사용할 수 있다.\n",
    "- 반드시 run 메서드를 작성해서 스레드에서 작성할 메서드를 구현한다."
   ]
  },
  {
   "cell_type": "code",
   "execution_count": 91,
   "id": "a30555dc",
   "metadata": {},
   "outputs": [],
   "source": [
    "class MyThread1(threading.Thread):\n",
    "    def __init__(self, thread_id, name):\n",
    "        # 상속한 스레드 클래스의 생성자를 호출한다. \n",
    "        threading.Thread.__init__(self)\n",
    "        # 추가적인 스레드 정보를 세팅\n",
    "        self.thread_id = thread_id\n",
    "        self.name = name\n",
    "\n",
    "    # 스레드 객체가 실행할 run 메서드를 정의 \n",
    "    def run(self):\n",
    "        print(f\"Thread {self.thread_id} ({self.name}) is running\")\n",
    "        time.sleep(3)\n",
    "        print(f\"Thread {self.thread_id} ({self.name}) completed\")\n",
    "        print()\n"
   ]
  },
  {
   "cell_type": "markdown",
   "id": "22c54fae",
   "metadata": {},
   "source": [
    "### 스레드 객체를 생성하고 실행하기"
   ]
  },
  {
   "cell_type": "code",
   "execution_count": 92,
   "id": "14c5960e",
   "metadata": {},
   "outputs": [
    {
     "name": "stdout",
     "output_type": "stream",
     "text": [
      "Thread 1 (Thread 1) is running\n",
      "Thread 2 (Thread 2) is running\n",
      "Main thread is running\n",
      "Thread 2 (Thread 2) completed\n",
      "\n",
      "Thread 1 (Thread 1) completed\n",
      "\n",
      "All threads are completed\n"
     ]
    }
   ],
   "source": [
    "# 스레드 인스턴스 생성\n",
    "thread1 = MyThread1(thread_id=1, name=\"Thread 1\")\n",
    "thread2 = MyThread1(thread_id=2, name=\"Thread 2\")\n",
    "\n",
    "# 스레드 시작\n",
    "thread1.start()\n",
    "thread2.start()\n",
    "\n",
    "# 메인 스레드에서도 일부 작업을 수행할 수 있음\n",
    "print(\"Main thread is running\")\n",
    "\n",
    "# 각 스레드가 완료될 때까지 대기\n",
    "thread1.join()\n",
    "thread2.join()\n",
    "\n",
    "print(\"All threads are completed\")\n"
   ]
  },
  {
   "cell_type": "code",
   "execution_count": null,
   "id": "13333308",
   "metadata": {},
   "outputs": [],
   "source": []
  },
  {
   "cell_type": "markdown",
   "id": "f98c73ea",
   "metadata": {},
   "source": [
    "## 2. 데몬 스레드 \n",
    "\n",
    "- 데몬 스레드란 종료점이 정의되지 않은 실질적인 스레드이다. 이는 프로그램이 종료될때까지 계속 작동한다.\n",
    "- 데몬 스레드는 프로그램의 백그라운드에 위치해 주기적으로 변경없이 갱신 값을 전달하면서 인스턴스가 종료되는 것을 걱정할 필요없이 관리 "
   ]
  },
  {
   "cell_type": "markdown",
   "id": "86a46b59",
   "metadata": {},
   "source": [
    "## 2-1.  데몬 스레드 처리하기\n"
   ]
  },
  {
   "cell_type": "markdown",
   "id": "945548c9",
   "metadata": {},
   "source": [
    "### 스레드에서 작동할 함수 정의 "
   ]
  },
  {
   "cell_type": "code",
   "execution_count": 93,
   "id": "fccea45d",
   "metadata": {},
   "outputs": [],
   "source": [
    "def worker_function(name):\n",
    "    for _ in range(3):\n",
    "        print(f\"Worker {name} is working\")\n",
    "        time.sleep(1)\n",
    "    print(f\"Worker {name} completed\")\n",
    "    print()"
   ]
  },
  {
   "cell_type": "markdown",
   "id": "654e7233",
   "metadata": {},
   "source": [
    "### 스레드 실행할 함수 정의  \n",
    "\n",
    "- 스레드를 데몬으로 지정하기 "
   ]
  },
  {
   "cell_type": "code",
   "execution_count": 94,
   "id": "9c869be0",
   "metadata": {},
   "outputs": [],
   "source": [
    "def main():\n",
    "    # 스레드 생성\n",
    "    thread1 = threading.Thread(target=worker_function, args=(\"A\",))\n",
    "    thread2 = threading.Thread(target=worker_function, args=(\"B\",))\n",
    "\n",
    "    # 데몬 스레드 설정 (메인 스레드가 종료되면 함께 종료됨)\n",
    "    thread1.daemon = True\n",
    "    thread2.setDaemon(True)\n",
    "\n",
    "    # 스레드 시작\n",
    "    thread1.start()\n",
    "    thread2.start()\n",
    "\n",
    "    # 스레드가 완료될 때까지 대기\n",
    "    thread1.join()\n",
    "    thread2.join()\n",
    "\n",
    "    print(\"All threads are completed\")\n"
   ]
  },
  {
   "cell_type": "markdown",
   "id": "05f95b30",
   "metadata": {},
   "source": [
    "### 스레드 실행 "
   ]
  },
  {
   "cell_type": "code",
   "execution_count": 95,
   "id": "19bf68e6",
   "metadata": {},
   "outputs": [
    {
     "name": "stdout",
     "output_type": "stream",
     "text": [
      "Current thread name: MainThread\n",
      "Active threads: 10\n",
      "Worker A is working\n",
      "Worker B is working\n"
     ]
    },
    {
     "name": "stderr",
     "output_type": "stream",
     "text": [
      "/var/folders/h4/44486vyn1_xbs13g1z50l5m00000gn/T/ipykernel_92260/4181666122.py:8: DeprecationWarning: setDaemon() is deprecated, set the daemon attribute instead\n",
      "  thread2.setDaemon(True)\n"
     ]
    },
    {
     "name": "stdout",
     "output_type": "stream",
     "text": [
      "Worker B is working\n",
      "Worker A is working\n",
      "Worker A is working\n",
      "Worker B is working\n",
      "Worker B completedWorker A completed\n",
      "\n",
      "\n",
      "\n",
      "All threads are completed\n"
     ]
    }
   ],
   "source": [
    "if __name__ == \"__main__\":\n",
    "    # 현재 스레드 정보 얻기\n",
    "    current_thread = threading.current_thread()\n",
    "    print(f\"Current thread name: {current_thread.name}\")\n",
    "\n",
    "    # 현재 활성화된 스레드 개수 얻기\n",
    "    active_threads = threading.active_count()\n",
    "    print(f\"Active threads: {active_threads}\")\n",
    "\n",
    "    # 메인 함수 실행\n",
    "    main()\n"
   ]
  },
  {
   "cell_type": "code",
   "execution_count": null,
   "id": "c24aff5b",
   "metadata": {},
   "outputs": [],
   "source": []
  },
  {
   "cell_type": "code",
   "execution_count": null,
   "id": "e959721c",
   "metadata": {},
   "outputs": [],
   "source": []
  },
  {
   "cell_type": "markdown",
   "id": "206ed50f",
   "metadata": {},
   "source": [
    "##  2-2  데몬스레드와 일반 스레드 처리 차이점 \n",
    "\n",
    "#### 데몬 스레드와 일반 스레드 간의 주요 차이점\n",
    "\n",
    "- 데몬 스레드가 메인 스레드가 종료될 때 함께 종료되는 것입니다. \n",
    "- 이를테면, 프로그램이 모든 일반 스레드의 작업을 완료하고 메인 스레드가 종료되더라도, 데몬 스레드는 메인 스레드가 종료될 때 함께 강제 종료됩니다.\n",
    "-  데몬 스레드가 메인 스레드와 독립적으로 실행되는 동안, 일반 스레드는 메인 스레드에 종속되어 있어 메인 스레드가 종료되더라도 계속 실행될 수 있습니다."
   ]
  },
  {
   "cell_type": "markdown",
   "id": "462502f1",
   "metadata": {},
   "source": [
    "### 스레드에서 실행할 함수 정의 "
   ]
  },
  {
   "cell_type": "code",
   "execution_count": 12,
   "id": "0d0bea91",
   "metadata": {},
   "outputs": [],
   "source": [
    "def daemon_thread():\n",
    "    while True:                            ## 무한순환을 실행 중이라서 현재 작동하는 것이 계속 실행할 수 있음 \n",
    "        print(\"Daemon thread is running\")\n",
    "        time.sleep(1)\n",
    "\n",
    "def non_daemon_thread():\n",
    "    for _ in range(5):\n",
    "        print(\"Non-daemon thread is working\")\n",
    "        time.sleep(1)\n",
    "    print(\"Non-daemon thread completed\")"
   ]
  },
  {
   "cell_type": "markdown",
   "id": "36147c7f",
   "metadata": {},
   "source": [
    "### 스레드 실행 "
   ]
  },
  {
   "cell_type": "code",
   "execution_count": 13,
   "id": "93d5e7dc",
   "metadata": {},
   "outputs": [
    {
     "name": "stdout",
     "output_type": "stream",
     "text": [
      "Overwriting demon.py\n"
     ]
    }
   ],
   "source": [
    "%%writefile demon.py\n",
    "\n",
    "import threading\n",
    "import time\n",
    "\n",
    "def daemon_thread():\n",
    "    while True:\n",
    "        print(\"Daemon thread is running\")\n",
    "        time.sleep(1)\n",
    "\n",
    "def non_daemon_thread():\n",
    "    for _ in range(5):\n",
    "        print(\"Non-daemon thread is working\")\n",
    "        time.sleep(1)\n",
    "    print(\"Non-daemon thread completed\")\n",
    "\n",
    "if __name__ == \"__main__\":\n",
    "    # 데몬 스레드 생성\n",
    "    daemon_thread = threading.Thread(target=daemon_thread)\n",
    "    daemon_thread.daemon = True  # 데몬 스레드로 설정\n",
    "\n",
    "    # 일반 스레드 생성\n",
    "    non_daemon_thread = threading.Thread(target=non_daemon_thread)\n",
    "\n",
    "    # 스레드 시작\n",
    "    daemon_thread.start()\n",
    "    non_daemon_thread.start()\n",
    "\n",
    "    try:\n",
    "        # 모든 스레드가 완료될 때까지 대기\n",
    "        non_daemon_thread.join()\n",
    "        daemon_thread.join()\n",
    "    except KeyboardInterrupt:\n",
    "        # Ctrl+C 등의 인터럽트 시그널이 발생하면 프로그램 종료\n",
    "        pass\n",
    "\n",
    "    print(\"Main thread completed\")\n"
   ]
  },
  {
   "cell_type": "code",
   "execution_count": null,
   "id": "6a42e96d",
   "metadata": {},
   "outputs": [],
   "source": []
  },
  {
   "cell_type": "markdown",
   "id": "2a16937a",
   "metadata": {},
   "source": [
    "### 무한순환중에는 강제로 종료시킴 \n",
    "\n",
    "- 데몬 스레드는 프로그램이 메인 스레드를 포함하여 모든 일반 스레드의 실행이 완료되면 자동으로 종료됩니다. \n",
    "\n",
    "#### 그러나 주의해야 할 중요한 점이 있습니다. \n",
    "\n",
    "- 프로그램이 메인 스레드가 종료될 때 모든 일반 스레드의 실행이 완료되지 않았다면, 데몬 스레드가 강제 종료될 수 있습니다."
   ]
  },
  {
   "cell_type": "code",
   "execution_count": 14,
   "id": "81bce3f8",
   "metadata": {},
   "outputs": [
    {
     "name": "stdout",
     "output_type": "stream",
     "text": [
      "Daemon thread is running\n",
      "Non-daemon thread is working\n",
      "Daemon thread is running\n",
      "Non-daemon thread is working\n",
      "Daemon thread is running\n",
      "Non-daemon thread is working\n",
      "Daemon thread is running\n",
      "Non-daemon thread is working\n",
      "Non-daemon thread is workingDaemon thread is running\n",
      "\n",
      "Non-daemon thread completed\n",
      "Daemon thread is running\n",
      "Daemon thread is running\n",
      "Daemon thread is running\n",
      "Daemon thread is running\n",
      "Daemon thread is running\n",
      "Daemon thread is running\n",
      "Daemon thread is running\n",
      "Daemon thread is running\n",
      "Main thread completed\n",
      "Main thread completed\n"
     ]
    }
   ],
   "source": [
    "%run demon.py"
   ]
  },
  {
   "cell_type": "code",
   "execution_count": null,
   "id": "373fdceb",
   "metadata": {},
   "outputs": [],
   "source": []
  },
  {
   "cell_type": "markdown",
   "id": "d8307a91",
   "metadata": {},
   "source": [
    "### 위의 코드에서  데몬 스레드를 강제로 종료 처리하기\n",
    "\n",
    "- 프로그램이 메인 스레드를 포함하여 모든 일반 스레드의 실행이 완료되면 자동으로 종료되어야 합니다. \n",
    "- 그러나 위의 코드에서는 daemon_thread 함수가 무한 루프를 갖고 있어서 종료되지 않는 문제가 발생할 수 있습니다.\n",
    "- 데몬 스레드를 정상적으로 종료하려면 해당 스레드에서 실행되는 루프나 작업이 종료될 수 있도록 설계해야 합니다. \n",
    "- 루프나 작업을 완료하면 데몬 스레드는 자동으로 종료됩니다."
   ]
  },
  {
   "cell_type": "code",
   "execution_count": 16,
   "id": "0e88821d",
   "metadata": {},
   "outputs": [
    {
     "name": "stdout",
     "output_type": "stream",
     "text": [
      "Daemon thread is running\n",
      "Non-daemon thread is working\n",
      "Daemon thread is running\n",
      "Non-daemon thread is working\n",
      "Daemon thread is running\n",
      "Non-daemon thread is working\n",
      "Daemon thread is running\n",
      "Non-daemon thread is working\n",
      "Daemon thread is running\n",
      "Non-daemon thread is working\n",
      "Daemon thread is running\n",
      "Non-daemon thread completed\n",
      "Main thread completed\n"
     ]
    }
   ],
   "source": [
    "\n",
    "\n",
    "def daemon_thread2(stop_event):\n",
    "    while not stop_event.is_set():\n",
    "        print(\"Daemon thread is running\")\n",
    "        time.sleep(1)\n",
    "\n",
    "def non_daemon_thread2():\n",
    "    for _ in range(5):\n",
    "        print(\"Non-daemon thread is working\")\n",
    "        time.sleep(1)\n",
    "    print(\"Non-daemon thread completed\")\n",
    "\n",
    "if __name__ == \"__main__\":\n",
    "    # 이벤트 생성\n",
    "    stop_event = threading.Event()\n",
    "\n",
    "    # 데몬 스레드 생성\n",
    "    daemon_thread = threading.Thread(target=daemon_thread2, args=(stop_event,))\n",
    "    daemon_thread.daemon = True  # 데몬 스레드로 설정\n",
    "\n",
    "    # 일반 스레드 생성\n",
    "    non_daemon_thread = threading.Thread(target=non_daemon_thread2)\n",
    "\n",
    "    # 스레드 시작\n",
    "    daemon_thread.start()\n",
    "    non_daemon_thread.start()\n",
    "\n",
    "    try:\n",
    "        # 모든 스레드가 완료될 때까지 대기\n",
    "        non_daemon_thread.join()\n",
    "        stop_event.set()                # 데몬 스레드 종료를 위해 이벤트 설정\n",
    "        daemon_thread.join()\n",
    "    except KeyboardInterrupt:\n",
    "        # Ctrl+C 등의 인터럽트 시그널이 발생하면 프로그램 종료\n",
    "        pass\n",
    "\n",
    "    print(\"Main thread completed\")\n"
   ]
  },
  {
   "cell_type": "code",
   "execution_count": null,
   "id": "bf288b13",
   "metadata": {},
   "outputs": [],
   "source": []
  },
  {
   "cell_type": "markdown",
   "id": "08957471",
   "metadata": {},
   "source": [
    "## 3. 프로세스와 스레드 이해하기"
   ]
  },
  {
   "cell_type": "markdown",
   "id": "593f0616",
   "metadata": {},
   "source": [
    "## 3-1 스레드 처리하기 "
   ]
  },
  {
   "cell_type": "code",
   "execution_count": 61,
   "id": "404c1177",
   "metadata": {},
   "outputs": [
    {
     "name": "stdout",
     "output_type": "stream",
     "text": [
      "Starting==>\n",
      "Starting==>\n",
      "Starting==>\n",
      "Starting==>\n",
      "Starting==>\n",
      "Starting==>\n",
      "Starting==>\n",
      "Starting==>\n",
      "Starting==>\n",
      "Starting==>\n",
      "Total time for creating 10 Threads 0.003905057907104492\n"
     ]
    }
   ],
   "source": [
    "def mytask() :\n",
    "    print(\"Starting==>\")\n",
    "    time.sleep(2)\n",
    "    \n",
    "    \n",
    "t0 = time.time()\n",
    "threads = []\n",
    "\n",
    "for i in range(10) :\n",
    "    thread = threading.Thread(target=mytask)\n",
    "    thread.start()\n",
    "    threads.append(thread)   # 리스트에 스레드 넣기\n",
    "    \n",
    "t1 = time.time()\n",
    "print(f\"Total time for creating 10 Threads { t1 - t0}\")\n",
    "\n",
    "for thread in threads :\n",
    "    thread.join()"
   ]
  },
  {
   "cell_type": "code",
   "execution_count": null,
   "id": "da9a4d58",
   "metadata": {},
   "outputs": [],
   "source": []
  },
  {
   "cell_type": "markdown",
   "id": "3d9fe119",
   "metadata": {},
   "source": [
    "## 3-2 . 프로세스 처리 하기 \n",
    "\n",
    "- 주피터 노트북에서 실행 할 때는 두 개의 절차가 분리 \n"
   ]
  },
  {
   "cell_type": "code",
   "execution_count": 48,
   "id": "3d08695f",
   "metadata": {},
   "outputs": [
    {
     "name": "stdout",
     "output_type": "stream",
     "text": [
      "Overwriting mytask_.py\n"
     ]
    }
   ],
   "source": [
    "%%writefile mytask_.py \n",
    "import time\n",
    "\n",
    "def mytask() :\n",
    "    print(\"Starting==>\")\n",
    "    time.sleep(2)"
   ]
  },
  {
   "cell_type": "code",
   "execution_count": 49,
   "id": "e2b782d8",
   "metadata": {},
   "outputs": [
    {
     "name": "stdout",
     "output_type": "stream",
     "text": [
      "Total time for creating 10 processess : 0.0509183406829834\n",
      "Starting==>\n",
      "Starting==>\n",
      "Starting==>\n",
      "Starting==>\n",
      "Starting==>\n",
      "Starting==>\n",
      "Starting==>\n",
      "Starting==>\n",
      "Starting==>\n",
      "Starting==>\n"
     ]
    }
   ],
   "source": [
    "import mytask_\n",
    "\n",
    "if __name__ == \"__main__\":\n",
    "\n",
    "    t2 = time.time()\n",
    "\n",
    "    procs = []\n",
    "\n",
    "    for i in range(10) :\n",
    "        process = multiprocessing.Process(target=mytask_.mytask)\n",
    "        process.start()\n",
    "        procs.append(process)\n",
    "        \n",
    "    t3 = time.time()\n",
    "    print(f\"Total time for creating 10 processess : {t3-t2}\")\n",
    "    for proc in procs :\n",
    "        proc.join()"
   ]
  },
  {
   "cell_type": "markdown",
   "id": "ef37cab3",
   "metadata": {},
   "source": [
    "## 3-3 프로세스를 하나의 파일에서 처리함\n",
    "\n",
    "-  메인에서 실제 로직을 실행함 "
   ]
  },
  {
   "cell_type": "code",
   "execution_count": 59,
   "id": "9cb3a59a",
   "metadata": {},
   "outputs": [
    {
     "name": "stdout",
     "output_type": "stream",
     "text": [
      "Overwriting mytask_run.py\n"
     ]
    }
   ],
   "source": [
    "%%writefile mytask_run.py \n",
    "\n",
    "import time\n",
    "import multiprocessing\n",
    "\n",
    "def mytask() :\n",
    "    print(\"Starting==>\")\n",
    "    time.sleep(2)\n",
    "    \n",
    "\n",
    "if __name__ == '__main__':\n",
    "    t2 = time.time()\n",
    "\n",
    "    procs = []\n",
    "\n",
    "    for i in range(10) :\n",
    "        process = multiprocessing.Process(target=mytask)\n",
    "        process.start()\n",
    "        procs.append(process)\n",
    "        \n",
    "    t3 = time.time()\n",
    "    print(f\"Total time for creating 10 processess : {t3-t2}\")\n",
    "    for proc in procs :\n",
    "        proc.join()"
   ]
  },
  {
   "cell_type": "code",
   "execution_count": null,
   "id": "c19a2628",
   "metadata": {},
   "outputs": [],
   "source": []
  },
  {
   "cell_type": "code",
   "execution_count": null,
   "id": "1fb3b3c5",
   "metadata": {},
   "outputs": [],
   "source": []
  },
  {
   "cell_type": "code",
   "execution_count": null,
   "id": "2a7d432f",
   "metadata": {},
   "outputs": [],
   "source": []
  }
 ],
 "metadata": {
  "kernelspec": {
   "display_name": "Python 3 (ipykernel)",
   "language": "python",
   "name": "python3"
  },
  "language_info": {
   "codemirror_mode": {
    "name": "ipython",
    "version": 3
   },
   "file_extension": ".py",
   "mimetype": "text/x-python",
   "name": "python",
   "nbconvert_exporter": "python",
   "pygments_lexer": "ipython3",
   "version": "3.11.3"
  }
 },
 "nbformat": 4,
 "nbformat_minor": 5
}
