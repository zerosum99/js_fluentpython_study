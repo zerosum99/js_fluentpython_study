{
 "cells": [
  {
   "cell_type": "code",
   "execution_count": 3,
   "id": "13390d64",
   "metadata": {},
   "outputs": [
    {
     "data": {
      "text/plain": [
       "'3.11.3'"
      ]
     },
     "execution_count": 3,
     "metadata": {},
     "output_type": "execute_result"
    }
   ],
   "source": [
    "import platform\n",
    "\n",
    "platform.python_version()"
   ]
  },
  {
   "cell_type": "code",
   "execution_count": null,
   "id": "f8b28f96",
   "metadata": {},
   "outputs": [],
   "source": []
  },
  {
   "cell_type": "code",
   "execution_count": 7,
   "id": "4b36b13a",
   "metadata": {},
   "outputs": [],
   "source": [
    "import concurrent.futures\n",
    "import time\n",
    "import math"
   ]
  },
  {
   "cell_type": "code",
   "execution_count": null,
   "id": "83f5aabb",
   "metadata": {},
   "outputs": [],
   "source": []
  },
  {
   "cell_type": "markdown",
   "id": "5092ab61",
   "metadata": {},
   "source": [
    "\n",
    "##  concurrent.futures 모듈은 \n",
    "\n",
    "- 병렬 처리를 위한 고수준 인터페이스를 제공하는 모듈로, 스레드나 프로세스를 사용하여 비동기적으로 함수를 실행할 수 있습니다. \n",
    "\n",
    "\n",
    "### 이 모듈의 주요 특징은 다음과 같습니다:\n",
    "\n",
    "- ThreadPoolExecutor 및 ProcessPoolExecutor 제공: \n",
    "> concurrent.futures 모듈은 ThreadPoolExecutor와 ProcessPoolExecutor 클래스를 제공합니다. \n",
    "> 이를 사용하여 각각 스레드 및 프로세스를 활용한 병렬 처리를 쉽게 구현할 수 있습니다.\n",
    "\n",
    "- Future 객체 지원: \n",
    ">  concurrent.futures.Future 클래스는 비동기적인 작업의 결과를 나타내는데 사용됩니다. \n",
    "> submit() 또는 map() 함수를 호출하면 Future 객체를 반환하며, 이를 통해 비동기 작업의 상태를 추적하고 결과를 가져올 수 있습니다.\n",
    "\n",
    "- Executor의 일괄 처리 함수: \n",
    "> concurrent.futures 모듈은 map(), submit(), as_completed() 등 다양한 함수를 제공하여 병렬로 실행할 함수들을 일괄 처리하고 결과를 쉽게 가져올 수 있도록 도와줍니다.\n",
    "\n",
    "- 취소 및 예외 처리: \n",
    "> Future 객체를 사용하여 실행 중인 작업을 취소하거나 예외를 처리할 수 있습니다. \n",
    "> cancel() 및 exception() 메서드를 통해 관련 기능을 수행할 수 있습니다.\n",
    "\n",
    "- with 문 사용: \n",
    "> with 문을 사용하여 ThreadPoolExecutor 및 ProcessPoolExecutor를 간편하게 관리할 수 있습니다. \n",
    "> 이는 사용이 끝나면 자동으로 리소스를 정리하도록 도와줍니다.\n",
    "\n",
    "- 동시성 코드 작성의 단순화: \n",
    "> concurrent.futures를 사용하면 병렬 처리를 위한 코드를 비교적 간단하게 작성할 수 있습니다.\n",
    "> 동시성 작업을 수행하려는 경우에 코드를 더욱 간결하게 만들어줍니다.\n",
    "\n",
    "- 주의: \n",
    "> ThreadPoolExecutor는 I/O 바운드 작업에 적합하며, ProcessPoolExecutor는 CPU 바운드 작업에 적합합니다. \n",
    "> 선택하는 것은 작업의 성격에 따라 다릅니다."
   ]
  },
  {
   "cell_type": "markdown",
   "id": "b25ec856",
   "metadata": {},
   "source": [
    "## 1. 스레드  처리 알아보기 "
   ]
  },
  {
   "cell_type": "markdown",
   "id": "1235d383",
   "metadata": {},
   "source": [
    "## 1-1 futures 모듈과 스레드 클래스 확인 "
   ]
  },
  {
   "cell_type": "code",
   "execution_count": 12,
   "id": "2262ee9d",
   "metadata": {},
   "outputs": [
    {
     "name": "stdout",
     "output_type": "stream",
     "text": [
      "ALL_COMPLETED, BrokenExecutor, CancelledError, Executor, FIRST_COMPLETED, FIRST_EXCEPTION, Future, ProcessPoolExecutor, ThreadPoolExecutor, TimeoutError, __author__, __doc__, as_completed, wait, "
     ]
    }
   ],
   "source": [
    "for i in dir(concurrent.futures) :\n",
    "    print(i, end=\", \")"
   ]
  },
  {
   "cell_type": "markdown",
   "id": "2f9c2bf4",
   "metadata": {},
   "source": [
    "### ThreddPoolExecutor "
   ]
  },
  {
   "cell_type": "code",
   "execution_count": 11,
   "id": "4070efe8",
   "metadata": {},
   "outputs": [
    {
     "name": "stdout",
     "output_type": "stream",
     "text": [
      "__class__, __delattr__, __dict__, __dir__, __doc__, __enter__, __eq__, __exit__, __format__, __ge__, __getattribute__, __getstate__, __gt__, __hash__, __init__, __init_subclass__, __le__, __lt__, __module__, __ne__, __new__, __reduce__, __reduce_ex__, __repr__, __setattr__, __sizeof__, __str__, __subclasshook__, __weakref__, _adjust_thread_count, _counter, _initializer_failed, map, shutdown, submit, "
     ]
    }
   ],
   "source": [
    "for i in dir(concurrent.futures.ThreadPoolExecutor) :\n",
    "    print(i, end=\", \")"
   ]
  },
  {
   "cell_type": "code",
   "execution_count": null,
   "id": "a55e4b0c",
   "metadata": {},
   "outputs": [],
   "source": []
  },
  {
   "cell_type": "markdown",
   "id": "4cfa45f8",
   "metadata": {},
   "source": [
    "## 1-2 주요 메서드 확인 "
   ]
  },
  {
   "cell_type": "markdown",
   "id": "d3383d43",
   "metadata": {},
   "source": [
    "## 1-2-1 submit() 메서드\n",
    "- 단일 함수나 메서드를 비동기적으로 실행합니다.\n",
    "- 각 작업에 대해 별도의 Future 객체를 반환합니다.\n",
    "- submit() 메서드는 하나의 작업을 제출하고 해당 작업의 결과를 추적하려는 경우에 유용합니다.\n",
    "- 작업이 완료될 때까지 기다리려면 반환된 Future 객체의 result() 메서드를 사용하여 결과를 가져올 수 있습니다."
   ]
  },
  {
   "cell_type": "code",
   "execution_count": 6,
   "id": "8d405671",
   "metadata": {},
   "outputs": [
    {
     "name": "stdout",
     "output_type": "stream",
     "text": [
      "9\n"
     ]
    }
   ],
   "source": [
    "with concurrent.futures.ThreadPoolExecutor(max_workers=1) as executor:\n",
    "    future = executor.submit(pow, 3, 2)\n",
    "    print(future.result())"
   ]
  },
  {
   "cell_type": "markdown",
   "id": "cb2ce2ea",
   "metadata": {},
   "source": [
    "## 1-2-2  map() 메서드:\n",
    "\n",
    "-  여러 함수 또는 메서드를 비동기적으로 실행합니다.\n",
    "-  반복 가능한 객체의 각 항목에 대해 함수를 적용하고 해당 결과를 반환합니다.\n",
    "-  여러 작업을 동시에 실행하고 결과를 모두 한꺼번에 가져오려는 경우에 유용합니다.\n",
    "-  작업이 완료될 때까지 기다리는 것은 map() 메서드 자체가 처리하며, 결과는 순서대로 반환됩니다."
   ]
  },
  {
   "cell_type": "code",
   "execution_count": 8,
   "id": "39a515d6",
   "metadata": {},
   "outputs": [],
   "source": [
    "\n",
    "PRIMES = [\n",
    "    112272535095293,\n",
    "    112582705942171,\n",
    "    112272535095293,\n",
    "    115280095190773,\n",
    "    115797848077099,\n",
    "    1099726899285419]\n",
    "\n",
    "def is_prime(n):\n",
    "    if n < 2:\n",
    "        return False\n",
    "    if n == 2:\n",
    "        return True\n",
    "    if n % 2 == 0:\n",
    "        return False\n",
    "\n",
    "    sqrt_n = int(math.floor(math.sqrt(n)))\n",
    "    for i in range(3, sqrt_n + 1, 2):\n",
    "        if n % i == 0:\n",
    "            return False\n",
    "    return True\n"
   ]
  },
  {
   "cell_type": "code",
   "execution_count": 10,
   "id": "d5ec20de",
   "metadata": {},
   "outputs": [
    {
     "name": "stdout",
     "output_type": "stream",
     "text": [
      "112272535095293 is prime: True\n",
      "112582705942171 is prime: True\n",
      "112272535095293 is prime: True\n",
      "115280095190773 is prime: True\n",
      "115797848077099 is prime: True\n",
      "1099726899285419 is prime: False\n"
     ]
    }
   ],
   "source": [
    "def main():\n",
    "    with concurrent.futures.ThreadPoolExecutor() as executor:\n",
    "        for number, prime in zip(PRIMES, executor.map(is_prime, PRIMES)):\n",
    "            print('%d is prime: %s' % (number, prime))\n",
    "\n",
    "if __name__ == '__main__':\n",
    "    main()"
   ]
  },
  {
   "cell_type": "code",
   "execution_count": null,
   "id": "f975e6e4",
   "metadata": {},
   "outputs": [],
   "source": []
  },
  {
   "cell_type": "code",
   "execution_count": 15,
   "id": "8a5f9eb8",
   "metadata": {},
   "outputs": [],
   "source": [
    "def square(number):\n",
    "    result = number * number\n",
    "    time.sleep(1)  # 예제를 위해 1초 동안 대기\n",
    "    print(f\"Square of {number}: {result}\")"
   ]
  },
  {
   "cell_type": "code",
   "execution_count": 16,
   "id": "17089ea4",
   "metadata": {},
   "outputs": [
    {
     "name": "stdout",
     "output_type": "stream",
     "text": [
      "Square of 1: 1Square of 2: 4\n",
      "Square of 3: 9\n",
      "\n",
      "Square of 5: 25\n",
      "Square of 4: 16\n"
     ]
    }
   ],
   "source": [
    "if __name__ == \"__main__\":\n",
    "    numbers = [1, 2, 3, 4, 5]\n",
    "\n",
    "    # ThreadPoolExecutor를 사용한 예제\n",
    "    with concurrent.futures.ThreadPoolExecutor() as executor:\n",
    "        executor.map(square, numbers)"
   ]
  },
  {
   "cell_type": "code",
   "execution_count": null,
   "id": "22701f03",
   "metadata": {},
   "outputs": [],
   "source": []
  },
  {
   "cell_type": "markdown",
   "id": "4a8c271f",
   "metadata": {},
   "source": [
    "## 1-2-3 shutdown \n",
    "\n",
    "-  해당 Executor를 종료하는 데 사용됩니다.\n",
    "- 이 메서드를 호출하면 Executor는 더 이상 새로운 작업을 받지 않고, 모든 작업이 완료될 때까지 기다린 후 종료됩니다.\n",
    "- 보통 shutdown() 메서드는 프로그램이 끝날 때나 해당 Executor가 더 이상 필요하지 않을 때 호출됩니다. \n",
    "- 모든 작업이 완료되기를 기다리지 않고 바로 종료하려면 shutdown() 메서드의 wait 매개변수를 True로 설정합니다."
   ]
  },
  {
   "cell_type": "code",
   "execution_count": 14,
   "id": "b1c23efc",
   "metadata": {},
   "outputs": [
    {
     "name": "stdout",
     "output_type": "stream",
     "text": [
      "Executing task 1\n",
      "Executing task 2\n",
      "Task 2 completedTask 1 completed\n",
      "Executing task 3\n",
      "\n",
      "Task 3 completed\n",
      "Executor is shut down\n"
     ]
    }
   ],
   "source": [
    "def task(n):\n",
    "    print(f\"Executing task {n}\")\n",
    "    time.sleep(1)\n",
    "    print(f\"Task {n} completed\")\n",
    "\n",
    "# 최대 2개의 스레드를 가진 ThreadPoolExecutor 생성\n",
    "with concurrent.futures.ThreadPoolExecutor(max_workers=2) as executor:\n",
    "    # 작업 제출\n",
    "    executor.submit(task, 1)\n",
    "    executor.submit(task, 2)\n",
    "    executor.submit(task, 3)\n",
    "\n",
    "    # shutdown() 호출\n",
    "    executor.shutdown(wait=True)  # 모든 작업이 완료될 때까지 기다림\n",
    "\n",
    "print(\"Executor is shut down\")\n"
   ]
  },
  {
   "cell_type": "code",
   "execution_count": null,
   "id": "e908eff6",
   "metadata": {},
   "outputs": [],
   "source": []
  },
  {
   "cell_type": "code",
   "execution_count": null,
   "id": "67bc1649",
   "metadata": {},
   "outputs": [],
   "source": []
  },
  {
   "cell_type": "markdown",
   "id": "abb398e1",
   "metadata": {},
   "source": [
    "## 2. 프로세스 처리 "
   ]
  },
  {
   "cell_type": "markdown",
   "id": "779cb7a7",
   "metadata": {},
   "source": [
    "## 2-1 프로세스 내부 알아보기 "
   ]
  },
  {
   "cell_type": "code",
   "execution_count": 13,
   "id": "20e6aa81",
   "metadata": {},
   "outputs": [
    {
     "name": "stdout",
     "output_type": "stream",
     "text": [
      "__class__, __delattr__, __dict__, __dir__, __doc__, __enter__, __eq__, __exit__, __format__, __ge__, __getattribute__, __getstate__, __gt__, __hash__, __init__, __init_subclass__, __le__, __lt__, __module__, __ne__, __new__, __reduce__, __reduce_ex__, __repr__, __setattr__, __sizeof__, __str__, __subclasshook__, __weakref__, _adjust_process_count, _launch_processes, _spawn_process, _start_executor_manager_thread, map, shutdown, submit, "
     ]
    }
   ],
   "source": [
    "for i in dir(concurrent.futures.ProcessPoolExecutor) :\n",
    "    print(i, end=\", \")"
   ]
  },
  {
   "cell_type": "code",
   "execution_count": null,
   "id": "f2f94266",
   "metadata": {},
   "outputs": [],
   "source": []
  },
  {
   "cell_type": "markdown",
   "id": "002a63af",
   "metadata": {},
   "source": [
    "## 2-2 프로세스로 submit 처리하기 "
   ]
  },
  {
   "cell_type": "code",
   "execution_count": null,
   "id": "8f252e3d",
   "metadata": {},
   "outputs": [],
   "source": []
  },
  {
   "cell_type": "code",
   "execution_count": 20,
   "id": "ca6b9879",
   "metadata": {},
   "outputs": [
    {
     "name": "stdout",
     "output_type": "stream",
     "text": [
      "9\n"
     ]
    }
   ],
   "source": [
    "with concurrent.futures.ProcessPoolExecutor(max_workers=1) as executor:\n",
    "    future = executor.submit(pow, 3, 2)\n",
    "    print(future.result())"
   ]
  },
  {
   "cell_type": "code",
   "execution_count": null,
   "id": "151b5895",
   "metadata": {},
   "outputs": [],
   "source": []
  },
  {
   "cell_type": "code",
   "execution_count": null,
   "id": "f415c009",
   "metadata": {},
   "outputs": [],
   "source": []
  },
  {
   "cell_type": "markdown",
   "id": "10b65c39",
   "metadata": {},
   "source": [
    "## 2-3 프로세스로 맵 처리하기 "
   ]
  },
  {
   "cell_type": "markdown",
   "id": "28ccc7ed",
   "metadata": {},
   "source": [
    "### 별도의 모듈을 만든다"
   ]
  },
  {
   "cell_type": "code",
   "execution_count": 6,
   "id": "05708593",
   "metadata": {},
   "outputs": [
    {
     "name": "stdout",
     "output_type": "stream",
     "text": [
      "Writing square_test.py\n"
     ]
    }
   ],
   "source": [
    "%%writefile square_test.py\n",
    "import concurrent.futures\n",
    "import time\n",
    "\n",
    "def square(number):\n",
    "    result = number * number\n",
    "    time.sleep(1)  # 예제를 위해 1초 동안 대기\n",
    "    print(f\"Square of {number}: {result}\")"
   ]
  },
  {
   "cell_type": "markdown",
   "id": "03485785",
   "metadata": {},
   "source": [
    "### 프로세스를 처리한다"
   ]
  },
  {
   "cell_type": "code",
   "execution_count": 8,
   "id": "be9ec7e9",
   "metadata": {},
   "outputs": [
    {
     "name": "stdout",
     "output_type": "stream",
     "text": [
      "Square of 1: 1\n",
      "Square of 2: 4\n",
      "Square of 5: 25\n",
      "Square of 3: 9\n",
      "Square of 4: 16\n"
     ]
    }
   ],
   "source": [
    "import square_test\n",
    "\n",
    "if __name__ == \"__main__\":\n",
    "    numbers = [1, 2, 3, 4, 5]\n",
    "# ProcessPoolExecutor를 사용한 예제\n",
    "    with concurrent.futures.ProcessPoolExecutor() as executor:\n",
    "        executor.map(square_test.square, numbers)"
   ]
  },
  {
   "cell_type": "markdown",
   "id": "54f67900",
   "metadata": {},
   "source": [
    "### 프라임 숫자 구한기 "
   ]
  },
  {
   "cell_type": "code",
   "execution_count": 18,
   "id": "97de5ab4",
   "metadata": {},
   "outputs": [
    {
     "name": "stdout",
     "output_type": "stream",
     "text": [
      "Writing Proc_map.py\n"
     ]
    }
   ],
   "source": [
    "%%writefile Proc_map.py\n",
    "import math\n",
    "\n",
    "PRIMES = [\n",
    "    112272535095293,\n",
    "    112582705942171,\n",
    "    112272535095293,\n",
    "    115280095190773,\n",
    "    115797848077099,\n",
    "    1099726899285419]\n",
    "\n",
    "def is_prime(n):\n",
    "    if n < 2:\n",
    "        return False\n",
    "    if n == 2:\n",
    "        return True\n",
    "    if n % 2 == 0:\n",
    "        return False\n",
    "\n",
    "    sqrt_n = int(math.floor(math.sqrt(n)))\n",
    "    for i in range(3, sqrt_n + 1, 2):\n",
    "        if n % i == 0:\n",
    "            return False\n",
    "    return True"
   ]
  },
  {
   "cell_type": "code",
   "execution_count": 19,
   "id": "bafd020c",
   "metadata": {},
   "outputs": [
    {
     "name": "stdout",
     "output_type": "stream",
     "text": [
      "112272535095293 is prime: True\n",
      "112582705942171 is prime: True\n",
      "112272535095293 is prime: True\n",
      "115280095190773 is prime: True\n",
      "115797848077099 is prime: True\n",
      "1099726899285419 is prime: False\n"
     ]
    }
   ],
   "source": [
    "from Proc_map import is_prime\n",
    "\n",
    "def main():\n",
    "    with concurrent.futures.ProcessPoolExecutor() as executor:\n",
    "        for number, prime in zip(PRIMES, executor.map(is_prime, PRIMES)):\n",
    "            print('%d is prime: %s' % (number, prime))\n",
    "\n",
    "if __name__ == '__main__':\n",
    "    main()"
   ]
  },
  {
   "cell_type": "markdown",
   "id": "35bf037e",
   "metadata": {},
   "source": [
    "## 2-4 프로세스로 shotdown 처리하기 "
   ]
  },
  {
   "cell_type": "markdown",
   "id": "e9e79521",
   "metadata": {},
   "source": [
    "### 함수를 파일에 저장"
   ]
  },
  {
   "cell_type": "code",
   "execution_count": 21,
   "id": "5561a04d",
   "metadata": {},
   "outputs": [
    {
     "name": "stdout",
     "output_type": "stream",
     "text": [
      "Writing Proc_shotdown.py\n"
     ]
    }
   ],
   "source": [
    "%%writefile Proc_shotdown.py\n",
    "\n",
    "import time\n",
    "\n",
    "def task(n):\n",
    "    print(f\"Executing task {n}\")\n",
    "    time.sleep(1)\n",
    "    print(f\"Task {n} completed\")"
   ]
  },
  {
   "cell_type": "markdown",
   "id": "f39e9fbc",
   "metadata": {},
   "source": [
    "### shotdown 실행 "
   ]
  },
  {
   "cell_type": "code",
   "execution_count": 22,
   "id": "6ccc1b46",
   "metadata": {},
   "outputs": [
    {
     "name": "stdout",
     "output_type": "stream",
     "text": [
      "Executing task 1\n",
      "Task 1 completed\n",
      "Executing task 3\n",
      "Task 3 completed\n",
      "Executing task 2\n",
      "Task 2 completed\n",
      "Executor is shut down\n"
     ]
    }
   ],
   "source": [
    "from Proc_shotdown import task\n",
    "\n",
    "# 최대 2개의 스레드를 가진 ThreadPoolExecutor 생성\n",
    "with concurrent.futures.ProcessPoolExecutor(max_workers=2) as executor:\n",
    "    # 작업 제출\n",
    "    executor.submit(task, 1)\n",
    "    executor.submit(task, 2)\n",
    "    executor.submit(task, 3)\n",
    "\n",
    "    # shutdown() 호출\n",
    "    executor.shutdown(wait=True)  # 모든 작업이 완료될 때까지 기다림\n",
    "\n",
    "print(\"Executor is shut down\")"
   ]
  },
  {
   "cell_type": "markdown",
   "id": "a9686af6",
   "metadata": {},
   "source": [
    "## 2-5 프로세스를 파일로 처리하기 "
   ]
  },
  {
   "cell_type": "code",
   "execution_count": 23,
   "id": "56dfb4ac",
   "metadata": {},
   "outputs": [
    {
     "name": "stdout",
     "output_type": "stream",
     "text": [
      "Writing con_proc.py\n"
     ]
    }
   ],
   "source": [
    "%%writefile con_proc.py\n",
    "\n",
    "import concurrent.futures\n",
    "import os\n",
    "\n",
    "# 간단한 작업 함수\n",
    "def task(n):\n",
    "    pid = os.getpid()\n",
    "    print(f\"Task {n} is running in process {pid}\")\n",
    "    return n * n\n",
    "\n",
    "if __name__ == \"__main__\":\n",
    "    # 최대 3개의 프로세스를 가진 ProcessPoolExecutor 생성\n",
    "    with concurrent.futures.ProcessPoolExecutor(max_workers=3) as executor:\n",
    "        # 작업 제출\n",
    "        future1 = executor.submit(task, 1)\n",
    "        future2 = executor.submit(task, 2)\n",
    "        future3 = executor.submit(task, 3)\n",
    "\n",
    "        # 결과 가져오기\n",
    "        result1 = future1.result()\n",
    "        result2 = future2.result()\n",
    "        result3 = future3.result()\n",
    "\n",
    "        print(f\"Result of task 1: {result1}\")\n",
    "        print(f\"Result of task 2: {result2}\")\n",
    "        print(f\"Result of task 3: {result3}\")\n"
   ]
  },
  {
   "cell_type": "code",
   "execution_count": 24,
   "id": "ba842710",
   "metadata": {},
   "outputs": [
    {
     "name": "stdout",
     "output_type": "stream",
     "text": [
      "Task 1 is running in process 67596\r\n",
      "Task 2 is running in process 67596\r\n",
      "Task 3 is running in process 67596\r\n",
      "Result of task 1: 1\r\n",
      "Result of task 2: 4\r\n",
      "Result of task 3: 9\r\n"
     ]
    }
   ],
   "source": [
    "!python con_proc.py"
   ]
  },
  {
   "cell_type": "code",
   "execution_count": null,
   "id": "a04b3d98",
   "metadata": {},
   "outputs": [],
   "source": []
  }
 ],
 "metadata": {
  "kernelspec": {
   "display_name": "Python 3 (ipykernel)",
   "language": "python",
   "name": "python3"
  },
  "language_info": {
   "codemirror_mode": {
    "name": "ipython",
    "version": 3
   },
   "file_extension": ".py",
   "mimetype": "text/x-python",
   "name": "python",
   "nbconvert_exporter": "python",
   "pygments_lexer": "ipython3",
   "version": "3.11.3"
  }
 },
 "nbformat": 4,
 "nbformat_minor": 5
}
