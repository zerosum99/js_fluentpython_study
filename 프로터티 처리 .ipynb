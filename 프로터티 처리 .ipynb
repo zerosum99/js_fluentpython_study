{
 "cells": [
  {
   "cell_type": "code",
   "execution_count": 1,
   "id": "2528d7ed",
   "metadata": {},
   "outputs": [],
   "source": [
    "class MyProperty :\n",
    "    def __init__(self, getter=None, setter=None, deleter= None) :\n",
    "        self.fgetter = getter\n",
    "        self.fsetter = setter\n",
    "        self.fdeleter = deleter\n",
    "    \n",
    "    def __get__(self, instance, owner) :\n",
    "        if self.fgetter is not None :\n",
    "            return self.fgetter(instance)\n",
    "        else :\n",
    "            raise AttributeError(f\" __get__ : {owner.__name__} {self.__class__.__name__} \")\n",
    "    \n",
    "    def __set__(self, instance , value) :\n",
    "        if self.fsetter is not None :\n",
    "            return self.fsetter(instance, value)\n",
    "        else :\n",
    "            raise AttributeError(f\" __set__ : {instance.__class__.__name__} {self.__class__.__name__} \")\n",
    "    \n",
    "    def __delete__(self,instance) :\n",
    "        if self.fdeleter is not None :\n",
    "            return self.fdeleter(instance)\n",
    "        else :\n",
    "            raise AttributeError(f\" __del__ : {owner.__class__.__name__} {self.__class__.__name__} \")\n",
    "            \n"
   ]
  },
  {
   "cell_type": "code",
   "execution_count": 2,
   "id": "7247ff9c",
   "metadata": {},
   "outputs": [],
   "source": [
    "def delete(self) :\n",
    "    del self.__class__.x"
   ]
  },
  {
   "cell_type": "code",
   "execution_count": null,
   "id": "5eaf4cd8",
   "metadata": {},
   "outputs": [],
   "source": []
  },
  {
   "cell_type": "code",
   "execution_count": 3,
   "id": "56499553",
   "metadata": {},
   "outputs": [],
   "source": [
    "class MyClass :\n",
    "    x = MyProperty(\n",
    "        getter = (lambda instance : 10),\n",
    "        setter = (lambda instance, value : None),\n",
    "        deleter = (delete)\n",
    "    )"
   ]
  },
  {
   "cell_type": "code",
   "execution_count": null,
   "id": "1d596ec5",
   "metadata": {},
   "outputs": [],
   "source": []
  },
  {
   "cell_type": "code",
   "execution_count": 4,
   "id": "7ddba199",
   "metadata": {},
   "outputs": [],
   "source": [
    "m = MyClass()"
   ]
  },
  {
   "cell_type": "code",
   "execution_count": 5,
   "id": "785ef6bd",
   "metadata": {},
   "outputs": [
    {
     "data": {
      "text/plain": [
       "{}"
      ]
     },
     "execution_count": 5,
     "metadata": {},
     "output_type": "execute_result"
    }
   ],
   "source": [
    "m.__dict__"
   ]
  },
  {
   "cell_type": "code",
   "execution_count": 6,
   "id": "fa6e9ee7",
   "metadata": {},
   "outputs": [
    {
     "data": {
      "text/plain": [
       "10"
      ]
     },
     "execution_count": 6,
     "metadata": {},
     "output_type": "execute_result"
    }
   ],
   "source": [
    "m.x"
   ]
  },
  {
   "cell_type": "code",
   "execution_count": 7,
   "id": "6084d4dc",
   "metadata": {},
   "outputs": [],
   "source": [
    "m.x = 300"
   ]
  },
  {
   "cell_type": "code",
   "execution_count": 8,
   "id": "4a234274",
   "metadata": {},
   "outputs": [
    {
     "data": {
      "text/plain": [
       "10"
      ]
     },
     "execution_count": 8,
     "metadata": {},
     "output_type": "execute_result"
    }
   ],
   "source": [
    "m.x"
   ]
  },
  {
   "cell_type": "code",
   "execution_count": 9,
   "id": "59861e34",
   "metadata": {},
   "outputs": [],
   "source": [
    "del m.x"
   ]
  },
  {
   "cell_type": "code",
   "execution_count": 10,
   "id": "3407c70e",
   "metadata": {},
   "outputs": [
    {
     "ename": "AttributeError",
     "evalue": "'MyClass' object has no attribute 'x'",
     "output_type": "error",
     "traceback": [
      "\u001b[0;31m---------------------------------------------------------------------------\u001b[0m",
      "\u001b[0;31mAttributeError\u001b[0m                            Traceback (most recent call last)",
      "Cell \u001b[0;32mIn[10], line 1\u001b[0m\n\u001b[0;32m----> 1\u001b[0m \u001b[43mm\u001b[49m\u001b[38;5;241;43m.\u001b[39;49m\u001b[43mx\u001b[49m\n",
      "\u001b[0;31mAttributeError\u001b[0m: 'MyClass' object has no attribute 'x'"
     ]
    }
   ],
   "source": [
    "m.x"
   ]
  },
  {
   "cell_type": "markdown",
   "id": "bc891311",
   "metadata": {},
   "source": [
    "## 일반적인 프로퍼티 처리 "
   ]
  },
  {
   "cell_type": "code",
   "execution_count": 11,
   "id": "cdc7b9c8",
   "metadata": {},
   "outputs": [],
   "source": [
    "class MyProperty2:\n",
    "    def __init__(self, value):\n",
    "        self._value = value\n",
    "\n",
    "    @property\n",
    "    def value(self):\n",
    "        return self._value\n",
    "\n",
    "    @value.setter\n",
    "    def value(self, new_value):\n",
    "        if isinstance(new_value, int):\n",
    "            self._value = new_value\n",
    "        else:\n",
    "            print(\"MyProperty value must be an integer.\")\n",
    "\n",
    "    @value.deleter\n",
    "    def value(self):\n",
    "        print(\"Deleting the value.\")\n",
    "        del self._value"
   ]
  },
  {
   "cell_type": "code",
   "execution_count": 12,
   "id": "fbb9952a",
   "metadata": {},
   "outputs": [],
   "source": [
    "m2 = MyProperty2(100)"
   ]
  },
  {
   "cell_type": "code",
   "execution_count": 13,
   "id": "00fc293e",
   "metadata": {},
   "outputs": [
    {
     "data": {
      "text/plain": [
       "100"
      ]
     },
     "execution_count": 13,
     "metadata": {},
     "output_type": "execute_result"
    }
   ],
   "source": [
    "m2.value"
   ]
  },
  {
   "cell_type": "code",
   "execution_count": 14,
   "id": "ac049fb2",
   "metadata": {},
   "outputs": [
    {
     "name": "stdout",
     "output_type": "stream",
     "text": [
      "Deleting the value.\n"
     ]
    }
   ],
   "source": [
    "del m2.value"
   ]
  },
  {
   "cell_type": "code",
   "execution_count": 15,
   "id": "69594ae0",
   "metadata": {},
   "outputs": [
    {
     "ename": "AttributeError",
     "evalue": "'MyProperty2' object has no attribute '_value'",
     "output_type": "error",
     "traceback": [
      "\u001b[0;31m---------------------------------------------------------------------------\u001b[0m",
      "\u001b[0;31mAttributeError\u001b[0m                            Traceback (most recent call last)",
      "Cell \u001b[0;32mIn[15], line 1\u001b[0m\n\u001b[0;32m----> 1\u001b[0m \u001b[43mm2\u001b[49m\u001b[38;5;241;43m.\u001b[39;49m\u001b[43mvalue\u001b[49m\n",
      "Cell \u001b[0;32mIn[11], line 7\u001b[0m, in \u001b[0;36mMyProperty2.value\u001b[0;34m(self)\u001b[0m\n\u001b[1;32m      5\u001b[0m \u001b[38;5;129m@property\u001b[39m\n\u001b[1;32m      6\u001b[0m \u001b[38;5;28;01mdef\u001b[39;00m \u001b[38;5;21mvalue\u001b[39m(\u001b[38;5;28mself\u001b[39m):\n\u001b[0;32m----> 7\u001b[0m     \u001b[38;5;28;01mreturn\u001b[39;00m \u001b[38;5;28;43mself\u001b[39;49m\u001b[38;5;241;43m.\u001b[39;49m\u001b[43m_value\u001b[49m\n",
      "\u001b[0;31mAttributeError\u001b[0m: 'MyProperty2' object has no attribute '_value'"
     ]
    }
   ],
   "source": [
    "m2.value"
   ]
  },
  {
   "cell_type": "code",
   "execution_count": null,
   "id": "92f6e3ca",
   "metadata": {},
   "outputs": [],
   "source": []
  },
  {
   "cell_type": "markdown",
   "id": "f62cffc7",
   "metadata": {},
   "source": [
    "## 프로퍼터 클래스 정의 "
   ]
  },
  {
   "cell_type": "code",
   "execution_count": 16,
   "id": "08d37c12",
   "metadata": {},
   "outputs": [],
   "source": [
    "class ClassPropertyDescriptor(object):\n",
    "\n",
    "    def __init__(self, fget, fset=None):\n",
    "        self.fget = fget\n",
    "        self.fset = fset\n",
    "\n",
    "    def __get__(self, obj, klass=None):\n",
    "        if klass is None:\n",
    "            klass = type(obj)\n",
    "        return self.fget.__get__(obj, klass)()\n",
    "\n",
    "    def __set__(self, obj, value):\n",
    "        if not self.fset:\n",
    "            raise AttributeError(\"can't set attribute\")\n",
    "        type_ = type(obj)\n",
    "        return self.fset.__get__(obj, type_)(value)\n",
    "\n",
    "    def setter(self, func):\n",
    "        if not isinstance(func, (classmethod, staticmethod)):\n",
    "            func = classmethod(func)\n",
    "        self.fset = func\n",
    "        return self\n",
    "\n"
   ]
  },
  {
   "cell_type": "markdown",
   "id": "0f493acf",
   "metadata": {},
   "source": [
    "## 테코레이터 처리 "
   ]
  },
  {
   "cell_type": "code",
   "execution_count": 17,
   "id": "6c0f8261",
   "metadata": {},
   "outputs": [],
   "source": [
    "def classproperty(func):\n",
    "    if not isinstance(func, (classmethod, staticmethod)):\n",
    "        func = classmethod(func)\n",
    "\n",
    "    return ClassPropertyDescriptor(func)"
   ]
  },
  {
   "cell_type": "markdown",
   "id": "ed694dde",
   "metadata": {},
   "source": [
    "## 클래스 바녕 "
   ]
  },
  {
   "cell_type": "code",
   "execution_count": 18,
   "id": "401f1e99",
   "metadata": {},
   "outputs": [],
   "source": [
    "class Bar(object):\n",
    "\n",
    "    _bar = 1\n",
    "\n",
    "    @classproperty\n",
    "    def bar(cls):\n",
    "        return cls._bar\n",
    "\n",
    "    @bar.setter\n",
    "    def bar(cls, value):\n",
    "        cls._bar = value\n",
    "\n"
   ]
  },
  {
   "cell_type": "code",
   "execution_count": null,
   "id": "418e0b25",
   "metadata": {},
   "outputs": [],
   "source": []
  },
  {
   "cell_type": "code",
   "execution_count": 19,
   "id": "af408dba",
   "metadata": {},
   "outputs": [],
   "source": [
    "# test instance instantiation\n",
    "foo = Bar()\n",
    "assert foo.bar == 1\n",
    "\n",
    "baz = Bar()\n",
    "assert baz.bar == 1\n",
    "\n",
    "# test static variable\n",
    "baz.bar = 5\n",
    "assert foo.bar == 5\n",
    "\n",
    "# test setting variable on the class\n",
    "Bar.bar = 50\n",
    "assert baz.bar == 50\n",
    "assert foo.bar == 50"
   ]
  },
  {
   "cell_type": "code",
   "execution_count": null,
   "id": "b93ca196",
   "metadata": {},
   "outputs": [],
   "source": []
  }
 ],
 "metadata": {
  "kernelspec": {
   "display_name": "Python 3 (ipykernel)",
   "language": "python",
   "name": "python3"
  },
  "language_info": {
   "codemirror_mode": {
    "name": "ipython",
    "version": 3
   },
   "file_extension": ".py",
   "mimetype": "text/x-python",
   "name": "python",
   "nbconvert_exporter": "python",
   "pygments_lexer": "ipython3",
   "version": "3.9.16"
  }
 },
 "nbformat": 4,
 "nbformat_minor": 5
}
