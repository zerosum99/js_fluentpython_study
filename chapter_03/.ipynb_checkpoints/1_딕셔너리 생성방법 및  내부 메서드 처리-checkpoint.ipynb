{
 "cells": [
  {
   "cell_type": "markdown",
   "id": "6f38a6c1",
   "metadata": {},
   "source": [
    "## 1. 딕셔너리 "
   ]
  },
  {
   "cell_type": "markdown",
   "id": "7f133313",
   "metadata": {},
   "source": [
    "## 1-1 딕셔너리 생성 "
   ]
  },
  {
   "cell_type": "markdown",
   "id": "5fdf2867",
   "metadata": {},
   "source": [
    "## 리터럴로 생성하기 "
   ]
  },
  {
   "cell_type": "code",
   "execution_count": 1,
   "id": "e44bc83a",
   "metadata": {},
   "outputs": [],
   "source": [
    "dd = {'a':100}"
   ]
  },
  {
   "cell_type": "markdown",
   "id": "03d30736",
   "metadata": {},
   "source": [
    "## 생성자로 생성하기 "
   ]
  },
  {
   "cell_type": "code",
   "execution_count": 2,
   "id": "c1a304bd",
   "metadata": {},
   "outputs": [],
   "source": [
    "dd1 = dict([('a', 100),('b',200)])"
   ]
  },
  {
   "cell_type": "markdown",
   "id": "edfb5128",
   "metadata": {},
   "source": [
    "## 메타 클래스로 자료형 확인하기"
   ]
  },
  {
   "cell_type": "code",
   "execution_count": 3,
   "id": "d937ddd7",
   "metadata": {},
   "outputs": [
    {
     "data": {
      "text/plain": [
       "dict"
      ]
     },
     "execution_count": 3,
     "metadata": {},
     "output_type": "execute_result"
    }
   ],
   "source": [
    "type(dd)"
   ]
  },
  {
   "cell_type": "markdown",
   "id": "f7bef9ed",
   "metadata": {},
   "source": [
    "## 스페셜 속성으로 자료형 확인하기 "
   ]
  },
  {
   "cell_type": "code",
   "execution_count": 4,
   "id": "59b30d8f",
   "metadata": {},
   "outputs": [
    {
     "data": {
      "text/plain": [
       "dict"
      ]
     },
     "execution_count": 4,
     "metadata": {},
     "output_type": "execute_result"
    }
   ],
   "source": [
    "dd1.__class__"
   ]
  },
  {
   "cell_type": "code",
   "execution_count": null,
   "id": "6b8b1121",
   "metadata": {},
   "outputs": [],
   "source": []
  },
  {
   "cell_type": "markdown",
   "id": "9e947100",
   "metadata": {},
   "source": [
    "## 1-2 딕셔너리 값 조회 "
   ]
  },
  {
   "cell_type": "markdown",
   "id": "588c1154",
   "metadata": {},
   "source": [
    "## 순환문으로 순회  : 키값만 처리"
   ]
  },
  {
   "cell_type": "code",
   "execution_count": 5,
   "id": "bd980b98",
   "metadata": {},
   "outputs": [
    {
     "name": "stdout",
     "output_type": "stream",
     "text": [
      "a\n",
      "b\n"
     ]
    }
   ],
   "source": [
    "for i in dd1 :\n",
    "    print(i)"
   ]
  },
  {
   "cell_type": "code",
   "execution_count": null,
   "id": "a49ef2d8",
   "metadata": {},
   "outputs": [],
   "source": []
  },
  {
   "cell_type": "markdown",
   "id": "99df61bf",
   "metadata": {},
   "source": [
    "## 1-3 딕셔너리 내부 키와 값을 조회 "
   ]
  },
  {
   "cell_type": "markdown",
   "id": "89378179",
   "metadata": {},
   "source": [
    "## 키값만 조회"
   ]
  },
  {
   "cell_type": "code",
   "execution_count": 6,
   "id": "3be82026",
   "metadata": {},
   "outputs": [
    {
     "data": {
      "text/plain": [
       "dict_keys(['a', 'b'])"
      ]
     },
     "execution_count": 6,
     "metadata": {},
     "output_type": "execute_result"
    }
   ],
   "source": [
    "dd1.keys()"
   ]
  },
  {
   "cell_type": "markdown",
   "id": "ad0bb600",
   "metadata": {},
   "source": [
    "## 값만 조회"
   ]
  },
  {
   "cell_type": "code",
   "execution_count": 7,
   "id": "3efc6435",
   "metadata": {},
   "outputs": [
    {
     "data": {
      "text/plain": [
       "dict_values([100, 200])"
      ]
     },
     "execution_count": 7,
     "metadata": {},
     "output_type": "execute_result"
    }
   ],
   "source": [
    "dd1.values()"
   ]
  },
  {
   "cell_type": "code",
   "execution_count": null,
   "id": "25186bfd",
   "metadata": {},
   "outputs": [],
   "source": []
  },
  {
   "cell_type": "markdown",
   "id": "4e2ea0ec",
   "metadata": {},
   "source": [
    "## 키와 값의 처리 기준 알아보기 "
   ]
  },
  {
   "cell_type": "code",
   "execution_count": 8,
   "id": "10cff51c",
   "metadata": {},
   "outputs": [],
   "source": [
    "import collections.abc as abc"
   ]
  },
  {
   "cell_type": "code",
   "execution_count": 9,
   "id": "9bafcb25",
   "metadata": {},
   "outputs": [
    {
     "data": {
      "text/plain": [
       "True"
      ]
     },
     "execution_count": 9,
     "metadata": {},
     "output_type": "execute_result"
    }
   ],
   "source": [
    "issubclass(dd.keys().__class__, abc.Iterable)"
   ]
  },
  {
   "cell_type": "code",
   "execution_count": 10,
   "id": "748608e4",
   "metadata": {},
   "outputs": [
    {
     "data": {
      "text/plain": [
       "False"
      ]
     },
     "execution_count": 10,
     "metadata": {},
     "output_type": "execute_result"
    }
   ],
   "source": [
    "issubclass(dd.keys().__class__, abc.Iterator)"
   ]
  },
  {
   "cell_type": "markdown",
   "id": "edd714b0",
   "metadata": {},
   "source": [
    "### 키와 값을 가져오면 반복형이므로 순환할 때는 반복자로 변형 "
   ]
  },
  {
   "cell_type": "code",
   "execution_count": 11,
   "id": "025831b4",
   "metadata": {},
   "outputs": [
    {
     "data": {
      "text/plain": [
       "<dict_keyiterator at 0x104272f20>"
      ]
     },
     "execution_count": 11,
     "metadata": {},
     "output_type": "execute_result"
    }
   ],
   "source": [
    "iter(dd.keys())"
   ]
  },
  {
   "cell_type": "code",
   "execution_count": null,
   "id": "d0fa1a79",
   "metadata": {},
   "outputs": [],
   "source": []
  },
  {
   "cell_type": "code",
   "execution_count": 8,
   "id": "8be37d3b",
   "metadata": {},
   "outputs": [
    {
     "data": {
      "text/plain": [
       "True"
      ]
     },
     "execution_count": 8,
     "metadata": {},
     "output_type": "execute_result"
    }
   ],
   "source": [
    "issubclass(dd.values().__class__, abc.Iterable)"
   ]
  },
  {
   "cell_type": "code",
   "execution_count": 9,
   "id": "a9336344",
   "metadata": {},
   "outputs": [
    {
     "data": {
      "text/plain": [
       "False"
      ]
     },
     "execution_count": 9,
     "metadata": {},
     "output_type": "execute_result"
    }
   ],
   "source": [
    "issubclass(dd.values().__class__, abc.Iterator)"
   ]
  },
  {
   "cell_type": "code",
   "execution_count": 14,
   "id": "e348267b",
   "metadata": {},
   "outputs": [
    {
     "data": {
      "text/plain": [
       "<dict_valueiterator at 0x107b9dd10>"
      ]
     },
     "execution_count": 14,
     "metadata": {},
     "output_type": "execute_result"
    }
   ],
   "source": [
    "iter(dd.values())"
   ]
  },
  {
   "cell_type": "code",
   "execution_count": null,
   "id": "fc8a14fc",
   "metadata": {},
   "outputs": [],
   "source": []
  },
  {
   "cell_type": "markdown",
   "id": "1a302578",
   "metadata": {},
   "source": [
    "## 키와 값을 쌍으로 조회"
   ]
  },
  {
   "cell_type": "code",
   "execution_count": 10,
   "id": "b45268e3",
   "metadata": {},
   "outputs": [
    {
     "data": {
      "text/plain": [
       "dict_items([('a', 100)])"
      ]
     },
     "execution_count": 10,
     "metadata": {},
     "output_type": "execute_result"
    }
   ],
   "source": [
    "dd.items()"
   ]
  },
  {
   "cell_type": "code",
   "execution_count": 11,
   "id": "ee1163b1",
   "metadata": {},
   "outputs": [
    {
     "data": {
      "text/plain": [
       "True"
      ]
     },
     "execution_count": 11,
     "metadata": {},
     "output_type": "execute_result"
    }
   ],
   "source": [
    "issubclass(dd.items().__class__, abc.Iterable)"
   ]
  },
  {
   "cell_type": "code",
   "execution_count": 12,
   "id": "36d00cff",
   "metadata": {},
   "outputs": [
    {
     "data": {
      "text/plain": [
       "False"
      ]
     },
     "execution_count": 12,
     "metadata": {},
     "output_type": "execute_result"
    }
   ],
   "source": [
    "issubclass(dd.items().__class__, abc.Iterator)"
   ]
  },
  {
   "cell_type": "code",
   "execution_count": 15,
   "id": "8b66c0a6",
   "metadata": {},
   "outputs": [
    {
     "data": {
      "text/plain": [
       "<dict_itemiterator at 0x107c329f0>"
      ]
     },
     "execution_count": 15,
     "metadata": {},
     "output_type": "execute_result"
    }
   ],
   "source": [
    "iter(dd.items())"
   ]
  },
  {
   "cell_type": "code",
   "execution_count": null,
   "id": "3b208d07",
   "metadata": {},
   "outputs": [],
   "source": []
  },
  {
   "cell_type": "markdown",
   "id": "5e1069bc",
   "metadata": {},
   "source": [
    "## 1-2 내부 값조회 및 갱신"
   ]
  },
  {
   "cell_type": "markdown",
   "id": "df5ab97b",
   "metadata": {},
   "source": [
    "### 조회하기 "
   ]
  },
  {
   "cell_type": "code",
   "execution_count": 17,
   "id": "f9fa7c85",
   "metadata": {},
   "outputs": [
    {
     "data": {
      "text/plain": [
       "100"
      ]
     },
     "execution_count": 17,
     "metadata": {},
     "output_type": "execute_result"
    }
   ],
   "source": [
    "dd.get('a')"
   ]
  },
  {
   "cell_type": "markdown",
   "id": "2f9a6ef1",
   "metadata": {},
   "source": [
    "### 키값이 없으면 예외"
   ]
  },
  {
   "cell_type": "code",
   "execution_count": 19,
   "id": "bb915813",
   "metadata": {},
   "outputs": [
    {
     "data": {
      "text/plain": [
       "'키없음'"
      ]
     },
     "execution_count": 19,
     "metadata": {},
     "output_type": "execute_result"
    }
   ],
   "source": [
    "dd.get('b', \"키없음\")"
   ]
  },
  {
   "cell_type": "code",
   "execution_count": 20,
   "id": "b8fb1dab",
   "metadata": {},
   "outputs": [
    {
     "ename": "KeyError",
     "evalue": "'b'",
     "output_type": "error",
     "traceback": [
      "\u001b[0;31m---------------------------------------------------------------------------\u001b[0m",
      "\u001b[0;31mKeyError\u001b[0m                                  Traceback (most recent call last)",
      "Cell \u001b[0;32mIn[20], line 1\u001b[0m\n\u001b[0;32m----> 1\u001b[0m \u001b[43mdd\u001b[49m\u001b[43m[\u001b[49m\u001b[38;5;124;43m'\u001b[39;49m\u001b[38;5;124;43mb\u001b[39;49m\u001b[38;5;124;43m'\u001b[39;49m\u001b[43m]\u001b[49m\n",
      "\u001b[0;31mKeyError\u001b[0m: 'b'"
     ]
    }
   ],
   "source": [
    "dd['b']"
   ]
  },
  {
   "cell_type": "markdown",
   "id": "1be4c619",
   "metadata": {},
   "source": [
    "### 대안 "
   ]
  },
  {
   "cell_type": "code",
   "execution_count": 21,
   "id": "306e1bf8",
   "metadata": {},
   "outputs": [
    {
     "data": {
      "text/plain": [
       "'강제로 값 처리'"
      ]
     },
     "execution_count": 21,
     "metadata": {},
     "output_type": "execute_result"
    }
   ],
   "source": [
    "dd.setdefault('b', \"강제로 값 처리\")"
   ]
  },
  {
   "cell_type": "code",
   "execution_count": 22,
   "id": "5340f2f2",
   "metadata": {},
   "outputs": [
    {
     "data": {
      "text/plain": [
       "{'a': 100, 'b': '강제로 값 처리'}"
      ]
     },
     "execution_count": 22,
     "metadata": {},
     "output_type": "execute_result"
    }
   ],
   "source": [
    "dd"
   ]
  },
  {
   "cell_type": "code",
   "execution_count": null,
   "id": "b1cb3161",
   "metadata": {},
   "outputs": [],
   "source": []
  }
 ],
 "metadata": {
  "kernelspec": {
   "display_name": "Python 3 (ipykernel)",
   "language": "python",
   "name": "python3"
  },
  "language_info": {
   "codemirror_mode": {
    "name": "ipython",
    "version": 3
   },
   "file_extension": ".py",
   "mimetype": "text/x-python",
   "name": "python",
   "nbconvert_exporter": "python",
   "pygments_lexer": "ipython3",
   "version": "3.11.3"
  }
 },
 "nbformat": 4,
 "nbformat_minor": 5
}
