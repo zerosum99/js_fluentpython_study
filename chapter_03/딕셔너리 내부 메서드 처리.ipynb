{
 "cells": [
  {
   "cell_type": "markdown",
   "id": "48293d14",
   "metadata": {},
   "source": [
    "## 딕셔너리 내부 키와 값을 처리 "
   ]
  },
  {
   "cell_type": "code",
   "execution_count": 1,
   "id": "9c46f413",
   "metadata": {},
   "outputs": [],
   "source": [
    "dd = {'a':100}"
   ]
  },
  {
   "cell_type": "code",
   "execution_count": 2,
   "id": "e4542896",
   "metadata": {},
   "outputs": [],
   "source": [
    "import collections.abc as abc"
   ]
  },
  {
   "cell_type": "code",
   "execution_count": 3,
   "id": "a19b3d32",
   "metadata": {},
   "outputs": [
    {
     "data": {
      "text/plain": [
       "dict_keys(['a'])"
      ]
     },
     "execution_count": 3,
     "metadata": {},
     "output_type": "execute_result"
    }
   ],
   "source": [
    "dd.keys()"
   ]
  },
  {
   "cell_type": "code",
   "execution_count": 5,
   "id": "d725f21d",
   "metadata": {},
   "outputs": [
    {
     "data": {
      "text/plain": [
       "True"
      ]
     },
     "execution_count": 5,
     "metadata": {},
     "output_type": "execute_result"
    }
   ],
   "source": [
    "issubclass(dd.keys().__class__, abc.Iterable)"
   ]
  },
  {
   "cell_type": "code",
   "execution_count": 6,
   "id": "54f327e7",
   "metadata": {},
   "outputs": [
    {
     "data": {
      "text/plain": [
       "False"
      ]
     },
     "execution_count": 6,
     "metadata": {},
     "output_type": "execute_result"
    }
   ],
   "source": [
    "issubclass(dd.keys().__class__, abc.Iterator)"
   ]
  },
  {
   "cell_type": "code",
   "execution_count": 16,
   "id": "6e7236a6",
   "metadata": {},
   "outputs": [
    {
     "data": {
      "text/plain": [
       "<dict_keyiterator at 0x1081bb5e0>"
      ]
     },
     "execution_count": 16,
     "metadata": {},
     "output_type": "execute_result"
    }
   ],
   "source": [
    "iter(dd.keys())"
   ]
  },
  {
   "cell_type": "code",
   "execution_count": null,
   "id": "0a0c6655",
   "metadata": {},
   "outputs": [],
   "source": []
  },
  {
   "cell_type": "code",
   "execution_count": null,
   "id": "27d7db91",
   "metadata": {},
   "outputs": [],
   "source": []
  },
  {
   "cell_type": "code",
   "execution_count": 7,
   "id": "3ef076b2",
   "metadata": {},
   "outputs": [
    {
     "data": {
      "text/plain": [
       "dict_values([100])"
      ]
     },
     "execution_count": 7,
     "metadata": {},
     "output_type": "execute_result"
    }
   ],
   "source": [
    "dd.values()"
   ]
  },
  {
   "cell_type": "code",
   "execution_count": 8,
   "id": "f9a8958e",
   "metadata": {},
   "outputs": [
    {
     "data": {
      "text/plain": [
       "True"
      ]
     },
     "execution_count": 8,
     "metadata": {},
     "output_type": "execute_result"
    }
   ],
   "source": [
    "issubclass(dd.values().__class__, abc.Iterable)"
   ]
  },
  {
   "cell_type": "code",
   "execution_count": 9,
   "id": "03c72720",
   "metadata": {},
   "outputs": [
    {
     "data": {
      "text/plain": [
       "False"
      ]
     },
     "execution_count": 9,
     "metadata": {},
     "output_type": "execute_result"
    }
   ],
   "source": [
    "issubclass(dd.values().__class__, abc.Iterator)"
   ]
  },
  {
   "cell_type": "code",
   "execution_count": 14,
   "id": "692a55c4",
   "metadata": {},
   "outputs": [
    {
     "data": {
      "text/plain": [
       "<dict_valueiterator at 0x107b9dd10>"
      ]
     },
     "execution_count": 14,
     "metadata": {},
     "output_type": "execute_result"
    }
   ],
   "source": [
    "iter(dd.values())"
   ]
  },
  {
   "cell_type": "code",
   "execution_count": null,
   "id": "88f26d0b",
   "metadata": {},
   "outputs": [],
   "source": []
  },
  {
   "cell_type": "code",
   "execution_count": null,
   "id": "6842380b",
   "metadata": {},
   "outputs": [],
   "source": []
  },
  {
   "cell_type": "code",
   "execution_count": null,
   "id": "fd46c51b",
   "metadata": {},
   "outputs": [],
   "source": []
  },
  {
   "cell_type": "code",
   "execution_count": 10,
   "id": "ae24dfed",
   "metadata": {},
   "outputs": [
    {
     "data": {
      "text/plain": [
       "dict_items([('a', 100)])"
      ]
     },
     "execution_count": 10,
     "metadata": {},
     "output_type": "execute_result"
    }
   ],
   "source": [
    "dd.items()"
   ]
  },
  {
   "cell_type": "code",
   "execution_count": 11,
   "id": "481bc48c",
   "metadata": {},
   "outputs": [
    {
     "data": {
      "text/plain": [
       "True"
      ]
     },
     "execution_count": 11,
     "metadata": {},
     "output_type": "execute_result"
    }
   ],
   "source": [
    "issubclass(dd.items().__class__, abc.Iterable)"
   ]
  },
  {
   "cell_type": "code",
   "execution_count": 12,
   "id": "f35924b5",
   "metadata": {},
   "outputs": [
    {
     "data": {
      "text/plain": [
       "False"
      ]
     },
     "execution_count": 12,
     "metadata": {},
     "output_type": "execute_result"
    }
   ],
   "source": [
    "issubclass(dd.items().__class__, abc.Iterator)"
   ]
  },
  {
   "cell_type": "code",
   "execution_count": 15,
   "id": "6f6dbcaa",
   "metadata": {},
   "outputs": [
    {
     "data": {
      "text/plain": [
       "<dict_itemiterator at 0x107c329f0>"
      ]
     },
     "execution_count": 15,
     "metadata": {},
     "output_type": "execute_result"
    }
   ],
   "source": [
    "iter(dd.items())"
   ]
  },
  {
   "cell_type": "code",
   "execution_count": null,
   "id": "500d71dd",
   "metadata": {},
   "outputs": [],
   "source": []
  }
 ],
 "metadata": {
  "kernelspec": {
   "display_name": "Python 3 (ipykernel)",
   "language": "python",
   "name": "python3"
  },
  "language_info": {
   "codemirror_mode": {
    "name": "ipython",
    "version": 3
   },
   "file_extension": ".py",
   "mimetype": "text/x-python",
   "name": "python",
   "nbconvert_exporter": "python",
   "pygments_lexer": "ipython3",
   "version": "3.9.16"
  }
 },
 "nbformat": 4,
 "nbformat_minor": 5
}
