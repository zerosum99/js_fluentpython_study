{
 "cells": [
  {
   "cell_type": "code",
   "execution_count": null,
   "id": "49a816fd",
   "metadata": {},
   "outputs": [],
   "source": []
  },
  {
   "cell_type": "code",
   "execution_count": 7,
   "id": "10456754",
   "metadata": {},
   "outputs": [
    {
     "data": {
      "text/plain": [
       "'3.11.3'"
      ]
     },
     "execution_count": 7,
     "metadata": {},
     "output_type": "execute_result"
    }
   ],
   "source": [
    "import platform\n",
    "\n",
    "platform.python_version()"
   ]
  },
  {
   "cell_type": "code",
   "execution_count": null,
   "id": "1a5cb434",
   "metadata": {},
   "outputs": [],
   "source": []
  },
  {
   "cell_type": "code",
   "execution_count": 1,
   "id": "68213b5f",
   "metadata": {},
   "outputs": [],
   "source": [
    "import _thread #thread module imported\n",
    "import time #time module"
   ]
  },
  {
   "cell_type": "code",
   "execution_count": 5,
   "id": "abe43eef",
   "metadata": {},
   "outputs": [
    {
     "name": "stdout",
     "output_type": "stream",
     "text": [
      "LockType, RLock, TIMEOUT_MAX, _ExceptHookArgs, __doc__, __loader__, __name__, __package__, __spec__, _count, _excepthook, _local, _set_sentinel, allocate, allocate_lock, error, exit, exit_thread, get_ident, get_native_id, interrupt_main, stack_size, start_new, start_new_thread, "
     ]
    }
   ],
   "source": [
    "for i in dir(_thread) :\n",
    "    print(i, end=\", \")"
   ]
  },
  {
   "cell_type": "code",
   "execution_count": 2,
   "id": "246685cb",
   "metadata": {},
   "outputs": [],
   "source": [
    "def thread_delay(thread_name, delay):\n",
    "    count = 0\n",
    "    while count < 3:\n",
    "        time.sleep(delay)\n",
    "        count += 1\n",
    "        print(thread_name, '-------->', time.time())\n"
   ]
  },
  {
   "cell_type": "code",
   "execution_count": 4,
   "id": "895f720c",
   "metadata": {},
   "outputs": [
    {
     "data": {
      "text/plain": [
       "6243807232"
      ]
     },
     "execution_count": 4,
     "metadata": {},
     "output_type": "execute_result"
    },
    {
     "name": "stdout",
     "output_type": "stream",
     "text": [
      "t1 --------> 1706591620.165108\n",
      "t1 --------> 1706591621.166703\n",
      "t2 --------> 1706591622.164989\n",
      "t1 --------> 1706591622.171801\n",
      "t2 --------> 1706591625.170308\n",
      "t2 --------> 1706591628.175416\n"
     ]
    }
   ],
   "source": [
    "_thread.start_new_thread(thread_delay, ('t1', 1))\n",
    "_thread.start_new_thread(thread_delay, ('t2', 3))"
   ]
  },
  {
   "cell_type": "code",
   "execution_count": null,
   "id": "c61e2dfd",
   "metadata": {},
   "outputs": [],
   "source": []
  },
  {
   "cell_type": "code",
   "execution_count": 6,
   "id": "eeeee8d1",
   "metadata": {},
   "outputs": [
    {
     "data": {
      "text/plain": [
       "6243807232"
      ]
     },
     "execution_count": 6,
     "metadata": {},
     "output_type": "execute_result"
    },
    {
     "name": "stdout",
     "output_type": "stream",
     "text": [
      "t1 --------> 1706591716.717102\n",
      "t1 --------> 1706591717.72248\n",
      "t1 --------> 1706591718.724242\n",
      "t2 --------> 1706591720.712833\n",
      "t2 --------> 1706591725.715884\n",
      "t2 --------> 1706591730.7195\n"
     ]
    }
   ],
   "source": [
    "_thread.start_new_thread(thread_delay, ('t1', 1))\n",
    "_thread.start_new_thread(thread_delay, ('t2', 5))"
   ]
  },
  {
   "cell_type": "code",
   "execution_count": null,
   "id": "1097ca96",
   "metadata": {},
   "outputs": [],
   "source": []
  }
 ],
 "metadata": {
  "kernelspec": {
   "display_name": "Python 3 (ipykernel)",
   "language": "python",
   "name": "python3"
  },
  "language_info": {
   "codemirror_mode": {
    "name": "ipython",
    "version": 3
   },
   "file_extension": ".py",
   "mimetype": "text/x-python",
   "name": "python",
   "nbconvert_exporter": "python",
   "pygments_lexer": "ipython3",
   "version": "3.11.3"
  }
 },
 "nbformat": 4,
 "nbformat_minor": 5
}
