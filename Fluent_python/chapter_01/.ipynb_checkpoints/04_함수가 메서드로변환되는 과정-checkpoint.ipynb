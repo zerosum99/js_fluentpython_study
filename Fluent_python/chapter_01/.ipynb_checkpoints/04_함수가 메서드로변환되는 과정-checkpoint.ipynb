{
 "cells": [
  {
   "cell_type": "code",
   "execution_count": null,
   "id": "afde9b4d-6fa1-4c0f-9172-98b8f3375767",
   "metadata": {},
   "outputs": [],
   "source": []
  },
  {
   "cell_type": "markdown",
   "id": "37f34108-f4f4-471c-ba2e-262a8f951375",
   "metadata": {},
   "source": [
    "## 1. 함수가 클래스의 인스턴스 메서드로 처리되는 이유"
   ]
  },
  {
   "cell_type": "code",
   "execution_count": 1,
   "id": "59176c48-9252-4f4b-a2dc-a8c9c216077b",
   "metadata": {},
   "outputs": [],
   "source": [
    "import types"
   ]
  },
  {
   "cell_type": "code",
   "execution_count": 2,
   "id": "acc895b0-1f56-43c3-87cb-1e7cc27631a0",
   "metadata": {},
   "outputs": [
    {
     "data": {
      "text/plain": [
       "function"
      ]
     },
     "execution_count": 2,
     "metadata": {},
     "output_type": "execute_result"
    }
   ],
   "source": [
    "types.FunctionType"
   ]
  },
  {
   "cell_type": "markdown",
   "id": "ed522ab9-0764-4006-aabd-292e641dc502",
   "metadata": {},
   "source": [
    "## 클래스 정의 "
   ]
  },
  {
   "cell_type": "code",
   "execution_count": 19,
   "id": "926d7362-f35b-41f9-a578-f265010f77d2",
   "metadata": {},
   "outputs": [],
   "source": [
    "\n",
    "class MyClass:\n",
    "    def __init__(self, x,y):\n",
    "        self.x = x\n",
    "        self.y = y\n"
   ]
  },
  {
   "cell_type": "code",
   "execution_count": null,
   "id": "036340c2-3597-49da-83fc-2ffb55013c68",
   "metadata": {},
   "outputs": [],
   "source": [
    "## 함수 정의 "
   ]
  },
  {
   "cell_type": "code",
   "execution_count": 20,
   "id": "b9eb9c9c-8b67-4e40-90c0-07af61696ad5",
   "metadata": {},
   "outputs": [],
   "source": [
    "def my_method(self):\n",
    "    return self.x"
   ]
  },
  {
   "cell_type": "code",
   "execution_count": 21,
   "id": "52ad2599-2c02-4ddc-80c8-820b5616c0dd",
   "metadata": {},
   "outputs": [],
   "source": [
    "def add(self) :\n",
    "    return self.x+ self.y"
   ]
  },
  {
   "cell_type": "code",
   "execution_count": 22,
   "id": "c736be92-a786-451d-af4d-5c3d1132fcca",
   "metadata": {},
   "outputs": [
    {
     "name": "stdout",
     "output_type": "stream",
     "text": [
      "Help on class function in module builtins:\n",
      "\n",
      "class function(object)\n",
      " |  function(code, globals, name=None, argdefs=None, closure=None)\n",
      " |  \n",
      " |  Create a function object.\n",
      " |  \n",
      " |  code\n",
      " |    a code object\n",
      " |  globals\n",
      " |    the globals dictionary\n",
      " |  name\n",
      " |    a string that overrides the name from the code object\n",
      " |  argdefs\n",
      " |    a tuple that specifies the default argument values\n",
      " |  closure\n",
      " |    a tuple that supplies the bindings for free variables\n",
      " |  \n",
      " |  Methods defined here:\n",
      " |  \n",
      " |  __call__(self, /, *args, **kwargs)\n",
      " |      Call self as a function.\n",
      " |  \n",
      " |  __get__(self, instance, owner, /)\n",
      " |      Return an attribute of instance, which is of type owner.\n",
      " |  \n",
      " |  __repr__(self, /)\n",
      " |      Return repr(self).\n",
      " |  \n",
      " |  ----------------------------------------------------------------------\n",
      " |  Static methods defined here:\n",
      " |  \n",
      " |  __new__(*args, **kwargs) from builtins.type\n",
      " |      Create and return a new object.  See help(type) for accurate signature.\n",
      " |  \n",
      " |  ----------------------------------------------------------------------\n",
      " |  Data descriptors defined here:\n",
      " |  \n",
      " |  __annotations__\n",
      " |  \n",
      " |  __closure__\n",
      " |  \n",
      " |  __code__\n",
      " |  \n",
      " |  __defaults__\n",
      " |  \n",
      " |  __dict__\n",
      " |  \n",
      " |  __globals__\n",
      " |  \n",
      " |  __kwdefaults__\n",
      "\n"
     ]
    }
   ],
   "source": [
    "help(types.FunctionType)"
   ]
  },
  {
   "cell_type": "code",
   "execution_count": 25,
   "id": "f581521d-d1ff-4190-9998-02bb13c03904",
   "metadata": {},
   "outputs": [],
   "source": [
    "# 함수 객체를 생성\n",
    "func = types.FunctionType(my_method.__code__, globals(), \"my_method\")"
   ]
  },
  {
   "cell_type": "code",
   "execution_count": 26,
   "id": "7192f061-974a-4317-b906-4a801aa88041",
   "metadata": {},
   "outputs": [],
   "source": [
    "add_ = types.FunctionType(add.__code__, globals(),\"add_\")"
   ]
  },
  {
   "cell_type": "code",
   "execution_count": 24,
   "id": "b74286e8-e211-42fe-9bed-577c5a8e69bf",
   "metadata": {},
   "outputs": [
    {
     "data": {
      "text/plain": [
       "['__annotations__',\n",
       " '__call__',\n",
       " '__class__',\n",
       " '__closure__',\n",
       " '__code__',\n",
       " '__defaults__',\n",
       " '__delattr__',\n",
       " '__dict__',\n",
       " '__dir__',\n",
       " '__doc__',\n",
       " '__eq__',\n",
       " '__format__',\n",
       " '__ge__',\n",
       " '__get__',\n",
       " '__getattribute__',\n",
       " '__globals__',\n",
       " '__gt__',\n",
       " '__hash__',\n",
       " '__init__',\n",
       " '__init_subclass__',\n",
       " '__kwdefaults__',\n",
       " '__le__',\n",
       " '__lt__',\n",
       " '__module__',\n",
       " '__name__',\n",
       " '__ne__',\n",
       " '__new__',\n",
       " '__qualname__',\n",
       " '__reduce__',\n",
       " '__reduce_ex__',\n",
       " '__repr__',\n",
       " '__setattr__',\n",
       " '__sizeof__',\n",
       " '__str__',\n",
       " '__subclasshook__']"
      ]
     },
     "execution_count": 24,
     "metadata": {},
     "output_type": "execute_result"
    }
   ],
   "source": [
    "dir(types.FunctionType)"
   ]
  },
  {
   "cell_type": "code",
   "execution_count": 27,
   "id": "b38adbdb-5d8c-4f0a-937b-0d5f053421a8",
   "metadata": {},
   "outputs": [],
   "source": [
    "# 함수 객체를 메서드로 바인딩\n",
    "obj = MyClass(10,20)\n"
   ]
  },
  {
   "cell_type": "markdown",
   "id": "62c17fac-1eaa-412a-b21a-ed26bcbc9ce1",
   "metadata": {},
   "source": [
    "## 함수 객체를 메서드 객체로 가져오기 \n",
    "\n",
    "\n",
    "### types.FunctionType.__get__ 메서드\n",
    "- 파이썬의 내부 메서드 중 하나로, 함수 객체에 대한 \"메소드\" 바인딩을 제공합니다.\n",
    "- 이 메서드를 사용하면 함수 객체를 메서드로 변환할 수 있습니다."
   ]
  },
  {
   "cell_type": "code",
   "execution_count": 28,
   "id": "345ca3a1-2c6c-444f-9779-342ac353f4e1",
   "metadata": {},
   "outputs": [],
   "source": [
    "bound_method = types.FunctionType.__get__(func, obj, MyClass)"
   ]
  },
  {
   "cell_type": "code",
   "execution_count": 29,
   "id": "61c78b81-09ef-4840-8d6c-96654b1d1eda",
   "metadata": {},
   "outputs": [],
   "source": [
    "bound_method_add = types.FunctionType.__get__(add_, obj, MyClass)"
   ]
  },
  {
   "cell_type": "markdown",
   "id": "bd72655f-64c4-4930-bdc4-74a9a235ec06",
   "metadata": {},
   "source": [
    "## 메서드 내의 바인딩 속성과 저장된 함수 조회하기 "
   ]
  },
  {
   "cell_type": "code",
   "execution_count": 32,
   "id": "c54a57c2-8718-46e0-973d-0d36250d94bd",
   "metadata": {},
   "outputs": [
    {
     "data": {
      "text/plain": [
       "<__main__.MyClass at 0x105d55d90>"
      ]
     },
     "execution_count": 32,
     "metadata": {},
     "output_type": "execute_result"
    }
   ],
   "source": [
    "bound_method.__self__"
   ]
  },
  {
   "cell_type": "code",
   "execution_count": 34,
   "id": "ad959fbc-2405-4b06-b85a-4f48cd0a68e2",
   "metadata": {},
   "outputs": [
    {
     "data": {
      "text/plain": [
       "<function __main__.my_method(self)>"
      ]
     },
     "execution_count": 34,
     "metadata": {},
     "output_type": "execute_result"
    }
   ],
   "source": [
    "bound_method.__func__"
   ]
  },
  {
   "cell_type": "code",
   "execution_count": 33,
   "id": "929bd728-06a9-4619-84ca-26ee4197899e",
   "metadata": {},
   "outputs": [
    {
     "data": {
      "text/plain": [
       "<__main__.MyClass at 0x105d55d90>"
      ]
     },
     "execution_count": 33,
     "metadata": {},
     "output_type": "execute_result"
    }
   ],
   "source": [
    "bound_method_add.__self__"
   ]
  },
  {
   "cell_type": "code",
   "execution_count": 35,
   "id": "654d374e-02f7-4b84-bc6d-f5d42bb876c2",
   "metadata": {},
   "outputs": [
    {
     "data": {
      "text/plain": [
       "<function __main__.add(self)>"
      ]
     },
     "execution_count": 35,
     "metadata": {},
     "output_type": "execute_result"
    }
   ],
   "source": [
    "bound_method_add.__func__"
   ]
  },
  {
   "cell_type": "markdown",
   "id": "7275bb2d-9879-4d87-8fe2-90252e6c1ea3",
   "metadata": {},
   "source": [
    "## 메서드 실행하기 "
   ]
  },
  {
   "cell_type": "code",
   "execution_count": 30,
   "id": "980ed93c-28f2-4924-9bbf-44b57dbd186c",
   "metadata": {},
   "outputs": [
    {
     "data": {
      "text/plain": [
       "10"
      ]
     },
     "execution_count": 30,
     "metadata": {},
     "output_type": "execute_result"
    }
   ],
   "source": [
    "bound_method()"
   ]
  },
  {
   "cell_type": "code",
   "execution_count": 31,
   "id": "eaf8df5e-7878-4360-8b0a-2c99d6e1529b",
   "metadata": {},
   "outputs": [
    {
     "data": {
      "text/plain": [
       "30"
      ]
     },
     "execution_count": 31,
     "metadata": {},
     "output_type": "execute_result"
    }
   ],
   "source": [
    "bound_method_add()"
   ]
  },
  {
   "cell_type": "code",
   "execution_count": null,
   "id": "bee71fde-9469-4c63-9529-0e1dcd2a18e0",
   "metadata": {},
   "outputs": [],
   "source": []
  }
 ],
 "metadata": {
  "kernelspec": {
   "display_name": "Python 3 (ipykernel)",
   "language": "python",
   "name": "python3"
  },
  "language_info": {
   "codemirror_mode": {
    "name": "ipython",
    "version": 3
   },
   "file_extension": ".py",
   "mimetype": "text/x-python",
   "name": "python",
   "nbconvert_exporter": "python",
   "pygments_lexer": "ipython3",
   "version": "3.9.16"
  }
 },
 "nbformat": 4,
 "nbformat_minor": 5
}
