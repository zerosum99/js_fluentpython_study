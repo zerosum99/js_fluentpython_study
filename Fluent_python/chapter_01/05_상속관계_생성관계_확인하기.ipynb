{
 "cells": [
  {
   "cell_type": "code",
   "execution_count": null,
   "id": "dd3659a5",
   "metadata": {},
   "outputs": [],
   "source": []
  },
  {
   "cell_type": "code",
   "execution_count": null,
   "id": "b9289504",
   "metadata": {},
   "outputs": [],
   "source": []
  },
  {
   "cell_type": "markdown",
   "id": "cabdc079-fb2c-4ef8-b94e-20d422f104ad",
   "metadata": {},
   "source": [
    "# 1. 상속 및 생성 관계 확인 "
   ]
  },
  {
   "cell_type": "markdown",
   "id": "3f6383d9",
   "metadata": {},
   "source": [
    "### 숫자 표시"
   ]
  },
  {
   "cell_type": "code",
   "execution_count": 5,
   "id": "4119e22d",
   "metadata": {},
   "outputs": [],
   "source": [
    "ranks =[str(n) for n in range(2,11)] + list('JQKA')"
   ]
  },
  {
   "cell_type": "code",
   "execution_count": 6,
   "id": "11af56e4",
   "metadata": {},
   "outputs": [
    {
     "data": {
      "text/plain": [
       "['2', '3', '4', '5', '6', '7', '8', '9', '10', 'J', 'Q', 'K', 'A']"
      ]
     },
     "execution_count": 6,
     "metadata": {},
     "output_type": "execute_result"
    }
   ],
   "source": [
    "ranks"
   ]
  },
  {
   "cell_type": "markdown",
   "id": "d96c5142",
   "metadata": {},
   "source": [
    "### 그림 표시"
   ]
  },
  {
   "cell_type": "code",
   "execution_count": 7,
   "id": "94feb736",
   "metadata": {},
   "outputs": [],
   "source": [
    "suits = \"spades diamonds clubs hearts\".split()"
   ]
  },
  {
   "cell_type": "code",
   "execution_count": 8,
   "id": "f8ea91d7",
   "metadata": {},
   "outputs": [
    {
     "data": {
      "text/plain": [
       "['spades', 'diamonds', 'clubs', 'hearts']"
      ]
     },
     "execution_count": 8,
     "metadata": {},
     "output_type": "execute_result"
    }
   ],
   "source": [
    "suits"
   ]
  },
  {
   "cell_type": "markdown",
   "id": "320de6d5-c9a6-4acb-bb43-b91891f6c21e",
   "metadata": {},
   "source": [
    "## 1-2 __subclasshook__ 를 상위클래스에 정의하기 "
   ]
  },
  {
   "cell_type": "code",
   "execution_count": 11,
   "id": "7149886c-d17c-4e5f-bae2-5c74a6bc4f1b",
   "metadata": {},
   "outputs": [],
   "source": [
    "import collections.abc as abc"
   ]
  },
  {
   "cell_type": "code",
   "execution_count": 12,
   "id": "0705e76b-47eb-44a3-bca6-865bbdc545c5",
   "metadata": {},
   "outputs": [],
   "source": [
    "class Seq(abc.Sequence) :\n",
    "     @classmethod\n",
    "     def __subclasshook__(cls, subclass):\n",
    "         result = False\n",
    "         if cls is Seq:  # MyBaseClass의 서브클래스 여부만 검사합니다.\n",
    "             print(f\"{cls.__bases__[0].__abstractmethods__}\")\n",
    "             \n",
    "             if hasattr(subclass, '__len__'):  # 특정 속성이 있는지 확인합니다.\n",
    "                 result = True\n",
    "\n",
    "             if hasattr(subclass, '__getitem__'):  # 특정 속성이 있는지 확인합니다.\n",
    "                 result = True\n",
    "                 \n",
    "                 \n",
    "         return result"
   ]
  },
  {
   "cell_type": "code",
   "execution_count": null,
   "id": "b1b2170b-d25f-4912-bce3-d2db3dcbf697",
   "metadata": {},
   "outputs": [],
   "source": []
  },
  {
   "cell_type": "markdown",
   "id": "c1b866f5-2a63-428d-8b04-a29f2ad0c7e5",
   "metadata": {},
   "source": [
    "## 1-2  __instancecheck__ 를 메타클래스에 정의하기 "
   ]
  },
  {
   "cell_type": "code",
   "execution_count": 13,
   "id": "21582927-1e62-43da-a280-0589c5d24eda",
   "metadata": {},
   "outputs": [],
   "source": [
    "class MyType_(type):\n",
    "\n",
    "    def __instancecheck__(self, instance):\n",
    "        print(\"__instancecheck__ call\")\n",
    "        if hasattr(instance, \"__len__\"):\n",
    "            return True\n",
    "        return False"
   ]
  },
  {
   "cell_type": "markdown",
   "id": "41020786-efbb-4fcf-a6df-2c79e38cc0cf",
   "metadata": {},
   "source": [
    "## 사용할 클래스 정의하기 "
   ]
  },
  {
   "cell_type": "code",
   "execution_count": 14,
   "id": "129c5a52",
   "metadata": {},
   "outputs": [],
   "source": [
    "class FrenchDeck(metaclass=MyType_) :\n",
    "    def __init__(self, cls) :\n",
    "        self._cards = [cls(rank,suit) for suit in suits for rank in ranks]\n",
    "        \n",
    "    def __len__(self) :\n",
    "        return len(self._cards)\n",
    "    \n",
    "    def __getitem__(self, position) :\n",
    "        return self._cards[position]\n"
   ]
  },
  {
   "cell_type": "code",
   "execution_count": null,
   "id": "9d1db5ce-21a1-4121-8a4e-27dcf87ea2fd",
   "metadata": {},
   "outputs": [],
   "source": []
  },
  {
   "cell_type": "markdown",
   "id": "ccba3607-4b4e-4517-bc23-d0d629796804",
   "metadata": {},
   "source": [
    "## 1-3 상속관계 확인하기 "
   ]
  },
  {
   "cell_type": "code",
   "execution_count": 15,
   "id": "16508730-e071-496d-ad72-99f88f40381f",
   "metadata": {},
   "outputs": [
    {
     "data": {
      "text/plain": [
       "True"
      ]
     },
     "execution_count": 15,
     "metadata": {},
     "output_type": "execute_result"
    }
   ],
   "source": [
    "issubclass(list,abc.Sequence)"
   ]
  },
  {
   "cell_type": "code",
   "execution_count": 16,
   "id": "fabb1f0a-e146-4013-b999-ee9128bf7b77",
   "metadata": {},
   "outputs": [
    {
     "name": "stdout",
     "output_type": "stream",
     "text": [
      "frozenset({'__len__', '__getitem__'})\n"
     ]
    },
    {
     "data": {
      "text/plain": [
       "True"
      ]
     },
     "execution_count": 16,
     "metadata": {},
     "output_type": "execute_result"
    }
   ],
   "source": [
    "issubclass(FrenchDeck, Seq)"
   ]
  },
  {
   "cell_type": "code",
   "execution_count": 17,
   "id": "23e9a4ab-84a0-40df-b102-0a39f09b6a0a",
   "metadata": {},
   "outputs": [
    {
     "data": {
      "text/plain": [
       "frozenset({'__getitem__', '__len__'})"
      ]
     },
     "execution_count": 17,
     "metadata": {},
     "output_type": "execute_result"
    }
   ],
   "source": [
    "abc.Sequence.__abstractmethods__"
   ]
  },
  {
   "cell_type": "code",
   "execution_count": null,
   "id": "d7962237",
   "metadata": {},
   "outputs": [],
   "source": []
  },
  {
   "cell_type": "markdown",
   "id": "ec23a78d",
   "metadata": {},
   "source": [
    "### 카드 클래스 만들기 "
   ]
  },
  {
   "cell_type": "code",
   "execution_count": 23,
   "id": "2c8c2ed7",
   "metadata": {},
   "outputs": [],
   "source": [
    "Card = collections.namedtuple('Card',['rank', 'suit'])"
   ]
  },
  {
   "cell_type": "code",
   "execution_count": null,
   "id": "5f56cc16",
   "metadata": {},
   "outputs": [],
   "source": []
  },
  {
   "cell_type": "markdown",
   "id": "00632792",
   "metadata": {},
   "source": [
    "## 1-5  deck 객체를 만들고 생성관계 확인하기 "
   ]
  },
  {
   "cell_type": "code",
   "execution_count": null,
   "id": "152d5af4",
   "metadata": {},
   "outputs": [],
   "source": []
  },
  {
   "cell_type": "code",
   "execution_count": 25,
   "id": "d2ee93c2",
   "metadata": {},
   "outputs": [],
   "source": [
    "deck = FrenchDeck(Card)"
   ]
  },
  {
   "cell_type": "code",
   "execution_count": 26,
   "id": "24548156-5f5b-43d5-8b4f-efc122a8635c",
   "metadata": {},
   "outputs": [
    {
     "data": {
      "text/plain": [
       "True"
      ]
     },
     "execution_count": 26,
     "metadata": {},
     "output_type": "execute_result"
    }
   ],
   "source": [
    "isinstance(deck, FrenchDeck)"
   ]
  },
  {
   "cell_type": "code",
   "execution_count": 72,
   "id": "9290847e-3c1f-4588-9f4c-289b1d591f77",
   "metadata": {},
   "outputs": [
    {
     "name": "stdout",
     "output_type": "stream",
     "text": [
      "__instancecheck__ call\n"
     ]
    },
    {
     "data": {
      "text/plain": [
       "True"
      ]
     },
     "execution_count": 72,
     "metadata": {},
     "output_type": "execute_result"
    }
   ],
   "source": [
    "FrenchDeck.__instancecheck__(deck)"
   ]
  },
  {
   "cell_type": "code",
   "execution_count": null,
   "id": "8001f6bb-6568-4c7b-9daa-3a8ab6f0beb7",
   "metadata": {},
   "outputs": [],
   "source": []
  },
  {
   "cell_type": "code",
   "execution_count": 27,
   "id": "3b672e00-fc59-4783-9c4a-72862bc172c9",
   "metadata": {},
   "outputs": [
    {
     "data": {
      "text/plain": [
       "True"
      ]
     },
     "execution_count": 27,
     "metadata": {},
     "output_type": "execute_result"
    }
   ],
   "source": [
    "isinstance(deck, Seq)"
   ]
  },
  {
   "cell_type": "code",
   "execution_count": 28,
   "id": "8da08a96",
   "metadata": {},
   "outputs": [
    {
     "data": {
      "text/plain": [
       "52"
      ]
     },
     "execution_count": 28,
     "metadata": {},
     "output_type": "execute_result"
    }
   ],
   "source": [
    "len(deck)"
   ]
  },
  {
   "cell_type": "code",
   "execution_count": null,
   "id": "3ff5af69-dbcc-4138-beab-be64ef79c137",
   "metadata": {},
   "outputs": [],
   "source": []
  },
  {
   "cell_type": "markdown",
   "id": "386471e5-1e88-4a9e-a3fd-f956d56003ff",
   "metadata": {},
   "source": [
    "## 1-6 다시 isinstance 관계 확인하기 처리 "
   ]
  },
  {
   "cell_type": "markdown",
   "id": "59ea79a7-972d-4df8-8d9c-759ae90417d1",
   "metadata": {},
   "source": [
    "### 메타 클래스에 정의 "
   ]
  },
  {
   "cell_type": "code",
   "execution_count": 69,
   "id": "e895185e-5c67-496f-a283-337919449601",
   "metadata": {},
   "outputs": [],
   "source": [
    "class MyType(type):\n",
    "\n",
    "    def __instancecheck__(self, instance):\n",
    "        print(\"__instancecheck__ call\")\n",
    "        if hasattr(instance, \"hanser\"):\n",
    "            return True\n",
    "        return False"
   ]
  },
  {
   "cell_type": "markdown",
   "id": "08526b8a-b97c-4132-9dda-8334a52430f5",
   "metadata": {},
   "source": [
    "###  기존 클래스의 메타클레스를 변경 "
   ]
  },
  {
   "cell_type": "code",
   "execution_count": 70,
   "id": "76c6f40c-2604-4072-b85f-b0be0e8c83b0",
   "metadata": {},
   "outputs": [],
   "source": [
    "class A(metaclass=MyType):\n",
    "    pass"
   ]
  },
  {
   "cell_type": "code",
   "execution_count": 71,
   "id": "fa1c8d1d-dfee-472a-915b-dcc71ebeca38",
   "metadata": {},
   "outputs": [
    {
     "name": "stdout",
     "output_type": "stream",
     "text": [
      "__instancecheck__ call\n",
      "False\n"
     ]
    }
   ],
   "source": [
    "print(isinstance(123, A))  # False"
   ]
  },
  {
   "cell_type": "code",
   "execution_count": null,
   "id": "32345c30-22e8-41a9-9814-c38b36808cbd",
   "metadata": {},
   "outputs": [],
   "source": []
  },
  {
   "cell_type": "code",
   "execution_count": null,
   "id": "4a9287f4-a165-4f7b-bfc9-5bd132c0c7db",
   "metadata": {},
   "outputs": [],
   "source": []
  }
 ],
 "metadata": {
  "kernelspec": {
   "display_name": "Python 3 (ipykernel)",
   "language": "python",
   "name": "python3"
  },
  "language_info": {
   "codemirror_mode": {
    "name": "ipython",
    "version": 3
   },
   "file_extension": ".py",
   "mimetype": "text/x-python",
   "name": "python",
   "nbconvert_exporter": "python",
   "pygments_lexer": "ipython3",
   "version": "3.9.16"
  }
 },
 "nbformat": 4,
 "nbformat_minor": 5
}
