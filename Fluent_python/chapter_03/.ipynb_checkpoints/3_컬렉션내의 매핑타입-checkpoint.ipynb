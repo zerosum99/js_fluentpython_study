{
 "cells": [
  {
   "cell_type": "code",
   "execution_count": 1,
   "id": "26aa3176",
   "metadata": {},
   "outputs": [
    {
     "data": {
      "text/plain": [
       "'3.11.3'"
      ]
     },
     "execution_count": 1,
     "metadata": {},
     "output_type": "execute_result"
    }
   ],
   "source": [
    "import platform \n",
    "\n",
    "platform.python_version()"
   ]
  },
  {
   "cell_type": "markdown",
   "id": "07ebf90e",
   "metadata": {},
   "source": [
    "## 1. 다양한 매핑타입 알아보기 "
   ]
  },
  {
   "cell_type": "markdown",
   "id": "4592bc2a",
   "metadata": {},
   "source": [
    "## 1-1 클래스 확인하기 "
   ]
  },
  {
   "cell_type": "code",
   "execution_count": 2,
   "id": "5dc8d3ee",
   "metadata": {},
   "outputs": [],
   "source": [
    "import collections as col"
   ]
  },
  {
   "cell_type": "code",
   "execution_count": 3,
   "id": "a57616bc",
   "metadata": {},
   "outputs": [
    {
     "data": {
      "text/plain": [
       "['ChainMap',\n",
       " 'Counter',\n",
       " 'OrderedDict',\n",
       " 'UserDict',\n",
       " 'UserList',\n",
       " 'UserString',\n",
       " '_Link',\n",
       " '_OrderedDictItemsView',\n",
       " '_OrderedDictKeysView',\n",
       " '_OrderedDictValuesView',\n",
       " '__all__',\n",
       " '__builtins__',\n",
       " '__cached__',\n",
       " '__doc__',\n",
       " '__file__',\n",
       " '__loader__',\n",
       " '__name__',\n",
       " '__package__',\n",
       " '__path__',\n",
       " '__spec__',\n",
       " '_chain',\n",
       " '_collections_abc',\n",
       " '_count_elements',\n",
       " '_eq',\n",
       " '_iskeyword',\n",
       " '_itemgetter',\n",
       " '_proxy',\n",
       " '_recursive_repr',\n",
       " '_repeat',\n",
       " '_starmap',\n",
       " '_sys',\n",
       " '_tuplegetter',\n",
       " 'abc',\n",
       " 'defaultdict',\n",
       " 'deque',\n",
       " 'namedtuple']"
      ]
     },
     "execution_count": 3,
     "metadata": {},
     "output_type": "execute_result"
    }
   ],
   "source": [
    "dir(col)"
   ]
  },
  {
   "cell_type": "markdown",
   "id": "615b3416",
   "metadata": {},
   "source": [
    "## 1-2 기본값을 가진 딕셔너리 처리 "
   ]
  },
  {
   "cell_type": "code",
   "execution_count": 4,
   "id": "d4c9dfdd",
   "metadata": {},
   "outputs": [
    {
     "name": "stdout",
     "output_type": "stream",
     "text": [
      "defaultdict(<class 'int'>, {'one': 1, 'two': 2})\n",
      "0\n"
     ]
    }
   ],
   "source": [
    "from collections import defaultdict\n",
    "\n",
    "# int 타입 기본값을 가지는 defaultdict 생성\n",
    "numbers = defaultdict(int)\n",
    "\n",
    "# 기본값이 0으로 설정되어 있으므로, 초기에 없던 키에 접근해도 예외가 발생하지 않음\n",
    "numbers['one'] += 1\n",
    "numbers['two'] += 2\n",
    "\n",
    "print(numbers)  # defaultdict(<class 'int'>, {'one': 1, 'two': 2})\n",
    "\n",
    "# 없는 키에 접근하면 기본값인 0이 반환됨\n",
    "print(numbers['three'])  # 0\n"
   ]
  },
  {
   "cell_type": "code",
   "execution_count": null,
   "id": "c4c9d8ae",
   "metadata": {},
   "outputs": [],
   "source": []
  },
  {
   "cell_type": "markdown",
   "id": "47b748b3",
   "metadata": {},
   "source": [
    "## 1-3 딕셔너리 체이닝 처리하기 "
   ]
  },
  {
   "cell_type": "code",
   "execution_count": 5,
   "id": "a1ce732d",
   "metadata": {},
   "outputs": [
    {
     "name": "stdout",
     "output_type": "stream",
     "text": [
      "1\n",
      "2\n",
      "4\n"
     ]
    }
   ],
   "source": [
    "from collections import ChainMap\n",
    "\n",
    "# 두 개의 딕셔너리를 생성\n",
    "dict1 = {'a': 1, 'b': 2}\n",
    "dict2 = {'b': 3, 'c': 4}\n",
    "\n",
    "# ChainMap을 생성하고 딕셔너리를 연결\n",
    "combined_dicts = ChainMap(dict1, dict2)\n",
    "\n",
    "# 'a', 'b', 'c' 키에 대한 값을 찾음\n",
    "print(combined_dicts['a'])  # 1\n",
    "print(combined_dicts['b'])  # 2 (dict1에서 가져옴)\n",
    "print(combined_dicts['c'])  # 4 (dict2에서 가져옴)\n",
    "\n",
    "# 'd'는 어느 딕셔너리에도 없으므로 KeyError 발생\n",
    "# print(combined_dicts['d'])  # KeyError\n"
   ]
  },
  {
   "cell_type": "code",
   "execution_count": null,
   "id": "aed236e8",
   "metadata": {},
   "outputs": [],
   "source": []
  },
  {
   "cell_type": "markdown",
   "id": "f5fe946f",
   "metadata": {},
   "source": [
    "## 1-4  순서를 가진 딕셔너리 처리 \n",
    "\n",
    "- dict도 순서대로 처리 "
   ]
  },
  {
   "cell_type": "code",
   "execution_count": 6,
   "id": "b683d875",
   "metadata": {},
   "outputs": [
    {
     "name": "stdout",
     "output_type": "stream",
     "text": [
      "apple 3\n",
      "banana 2\n",
      "cherry 4\n",
      "apple 3\n",
      "banana 2\n",
      "cherry 4\n"
     ]
    }
   ],
   "source": [
    "from collections import OrderedDict\n",
    "\n",
    "# 빈 OrderedDict 생성\n",
    "ordered_dict = OrderedDict()\n",
    "\n",
    "# 요소를 추가하고 순서가 유지됨\n",
    "ordered_dict['apple'] = 3\n",
    "ordered_dict['banana'] = 2\n",
    "ordered_dict['cherry'] = 4\n",
    "\n",
    "# 순서가 유지되므로 순회 시 순서대로 출력\n",
    "for key, value in ordered_dict.items():\n",
    "    print(key, value)\n",
    "\n",
    "# 출력:\n",
    "# apple 3\n",
    "# banana 2\n",
    "# cherry 4\n",
    "\n",
    "# 순서가 유지된 딕셔너리에서 키를 기준으로 정렬\n",
    "sorted_dict = OrderedDict(sorted(ordered_dict.items(), key=lambda x: x[0]))\n",
    "for key, value in sorted_dict.items():\n",
    "    print(key, value)\n",
    "\n",
    "# 출력:\n",
    "# apple 3\n",
    "# banana 2\n",
    "# cherry 4\n"
   ]
  },
  {
   "cell_type": "code",
   "execution_count": null,
   "id": "35687430",
   "metadata": {},
   "outputs": [],
   "source": []
  },
  {
   "cell_type": "markdown",
   "id": "bf18da67",
   "metadata": {},
   "source": [
    "## 1-5 dict 상속해서 처리하는 클래스 "
   ]
  },
  {
   "cell_type": "code",
   "execution_count": 7,
   "id": "4e4efc45",
   "metadata": {},
   "outputs": [
    {
     "name": "stdout",
     "output_type": "stream",
     "text": [
      "8\n"
     ]
    }
   ],
   "source": [
    "from collections import UserDict\n",
    "\n",
    "class MyDictionary(UserDict):\n",
    "    def __setitem__(self, key, value):\n",
    "        # 키와 값을 변경하기 전에 2를 곱함\n",
    "        super().__setitem__(key, value * 2)\n",
    "\n",
    "    def get_double(self, key):\n",
    "        return self.data[key]\n",
    "\n",
    "# 사용자 정의 딕셔너리 생성\n",
    "my_dict = MyDictionary({'a': 3, 'b': 5})\n",
    "\n",
    "# 값을 설정할 때, 사용자 정의 메서드가 호출되어 값이 2배로 변경됨\n",
    "my_dict['a'] = 4\n",
    "\n",
    "# 사용자 정의 메서드를 사용하여 값을 가져옴\n",
    "result = my_dict.get_double('a')\n",
    "\n",
    "print(result)  # 8\n"
   ]
  }
 ],
 "metadata": {
  "kernelspec": {
   "display_name": "Python 3 (ipykernel)",
   "language": "python",
   "name": "python3"
  },
  "language_info": {
   "codemirror_mode": {
    "name": "ipython",
    "version": 3
   },
   "file_extension": ".py",
   "mimetype": "text/x-python",
   "name": "python",
   "nbconvert_exporter": "python",
   "pygments_lexer": "ipython3",
   "version": "3.11.3"
  }
 },
 "nbformat": 4,
 "nbformat_minor": 5
}
