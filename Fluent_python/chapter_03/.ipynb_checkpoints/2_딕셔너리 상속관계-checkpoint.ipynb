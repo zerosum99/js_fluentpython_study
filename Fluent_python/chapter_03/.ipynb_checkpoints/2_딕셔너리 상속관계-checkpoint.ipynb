{
 "cells": [
  {
   "cell_type": "code",
   "execution_count": 1,
   "id": "47041d84",
   "metadata": {},
   "outputs": [
    {
     "data": {
      "text/plain": [
       "'3.11.3'"
      ]
     },
     "execution_count": 1,
     "metadata": {},
     "output_type": "execute_result"
    }
   ],
   "source": [
    "import platform \n",
    "\n",
    "platform.python_version()"
   ]
  },
  {
   "cell_type": "markdown",
   "id": "cb05c5e2",
   "metadata": {},
   "source": [
    "## 1. 딕셔너리 기본 구성 "
   ]
  },
  {
   "cell_type": "markdown",
   "id": "d3bc697c",
   "metadata": {},
   "source": [
    "## 1-1  딕셔너리 상속 관계 "
   ]
  },
  {
   "cell_type": "markdown",
   "id": "61efd94b",
   "metadata": {},
   "source": [
    "### 실제 object 클래스만 상속함 "
   ]
  },
  {
   "cell_type": "code",
   "execution_count": 2,
   "id": "37e43df4",
   "metadata": {},
   "outputs": [
    {
     "data": {
      "text/plain": [
       "(object,)"
      ]
     },
     "execution_count": 2,
     "metadata": {},
     "output_type": "execute_result"
    }
   ],
   "source": [
    "dict.__bases__"
   ]
  },
  {
   "cell_type": "markdown",
   "id": "5392b760",
   "metadata": {},
   "source": [
    "## 1-2 추상 클래스의 상속관계 확인 "
   ]
  },
  {
   "cell_type": "code",
   "execution_count": 3,
   "id": "31417815",
   "metadata": {},
   "outputs": [],
   "source": [
    "import collections.abc as abc"
   ]
  },
  {
   "cell_type": "markdown",
   "id": "b30ed19d",
   "metadata": {},
   "source": [
    "### 1-2-1 반복자의 상속관계 확인  : __subclasses__"
   ]
  },
  {
   "cell_type": "code",
   "execution_count": 4,
   "id": "d1f19a56",
   "metadata": {},
   "outputs": [
    {
     "data": {
      "text/plain": [
       "[collections.abc.Iterator,\n",
       " collections.abc.Reversible,\n",
       " collections.abc.Collection]"
      ]
     },
     "execution_count": 4,
     "metadata": {},
     "output_type": "execute_result"
    }
   ],
   "source": [
    "abc.Iterable.__subclasses__()"
   ]
  },
  {
   "cell_type": "markdown",
   "id": "ed146750",
   "metadata": {},
   "source": [
    "### 반복자의 추상 메서드 "
   ]
  },
  {
   "cell_type": "code",
   "execution_count": 5,
   "id": "6d455534",
   "metadata": {},
   "outputs": [
    {
     "data": {
      "text/plain": [
       "frozenset({'__iter__'})"
      ]
     },
     "execution_count": 5,
     "metadata": {},
     "output_type": "execute_result"
    }
   ],
   "source": [
    "abc.Iterable.__abstractmethods__"
   ]
  },
  {
   "cell_type": "code",
   "execution_count": null,
   "id": "b300c054",
   "metadata": {},
   "outputs": [],
   "source": []
  },
  {
   "cell_type": "code",
   "execution_count": 6,
   "id": "b4deb569",
   "metadata": {},
   "outputs": [
    {
     "data": {
      "text/plain": [
       "True"
      ]
     },
     "execution_count": 6,
     "metadata": {},
     "output_type": "execute_result"
    }
   ],
   "source": [
    "issubclass(dict,abc.Iterable)"
   ]
  },
  {
   "cell_type": "markdown",
   "id": "e33dd221",
   "metadata": {},
   "source": [
    "### 1-2-2 Sized의 상속관계 확인 "
   ]
  },
  {
   "cell_type": "code",
   "execution_count": 7,
   "id": "0f96b986",
   "metadata": {},
   "outputs": [
    {
     "data": {
      "text/plain": [
       "[collections.abc.Collection, collections.abc.MappingView]"
      ]
     },
     "execution_count": 7,
     "metadata": {},
     "output_type": "execute_result"
    }
   ],
   "source": [
    "abc.Sized.__subclasses__()"
   ]
  },
  {
   "cell_type": "code",
   "execution_count": 8,
   "id": "0b0de78a",
   "metadata": {},
   "outputs": [
    {
     "data": {
      "text/plain": [
       "frozenset({'__len__'})"
      ]
     },
     "execution_count": 8,
     "metadata": {},
     "output_type": "execute_result"
    }
   ],
   "source": [
    "abc.Sized.__abstractmethods__"
   ]
  },
  {
   "cell_type": "code",
   "execution_count": 9,
   "id": "50ae9927",
   "metadata": {},
   "outputs": [
    {
     "data": {
      "text/plain": [
       "True"
      ]
     },
     "execution_count": 9,
     "metadata": {},
     "output_type": "execute_result"
    }
   ],
   "source": [
    "issubclass(dict,abc.Sized)"
   ]
  },
  {
   "cell_type": "code",
   "execution_count": null,
   "id": "22c6e4e4",
   "metadata": {},
   "outputs": [],
   "source": []
  },
  {
   "cell_type": "markdown",
   "id": "c8979a55",
   "metadata": {},
   "source": [
    "### 1-2-3 Container의 상속관계 확인 "
   ]
  },
  {
   "cell_type": "code",
   "execution_count": 10,
   "id": "f2115594",
   "metadata": {},
   "outputs": [
    {
     "data": {
      "text/plain": [
       "[collections.abc.Collection]"
      ]
     },
     "execution_count": 10,
     "metadata": {},
     "output_type": "execute_result"
    }
   ],
   "source": [
    "abc.Container.__subclasses__()"
   ]
  },
  {
   "cell_type": "code",
   "execution_count": 11,
   "id": "3ee90812",
   "metadata": {},
   "outputs": [
    {
     "data": {
      "text/plain": [
       "frozenset({'__contains__'})"
      ]
     },
     "execution_count": 11,
     "metadata": {},
     "output_type": "execute_result"
    }
   ],
   "source": [
    "abc.Container.__abstractmethods__"
   ]
  },
  {
   "cell_type": "code",
   "execution_count": 12,
   "id": "67b6550b",
   "metadata": {},
   "outputs": [
    {
     "data": {
      "text/plain": [
       "True"
      ]
     },
     "execution_count": 12,
     "metadata": {},
     "output_type": "execute_result"
    }
   ],
   "source": [
    "issubclass(dict,abc.Container)"
   ]
  },
  {
   "cell_type": "code",
   "execution_count": null,
   "id": "c27ee3e9",
   "metadata": {},
   "outputs": [],
   "source": []
  },
  {
   "cell_type": "markdown",
   "id": "95196434",
   "metadata": {},
   "source": [
    "### 1-2-4 Collection의 상속관계 확인 "
   ]
  },
  {
   "cell_type": "code",
   "execution_count": 13,
   "id": "b3733187",
   "metadata": {},
   "outputs": [
    {
     "data": {
      "text/plain": [
       "[collections.abc.Set,\n",
       " collections.abc.Mapping,\n",
       " collections.abc.ValuesView,\n",
       " collections.abc.Sequence]"
      ]
     },
     "execution_count": 13,
     "metadata": {},
     "output_type": "execute_result"
    }
   ],
   "source": [
    "abc.Collection.__subclasses__()"
   ]
  },
  {
   "cell_type": "code",
   "execution_count": 14,
   "id": "121f4778",
   "metadata": {},
   "outputs": [
    {
     "data": {
      "text/plain": [
       "frozenset({'__contains__', '__iter__', '__len__'})"
      ]
     },
     "execution_count": 14,
     "metadata": {},
     "output_type": "execute_result"
    }
   ],
   "source": [
    "abc.Collection.__abstractmethods__"
   ]
  },
  {
   "cell_type": "code",
   "execution_count": 15,
   "id": "0202c1e1",
   "metadata": {},
   "outputs": [
    {
     "data": {
      "text/plain": [
       "True"
      ]
     },
     "execution_count": 15,
     "metadata": {},
     "output_type": "execute_result"
    }
   ],
   "source": [
    "issubclass(dict,abc.Collection)"
   ]
  },
  {
   "cell_type": "code",
   "execution_count": null,
   "id": "6730bf2d",
   "metadata": {},
   "outputs": [],
   "source": []
  },
  {
   "cell_type": "markdown",
   "id": "935bbcd7",
   "metadata": {},
   "source": [
    "### 1-2-5 Mapping의 상속관계 확인 "
   ]
  },
  {
   "cell_type": "code",
   "execution_count": 16,
   "id": "9d611c57",
   "metadata": {},
   "outputs": [
    {
     "data": {
      "text/plain": [
       "[collections.abc.MutableMapping,\n",
       " selectors._SelectorMapping,\n",
       " parso.python.tree.UsedNamesMapping]"
      ]
     },
     "execution_count": 16,
     "metadata": {},
     "output_type": "execute_result"
    }
   ],
   "source": [
    "abc.Mapping.__subclasses__()"
   ]
  },
  {
   "cell_type": "code",
   "execution_count": 17,
   "id": "7da7a003",
   "metadata": {},
   "outputs": [
    {
     "data": {
      "text/plain": [
       "frozenset({'__getitem__', '__iter__', '__len__'})"
      ]
     },
     "execution_count": 17,
     "metadata": {},
     "output_type": "execute_result"
    }
   ],
   "source": [
    "abc.Mapping.__abstractmethods__"
   ]
  },
  {
   "cell_type": "code",
   "execution_count": 18,
   "id": "34323d3a",
   "metadata": {},
   "outputs": [
    {
     "data": {
      "text/plain": [
       "True"
      ]
     },
     "execution_count": 18,
     "metadata": {},
     "output_type": "execute_result"
    }
   ],
   "source": [
    "issubclass(dict,abc.Mapping)"
   ]
  },
  {
   "cell_type": "markdown",
   "id": "81bf487a",
   "metadata": {},
   "source": [
    "### 1-2-6 MutableMapping의 상속관계 확인 "
   ]
  },
  {
   "cell_type": "code",
   "execution_count": 19,
   "id": "da6d915b",
   "metadata": {},
   "outputs": [
    {
     "data": {
      "text/plain": [
       "[os._Environ,\n",
       " collections.ChainMap,\n",
       " collections.UserDict,\n",
       " weakref.WeakValueDictionary,\n",
       " weakref.WeakKeyDictionary,\n",
       " abc.SignalDict,\n",
       " pickleshare.PickleShareDB]"
      ]
     },
     "execution_count": 19,
     "metadata": {},
     "output_type": "execute_result"
    }
   ],
   "source": [
    "abc.MutableMapping.__subclasses__()"
   ]
  },
  {
   "cell_type": "code",
   "execution_count": 20,
   "id": "fe51b0ed",
   "metadata": {},
   "outputs": [
    {
     "data": {
      "text/plain": [
       "frozenset({'__delitem__', '__getitem__', '__iter__', '__len__', '__setitem__'})"
      ]
     },
     "execution_count": 20,
     "metadata": {},
     "output_type": "execute_result"
    }
   ],
   "source": [
    "abc.MutableMapping.__abstractmethods__"
   ]
  },
  {
   "cell_type": "code",
   "execution_count": null,
   "id": "7997cb4d",
   "metadata": {},
   "outputs": [],
   "source": []
  },
  {
   "cell_type": "code",
   "execution_count": null,
   "id": "557dc86c",
   "metadata": {},
   "outputs": [],
   "source": []
  },
  {
   "cell_type": "code",
   "execution_count": 21,
   "id": "1d0d3b69",
   "metadata": {},
   "outputs": [
    {
     "data": {
      "text/plain": [
       "True"
      ]
     },
     "execution_count": 21,
     "metadata": {},
     "output_type": "execute_result"
    }
   ],
   "source": [
    "issubclass(dict,abc.MutableMapping)"
   ]
  },
  {
   "cell_type": "code",
   "execution_count": null,
   "id": "f7a69570",
   "metadata": {},
   "outputs": [],
   "source": []
  },
  {
   "cell_type": "markdown",
   "id": "34535ba2",
   "metadata": {},
   "source": [
    "## 2. 딕셔너리  내부 구성의 세부 클래스 "
   ]
  },
  {
   "cell_type": "code",
   "execution_count": null,
   "id": "ee609b31",
   "metadata": {},
   "outputs": [],
   "source": []
  },
  {
   "cell_type": "markdown",
   "id": "3b6eef9c",
   "metadata": {},
   "source": [
    "## 2-1 상속관계 확인 "
   ]
  },
  {
   "cell_type": "code",
   "execution_count": 22,
   "id": "3e11190f",
   "metadata": {},
   "outputs": [
    {
     "data": {
      "text/plain": [
       "[collections.abc.Collection, collections.abc.MappingView]"
      ]
     },
     "execution_count": 22,
     "metadata": {},
     "output_type": "execute_result"
    }
   ],
   "source": [
    "abc.Sized.__subclasses__()"
   ]
  },
  {
   "cell_type": "code",
   "execution_count": 23,
   "id": "3383f438",
   "metadata": {},
   "outputs": [
    {
     "data": {
      "text/plain": [
       "[collections.abc.Iterator,\n",
       " collections.abc.Reversible,\n",
       " collections.abc.Collection]"
      ]
     },
     "execution_count": 23,
     "metadata": {},
     "output_type": "execute_result"
    }
   ],
   "source": [
    "abc.Iterable.__subclasses__()"
   ]
  },
  {
   "cell_type": "code",
   "execution_count": 24,
   "id": "5297e940",
   "metadata": {},
   "outputs": [
    {
     "data": {
      "text/plain": [
       "[collections.abc.Set,\n",
       " collections.abc.Mapping,\n",
       " collections.abc.ValuesView,\n",
       " collections.abc.Sequence]"
      ]
     },
     "execution_count": 24,
     "metadata": {},
     "output_type": "execute_result"
    }
   ],
   "source": [
    "abc.Collection.__subclasses__()"
   ]
  },
  {
   "cell_type": "code",
   "execution_count": null,
   "id": "51fdba0b",
   "metadata": {},
   "outputs": [],
   "source": []
  },
  {
   "cell_type": "markdown",
   "id": "1eff3318",
   "metadata": {},
   "source": [
    "## 2-2 키, 값, 요소의 클래스 확인 "
   ]
  },
  {
   "cell_type": "code",
   "execution_count": 25,
   "id": "2c99f7dd",
   "metadata": {},
   "outputs": [
    {
     "data": {
      "text/plain": [
       "[collections.abc.KeysView,\n",
       " collections.abc.ItemsView,\n",
       " collections.abc.ValuesView]"
      ]
     },
     "execution_count": 25,
     "metadata": {},
     "output_type": "execute_result"
    }
   ],
   "source": [
    "abc.MappingView.__subclasses__()"
   ]
  },
  {
   "cell_type": "code",
   "execution_count": 26,
   "id": "e9af0f6d",
   "metadata": {},
   "outputs": [
    {
     "data": {
      "text/plain": [
       "[collections._OrderedDictKeysView]"
      ]
     },
     "execution_count": 26,
     "metadata": {},
     "output_type": "execute_result"
    }
   ],
   "source": [
    "abc.KeysView.__subclasses__()"
   ]
  },
  {
   "cell_type": "code",
   "execution_count": 27,
   "id": "bd44165b",
   "metadata": {},
   "outputs": [
    {
     "data": {
      "text/plain": [
       "frozenset()"
      ]
     },
     "execution_count": 27,
     "metadata": {},
     "output_type": "execute_result"
    }
   ],
   "source": [
    "abc.KeysView.__abstractmethods__"
   ]
  },
  {
   "cell_type": "code",
   "execution_count": 28,
   "id": "66e35ebd",
   "metadata": {},
   "outputs": [
    {
     "data": {
      "text/plain": [
       "[collections._OrderedDictItemsView]"
      ]
     },
     "execution_count": 28,
     "metadata": {},
     "output_type": "execute_result"
    }
   ],
   "source": [
    "abc.ItemsView.__subclasses__()"
   ]
  },
  {
   "cell_type": "code",
   "execution_count": 29,
   "id": "68486f68",
   "metadata": {},
   "outputs": [
    {
     "data": {
      "text/plain": [
       "frozenset()"
      ]
     },
     "execution_count": 29,
     "metadata": {},
     "output_type": "execute_result"
    }
   ],
   "source": [
    "abc.ItemsView.__abstractmethods__"
   ]
  },
  {
   "cell_type": "code",
   "execution_count": 30,
   "id": "10da1cbc",
   "metadata": {},
   "outputs": [
    {
     "data": {
      "text/plain": [
       "[collections._OrderedDictValuesView]"
      ]
     },
     "execution_count": 30,
     "metadata": {},
     "output_type": "execute_result"
    }
   ],
   "source": [
    "abc.ValuesView.__subclasses__()"
   ]
  },
  {
   "cell_type": "code",
   "execution_count": 31,
   "id": "b14f68c4",
   "metadata": {},
   "outputs": [
    {
     "data": {
      "text/plain": [
       "frozenset()"
      ]
     },
     "execution_count": 31,
     "metadata": {},
     "output_type": "execute_result"
    }
   ],
   "source": [
    "abc.ValuesView.__abstractmethods__"
   ]
  },
  {
   "cell_type": "code",
   "execution_count": null,
   "id": "954ff23d",
   "metadata": {},
   "outputs": [],
   "source": []
  },
  {
   "cell_type": "code",
   "execution_count": 32,
   "id": "db396b94",
   "metadata": {},
   "outputs": [],
   "source": [
    "dd = {'ab' : 100}"
   ]
  },
  {
   "cell_type": "code",
   "execution_count": 33,
   "id": "313508d4",
   "metadata": {},
   "outputs": [
    {
     "data": {
      "text/plain": [
       "True"
      ]
     },
     "execution_count": 33,
     "metadata": {},
     "output_type": "execute_result"
    }
   ],
   "source": [
    "issubclass(dd.keys().__class__,abc.MappingView)"
   ]
  },
  {
   "cell_type": "code",
   "execution_count": null,
   "id": "efda5afa",
   "metadata": {},
   "outputs": [],
   "source": []
  }
 ],
 "metadata": {
  "kernelspec": {
   "display_name": "Python 3 (ipykernel)",
   "language": "python",
   "name": "python3"
  },
  "language_info": {
   "codemirror_mode": {
    "name": "ipython",
    "version": 3
   },
   "file_extension": ".py",
   "mimetype": "text/x-python",
   "name": "python",
   "nbconvert_exporter": "python",
   "pygments_lexer": "ipython3",
   "version": "3.11.3"
  }
 },
 "nbformat": 4,
 "nbformat_minor": 5
}
