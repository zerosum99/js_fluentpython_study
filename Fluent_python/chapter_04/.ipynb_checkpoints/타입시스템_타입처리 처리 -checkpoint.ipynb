{
 "cells": [
  {
   "cell_type": "code",
   "execution_count": 8,
   "id": "52ee953a",
   "metadata": {},
   "outputs": [
    {
     "data": {
      "text/plain": [
       "'3.9.16'"
      ]
     },
     "execution_count": 8,
     "metadata": {},
     "output_type": "execute_result"
    }
   ],
   "source": [
    "import platform \n",
    "\n",
    "platform.python_version()"
   ]
  },
  {
   "cell_type": "markdown",
   "id": "e8ee1ad7",
   "metadata": {},
   "source": [
    "## 1. 기존 자료형으로 타입어노테이션 처리하기 "
   ]
  },
  {
   "cell_type": "markdown",
   "id": "6941894b",
   "metadata": {},
   "source": [
    "## 1-1 기존 자료형을 타입으로 붙이기 "
   ]
  },
  {
   "cell_type": "code",
   "execution_count": 3,
   "id": "26e17804",
   "metadata": {},
   "outputs": [],
   "source": [
    "def greeting(name: str) -> str:\n",
    "    return 'Hello ' + name"
   ]
  },
  {
   "cell_type": "code",
   "execution_count": 4,
   "id": "bb5bf2d7",
   "metadata": {},
   "outputs": [
    {
     "data": {
      "text/plain": [
       "'Hello hana'"
      ]
     },
     "execution_count": 4,
     "metadata": {},
     "output_type": "execute_result"
    }
   ],
   "source": [
    "greeting(\"hana\")"
   ]
  },
  {
   "cell_type": "markdown",
   "id": "298b7bd0",
   "metadata": {},
   "source": [
    "## 1-2 타입별칭 사용하기 "
   ]
  },
  {
   "cell_type": "code",
   "execution_count": 5,
   "id": "e98bf1ea",
   "metadata": {},
   "outputs": [
    {
     "ename": "SyntaxError",
     "evalue": "invalid syntax (2987365792.py, line 1)",
     "output_type": "error",
     "traceback": [
      "\u001b[0;36m  Cell \u001b[0;32mIn[5], line 1\u001b[0;36m\u001b[0m\n\u001b[0;31m    type Vector = list[float]\u001b[0m\n\u001b[0m         ^\u001b[0m\n\u001b[0;31mSyntaxError\u001b[0m\u001b[0;31m:\u001b[0m invalid syntax\n"
     ]
    }
   ],
   "source": [
    "type Vector = list[float]"
   ]
  },
  {
   "cell_type": "code",
   "execution_count": null,
   "id": "282cf1bb",
   "metadata": {},
   "outputs": [],
   "source": [
    "type Vector = list[float]\n",
    "\n",
    "def scale(scalar: float, vector: Vector) -> Vector:\n",
    "    return [scalar * num for num in vector]\n",
    "\n",
    "# passes type checking; a list of floats qualifies as a Vector.\n",
    "new_vector = scale(2.0, [1.0, -4.2, 5.4])"
   ]
  },
  {
   "cell_type": "code",
   "execution_count": null,
   "id": "f4232f10",
   "metadata": {},
   "outputs": [],
   "source": []
  },
  {
   "cell_type": "code",
   "execution_count": null,
   "id": "fcf94b1e",
   "metadata": {},
   "outputs": [],
   "source": []
  },
  {
   "cell_type": "code",
   "execution_count": null,
   "id": "b91de442",
   "metadata": {},
   "outputs": [],
   "source": []
  },
  {
   "cell_type": "markdown",
   "id": "7adf9a35",
   "metadata": {},
   "source": [
    "## 2. 타이핑 모듈을 사용해서 타입어노테이션 처리하기 "
   ]
  },
  {
   "cell_type": "code",
   "execution_count": 2,
   "id": "26b0ed23",
   "metadata": {},
   "outputs": [],
   "source": [
    "import typing "
   ]
  },
  {
   "cell_type": "code",
   "execution_count": 6,
   "id": "19b34694",
   "metadata": {},
   "outputs": [
    {
     "ename": "ImportError",
     "evalue": "cannot import name 'TypeAlias' from 'typing' (/Users/a06411/opt/anaconda3/envs/pandasai/lib/python3.9/typing.py)",
     "output_type": "error",
     "traceback": [
      "\u001b[0;31m---------------------------------------------------------------------------\u001b[0m",
      "\u001b[0;31mImportError\u001b[0m                               Traceback (most recent call last)",
      "Cell \u001b[0;32mIn[6], line 1\u001b[0m\n\u001b[0;32m----> 1\u001b[0m \u001b[38;5;28;01mfrom\u001b[39;00m \u001b[38;5;21;01mtyping\u001b[39;00m \u001b[38;5;28;01mimport\u001b[39;00m TypeAlias\n\u001b[1;32m      3\u001b[0m Vector: TypeAlias \u001b[38;5;241m=\u001b[39m \u001b[38;5;28mlist\u001b[39m[\u001b[38;5;28mfloat\u001b[39m]\n",
      "\u001b[0;31mImportError\u001b[0m: cannot import name 'TypeAlias' from 'typing' (/Users/a06411/opt/anaconda3/envs/pandasai/lib/python3.9/typing.py)"
     ]
    }
   ],
   "source": [
    "from typing import TypeAlias\n",
    "\n",
    "Vector: TypeAlias = list[float]"
   ]
  },
  {
   "cell_type": "code",
   "execution_count": null,
   "id": "4ac21f0c",
   "metadata": {},
   "outputs": [],
   "source": []
  },
  {
   "cell_type": "code",
   "execution_count": null,
   "id": "bb2fb648",
   "metadata": {},
   "outputs": [],
   "source": []
  },
  {
   "cell_type": "code",
   "execution_count": null,
   "id": "4ea3744a",
   "metadata": {},
   "outputs": [],
   "source": []
  }
 ],
 "metadata": {
  "kernelspec": {
   "display_name": "Python 3 (ipykernel)",
   "language": "python",
   "name": "python3"
  },
  "language_info": {
   "codemirror_mode": {
    "name": "ipython",
    "version": 3
   },
   "file_extension": ".py",
   "mimetype": "text/x-python",
   "name": "python",
   "nbconvert_exporter": "python",
   "pygments_lexer": "ipython3",
   "version": "3.9.16"
  }
 },
 "nbformat": 4,
 "nbformat_minor": 5
}
