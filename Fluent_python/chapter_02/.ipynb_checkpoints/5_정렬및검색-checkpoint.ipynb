{
 "cells": [
  {
   "cell_type": "markdown",
   "id": "703f902c",
   "metadata": {},
   "source": [
    "# 1. 정렬 알아보기"
   ]
  },
  {
   "cell_type": "markdown",
   "id": "351d505e",
   "metadata": {},
   "source": [
    "## 1-1 리스트 정렬 메서드"
   ]
  },
  {
   "cell_type": "code",
   "execution_count": 1,
   "id": "d15ce53a",
   "metadata": {},
   "outputs": [],
   "source": [
    "ll = [1,2,3,4,5,6,7]"
   ]
  },
  {
   "cell_type": "code",
   "execution_count": 2,
   "id": "955d0d41",
   "metadata": {},
   "outputs": [],
   "source": [
    "lll = ll.copy()"
   ]
  },
  {
   "cell_type": "code",
   "execution_count": 4,
   "id": "be000e35",
   "metadata": {},
   "outputs": [],
   "source": [
    "import random"
   ]
  },
  {
   "cell_type": "code",
   "execution_count": 5,
   "id": "9f7e4dac",
   "metadata": {},
   "outputs": [],
   "source": [
    "random.shuffle(lll)"
   ]
  },
  {
   "cell_type": "code",
   "execution_count": 6,
   "id": "4ae4d860",
   "metadata": {},
   "outputs": [
    {
     "data": {
      "text/plain": [
       "[4, 6, 1, 2, 7, 3, 5]"
      ]
     },
     "execution_count": 6,
     "metadata": {},
     "output_type": "execute_result"
    }
   ],
   "source": [
    "lll"
   ]
  },
  {
   "cell_type": "code",
   "execution_count": 7,
   "id": "9dc281c7",
   "metadata": {},
   "outputs": [],
   "source": [
    "lll.sort()"
   ]
  },
  {
   "cell_type": "code",
   "execution_count": 8,
   "id": "786f9689",
   "metadata": {},
   "outputs": [
    {
     "data": {
      "text/plain": [
       "[1, 2, 3, 4, 5, 6, 7]"
      ]
     },
     "execution_count": 8,
     "metadata": {},
     "output_type": "execute_result"
    }
   ],
   "source": [
    "lll"
   ]
  },
  {
   "cell_type": "code",
   "execution_count": null,
   "id": "353c96bb",
   "metadata": {},
   "outputs": [],
   "source": []
  },
  {
   "cell_type": "markdown",
   "id": "a6381009",
   "metadata": {},
   "source": [
    "## 1-2 정렬 함수 "
   ]
  },
  {
   "cell_type": "code",
   "execution_count": 9,
   "id": "d342ef61",
   "metadata": {},
   "outputs": [
    {
     "data": {
      "text/plain": [
       "<function sorted(iterable, /, *, key=None, reverse=False)>"
      ]
     },
     "execution_count": 9,
     "metadata": {},
     "output_type": "execute_result"
    }
   ],
   "source": [
    "sorted"
   ]
  },
  {
   "cell_type": "code",
   "execution_count": 11,
   "id": "df646498",
   "metadata": {},
   "outputs": [],
   "source": [
    "random.shuffle(lll)"
   ]
  },
  {
   "cell_type": "code",
   "execution_count": 12,
   "id": "da17e09e",
   "metadata": {},
   "outputs": [
    {
     "data": {
      "text/plain": [
       "[1, 4, 3, 6, 7, 2, 5]"
      ]
     },
     "execution_count": 12,
     "metadata": {},
     "output_type": "execute_result"
    }
   ],
   "source": [
    "lll"
   ]
  },
  {
   "cell_type": "code",
   "execution_count": 13,
   "id": "f8dc9ff1",
   "metadata": {},
   "outputs": [
    {
     "data": {
      "text/plain": [
       "[1, 2, 3, 4, 5, 6, 7]"
      ]
     },
     "execution_count": 13,
     "metadata": {},
     "output_type": "execute_result"
    }
   ],
   "source": [
    "sorted(lll)"
   ]
  },
  {
   "cell_type": "code",
   "execution_count": 14,
   "id": "15cc4397",
   "metadata": {},
   "outputs": [
    {
     "data": {
      "text/plain": [
       "[1, 4, 3, 6, 7, 2, 5]"
      ]
     },
     "execution_count": 14,
     "metadata": {},
     "output_type": "execute_result"
    }
   ],
   "source": [
    "lll"
   ]
  },
  {
   "cell_type": "code",
   "execution_count": null,
   "id": "6560e309",
   "metadata": {},
   "outputs": [],
   "source": []
  },
  {
   "cell_type": "markdown",
   "id": "9e8248e0",
   "metadata": {},
   "source": [
    "# 2. 역정렬 알아보기"
   ]
  },
  {
   "cell_type": "markdown",
   "id": "f8a78a45",
   "metadata": {},
   "source": [
    "## 2-1 역정렬 메서드 "
   ]
  },
  {
   "cell_type": "code",
   "execution_count": 15,
   "id": "b3ddc9ad",
   "metadata": {},
   "outputs": [],
   "source": [
    "rrr = ll.copy()"
   ]
  },
  {
   "cell_type": "code",
   "execution_count": 17,
   "id": "7ffaaed5",
   "metadata": {},
   "outputs": [],
   "source": [
    "random.shuffle(rrr)"
   ]
  },
  {
   "cell_type": "code",
   "execution_count": 18,
   "id": "ce191e99",
   "metadata": {},
   "outputs": [
    {
     "data": {
      "text/plain": [
       "[6, 4, 7, 5, 3, 1, 2]"
      ]
     },
     "execution_count": 18,
     "metadata": {},
     "output_type": "execute_result"
    }
   ],
   "source": [
    "rrr"
   ]
  },
  {
   "cell_type": "code",
   "execution_count": 19,
   "id": "5208762b",
   "metadata": {},
   "outputs": [],
   "source": [
    "rrr.reverse()"
   ]
  },
  {
   "cell_type": "code",
   "execution_count": 20,
   "id": "c8ca27ba",
   "metadata": {},
   "outputs": [
    {
     "data": {
      "text/plain": [
       "[2, 1, 3, 5, 7, 4, 6]"
      ]
     },
     "execution_count": 20,
     "metadata": {},
     "output_type": "execute_result"
    }
   ],
   "source": [
    "rrr"
   ]
  },
  {
   "cell_type": "markdown",
   "id": "a1300dfd",
   "metadata": {},
   "source": [
    "## 2-2 역정렬 내장 클래스 "
   ]
  },
  {
   "cell_type": "markdown",
   "id": "a39bd94f",
   "metadata": {},
   "source": [
    "### 클래스 "
   ]
  },
  {
   "cell_type": "code",
   "execution_count": 21,
   "id": "0426d174",
   "metadata": {},
   "outputs": [
    {
     "data": {
      "text/plain": [
       "reversed"
      ]
     },
     "execution_count": 21,
     "metadata": {},
     "output_type": "execute_result"
    }
   ],
   "source": [
    "reversed"
   ]
  },
  {
   "cell_type": "code",
   "execution_count": 22,
   "id": "a8a9d4e8",
   "metadata": {},
   "outputs": [
    {
     "data": {
      "text/plain": [
       "type"
      ]
     },
     "execution_count": 22,
     "metadata": {},
     "output_type": "execute_result"
    }
   ],
   "source": [
    "reversed.__class__"
   ]
  },
  {
   "cell_type": "code",
   "execution_count": 23,
   "id": "69861a4f",
   "metadata": {},
   "outputs": [],
   "source": [
    "rv = reversed(rrr)"
   ]
  },
  {
   "cell_type": "code",
   "execution_count": 24,
   "id": "41ca693e",
   "metadata": {},
   "outputs": [
    {
     "data": {
      "text/plain": [
       "<list_reverseiterator at 0x105889880>"
      ]
     },
     "execution_count": 24,
     "metadata": {},
     "output_type": "execute_result"
    }
   ],
   "source": [
    "rv"
   ]
  },
  {
   "cell_type": "code",
   "execution_count": 25,
   "id": "123552cb",
   "metadata": {},
   "outputs": [
    {
     "data": {
      "text/plain": [
       "[6, 4, 7, 5, 3, 1, 2]"
      ]
     },
     "execution_count": 25,
     "metadata": {},
     "output_type": "execute_result"
    }
   ],
   "source": [
    "[*rv]"
   ]
  },
  {
   "cell_type": "code",
   "execution_count": null,
   "id": "34fa55be",
   "metadata": {},
   "outputs": [],
   "source": []
  }
 ],
 "metadata": {
  "kernelspec": {
   "display_name": "Python 3 (ipykernel)",
   "language": "python",
   "name": "python3"
  },
  "language_info": {
   "codemirror_mode": {
    "name": "ipython",
    "version": 3
   },
   "file_extension": ".py",
   "mimetype": "text/x-python",
   "name": "python",
   "nbconvert_exporter": "python",
   "pygments_lexer": "ipython3",
   "version": "3.9.16"
  }
 },
 "nbformat": 4,
 "nbformat_minor": 5
}
