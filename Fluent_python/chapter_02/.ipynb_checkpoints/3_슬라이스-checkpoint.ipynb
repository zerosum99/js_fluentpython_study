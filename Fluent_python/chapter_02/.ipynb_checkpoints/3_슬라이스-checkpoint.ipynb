{
 "cells": [
  {
   "cell_type": "code",
   "execution_count": null,
   "id": "bfd9308f",
   "metadata": {},
   "outputs": [],
   "source": []
  },
  {
   "cell_type": "markdown",
   "id": "89bbad30",
   "metadata": {},
   "source": [
    "# 1. 슬라이싱"
   ]
  },
  {
   "cell_type": "markdown",
   "id": "38437473",
   "metadata": {},
   "source": [
    "## 1-1 슬라이스 객체 알아보기"
   ]
  },
  {
   "cell_type": "code",
   "execution_count": 3,
   "id": "9424ad99",
   "metadata": {},
   "outputs": [],
   "source": [
    "import collections.abc as abc"
   ]
  },
  {
   "cell_type": "markdown",
   "id": "3ab5f690",
   "metadata": {},
   "source": [
    "### slice 클래스는 시퀀스가 아님"
   ]
  },
  {
   "cell_type": "code",
   "execution_count": 1,
   "id": "eb7e2165",
   "metadata": {},
   "outputs": [
    {
     "data": {
      "text/plain": [
       "slice"
      ]
     },
     "execution_count": 1,
     "metadata": {},
     "output_type": "execute_result"
    }
   ],
   "source": [
    "slice"
   ]
  },
  {
   "cell_type": "code",
   "execution_count": 2,
   "id": "06fbaacf",
   "metadata": {},
   "outputs": [],
   "source": [
    "s = slice(1,10)"
   ]
  },
  {
   "cell_type": "code",
   "execution_count": null,
   "id": "555914b8",
   "metadata": {},
   "outputs": [],
   "source": []
  },
  {
   "cell_type": "code",
   "execution_count": 5,
   "id": "6c0adf1a",
   "metadata": {},
   "outputs": [
    {
     "data": {
      "text/plain": [
       "collections.abc.Sequence"
      ]
     },
     "execution_count": 5,
     "metadata": {},
     "output_type": "execute_result"
    }
   ],
   "source": [
    "abc.Sequence"
   ]
  },
  {
   "cell_type": "code",
   "execution_count": 4,
   "id": "428df2c3",
   "metadata": {},
   "outputs": [
    {
     "data": {
      "text/plain": [
       "False"
      ]
     },
     "execution_count": 4,
     "metadata": {},
     "output_type": "execute_result"
    }
   ],
   "source": [
    "isinstance(s, abc.Sequence)"
   ]
  },
  {
   "cell_type": "markdown",
   "id": "960bc77f",
   "metadata": {},
   "source": [
    "### range 클래스는 시퀀스"
   ]
  },
  {
   "cell_type": "code",
   "execution_count": 6,
   "id": "9e7c4bd0",
   "metadata": {},
   "outputs": [],
   "source": [
    "r = range(1,10)"
   ]
  },
  {
   "cell_type": "code",
   "execution_count": 7,
   "id": "86c357d8",
   "metadata": {},
   "outputs": [
    {
     "data": {
      "text/plain": [
       "True"
      ]
     },
     "execution_count": 7,
     "metadata": {},
     "output_type": "execute_result"
    }
   ],
   "source": [
    "isinstance(r, abc.Sequence)"
   ]
  },
  {
   "cell_type": "code",
   "execution_count": null,
   "id": "3deda12a",
   "metadata": {},
   "outputs": [],
   "source": []
  },
  {
   "cell_type": "markdown",
   "id": "8ca8b9f2",
   "metadata": {},
   "source": [
    "## 1-2 슬라이스 처리 "
   ]
  },
  {
   "cell_type": "code",
   "execution_count": 12,
   "id": "ee85ac3b",
   "metadata": {},
   "outputs": [],
   "source": [
    "ss = slice(2,5)"
   ]
  },
  {
   "cell_type": "markdown",
   "id": "5e20351c",
   "metadata": {},
   "source": [
    "### 리스트의 슬라이싱"
   ]
  },
  {
   "cell_type": "code",
   "execution_count": 10,
   "id": "dee384f3",
   "metadata": {},
   "outputs": [],
   "source": [
    "lst = [1,2,3,4,5,6]"
   ]
  },
  {
   "cell_type": "markdown",
   "id": "eb785a6d",
   "metadata": {},
   "source": [
    "### 리스트 슬라이싱은 새로운 리스트 객체를 만든다"
   ]
  },
  {
   "cell_type": "code",
   "execution_count": 17,
   "id": "a923c304",
   "metadata": {},
   "outputs": [],
   "source": [
    "lst_ss = lst[ss]"
   ]
  },
  {
   "cell_type": "code",
   "execution_count": 18,
   "id": "042fb674",
   "metadata": {},
   "outputs": [
    {
     "data": {
      "text/plain": [
       "[3, 4, 5]"
      ]
     },
     "execution_count": 18,
     "metadata": {},
     "output_type": "execute_result"
    }
   ],
   "source": [
    "lst_ss"
   ]
  },
  {
   "cell_type": "markdown",
   "id": "bcb91384",
   "metadata": {},
   "source": [
    "### 그래서 슬라이싱된 리스트를 갱신해도 원본은 변경이 안됨 "
   ]
  },
  {
   "cell_type": "code",
   "execution_count": 19,
   "id": "4d0ca176",
   "metadata": {},
   "outputs": [],
   "source": [
    "lst_ss[0] = 999"
   ]
  },
  {
   "cell_type": "code",
   "execution_count": 20,
   "id": "c8d32369",
   "metadata": {},
   "outputs": [
    {
     "data": {
      "text/plain": [
       "[999, 4, 5]"
      ]
     },
     "execution_count": 20,
     "metadata": {},
     "output_type": "execute_result"
    }
   ],
   "source": [
    "lst_ss"
   ]
  },
  {
   "cell_type": "code",
   "execution_count": 21,
   "id": "4580c766",
   "metadata": {},
   "outputs": [
    {
     "data": {
      "text/plain": [
       "[1, 2, 3, 4, 5, 6]"
      ]
     },
     "execution_count": 21,
     "metadata": {},
     "output_type": "execute_result"
    }
   ],
   "source": [
    "lst"
   ]
  },
  {
   "cell_type": "markdown",
   "id": "44ef7dc6",
   "metadata": {},
   "source": [
    "### 변경불가한 문자열과 튜플 슬라이싱"
   ]
  },
  {
   "cell_type": "code",
   "execution_count": 9,
   "id": "e37575f0",
   "metadata": {},
   "outputs": [],
   "source": [
    "t = (1,2,3,4,5,6)"
   ]
  },
  {
   "cell_type": "code",
   "execution_count": 15,
   "id": "cd1a81dc",
   "metadata": {},
   "outputs": [
    {
     "data": {
      "text/plain": [
       "(3, 4, 5)"
      ]
     },
     "execution_count": 15,
     "metadata": {},
     "output_type": "execute_result"
    }
   ],
   "source": [
    "t[ss]"
   ]
  },
  {
   "cell_type": "code",
   "execution_count": 11,
   "id": "f127bdc2",
   "metadata": {},
   "outputs": [],
   "source": [
    "s = \"플루언트파이썬\""
   ]
  },
  {
   "cell_type": "code",
   "execution_count": 16,
   "id": "90659b25",
   "metadata": {},
   "outputs": [
    {
     "data": {
      "text/plain": [
       "'언트파'"
      ]
     },
     "execution_count": 16,
     "metadata": {},
     "output_type": "execute_result"
    }
   ],
   "source": [
    "s[ss]"
   ]
  },
  {
   "cell_type": "code",
   "execution_count": null,
   "id": "dc2bc10a",
   "metadata": {},
   "outputs": [],
   "source": []
  }
 ],
 "metadata": {
  "kernelspec": {
   "display_name": "Python 3 (ipykernel)",
   "language": "python",
   "name": "python3"
  },
  "language_info": {
   "codemirror_mode": {
    "name": "ipython",
    "version": 3
   },
   "file_extension": ".py",
   "mimetype": "text/x-python",
   "name": "python",
   "nbconvert_exporter": "python",
   "pygments_lexer": "ipython3",
   "version": "3.11.3"
  }
 },
 "nbformat": 4,
 "nbformat_minor": 5
}
