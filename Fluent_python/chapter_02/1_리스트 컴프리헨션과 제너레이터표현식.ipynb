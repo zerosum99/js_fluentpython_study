{
 "cells": [
  {
   "cell_type": "code",
   "execution_count": null,
   "id": "1f0cd3d0",
   "metadata": {},
   "outputs": [],
   "source": []
  },
  {
   "cell_type": "markdown",
   "id": "fdcd38d0",
   "metadata": {},
   "source": [
    "## 1. 추상클래스 알아보기 "
   ]
  },
  {
   "cell_type": "code",
   "execution_count": 1,
   "id": "c5a9c19c",
   "metadata": {},
   "outputs": [],
   "source": [
    "import collections.abc as abc"
   ]
  },
  {
   "cell_type": "code",
   "execution_count": 2,
   "id": "f1ffcbc0",
   "metadata": {},
   "outputs": [
    {
     "name": "stdout",
     "output_type": "stream",
     "text": [
      "AsyncGenerator, AsyncIterable, AsyncIterator, Awaitable, ByteString, Callable, Collection, Container, Coroutine, Generator, Hashable, ItemsView, Iterable, Iterator, KeysView, Mapping, MappingView, MutableMapping, MutableSequence, MutableSet, Reversible, Sequence, Set, Sized, ValuesView, _CallableGenericAlias, __all__, __builtins__, __cached__, __doc__, __file__, __loader__, __name__, __package__, __spec__, "
     ]
    }
   ],
   "source": [
    "for i in dir(abc) :\n",
    "    print(i,end=\", \")"
   ]
  },
  {
   "cell_type": "markdown",
   "id": "41dea2fe",
   "metadata": {},
   "source": [
    "## 1-1 최상위 추상클래스 "
   ]
  },
  {
   "cell_type": "code",
   "execution_count": 4,
   "id": "86af8a4c",
   "metadata": {},
   "outputs": [
    {
     "data": {
      "text/plain": [
       "frozenset({'__contains__'})"
      ]
     },
     "execution_count": 4,
     "metadata": {},
     "output_type": "execute_result"
    }
   ],
   "source": [
    "abc.Container.__abstractmethods__"
   ]
  },
  {
   "cell_type": "code",
   "execution_count": 13,
   "id": "353563fe",
   "metadata": {},
   "outputs": [
    {
     "data": {
      "text/plain": [
       "(object,)"
      ]
     },
     "execution_count": 13,
     "metadata": {},
     "output_type": "execute_result"
    }
   ],
   "source": [
    "abc.Container.__bases__"
   ]
  },
  {
   "cell_type": "code",
   "execution_count": 5,
   "id": "ea1bfbf1",
   "metadata": {},
   "outputs": [
    {
     "data": {
      "text/plain": [
       "frozenset({'__iter__'})"
      ]
     },
     "execution_count": 5,
     "metadata": {},
     "output_type": "execute_result"
    }
   ],
   "source": [
    "abc.Iterable.__abstractmethods__"
   ]
  },
  {
   "cell_type": "code",
   "execution_count": 14,
   "id": "29fd3c91",
   "metadata": {},
   "outputs": [
    {
     "data": {
      "text/plain": [
       "(object,)"
      ]
     },
     "execution_count": 14,
     "metadata": {},
     "output_type": "execute_result"
    }
   ],
   "source": [
    "abc.Iterable.__bases__"
   ]
  },
  {
   "cell_type": "code",
   "execution_count": 6,
   "id": "ed50974e",
   "metadata": {},
   "outputs": [
    {
     "data": {
      "text/plain": [
       "frozenset({'__len__'})"
      ]
     },
     "execution_count": 6,
     "metadata": {},
     "output_type": "execute_result"
    }
   ],
   "source": [
    "abc.Sized.__abstractmethods__"
   ]
  },
  {
   "cell_type": "code",
   "execution_count": 15,
   "id": "d0fccf7e",
   "metadata": {},
   "outputs": [
    {
     "data": {
      "text/plain": [
       "(object,)"
      ]
     },
     "execution_count": 15,
     "metadata": {},
     "output_type": "execute_result"
    }
   ],
   "source": [
    "abc.Sized.__bases__"
   ]
  },
  {
   "cell_type": "code",
   "execution_count": null,
   "id": "bb970e82",
   "metadata": {},
   "outputs": [],
   "source": []
  },
  {
   "cell_type": "markdown",
   "id": "31984edf",
   "metadata": {},
   "source": [
    "## 1-2 두번째 추상클래스 "
   ]
  },
  {
   "cell_type": "code",
   "execution_count": 9,
   "id": "124c57ae",
   "metadata": {},
   "outputs": [
    {
     "data": {
      "text/plain": [
       "frozenset({'__contains__', '__iter__', '__len__'})"
      ]
     },
     "execution_count": 9,
     "metadata": {},
     "output_type": "execute_result"
    }
   ],
   "source": [
    "abc.Collection.__abstractmethods__"
   ]
  },
  {
   "cell_type": "code",
   "execution_count": 10,
   "id": "f0de415a",
   "metadata": {},
   "outputs": [
    {
     "data": {
      "text/plain": [
       "(collections.abc.Sized, collections.abc.Iterable, collections.abc.Container)"
      ]
     },
     "execution_count": 10,
     "metadata": {},
     "output_type": "execute_result"
    }
   ],
   "source": [
    "abc.Collection.__bases__"
   ]
  },
  {
   "cell_type": "code",
   "execution_count": null,
   "id": "0a08441c",
   "metadata": {},
   "outputs": [],
   "source": []
  },
  {
   "cell_type": "code",
   "execution_count": 11,
   "id": "d38f2d65",
   "metadata": {},
   "outputs": [
    {
     "data": {
      "text/plain": [
       "frozenset({'__iter__', '__reversed__'})"
      ]
     },
     "execution_count": 11,
     "metadata": {},
     "output_type": "execute_result"
    }
   ],
   "source": [
    "abc.Reversible.__abstractmethods__"
   ]
  },
  {
   "cell_type": "code",
   "execution_count": 12,
   "id": "80398832",
   "metadata": {},
   "outputs": [
    {
     "data": {
      "text/plain": [
       "(collections.abc.Iterable,)"
      ]
     },
     "execution_count": 12,
     "metadata": {},
     "output_type": "execute_result"
    }
   ],
   "source": [
    "abc.Reversible.__bases__"
   ]
  },
  {
   "cell_type": "code",
   "execution_count": null,
   "id": "f584a369",
   "metadata": {},
   "outputs": [],
   "source": []
  },
  {
   "cell_type": "markdown",
   "id": "cd6adbac",
   "metadata": {},
   "source": [
    "## 1-3 시퀀스 추상 클래스 "
   ]
  },
  {
   "cell_type": "markdown",
   "id": "9e78aa75",
   "metadata": {},
   "source": [
    "### 변경불가 "
   ]
  },
  {
   "cell_type": "code",
   "execution_count": 7,
   "id": "6b4f2f14",
   "metadata": {},
   "outputs": [
    {
     "data": {
      "text/plain": [
       "frozenset({'__getitem__', '__len__'})"
      ]
     },
     "execution_count": 7,
     "metadata": {},
     "output_type": "execute_result"
    }
   ],
   "source": [
    "abc.Sequence.__abstractmethods__"
   ]
  },
  {
   "cell_type": "code",
   "execution_count": 8,
   "id": "8032ca66",
   "metadata": {},
   "outputs": [
    {
     "data": {
      "text/plain": [
       "(collections.abc.Reversible, collections.abc.Collection)"
      ]
     },
     "execution_count": 8,
     "metadata": {},
     "output_type": "execute_result"
    }
   ],
   "source": [
    "abc.Sequence.__bases__"
   ]
  },
  {
   "cell_type": "markdown",
   "id": "451aabf2",
   "metadata": {},
   "source": [
    "### 변경가능 "
   ]
  },
  {
   "cell_type": "code",
   "execution_count": 2,
   "id": "5a92b546",
   "metadata": {},
   "outputs": [
    {
     "data": {
      "text/plain": [
       "frozenset({'__delitem__', '__getitem__', '__len__', '__setitem__', 'insert'})"
      ]
     },
     "execution_count": 2,
     "metadata": {},
     "output_type": "execute_result"
    }
   ],
   "source": [
    "abc.MutableSequence.__abstractmethods__"
   ]
  },
  {
   "cell_type": "markdown",
   "id": "017416a4",
   "metadata": {},
   "source": [
    "### 리스트는 변경가능 "
   ]
  },
  {
   "cell_type": "code",
   "execution_count": 3,
   "id": "d66ca9e7",
   "metadata": {},
   "outputs": [
    {
     "data": {
      "text/plain": [
       "True"
      ]
     },
     "execution_count": 3,
     "metadata": {},
     "output_type": "execute_result"
    }
   ],
   "source": [
    "issubclass(list,abc.MutableSequence )"
   ]
  },
  {
   "cell_type": "code",
   "execution_count": null,
   "id": "7a586d01",
   "metadata": {},
   "outputs": [],
   "source": []
  },
  {
   "cell_type": "code",
   "execution_count": null,
   "id": "dd9a5e3a",
   "metadata": {},
   "outputs": [],
   "source": []
  },
  {
   "cell_type": "markdown",
   "id": "f93f7dcd",
   "metadata": {},
   "source": [
    "## 2. 리스트 컴프리헨션과 제너레이터 표현식 "
   ]
  },
  {
   "cell_type": "markdown",
   "id": "ea6282ee",
   "metadata": {},
   "source": [
    "## 2-1 리스트 컴프리헨션"
   ]
  },
  {
   "cell_type": "markdown",
   "id": "bca225cd",
   "metadata": {},
   "source": [
    "### 특정값 변경 "
   ]
  },
  {
   "cell_type": "code",
   "execution_count": 16,
   "id": "52e20619",
   "metadata": {},
   "outputs": [],
   "source": [
    "symbols = \"@#$%^&*\""
   ]
  },
  {
   "cell_type": "code",
   "execution_count": 17,
   "id": "fb2b9d72",
   "metadata": {},
   "outputs": [],
   "source": [
    "codes = [ord(symbol) for symbol in symbols]"
   ]
  },
  {
   "cell_type": "code",
   "execution_count": 18,
   "id": "c9a234f6",
   "metadata": {},
   "outputs": [
    {
     "data": {
      "text/plain": [
       "[64, 35, 36, 37, 94, 38, 42]"
      ]
     },
     "execution_count": 18,
     "metadata": {},
     "output_type": "execute_result"
    }
   ],
   "source": [
    "codes"
   ]
  },
  {
   "cell_type": "markdown",
   "id": "dbbb1253",
   "metadata": {},
   "source": [
    "### 특정값 필터링"
   ]
  },
  {
   "cell_type": "code",
   "execution_count": 19,
   "id": "0f022476",
   "metadata": {},
   "outputs": [],
   "source": [
    "codes_ = [ord(symbol) for symbol in symbols if ord(symbol) > 60]"
   ]
  },
  {
   "cell_type": "code",
   "execution_count": 20,
   "id": "d9e57f49",
   "metadata": {},
   "outputs": [
    {
     "data": {
      "text/plain": [
       "[64, 94]"
      ]
     },
     "execution_count": 20,
     "metadata": {},
     "output_type": "execute_result"
    }
   ],
   "source": [
    "codes_"
   ]
  },
  {
   "cell_type": "markdown",
   "id": "caa221cc",
   "metadata": {},
   "source": [
    "## 2-2 map/filter로 변경 및 필터링"
   ]
  },
  {
   "cell_type": "markdown",
   "id": "6fad2233",
   "metadata": {},
   "source": [
    "### 맵으로 변형하기 "
   ]
  },
  {
   "cell_type": "code",
   "execution_count": 23,
   "id": "d33d318e",
   "metadata": {},
   "outputs": [
    {
     "data": {
      "text/plain": [
       "<map at 0x107253e20>"
      ]
     },
     "execution_count": 23,
     "metadata": {},
     "output_type": "execute_result"
    }
   ],
   "source": [
    "map(ord, symbols)"
   ]
  },
  {
   "cell_type": "code",
   "execution_count": 24,
   "id": "105fb347",
   "metadata": {},
   "outputs": [
    {
     "data": {
      "text/plain": [
       "[64, 35, 36, 37, 94, 38, 42]"
      ]
     },
     "execution_count": 24,
     "metadata": {},
     "output_type": "execute_result"
    }
   ],
   "source": [
    "[*map(ord, symbols)]"
   ]
  },
  {
   "cell_type": "code",
   "execution_count": null,
   "id": "d1f14124",
   "metadata": {},
   "outputs": [],
   "source": []
  },
  {
   "cell_type": "markdown",
   "id": "4a4a2c5e",
   "metadata": {},
   "source": [
    "### 필터링 처리하기"
   ]
  },
  {
   "cell_type": "code",
   "execution_count": 21,
   "id": "b0eca92d",
   "metadata": {},
   "outputs": [
    {
     "data": {
      "text/plain": [
       "<filter at 0x107abada0>"
      ]
     },
     "execution_count": 21,
     "metadata": {},
     "output_type": "execute_result"
    }
   ],
   "source": [
    "filter(lambda c: c > 60, map(ord, symbols))"
   ]
  },
  {
   "cell_type": "code",
   "execution_count": 22,
   "id": "e5b0232f",
   "metadata": {},
   "outputs": [
    {
     "data": {
      "text/plain": [
       "[64, 94]"
      ]
     },
     "execution_count": 22,
     "metadata": {},
     "output_type": "execute_result"
    }
   ],
   "source": [
    "[*filter(lambda c: c > 60, map(ord, symbols))]"
   ]
  },
  {
   "cell_type": "code",
   "execution_count": null,
   "id": "2b5c1411",
   "metadata": {},
   "outputs": [],
   "source": []
  },
  {
   "cell_type": "code",
   "execution_count": null,
   "id": "807d61ac",
   "metadata": {},
   "outputs": [],
   "source": []
  },
  {
   "cell_type": "markdown",
   "id": "c061d965",
   "metadata": {},
   "source": [
    "## 3 제너레이트 표현식 "
   ]
  },
  {
   "cell_type": "markdown",
   "id": "cbfdb573",
   "metadata": {},
   "source": [
    "## 3-1 제너레이터 표현식 생성하기\n",
    "\n",
    "- 제너레이터는 한번 사용하면 더 사용할 수 없다\n",
    "- 다시 사용하려면 제너레이터를 다시 생성해야 함 "
   ]
  },
  {
   "cell_type": "markdown",
   "id": "f63405b0",
   "metadata": {},
   "source": [
    "### 제너레이터 표현식 생성 \n",
    "\n",
    "- 괄호가 있다고 튜플이 아님"
   ]
  },
  {
   "cell_type": "code",
   "execution_count": 39,
   "id": "be13a117",
   "metadata": {},
   "outputs": [],
   "source": [
    "gen = (ord(symbol) for symbol in symbols)"
   ]
  },
  {
   "cell_type": "markdown",
   "id": "737dc3fd",
   "metadata": {},
   "source": [
    "### 제너레이터 추상 클래스 "
   ]
  },
  {
   "cell_type": "code",
   "execution_count": 36,
   "id": "01febf2e",
   "metadata": {},
   "outputs": [
    {
     "data": {
      "text/plain": [
       "frozenset({'send', 'throw'})"
      ]
     },
     "execution_count": 36,
     "metadata": {},
     "output_type": "execute_result"
    }
   ],
   "source": [
    "abc.Generator.__abstractmethods__"
   ]
  },
  {
   "cell_type": "code",
   "execution_count": 35,
   "id": "99808d40",
   "metadata": {},
   "outputs": [
    {
     "data": {
      "text/plain": [
       "(collections.abc.Iterator,)"
      ]
     },
     "execution_count": 35,
     "metadata": {},
     "output_type": "execute_result"
    }
   ],
   "source": [
    "abc.Generator.__bases__"
   ]
  },
  {
   "cell_type": "code",
   "execution_count": null,
   "id": "22222803",
   "metadata": {},
   "outputs": [],
   "source": []
  },
  {
   "cell_type": "code",
   "execution_count": 33,
   "id": "2c9f45fc",
   "metadata": {},
   "outputs": [
    {
     "data": {
      "text/plain": [
       "True"
      ]
     },
     "execution_count": 33,
     "metadata": {},
     "output_type": "execute_result"
    }
   ],
   "source": [
    "isinstance(gen, abc.Generator)"
   ]
  },
  {
   "cell_type": "markdown",
   "id": "d23f1999",
   "metadata": {},
   "source": [
    "### 제너레이터의 값을 표시"
   ]
  },
  {
   "cell_type": "code",
   "execution_count": 37,
   "id": "9821ae55",
   "metadata": {},
   "outputs": [
    {
     "data": {
      "text/plain": [
       "<generator object <genexpr> at 0x105cf6a40>"
      ]
     },
     "execution_count": 37,
     "metadata": {},
     "output_type": "execute_result"
    }
   ],
   "source": [
    "gen"
   ]
  },
  {
   "cell_type": "code",
   "execution_count": 40,
   "id": "0ecc20b5",
   "metadata": {},
   "outputs": [
    {
     "data": {
      "text/plain": [
       "[64, 35, 36, 37, 94, 38, 42]"
      ]
     },
     "execution_count": 40,
     "metadata": {},
     "output_type": "execute_result"
    }
   ],
   "source": [
    "[*gen]"
   ]
  },
  {
   "cell_type": "code",
   "execution_count": null,
   "id": "4c663753",
   "metadata": {},
   "outputs": [],
   "source": []
  },
  {
   "cell_type": "markdown",
   "id": "d838a75a",
   "metadata": {},
   "source": [
    "## 3-2 다시 생성해서 처리하기"
   ]
  },
  {
   "cell_type": "code",
   "execution_count": 27,
   "id": "fe21b4a2",
   "metadata": {},
   "outputs": [
    {
     "data": {
      "text/plain": [
       "()"
      ]
     },
     "execution_count": 27,
     "metadata": {},
     "output_type": "execute_result"
    }
   ],
   "source": [
    "tuple(gen)"
   ]
  },
  {
   "cell_type": "code",
   "execution_count": 28,
   "id": "a956664e",
   "metadata": {},
   "outputs": [],
   "source": [
    "gen1 = (ord(symbol) for symbol in symbols)"
   ]
  },
  {
   "cell_type": "code",
   "execution_count": 30,
   "id": "d0df012b",
   "metadata": {},
   "outputs": [
    {
     "data": {
      "text/plain": [
       "(64, 35, 36, 37, 94, 38, 42)"
      ]
     },
     "execution_count": 30,
     "metadata": {},
     "output_type": "execute_result"
    }
   ],
   "source": [
    "tuple(gen1)"
   ]
  },
  {
   "cell_type": "code",
   "execution_count": null,
   "id": "3738325f",
   "metadata": {},
   "outputs": [],
   "source": []
  }
 ],
 "metadata": {
  "kernelspec": {
   "display_name": "Python 3 (ipykernel)",
   "language": "python",
   "name": "python3"
  },
  "language_info": {
   "codemirror_mode": {
    "name": "ipython",
    "version": 3
   },
   "file_extension": ".py",
   "mimetype": "text/x-python",
   "name": "python",
   "nbconvert_exporter": "python",
   "pygments_lexer": "ipython3",
   "version": "3.11.3"
  }
 },
 "nbformat": 4,
 "nbformat_minor": 5
}
