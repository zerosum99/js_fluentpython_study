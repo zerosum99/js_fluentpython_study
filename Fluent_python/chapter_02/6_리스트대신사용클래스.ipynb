{
 "cells": [
  {
   "cell_type": "code",
   "execution_count": null,
   "id": "7a4c2620",
   "metadata": {},
   "outputs": [],
   "source": []
  },
  {
   "cell_type": "markdown",
   "id": "1c4d8813",
   "metadata": {},
   "source": [
    "# 1. 배열\n",
    "\n"
   ]
  },
  {
   "cell_type": "markdown",
   "id": "3c790394",
   "metadata": {},
   "source": [
    "## 1-1 배열 "
   ]
  },
  {
   "cell_type": "code",
   "execution_count": 16,
   "id": "a47a2b61",
   "metadata": {},
   "outputs": [
    {
     "name": "stdout",
     "output_type": "stream",
     "text": [
      "Original Array: array('i', [1, 2, 3, 4, 5])\n",
      "After Appending: array('i', [1, 2, 3, 4, 5, 6])\n",
      "After Modifying: array('i', [1, 2, 10, 4, 5, 6])\n",
      "After Deleting: array('i', [1, 2, 10, 5, 6])\n"
     ]
    }
   ],
   "source": [
    "import array\n",
    "\n",
    "# 배열 생성 (타입 'i'는 정수형을 나타냄)\n",
    "my_array = array.array('i', [1, 2, 3, 4, 5])\n",
    "\n",
    "# 배열 출력\n",
    "print(\"Original Array:\", my_array)\n",
    "\n",
    "# 배열에 요소 추가\n",
    "my_array.append(6)\n",
    "print(\"After Appending:\", my_array)\n",
    "\n",
    "# 배열 요소 변경\n",
    "my_array[2] = 10\n",
    "print(\"After Modifying:\", my_array)\n",
    "\n",
    "# 배열 요소 삭제 (인덱스 3의 요소 삭제)\n",
    "del my_array[3]\n",
    "print(\"After Deleting:\", my_array)\n"
   ]
  },
  {
   "cell_type": "code",
   "execution_count": null,
   "id": "3a042566",
   "metadata": {},
   "outputs": [],
   "source": []
  },
  {
   "cell_type": "markdown",
   "id": "97267ca5",
   "metadata": {},
   "source": [
    "## 1-2 다차원 배열 "
   ]
  },
  {
   "cell_type": "code",
   "execution_count": 17,
   "id": "1387f34f",
   "metadata": {},
   "outputs": [
    {
     "name": "stdout",
     "output_type": "stream",
     "text": [
      "1D Array:\n",
      "[1 2 3 4 5]\n",
      "2D Array:\n",
      "[[1 2 3]\n",
      " [4 5 6]]\n",
      "Shape of arr2: (2, 3)\n",
      "Data Type of arr2: int64\n",
      "Multiplying 1D Array by 2:\n",
      "[ 2  4  6  8 10]\n",
      "Slicing arr2:\n",
      "[4 5 6]\n",
      "Adding 10 to arr2:\n",
      "[[11 12 13]\n",
      " [14 15 16]]\n",
      "Mean of arr2: 3.5\n"
     ]
    }
   ],
   "source": [
    "import numpy as np\n",
    "\n",
    "# 1차원 배열 생성\n",
    "arr1 = np.array([1, 2, 3, 4, 5])\n",
    "print(\"1D Array:\")\n",
    "print(arr1)\n",
    "\n",
    "# 2차원 배열 생성\n",
    "arr2 = np.array([[1, 2, 3], [4, 5, 6]])\n",
    "print(\"2D Array:\")\n",
    "print(arr2)\n",
    "\n",
    "# 배열 정보 출력\n",
    "print(\"Shape of arr2:\", arr2.shape)\n",
    "print(\"Data Type of arr2:\", arr2.dtype)\n",
    "\n",
    "# 배열 연산\n",
    "arr3 = arr1 * 2\n",
    "print(\"Multiplying 1D Array by 2:\")\n",
    "print(arr3)\n",
    "\n",
    "# 배열 슬라이싱\n",
    "print(\"Slicing arr2:\")\n",
    "print(arr2[1, :])  # 두 번째 행 출력\n",
    "\n",
    "# 배열 연산 (브로드캐스팅)\n",
    "arr4 = arr2 + 10\n",
    "print(\"Adding 10 to arr2:\")\n",
    "print(arr4)\n",
    "\n",
    "# 통계 연산\n",
    "mean_value = np.mean(arr2)\n",
    "print(\"Mean of arr2:\", mean_value)\n"
   ]
  },
  {
   "cell_type": "code",
   "execution_count": null,
   "id": "fc28d7bd",
   "metadata": {},
   "outputs": [],
   "source": []
  },
  {
   "cell_type": "markdown",
   "id": "3fa5f093",
   "metadata": {},
   "source": [
    "## 2. 자료구조"
   ]
  },
  {
   "cell_type": "code",
   "execution_count": null,
   "id": "67a34220",
   "metadata": {},
   "outputs": [],
   "source": []
  },
  {
   "cell_type": "markdown",
   "id": "93272c9f",
   "metadata": {},
   "source": [
    "## 2-1 스택 "
   ]
  },
  {
   "cell_type": "code",
   "execution_count": 2,
   "id": "2190a956",
   "metadata": {},
   "outputs": [],
   "source": [
    "stack = []\n",
    "stack.append(1)  # 요소를 스택에 추가\n",
    "stack.append(2)\n",
    "top_element = stack.pop()  # 스택에서 요소를 꺼내기\n"
   ]
  },
  {
   "cell_type": "code",
   "execution_count": 3,
   "id": "a1f4daba",
   "metadata": {},
   "outputs": [],
   "source": [
    "from collections import deque\n",
    "\n",
    "stack = deque()\n",
    "stack.append(1)\n",
    "stack.append(2)\n",
    "top_element = stack.pop()\n"
   ]
  },
  {
   "cell_type": "markdown",
   "id": "d6b29b43",
   "metadata": {},
   "source": [
    "## 2-2 큐"
   ]
  },
  {
   "cell_type": "code",
   "execution_count": 4,
   "id": "bcb69560",
   "metadata": {},
   "outputs": [],
   "source": [
    "queue = []\n",
    "queue.append(1)  # 요소를 큐에 추가\n",
    "queue.append(2)\n",
    "front_element = queue.pop(0)  # 큐에서 요소를 꺼내기\n"
   ]
  },
  {
   "cell_type": "code",
   "execution_count": 5,
   "id": "1c41970d",
   "metadata": {},
   "outputs": [],
   "source": [
    "from collections import deque\n",
    "\n",
    "queue = deque()\n",
    "queue.append(1)\n",
    "queue.append(2)\n",
    "front_element = queue.popleft()\n"
   ]
  },
  {
   "cell_type": "markdown",
   "id": "4c71ac02",
   "metadata": {},
   "source": [
    "## 2-3 deque"
   ]
  },
  {
   "cell_type": "code",
   "execution_count": 1,
   "id": "f1daee90",
   "metadata": {},
   "outputs": [
    {
     "name": "stdout",
     "output_type": "stream",
     "text": [
      "deque([2, 1])\n",
      "deque([])\n",
      "deque([1, 2, 3, 4, 5])\n"
     ]
    }
   ],
   "source": [
    "from collections import deque\n",
    "\n",
    "# 빈 deque 생성\n",
    "my_deque = deque()\n",
    "\n",
    "# 양 끝에 요소 추가\n",
    "my_deque.append(1)  # 오른쪽 끝에 1 추가\n",
    "my_deque.appendleft(2)  # 왼쪽 끝에 2 추가\n",
    "\n",
    "# deque 출력\n",
    "print(my_deque)  # deque([2, 1])\n",
    "\n",
    "# 양 끝에서 요소 제거\n",
    "my_deque.pop()  # 오른쪽 끝 요소 제거\n",
    "my_deque.popleft()  # 왼쪽 끝 요소 제거\n",
    "\n",
    "# deque 출력\n",
    "print(my_deque)  # deque([])\n",
    "\n",
    "# 여러 요소를 한 번에 추가\n",
    "my_deque.extend([3, 4, 5])  # 오른쪽 끝에 [3, 4, 5] 추가\n",
    "my_deque.extendleft([2, 1])  # 왼쪽 끝에 [2, 1] 추가\n",
    "\n",
    "# deque 출력\n",
    "print(my_deque)  # deque([1, 2, 3, 4, 5])\n"
   ]
  },
  {
   "cell_type": "code",
   "execution_count": null,
   "id": "ac5f93f4",
   "metadata": {},
   "outputs": [],
   "source": []
  },
  {
   "cell_type": "markdown",
   "id": "d56caf34",
   "metadata": {},
   "source": [
    "## 2-4 Queue 모듈 사용 "
   ]
  },
  {
   "cell_type": "code",
   "execution_count": null,
   "id": "8d62fa46",
   "metadata": {},
   "outputs": [],
   "source": []
  },
  {
   "cell_type": "code",
   "execution_count": 6,
   "id": "15ca2ec8",
   "metadata": {},
   "outputs": [],
   "source": [
    "import queue\n",
    "\n",
    "q = queue.Queue()\n",
    "q.put(1)\n",
    "q.put(2)\n",
    "front_element = q.get()\n"
   ]
  },
  {
   "cell_type": "code",
   "execution_count": 7,
   "id": "74ae3c48",
   "metadata": {},
   "outputs": [],
   "source": [
    "import queue\n",
    "\n",
    "stack = queue.LifoQueue()\n",
    "stack.put(1)\n",
    "stack.put(2)\n",
    "top_element = stack.get()\n"
   ]
  },
  {
   "cell_type": "code",
   "execution_count": null,
   "id": "24d1a425",
   "metadata": {},
   "outputs": [],
   "source": []
  },
  {
   "cell_type": "markdown",
   "id": "2d71c886",
   "metadata": {},
   "source": [
    "## 2-5 링크드리스트"
   ]
  },
  {
   "cell_type": "code",
   "execution_count": 9,
   "id": "d0d564c3",
   "metadata": {},
   "outputs": [],
   "source": [
    "class Node:\n",
    "    def __init__(self, data):\n",
    "        self.data = data\n",
    "        self.next = None\n",
    "\n",
    "class LinkedList:\n",
    "    def __init__(self):\n",
    "        self.head = None\n",
    "\n",
    "    def append(self, data):\n",
    "        new_node = Node(data)\n",
    "        if not self.head:\n",
    "            self.head = new_node\n",
    "        else:\n",
    "            current = self.head\n",
    "            while current.next:\n",
    "                current = current.next\n",
    "            current.next = new_node\n",
    "\n",
    "    def display(self):\n",
    "        current = self.head\n",
    "        while current:\n",
    "            print(current.data, end=\" -> \")\n",
    "            current = current.next\n",
    "        print(\"None\")\n",
    "\n",
    "# 링크드 리스트 생성\n",
    "my_linked_list = LinkedList()\n",
    "\n",
    "# 요소 추가\n",
    "my_linked_list.append(1)\n",
    "my_linked_list.append(2)\n",
    "my_linked_list.append(3)\n",
    "\n"
   ]
  },
  {
   "cell_type": "code",
   "execution_count": 10,
   "id": "08a9520f",
   "metadata": {},
   "outputs": [
    {
     "name": "stdout",
     "output_type": "stream",
     "text": [
      "1 -> 2 -> 3 -> None\n"
     ]
    }
   ],
   "source": [
    "# 링크드 리스트 출력\n",
    "my_linked_list.display()"
   ]
  },
  {
   "cell_type": "markdown",
   "id": "e9a67867",
   "metadata": {},
   "source": [
    "## 2-6 리스트 재귀호출 "
   ]
  },
  {
   "cell_type": "code",
   "execution_count": 14,
   "id": "72b32a8c",
   "metadata": {},
   "outputs": [],
   "source": [
    "def process_list(lst):\n",
    "    # 재귀 호출을 멈추는 조건: 빈 리스트인 경우\n",
    "    if not lst:\n",
    "        return\n",
    "    \n",
    "    # head (첫 번째 요소) 추출 및 처리\n",
    "    head = lst[0]\n",
    "    print(\"Head:\", head, end=\"  \")\n",
    "    \n",
    "    # tail (나머지 요소)을 재귀 호출로 처리\n",
    "    tail = lst[1:]\n",
    "    print(\"Tail:\", tail)\n",
    "    \n",
    "    process_list(tail)\n"
   ]
  },
  {
   "cell_type": "code",
   "execution_count": 15,
   "id": "f1b3b237",
   "metadata": {},
   "outputs": [
    {
     "name": "stdout",
     "output_type": "stream",
     "text": [
      "Head: 1  Tail: [2, 3, 4, 5]\n",
      "Head: 2  Tail: [3, 4, 5]\n",
      "Head: 3  Tail: [4, 5]\n",
      "Head: 4  Tail: [5]\n",
      "Head: 5  Tail: []\n"
     ]
    }
   ],
   "source": [
    "# 테스트용 리스트\n",
    "my_list = [1, 2, 3, 4, 5]\n",
    "\n",
    "# 리스트 처리 시작\n",
    "process_list(my_list)"
   ]
  },
  {
   "cell_type": "code",
   "execution_count": null,
   "id": "f5acd6c0",
   "metadata": {},
   "outputs": [],
   "source": []
  }
 ],
 "metadata": {
  "kernelspec": {
   "display_name": "Python 3 (ipykernel)",
   "language": "python",
   "name": "python3"
  },
  "language_info": {
   "codemirror_mode": {
    "name": "ipython",
    "version": 3
   },
   "file_extension": ".py",
   "mimetype": "text/x-python",
   "name": "python",
   "nbconvert_exporter": "python",
   "pygments_lexer": "ipython3",
   "version": "3.9.16"
  }
 },
 "nbformat": 4,
 "nbformat_minor": 5
}
