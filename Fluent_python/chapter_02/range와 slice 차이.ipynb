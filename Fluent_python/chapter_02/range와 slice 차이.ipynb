{
 "cells": [
  {
   "cell_type": "code",
   "execution_count": null,
   "id": "743ebeac",
   "metadata": {},
   "outputs": [],
   "source": []
  },
  {
   "cell_type": "code",
   "execution_count": 1,
   "id": "b8e05a44",
   "metadata": {},
   "outputs": [],
   "source": [
    "import collections.abc as abc"
   ]
  },
  {
   "cell_type": "code",
   "execution_count": null,
   "id": "b0cb7522",
   "metadata": {},
   "outputs": [],
   "source": []
  },
  {
   "cell_type": "markdown",
   "id": "11b98a8b",
   "metadata": {},
   "source": [
    "## 1. 범위 "
   ]
  },
  {
   "cell_type": "markdown",
   "id": "2ba9e075",
   "metadata": {},
   "source": [
    "## 범위는 클래스 "
   ]
  },
  {
   "cell_type": "code",
   "execution_count": 14,
   "id": "de984bb4",
   "metadata": {},
   "outputs": [],
   "source": [
    "rr = range(1,10)"
   ]
  },
  {
   "cell_type": "code",
   "execution_count": 15,
   "id": "fd96b334",
   "metadata": {},
   "outputs": [
    {
     "data": {
      "text/plain": [
       "range"
      ]
     },
     "execution_count": 15,
     "metadata": {},
     "output_type": "execute_result"
    }
   ],
   "source": [
    "rr.__class__"
   ]
  },
  {
   "cell_type": "markdown",
   "id": "96c7933f",
   "metadata": {},
   "source": [
    "## 범위는 반복하는 값을 표현 "
   ]
  },
  {
   "cell_type": "code",
   "execution_count": 4,
   "id": "f396a939",
   "metadata": {},
   "outputs": [
    {
     "data": {
      "text/plain": [
       "frozenset({'__iter__'})"
      ]
     },
     "execution_count": 4,
     "metadata": {},
     "output_type": "execute_result"
    }
   ],
   "source": [
    "abc.Iterable.__abstractmethods__"
   ]
  },
  {
   "cell_type": "code",
   "execution_count": 2,
   "id": "381062bc",
   "metadata": {},
   "outputs": [
    {
     "data": {
      "text/plain": [
       "True"
      ]
     },
     "execution_count": 2,
     "metadata": {},
     "output_type": "execute_result"
    }
   ],
   "source": [
    "issubclass(range, abc.Iterable)"
   ]
  },
  {
   "cell_type": "code",
   "execution_count": 8,
   "id": "73ca314d",
   "metadata": {},
   "outputs": [
    {
     "data": {
      "text/plain": [
       "<slot wrapper '__iter__' of 'range' objects>"
      ]
     },
     "execution_count": 8,
     "metadata": {},
     "output_type": "execute_result"
    }
   ],
   "source": [
    "range.__dict__ ['__iter__']"
   ]
  },
  {
   "cell_type": "code",
   "execution_count": 11,
   "id": "9afb603d",
   "metadata": {},
   "outputs": [
    {
     "name": "stdout",
     "output_type": "stream",
     "text": [
      "1, 2, 3, 4, 5, 6, 7, 8, 9, "
     ]
    }
   ],
   "source": [
    "for i in range(1,10) :\n",
    "    print(i, end=\", \")"
   ]
  },
  {
   "cell_type": "code",
   "execution_count": null,
   "id": "fefd258d",
   "metadata": {},
   "outputs": [],
   "source": []
  },
  {
   "cell_type": "markdown",
   "id": "3033d87a",
   "metadata": {},
   "source": [
    "## 2. 슬라이스 "
   ]
  },
  {
   "cell_type": "markdown",
   "id": "fd56b289",
   "metadata": {},
   "source": [
    "## 슬라이스는 클래스"
   ]
  },
  {
   "cell_type": "code",
   "execution_count": 12,
   "id": "c35c878c",
   "metadata": {},
   "outputs": [],
   "source": [
    "ss = slice(1,10)"
   ]
  },
  {
   "cell_type": "code",
   "execution_count": 13,
   "id": "40ccaf8c",
   "metadata": {},
   "outputs": [
    {
     "data": {
      "text/plain": [
       "slice"
      ]
     },
     "execution_count": 13,
     "metadata": {},
     "output_type": "execute_result"
    }
   ],
   "source": [
    "ss.__class__"
   ]
  },
  {
   "cell_type": "markdown",
   "id": "b0bd7361",
   "metadata": {},
   "source": [
    "## 슬라이스는 반복자가 아니라 단순하게 값을 생성 "
   ]
  },
  {
   "cell_type": "code",
   "execution_count": 3,
   "id": "1b3dc1cd",
   "metadata": {},
   "outputs": [
    {
     "data": {
      "text/plain": [
       "False"
      ]
     },
     "execution_count": 3,
     "metadata": {},
     "output_type": "execute_result"
    }
   ],
   "source": [
    "issubclass(slice, abc.Iterable)"
   ]
  },
  {
   "cell_type": "code",
   "execution_count": 9,
   "id": "26d6af39",
   "metadata": {},
   "outputs": [
    {
     "ename": "KeyError",
     "evalue": "'__iter__'",
     "output_type": "error",
     "traceback": [
      "\u001b[0;31m---------------------------------------------------------------------------\u001b[0m",
      "\u001b[0;31mKeyError\u001b[0m                                  Traceback (most recent call last)",
      "Cell \u001b[0;32mIn[9], line 1\u001b[0m\n\u001b[0;32m----> 1\u001b[0m \u001b[38;5;28;43mslice\u001b[39;49m\u001b[38;5;241;43m.\u001b[39;49m\u001b[38;5;18;43m__dict__\u001b[39;49m\u001b[43m \u001b[49m\u001b[43m[\u001b[49m\u001b[38;5;124;43m'\u001b[39;49m\u001b[38;5;124;43m__iter__\u001b[39;49m\u001b[38;5;124;43m'\u001b[39;49m\u001b[43m]\u001b[49m\n",
      "\u001b[0;31mKeyError\u001b[0m: '__iter__'"
     ]
    }
   ],
   "source": [
    "slice.__dict__ ['__iter__']"
   ]
  },
  {
   "cell_type": "code",
   "execution_count": 10,
   "id": "7bf5f171",
   "metadata": {},
   "outputs": [
    {
     "ename": "TypeError",
     "evalue": "'slice' object is not iterable",
     "output_type": "error",
     "traceback": [
      "\u001b[0;31m---------------------------------------------------------------------------\u001b[0m",
      "\u001b[0;31mTypeError\u001b[0m                                 Traceback (most recent call last)",
      "Cell \u001b[0;32mIn[10], line 1\u001b[0m\n\u001b[0;32m----> 1\u001b[0m \u001b[38;5;28;01mfor\u001b[39;00m i \u001b[38;5;129;01min\u001b[39;00m \u001b[38;5;28mslice\u001b[39m(\u001b[38;5;241m1\u001b[39m,\u001b[38;5;241m10\u001b[39m) :\n\u001b[1;32m      2\u001b[0m     \u001b[38;5;28mprint\u001b[39m(i, end\u001b[38;5;241m=\u001b[39m\u001b[38;5;124m\"\u001b[39m\u001b[38;5;124m, \u001b[39m\u001b[38;5;124m\"\u001b[39m)\n",
      "\u001b[0;31mTypeError\u001b[0m: 'slice' object is not iterable"
     ]
    }
   ],
   "source": [
    "for i in slice(1,10) :\n",
    "    print(i, end=\", \")"
   ]
  },
  {
   "cell_type": "code",
   "execution_count": null,
   "id": "83d2a67b",
   "metadata": {},
   "outputs": [],
   "source": []
  }
 ],
 "metadata": {
  "kernelspec": {
   "display_name": "Python 3 (ipykernel)",
   "language": "python",
   "name": "python3"
  },
  "language_info": {
   "codemirror_mode": {
    "name": "ipython",
    "version": 3
   },
   "file_extension": ".py",
   "mimetype": "text/x-python",
   "name": "python",
   "nbconvert_exporter": "python",
   "pygments_lexer": "ipython3",
   "version": "3.9.16"
  }
 },
 "nbformat": 4,
 "nbformat_minor": 5
}
