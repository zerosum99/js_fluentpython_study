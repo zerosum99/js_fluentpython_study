{
 "cells": [
  {
   "cell_type": "code",
   "execution_count": null,
   "id": "aca79a7b",
   "metadata": {},
   "outputs": [],
   "source": []
  },
  {
   "cell_type": "markdown",
   "id": "ce4557e8",
   "metadata": {},
   "source": [
    "## 1. 함수를 사용해서 합성함수 만들기 "
   ]
  },
  {
   "cell_type": "code",
   "execution_count": null,
   "id": "336719d5",
   "metadata": {},
   "outputs": [],
   "source": []
  },
  {
   "cell_type": "markdown",
   "id": "e4c01b95",
   "metadata": {},
   "source": [
    "## 1-1 함수를 인자로 전달해서 처리하기 "
   ]
  },
  {
   "cell_type": "markdown",
   "id": "44d2121b",
   "metadata": {},
   "source": [
    "## 맵리듀스 처리 알아보기 "
   ]
  },
  {
   "cell_type": "code",
   "execution_count": 40,
   "id": "5d4cf099",
   "metadata": {},
   "outputs": [],
   "source": [
    "# 예제 함수들\n",
    "def square(x):\n",
    "    print(\"x * x\", x*x)\n",
    "    return x * x\n",
    "\n",
    "def add_one(x):\n",
    "    print(\"x + 1\", x+1)\n",
    "    return x + 1\n",
    "\n",
    "def double(x):\n",
    "    print(\"x * 2\", x*2)\n",
    "    return x * 2\n",
    "\n",
    "def is_even(x):\n",
    "    return x % 2 == 0"
   ]
  },
  {
   "cell_type": "code",
   "execution_count": 41,
   "id": "cf38bbbb",
   "metadata": {},
   "outputs": [
    {
     "name": "stdout",
     "output_type": "stream",
     "text": [
      "x * x 1\n",
      "x * x 4\n",
      "x * x 9\n",
      "x * x 16\n",
      "x * x 25\n",
      "[1, 4, 9, 16, 25]\n"
     ]
    }
   ],
   "source": [
    "# 리스트의 각 요소에 square 함수를 적용\n",
    "numbers = [1, 2, 3, 4, 5]\n",
    "squared_numbers = list(map(square, numbers))\n",
    "\n",
    "print(squared_numbers)  # 출력: [1, 4, 9, 16, 25]"
   ]
  },
  {
   "cell_type": "code",
   "execution_count": null,
   "id": "64c401a5",
   "metadata": {},
   "outputs": [],
   "source": []
  },
  {
   "cell_type": "code",
   "execution_count": 42,
   "id": "89b269dc",
   "metadata": {},
   "outputs": [
    {
     "name": "stdout",
     "output_type": "stream",
     "text": [
      "x * x 1\n",
      "x * x 4\n",
      "x * x 9\n",
      "x * x 16\n",
      "x * x 25\n",
      "[1, 4, 9, 16, 25]\n"
     ]
    }
   ],
   "source": [
    "# 리스트 컴프리헨션으로 map 대체\n",
    "numbers = [1, 2, 3, 4, 5]\n",
    "squared_numbers = [square(x) for x in numbers]\n",
    "\n",
    "print(squared_numbers)  # 출력: [1, 4, 9, 16, 25]"
   ]
  },
  {
   "cell_type": "code",
   "execution_count": null,
   "id": "e7443fb7",
   "metadata": {},
   "outputs": [],
   "source": []
  },
  {
   "cell_type": "markdown",
   "id": "7e7a0baf",
   "metadata": {},
   "source": [
    "## 필터링 처리 "
   ]
  },
  {
   "cell_type": "code",
   "execution_count": 43,
   "id": "55aac703",
   "metadata": {},
   "outputs": [
    {
     "name": "stdout",
     "output_type": "stream",
     "text": [
      "[2, 4, 6, 8, 10]\n"
     ]
    }
   ],
   "source": [
    "# 리스트에서 짝수만 걸러냄\n",
    "numbers = [1, 2, 3, 4, 5, 6, 7, 8, 9, 10]\n",
    "even_numbers = list(filter(is_even, numbers))\n",
    "\n",
    "print(even_numbers)  # 출력: [2, 4, 6, 8, 10]"
   ]
  },
  {
   "cell_type": "code",
   "execution_count": null,
   "id": "ffb97d39",
   "metadata": {},
   "outputs": [],
   "source": []
  },
  {
   "cell_type": "code",
   "execution_count": 44,
   "id": "5dae8b80",
   "metadata": {},
   "outputs": [
    {
     "name": "stdout",
     "output_type": "stream",
     "text": [
      "[2, 4, 6, 8, 10]\n"
     ]
    }
   ],
   "source": [
    "# 리스트 컴프리헨션으로 filter 대체\n",
    "numbers = [1, 2, 3, 4, 5, 6, 7, 8, 9, 10]\n",
    "even_numbers = [x for x in numbers if is_even(x)]\n",
    "\n",
    "print(even_numbers)  # 출력: [2, 4, 6, 8, 10]"
   ]
  },
  {
   "cell_type": "code",
   "execution_count": null,
   "id": "6c452809",
   "metadata": {},
   "outputs": [],
   "source": []
  },
  {
   "cell_type": "markdown",
   "id": "8bc07b4f",
   "metadata": {},
   "source": [
    "## 리듀스 처리 "
   ]
  },
  {
   "cell_type": "code",
   "execution_count": 45,
   "id": "4132c491",
   "metadata": {},
   "outputs": [
    {
     "name": "stdout",
     "output_type": "stream",
     "text": [
      "x + 1 4\n",
      "x * 2 8\n",
      "x + 1 9\n",
      "x * x 81\n",
      "81\n"
     ]
    }
   ],
   "source": [
    "from functools import reduce\n",
    "\n",
    "\n",
    "# 함수 결합\n",
    "combined_function = reduce(lambda f, g: lambda x: f(g(x)), [square, add_one, double, add_one])\n",
    "\n",
    "# 결합된 함수 실행\n",
    "result = combined_function(3)\n",
    "print(result)  \n"
   ]
  },
  {
   "cell_type": "code",
   "execution_count": 46,
   "id": "c3cf6a72",
   "metadata": {},
   "outputs": [
    {
     "name": "stdout",
     "output_type": "stream",
     "text": [
      "x + 1 4\n",
      "x * x 16\n",
      "16\n"
     ]
    }
   ],
   "source": [
    "# 함수 결합\n",
    "combined_function = reduce(lambda f, g: lambda x: f(g(x)), [square, add_one])\n",
    "\n",
    "# 결합된 함수 실행\n",
    "result = combined_function(3)\n",
    "print(result)  \n"
   ]
  },
  {
   "cell_type": "code",
   "execution_count": 47,
   "id": "c8f1f36f",
   "metadata": {},
   "outputs": [
    {
     "name": "stdout",
     "output_type": "stream",
     "text": [
      "x * 2 6\n",
      "x + 1 7\n",
      "x * x 49\n",
      "49\n"
     ]
    }
   ],
   "source": [
    "# 함수 결합\n",
    "combined_function = reduce(lambda f, g: lambda x: f(g(x)), [square, add_one, double])\n",
    "\n",
    "# 결합된 함수 실행\n",
    "result = combined_function(3)\n",
    "print(result) "
   ]
  },
  {
   "cell_type": "code",
   "execution_count": null,
   "id": "55c8c32f",
   "metadata": {},
   "outputs": [],
   "source": []
  },
  {
   "cell_type": "markdown",
   "id": "f75f820b",
   "metadata": {},
   "source": [
    "## 1-2 여러개 함수를 합성하기 "
   ]
  },
  {
   "cell_type": "code",
   "execution_count": 48,
   "id": "d3dfee3d",
   "metadata": {},
   "outputs": [],
   "source": [
    "def compose(f, g):\n",
    "    \"\"\"\n",
    "    두 함수를 합성하는 함수\n",
    "    \"\"\"\n",
    "    return lambda x: f(g(x))\n"
   ]
  },
  {
   "cell_type": "code",
   "execution_count": 49,
   "id": "4db2dfeb",
   "metadata": {},
   "outputs": [],
   "source": [
    "# 예제 함수들\n",
    "def square(x):\n",
    "    return x * x\n",
    "\n",
    "def add_one(x):\n",
    "    return x + 1"
   ]
  },
  {
   "cell_type": "code",
   "execution_count": 50,
   "id": "ed0c8748",
   "metadata": {},
   "outputs": [
    {
     "name": "stdout",
     "output_type": "stream",
     "text": [
      "16\n"
     ]
    }
   ],
   "source": [
    "# 합성 함수 생성\n",
    "composed_function = compose(square, add_one)\n",
    "\n",
    "# 합성 함수 사용\n",
    "result = composed_function(3)\n",
    "print(result)  # 출력: 16 (square(add_one(3)))"
   ]
  },
  {
   "cell_type": "code",
   "execution_count": null,
   "id": "a93708eb",
   "metadata": {},
   "outputs": [],
   "source": []
  },
  {
   "cell_type": "code",
   "execution_count": null,
   "id": "8d08646b",
   "metadata": {},
   "outputs": [],
   "source": []
  },
  {
   "cell_type": "markdown",
   "id": "666a3e9b",
   "metadata": {},
   "source": [
    "## 2 합성함수를 다양하게 구현해 보기"
   ]
  },
  {
   "cell_type": "markdown",
   "id": "f3cdb7d4",
   "metadata": {},
   "source": [
    "## 2-1 함수를 전달된 다양한 처리 기법 알아보기\n",
    "\n",
    "- 코틀린의 let 및 apply 함수를 파이썬으로 구현하는 것은 가능합니다. \n",
    "- let 함수는 어떤 객체에 대해 특정 블록을 실행하고, 그 결과를 반환하는 함수입니다.\n",
    "- apply 함수는 특정 객체에 대해 특정 블록을 실행하며, 객체 자체를 반환하는 함수입니다."
   ]
  },
  {
   "cell_type": "code",
   "execution_count": 51,
   "id": "34921708",
   "metadata": {},
   "outputs": [],
   "source": [
    "class LetApplyExample:\n",
    "    def __init__(self, value):\n",
    "        self.value = value\n",
    "\n",
    "    def let(self, block):\n",
    "        return block(self.value)\n",
    "\n",
    "    def apply(self, block):\n",
    "        block(self.value)\n",
    "        return self\n",
    "\n"
   ]
  },
  {
   "cell_type": "code",
   "execution_count": 52,
   "id": "bed18eaf",
   "metadata": {},
   "outputs": [],
   "source": [
    "# 객체 생성\n",
    "example_object = LetApplyExample(5)"
   ]
  },
  {
   "cell_type": "code",
   "execution_count": null,
   "id": "256e40df",
   "metadata": {},
   "outputs": [],
   "source": []
  },
  {
   "cell_type": "code",
   "execution_count": 53,
   "id": "13a7a83d",
   "metadata": {},
   "outputs": [
    {
     "name": "stdout",
     "output_type": "stream",
     "text": [
      "10\n"
     ]
    }
   ],
   "source": [
    "# let 함수 사용\n",
    "result_let = example_object.let(lambda x: x * 2)\n",
    "print(result_let)  # 출력: 10"
   ]
  },
  {
   "cell_type": "code",
   "execution_count": null,
   "id": "aac42844",
   "metadata": {},
   "outputs": [],
   "source": []
  },
  {
   "cell_type": "code",
   "execution_count": 54,
   "id": "80cf20c9",
   "metadata": {},
   "outputs": [],
   "source": [
    "# 예제 함수\n",
    "def square_and_print(value):\n",
    "    squared = value ** 2\n",
    "    print(f\"Squared value: {squared}\")\n",
    "    return squared\n"
   ]
  },
  {
   "cell_type": "code",
   "execution_count": 55,
   "id": "b031228e",
   "metadata": {},
   "outputs": [
    {
     "name": "stdout",
     "output_type": "stream",
     "text": [
      "Squared value: 25\n",
      "5\n"
     ]
    }
   ],
   "source": [
    "# apply 함수 사용\n",
    "result_apply = example_object.apply(square_and_print)\n",
    "print(result_apply.value)  # 출력: 5 (원래 객체는 변경되지 않았음)"
   ]
  },
  {
   "cell_type": "code",
   "execution_count": null,
   "id": "eb562086",
   "metadata": {},
   "outputs": [],
   "source": []
  },
  {
   "cell_type": "code",
   "execution_count": null,
   "id": "8cbcee6e",
   "metadata": {},
   "outputs": [],
   "source": []
  },
  {
   "cell_type": "markdown",
   "id": "9b36bbed",
   "metadata": {},
   "source": [
    "## 2-2  합성함수를 클래스와 메서드로  정의하기 \n",
    "\n",
    "- ComposeFunctions 클래스는 초기에 주어진 함수들을 저장하고, \n",
    "- compose 메서드를 사용하여 두 함수를 합성합니다. \n",
    "- then 메서드는 새로운 함수들을 추가하고, \n",
    "- execute 메서드는 저장된 모든 함수들을 연속적으로 적용하여 최종 결과를 반환합니다."
   ]
  },
  {
   "cell_type": "code",
   "execution_count": null,
   "id": "b48c9c2b",
   "metadata": {},
   "outputs": [],
   "source": []
  },
  {
   "cell_type": "code",
   "execution_count": 56,
   "id": "da5a8317",
   "metadata": {},
   "outputs": [],
   "source": [
    "from functools import reduce\n",
    "from typing import Callable\n",
    "\n",
    "class ComposeFunctions:\n",
    "    def __init__(self, *functions: Callable):\n",
    "        self.functions = functions\n",
    "\n",
    "    def compose(self, f, g):\n",
    "        return lambda x: f(g(x))\n",
    "\n",
    "    def then(self, *functions: Callable) -> 'ComposeFunctions':\n",
    "        composed_functions = self.functions + functions\n",
    "        return ComposeFunctions(*composed_functions)\n",
    "\n",
    "    def execute(self, value):\n",
    "        return reduce(self.compose, self.functions, value)\n"
   ]
  },
  {
   "cell_type": "code",
   "execution_count": 57,
   "id": "84905680",
   "metadata": {},
   "outputs": [],
   "source": [
    "# 예제 함수들\n",
    "def square(x):\n",
    "    return x * x\n",
    "\n",
    "def add_one(x):\n",
    "    return x + 1\n",
    "\n",
    "def double(x):\n",
    "    return x * 2"
   ]
  },
  {
   "cell_type": "code",
   "execution_count": 58,
   "id": "fcca4bbc",
   "metadata": {},
   "outputs": [
    {
     "name": "stdout",
     "output_type": "stream",
     "text": [
      "<function ComposeFunctions.compose.<locals>.<lambda> at 0x112db82c0>\n"
     ]
    }
   ],
   "source": [
    "# 함수 합성\n",
    "composed = ComposeFunctions(square, add_one).then(double, add_one)\n",
    "\n",
    "# 합성 함수 실행\n",
    "result = composed.execute(3)\n",
    "print(result)  "
   ]
  },
  {
   "cell_type": "code",
   "execution_count": null,
   "id": "7c7e5369",
   "metadata": {},
   "outputs": [],
   "source": []
  }
 ],
 "metadata": {
  "kernelspec": {
   "display_name": "Python 3 (ipykernel)",
   "language": "python",
   "name": "python3"
  },
  "language_info": {
   "codemirror_mode": {
    "name": "ipython",
    "version": 3
   },
   "file_extension": ".py",
   "mimetype": "text/x-python",
   "name": "python",
   "nbconvert_exporter": "python",
   "pygments_lexer": "ipython3",
   "version": "3.11.3"
  }
 },
 "nbformat": 4,
 "nbformat_minor": 5
}
