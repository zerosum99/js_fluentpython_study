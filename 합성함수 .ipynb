{
 "cells": [
  {
   "cell_type": "code",
   "execution_count": null,
   "id": "edb22969",
   "metadata": {},
   "outputs": [],
   "source": []
  },
  {
   "cell_type": "markdown",
   "id": "85301cb2",
   "metadata": {},
   "source": [
    "## 1. 함수를 사용해서 합성함수 만들기 "
   ]
  },
  {
   "cell_type": "code",
   "execution_count": 5,
   "id": "7ddec305",
   "metadata": {},
   "outputs": [],
   "source": [
    "def compose(f, g):\n",
    "    \"\"\"\n",
    "    두 함수를 합성하는 함수\n",
    "    \"\"\"\n",
    "    return lambda x: f(g(x))\n"
   ]
  },
  {
   "cell_type": "code",
   "execution_count": 6,
   "id": "b742b130",
   "metadata": {},
   "outputs": [],
   "source": [
    "# 예제 함수들\n",
    "def square(x):\n",
    "    return x * x\n",
    "\n",
    "def add_one(x):\n",
    "    return x + 1"
   ]
  },
  {
   "cell_type": "code",
   "execution_count": 7,
   "id": "737141fa",
   "metadata": {},
   "outputs": [
    {
     "name": "stdout",
     "output_type": "stream",
     "text": [
      "16\n"
     ]
    }
   ],
   "source": [
    "# 합성 함수 생성\n",
    "composed_function = compose(square, add_one)\n",
    "\n",
    "# 합성 함수 사용\n",
    "result = composed_function(3)\n",
    "print(result)  # 출력: 16 (square(add_one(3)))"
   ]
  },
  {
   "cell_type": "code",
   "execution_count": null,
   "id": "c1a0eaeb",
   "metadata": {},
   "outputs": [],
   "source": []
  },
  {
   "cell_type": "markdown",
   "id": "0ec0a8a9",
   "metadata": {},
   "source": [
    "## 2. 함수함수를 클래스와 메서드로  정의하기 \n",
    "\n",
    "- ComposeFunctions 클래스는 초기에 주어진 함수들을 저장하고, \n",
    "- compose 메서드를 사용하여 두 함수를 합성합니다. \n",
    "- then 메서드는 새로운 함수들을 추가하고, \n",
    "- execute 메서드는 저장된 모든 함수들을 연속적으로 적용하여 최종 결과를 반환합니다."
   ]
  },
  {
   "cell_type": "code",
   "execution_count": 8,
   "id": "8e8b4552",
   "metadata": {},
   "outputs": [],
   "source": [
    "from functools import reduce\n",
    "from typing import Callable\n",
    "\n",
    "class ComposeFunctions:\n",
    "    def __init__(self, *functions: Callable):\n",
    "        self.functions = functions\n",
    "\n",
    "    def compose(self, f, g):\n",
    "        return lambda x: f(g(x))\n",
    "\n",
    "    def then(self, *functions: Callable) -> 'ComposeFunctions':\n",
    "        composed_functions = self.functions + functions\n",
    "        return ComposeFunctions(*composed_functions)\n",
    "\n",
    "    def execute(self, value):\n",
    "        return reduce(self.compose, self.functions, value)\n"
   ]
  },
  {
   "cell_type": "code",
   "execution_count": 9,
   "id": "afe6278b",
   "metadata": {},
   "outputs": [],
   "source": [
    "# 예제 함수들\n",
    "def square(x):\n",
    "    return x * x\n",
    "\n",
    "def add_one(x):\n",
    "    return x + 1\n",
    "\n",
    "def double(x):\n",
    "    return x * 2"
   ]
  },
  {
   "cell_type": "code",
   "execution_count": 4,
   "id": "645137c5",
   "metadata": {},
   "outputs": [
    {
     "name": "stdout",
     "output_type": "stream",
     "text": [
      "<function ComposeFunctions.compose.<locals>.<lambda> at 0x11288c4a0>\n"
     ]
    }
   ],
   "source": [
    "# 함수 합성\n",
    "composed = ComposeFunctions(square, add_one).then(double, add_one)\n",
    "\n",
    "# 합성 함수 실행\n",
    "result = composed.execute(3)\n",
    "print(result)  # 출력: ((3 + 1) ** 2) * 2 + 1 = 29"
   ]
  },
  {
   "cell_type": "code",
   "execution_count": null,
   "id": "6dc6ac91",
   "metadata": {},
   "outputs": [],
   "source": []
  }
 ],
 "metadata": {
  "kernelspec": {
   "display_name": "Python 3 (ipykernel)",
   "language": "python",
   "name": "python3"
  },
  "language_info": {
   "codemirror_mode": {
    "name": "ipython",
    "version": 3
   },
   "file_extension": ".py",
   "mimetype": "text/x-python",
   "name": "python",
   "nbconvert_exporter": "python",
   "pygments_lexer": "ipython3",
   "version": "3.11.3"
  }
 },
 "nbformat": 4,
 "nbformat_minor": 5
}
