{
 "cells": [
  {
   "cell_type": "code",
   "execution_count": 17,
   "id": "14b81f38-3176-41df-94da-3ceb4129aaba",
   "metadata": {},
   "outputs": [
    {
     "name": "stdout",
     "output_type": "stream",
     "text": [
      "\n",
      "     active environment : pycaret\n",
      "    active env location : /Users/a06411/opt/anaconda3/envs/pycaret\n",
      "            shell level : 2\n",
      "       user config file : /Users/a06411/.condarc\n",
      " populated config files : /Users/a06411/.condarc\n",
      "          conda version : 23.3.1\n",
      "    conda-build version : 3.24.0\n",
      "         python version : 3.9.16.final.0\n",
      "       virtual packages : __archspec=1=arm64\n",
      "                          __osx=13.5=0\n",
      "                          __unix=0=0\n",
      "       base environment : /Users/a06411/opt/anaconda3  (writable)\n",
      "      conda av data dir : /Users/a06411/opt/anaconda3/etc/conda\n",
      "  conda av metadata url : None\n",
      "           channel URLs : https://conda.anaconda.org/conda-forge/osx-arm64\n",
      "                          https://conda.anaconda.org/conda-forge/noarch\n",
      "                          https://repo.anaconda.com/pkgs/main/osx-arm64\n",
      "                          https://repo.anaconda.com/pkgs/main/noarch\n",
      "                          https://repo.anaconda.com/pkgs/r/osx-arm64\n",
      "                          https://repo.anaconda.com/pkgs/r/noarch\n",
      "          package cache : /Users/a06411/opt/anaconda3/pkgs\n",
      "                          /Users/a06411/.conda/pkgs\n",
      "       envs directories : /Users/a06411/opt/anaconda3/envs\n",
      "                          /Users/a06411/.conda/envs\n",
      "               platform : osx-arm64\n",
      "             user-agent : conda/23.3.1 requests/2.28.2 CPython/3.9.16 Darwin/22.6.0 OSX/13.5\n",
      "                UID:GID : 501:20\n",
      "             netrc file : None\n",
      "           offline mode : False\n",
      "\n"
     ]
    }
   ],
   "source": [
    "!conda info"
   ]
  },
  {
   "cell_type": "code",
   "execution_count": 2,
   "id": "dbf303cc-da80-408d-8931-2540252aa045",
   "metadata": {},
   "outputs": [],
   "source": [
    "import platform"
   ]
  },
  {
   "cell_type": "code",
   "execution_count": null,
   "id": "c1d4dd73-5598-4d71-b12c-ec14212f2652",
   "metadata": {},
   "outputs": [],
   "source": []
  },
  {
   "cell_type": "code",
   "execution_count": 3,
   "id": "0e40a314-ef89-4335-baf1-0e110e8bfc10",
   "metadata": {},
   "outputs": [
    {
     "data": {
      "text/plain": [
       "'3.9.16'"
      ]
     },
     "execution_count": 3,
     "metadata": {},
     "output_type": "execute_result"
    }
   ],
   "source": [
    "platform.python_version()"
   ]
  },
  {
   "cell_type": "code",
   "execution_count": 4,
   "id": "13654500-a163-4e51-9009-20bd7857dfdd",
   "metadata": {},
   "outputs": [
    {
     "name": "stdout",
     "output_type": "stream",
     "text": [
      "Collecting polars\n",
      "  Obtaining dependency information for polars from https://files.pythonhosted.org/packages/c6/e2/4e7df6e1662d7b5696280d80a4ee7816bf980537eafa11a520077f7363d1/polars-0.19.7-cp38-abi3-macosx_11_0_arm64.whl.metadata\n",
      "  Downloading polars-0.19.7-cp38-abi3-macosx_11_0_arm64.whl.metadata (14 kB)\n",
      "Downloading polars-0.19.7-cp38-abi3-macosx_11_0_arm64.whl (23.1 MB)\n",
      "\u001b[2K   \u001b[90m━━━━━━━━━━━━━━━━━━━━━━━━━━━━━━━━━━━━━━━━\u001b[0m \u001b[32m23.1/23.1 MB\u001b[0m \u001b[31m11.8 MB/s\u001b[0m eta \u001b[36m0:00:00\u001b[0m00:01\u001b[0m00:01\u001b[0m\n",
      "\u001b[?25hInstalling collected packages: polars\n",
      "Successfully installed polars-0.19.7\n",
      "Note: you may need to restart the kernel to use updated packages.\n"
     ]
    }
   ],
   "source": [
    "pip install polars"
   ]
  },
  {
   "cell_type": "code",
   "execution_count": 6,
   "id": "f10e62c7-754a-485f-b12d-24049ee6f9bd",
   "metadata": {},
   "outputs": [],
   "source": [
    "import numpy as np"
   ]
  },
  {
   "cell_type": "code",
   "execution_count": 5,
   "id": "66dc7067-e145-4285-8e66-a39ce03a4459",
   "metadata": {},
   "outputs": [],
   "source": [
    "import polars as pl"
   ]
  },
  {
   "cell_type": "code",
   "execution_count": 8,
   "id": "b238c6aa-57eb-4945-94fa-a656931db01c",
   "metadata": {},
   "outputs": [],
   "source": [
    "num_rows = 5000\n",
    "rng = np.random.default_rng(seed=7)"
   ]
  },
  {
   "cell_type": "code",
   "execution_count": 10,
   "id": "7750637e-654d-475a-8120-e0d02fd53646",
   "metadata": {},
   "outputs": [],
   "source": [
    "buildings_data = {\n",
    "     \"sqft\": rng.exponential(scale=1000, size=num_rows),\n",
    "      \"year\": rng.integers(low=1995, high=2023, size=num_rows),\n",
    "      \"building_type\": rng.choice([\"A\", \"B\", \"C\"], size=num_rows),\n",
    "}     "
   ]
  },
  {
   "cell_type": "code",
   "execution_count": 11,
   "id": "8a0f6e6b-836e-4d85-a3f9-24615351f681",
   "metadata": {},
   "outputs": [],
   "source": [
    "buildings = pl.DataFrame(buildings_data)"
   ]
  },
  {
   "cell_type": "code",
   "execution_count": 12,
   "id": "e17366cb-586f-4589-96af-69b59dbbe146",
   "metadata": {},
   "outputs": [
    {
     "data": {
      "text/html": [
       "<div><style>\n",
       ".dataframe > thead > tr > th,\n",
       ".dataframe > tbody > tr > td {\n",
       "  text-align: right;\n",
       "  white-space: pre-wrap;\n",
       "}\n",
       "</style>\n",
       "<small>shape: (5_000, 3)</small><table border=\"1\" class=\"dataframe\"><thead><tr><th>sqft</th><th>year</th><th>building_type</th></tr><tr><td>f64</td><td>i64</td><td>str</td></tr></thead><tbody><tr><td>1076.780004</td><td>2022</td><td>&quot;A&quot;</td></tr><tr><td>593.360109</td><td>2010</td><td>&quot;C&quot;</td></tr><tr><td>2425.167196</td><td>2002</td><td>&quot;C&quot;</td></tr><tr><td>576.362659</td><td>2016</td><td>&quot;A&quot;</td></tr><tr><td>84.730397</td><td>2007</td><td>&quot;C&quot;</td></tr><tr><td>695.141822</td><td>2003</td><td>&quot;B&quot;</td></tr><tr><td>468.345501</td><td>2008</td><td>&quot;B&quot;</td></tr><tr><td>295.852708</td><td>2021</td><td>&quot;A&quot;</td></tr><tr><td>331.387475</td><td>2008</td><td>&quot;B&quot;</td></tr><tr><td>1954.086547</td><td>2002</td><td>&quot;A&quot;</td></tr><tr><td>368.216209</td><td>2005</td><td>&quot;C&quot;</td></tr><tr><td>961.744857</td><td>2022</td><td>&quot;B&quot;</td></tr><tr><td>&hellip;</td><td>&hellip;</td><td>&hellip;</td></tr><tr><td>443.402087</td><td>2020</td><td>&quot;A&quot;</td></tr><tr><td>4123.990421</td><td>2015</td><td>&quot;C&quot;</td></tr><tr><td>106.41026</td><td>2021</td><td>&quot;C&quot;</td></tr><tr><td>2584.860012</td><td>2009</td><td>&quot;C&quot;</td></tr><tr><td>654.696273</td><td>1996</td><td>&quot;C&quot;</td></tr><tr><td>835.000491</td><td>2018</td><td>&quot;B&quot;</td></tr><tr><td>1378.019859</td><td>2020</td><td>&quot;C&quot;</td></tr><tr><td>986.013317</td><td>1999</td><td>&quot;A&quot;</td></tr><tr><td>1773.711202</td><td>2021</td><td>&quot;A&quot;</td></tr><tr><td>1735.852476</td><td>2017</td><td>&quot;C&quot;</td></tr><tr><td>298.91141</td><td>2000</td><td>&quot;B&quot;</td></tr><tr><td>884.195814</td><td>2007</td><td>&quot;C&quot;</td></tr></tbody></table></div>"
      ],
      "text/plain": [
       "shape: (5_000, 3)\n",
       "┌─────────────┬──────┬───────────────┐\n",
       "│ sqft        ┆ year ┆ building_type │\n",
       "│ ---         ┆ ---  ┆ ---           │\n",
       "│ f64         ┆ i64  ┆ str           │\n",
       "╞═════════════╪══════╪═══════════════╡\n",
       "│ 1076.780004 ┆ 2022 ┆ A             │\n",
       "│ 593.360109  ┆ 2010 ┆ C             │\n",
       "│ 2425.167196 ┆ 2002 ┆ C             │\n",
       "│ 576.362659  ┆ 2016 ┆ A             │\n",
       "│ …           ┆ …    ┆ …             │\n",
       "│ 1773.711202 ┆ 2021 ┆ A             │\n",
       "│ 1735.852476 ┆ 2017 ┆ C             │\n",
       "│ 298.91141   ┆ 2000 ┆ B             │\n",
       "│ 884.195814  ┆ 2007 ┆ C             │\n",
       "└─────────────┴──────┴───────────────┘"
      ]
     },
     "execution_count": 12,
     "metadata": {},
     "output_type": "execute_result"
    }
   ],
   "source": [
    "buildings"
   ]
  },
  {
   "cell_type": "code",
   "execution_count": 13,
   "id": "16e41e38-a6fa-457f-9907-68b854f48290",
   "metadata": {},
   "outputs": [
    {
     "data": {
      "text/plain": [
       "(5000, 3)"
      ]
     },
     "execution_count": 13,
     "metadata": {},
     "output_type": "execute_result"
    }
   ],
   "source": [
    "buildings.shape"
   ]
  },
  {
   "cell_type": "code",
   "execution_count": 14,
   "id": "85d55708-3ddc-4a43-b24c-53dc58115bd2",
   "metadata": {},
   "outputs": [
    {
     "data": {
      "text/html": [
       "<div><style>\n",
       ".dataframe > thead > tr > th,\n",
       ".dataframe > tbody > tr > td {\n",
       "  text-align: right;\n",
       "  white-space: pre-wrap;\n",
       "}\n",
       "</style>\n",
       "<small>shape: (5, 3)</small><table border=\"1\" class=\"dataframe\"><thead><tr><th>sqft</th><th>year</th><th>building_type</th></tr><tr><td>f64</td><td>i64</td><td>str</td></tr></thead><tbody><tr><td>1076.780004</td><td>2022</td><td>&quot;A&quot;</td></tr><tr><td>593.360109</td><td>2010</td><td>&quot;C&quot;</td></tr><tr><td>2425.167196</td><td>2002</td><td>&quot;C&quot;</td></tr><tr><td>576.362659</td><td>2016</td><td>&quot;A&quot;</td></tr><tr><td>84.730397</td><td>2007</td><td>&quot;C&quot;</td></tr></tbody></table></div>"
      ],
      "text/plain": [
       "shape: (5, 3)\n",
       "┌─────────────┬──────┬───────────────┐\n",
       "│ sqft        ┆ year ┆ building_type │\n",
       "│ ---         ┆ ---  ┆ ---           │\n",
       "│ f64         ┆ i64  ┆ str           │\n",
       "╞═════════════╪══════╪═══════════════╡\n",
       "│ 1076.780004 ┆ 2022 ┆ A             │\n",
       "│ 593.360109  ┆ 2010 ┆ C             │\n",
       "│ 2425.167196 ┆ 2002 ┆ C             │\n",
       "│ 576.362659  ┆ 2016 ┆ A             │\n",
       "│ 84.730397   ┆ 2007 ┆ C             │\n",
       "└─────────────┴──────┴───────────────┘"
      ]
     },
     "execution_count": 14,
     "metadata": {},
     "output_type": "execute_result"
    }
   ],
   "source": [
    "buildings.head()"
   ]
  },
  {
   "cell_type": "code",
   "execution_count": 15,
   "id": "dedf433c-080c-4adc-8f03-91fb816d1321",
   "metadata": {},
   "outputs": [
    {
     "data": {
      "text/html": [
       "<div><style>\n",
       ".dataframe > thead > tr > th,\n",
       ".dataframe > tbody > tr > td {\n",
       "  text-align: right;\n",
       "  white-space: pre-wrap;\n",
       "}\n",
       "</style>\n",
       "<small>shape: (5, 3)</small><table border=\"1\" class=\"dataframe\"><thead><tr><th>sqft</th><th>year</th><th>building_type</th></tr><tr><td>f64</td><td>i64</td><td>str</td></tr></thead><tbody><tr><td>986.013317</td><td>1999</td><td>&quot;A&quot;</td></tr><tr><td>1773.711202</td><td>2021</td><td>&quot;A&quot;</td></tr><tr><td>1735.852476</td><td>2017</td><td>&quot;C&quot;</td></tr><tr><td>298.91141</td><td>2000</td><td>&quot;B&quot;</td></tr><tr><td>884.195814</td><td>2007</td><td>&quot;C&quot;</td></tr></tbody></table></div>"
      ],
      "text/plain": [
       "shape: (5, 3)\n",
       "┌─────────────┬──────┬───────────────┐\n",
       "│ sqft        ┆ year ┆ building_type │\n",
       "│ ---         ┆ ---  ┆ ---           │\n",
       "│ f64         ┆ i64  ┆ str           │\n",
       "╞═════════════╪══════╪═══════════════╡\n",
       "│ 986.013317  ┆ 1999 ┆ A             │\n",
       "│ 1773.711202 ┆ 2021 ┆ A             │\n",
       "│ 1735.852476 ┆ 2017 ┆ C             │\n",
       "│ 298.91141   ┆ 2000 ┆ B             │\n",
       "│ 884.195814  ┆ 2007 ┆ C             │\n",
       "└─────────────┴──────┴───────────────┘"
      ]
     },
     "execution_count": 15,
     "metadata": {},
     "output_type": "execute_result"
    }
   ],
   "source": [
    "buildings.tail()"
   ]
  },
  {
   "cell_type": "code",
   "execution_count": 16,
   "id": "d672564b-5c4c-40c6-a195-b96bc4ce536c",
   "metadata": {},
   "outputs": [
    {
     "data": {
      "text/plain": [
       "{'sqft': Float64, 'year': Int64, 'building_type': Utf8}"
      ]
     },
     "execution_count": 16,
     "metadata": {},
     "output_type": "execute_result"
    }
   ],
   "source": [
    "buildings.schema"
   ]
  },
  {
   "cell_type": "code",
   "execution_count": null,
   "id": "e43845b8-4fd6-4a9c-99cf-71366ec97bba",
   "metadata": {},
   "outputs": [],
   "source": []
  }
 ],
 "metadata": {
  "kernelspec": {
   "display_name": "Python 3 (ipykernel)",
   "language": "python",
   "name": "python3"
  },
  "language_info": {
   "codemirror_mode": {
    "name": "ipython",
    "version": 3
   },
   "file_extension": ".py",
   "mimetype": "text/x-python",
   "name": "python",
   "nbconvert_exporter": "python",
   "pygments_lexer": "ipython3",
   "version": "3.9.18"
  }
 },
 "nbformat": 4,
 "nbformat_minor": 5
}
